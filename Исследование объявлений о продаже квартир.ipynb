{
 "cells": [
  {
   "cell_type": "markdown",
   "metadata": {},
   "source": [
    "# Исследование объявлений о продаже квартир\n",
    "\n",
    "В нашем распоряжении данные сервиса Яндекс.Недвижимость — архив объявлений о продаже квартир в Санкт-Петербурге и соседних населённых пунктов за несколько лет. Нужно научиться определять рыночную стоимость объектов недвижимости. Ваша задача — установить параметры. Это позволит построить автоматизированную систему: она отследит аномалии и мошенническую деятельность. \n",
    "\n",
    "По каждой квартире на продажу доступны два вида данных. Первые вписаны пользователем, вторые — получены автоматически на основе картографических данных. Например, расстояние до центра, аэропорта, ближайшего парка и водоёма. "
   ]
  },
  {
   "cell_type": "markdown",
   "metadata": {},
   "source": [
    "### Откроем файл с данными и изучите общую информацию. "
   ]
  },
  {
   "cell_type": "code",
   "execution_count": 2,
   "metadata": {},
   "outputs": [],
   "source": [
    "import pandas as pd\n",
    "import datetime as dt\n",
    "from matplotlib import pyplot as plt\n",
    "import matplotlib\n",
    "import plotly.express as px"
   ]
  },
  {
   "cell_type": "code",
   "execution_count": 3,
   "metadata": {},
   "outputs": [
    {
     "data": {
      "text/html": [
       "<div>\n",
       "<style scoped>\n",
       "    .dataframe tbody tr th:only-of-type {\n",
       "        vertical-align: middle;\n",
       "    }\n",
       "\n",
       "    .dataframe tbody tr th {\n",
       "        vertical-align: top;\n",
       "    }\n",
       "\n",
       "    .dataframe thead th {\n",
       "        text-align: right;\n",
       "    }\n",
       "</style>\n",
       "<table border=\"1\" class=\"dataframe\">\n",
       "  <thead>\n",
       "    <tr style=\"text-align: right;\">\n",
       "      <th></th>\n",
       "      <th>total_images</th>\n",
       "      <th>last_price</th>\n",
       "      <th>total_area</th>\n",
       "      <th>first_day_exposition</th>\n",
       "      <th>rooms</th>\n",
       "      <th>ceiling_height</th>\n",
       "      <th>floors_total</th>\n",
       "      <th>living_area</th>\n",
       "      <th>floor</th>\n",
       "      <th>is_apartment</th>\n",
       "      <th>studio</th>\n",
       "      <th>open_plan</th>\n",
       "      <th>kitchen_area</th>\n",
       "      <th>balcony</th>\n",
       "      <th>locality_name</th>\n",
       "      <th>airports_nearest</th>\n",
       "      <th>cityCenters_nearest</th>\n",
       "      <th>parks_around3000</th>\n",
       "      <th>parks_nearest</th>\n",
       "      <th>ponds_around3000</th>\n",
       "      <th>ponds_nearest</th>\n",
       "      <th>days_exposition</th>\n",
       "    </tr>\n",
       "  </thead>\n",
       "  <tbody>\n",
       "    <tr>\n",
       "      <th>0</th>\n",
       "      <td>20</td>\n",
       "      <td>13000000.0</td>\n",
       "      <td>108.0</td>\n",
       "      <td>2019-03-07T00:00:00</td>\n",
       "      <td>3</td>\n",
       "      <td>2.70</td>\n",
       "      <td>16.0</td>\n",
       "      <td>51.0</td>\n",
       "      <td>8</td>\n",
       "      <td>NaN</td>\n",
       "      <td>False</td>\n",
       "      <td>False</td>\n",
       "      <td>25.0</td>\n",
       "      <td>NaN</td>\n",
       "      <td>Санкт-Петербург</td>\n",
       "      <td>18863.0</td>\n",
       "      <td>16028.0</td>\n",
       "      <td>1.0</td>\n",
       "      <td>482.0</td>\n",
       "      <td>2.0</td>\n",
       "      <td>755.0</td>\n",
       "      <td>NaN</td>\n",
       "    </tr>\n",
       "    <tr>\n",
       "      <th>1</th>\n",
       "      <td>7</td>\n",
       "      <td>3350000.0</td>\n",
       "      <td>40.4</td>\n",
       "      <td>2018-12-04T00:00:00</td>\n",
       "      <td>1</td>\n",
       "      <td>NaN</td>\n",
       "      <td>11.0</td>\n",
       "      <td>18.6</td>\n",
       "      <td>1</td>\n",
       "      <td>NaN</td>\n",
       "      <td>False</td>\n",
       "      <td>False</td>\n",
       "      <td>11.0</td>\n",
       "      <td>2.0</td>\n",
       "      <td>посёлок Шушары</td>\n",
       "      <td>12817.0</td>\n",
       "      <td>18603.0</td>\n",
       "      <td>0.0</td>\n",
       "      <td>NaN</td>\n",
       "      <td>0.0</td>\n",
       "      <td>NaN</td>\n",
       "      <td>81.0</td>\n",
       "    </tr>\n",
       "    <tr>\n",
       "      <th>2</th>\n",
       "      <td>10</td>\n",
       "      <td>5196000.0</td>\n",
       "      <td>56.0</td>\n",
       "      <td>2015-08-20T00:00:00</td>\n",
       "      <td>2</td>\n",
       "      <td>NaN</td>\n",
       "      <td>5.0</td>\n",
       "      <td>34.3</td>\n",
       "      <td>4</td>\n",
       "      <td>NaN</td>\n",
       "      <td>False</td>\n",
       "      <td>False</td>\n",
       "      <td>8.3</td>\n",
       "      <td>0.0</td>\n",
       "      <td>Санкт-Петербург</td>\n",
       "      <td>21741.0</td>\n",
       "      <td>13933.0</td>\n",
       "      <td>1.0</td>\n",
       "      <td>90.0</td>\n",
       "      <td>2.0</td>\n",
       "      <td>574.0</td>\n",
       "      <td>558.0</td>\n",
       "    </tr>\n",
       "    <tr>\n",
       "      <th>3</th>\n",
       "      <td>0</td>\n",
       "      <td>64900000.0</td>\n",
       "      <td>159.0</td>\n",
       "      <td>2015-07-24T00:00:00</td>\n",
       "      <td>3</td>\n",
       "      <td>NaN</td>\n",
       "      <td>14.0</td>\n",
       "      <td>NaN</td>\n",
       "      <td>9</td>\n",
       "      <td>NaN</td>\n",
       "      <td>False</td>\n",
       "      <td>False</td>\n",
       "      <td>NaN</td>\n",
       "      <td>0.0</td>\n",
       "      <td>Санкт-Петербург</td>\n",
       "      <td>28098.0</td>\n",
       "      <td>6800.0</td>\n",
       "      <td>2.0</td>\n",
       "      <td>84.0</td>\n",
       "      <td>3.0</td>\n",
       "      <td>234.0</td>\n",
       "      <td>424.0</td>\n",
       "    </tr>\n",
       "    <tr>\n",
       "      <th>4</th>\n",
       "      <td>2</td>\n",
       "      <td>10000000.0</td>\n",
       "      <td>100.0</td>\n",
       "      <td>2018-06-19T00:00:00</td>\n",
       "      <td>2</td>\n",
       "      <td>3.03</td>\n",
       "      <td>14.0</td>\n",
       "      <td>32.0</td>\n",
       "      <td>13</td>\n",
       "      <td>NaN</td>\n",
       "      <td>False</td>\n",
       "      <td>False</td>\n",
       "      <td>41.0</td>\n",
       "      <td>NaN</td>\n",
       "      <td>Санкт-Петербург</td>\n",
       "      <td>31856.0</td>\n",
       "      <td>8098.0</td>\n",
       "      <td>2.0</td>\n",
       "      <td>112.0</td>\n",
       "      <td>1.0</td>\n",
       "      <td>48.0</td>\n",
       "      <td>121.0</td>\n",
       "    </tr>\n",
       "  </tbody>\n",
       "</table>\n",
       "</div>"
      ],
      "text/plain": [
       "   total_images  last_price  total_area first_day_exposition  rooms  \\\n",
       "0            20  13000000.0       108.0  2019-03-07T00:00:00      3   \n",
       "1             7   3350000.0        40.4  2018-12-04T00:00:00      1   \n",
       "2            10   5196000.0        56.0  2015-08-20T00:00:00      2   \n",
       "3             0  64900000.0       159.0  2015-07-24T00:00:00      3   \n",
       "4             2  10000000.0       100.0  2018-06-19T00:00:00      2   \n",
       "\n",
       "   ceiling_height  floors_total  living_area  floor is_apartment  studio  \\\n",
       "0            2.70          16.0         51.0      8          NaN   False   \n",
       "1             NaN          11.0         18.6      1          NaN   False   \n",
       "2             NaN           5.0         34.3      4          NaN   False   \n",
       "3             NaN          14.0          NaN      9          NaN   False   \n",
       "4            3.03          14.0         32.0     13          NaN   False   \n",
       "\n",
       "   open_plan  kitchen_area  balcony    locality_name  airports_nearest  \\\n",
       "0      False          25.0      NaN  Санкт-Петербург           18863.0   \n",
       "1      False          11.0      2.0   посёлок Шушары           12817.0   \n",
       "2      False           8.3      0.0  Санкт-Петербург           21741.0   \n",
       "3      False           NaN      0.0  Санкт-Петербург           28098.0   \n",
       "4      False          41.0      NaN  Санкт-Петербург           31856.0   \n",
       "\n",
       "   cityCenters_nearest  parks_around3000  parks_nearest  ponds_around3000  \\\n",
       "0              16028.0               1.0          482.0               2.0   \n",
       "1              18603.0               0.0            NaN               0.0   \n",
       "2              13933.0               1.0           90.0               2.0   \n",
       "3               6800.0               2.0           84.0               3.0   \n",
       "4               8098.0               2.0          112.0               1.0   \n",
       "\n",
       "   ponds_nearest  days_exposition  \n",
       "0          755.0              NaN  \n",
       "1            NaN             81.0  \n",
       "2          574.0            558.0  \n",
       "3          234.0            424.0  \n",
       "4           48.0            121.0  "
      ]
     },
     "execution_count": 3,
     "metadata": {},
     "output_type": "execute_result"
    }
   ],
   "source": [
    "try:\n",
    "    data = pd.read_csv('/datasets/real_estate_data.csv', sep = '\\t')\n",
    "except:\n",
    "    data = pd.read_csv('https://code.s3.yandex.net/datasets/real_estate_data.csv', sep = '\\t')\n",
    "pd.set_option('display.max_columns', None)\n",
    "data.head()"
   ]
  },
  {
   "cell_type": "code",
   "execution_count": 4,
   "metadata": {},
   "outputs": [
    {
     "name": "stdout",
     "output_type": "stream",
     "text": [
      "<class 'pandas.core.frame.DataFrame'>\n",
      "RangeIndex: 23699 entries, 0 to 23698\n",
      "Data columns (total 22 columns):\n",
      " #   Column                Non-Null Count  Dtype  \n",
      "---  ------                --------------  -----  \n",
      " 0   total_images          23699 non-null  int64  \n",
      " 1   last_price            23699 non-null  float64\n",
      " 2   total_area            23699 non-null  float64\n",
      " 3   first_day_exposition  23699 non-null  object \n",
      " 4   rooms                 23699 non-null  int64  \n",
      " 5   ceiling_height        14504 non-null  float64\n",
      " 6   floors_total          23613 non-null  float64\n",
      " 7   living_area           21796 non-null  float64\n",
      " 8   floor                 23699 non-null  int64  \n",
      " 9   is_apartment          2775 non-null   object \n",
      " 10  studio                23699 non-null  bool   \n",
      " 11  open_plan             23699 non-null  bool   \n",
      " 12  kitchen_area          21421 non-null  float64\n",
      " 13  balcony               12180 non-null  float64\n",
      " 14  locality_name         23650 non-null  object \n",
      " 15  airports_nearest      18157 non-null  float64\n",
      " 16  cityCenters_nearest   18180 non-null  float64\n",
      " 17  parks_around3000      18181 non-null  float64\n",
      " 18  parks_nearest         8079 non-null   float64\n",
      " 19  ponds_around3000      18181 non-null  float64\n",
      " 20  ponds_nearest         9110 non-null   float64\n",
      " 21  days_exposition       20518 non-null  float64\n",
      "dtypes: bool(2), float64(14), int64(3), object(3)\n",
      "memory usage: 3.7+ MB\n"
     ]
    }
   ],
   "source": [
    "data.info()"
   ]
  },
  {
   "cell_type": "code",
   "execution_count": 5,
   "metadata": {},
   "outputs": [
    {
     "data": {
      "text/plain": [
       "Index(['total_images', 'last_price', 'total_area', 'first_day_exposition',\n",
       "       'rooms', 'ceiling_height', 'floors_total', 'living_area', 'floor',\n",
       "       'is_apartment', 'studio', 'open_plan', 'kitchen_area', 'balcony',\n",
       "       'locality_name', 'airports_nearest', 'cityCenters_nearest',\n",
       "       'parks_around3000', 'parks_nearest', 'ponds_around3000',\n",
       "       'ponds_nearest', 'days_exposition'],\n",
       "      dtype='object')"
      ]
     },
     "execution_count": 5,
     "metadata": {},
     "output_type": "execute_result"
    }
   ],
   "source": [
    "data.columns"
   ]
  },
  {
   "cell_type": "code",
   "execution_count": 6,
   "metadata": {},
   "outputs": [
    {
     "data": {
      "image/png": "[encoded data removed]",
      "text/plain": [
       "<Figure size 1080x1440 with 20 Axes>"
      ]
     },
     "metadata": {
      "needs_background": "light"
     },
     "output_type": "display_data"
    }
   ],
   "source": [
    "data.hist(figsize=(15, 20));"
   ]
  },
  {
   "cell_type": "markdown",
   "metadata": {},
   "source": [
    "### Предобработка данных"
   ]
  },
  {
   "cell_type": "code",
   "execution_count": 7,
   "metadata": {},
   "outputs": [
    {
     "data": {
      "text/plain": [
       "total_images                0\n",
       "last_price                  0\n",
       "total_area                  0\n",
       "first_day_exposition        0\n",
       "rooms                       0\n",
       "ceiling_height           9195\n",
       "floors_total               86\n",
       "living_area              1903\n",
       "floor                       0\n",
       "is_apartment            20924\n",
       "studio                      0\n",
       "open_plan                   0\n",
       "kitchen_area             2278\n",
       "balcony                 11519\n",
       "locality_name              49\n",
       "airports_nearest         5542\n",
       "cityCenters_nearest      5519\n",
       "parks_around3000         5518\n",
       "parks_nearest           15620\n",
       "ponds_around3000         5518\n",
       "ponds_nearest           14589\n",
       "days_exposition          3181\n",
       "dtype: int64"
      ]
     },
     "execution_count": 7,
     "metadata": {},
     "output_type": "execute_result"
    }
   ],
   "source": [
    "data.isna().sum() #нахождение пропущенных значений "
   ]
  },
  {
   "cell_type": "code",
   "execution_count": 8,
   "metadata": {},
   "outputs": [
    {
     "data": {
      "text/plain": [
       "NaN    11519\n",
       "1.0     4195\n",
       "0.0     3758\n",
       "2.0     3659\n",
       "5.0      304\n",
       "4.0      183\n",
       "3.0       81\n",
       "Name: balcony, dtype: int64"
      ]
     },
     "execution_count": 8,
     "metadata": {},
     "output_type": "execute_result"
    }
   ],
   "source": [
    "data['balcony'].value_counts(dropna=False)"
   ]
  },
  {
   "cell_type": "markdown",
   "metadata": {},
   "source": [
    "Если продавец не указал число балконов, то, скорее всего, в его квартире их нет. Такие пропуски правильно заменить на 0."
   ]
  },
  {
   "cell_type": "code",
   "execution_count": 9,
   "metadata": {},
   "outputs": [
    {
     "data": {
      "text/plain": [
       "0.0    15277\n",
       "1.0     4195\n",
       "2.0     3659\n",
       "5.0      304\n",
       "4.0      183\n",
       "3.0       81\n",
       "Name: balcony, dtype: int64"
      ]
     },
     "execution_count": 9,
     "metadata": {},
     "output_type": "execute_result"
    }
   ],
   "source": [
    "data['balcony'] = data['balcony'].fillna(0)\n",
    "data['balcony'].value_counts()"
   ]
  },
  {
   "cell_type": "code",
   "execution_count": 10,
   "metadata": {},
   "outputs": [
    {
     "data": {
      "text/plain": [
       "False    23649\n",
       "True        50\n",
       "Name: is_apartment, dtype: int64"
      ]
     },
     "execution_count": 10,
     "metadata": {},
     "output_type": "execute_result"
    }
   ],
   "source": [
    "#замена пропусков в is_apartment\n",
    "data['is_apartment'] = data['is_apartment'].fillna(False)\n",
    "data['is_apartment'].value_counts(dropna=False)"
   ]
  },
  {
   "cell_type": "code",
   "execution_count": 11,
   "metadata": {},
   "outputs": [
    {
     "data": {
      "text/plain": [
       "2.65     9871\n",
       "2.50     3515\n",
       "2.60     1646\n",
       "2.70     1574\n",
       "3.00     1112\n",
       "         ... \n",
       "4.25        1\n",
       "3.39        1\n",
       "3.93        1\n",
       "10.30       1\n",
       "4.65        1\n",
       "Name: ceiling_height, Length: 183, dtype: int64"
      ]
     },
     "execution_count": 11,
     "metadata": {},
     "output_type": "execute_result"
    }
   ],
   "source": [
    "#заполнение пропусков медианным значением 'ceiling_height'\n",
    "data['ceiling_height'] = data['ceiling_height'].fillna(data['ceiling_height'].median())\n",
    "data['ceiling_height'].value_counts(dropna=False)"
   ]
  },
  {
   "cell_type": "code",
   "execution_count": 12,
   "metadata": {},
   "outputs": [],
   "source": [
    "data['first_day_exposition'] = pd.to_datetime(data['first_day_exposition'], format='%Y-%m-%dT%H:%M:%S') # преобразование даты"
   ]
  },
  {
   "cell_type": "code",
   "execution_count": 13,
   "metadata": {},
   "outputs": [],
   "source": [
    "data['ponds_around3000'] = data['ponds_around3000'].fillna(0)\n",
    "data['parks_around3000'] = data['parks_around3000'].fillna(0)\n",
    "data['floor'] = data['floor'].fillna(0)\n",
    "data['floors_total'] = data['floors_total'].fillna(0)"
   ]
  },
  {
   "cell_type": "code",
   "execution_count": 14,
   "metadata": {},
   "outputs": [],
   "source": [
    "# Преобразование к нужному типу данных (столбцы, чьи значения должны быть целочисленные):\n",
    "data['last_price'] = data['last_price'].astype('int')\n",
    "data['balcony'] = data['balcony'].astype('int')\n",
    "data['ponds_around3000'] = data['ponds_around3000'].astype('int')\n",
    "data['parks_around3000'] = data['parks_around3000'].astype('int')\n",
    "data['floor'] = data['floor'].astype('int')\n",
    "data['floors_total'] = data['floors_total'].astype('int')"
   ]
  },
  {
   "cell_type": "markdown",
   "metadata": {},
   "source": [
    "#### Возможные причины пропусков \n",
    "Пропуски в графе 'balcony', могут означать, что в данных по недвижимости нет балконов, их следует заменить нулями. Большое количество пропусков свидетельствует о том, что их появление неслучайно и могло возникнуть из-за частичного заполнения данных или ошибки на этапе выгрузки. Пропуски в графе 'is_apartment' могут означать либо, что апартаменты появились относительно недавно либо с тем, что данные объекты недвижимости не являются апартаментами.\n",
    "#### Изменения типов данных\n",
    "Поля 'days_exposition', 'balcony', 'floor', 'floors_total', 'ponds_around3000', 'parks_around3000' следует изменить на целочисленные для удобства подсчета. \n",
    "\n"
   ]
  },
  {
   "cell_type": "code",
   "execution_count": 27,
   "metadata": {},
   "outputs": [
    {
     "data": {
      "text/plain": [
       "array([' Лесная Поляна', 'Агалатово', 'Александровская', 'Алексеевка',\n",
       "       'Аннино', 'Аро', 'Барышево', 'Батово', 'Бегуницы', 'Белогорка',\n",
       "       'Белоостров', 'Бокситогорск', 'Большая Вруда', 'Большая Ижора',\n",
       "       'Большая Пустомержа', 'Большие Колпаны', 'Большое Рейзино',\n",
       "       'Большой Сабск', 'Бор', 'Борисова Грива', 'Бугры', 'Будогощь',\n",
       "       'Ваганово', 'Важины', 'Вартемяги', 'Вахнова Кара', 'Вещево',\n",
       "       'Виллози', 'Вознесенье', 'Возрождение', 'Войсковицы', 'Войскорово',\n",
       "       'Володарское', 'Волосово', 'Волхов', 'Всеволожск', 'Выборг',\n",
       "       'Вырица', 'Выскатка', 'Высокоключевой', 'Высоцк', 'Гаврилово',\n",
       "       'Гарболово', 'Гатчина', 'Гладкое', 'Глажево', 'Глебычево',\n",
       "       'Глинка', 'Гончарово', 'Горбунки', 'Гостилицы', 'Громово',\n",
       "       'Дзержинского', 'Дружная Горка', 'Дружноселье', 'Дубровка',\n",
       "       'Елизаветино', 'Ефимовский', 'Жилгородок', 'Жилпосёлок', 'Житково',\n",
       "       'Заводской', 'Заклинье', 'Заневка', 'Запорожское', 'Зеленогорск',\n",
       "       'Зимитицы', 'Ивангород', 'Извара', 'Ильичёво', 'Иссад', 'Калитино',\n",
       "       'Каложицы', 'Кальтино', 'Каменногорск', 'Камышовка', 'Каськово',\n",
       "       'Келози', 'Кивеннапа Север', 'Кикерино', 'Кингисепп',\n",
       "       'Кингисеппский', 'Кипень', 'Кириши', 'Кировск', 'Кирпичное',\n",
       "       'Кисельня', 'Кобралово', 'Кобринское', 'Колпино', 'Колтуши',\n",
       "       'Коммунар', 'Коммунары', 'Кондратьево', 'Копорье', 'Коркино',\n",
       "       'Корнево', 'Коробицыно', 'Котельский', 'Котлы', 'Красная Долина',\n",
       "       'Красное Село', 'Красносельское', 'Красный Бор', 'Кривко',\n",
       "       'Кронштадт', 'Кудрово', 'Кузнечное', 'Кузьмолово', 'Кузьмоловский',\n",
       "       'Курковицы', 'Куровицы', 'Куттузи', 'Лаврики', 'Лаголово',\n",
       "       'Лампово', 'Лебяжье', 'Левашово', 'Ленинское', 'Лесколово',\n",
       "       'Лесное', 'Лесогорский', 'Лисий Нос', 'Лодейное Поле', 'Ломоносов',\n",
       "       'Лопухинка', 'Луга', 'Лужайка', 'Лукаши', 'Лупполово', 'Любань',\n",
       "       'Малая Романовка', 'Малое Верево', 'Малое Карлино',\n",
       "       'Малые Колпаны', 'Мануйлово', 'Мга', 'Мельниково', 'Меньково',\n",
       "       'Металлострой', 'Мины', 'Мистолово', 'Мичуринское', 'Молодцово',\n",
       "       'Молодёжное', 'Мурино', 'Мыза-Ивановка', 'Назия', 'Ненимяки',\n",
       "       'Нижние Осельки', 'Нижняя', 'Низино', 'Никольский', 'Никольское',\n",
       "       'Новая Ладога', 'Новая Ропша', 'Новогорелово', 'Новое Девяткино',\n",
       "       'Новолисино', 'Новоселье', 'Новый Свет', 'Новый Учхоз', 'Нурма',\n",
       "       'Оредеж', 'Оржицы', 'Отрадное', 'Павлово', 'Павловск',\n",
       "       'Пансионат Зелёный Бор', 'Парголово', 'Парицы', 'Паша', 'Пельгора',\n",
       "       'Пеники', 'Первомайское', 'Перово', 'Песочный', 'Петергоф',\n",
       "       'Петро-Славянка', 'Петровское', 'Пижма', 'Пикалёво', 'Пикколово',\n",
       "       'Платформа 69-й километр', 'Плодовое', 'Плоское', 'Победа',\n",
       "       'Подпорожье', 'Поляны', 'Понтонный', 'Почап', 'Починок',\n",
       "       'Приветнинское', 'Пригородный', 'Приладожский', 'Приморск',\n",
       "       'Приозерск', 'Пудомяги', 'Пудость', 'Пустынка', 'Путилово',\n",
       "       'Пушкин', 'Пушное', 'Пчева', 'Пчевжа', 'Рабитицы', 'Разбегаево',\n",
       "       'Раздолье', 'Разметелево', 'Рапполово', 'Рахья', 'Реброво',\n",
       "       'Репино', 'Рождествено', 'Романовка', 'Ромашки', 'Ропша', 'Рощино',\n",
       "       'Русско', 'Русско-Высоцкое', 'Рябово', 'Садко', 'Санкт-Петербург',\n",
       "       'Сапёрное', 'Сапёрный', 'Светогорск', 'Свирь', 'Севастьяново',\n",
       "       'Селезнёво', 'Сельцо', 'Семиозерье', 'Семрино', 'Серебрянский',\n",
       "       'Сертолово', 'Сестрорецк', 'Сиверский', 'Сижно', 'Синявино',\n",
       "       'Сланцы', 'Снегирёвка', 'Советский', 'Совхозный', 'Сосново',\n",
       "       'Сосновый Бор', 'Старая', 'Старая Ладога', 'Старая Малукса',\n",
       "       'Старая Пустошь', 'Старое Хинколово', 'Старополье',\n",
       "       'Старосиверская', 'Старые Бегуницы', 'Стеклянный', 'Стрельна',\n",
       "       'Суйда', 'Сумино', 'Суоранда', 'Суходолье', 'Счастье',\n",
       "       'Сяськелево', 'Сясьстрой', 'Тайцы', 'Тарасово', 'Тельмана',\n",
       "       'Терволово', 'Терпилицы', 'Тихвин', 'Тихковицы', 'Тойворово',\n",
       "       'Токсово', 'Торковичи', 'Торосово', 'Торошковичи', 'Торфяное',\n",
       "       'Тосно', 'Трубников Бор', 'Тёсово-4', 'Углово', 'Ульяновка',\n",
       "       'Усть-Ижора', 'Усть-Луга', 'Ушаки', 'Фалилеево', 'Форносово',\n",
       "       'Форт Красная Горка', 'Фёдоровское', 'Хапо-Ое', 'Хязельки',\n",
       "       'Цвелодубово', 'Цвылёво', 'Чудской Бор', 'Шлиссельбург',\n",
       "       'Шпаньково', 'Шугозеро', 'Шум', 'Шушары', 'Щеглово', 'Юкки',\n",
       "       'Ялгино', 'Яльгелево', 'Ям-Тесово', 'Янино-1', 'имени Морозова',\n",
       "       'имени Свердлова', nan], dtype=object)"
      ]
     },
     "execution_count": 27,
     "metadata": {},
     "output_type": "execute_result"
    }
   ],
   "source": [
    "#устранение неявных дубликатов\n",
    "data['locality_name'].unique()\n",
    "\n",
    "rename = [\"пансионат \", \"посёлок \", \"поселок городского типа \", \"поселок \", \"деревня \",\n",
    "         \"посёлок городского типа \", \"садовое товарищество \", \"село \",\n",
    "         \"городской поселок \", \"городской посёлок \", \"поселок станции \",\n",
    "         \"посёлок при железнодорожной станции \", \"городского типа \",\n",
    "         \"городской \", \"при железнодорожной станции \", \"станции \", \"коттеджный \",\n",
    "         \"садоводческое некоммерческое товарищество\"]\n",
    "\n",
    "data['locality_name'] = data['locality_name'].replace(rename, '', regex=True)\n",
    "data['locality_name'].sort_values().unique()\n"
   ]
  },
  {
   "cell_type": "code",
   "execution_count": 28,
   "metadata": {},
   "outputs": [
    {
     "data": {
      "text/plain": [
       "pandas.core.series.Series"
      ]
     },
     "execution_count": 28,
     "metadata": {},
     "output_type": "execute_result"
    }
   ],
   "source": [
    "type(data['locality_name'])"
   ]
  },
  {
   "cell_type": "code",
   "execution_count": 16,
   "metadata": {},
   "outputs": [
    {
     "data": {
      "text/plain": [
       "array([  1.  ,   1.2 ,   1.75,   2.  ,   2.2 ,   2.25,   2.3 ,   2.34,\n",
       "         2.4 ,   2.45,   2.46,   2.47,   2.48,   2.49,   2.5 ,   2.51,\n",
       "         2.52,   2.53,   2.54,   2.55,   2.56,   2.57,   2.58,   2.59,\n",
       "         2.6 ,   2.61,   2.62,   2.63,   2.64,   2.65,   2.66,   2.67,\n",
       "         2.68,   2.69,   2.7 ,   2.71,   2.72,   2.73,   2.74,   2.75,\n",
       "         2.76,   2.77,   2.78,   2.79,   2.8 ,   2.81,   2.82,   2.83,\n",
       "         2.84,   2.85,   2.86,   2.87,   2.88,   2.89,   2.9 ,   2.91,\n",
       "         2.92,   2.93,   2.94,   2.95,   2.96,   2.97,   2.98,   2.99,\n",
       "         3.  ,   3.01,   3.02,   3.03,   3.04,   3.05,   3.06,   3.07,\n",
       "         3.08,   3.09,   3.1 ,   3.11,   3.12,   3.13,   3.14,   3.15,\n",
       "         3.16,   3.17,   3.18,   3.2 ,   3.21,   3.22,   3.23,   3.24,\n",
       "         3.25,   3.26,   3.27,   3.28,   3.29,   3.3 ,   3.31,   3.32,\n",
       "         3.33,   3.34,   3.35,   3.36,   3.37,   3.38,   3.39,   3.4 ,\n",
       "         3.42,   3.43,   3.44,   3.45,   3.46,   3.47,   3.48,   3.49,\n",
       "         3.5 ,   3.51,   3.52,   3.53,   3.54,   3.55,   3.56,   3.57,\n",
       "         3.58,   3.59,   3.6 ,   3.62,   3.63,   3.65,   3.66,   3.67,\n",
       "         3.68,   3.69,   3.7 ,   3.75,   3.76,   3.78,   3.8 ,   3.82,\n",
       "         3.83,   3.84,   3.85,   3.86,   3.87,   3.88,   3.9 ,   3.93,\n",
       "         3.95,   3.98,   4.  ,   4.06,   4.1 ,   4.14,   4.15,   4.19,\n",
       "         4.2 ,   4.25,   4.3 ,   4.37,   4.4 ,   4.45,   4.5 ,   4.65,\n",
       "         4.7 ,   4.8 ,   4.9 ,   5.  ,   5.2 ,   5.3 ,   5.5 ,   5.6 ,\n",
       "         5.8 ,   6.  ,   8.  ,   8.3 ,  10.3 ,  14.  ,  20.  ,  22.6 ,\n",
       "        24.  ,  25.  ,  26.  ,  27.  ,  27.5 ,  32.  , 100.  ])"
      ]
     },
     "execution_count": 16,
     "metadata": {},
     "output_type": "execute_result"
    }
   ],
   "source": [
    "data.ceiling_height.sort_values().unique() #уникальные значения высоты потолков"
   ]
  },
  {
   "cell_type": "markdown",
   "metadata": {},
   "source": [
    "Вывод по данным:\n",
    "при выводе данных можно увидеть аномальные значения - длина потолков более 20 метров, вероятно истиные значения меньше в 10 раз, а также видно аномально маленькую высоту потолков до 2 метров, такое может быть едва ли."
   ]
  },
  {
   "cell_type": "code",
   "execution_count": 17,
   "metadata": {},
   "outputs": [],
   "source": [
    "# Деление на 10 значений высоты потолка, которые больше 20 метров\n",
    "data.loc[data['ceiling_height'] >= 20, 'ceiling_height'] = data['ceiling_height'] / 10"
   ]
  },
  {
   "cell_type": "code",
   "execution_count": 18,
   "metadata": {},
   "outputs": [],
   "source": [
    "# Убираем аномально большие значения - более десяти метров\n",
    "data.drop(data[data.ceiling_height > 10].index, inplace=True)"
   ]
  },
  {
   "cell_type": "code",
   "execution_count": 19,
   "metadata": {},
   "outputs": [],
   "source": [
    "# Убираем аномально малые значения - менее двух с половиной метров\n",
    "data.drop(data[data.ceiling_height < 2.5].index, inplace=True)"
   ]
  },
  {
   "cell_type": "code",
   "execution_count": 20,
   "metadata": {},
   "outputs": [
    {
     "data": {
      "text/plain": [
       "array([ 2.7 ,  2.65,  3.03,  2.5 ,  2.67,  2.56,  3.05,  2.75,  2.6 ,\n",
       "        2.9 ,  2.8 ,  2.55,  3.  ,  3.2 ,  2.61,  3.25,  3.45,  2.77,\n",
       "        2.85,  2.64,  2.57,  4.15,  3.5 ,  3.3 ,  2.71,  4.  ,  2.73,\n",
       "        2.84,  3.1 ,  3.4 ,  3.06,  2.72,  2.54,  2.51,  2.78,  2.76,\n",
       "        2.58,  3.7 ,  2.52,  5.2 ,  2.87,  2.66,  2.59,  3.6 ,  2.92,\n",
       "        3.11,  3.13,  3.8 ,  3.15,  3.55,  3.16,  3.62,  3.12,  2.53,\n",
       "        2.74,  2.96,  5.3 ,  5.  ,  2.79,  2.95,  4.06,  2.94,  3.82,\n",
       "        3.54,  3.53,  2.83,  4.7 ,  3.38,  3.01,  5.6 ,  3.65,  3.9 ,\n",
       "        3.18,  3.35,  3.57,  2.62,  2.82,  3.98,  2.63,  3.83,  3.52,\n",
       "        3.95,  3.75,  2.88,  3.67,  3.87,  3.66,  3.85,  3.86,  4.19,\n",
       "        3.24,  4.8 ,  4.5 ,  4.2 ,  3.36,  3.08,  3.68,  3.07,  3.37,\n",
       "        3.09,  8.  ,  3.26,  3.34,  2.81,  3.44,  2.97,  3.14,  4.37,\n",
       "        2.68,  3.22,  3.27,  4.1 ,  2.93,  3.46,  3.47,  3.33,  3.63,\n",
       "        3.32,  8.3 ,  2.98,  2.86,  3.17,  4.4 ,  3.28,  3.04,  4.45,\n",
       "        5.5 ,  3.84,  3.23,  3.02,  3.21,  3.43,  3.78,  4.3 ,  3.39,\n",
       "        2.69,  3.31,  4.65,  3.56,  3.51,  3.93,  3.42,  2.99,  3.49,\n",
       "        4.14,  2.91,  3.88,  4.25,  3.29,  3.76,  3.69,  6.  ,  2.89,\n",
       "        3.58,  5.8 ,  4.9 ,  3.48, 10.  ,  3.59])"
      ]
     },
     "execution_count": 20,
     "metadata": {},
     "output_type": "execute_result"
    }
   ],
   "source": [
    "data['ceiling_height'].unique()"
   ]
  },
  {
   "cell_type": "markdown",
   "metadata": {},
   "source": [
    "Выше изображен массив уникальньных значений поля 'ceiling_height' после восстановлений от аномалий и искажений, а так же после выброса редких и выбивающихщся значений."
   ]
  },
  {
   "cell_type": "code",
   "execution_count": 21,
   "metadata": {},
   "outputs": [],
   "source": [
    "# Площадь  более 250 м можно считать выбросами, отбросим.\n",
    "data = data.loc[data['total_area'] <= 250]"
   ]
  },
  {
   "cell_type": "code",
   "execution_count": 22,
   "metadata": {},
   "outputs": [
    {
     "data": {
      "image/png": "[encoded data removed]",
      "text/plain": [
       "<Figure size 432x288 with 1 Axes>"
      ]
     },
     "metadata": {
      "needs_background": "light"
     },
     "output_type": "display_data"
    }
   ],
   "source": [
    "data['total_area'].hist(bins=30,  range=(1, 500))\n",
    "plt.show()"
   ]
  },
  {
   "cell_type": "markdown",
   "metadata": {},
   "source": [
    "Не забываем про богачей и их хоромы, поэтому посчитаем что 250 это ещё норма)"
   ]
  },
  {
   "cell_type": "code",
   "execution_count": 23,
   "metadata": {},
   "outputs": [
    {
     "name": "stdout",
     "output_type": "stream",
     "text": [
      "Квартир стоимостью меньше 1.000.000: 225\n",
      "Квартир стоимостью больше 100.000.000: 14\n"
     ]
    }
   ],
   "source": [
    "print('Квартир стоимостью меньше 1.000.000:', data.query('last_price < 1e+06')['last_price'].count())\n",
    "print('Квартир стоимостью больше 100.000.000:', data.query('last_price > 1e+08')['last_price'].count())\n",
    "data.drop(index=data.query('last_price > 1e+08').index,inplace=True) # Удаляем, что дороже 100 миллионов \n"
   ]
  },
  {
   "cell_type": "code",
   "execution_count": 24,
   "metadata": {},
   "outputs": [
    {
     "data": {
      "image/png": "[encoded data removed]",
      "text/plain": [
       "<Figure size 432x288 with 1 Axes>"
      ]
     },
     "metadata": {
      "needs_background": "light"
     },
     "output_type": "display_data"
    }
   ],
   "source": [
    "# Аномалии по комнатам\n",
    "data['rooms'].hist(range=(0, 20))\n",
    "plt.show()"
   ]
  },
  {
   "cell_type": "markdown",
   "metadata": {},
   "source": [
    "Будет считать, что 6 комнат и более - ненормально, отбросим"
   ]
  },
  {
   "cell_type": "code",
   "execution_count": 25,
   "metadata": {},
   "outputs": [],
   "source": [
    "# Уберем если их больше 6\n",
    "data = data.loc[data['rooms'] < 6]"
   ]
  },
  {
   "cell_type": "markdown",
   "metadata": {},
   "source": [
    "### Посчитайте и добавьте в таблицу новые столбцы"
   ]
  },
  {
   "cell_type": "markdown",
   "metadata": {},
   "source": [
    "#### Добавление в таблицу новых столбцов со следующими параметрами:\n",
    "- цена одного квадратного метра;\n",
    "- день недели публикации объявления (0 — понедельник, 1 — вторник и так далее);\n",
    "- месяц публикации объявления;\n",
    "- год публикации объявления;\n",
    "- тип этажа квартиры (значения — «первый», «последний», «другой»);\n",
    "- расстояние до центра города в километрах (переведите из м в км и округлите до целых значений)."
   ]
  },
  {
   "cell_type": "code",
   "execution_count": 25,
   "metadata": {},
   "outputs": [],
   "source": [
    "data['square_meter'] = data['last_price'] / data['total_area']# получение цены квадратного метра путем деления цены квартиры на ее прощадь"
   ]
  },
  {
   "cell_type": "code",
   "execution_count": 26,
   "metadata": {},
   "outputs": [],
   "source": [
    "data['day_of_week'] = pd.DatetimeIndex(data['first_day_exposition']).weekday"
   ]
  },
  {
   "cell_type": "code",
   "execution_count": 27,
   "metadata": {},
   "outputs": [],
   "source": [
    "data['month'] = pd.DatetimeIndex(data['first_day_exposition']).month"
   ]
  },
  {
   "cell_type": "code",
   "execution_count": 28,
   "metadata": {},
   "outputs": [],
   "source": [
    "data['year'] = pd.DatetimeIndex(data['first_day_exposition']).year"
   ]
  },
  {
   "cell_type": "code",
   "execution_count": 29,
   "metadata": {},
   "outputs": [
    {
     "data": {
      "text/plain": [
       "array([3, 1, 4, 0, 2, 6, 5])"
      ]
     },
     "execution_count": 29,
     "metadata": {},
     "output_type": "execute_result"
    }
   ],
   "source": [
    "data['day_of_week'].unique() # получаем все возможные варианты дней недели от 0 до 6"
   ]
  },
  {
   "cell_type": "code",
   "execution_count": 30,
   "metadata": {},
   "outputs": [],
   "source": [
    "# определение типа этажей квартиры\n",
    "def type_of_floor(i):\n",
    "    if i['floor'] == 1:\n",
    "        return 'Первый'\n",
    "    if i['floor'] == i['floors_total']:\n",
    "        return 'Последний'\n",
    "    else:\n",
    "        return 'Другой'"
   ]
  },
  {
   "cell_type": "code",
   "execution_count": 31,
   "metadata": {},
   "outputs": [],
   "source": [
    "data['type_of_floor'] = data.apply(type_of_floor, axis = 1)"
   ]
  },
  {
   "cell_type": "code",
   "execution_count": 32,
   "metadata": {},
   "outputs": [],
   "source": [
    "data['distance_to_the_city_center_in_kilometers'] = round(data['cityCenters_nearest'] / 1000) #округленное расстояние до центра города "
   ]
  },
  {
   "cell_type": "markdown",
   "metadata": {},
   "source": [
    "### Проведите исследовательский анализ данных"
   ]
  },
  {
   "cell_type": "markdown",
   "metadata": {},
   "source": [
    "#### Проведение исследовательского анализа данных:\n",
    "Изучение следующих параметров объектов:\n",
    "- общая площадь;\n",
    "- жилая площадь;\n",
    "- площадь кухни;\n",
    "- цена объекта;\n",
    "- количество комнат;\n",
    "- высота потолков;\n",
    "- этаж квартиры;\n",
    "- тип этажа квартиры («первый», «последний», «другой»);\n",
    "- общее количество этажей в доме;\n",
    "- расстояние до центра города в метрах;\n",
    "- расстояние до ближайшего аэропорта;\n",
    "- расстояние до ближайшего парка;\n",
    "- день и месяц публикации объявления."
   ]
  },
  {
   "cell_type": "code",
   "execution_count": 33,
   "metadata": {},
   "outputs": [
    {
     "name": "stdout",
     "output_type": "stream",
     "text": [
      "count    23362.000000\n",
      "mean        58.250842\n",
      "std         27.125996\n",
      "min         12.000000\n",
      "25%         40.000000\n",
      "50%         51.800000\n",
      "75%         68.800000\n",
      "max        250.000000\n",
      "Name: total_area, dtype: float64\n",
      "\n",
      "45.00     415\n",
      "42.00     381\n",
      "60.00     345\n",
      "31.00     345\n",
      "44.00     344\n",
      "         ... \n",
      "37.65       1\n",
      "33.17       1\n",
      "127.30      1\n",
      "167.10      1\n",
      "55.06       1\n",
      "Name: total_area, Length: 2029, dtype: int64\n"
     ]
    }
   ],
   "source": [
    "print(data['total_area'].describe())\n",
    "print()\n",
    "print(data.total_area.value_counts())"
   ]
  },
  {
   "cell_type": "code",
   "execution_count": 34,
   "metadata": {},
   "outputs": [
    {
     "data": {
      "image/png": "[encoded data removed]",
      "text/plain": [
       "<Figure size 720x360 with 1 Axes>"
      ]
     },
     "metadata": {
      "needs_background": "light"
     },
     "output_type": "display_data"
    }
   ],
   "source": [
    "data.total_area.hist(bins=300, range = (0,300), figsize = (10,5)); # гистограмма по общей площади"
   ]
  },
  {
   "cell_type": "markdown",
   "metadata": {},
   "source": [
    "По гистограмме можно сделать вывод, что большая часть жилья, выставленного на продажу находится в интервале до 150 м2. А наиболее значимая часть расположена в промежутке от 20 до 80 м2."
   ]
  },
  {
   "cell_type": "code",
   "execution_count": 35,
   "metadata": {},
   "outputs": [
    {
     "name": "stdout",
     "output_type": "stream",
     "text": [
      "count    21492.000000\n",
      "mean        33.212448\n",
      "std         17.452468\n",
      "min          2.000000\n",
      "25%         18.600000\n",
      "50%         30.000000\n",
      "75%         42.000000\n",
      "max        200.000000\n",
      "Name: living_area, dtype: float64\n",
      "\n",
      "18.000000    880\n",
      "17.000000    673\n",
      "30.000000    597\n",
      "16.000000    485\n",
      "20.000000    479\n",
      "            ... \n",
      "98.900000      1\n",
      "32.020000      1\n",
      "17.030000      1\n",
      "29.599998      1\n",
      "16.740000      1\n",
      "Name: living_area, Length: 1654, dtype: int64\n"
     ]
    }
   ],
   "source": [
    "print(data.living_area.describe())\n",
    "print()\n",
    "print(data.living_area.value_counts())"
   ]
  },
  {
   "cell_type": "code",
   "execution_count": 36,
   "metadata": {},
   "outputs": [
    {
     "data": {
      "image/png": "[encoded data removed]",
      "text/plain": [
       "<Figure size 720x360 with 1 Axes>"
      ]
     },
     "metadata": {
      "needs_background": "light"
     },
     "output_type": "display_data"
    }
   ],
   "source": [
    "data.living_area.hist(bins=300, range = (0,100), figsize = (10,5)); # гистограмма жилой площади в квадратных метрах (м²)"
   ]
  },
  {
   "cell_type": "code",
   "execution_count": 37,
   "metadata": {},
   "outputs": [
    {
     "name": "stdout",
     "output_type": "stream",
     "text": [
      "count    21124.000000\n",
      "mean        10.414617\n",
      "std          5.478684\n",
      "min          1.300000\n",
      "25%          7.000000\n",
      "50%          9.000000\n",
      "75%         12.000000\n",
      "max        107.000000\n",
      "Name: kitchen_area, dtype: float64\n",
      "\n",
      "6.00     1290\n",
      "10.00    1257\n",
      "8.00     1109\n",
      "9.00     1096\n",
      "7.00     1056\n",
      "         ... \n",
      "7.12        1\n",
      "13.73       1\n",
      "14.74       1\n",
      "13.41       1\n",
      "16.74       1\n",
      "Name: kitchen_area, Length: 943, dtype: int64\n"
     ]
    }
   ],
   "source": [
    "print(data.kitchen_area.describe())\n",
    "print()\n",
    "print(data.kitchen_area.value_counts())"
   ]
  },
  {
   "cell_type": "code",
   "execution_count": 38,
   "metadata": {},
   "outputs": [
    {
     "data": {
      "image/png": "[encoded data removed]",
      "text/plain": [
       "<Figure size 720x360 with 1 Axes>"
      ]
     },
     "metadata": {
      "needs_background": "light"
     },
     "output_type": "display_data"
    }
   ],
   "source": [
    "data.kitchen_area.hist(bins = 300, range = (0, 25), figsize = (10,5));"
   ]
  },
  {
   "cell_type": "markdown",
   "metadata": {},
   "source": [
    "Пик распределение площадей кухонь находится от 5 до 15 м2."
   ]
  },
  {
   "cell_type": "code",
   "execution_count": 39,
   "metadata": {},
   "outputs": [
    {
     "name": "stdout",
     "output_type": "stream",
     "text": [
      "count    2.336200e+04\n",
      "mean     6.026500e+06\n",
      "std      5.621847e+06\n",
      "min      1.219000e+04\n",
      "25%      3.400000e+06\n",
      "50%      4.600000e+06\n",
      "75%      6.699000e+06\n",
      "max      9.800000e+07\n",
      "Name: last_price, dtype: float64\n",
      "\n",
      "4500000     342\n",
      "3500000     291\n",
      "4300000     260\n",
      "4000000     259\n",
      "4200000     258\n",
      "           ... \n",
      "5535000       1\n",
      "26391824      1\n",
      "8353000       1\n",
      "7501000       1\n",
      "11615600      1\n",
      "Name: last_price, Length: 2879, dtype: int64\n"
     ]
    }
   ],
   "source": [
    "print(data.last_price.describe())\n",
    "print()\n",
    "print(data.last_price.value_counts())"
   ]
  },
  {
   "cell_type": "code",
   "execution_count": 40,
   "metadata": {
    "scrolled": true
   },
   "outputs": [
    {
     "data": {
      "image/png": "[encoded data removed]",
      "text/plain": [
       "<Figure size 720x360 with 1 Axes>"
      ]
     },
     "metadata": {
      "needs_background": "light"
     },
     "output_type": "display_data"
    }
   ],
   "source": [
    "data.last_price.hist(bins = 500 , range = (0, 100000000), figsize = (10, 5));"
   ]
  },
  {
   "cell_type": "markdown",
   "metadata": {},
   "source": [
    "Следует уменьшить диапазон гистограммы для более ясного понимания ситуации. По текущей гистограмме основные данные расположены до 40000000."
   ]
  },
  {
   "cell_type": "code",
   "execution_count": 41,
   "metadata": {},
   "outputs": [
    {
     "data": {
      "image/png": "[encoded data removed]",
      "text/plain": [
       "<Figure size 720x360 with 1 Axes>"
      ]
     },
     "metadata": {
      "needs_background": "light"
     },
     "output_type": "display_data"
    }
   ],
   "source": [
    "data.last_price.hist(bins = 500, range = (0, 15000000), figsize = (10, 5));"
   ]
  },
  {
   "cell_type": "markdown",
   "metadata": {},
   "source": [
    "После преобразования гистограммы можно сделать вывод, что большинство объявлений находятся в промежутке до 8000000."
   ]
  },
  {
   "cell_type": "code",
   "execution_count": 42,
   "metadata": {},
   "outputs": [
    {
     "data": {
      "image/png": "[encoded data removed]",
      "text/plain": [
       "<Figure size 720x360 with 1 Axes>"
      ]
     },
     "metadata": {
      "needs_background": "light"
     },
     "output_type": "display_data"
    }
   ],
   "source": [
    "data.rooms.hist(bins = 50, range = (1, 10), figsize=(10,5));"
   ]
  },
  {
   "cell_type": "markdown",
   "metadata": {},
   "source": [
    "Вывод по количествам комнат крайне логичный - большего всего 1-3 комнатных квартир, далее резкий спад."
   ]
  },
  {
   "cell_type": "code",
   "execution_count": 43,
   "metadata": {},
   "outputs": [
    {
     "data": {
      "image/png": "[encoded data removed]",
      "text/plain": [
       "<Figure size 432x288 with 1 Axes>"
      ]
     },
     "metadata": {
      "needs_background": "light"
     },
     "output_type": "display_data"
    }
   ],
   "source": [
    "data.ceiling_height.hist(bins = 100, range = (2, 5));"
   ]
  },
  {
   "cell_type": "markdown",
   "metadata": {},
   "source": [
    "Высота потолков логична - от 2.5 до 4 метров, с редкими исключеними."
   ]
  },
  {
   "cell_type": "code",
   "execution_count": 44,
   "metadata": {},
   "outputs": [
    {
     "data": {
      "image/png": "[encoded data removed]",
      "text/plain": [
       "<Figure size 432x288 with 1 Axes>"
      ]
     },
     "metadata": {
      "needs_background": "light"
     },
     "output_type": "display_data"
    }
   ],
   "source": [
    "data.floor.hist(bins = 50, range = (0, 30));"
   ]
  },
  {
   "cell_type": "markdown",
   "metadata": {},
   "source": [
    "Большая часть квартир расположена со 2 по 7 этаж."
   ]
  },
  {
   "cell_type": "code",
   "execution_count": 45,
   "metadata": {},
   "outputs": [
    {
     "data": {
      "image/png": "[encoded data removed]",
      "text/plain": [
       "<Figure size 432x288 with 1 Axes>"
      ]
     },
     "metadata": {
      "needs_background": "light"
     },
     "output_type": "display_data"
    }
   ],
   "source": [
    "data.type_of_floor.hist();"
   ]
  },
  {
   "cell_type": "markdown",
   "metadata": {},
   "source": [
    "Очевидно, что большая часть недвижемости расположена ни на первом, ни на последнем этаже."
   ]
  },
  {
   "cell_type": "code",
   "execution_count": 46,
   "metadata": {},
   "outputs": [
    {
     "data": {
      "image/png": "[encoded data removed]",
      "text/plain": [
       "<Figure size 720x360 with 1 Axes>"
      ]
     },
     "metadata": {
      "needs_background": "light"
     },
     "output_type": "display_data"
    }
   ],
   "source": [
    "data.floors_total.hist(bins = 100, figsize = (10, 5));"
   ]
  },
  {
   "cell_type": "markdown",
   "metadata": {},
   "source": [
    "Видно, что больше всего малоэтажных построек"
   ]
  },
  {
   "cell_type": "code",
   "execution_count": 47,
   "metadata": {},
   "outputs": [
    {
     "data": {
      "image/png": "[encoded data removed]",
      "text/plain": [
       "<Figure size 720x360 with 1 Axes>"
      ]
     },
     "metadata": {
      "needs_background": "light"
     },
     "output_type": "display_data"
    }
   ],
   "source": [
    "data.cityCenters_nearest.hist(bins = 100, figsize = (10, 5));"
   ]
  },
  {
   "cell_type": "markdown",
   "metadata": {},
   "source": [
    "Большая часть квартир находится в пределах 28 км от центра города."
   ]
  },
  {
   "cell_type": "code",
   "execution_count": 48,
   "metadata": {},
   "outputs": [
    {
     "data": {
      "image/png": "[encoded data removed]",
      "text/plain": [
       "<Figure size 720x360 with 1 Axes>"
      ]
     },
     "metadata": {
      "needs_background": "light"
     },
     "output_type": "display_data"
    }
   ],
   "source": [
    "data.airports_nearest.hist(bins = 100, figsize = (10, 5));"
   ]
  },
  {
   "cell_type": "markdown",
   "metadata": {},
   "source": [
    "В среднем от большинства квартир ехать до аэропорта около 40 км."
   ]
  },
  {
   "cell_type": "code",
   "execution_count": 49,
   "metadata": {},
   "outputs": [
    {
     "data": {
      "image/png": "[encoded data removed]",
      "text/plain": [
       "<Figure size 720x360 with 1 Axes>"
      ]
     },
     "metadata": {
      "needs_background": "light"
     },
     "output_type": "display_data"
    }
   ],
   "source": [
    "data.parks_nearest.hist(bins = 100, figsize = (10, 5));"
   ]
  },
  {
   "cell_type": "markdown",
   "metadata": {},
   "source": [
    "Самое частое расстояние до парка среди продаваемых квартир 450 м."
   ]
  },
  {
   "cell_type": "code",
   "execution_count": 50,
   "metadata": {},
   "outputs": [
    {
     "data": {
      "image/png": "[encoded data removed]",
      "text/plain": [
       "<Figure size 432x288 with 1 Axes>"
      ]
     },
     "metadata": {
      "needs_background": "light"
     },
     "output_type": "display_data"
    }
   ],
   "source": [
    "data.month.hist(bins = 100);"
   ]
  },
  {
   "cell_type": "markdown",
   "metadata": {},
   "source": [
    "В начале года объявлений чуть больше."
   ]
  },
  {
   "cell_type": "code",
   "execution_count": 51,
   "metadata": {},
   "outputs": [
    {
     "data": {
      "image/png": "[encoded data removed]",
      "text/plain": [
       "<Figure size 432x288 with 1 Axes>"
      ]
     },
     "metadata": {
      "needs_background": "light"
     },
     "output_type": "display_data"
    }
   ],
   "source": [
    "data.day_of_week.hist(bins = 100);"
   ]
  },
  {
   "cell_type": "markdown",
   "metadata": {},
   "source": [
    "Все равномерно, четверг слегка лидирует)"
   ]
  },
  {
   "cell_type": "markdown",
   "metadata": {},
   "source": [
    "#### Скорость продажи квартир.\n",
    "Этот параметр показывает, сколько дней было размещено каждое объявление."
   ]
  },
  {
   "cell_type": "code",
   "execution_count": 52,
   "metadata": {},
   "outputs": [
    {
     "data": {
      "image/png": "[encoded data removed]",
      "text/plain": [
       "<Figure size 432x288 with 1 Axes>"
      ]
     },
     "metadata": {
      "needs_background": "light"
     },
     "output_type": "display_data"
    }
   ],
   "source": [
    "data['days_exposition'].hist()\n",
    "plt.show()"
   ]
  },
  {
   "cell_type": "code",
   "execution_count": 53,
   "metadata": {},
   "outputs": [
    {
     "data": {
      "text/plain": [
       "179.9416613197769"
      ]
     },
     "execution_count": 53,
     "metadata": {},
     "output_type": "execute_result"
    }
   ],
   "source": [
    "data.days_exposition.mean()"
   ]
  },
  {
   "cell_type": "code",
   "execution_count": 54,
   "metadata": {},
   "outputs": [
    {
     "data": {
      "text/plain": [
       "95.0"
      ]
     },
     "execution_count": 54,
     "metadata": {},
     "output_type": "execute_result"
    }
   ],
   "source": [
    "data.days_exposition.median()"
   ]
  },
  {
   "cell_type": "markdown",
   "metadata": {},
   "source": [
    "Основная часть продаж квартир происходит в период первого года, далее - спад. В промежутке до 170 дней - самая активная фаза продаж. Медиана составляет всего 74 дня."
   ]
  },
  {
   "cell_type": "markdown",
   "metadata": {},
   "source": [
    "#### Изучение факторов, которые больше всего влияют на общую (полную) стоимость объекта."
   ]
  },
  {
   "cell_type": "code",
   "execution_count": 55,
   "metadata": {},
   "outputs": [
    {
     "data": {
      "image/png": "[encoded data removed]",
      "text/plain": [
       "<Figure size 432x288 with 1 Axes>"
      ]
     },
     "metadata": {
      "needs_background": "light"
     },
     "output_type": "display_data"
    }
   ],
   "source": [
    "data.plot(x='total_area', y='last_price',\\\n",
    "                  style='.', title='Зависимость цены от общей площади',\\\n",
    "                  alpha=0.5, grid=True, sharex=False)\n",
    "plt.show()"
   ]
  },
  {
   "cell_type": "code",
   "execution_count": 56,
   "metadata": {},
   "outputs": [
    {
     "data": {
      "image/png": "[encoded data removed]",
      "text/plain": [
       "<Figure size 720x360 with 1 Axes>"
      ]
     },
     "metadata": {
      "needs_background": "light"
     },
     "output_type": "display_data"
    }
   ],
   "source": [
    "data.pivot_table(index='total_area', values='last_price')\\\n",
    ".plot(style='-',title='Зависимость средней цены от общей площади', figsize=(10, 5))\n",
    "plt.show()"
   ]
  },
  {
   "cell_type": "markdown",
   "metadata": {},
   "source": [
    "Есть сильная зависимость."
   ]
  },
  {
   "cell_type": "code",
   "execution_count": 57,
   "metadata": {},
   "outputs": [
    {
     "name": "stdout",
     "output_type": "stream",
     "text": [
      "Коэффициент корреляции цены от общей площади 0.74\n"
     ]
    }
   ],
   "source": [
    "print('Коэффициент корреляции цены от общей площади', round(data['total_area'].corr(data['last_price']), 2))"
   ]
  },
  {
   "cell_type": "code",
   "execution_count": 58,
   "metadata": {},
   "outputs": [
    {
     "name": "stdout",
     "output_type": "stream",
     "text": [
      "Коэффициент корреляции цены от площади кухни 0.58\n"
     ]
    },
    {
     "data": {
      "image/png": "[encoded data removed]",
      "text/plain": [
       "<Figure size 720x360 with 1 Axes>"
      ]
     },
     "metadata": {
      "needs_background": "light"
     },
     "output_type": "display_data"
    }
   ],
   "source": [
    "data.pivot_table(index='kitchen_area', values='last_price')\\\n",
    ".plot(style='-',title='Зависимость средней цены от площади кухни', figsize=(10, 5))\n",
    "plt.show \n",
    "print('Коэффициент корреляции цены от площади кухни', round(data['kitchen_area'].corr(data['last_price']), 2))"
   ]
  },
  {
   "cell_type": "markdown",
   "metadata": {},
   "source": [
    "Зависимость от площади кухни несильная."
   ]
  },
  {
   "cell_type": "code",
   "execution_count": 59,
   "metadata": {},
   "outputs": [
    {
     "name": "stdout",
     "output_type": "stream",
     "text": [
      "Коэффициент корреляции цены от этажа 0.05\n"
     ]
    },
    {
     "data": {
      "image/png": "[encoded data removed]",
      "text/plain": [
       "<Figure size 720x360 with 1 Axes>"
      ]
     },
     "metadata": {
      "needs_background": "light"
     },
     "output_type": "display_data"
    }
   ],
   "source": [
    "data.pivot_table(index='floor', values='last_price')\\\n",
    ".plot(style='-',title='Зависимость средней цены от этажа', figsize=(10, 5))\n",
    "plt.show\n",
    "print('Коэффициент корреляции цены от этажа', round(data['floor'].corr(data['last_price']), 2))"
   ]
  },
  {
   "cell_type": "markdown",
   "metadata": {},
   "source": [
    "Пик на двадцатипятиэтажках."
   ]
  },
  {
   "cell_type": "code",
   "execution_count": 60,
   "metadata": {},
   "outputs": [
    {
     "name": "stdout",
     "output_type": "stream",
     "text": [
      "Коэффициент корреляции цены от количества комнат 0.43\n"
     ]
    },
    {
     "data": {
      "image/png": "[encoded data removed]",
      "text/plain": [
       "<Figure size 720x288 with 1 Axes>"
      ]
     },
     "metadata": {
      "needs_background": "light"
     },
     "output_type": "display_data"
    }
   ],
   "source": [
    "data.pivot_table(index='rooms', values='last_price')\\\n",
    ".plot(style='-',title='Зависимость средней цены от количества комнат', figsize=(10,4))\n",
    "plt.show\n",
    "print('Коэффициент корреляции цены от количества комнат', round(data['rooms'].corr(data['last_price']), 2))"
   ]
  },
  {
   "cell_type": "markdown",
   "metadata": {},
   "source": [
    "Зависимость от количества комнат менее явная."
   ]
  },
  {
   "cell_type": "code",
   "execution_count": 61,
   "metadata": {},
   "outputs": [
    {
     "data": {
      "image/png": "[encoded data removed]",
      "text/plain": [
       "<Figure size 720x288 with 1 Axes>"
      ]
     },
     "metadata": {
      "needs_background": "light"
     },
     "output_type": "display_data"
    }
   ],
   "source": [
    "data.pivot_table(index='type_of_floor', values='last_price', aggfunc=('median'))\\\n",
    ".plot(style='-',title='Зависимость средней цены от типа этажей', figsize=(10,4), kind='bar', logy=True)\n",
    "plt.show()"
   ]
  },
  {
   "cell_type": "markdown",
   "metadata": {},
   "source": [
    "Анализ медианных значений показвает наиболее низкую стоимость квартир на первых этажах, а также снижение стоимости на последних этажах по сравнению с другими."
   ]
  },
  {
   "cell_type": "code",
   "execution_count": 62,
   "metadata": {},
   "outputs": [
    {
     "data": {
      "text/plain": [
       "<function matplotlib.pyplot.show(close=None, block=None)>"
      ]
     },
     "execution_count": 62,
     "metadata": {},
     "output_type": "execute_result"
    },
    {
     "data": {
      "image/png": "[encoded data removed]",
      "text/plain": [
       "<Figure size 720x360 with 1 Axes>"
      ]
     },
     "metadata": {
      "needs_background": "light"
     },
     "output_type": "display_data"
    }
   ],
   "source": [
    "data.pivot_table(index='day_of_week', values='last_price')\\\n",
    ".plot(style='-',title='Зависимость средней цены от дня недели размещения объявления', figsize=(10, 5))\n",
    "plt.show"
   ]
  },
  {
   "cell_type": "markdown",
   "metadata": {},
   "source": [
    "Нулевая зависимость между ценой и днем размещения."
   ]
  },
  {
   "cell_type": "code",
   "execution_count": 63,
   "metadata": {},
   "outputs": [
    {
     "data": {
      "text/plain": [
       "<function matplotlib.pyplot.show(close=None, block=None)>"
      ]
     },
     "execution_count": 63,
     "metadata": {},
     "output_type": "execute_result"
    },
    {
     "data": {
      "image/png": "[encoded data removed]",
      "text/plain": [
       "<Figure size 720x360 with 1 Axes>"
      ]
     },
     "metadata": {
      "needs_background": "light"
     },
     "output_type": "display_data"
    }
   ],
   "source": [
    "data.pivot_table(index='month', values='last_price')\\\n",
    ".plot(style='-',title='Зависимость средней цены от месяца размещения объявления', figsize=(10, 5))\n",
    "plt.show"
   ]
  },
  {
   "cell_type": "markdown",
   "metadata": {},
   "source": [
    "Нулевая зависимость между ценой и месяцем размещения."
   ]
  },
  {
   "cell_type": "code",
   "execution_count": 64,
   "metadata": {},
   "outputs": [
    {
     "data": {
      "text/plain": [
       "<function matplotlib.pyplot.show(close=None, block=None)>"
      ]
     },
     "execution_count": 64,
     "metadata": {},
     "output_type": "execute_result"
    },
    {
     "data": {
      "image/png": "[encoded data removed]",
      "text/plain": [
       "<Figure size 720x360 with 1 Axes>"
      ]
     },
     "metadata": {
      "needs_background": "light"
     },
     "output_type": "display_data"
    }
   ],
   "source": [
    "data.pivot_table(index='year', values='last_price')\\\n",
    ".plot(style='-',title='Зависимость средней цены от года размещения объявления', figsize=(10, 5))\n",
    "plt.show"
   ]
  },
  {
   "cell_type": "markdown",
   "metadata": {},
   "source": [
    "Коэффициент корреляции показывает отсутствие зависимости цены от года объявления."
   ]
  },
  {
   "cell_type": "markdown",
   "metadata": {},
   "source": [
    "#### Посчитайте среднюю цену одного квадратного метра в 10 населённых пунктах с наибольшим числом объявлений."
   ]
  },
  {
   "cell_type": "code",
   "execution_count": 65,
   "metadata": {},
   "outputs": [
    {
     "data": {
      "text/html": [
       "<div>\n",
       "<style scoped>\n",
       "    .dataframe tbody tr th:only-of-type {\n",
       "        vertical-align: middle;\n",
       "    }\n",
       "\n",
       "    .dataframe tbody tr th {\n",
       "        vertical-align: top;\n",
       "    }\n",
       "\n",
       "    .dataframe thead tr th {\n",
       "        text-align: left;\n",
       "    }\n",
       "\n",
       "    .dataframe thead tr:last-of-type th {\n",
       "        text-align: right;\n",
       "    }\n",
       "</style>\n",
       "<table border=\"1\" class=\"dataframe\">\n",
       "  <thead>\n",
       "    <tr>\n",
       "      <th></th>\n",
       "      <th>count</th>\n",
       "      <th>mean</th>\n",
       "      <th>median</th>\n",
       "    </tr>\n",
       "    <tr>\n",
       "      <th></th>\n",
       "      <th>last_price</th>\n",
       "      <th>last_price</th>\n",
       "      <th>last_price</th>\n",
       "    </tr>\n",
       "    <tr>\n",
       "      <th>locality_name</th>\n",
       "      <th></th>\n",
       "      <th></th>\n",
       "      <th></th>\n",
       "    </tr>\n",
       "  </thead>\n",
       "  <tbody>\n",
       "    <tr>\n",
       "      <th>Санкт-Петербург</th>\n",
       "      <td>15433</td>\n",
       "      <td>7.309004e+06</td>\n",
       "      <td>5500000.0</td>\n",
       "    </tr>\n",
       "    <tr>\n",
       "      <th>Пушкин</th>\n",
       "      <td>363</td>\n",
       "      <td>6.308607e+06</td>\n",
       "      <td>5150000.0</td>\n",
       "    </tr>\n",
       "    <tr>\n",
       "      <th>Парголово</th>\n",
       "      <td>325</td>\n",
       "      <td>4.482463e+06</td>\n",
       "      <td>4100000.0</td>\n",
       "    </tr>\n",
       "    <tr>\n",
       "      <th>Кудрово</th>\n",
       "      <td>471</td>\n",
       "      <td>4.360299e+06</td>\n",
       "      <td>3890000.0</td>\n",
       "    </tr>\n",
       "    <tr>\n",
       "      <th>Шушары</th>\n",
       "      <td>440</td>\n",
       "      <td>4.108082e+06</td>\n",
       "      <td>3950000.0</td>\n",
       "    </tr>\n",
       "    <tr>\n",
       "      <th>Колпино</th>\n",
       "      <td>336</td>\n",
       "      <td>3.868569e+06</td>\n",
       "      <td>3600000.0</td>\n",
       "    </tr>\n",
       "    <tr>\n",
       "      <th>Всеволожск</th>\n",
       "      <td>397</td>\n",
       "      <td>3.792819e+06</td>\n",
       "      <td>3450000.0</td>\n",
       "    </tr>\n",
       "    <tr>\n",
       "      <th>Мурино</th>\n",
       "      <td>590</td>\n",
       "      <td>3.678462e+06</td>\n",
       "      <td>3400000.0</td>\n",
       "    </tr>\n",
       "    <tr>\n",
       "      <th>Гатчина</th>\n",
       "      <td>307</td>\n",
       "      <td>3.488337e+06</td>\n",
       "      <td>3100000.0</td>\n",
       "    </tr>\n",
       "    <tr>\n",
       "      <th>Выборг</th>\n",
       "      <td>235</td>\n",
       "      <td>3.260779e+06</td>\n",
       "      <td>2900000.0</td>\n",
       "    </tr>\n",
       "  </tbody>\n",
       "</table>\n",
       "</div>"
      ],
      "text/plain": [
       "                     count          mean     median\n",
       "                last_price    last_price last_price\n",
       "locality_name                                      \n",
       "Санкт-Петербург      15433  7.309004e+06  5500000.0\n",
       "Пушкин                 363  6.308607e+06  5150000.0\n",
       "Парголово              325  4.482463e+06  4100000.0\n",
       "Кудрово                471  4.360299e+06  3890000.0\n",
       "Шушары                 440  4.108082e+06  3950000.0\n",
       "Колпино                336  3.868569e+06  3600000.0\n",
       "Всеволожск             397  3.792819e+06  3450000.0\n",
       "Мурино                 590  3.678462e+06  3400000.0\n",
       "Гатчина                307  3.488337e+06  3100000.0\n",
       "Выборг                 235  3.260779e+06  2900000.0"
      ]
     },
     "execution_count": 65,
     "metadata": {},
     "output_type": "execute_result"
    }
   ],
   "source": [
    "data.pivot_table(index='locality_name', values='last_price', aggfunc=['count', 'mean', 'median'])\\\n",
    ".sort_values(('count', 'last_price'), ascending=False)\\\n",
    ".head(10)\\\n",
    ".sort_values(('mean', 'last_price'), ascending=False)\n"
   ]
  },
  {
   "cell_type": "markdown",
   "metadata": {},
   "source": [
    "Из 10 городов с наибольшим количеством объявлений, максимальная средняя стоимость в Санкт-Петербурге, минимальная средняя стоимость в Выборге."
   ]
  },
  {
   "cell_type": "code",
   "execution_count": 66,
   "metadata": {
    "scrolled": true
   },
   "outputs": [
    {
     "data": {
      "image/png": "[encoded data removed]",
      "text/plain": [
       "<Figure size 720x576 with 1 Axes>"
      ]
     },
     "metadata": {
      "needs_background": "light"
     },
     "output_type": "display_data"
    }
   ],
   "source": [
    "price_in_spb = data.query('locality_name == \"Санкт-Петербург\"')\n",
    "price_in_spb = price_in_spb.pivot_table(index='distance_to_the_city_center_in_kilometers', values='square_meter')\n",
    "(price_in_spb.plot(kind='bar', \n",
    "                   ec='red', \n",
    "                   figsize=(10,8), \n",
    "                   title='Зависимость цены за квадратный метр от центра города'));"
   ]
  },
  {
   "cell_type": "markdown",
   "metadata": {},
   "source": [
    "Чем ближе к центру - тем выше цена."
   ]
  },
  {
   "cell_type": "markdown",
   "metadata": {},
   "source": [
    "### Общий вывод"
   ]
  },
  {
   "cell_type": "markdown",
   "metadata": {},
   "source": [
    "Мы анализовали данные сервиса Яндекс.Недвижимость — архив объявлений о продаже квартир в Санкт-Петербурге и соседних населённых пунктов за несколько лет.\n",
    "\n",
    "Что было сделано?\n",
    "\n",
    "В шаге изучания информации:\n",
    "- загрузжены данные из файла в датафрейм.\n",
    "- построены общие гистограммы для всех числовых столбцов таблицы.\n",
    "\n",
    "В шаге предобработки данных:\n",
    "- определено в каких столбцах есть пропуски.\n",
    "- заполнены пропущенные значения там, где это возможно.\n",
    "- указаны причины, которые могли привести к пропускам в данных.\n",
    "- изучены уникальные значения в столбце с названиями и устраните неявные дубликаты.\n",
    "- найдите и устранены редкие и выбивающиеся значения.\n",
    "\n",
    "В шаге добавления в таблицу новых столбцов со следующими параметрами:\n",
    "- цена одного квадратного метра;\n",
    "- день недели публикации объявления (0 — понедельник, 1 — вторник и так далее);\n",
    "- месяц публикации объявления;\n",
    "- год публикации объявления;\n",
    "- тип этажа квартиры (значения — «первый», «последний», «другой»);\n",
    "- расстояние до центра города в километрах (переведите из м в км и округлите до целых значений).\n",
    "\n",
    "Исследовательский анализ данных показал:\n",
    "\n",
    "Изучив параметры недвижимости, можно сделать вывод о наиболее продаваемом объекте недвижимости: это 1-2 комнатная квартира на 2-м - 7-м этаже с общей площадью 20-80 кв.м. с жилой площадью 12-22 кв.м. и площадью кухни около 10 кв.м., стоимостью 4 млн.руб. и высотой потолков от 2.5 до 4 метров, удаленная от центра на 12-16 км., от парка на 450 м и от аэропорта на 12-20 км.\n",
    "\n",
    "Проведя анализ скорости продажи квартир, обнаружили, что среднее время продажи квартиры составляет 156 дней. Медианное значение составляет 74 дней, что сильно отличается от среднего. Чаще всего объекты продавались к 80 дню после подачи объявлений.\n",
    "\n",
    "Изучив факторы, влияющие на стоимость объекта, выяснили что больше всего на стоимость влияет полная площадь квартир. Самая низкая цена у квартир на первом этаже, а выше всего цены на квартиры, находящиеся ни на первом, ни на последнем этаже. Увидели, что с 2014 года цены на квартиры падали, в 2018 году была самая низкая цена продаж, после чего цены вновь начали расти. \n",
    "\n",
    "Проанализировав стоимость объектов в зависимости от расстояния до центра в километрах убедились, что с приблежением к центру Санкт-Петербурга стоимость квадратного метра увеличивается.\n",
    "\n",
    "После анализа цены одного квадратного метра, выяснили, что среди 10 населенных пунктов с наибольшим количеством объявлений максимальная стоимость квадратного метра наблюдается в Санкт-Петербурге, минимальная - в Выборге.\n"
   ]
  }
 ],
 "metadata": {
  "ExecuteTimeLog": [
   {
    "duration": 682,
    "start_time": "2023-08-14T08:32:48.363Z"
   },
   {
    "duration": 96,
    "start_time": "2023-08-14T08:33:40.487Z"
   },
   {
    "duration": 98,
    "start_time": "2023-08-14T08:37:08.533Z"
   },
   {
    "duration": 95,
    "start_time": "2023-08-14T08:37:16.422Z"
   },
   {
    "duration": 90,
    "start_time": "2023-08-14T08:37:20.094Z"
   },
   {
    "duration": 108,
    "start_time": "2023-08-14T08:38:39.972Z"
   },
   {
    "duration": 102,
    "start_time": "2023-08-14T08:38:52.684Z"
   },
   {
    "duration": 13,
    "start_time": "2023-08-14T08:39:19.221Z"
   },
   {
    "duration": 5,
    "start_time": "2023-08-14T08:43:42.982Z"
   },
   {
    "duration": 2216,
    "start_time": "2023-08-14T08:44:47.157Z"
   },
   {
    "duration": 23,
    "start_time": "2023-08-14T08:48:22.106Z"
   },
   {
    "duration": 23,
    "start_time": "2023-08-14T08:48:47.324Z"
   },
   {
    "duration": 7,
    "start_time": "2023-08-14T08:48:58.916Z"
   },
   {
    "duration": 16,
    "start_time": "2023-08-14T08:49:27.903Z"
   },
   {
    "duration": 5,
    "start_time": "2023-08-14T08:49:44.221Z"
   },
   {
    "duration": 9,
    "start_time": "2023-08-14T08:55:09.793Z"
   },
   {
    "duration": 5,
    "start_time": "2023-08-14T09:28:21.644Z"
   },
   {
    "duration": 7,
    "start_time": "2023-08-14T09:28:50.839Z"
   },
   {
    "duration": 6,
    "start_time": "2023-08-14T09:28:53.136Z"
   },
   {
    "duration": 9,
    "start_time": "2023-08-14T09:29:00.500Z"
   },
   {
    "duration": 5,
    "start_time": "2023-08-14T09:29:14.003Z"
   },
   {
    "duration": 4,
    "start_time": "2023-08-14T09:29:17.562Z"
   },
   {
    "duration": 5,
    "start_time": "2023-08-14T09:29:31.617Z"
   },
   {
    "duration": 6,
    "start_time": "2023-08-14T09:29:53.389Z"
   },
   {
    "duration": 5,
    "start_time": "2023-08-14T09:30:19.681Z"
   },
   {
    "duration": 9,
    "start_time": "2023-08-14T09:30:24.804Z"
   },
   {
    "duration": 8,
    "start_time": "2023-08-14T09:34:21.691Z"
   },
   {
    "duration": 5,
    "start_time": "2023-08-14T09:34:34.888Z"
   },
   {
    "duration": 6,
    "start_time": "2023-08-14T09:35:19.229Z"
   },
   {
    "duration": 6,
    "start_time": "2023-08-14T09:37:47.168Z"
   },
   {
    "duration": 4,
    "start_time": "2023-08-14T09:39:39.304Z"
   },
   {
    "duration": 7,
    "start_time": "2023-08-14T09:39:45.850Z"
   },
   {
    "duration": 6,
    "start_time": "2023-08-14T09:39:53.820Z"
   },
   {
    "duration": 4,
    "start_time": "2023-08-14T09:40:17.451Z"
   },
   {
    "duration": 6,
    "start_time": "2023-08-14T09:53:16.722Z"
   },
   {
    "duration": 77,
    "start_time": "2023-08-14T09:54:52.679Z"
   },
   {
    "duration": 26,
    "start_time": "2023-08-14T09:55:45.445Z"
   },
   {
    "duration": 23,
    "start_time": "2023-08-14T09:55:59.880Z"
   },
   {
    "duration": 6,
    "start_time": "2023-08-14T09:57:09.413Z"
   },
   {
    "duration": 1836,
    "start_time": "2023-08-14T09:59:45.354Z"
   },
   {
    "duration": 1804,
    "start_time": "2023-08-14T09:59:50.354Z"
   },
   {
    "duration": 5,
    "start_time": "2023-08-14T10:02:18.279Z"
   },
   {
    "duration": 4,
    "start_time": "2023-08-14T10:02:41.233Z"
   },
   {
    "duration": 6,
    "start_time": "2023-08-14T10:02:53.181Z"
   },
   {
    "duration": 3,
    "start_time": "2023-08-14T10:03:03.601Z"
   },
   {
    "duration": 5,
    "start_time": "2023-08-14T10:03:21.405Z"
   },
   {
    "duration": 7,
    "start_time": "2023-08-14T10:03:29.002Z"
   },
   {
    "duration": 11,
    "start_time": "2023-08-14T10:03:46.149Z"
   },
   {
    "duration": 9,
    "start_time": "2023-08-14T10:04:04.569Z"
   },
   {
    "duration": 5,
    "start_time": "2023-08-14T10:04:49.654Z"
   },
   {
    "duration": 6,
    "start_time": "2023-08-14T10:05:40.675Z"
   },
   {
    "duration": 6,
    "start_time": "2023-08-14T10:06:34.958Z"
   },
   {
    "duration": 6,
    "start_time": "2023-08-14T10:06:46.966Z"
   },
   {
    "duration": 15,
    "start_time": "2023-08-14T10:07:30.337Z"
   },
   {
    "duration": 8,
    "start_time": "2023-08-14T10:08:29.050Z"
   },
   {
    "duration": 17,
    "start_time": "2023-08-14T10:10:09.635Z"
   },
   {
    "duration": 7,
    "start_time": "2023-08-14T10:10:22.793Z"
   },
   {
    "duration": 9,
    "start_time": "2023-08-14T10:10:30.670Z"
   },
   {
    "duration": 113,
    "start_time": "2023-08-14T10:17:30.998Z"
   },
   {
    "duration": 5,
    "start_time": "2023-08-14T10:17:45.513Z"
   },
   {
    "duration": 125,
    "start_time": "2023-08-14T10:17:50.731Z"
   },
   {
    "duration": 14,
    "start_time": "2023-08-14T10:17:55.001Z"
   },
   {
    "duration": 5,
    "start_time": "2023-08-14T10:17:59.071Z"
   },
   {
    "duration": 1917,
    "start_time": "2023-08-14T10:18:01.690Z"
   },
   {
    "duration": 25,
    "start_time": "2023-08-14T10:19:01.095Z"
   },
   {
    "duration": 10,
    "start_time": "2023-08-14T10:19:15.087Z"
   },
   {
    "duration": 7,
    "start_time": "2023-08-14T10:19:59.984Z"
   },
   {
    "duration": 5,
    "start_time": "2023-08-14T10:20:30.362Z"
   },
   {
    "duration": 6,
    "start_time": "2023-08-14T10:21:41.049Z"
   },
   {
    "duration": 8,
    "start_time": "2023-08-14T10:21:47.790Z"
   },
   {
    "duration": 8,
    "start_time": "2023-08-14T10:21:56.561Z"
   },
   {
    "duration": 5,
    "start_time": "2023-08-14T10:29:35.452Z"
   },
   {
    "duration": 5,
    "start_time": "2023-08-14T10:29:39.721Z"
   },
   {
    "duration": 7,
    "start_time": "2023-08-14T10:30:03.050Z"
   },
   {
    "duration": 6,
    "start_time": "2023-08-14T10:30:05.111Z"
   },
   {
    "duration": 7,
    "start_time": "2023-08-14T10:30:09.519Z"
   },
   {
    "duration": 16,
    "start_time": "2023-08-14T10:30:14.136Z"
   },
   {
    "duration": 114,
    "start_time": "2023-08-14T10:31:23.494Z"
   },
   {
    "duration": 20,
    "start_time": "2023-08-14T10:31:25.651Z"
   },
   {
    "duration": 5,
    "start_time": "2023-08-14T10:31:28.600Z"
   },
   {
    "duration": 10,
    "start_time": "2023-08-14T10:31:31.867Z"
   },
   {
    "duration": 6,
    "start_time": "2023-08-14T10:31:37.096Z"
   },
   {
    "duration": 8,
    "start_time": "2023-08-14T10:31:52.118Z"
   },
   {
    "duration": 4,
    "start_time": "2023-08-14T10:36:50.113Z"
   },
   {
    "duration": 13,
    "start_time": "2023-08-14T10:37:02.546Z"
   },
   {
    "duration": 7,
    "start_time": "2023-08-14T10:37:50.113Z"
   },
   {
    "duration": 6,
    "start_time": "2023-08-14T11:12:26.393Z"
   },
   {
    "duration": 7,
    "start_time": "2023-08-14T12:41:00.785Z"
   },
   {
    "duration": 108,
    "start_time": "2023-08-14T12:41:09.684Z"
   },
   {
    "duration": 14,
    "start_time": "2023-08-14T12:41:11.581Z"
   },
   {
    "duration": 4,
    "start_time": "2023-08-14T12:41:13.584Z"
   },
   {
    "duration": 1805,
    "start_time": "2023-08-14T12:41:15.564Z"
   },
   {
    "duration": 14,
    "start_time": "2023-08-14T12:41:19.630Z"
   },
   {
    "duration": 16,
    "start_time": "2023-08-14T12:41:24.233Z"
   },
   {
    "duration": 7,
    "start_time": "2023-08-14T12:41:31.001Z"
   },
   {
    "duration": 8,
    "start_time": "2023-08-14T13:20:18.983Z"
   },
   {
    "duration": 7,
    "start_time": "2023-08-14T13:20:50.261Z"
   },
   {
    "duration": 108,
    "start_time": "2023-08-14T13:20:57.886Z"
   },
   {
    "duration": 13,
    "start_time": "2023-08-14T13:20:58.762Z"
   },
   {
    "duration": 5,
    "start_time": "2023-08-14T13:20:59.374Z"
   },
   {
    "duration": 1795,
    "start_time": "2023-08-14T13:20:59.795Z"
   },
   {
    "duration": 9,
    "start_time": "2023-08-14T13:21:01.592Z"
   },
   {
    "duration": 49,
    "start_time": "2023-08-14T13:21:01.603Z"
   },
   {
    "duration": 6,
    "start_time": "2023-08-14T13:21:02.517Z"
   },
   {
    "duration": 8,
    "start_time": "2023-08-14T13:21:05.266Z"
   },
   {
    "duration": 9,
    "start_time": "2023-08-14T13:21:06.175Z"
   },
   {
    "duration": 7,
    "start_time": "2023-08-14T13:32:47.169Z"
   },
   {
    "duration": 4,
    "start_time": "2023-08-14T13:50:25.589Z"
   },
   {
    "duration": 7,
    "start_time": "2023-08-14T13:50:37.462Z"
   },
   {
    "duration": 6,
    "start_time": "2023-08-14T13:50:49.775Z"
   },
   {
    "duration": 8,
    "start_time": "2023-08-14T13:51:01.325Z"
   },
   {
    "duration": 9,
    "start_time": "2023-08-14T13:51:21.964Z"
   },
   {
    "duration": 7,
    "start_time": "2023-08-14T13:54:18.061Z"
   },
   {
    "duration": 63,
    "start_time": "2023-08-14T13:55:04.277Z"
   },
   {
    "duration": 99,
    "start_time": "2023-08-14T14:07:17.427Z"
   },
   {
    "duration": 14,
    "start_time": "2023-08-14T14:07:40.473Z"
   },
   {
    "duration": 25,
    "start_time": "2023-08-14T14:08:42.135Z"
   },
   {
    "duration": 5,
    "start_time": "2023-08-14T14:09:41.861Z"
   },
   {
    "duration": 14,
    "start_time": "2023-08-14T14:09:45.175Z"
   },
   {
    "duration": 13,
    "start_time": "2023-08-14T14:11:00.562Z"
   },
   {
    "duration": 26,
    "start_time": "2023-08-14T14:11:27.434Z"
   },
   {
    "duration": 13,
    "start_time": "2023-08-14T14:11:29.284Z"
   },
   {
    "duration": 4,
    "start_time": "2023-08-14T14:11:46.280Z"
   },
   {
    "duration": 7,
    "start_time": "2023-08-14T14:11:47.565Z"
   },
   {
    "duration": 6,
    "start_time": "2023-08-14T14:13:02.561Z"
   },
   {
    "duration": 9,
    "start_time": "2023-08-14T14:19:25.663Z"
   },
   {
    "duration": 8,
    "start_time": "2023-08-14T14:20:13.059Z"
   },
   {
    "duration": 5,
    "start_time": "2023-08-14T14:20:15.516Z"
   },
   {
    "duration": 6,
    "start_time": "2023-08-14T14:20:29.674Z"
   },
   {
    "duration": 381,
    "start_time": "2023-08-14T14:22:28.012Z"
   },
   {
    "duration": 45,
    "start_time": "2023-08-14T14:22:37.124Z"
   },
   {
    "duration": 51,
    "start_time": "2023-08-14T14:23:43.734Z"
   },
   {
    "duration": 41,
    "start_time": "2023-08-14T14:24:57.153Z"
   },
   {
    "duration": 5,
    "start_time": "2023-08-14T15:12:08.897Z"
   },
   {
    "duration": 6,
    "start_time": "2023-08-14T16:07:01.302Z"
   },
   {
    "duration": 5,
    "start_time": "2023-08-14T16:07:23.950Z"
   },
   {
    "duration": 7,
    "start_time": "2023-08-14T16:08:56.126Z"
   },
   {
    "duration": 17,
    "start_time": "2023-08-14T16:17:45.832Z"
   },
   {
    "duration": 5,
    "start_time": "2023-08-14T16:17:48.595Z"
   },
   {
    "duration": 6,
    "start_time": "2023-08-14T16:24:58.262Z"
   },
   {
    "duration": 7,
    "start_time": "2023-08-14T16:25:08.626Z"
   },
   {
    "duration": 6,
    "start_time": "2023-08-14T16:25:33.101Z"
   },
   {
    "duration": 6,
    "start_time": "2023-08-14T16:25:35.695Z"
   },
   {
    "duration": 6,
    "start_time": "2023-08-14T16:26:23.008Z"
   },
   {
    "duration": 7,
    "start_time": "2023-08-14T16:26:24.717Z"
   },
   {
    "duration": 8,
    "start_time": "2023-08-14T16:26:32.091Z"
   },
   {
    "duration": 5,
    "start_time": "2023-08-14T16:26:40.103Z"
   },
   {
    "duration": 4,
    "start_time": "2023-08-14T16:26:54.450Z"
   },
   {
    "duration": 5,
    "start_time": "2023-08-14T16:26:56.502Z"
   },
   {
    "duration": 4,
    "start_time": "2023-08-14T16:27:07.498Z"
   },
   {
    "duration": 4,
    "start_time": "2023-08-14T16:27:08.988Z"
   },
   {
    "duration": 3,
    "start_time": "2023-08-14T16:27:26.965Z"
   },
   {
    "duration": 4,
    "start_time": "2023-08-14T16:27:28.584Z"
   },
   {
    "duration": 4,
    "start_time": "2023-08-14T16:27:29.858Z"
   },
   {
    "duration": 4,
    "start_time": "2023-08-14T16:27:31.986Z"
   },
   {
    "duration": 4,
    "start_time": "2023-08-14T16:27:33.530Z"
   },
   {
    "duration": 5,
    "start_time": "2023-08-14T16:27:36.109Z"
   },
   {
    "duration": 3,
    "start_time": "2023-08-14T16:27:52.162Z"
   },
   {
    "duration": 4,
    "start_time": "2023-08-14T16:27:53.495Z"
   },
   {
    "duration": 5,
    "start_time": "2023-08-14T16:27:54.494Z"
   },
   {
    "duration": 104,
    "start_time": "2023-08-14T16:27:58.270Z"
   },
   {
    "duration": 12,
    "start_time": "2023-08-14T16:27:58.684Z"
   },
   {
    "duration": 4,
    "start_time": "2023-08-14T16:27:59.064Z"
   },
   {
    "duration": 1779,
    "start_time": "2023-08-14T16:27:59.303Z"
   },
   {
    "duration": 12,
    "start_time": "2023-08-14T16:28:01.085Z"
   },
   {
    "duration": 6,
    "start_time": "2023-08-14T16:28:01.994Z"
   },
   {
    "duration": 7,
    "start_time": "2023-08-14T16:28:03.100Z"
   },
   {
    "duration": 7,
    "start_time": "2023-08-14T16:28:03.612Z"
   },
   {
    "duration": 8,
    "start_time": "2023-08-14T16:28:04.928Z"
   },
   {
    "duration": 8,
    "start_time": "2023-08-14T16:28:05.793Z"
   },
   {
    "duration": 4,
    "start_time": "2023-08-14T16:28:06.478Z"
   },
   {
    "duration": 8,
    "start_time": "2023-08-14T16:28:07.318Z"
   },
   {
    "duration": 36,
    "start_time": "2023-08-14T16:28:09.129Z"
   },
   {
    "duration": 8,
    "start_time": "2023-08-14T16:28:11.062Z"
   },
   {
    "duration": 5,
    "start_time": "2023-08-14T16:28:14.777Z"
   },
   {
    "duration": 8,
    "start_time": "2023-08-14T16:28:16.229Z"
   },
   {
    "duration": 6,
    "start_time": "2023-08-14T16:28:17.277Z"
   },
   {
    "duration": 9,
    "start_time": "2023-08-14T16:30:12.350Z"
   },
   {
    "duration": 4,
    "start_time": "2023-08-14T16:30:17.374Z"
   },
   {
    "duration": 6,
    "start_time": "2023-08-14T16:30:19.389Z"
   },
   {
    "duration": 6,
    "start_time": "2023-08-14T16:30:21.077Z"
   },
   {
    "duration": 5,
    "start_time": "2023-08-14T16:30:26.900Z"
   },
   {
    "duration": 781,
    "start_time": "2023-08-15T07:58:21.099Z"
   },
   {
    "duration": 16,
    "start_time": "2023-08-15T07:58:23.574Z"
   },
   {
    "duration": 5,
    "start_time": "2023-08-15T07:58:25.878Z"
   },
   {
    "duration": 2617,
    "start_time": "2023-08-15T07:58:27.877Z"
   },
   {
    "duration": 2062,
    "start_time": "2023-08-15T07:58:32.709Z"
   },
   {
    "duration": 10,
    "start_time": "2023-08-15T07:58:34.773Z"
   },
   {
    "duration": 10,
    "start_time": "2023-08-15T07:58:39.534Z"
   },
   {
    "duration": 7,
    "start_time": "2023-08-15T07:58:40.227Z"
   },
   {
    "duration": 8,
    "start_time": "2023-08-15T07:58:42.237Z"
   },
   {
    "duration": 9,
    "start_time": "2023-08-15T07:58:42.576Z"
   },
   {
    "duration": 9,
    "start_time": "2023-08-15T07:58:43.611Z"
   },
   {
    "duration": 9,
    "start_time": "2023-08-15T07:58:45.355Z"
   },
   {
    "duration": 6,
    "start_time": "2023-08-15T07:58:47.614Z"
   },
   {
    "duration": 12,
    "start_time": "2023-08-15T07:59:59.355Z"
   },
   {
    "duration": 9,
    "start_time": "2023-08-15T08:00:24.836Z"
   },
   {
    "duration": 6,
    "start_time": "2023-08-15T08:00:27.609Z"
   },
   {
    "duration": 8,
    "start_time": "2023-08-15T08:00:29.232Z"
   },
   {
    "duration": 7,
    "start_time": "2023-08-15T08:00:30.596Z"
   },
   {
    "duration": 7,
    "start_time": "2023-08-15T08:00:32.218Z"
   },
   {
    "duration": 4,
    "start_time": "2023-08-15T09:07:10.913Z"
   },
   {
    "duration": 4,
    "start_time": "2023-08-15T09:07:29.316Z"
   },
   {
    "duration": 27,
    "start_time": "2023-08-15T09:08:04.640Z"
   },
   {
    "duration": 8,
    "start_time": "2023-08-15T09:09:04.018Z"
   },
   {
    "duration": 78,
    "start_time": "2023-08-15T09:10:45.185Z"
   },
   {
    "duration": 9,
    "start_time": "2023-08-15T09:14:04.607Z"
   },
   {
    "duration": 6,
    "start_time": "2023-08-15T09:14:07.196Z"
   },
   {
    "duration": 6,
    "start_time": "2023-08-15T09:14:07.384Z"
   },
   {
    "duration": 27,
    "start_time": "2023-08-15T09:14:09.032Z"
   },
   {
    "duration": 7,
    "start_time": "2023-08-15T09:14:09.197Z"
   },
   {
    "duration": 4,
    "start_time": "2023-08-15T09:14:09.489Z"
   },
   {
    "duration": 8,
    "start_time": "2023-08-15T09:14:09.930Z"
   },
   {
    "duration": 7,
    "start_time": "2023-08-15T09:14:10.554Z"
   },
   {
    "duration": 6,
    "start_time": "2023-08-15T09:14:10.692Z"
   },
   {
    "duration": 4,
    "start_time": "2023-08-15T09:14:12.266Z"
   },
   {
    "duration": 11,
    "start_time": "2023-08-15T09:14:13.463Z"
   },
   {
    "duration": 6,
    "start_time": "2023-08-15T09:14:38.632Z"
   },
   {
    "duration": 144,
    "start_time": "2023-08-15T09:23:34.174Z"
   },
   {
    "duration": 4,
    "start_time": "2023-08-15T09:23:43.960Z"
   },
   {
    "duration": 377,
    "start_time": "2023-08-15T09:24:36.722Z"
   },
   {
    "duration": 6,
    "start_time": "2023-08-15T09:30:07.105Z"
   },
   {
    "duration": 4,
    "start_time": "2023-08-15T09:31:02.775Z"
   },
   {
    "duration": 7,
    "start_time": "2023-08-15T09:31:03.406Z"
   },
   {
    "duration": 7,
    "start_time": "2023-08-15T09:31:04.056Z"
   },
   {
    "duration": 7,
    "start_time": "2023-08-15T09:31:05.221Z"
   },
   {
    "duration": 7,
    "start_time": "2023-08-15T09:31:05.912Z"
   },
   {
    "duration": 5,
    "start_time": "2023-08-15T09:31:16.581Z"
   },
   {
    "duration": 5,
    "start_time": "2023-08-15T09:31:19.055Z"
   },
   {
    "duration": 133,
    "start_time": "2023-08-15T09:32:18.218Z"
   },
   {
    "duration": 15,
    "start_time": "2023-08-15T09:32:20.357Z"
   },
   {
    "duration": 4,
    "start_time": "2023-08-15T09:32:20.914Z"
   },
   {
    "duration": 2051,
    "start_time": "2023-08-15T09:32:21.618Z"
   },
   {
    "duration": 10,
    "start_time": "2023-08-15T09:32:23.671Z"
   },
   {
    "duration": 27,
    "start_time": "2023-08-15T09:32:23.683Z"
   },
   {
    "duration": 7,
    "start_time": "2023-08-15T09:32:23.712Z"
   },
   {
    "duration": 11,
    "start_time": "2023-08-15T09:32:23.720Z"
   },
   {
    "duration": 9,
    "start_time": "2023-08-15T09:32:23.733Z"
   },
   {
    "duration": 23,
    "start_time": "2023-08-15T09:32:23.744Z"
   },
   {
    "duration": 35,
    "start_time": "2023-08-15T09:32:23.768Z"
   },
   {
    "duration": 25,
    "start_time": "2023-08-15T09:32:23.805Z"
   },
   {
    "duration": 39,
    "start_time": "2023-08-15T09:32:23.832Z"
   },
   {
    "duration": 51,
    "start_time": "2023-08-15T09:32:23.873Z"
   },
   {
    "duration": 26,
    "start_time": "2023-08-15T09:32:23.930Z"
   },
   {
    "duration": 5,
    "start_time": "2023-08-15T09:32:24.295Z"
   },
   {
    "duration": 9,
    "start_time": "2023-08-15T09:32:24.497Z"
   },
   {
    "duration": 8,
    "start_time": "2023-08-15T09:32:24.682Z"
   },
   {
    "duration": 7,
    "start_time": "2023-08-15T09:32:24.863Z"
   },
   {
    "duration": 4,
    "start_time": "2023-08-15T09:32:25.581Z"
   },
   {
    "duration": 6,
    "start_time": "2023-08-15T09:32:25.748Z"
   },
   {
    "duration": 6,
    "start_time": "2023-08-15T09:32:25.930Z"
   },
   {
    "duration": 6,
    "start_time": "2023-08-15T09:32:26.114Z"
   },
   {
    "duration": 5,
    "start_time": "2023-08-15T09:32:26.304Z"
   },
   {
    "duration": 4,
    "start_time": "2023-08-15T09:32:26.479Z"
   },
   {
    "duration": 3,
    "start_time": "2023-08-15T09:35:54.153Z"
   },
   {
    "duration": 337,
    "start_time": "2023-08-15T09:36:00.203Z"
   },
   {
    "duration": 336,
    "start_time": "2023-08-15T09:36:29.913Z"
   },
   {
    "duration": 4,
    "start_time": "2023-08-15T09:37:00.692Z"
   },
   {
    "duration": 409,
    "start_time": "2023-08-15T09:37:03.032Z"
   },
   {
    "duration": 1070,
    "start_time": "2023-08-15T09:41:03.216Z"
   },
   {
    "duration": 5,
    "start_time": "2023-08-15T09:42:01.670Z"
   },
   {
    "duration": 30,
    "start_time": "2023-08-15T10:58:31.850Z"
   },
   {
    "duration": 120,
    "start_time": "2023-08-15T10:59:02.140Z"
   },
   {
    "duration": 16,
    "start_time": "2023-08-15T10:59:05.959Z"
   },
   {
    "duration": 4,
    "start_time": "2023-08-15T10:59:06.159Z"
   },
   {
    "duration": 1901,
    "start_time": "2023-08-15T10:59:06.369Z"
   },
   {
    "duration": 9,
    "start_time": "2023-08-15T10:59:08.272Z"
   },
   {
    "duration": 27,
    "start_time": "2023-08-15T10:59:08.283Z"
   },
   {
    "duration": 8,
    "start_time": "2023-08-15T10:59:08.487Z"
   },
   {
    "duration": 10,
    "start_time": "2023-08-15T10:59:09.597Z"
   },
   {
    "duration": 11,
    "start_time": "2023-08-15T10:59:10.200Z"
   },
   {
    "duration": 10,
    "start_time": "2023-08-15T10:59:11.468Z"
   },
   {
    "duration": 9,
    "start_time": "2023-08-15T10:59:11.953Z"
   },
   {
    "duration": 5,
    "start_time": "2023-08-15T10:59:12.222Z"
   },
   {
    "duration": 12,
    "start_time": "2023-08-15T10:59:12.792Z"
   },
   {
    "duration": 30,
    "start_time": "2023-08-15T10:59:14.607Z"
   },
   {
    "duration": 30,
    "start_time": "2023-08-15T10:59:53.323Z"
   },
   {
    "duration": 29,
    "start_time": "2023-08-15T11:00:45.557Z"
   },
   {
    "duration": 340,
    "start_time": "2023-08-15T11:00:59.511Z"
   },
   {
    "duration": 332,
    "start_time": "2023-08-15T11:01:31.049Z"
   },
   {
    "duration": 342,
    "start_time": "2023-08-15T11:01:43.103Z"
   },
   {
    "duration": 9,
    "start_time": "2023-08-15T11:01:50.467Z"
   },
   {
    "duration": 5,
    "start_time": "2023-08-15T11:01:51.590Z"
   },
   {
    "duration": 9,
    "start_time": "2023-08-15T11:01:51.759Z"
   },
   {
    "duration": 8,
    "start_time": "2023-08-15T11:01:51.923Z"
   },
   {
    "duration": 6,
    "start_time": "2023-08-15T11:01:52.078Z"
   },
   {
    "duration": 4,
    "start_time": "2023-08-15T11:01:55.160Z"
   },
   {
    "duration": 6,
    "start_time": "2023-08-15T11:01:55.618Z"
   },
   {
    "duration": 7,
    "start_time": "2023-08-15T11:01:56.652Z"
   },
   {
    "duration": 8,
    "start_time": "2023-08-15T11:01:57.119Z"
   },
   {
    "duration": 5,
    "start_time": "2023-08-15T11:01:57.600Z"
   },
   {
    "duration": 4,
    "start_time": "2023-08-15T11:02:07.093Z"
   },
   {
    "duration": 442,
    "start_time": "2023-08-15T11:02:07.846Z"
   },
   {
    "duration": 4,
    "start_time": "2023-08-15T11:02:30.563Z"
   },
   {
    "duration": 7,
    "start_time": "2023-08-15T11:13:01.518Z"
   },
   {
    "duration": 9,
    "start_time": "2023-08-15T11:13:07.405Z"
   },
   {
    "duration": 12,
    "start_time": "2023-08-15T11:13:47.771Z"
   },
   {
    "duration": 346,
    "start_time": "2023-08-15T11:24:13.204Z"
   },
   {
    "duration": 199,
    "start_time": "2023-08-15T11:24:57.977Z"
   },
   {
    "duration": 20,
    "start_time": "2023-08-15T11:25:00.398Z"
   },
   {
    "duration": 5,
    "start_time": "2023-08-15T11:25:00.541Z"
   },
   {
    "duration": 2202,
    "start_time": "2023-08-15T11:25:00.674Z"
   },
   {
    "duration": 10,
    "start_time": "2023-08-15T11:25:02.878Z"
   },
   {
    "duration": 47,
    "start_time": "2023-08-15T11:25:02.889Z"
   },
   {
    "duration": 62,
    "start_time": "2023-08-15T11:25:02.939Z"
   },
   {
    "duration": 28,
    "start_time": "2023-08-15T11:25:03.002Z"
   },
   {
    "duration": 24,
    "start_time": "2023-08-15T11:25:03.032Z"
   },
   {
    "duration": 58,
    "start_time": "2023-08-15T11:25:03.058Z"
   },
   {
    "duration": 46,
    "start_time": "2023-08-15T11:25:03.117Z"
   },
   {
    "duration": 49,
    "start_time": "2023-08-15T11:25:03.165Z"
   },
   {
    "duration": 107,
    "start_time": "2023-08-15T11:25:03.217Z"
   },
   {
    "duration": 508,
    "start_time": "2023-08-15T11:25:03.326Z"
   },
   {
    "duration": 8,
    "start_time": "2023-08-15T11:25:03.835Z"
   },
   {
    "duration": 62,
    "start_time": "2023-08-15T11:25:03.845Z"
   },
   {
    "duration": 60,
    "start_time": "2023-08-15T11:25:03.909Z"
   },
   {
    "duration": 221,
    "start_time": "2023-08-15T11:25:03.971Z"
   },
   {
    "duration": 255,
    "start_time": "2023-08-15T11:25:04.195Z"
   },
   {
    "duration": 34,
    "start_time": "2023-08-15T11:25:04.452Z"
   },
   {
    "duration": 6,
    "start_time": "2023-08-15T11:25:04.647Z"
   },
   {
    "duration": 5,
    "start_time": "2023-08-15T11:25:04.807Z"
   },
   {
    "duration": 6,
    "start_time": "2023-08-15T11:25:04.954Z"
   },
   {
    "duration": 6,
    "start_time": "2023-08-15T11:25:05.090Z"
   },
   {
    "duration": 3,
    "start_time": "2023-08-15T11:25:05.239Z"
   },
   {
    "duration": 474,
    "start_time": "2023-08-15T11:25:05.386Z"
   },
   {
    "duration": 5,
    "start_time": "2023-08-15T11:25:05.863Z"
   },
   {
    "duration": 12,
    "start_time": "2023-08-15T11:25:06.746Z"
   },
   {
    "duration": 359,
    "start_time": "2023-08-15T11:25:07.709Z"
   },
   {
    "duration": 360,
    "start_time": "2023-08-15T11:25:16.216Z"
   },
   {
    "duration": 358,
    "start_time": "2023-08-15T11:25:23.663Z"
   },
   {
    "duration": 201,
    "start_time": "2023-08-15T11:25:33.531Z"
   },
   {
    "duration": 151,
    "start_time": "2023-08-15T11:25:44.513Z"
   },
   {
    "duration": 295,
    "start_time": "2023-08-15T11:25:50.451Z"
   },
   {
    "duration": 233,
    "start_time": "2023-08-15T11:26:52.880Z"
   },
   {
    "duration": 162,
    "start_time": "2023-08-15T11:26:59.984Z"
   },
   {
    "duration": 1903,
    "start_time": "2023-08-15T11:27:04.718Z"
   },
   {
    "duration": 355,
    "start_time": "2023-08-15T11:27:16.586Z"
   },
   {
    "duration": 193,
    "start_time": "2023-08-15T11:27:26.223Z"
   },
   {
    "duration": 291,
    "start_time": "2023-08-15T11:27:33.588Z"
   },
   {
    "duration": 495,
    "start_time": "2023-08-15T11:29:00.025Z"
   },
   {
    "duration": 648,
    "start_time": "2023-08-15T11:29:32.056Z"
   },
   {
    "duration": 561,
    "start_time": "2023-08-15T11:29:36.142Z"
   },
   {
    "duration": 652,
    "start_time": "2023-08-15T11:29:46.365Z"
   },
   {
    "duration": 661,
    "start_time": "2023-08-15T11:29:53.422Z"
   },
   {
    "duration": 536,
    "start_time": "2023-08-15T11:30:07.881Z"
   },
   {
    "duration": 558,
    "start_time": "2023-08-15T11:31:49.208Z"
   },
   {
    "duration": 678,
    "start_time": "2023-08-15T11:31:58.182Z"
   },
   {
    "duration": 508,
    "start_time": "2023-08-15T11:35:58.302Z"
   },
   {
    "duration": 12,
    "start_time": "2023-08-15T12:25:09.146Z"
   },
   {
    "duration": 11,
    "start_time": "2023-08-15T12:34:50.328Z"
   },
   {
    "duration": 8,
    "start_time": "2023-08-15T12:34:53.341Z"
   },
   {
    "duration": 10,
    "start_time": "2023-08-15T12:35:48.109Z"
   },
   {
    "duration": 491,
    "start_time": "2023-08-15T12:37:38.820Z"
   },
   {
    "duration": 12,
    "start_time": "2023-08-15T12:39:22.676Z"
   },
   {
    "duration": 12,
    "start_time": "2023-08-15T12:39:34.139Z"
   },
   {
    "duration": 655,
    "start_time": "2023-08-15T12:40:44.853Z"
   },
   {
    "duration": 477,
    "start_time": "2023-08-15T12:40:50.966Z"
   },
   {
    "duration": 623,
    "start_time": "2023-08-15T12:41:13.069Z"
   },
   {
    "duration": 509,
    "start_time": "2023-08-15T12:46:36.109Z"
   },
   {
    "duration": 507,
    "start_time": "2023-08-15T12:46:41.382Z"
   },
   {
    "duration": 649,
    "start_time": "2023-08-15T12:46:47.504Z"
   },
   {
    "duration": 734,
    "start_time": "2023-08-15T12:46:57.064Z"
   },
   {
    "duration": 658,
    "start_time": "2023-08-15T12:47:07.916Z"
   },
   {
    "duration": 12,
    "start_time": "2023-08-15T12:54:04.013Z"
   },
   {
    "duration": 244,
    "start_time": "2023-08-15T12:54:44.127Z"
   },
   {
    "duration": 497,
    "start_time": "2023-08-15T12:54:58.143Z"
   },
   {
    "duration": 311,
    "start_time": "2023-08-15T12:55:05.818Z"
   },
   {
    "duration": 662,
    "start_time": "2023-08-15T12:55:11.643Z"
   },
   {
    "duration": 506,
    "start_time": "2023-08-15T12:55:17.427Z"
   },
   {
    "duration": 522,
    "start_time": "2023-08-15T12:55:51.802Z"
   },
   {
    "duration": 662,
    "start_time": "2023-08-15T12:56:08.470Z"
   },
   {
    "duration": 510,
    "start_time": "2023-08-15T12:56:14.254Z"
   },
   {
    "duration": 560,
    "start_time": "2023-08-15T12:59:45.584Z"
   },
   {
    "duration": 1676,
    "start_time": "2023-08-15T13:02:19.940Z"
   },
   {
    "duration": 765,
    "start_time": "2023-08-15T13:02:38.538Z"
   },
   {
    "duration": 1021,
    "start_time": "2023-08-15T13:02:59.650Z"
   },
   {
    "duration": 820,
    "start_time": "2023-08-15T13:03:09.311Z"
   },
   {
    "duration": 930,
    "start_time": "2023-08-15T13:03:16.107Z"
   },
   {
    "duration": 766,
    "start_time": "2023-08-15T13:03:23.624Z"
   },
   {
    "duration": 938,
    "start_time": "2023-08-15T13:03:28.281Z"
   },
   {
    "duration": 753,
    "start_time": "2023-08-15T13:03:32.601Z"
   },
   {
    "duration": 1550,
    "start_time": "2023-08-15T13:03:42.053Z"
   },
   {
    "duration": 1804,
    "start_time": "2023-08-15T13:03:54.465Z"
   },
   {
    "duration": 1646,
    "start_time": "2023-08-15T13:04:05.365Z"
   },
   {
    "duration": 1543,
    "start_time": "2023-08-15T13:04:52.549Z"
   },
   {
    "duration": 1662,
    "start_time": "2023-08-15T13:05:05.824Z"
   },
   {
    "duration": 738,
    "start_time": "2023-08-15T13:05:22.080Z"
   },
   {
    "duration": 96,
    "start_time": "2023-08-15T13:08:08.160Z"
   },
   {
    "duration": 1605,
    "start_time": "2023-08-15T13:08:57.814Z"
   },
   {
    "duration": 1626,
    "start_time": "2023-08-15T13:09:07.849Z"
   },
   {
    "duration": 1021,
    "start_time": "2023-08-15T13:09:20.728Z"
   },
   {
    "duration": 726,
    "start_time": "2023-08-15T13:09:32.772Z"
   },
   {
    "duration": 930,
    "start_time": "2023-08-15T13:09:41.869Z"
   },
   {
    "duration": 855,
    "start_time": "2023-08-15T13:09:50.965Z"
   },
   {
    "duration": 750,
    "start_time": "2023-08-15T13:10:02.643Z"
   },
   {
    "duration": 915,
    "start_time": "2023-08-15T13:10:07.672Z"
   },
   {
    "duration": 776,
    "start_time": "2023-08-15T13:10:12.308Z"
   },
   {
    "duration": 932,
    "start_time": "2023-08-15T13:10:20.699Z"
   },
   {
    "duration": 12,
    "start_time": "2023-08-15T13:15:41.916Z"
   },
   {
    "duration": 162,
    "start_time": "2023-08-15T14:03:17.293Z"
   },
   {
    "duration": 160,
    "start_time": "2023-08-15T14:05:48.912Z"
   },
   {
    "duration": 325,
    "start_time": "2023-08-15T14:05:54.628Z"
   },
   {
    "duration": 145,
    "start_time": "2023-08-15T14:06:02.988Z"
   },
   {
    "duration": 209,
    "start_time": "2023-08-15T14:07:23.127Z"
   },
   {
    "duration": 224,
    "start_time": "2023-08-15T14:07:30.650Z"
   },
   {
    "duration": 408,
    "start_time": "2023-08-15T14:07:50.000Z"
   },
   {
    "duration": 18,
    "start_time": "2023-08-15T14:08:19.255Z"
   },
   {
    "duration": 203,
    "start_time": "2023-08-15T14:08:34.797Z"
   },
   {
    "duration": 194,
    "start_time": "2023-08-15T14:08:53.523Z"
   },
   {
    "duration": 192,
    "start_time": "2023-08-15T14:11:43.480Z"
   },
   {
    "duration": 288,
    "start_time": "2023-08-15T14:14:50.907Z"
   },
   {
    "duration": 272,
    "start_time": "2023-08-15T14:15:03.010Z"
   },
   {
    "duration": 242,
    "start_time": "2023-08-15T14:15:30.607Z"
   },
   {
    "duration": 266,
    "start_time": "2023-08-15T14:15:36.490Z"
   },
   {
    "duration": 424,
    "start_time": "2023-08-15T14:15:44.354Z"
   },
   {
    "duration": 270,
    "start_time": "2023-08-15T14:15:51.810Z"
   },
   {
    "duration": 242,
    "start_time": "2023-08-15T14:15:58.250Z"
   },
   {
    "duration": 269,
    "start_time": "2023-08-15T14:16:09.804Z"
   },
   {
    "duration": 243,
    "start_time": "2023-08-15T14:16:14.737Z"
   },
   {
    "duration": 60,
    "start_time": "2023-08-15T14:17:51.902Z"
   },
   {
    "duration": 57,
    "start_time": "2023-08-15T19:18:24.751Z"
   },
   {
    "duration": 1270,
    "start_time": "2023-08-15T19:18:33.768Z"
   },
   {
    "duration": 16,
    "start_time": "2023-08-15T19:18:35.040Z"
   },
   {
    "duration": 4,
    "start_time": "2023-08-15T19:18:35.059Z"
   },
   {
    "duration": 2112,
    "start_time": "2023-08-15T19:18:35.065Z"
   },
   {
    "duration": 10,
    "start_time": "2023-08-15T19:18:37.179Z"
   },
   {
    "duration": 7,
    "start_time": "2023-08-15T19:18:37.191Z"
   },
   {
    "duration": 7,
    "start_time": "2023-08-15T19:18:37.200Z"
   },
   {
    "duration": 8,
    "start_time": "2023-08-15T19:18:37.208Z"
   },
   {
    "duration": 8,
    "start_time": "2023-08-15T19:18:37.217Z"
   },
   {
    "duration": 39,
    "start_time": "2023-08-15T19:18:37.227Z"
   },
   {
    "duration": 12,
    "start_time": "2023-08-15T19:18:37.268Z"
   },
   {
    "duration": 11,
    "start_time": "2023-08-15T19:18:37.282Z"
   },
   {
    "duration": 13,
    "start_time": "2023-08-15T19:18:37.295Z"
   },
   {
    "duration": 395,
    "start_time": "2023-08-15T19:18:37.309Z"
   },
   {
    "duration": 10,
    "start_time": "2023-08-15T19:18:37.706Z"
   },
   {
    "duration": 7,
    "start_time": "2023-08-15T19:18:37.718Z"
   },
   {
    "duration": 21,
    "start_time": "2023-08-15T19:18:37.726Z"
   },
   {
    "duration": 15,
    "start_time": "2023-08-15T19:18:37.759Z"
   },
   {
    "duration": 10,
    "start_time": "2023-08-15T19:18:37.776Z"
   },
   {
    "duration": 4,
    "start_time": "2023-08-15T19:18:37.789Z"
   },
   {
    "duration": 10,
    "start_time": "2023-08-15T19:18:37.794Z"
   },
   {
    "duration": 5,
    "start_time": "2023-08-15T19:18:37.901Z"
   },
   {
    "duration": 10,
    "start_time": "2023-08-15T19:18:38.059Z"
   },
   {
    "duration": 5,
    "start_time": "2023-08-15T19:18:38.221Z"
   },
   {
    "duration": 3,
    "start_time": "2023-08-15T19:18:38.380Z"
   },
   {
    "duration": 376,
    "start_time": "2023-08-15T19:18:38.524Z"
   },
   {
    "duration": 4,
    "start_time": "2023-08-15T19:18:38.902Z"
   },
   {
    "duration": 12,
    "start_time": "2023-08-15T19:18:40.745Z"
   },
   {
    "duration": 631,
    "start_time": "2023-08-15T19:18:40.913Z"
   },
   {
    "duration": 16,
    "start_time": "2023-08-15T19:18:41.546Z"
   },
   {
    "duration": 561,
    "start_time": "2023-08-15T19:18:41.563Z"
   },
   {
    "duration": 11,
    "start_time": "2023-08-15T19:18:42.125Z"
   },
   {
    "duration": 538,
    "start_time": "2023-08-15T19:18:42.138Z"
   },
   {
    "duration": 12,
    "start_time": "2023-08-15T19:18:42.678Z"
   },
   {
    "duration": 1022,
    "start_time": "2023-08-15T19:18:42.693Z"
   },
   {
    "duration": 1144,
    "start_time": "2023-08-15T19:18:43.717Z"
   },
   {
    "duration": 359,
    "start_time": "2023-08-15T19:18:44.864Z"
   },
   {
    "duration": 324,
    "start_time": "2023-08-15T19:18:45.225Z"
   },
   {
    "duration": 230,
    "start_time": "2023-08-15T19:18:45.551Z"
   },
   {
    "duration": 203,
    "start_time": "2023-08-15T19:19:49.934Z"
   },
   {
    "duration": 212,
    "start_time": "2023-08-15T19:19:56.929Z"
   },
   {
    "duration": 207,
    "start_time": "2023-08-15T19:20:01.487Z"
   },
   {
    "duration": 203,
    "start_time": "2023-08-15T19:20:10.439Z"
   },
   {
    "duration": 190,
    "start_time": "2023-08-15T19:20:13.785Z"
   },
   {
    "duration": 197,
    "start_time": "2023-08-15T19:20:21.854Z"
   },
   {
    "duration": 64,
    "start_time": "2023-08-15T19:26:29.376Z"
   },
   {
    "duration": 231,
    "start_time": "2023-08-15T19:26:51.792Z"
   },
   {
    "duration": 123,
    "start_time": "2023-08-15T19:30:02.111Z"
   },
   {
    "duration": 87,
    "start_time": "2023-08-15T19:32:02.319Z"
   },
   {
    "duration": 278,
    "start_time": "2023-08-15T19:34:46.339Z"
   },
   {
    "duration": 315,
    "start_time": "2023-08-15T19:34:56.082Z"
   },
   {
    "duration": 275,
    "start_time": "2023-08-15T19:35:04.206Z"
   },
   {
    "duration": 258,
    "start_time": "2023-08-15T19:35:40.478Z"
   },
   {
    "duration": 299,
    "start_time": "2023-08-15T19:35:48.008Z"
   },
   {
    "duration": 390,
    "start_time": "2023-08-15T19:35:57.326Z"
   },
   {
    "duration": 345,
    "start_time": "2023-08-15T19:36:02.026Z"
   },
   {
    "duration": 301,
    "start_time": "2023-08-15T19:36:09.468Z"
   },
   {
    "duration": 298,
    "start_time": "2023-08-15T19:36:16.539Z"
   },
   {
    "duration": 297,
    "start_time": "2023-08-15T19:36:49.521Z"
   },
   {
    "duration": 407,
    "start_time": "2023-08-15T19:36:59.326Z"
   },
   {
    "duration": 289,
    "start_time": "2023-08-15T19:37:46.490Z"
   },
   {
    "duration": 99,
    "start_time": "2023-08-15T19:39:14.275Z"
   },
   {
    "duration": 275,
    "start_time": "2023-08-15T19:46:36.660Z"
   },
   {
    "duration": 240,
    "start_time": "2023-08-15T19:46:46.685Z"
   },
   {
    "duration": 285,
    "start_time": "2023-08-15T19:47:05.361Z"
   },
   {
    "duration": 236,
    "start_time": "2023-08-15T19:47:10.903Z"
   },
   {
    "duration": 345,
    "start_time": "2023-08-15T19:47:31.108Z"
   },
   {
    "duration": 943,
    "start_time": "2023-08-15T19:47:59.977Z"
   },
   {
    "duration": 166,
    "start_time": "2023-08-15T19:54:14.486Z"
   },
   {
    "duration": 339,
    "start_time": "2023-08-15T19:54:22.504Z"
   },
   {
    "duration": 11,
    "start_time": "2023-08-15T19:54:42.618Z"
   },
   {
    "duration": 277,
    "start_time": "2023-08-15T19:55:00.061Z"
   },
   {
    "duration": 8,
    "start_time": "2023-08-15T20:06:45.828Z"
   },
   {
    "duration": 157,
    "start_time": "2023-08-15T20:06:53.123Z"
   },
   {
    "duration": 136,
    "start_time": "2023-08-15T20:07:08.506Z"
   },
   {
    "duration": 168,
    "start_time": "2023-08-15T20:07:13.082Z"
   },
   {
    "duration": 144,
    "start_time": "2023-08-15T20:07:26.237Z"
   },
   {
    "duration": 10,
    "start_time": "2023-08-15T20:07:43.995Z"
   },
   {
    "duration": 1331,
    "start_time": "2023-08-16T07:49:18.765Z"
   },
   {
    "duration": 18,
    "start_time": "2023-08-16T07:49:20.098Z"
   },
   {
    "duration": 5,
    "start_time": "2023-08-16T07:49:20.118Z"
   },
   {
    "duration": 2167,
    "start_time": "2023-08-16T07:49:20.255Z"
   },
   {
    "duration": 10,
    "start_time": "2023-08-16T07:49:22.424Z"
   },
   {
    "duration": 52,
    "start_time": "2023-08-16T07:49:22.435Z"
   },
   {
    "duration": 28,
    "start_time": "2023-08-16T07:49:22.489Z"
   },
   {
    "duration": 12,
    "start_time": "2023-08-16T07:49:22.518Z"
   },
   {
    "duration": 8,
    "start_time": "2023-08-16T07:49:22.532Z"
   },
   {
    "duration": 10,
    "start_time": "2023-08-16T07:49:22.612Z"
   },
   {
    "duration": 11,
    "start_time": "2023-08-16T07:49:22.781Z"
   },
   {
    "duration": 7,
    "start_time": "2023-08-16T07:49:23.174Z"
   },
   {
    "duration": 13,
    "start_time": "2023-08-16T07:49:23.598Z"
   },
   {
    "duration": 345,
    "start_time": "2023-08-16T07:49:24.780Z"
   },
   {
    "duration": 10,
    "start_time": "2023-08-16T07:49:25.167Z"
   },
   {
    "duration": 8,
    "start_time": "2023-08-16T07:49:26.075Z"
   },
   {
    "duration": 10,
    "start_time": "2023-08-16T07:49:26.428Z"
   },
   {
    "duration": 9,
    "start_time": "2023-08-16T07:49:26.663Z"
   },
   {
    "duration": 7,
    "start_time": "2023-08-16T07:49:26.943Z"
   },
   {
    "duration": 4,
    "start_time": "2023-08-16T07:49:31.727Z"
   },
   {
    "duration": 6,
    "start_time": "2023-08-16T07:49:32.020Z"
   },
   {
    "duration": 6,
    "start_time": "2023-08-16T07:49:32.341Z"
   },
   {
    "duration": 6,
    "start_time": "2023-08-16T07:49:32.647Z"
   },
   {
    "duration": 5,
    "start_time": "2023-08-16T07:49:33.018Z"
   },
   {
    "duration": 3,
    "start_time": "2023-08-16T07:49:33.450Z"
   },
   {
    "duration": 330,
    "start_time": "2023-08-16T07:49:35.472Z"
   },
   {
    "duration": 4,
    "start_time": "2023-08-16T07:49:35.805Z"
   },
   {
    "duration": 11,
    "start_time": "2023-08-16T07:49:37.950Z"
   },
   {
    "duration": 640,
    "start_time": "2023-08-16T07:49:39.835Z"
   },
   {
    "duration": 14,
    "start_time": "2023-08-16T07:49:40.480Z"
   },
   {
    "duration": 515,
    "start_time": "2023-08-16T07:49:40.495Z"
   },
   {
    "duration": 12,
    "start_time": "2023-08-16T07:49:41.013Z"
   },
   {
    "duration": 510,
    "start_time": "2023-08-16T07:49:41.027Z"
   },
   {
    "duration": 20,
    "start_time": "2023-08-16T07:49:41.539Z"
   },
   {
    "duration": 854,
    "start_time": "2023-08-16T07:49:41.562Z"
   },
   {
    "duration": 730,
    "start_time": "2023-08-16T07:49:42.419Z"
   },
   {
    "duration": 336,
    "start_time": "2023-08-16T07:49:43.151Z"
   },
   {
    "duration": 237,
    "start_time": "2023-08-16T07:49:43.489Z"
   },
   {
    "duration": 194,
    "start_time": "2023-08-16T07:49:44.432Z"
   },
   {
    "duration": 155,
    "start_time": "2023-08-16T07:49:45.198Z"
   },
   {
    "duration": 282,
    "start_time": "2023-08-16T07:49:45.932Z"
   },
   {
    "duration": 248,
    "start_time": "2023-08-16T07:49:46.615Z"
   },
   {
    "duration": 259,
    "start_time": "2023-08-16T07:49:46.866Z"
   },
   {
    "duration": 355,
    "start_time": "2023-08-16T07:49:53.130Z"
   },
   {
    "duration": 226,
    "start_time": "2023-08-16T07:49:53.567Z"
   },
   {
    "duration": 295,
    "start_time": "2023-08-16T07:50:07.173Z"
   },
   {
    "duration": 161,
    "start_time": "2023-08-16T07:50:09.031Z"
   },
   {
    "duration": 11,
    "start_time": "2023-08-16T07:50:09.225Z"
   },
   {
    "duration": 6,
    "start_time": "2023-08-16T07:55:36.607Z"
   },
   {
    "duration": 6,
    "start_time": "2023-08-16T07:55:46.819Z"
   },
   {
    "duration": 77,
    "start_time": "2023-08-16T09:27:17.179Z"
   },
   {
    "duration": 10,
    "start_time": "2023-08-16T09:27:35.676Z"
   },
   {
    "duration": 1039,
    "start_time": "2023-08-16T09:27:41.987Z"
   },
   {
    "duration": 369,
    "start_time": "2023-08-16T09:29:39.545Z"
   },
   {
    "duration": 5,
    "start_time": "2023-08-16T09:32:11.591Z"
   },
   {
    "duration": 376,
    "start_time": "2023-08-16T09:32:20.406Z"
   },
   {
    "duration": 288,
    "start_time": "2023-08-16T09:34:01.199Z"
   },
   {
    "duration": 55,
    "start_time": "2023-08-16T09:35:51.404Z"
   },
   {
    "duration": 279,
    "start_time": "2023-08-16T09:36:10.804Z"
   },
   {
    "duration": 104,
    "start_time": "2023-08-16T09:37:16.751Z"
   },
   {
    "duration": 236,
    "start_time": "2023-08-16T09:37:46.235Z"
   },
   {
    "duration": 266,
    "start_time": "2023-08-16T09:37:57.232Z"
   },
   {
    "duration": 384,
    "start_time": "2023-08-16T09:38:04.248Z"
   },
   {
    "duration": 97,
    "start_time": "2023-08-16T09:39:17.242Z"
   },
   {
    "duration": 236,
    "start_time": "2023-08-16T09:39:24.750Z"
   },
   {
    "duration": 280,
    "start_time": "2023-08-16T09:48:52.597Z"
   },
   {
    "duration": 14,
    "start_time": "2023-08-16T09:50:56.929Z"
   },
   {
    "duration": 11,
    "start_time": "2023-08-16T09:51:12.416Z"
   },
   {
    "duration": 354,
    "start_time": "2023-08-16T09:51:34.069Z"
   },
   {
    "duration": 271,
    "start_time": "2023-08-16T09:51:49.281Z"
   },
   {
    "duration": 361,
    "start_time": "2023-08-16T10:05:01.428Z"
   },
   {
    "duration": 1021,
    "start_time": "2023-08-16T10:06:50.927Z"
   },
   {
    "duration": 1445,
    "start_time": "2023-08-16T10:07:30.114Z"
   },
   {
    "duration": 1494,
    "start_time": "2023-08-16T10:07:54.193Z"
   },
   {
    "duration": 776,
    "start_time": "2023-08-16T10:08:28.790Z"
   },
   {
    "duration": 779,
    "start_time": "2023-08-16T10:08:56.000Z"
   },
   {
    "duration": 10,
    "start_time": "2023-08-16T10:10:23.480Z"
   },
   {
    "duration": 190,
    "start_time": "2023-08-16T10:10:31.575Z"
   },
   {
    "duration": 184,
    "start_time": "2023-08-16T10:10:43.803Z"
   },
   {
    "duration": 9,
    "start_time": "2023-08-16T10:11:41.712Z"
   },
   {
    "duration": 210,
    "start_time": "2023-08-16T10:11:46.856Z"
   },
   {
    "duration": 194,
    "start_time": "2023-08-16T10:11:53.041Z"
   },
   {
    "duration": 354,
    "start_time": "2023-08-16T10:11:58.172Z"
   },
   {
    "duration": 199,
    "start_time": "2023-08-16T10:12:04.703Z"
   },
   {
    "duration": 188,
    "start_time": "2023-08-16T10:12:10.148Z"
   },
   {
    "duration": 195,
    "start_time": "2023-08-16T10:12:15.183Z"
   },
   {
    "duration": 190,
    "start_time": "2023-08-16T10:12:22.386Z"
   },
   {
    "duration": 180,
    "start_time": "2023-08-16T10:12:29.463Z"
   },
   {
    "duration": 188,
    "start_time": "2023-08-16T10:12:34.776Z"
   },
   {
    "duration": 176,
    "start_time": "2023-08-16T10:12:40.838Z"
   },
   {
    "duration": 200,
    "start_time": "2023-08-16T10:12:48.227Z"
   },
   {
    "duration": 202,
    "start_time": "2023-08-16T10:12:54.853Z"
   },
   {
    "duration": 17,
    "start_time": "2023-08-16T10:14:05.361Z"
   },
   {
    "duration": 158,
    "start_time": "2023-08-16T10:14:10.179Z"
   },
   {
    "duration": 273,
    "start_time": "2023-08-16T11:06:06.378Z"
   },
   {
    "duration": 9,
    "start_time": "2023-08-16T11:06:42.225Z"
   },
   {
    "duration": 12,
    "start_time": "2023-08-16T11:06:53.352Z"
   },
   {
    "duration": 6,
    "start_time": "2023-08-16T11:07:03.707Z"
   },
   {
    "duration": 10,
    "start_time": "2023-08-16T11:15:05.018Z"
   },
   {
    "duration": 161,
    "start_time": "2023-08-16T11:15:25.000Z"
   },
   {
    "duration": 170,
    "start_time": "2023-08-16T11:15:50.932Z"
   },
   {
    "duration": 168,
    "start_time": "2023-08-16T11:17:50.774Z"
   },
   {
    "duration": 11,
    "start_time": "2023-08-16T11:20:54.006Z"
   },
   {
    "duration": 166,
    "start_time": "2023-08-16T11:21:15.701Z"
   },
   {
    "duration": 77,
    "start_time": "2023-08-16T11:24:46.699Z"
   },
   {
    "duration": 17,
    "start_time": "2023-08-16T11:24:53.876Z"
   },
   {
    "duration": 17,
    "start_time": "2023-08-16T11:25:02.193Z"
   },
   {
    "duration": 1796,
    "start_time": "2023-08-16T11:25:09.724Z"
   },
   {
    "duration": 191,
    "start_time": "2023-08-16T11:25:21.705Z"
   },
   {
    "duration": 126,
    "start_time": "2023-08-16T11:26:22.873Z"
   },
   {
    "duration": 189,
    "start_time": "2023-08-16T11:27:17.870Z"
   },
   {
    "duration": 174,
    "start_time": "2023-08-16T11:27:25.763Z"
   },
   {
    "duration": 62,
    "start_time": "2023-08-16T11:27:59.103Z"
   },
   {
    "duration": 16,
    "start_time": "2023-08-16T11:31:51.827Z"
   },
   {
    "duration": 16,
    "start_time": "2023-08-16T11:32:03.793Z"
   },
   {
    "duration": 184,
    "start_time": "2023-08-16T11:32:07.161Z"
   },
   {
    "duration": 18,
    "start_time": "2023-08-16T11:35:05.114Z"
   },
   {
    "duration": 25,
    "start_time": "2023-08-16T11:35:26.636Z"
   },
   {
    "duration": 11,
    "start_time": "2023-08-16T11:37:35.350Z"
   },
   {
    "duration": 35,
    "start_time": "2023-08-16T11:37:45.562Z"
   },
   {
    "duration": 14,
    "start_time": "2023-08-16T11:38:28.251Z"
   },
   {
    "duration": 36,
    "start_time": "2023-08-16T11:38:52.922Z"
   },
   {
    "duration": 38,
    "start_time": "2023-08-16T11:39:45.865Z"
   },
   {
    "duration": 22,
    "start_time": "2023-08-16T11:48:21.301Z"
   },
   {
    "duration": 17,
    "start_time": "2023-08-16T11:48:48.213Z"
   },
   {
    "duration": 21,
    "start_time": "2023-08-16T11:48:51.254Z"
   },
   {
    "duration": 412,
    "start_time": "2023-08-16T11:50:25.584Z"
   },
   {
    "duration": 99,
    "start_time": "2023-08-16T11:54:58.773Z"
   },
   {
    "duration": 324,
    "start_time": "2023-08-16T13:12:06.722Z"
   },
   {
    "duration": 994,
    "start_time": "2023-08-16T13:31:21.470Z"
   },
   {
    "duration": 28,
    "start_time": "2023-08-16T13:31:22.466Z"
   },
   {
    "duration": 4,
    "start_time": "2023-08-16T13:31:22.496Z"
   },
   {
    "duration": 2321,
    "start_time": "2023-08-16T13:31:22.501Z"
   },
   {
    "duration": 11,
    "start_time": "2023-08-16T13:31:24.824Z"
   },
   {
    "duration": 14,
    "start_time": "2023-08-16T13:31:24.836Z"
   },
   {
    "duration": 26,
    "start_time": "2023-08-16T13:31:24.851Z"
   },
   {
    "duration": 18,
    "start_time": "2023-08-16T13:31:24.881Z"
   },
   {
    "duration": 14,
    "start_time": "2023-08-16T13:31:24.900Z"
   },
   {
    "duration": 11,
    "start_time": "2023-08-16T13:31:24.915Z"
   },
   {
    "duration": 26,
    "start_time": "2023-08-16T13:31:24.927Z"
   },
   {
    "duration": 33,
    "start_time": "2023-08-16T13:31:24.954Z"
   },
   {
    "duration": 28,
    "start_time": "2023-08-16T13:31:24.989Z"
   },
   {
    "duration": 463,
    "start_time": "2023-08-16T13:31:25.021Z"
   },
   {
    "duration": 10,
    "start_time": "2023-08-16T13:31:25.486Z"
   },
   {
    "duration": 22,
    "start_time": "2023-08-16T13:31:25.498Z"
   },
   {
    "duration": 33,
    "start_time": "2023-08-16T13:31:25.522Z"
   },
   {
    "duration": 13,
    "start_time": "2023-08-16T13:31:25.557Z"
   },
   {
    "duration": 17,
    "start_time": "2023-08-16T13:31:25.571Z"
   },
   {
    "duration": 6,
    "start_time": "2023-08-16T13:31:25.591Z"
   },
   {
    "duration": 8,
    "start_time": "2023-08-16T13:31:25.598Z"
   },
   {
    "duration": 14,
    "start_time": "2023-08-16T13:31:25.608Z"
   },
   {
    "duration": 69,
    "start_time": "2023-08-16T13:31:25.625Z"
   },
   {
    "duration": 9,
    "start_time": "2023-08-16T13:31:25.696Z"
   },
   {
    "duration": 23,
    "start_time": "2023-08-16T13:31:25.706Z"
   },
   {
    "duration": 424,
    "start_time": "2023-08-16T13:31:25.731Z"
   },
   {
    "duration": 5,
    "start_time": "2023-08-16T13:31:26.157Z"
   },
   {
    "duration": 33,
    "start_time": "2023-08-16T13:31:26.163Z"
   },
   {
    "duration": 712,
    "start_time": "2023-08-16T13:31:26.198Z"
   },
   {
    "duration": 15,
    "start_time": "2023-08-16T13:31:26.912Z"
   },
   {
    "duration": 571,
    "start_time": "2023-08-16T13:31:26.929Z"
   },
   {
    "duration": 18,
    "start_time": "2023-08-16T13:31:27.502Z"
   },
   {
    "duration": 611,
    "start_time": "2023-08-16T13:31:27.522Z"
   },
   {
    "duration": 10,
    "start_time": "2023-08-16T13:31:28.135Z"
   },
   {
    "duration": 1000,
    "start_time": "2023-08-16T13:31:28.147Z"
   },
   {
    "duration": 909,
    "start_time": "2023-08-16T13:31:29.149Z"
   },
   {
    "duration": 381,
    "start_time": "2023-08-16T13:31:30.060Z"
   },
   {
    "duration": 278,
    "start_time": "2023-08-16T13:31:30.443Z"
   },
   {
    "duration": 232,
    "start_time": "2023-08-16T13:31:30.724Z"
   },
   {
    "duration": 157,
    "start_time": "2023-08-16T13:31:30.958Z"
   },
   {
    "duration": 353,
    "start_time": "2023-08-16T13:31:31.121Z"
   },
   {
    "duration": 286,
    "start_time": "2023-08-16T13:31:31.477Z"
   },
   {
    "duration": 320,
    "start_time": "2023-08-16T13:31:31.767Z"
   },
   {
    "duration": 426,
    "start_time": "2023-08-16T13:31:32.090Z"
   },
   {
    "duration": 323,
    "start_time": "2023-08-16T13:31:32.519Z"
   },
   {
    "duration": 295,
    "start_time": "2023-08-16T13:31:32.844Z"
   },
   {
    "duration": 188,
    "start_time": "2023-08-16T13:31:33.141Z"
   },
   {
    "duration": 5,
    "start_time": "2023-08-16T13:31:33.332Z"
   },
   {
    "duration": 66,
    "start_time": "2023-08-16T13:31:33.339Z"
   },
   {
    "duration": 368,
    "start_time": "2023-08-16T13:31:33.406Z"
   },
   {
    "duration": 189,
    "start_time": "2023-08-16T13:31:33.776Z"
   },
   {
    "duration": 8,
    "start_time": "2023-08-16T13:31:33.968Z"
   },
   {
    "duration": 233,
    "start_time": "2023-08-16T13:31:33.978Z"
   },
   {
    "duration": 210,
    "start_time": "2023-08-16T13:31:34.214Z"
   },
   {
    "duration": 293,
    "start_time": "2023-08-16T13:31:34.426Z"
   },
   {
    "duration": 390,
    "start_time": "2023-08-16T13:31:34.721Z"
   },
   {
    "duration": 192,
    "start_time": "2023-08-16T13:31:35.113Z"
   },
   {
    "duration": 196,
    "start_time": "2023-08-16T13:31:35.306Z"
   },
   {
    "duration": 194,
    "start_time": "2023-08-16T13:31:35.504Z"
   },
   {
    "duration": 115,
    "start_time": "2023-08-16T13:31:35.700Z"
   },
   {
    "duration": 0,
    "start_time": "2023-08-16T13:31:35.817Z"
   },
   {
    "duration": 110,
    "start_time": "2023-08-16T14:44:30.079Z"
   },
   {
    "duration": 9,
    "start_time": "2023-08-16T14:44:44.711Z"
   },
   {
    "duration": 55,
    "start_time": "2023-08-16T20:06:50.265Z"
   },
   {
    "duration": 904,
    "start_time": "2023-08-16T20:11:09.860Z"
   },
   {
    "duration": 338,
    "start_time": "2023-08-16T20:11:11.660Z"
   },
   {
    "duration": 87,
    "start_time": "2023-08-16T20:11:45.803Z"
   },
   {
    "duration": 121,
    "start_time": "2023-08-16T20:11:56.265Z"
   },
   {
    "duration": 950,
    "start_time": "2023-08-17T07:51:53.222Z"
   },
   {
    "duration": 351,
    "start_time": "2023-08-17T07:51:54.174Z"
   },
   {
    "duration": 20,
    "start_time": "2023-08-17T07:51:54.527Z"
   },
   {
    "duration": 7,
    "start_time": "2023-08-17T07:51:54.550Z"
   },
   {
    "duration": 1983,
    "start_time": "2023-08-17T07:51:54.558Z"
   },
   {
    "duration": 11,
    "start_time": "2023-08-17T07:51:56.543Z"
   },
   {
    "duration": 8,
    "start_time": "2023-08-17T07:51:56.556Z"
   },
   {
    "duration": 10,
    "start_time": "2023-08-17T07:51:56.566Z"
   },
   {
    "duration": 9,
    "start_time": "2023-08-17T07:51:56.578Z"
   },
   {
    "duration": 9,
    "start_time": "2023-08-17T07:51:56.591Z"
   },
   {
    "duration": 35,
    "start_time": "2023-08-17T07:51:56.602Z"
   },
   {
    "duration": 9,
    "start_time": "2023-08-17T07:51:56.640Z"
   },
   {
    "duration": 7,
    "start_time": "2023-08-17T07:51:56.650Z"
   },
   {
    "duration": 12,
    "start_time": "2023-08-17T07:51:56.658Z"
   },
   {
    "duration": 338,
    "start_time": "2023-08-17T07:51:56.671Z"
   },
   {
    "duration": 7,
    "start_time": "2023-08-17T07:51:57.011Z"
   },
   {
    "duration": 20,
    "start_time": "2023-08-17T07:51:57.020Z"
   },
   {
    "duration": 11,
    "start_time": "2023-08-17T07:51:57.042Z"
   },
   {
    "duration": 7,
    "start_time": "2023-08-17T07:51:57.055Z"
   },
   {
    "duration": 18,
    "start_time": "2023-08-17T07:51:57.063Z"
   },
   {
    "duration": 4,
    "start_time": "2023-08-17T07:51:57.082Z"
   },
   {
    "duration": 7,
    "start_time": "2023-08-17T07:51:57.088Z"
   },
   {
    "duration": 21,
    "start_time": "2023-08-17T07:51:57.096Z"
   },
   {
    "duration": 46,
    "start_time": "2023-08-17T07:51:57.119Z"
   },
   {
    "duration": 5,
    "start_time": "2023-08-17T07:51:57.167Z"
   },
   {
    "duration": 8,
    "start_time": "2023-08-17T07:51:57.173Z"
   },
   {
    "duration": 299,
    "start_time": "2023-08-17T07:51:57.182Z"
   },
   {
    "duration": 4,
    "start_time": "2023-08-17T07:51:57.485Z"
   },
   {
    "duration": 25,
    "start_time": "2023-08-17T07:51:57.490Z"
   },
   {
    "duration": 521,
    "start_time": "2023-08-17T07:51:57.517Z"
   },
   {
    "duration": 9,
    "start_time": "2023-08-17T07:51:58.040Z"
   },
   {
    "duration": 421,
    "start_time": "2023-08-17T07:51:58.051Z"
   },
   {
    "duration": 10,
    "start_time": "2023-08-17T07:51:58.474Z"
   },
   {
    "duration": 452,
    "start_time": "2023-08-17T07:51:58.485Z"
   },
   {
    "duration": 9,
    "start_time": "2023-08-17T07:51:58.939Z"
   },
   {
    "duration": 744,
    "start_time": "2023-08-17T07:51:58.949Z"
   },
   {
    "duration": 674,
    "start_time": "2023-08-17T07:51:59.694Z"
   },
   {
    "duration": 332,
    "start_time": "2023-08-17T07:52:00.370Z"
   },
   {
    "duration": 235,
    "start_time": "2023-08-17T07:52:00.704Z"
   },
   {
    "duration": 194,
    "start_time": "2023-08-17T07:52:00.941Z"
   },
   {
    "duration": 127,
    "start_time": "2023-08-17T07:52:01.137Z"
   },
   {
    "duration": 299,
    "start_time": "2023-08-17T07:52:01.266Z"
   },
   {
    "duration": 264,
    "start_time": "2023-08-17T07:52:01.567Z"
   },
   {
    "duration": 226,
    "start_time": "2023-08-17T07:52:01.832Z"
   },
   {
    "duration": 332,
    "start_time": "2023-08-17T07:52:02.060Z"
   },
   {
    "duration": 225,
    "start_time": "2023-08-17T07:52:02.394Z"
   },
   {
    "duration": 261,
    "start_time": "2023-08-17T07:52:02.621Z"
   },
   {
    "duration": 142,
    "start_time": "2023-08-17T07:52:02.884Z"
   },
   {
    "duration": 10,
    "start_time": "2023-08-17T07:52:03.028Z"
   },
   {
    "duration": 38,
    "start_time": "2023-08-17T07:52:03.039Z"
   },
   {
    "duration": 192,
    "start_time": "2023-08-17T07:52:03.078Z"
   },
   {
    "duration": 141,
    "start_time": "2023-08-17T07:52:03.272Z"
   },
   {
    "duration": 5,
    "start_time": "2023-08-17T07:52:03.415Z"
   },
   {
    "duration": 151,
    "start_time": "2023-08-17T07:52:03.434Z"
   },
   {
    "duration": 158,
    "start_time": "2023-08-17T07:52:03.587Z"
   },
   {
    "duration": 218,
    "start_time": "2023-08-17T07:52:03.747Z"
   },
   {
    "duration": 308,
    "start_time": "2023-08-17T07:52:03.966Z"
   },
   {
    "duration": 175,
    "start_time": "2023-08-17T07:52:04.277Z"
   },
   {
    "duration": 206,
    "start_time": "2023-08-17T07:52:04.453Z"
   },
   {
    "duration": 157,
    "start_time": "2023-08-17T07:52:04.662Z"
   },
   {
    "duration": 97,
    "start_time": "2023-08-17T07:52:04.820Z"
   },
   {
    "duration": 0,
    "start_time": "2023-08-17T07:52:04.919Z"
   },
   {
    "duration": 59,
    "start_time": "2023-08-17T07:52:54.736Z"
   },
   {
    "duration": 124,
    "start_time": "2023-08-17T07:54:39.111Z"
   },
   {
    "duration": 57,
    "start_time": "2023-08-17T07:56:18.023Z"
   },
   {
    "duration": 34,
    "start_time": "2023-08-17T07:57:28.003Z"
   },
   {
    "duration": 48,
    "start_time": "2023-08-17T07:57:33.518Z"
   },
   {
    "duration": 62,
    "start_time": "2023-08-17T08:13:28.922Z"
   },
   {
    "duration": 32,
    "start_time": "2023-08-17T08:20:16.103Z"
   },
   {
    "duration": 62,
    "start_time": "2023-08-17T08:21:33.332Z"
   },
   {
    "duration": 138,
    "start_time": "2023-08-17T08:24:06.919Z"
   },
   {
    "duration": 159,
    "start_time": "2023-08-17T08:24:14.601Z"
   },
   {
    "duration": 216,
    "start_time": "2023-08-17T08:24:19.595Z"
   },
   {
    "duration": 159,
    "start_time": "2023-08-17T08:24:26.720Z"
   },
   {
    "duration": 59,
    "start_time": "2023-08-17T08:25:25.392Z"
   },
   {
    "duration": 133,
    "start_time": "2023-08-17T08:29:31.904Z"
   },
   {
    "duration": 285,
    "start_time": "2023-08-17T08:31:48.116Z"
   },
   {
    "duration": 64,
    "start_time": "2023-08-17T08:33:51.281Z"
   },
   {
    "duration": 110,
    "start_time": "2023-08-17T08:35:03.433Z"
   },
   {
    "duration": 76,
    "start_time": "2023-08-17T08:35:44.970Z"
   },
   {
    "duration": 8,
    "start_time": "2023-08-17T08:41:53.505Z"
   },
   {
    "duration": 6,
    "start_time": "2023-08-17T08:42:00.460Z"
   },
   {
    "duration": 8,
    "start_time": "2023-08-17T08:42:21.830Z"
   },
   {
    "duration": 142,
    "start_time": "2023-08-17T08:42:28.252Z"
   },
   {
    "duration": 152,
    "start_time": "2023-08-17T08:42:54.733Z"
   },
   {
    "duration": 147,
    "start_time": "2023-08-17T08:43:25.742Z"
   },
   {
    "duration": 139,
    "start_time": "2023-08-17T08:44:41.631Z"
   },
   {
    "duration": 9,
    "start_time": "2023-08-17T08:44:55.302Z"
   },
   {
    "duration": 141,
    "start_time": "2023-08-17T08:44:56.990Z"
   },
   {
    "duration": 756,
    "start_time": "2023-08-17T08:45:25.513Z"
   },
   {
    "duration": 115,
    "start_time": "2023-08-17T08:45:26.271Z"
   },
   {
    "duration": 14,
    "start_time": "2023-08-17T08:45:26.387Z"
   },
   {
    "duration": 10,
    "start_time": "2023-08-17T08:45:26.403Z"
   },
   {
    "duration": 1794,
    "start_time": "2023-08-17T08:45:26.415Z"
   },
   {
    "duration": 9,
    "start_time": "2023-08-17T08:45:28.211Z"
   },
   {
    "duration": 38,
    "start_time": "2023-08-17T08:45:28.222Z"
   },
   {
    "duration": 26,
    "start_time": "2023-08-17T08:45:28.261Z"
   },
   {
    "duration": 28,
    "start_time": "2023-08-17T08:45:28.288Z"
   },
   {
    "duration": 22,
    "start_time": "2023-08-17T08:45:28.317Z"
   },
   {
    "duration": 27,
    "start_time": "2023-08-17T08:45:28.341Z"
   },
   {
    "duration": 17,
    "start_time": "2023-08-17T08:45:28.369Z"
   },
   {
    "duration": 21,
    "start_time": "2023-08-17T08:45:28.387Z"
   },
   {
    "duration": 315,
    "start_time": "2023-08-17T08:45:28.411Z"
   },
   {
    "duration": 9,
    "start_time": "2023-08-17T08:45:28.727Z"
   },
   {
    "duration": 26,
    "start_time": "2023-08-17T08:45:28.737Z"
   },
   {
    "duration": 87,
    "start_time": "2023-08-17T08:45:28.765Z"
   },
   {
    "duration": 18,
    "start_time": "2023-08-17T08:45:28.853Z"
   },
   {
    "duration": 33,
    "start_time": "2023-08-17T08:45:28.873Z"
   },
   {
    "duration": 17,
    "start_time": "2023-08-17T08:45:28.907Z"
   },
   {
    "duration": 151,
    "start_time": "2023-08-17T08:45:28.925Z"
   },
   {
    "duration": 4,
    "start_time": "2023-08-17T08:45:29.077Z"
   },
   {
    "duration": 34,
    "start_time": "2023-08-17T08:45:29.083Z"
   },
   {
    "duration": 7,
    "start_time": "2023-08-17T08:45:29.119Z"
   },
   {
    "duration": 9,
    "start_time": "2023-08-17T08:45:29.127Z"
   },
   {
    "duration": 23,
    "start_time": "2023-08-17T08:45:29.137Z"
   },
   {
    "duration": 16,
    "start_time": "2023-08-17T08:45:29.161Z"
   },
   {
    "duration": 309,
    "start_time": "2023-08-17T08:45:29.178Z"
   },
   {
    "duration": 5,
    "start_time": "2023-08-17T08:45:29.489Z"
   },
   {
    "duration": 25,
    "start_time": "2023-08-17T08:45:29.495Z"
   },
   {
    "duration": 517,
    "start_time": "2023-08-17T08:45:29.522Z"
   },
   {
    "duration": 11,
    "start_time": "2023-08-17T08:45:30.040Z"
   },
   {
    "duration": 484,
    "start_time": "2023-08-17T08:45:30.053Z"
   },
   {
    "duration": 11,
    "start_time": "2023-08-17T08:45:30.539Z"
   },
   {
    "duration": 452,
    "start_time": "2023-08-17T08:45:30.552Z"
   },
   {
    "duration": 10,
    "start_time": "2023-08-17T08:45:31.005Z"
   },
   {
    "duration": 744,
    "start_time": "2023-08-17T08:45:31.017Z"
   },
   {
    "duration": 749,
    "start_time": "2023-08-17T08:45:31.762Z"
   },
   {
    "duration": 166,
    "start_time": "2023-08-17T08:45:32.513Z"
   },
   {
    "duration": 237,
    "start_time": "2023-08-17T08:45:32.680Z"
   },
   {
    "duration": 169,
    "start_time": "2023-08-17T08:45:32.921Z"
   },
   {
    "duration": 107,
    "start_time": "2023-08-17T08:45:33.091Z"
   },
   {
    "duration": 222,
    "start_time": "2023-08-17T08:45:33.200Z"
   },
   {
    "duration": 224,
    "start_time": "2023-08-17T08:45:33.424Z"
   },
   {
    "duration": 320,
    "start_time": "2023-08-17T08:45:33.650Z"
   },
   {
    "duration": 223,
    "start_time": "2023-08-17T08:45:33.971Z"
   },
   {
    "duration": 211,
    "start_time": "2023-08-17T08:45:34.196Z"
   },
   {
    "duration": 289,
    "start_time": "2023-08-17T08:45:34.409Z"
   },
   {
    "duration": 137,
    "start_time": "2023-08-17T08:45:34.699Z"
   },
   {
    "duration": 4,
    "start_time": "2023-08-17T08:45:34.838Z"
   },
   {
    "duration": 13,
    "start_time": "2023-08-17T08:45:34.843Z"
   },
   {
    "duration": 187,
    "start_time": "2023-08-17T08:45:34.857Z"
   },
   {
    "duration": 161,
    "start_time": "2023-08-17T08:45:35.045Z"
   },
   {
    "duration": 5,
    "start_time": "2023-08-17T08:45:35.208Z"
   },
   {
    "duration": 163,
    "start_time": "2023-08-17T08:45:35.214Z"
   },
   {
    "duration": 235,
    "start_time": "2023-08-17T08:45:35.379Z"
   },
   {
    "duration": 161,
    "start_time": "2023-08-17T08:45:35.615Z"
   },
   {
    "duration": 316,
    "start_time": "2023-08-17T08:45:35.777Z"
   },
   {
    "duration": 163,
    "start_time": "2023-08-17T08:45:36.094Z"
   },
   {
    "duration": 155,
    "start_time": "2023-08-17T08:45:36.259Z"
   },
   {
    "duration": 156,
    "start_time": "2023-08-17T08:45:36.415Z"
   },
   {
    "duration": 32,
    "start_time": "2023-08-17T08:45:36.572Z"
   },
   {
    "duration": 280,
    "start_time": "2023-08-17T08:45:36.605Z"
   },
   {
    "duration": 666,
    "start_time": "2023-08-17T08:46:09.978Z"
   },
   {
    "duration": 113,
    "start_time": "2023-08-17T08:46:10.646Z"
   },
   {
    "duration": 44,
    "start_time": "2023-08-17T08:46:10.760Z"
   },
   {
    "duration": 4,
    "start_time": "2023-08-17T08:46:10.807Z"
   },
   {
    "duration": 1813,
    "start_time": "2023-08-17T08:46:10.812Z"
   },
   {
    "duration": 10,
    "start_time": "2023-08-17T08:46:12.627Z"
   },
   {
    "duration": 6,
    "start_time": "2023-08-17T08:46:12.639Z"
   },
   {
    "duration": 6,
    "start_time": "2023-08-17T08:46:12.647Z"
   },
   {
    "duration": 11,
    "start_time": "2023-08-17T08:46:12.654Z"
   },
   {
    "duration": 8,
    "start_time": "2023-08-17T08:46:12.667Z"
   },
   {
    "duration": 8,
    "start_time": "2023-08-17T08:46:12.676Z"
   },
   {
    "duration": 6,
    "start_time": "2023-08-17T08:46:12.685Z"
   },
   {
    "duration": 46,
    "start_time": "2023-08-17T08:46:12.692Z"
   },
   {
    "duration": 324,
    "start_time": "2023-08-17T08:46:12.740Z"
   },
   {
    "duration": 7,
    "start_time": "2023-08-17T08:46:13.066Z"
   },
   {
    "duration": 6,
    "start_time": "2023-08-17T08:46:13.074Z"
   },
   {
    "duration": 8,
    "start_time": "2023-08-17T08:46:13.081Z"
   },
   {
    "duration": 7,
    "start_time": "2023-08-17T08:46:13.090Z"
   },
   {
    "duration": 5,
    "start_time": "2023-08-17T08:46:13.098Z"
   },
   {
    "duration": 30,
    "start_time": "2023-08-17T08:46:13.105Z"
   },
   {
    "duration": 138,
    "start_time": "2023-08-17T08:46:13.137Z"
   },
   {
    "duration": 4,
    "start_time": "2023-08-17T08:46:13.276Z"
   },
   {
    "duration": 42,
    "start_time": "2023-08-17T08:46:13.281Z"
   },
   {
    "duration": 6,
    "start_time": "2023-08-17T08:46:13.325Z"
   },
   {
    "duration": 10,
    "start_time": "2023-08-17T08:46:13.332Z"
   },
   {
    "duration": 11,
    "start_time": "2023-08-17T08:46:13.343Z"
   },
   {
    "duration": 4,
    "start_time": "2023-08-17T08:46:13.355Z"
   },
   {
    "duration": 296,
    "start_time": "2023-08-17T08:46:13.362Z"
   },
   {
    "duration": 4,
    "start_time": "2023-08-17T08:46:13.660Z"
   },
   {
    "duration": 19,
    "start_time": "2023-08-17T08:46:13.665Z"
   },
   {
    "duration": 523,
    "start_time": "2023-08-17T08:46:13.686Z"
   },
   {
    "duration": 10,
    "start_time": "2023-08-17T08:46:14.211Z"
   },
   {
    "duration": 488,
    "start_time": "2023-08-17T08:46:14.222Z"
   },
   {
    "duration": 13,
    "start_time": "2023-08-17T08:46:14.712Z"
   },
   {
    "duration": 434,
    "start_time": "2023-08-17T08:46:14.734Z"
   },
   {
    "duration": 9,
    "start_time": "2023-08-17T08:46:15.169Z"
   },
   {
    "duration": 721,
    "start_time": "2023-08-17T08:46:15.180Z"
   },
   {
    "duration": 732,
    "start_time": "2023-08-17T08:46:15.902Z"
   },
   {
    "duration": 186,
    "start_time": "2023-08-17T08:46:16.635Z"
   },
   {
    "duration": 213,
    "start_time": "2023-08-17T08:46:16.823Z"
   },
   {
    "duration": 168,
    "start_time": "2023-08-17T08:46:17.037Z"
   },
   {
    "duration": 107,
    "start_time": "2023-08-17T08:46:17.206Z"
   },
   {
    "duration": 222,
    "start_time": "2023-08-17T08:46:17.314Z"
   },
   {
    "duration": 222,
    "start_time": "2023-08-17T08:46:17.537Z"
   },
   {
    "duration": 317,
    "start_time": "2023-08-17T08:46:17.761Z"
   },
   {
    "duration": 223,
    "start_time": "2023-08-17T08:46:18.079Z"
   },
   {
    "duration": 215,
    "start_time": "2023-08-17T08:46:18.304Z"
   },
   {
    "duration": 215,
    "start_time": "2023-08-17T08:46:18.521Z"
   },
   {
    "duration": 148,
    "start_time": "2023-08-17T08:46:18.737Z"
   },
   {
    "duration": 4,
    "start_time": "2023-08-17T08:46:18.887Z"
   },
   {
    "duration": 6,
    "start_time": "2023-08-17T08:46:18.893Z"
   },
   {
    "duration": 188,
    "start_time": "2023-08-17T08:46:18.901Z"
   },
   {
    "duration": 163,
    "start_time": "2023-08-17T08:46:19.091Z"
   },
   {
    "duration": 4,
    "start_time": "2023-08-17T08:46:19.256Z"
   },
   {
    "duration": 165,
    "start_time": "2023-08-17T08:46:19.262Z"
   },
   {
    "duration": 231,
    "start_time": "2023-08-17T08:46:19.433Z"
   },
   {
    "duration": 157,
    "start_time": "2023-08-17T08:46:19.665Z"
   },
   {
    "duration": 325,
    "start_time": "2023-08-17T08:46:19.824Z"
   },
   {
    "duration": 146,
    "start_time": "2023-08-17T08:46:20.151Z"
   },
   {
    "duration": 141,
    "start_time": "2023-08-17T08:46:20.299Z"
   },
   {
    "duration": 149,
    "start_time": "2023-08-17T08:46:20.442Z"
   },
   {
    "duration": 42,
    "start_time": "2023-08-17T08:46:20.593Z"
   },
   {
    "duration": 268,
    "start_time": "2023-08-17T08:46:20.636Z"
   },
   {
    "duration": 0,
    "start_time": "2023-08-17T08:48:59.088Z"
   },
   {
    "duration": 202,
    "start_time": "2023-08-17T08:49:09.867Z"
   },
   {
    "duration": 154,
    "start_time": "2023-08-17T08:49:30.190Z"
   },
   {
    "duration": 160,
    "start_time": "2023-08-17T08:50:14.620Z"
   },
   {
    "duration": 152,
    "start_time": "2023-08-17T08:50:21.749Z"
   },
   {
    "duration": 181,
    "start_time": "2023-08-17T08:50:34.052Z"
   },
   {
    "duration": 182,
    "start_time": "2023-08-17T08:50:54.896Z"
   },
   {
    "duration": 142,
    "start_time": "2023-08-17T08:51:05.136Z"
   },
   {
    "duration": 227,
    "start_time": "2023-08-17T08:52:35.938Z"
   },
   {
    "duration": 124,
    "start_time": "2023-08-17T08:55:27.620Z"
   },
   {
    "duration": 101,
    "start_time": "2023-08-17T08:55:33.256Z"
   },
   {
    "duration": 230,
    "start_time": "2023-08-17T08:56:01.164Z"
   },
   {
    "duration": 117,
    "start_time": "2023-08-17T08:56:13.632Z"
   },
   {
    "duration": 19,
    "start_time": "2023-08-17T08:57:59.767Z"
   },
   {
    "duration": 22,
    "start_time": "2023-08-17T08:58:46.188Z"
   },
   {
    "duration": 21,
    "start_time": "2023-08-17T08:59:07.712Z"
   },
   {
    "duration": 667,
    "start_time": "2023-08-17T08:59:58.064Z"
   },
   {
    "duration": 111,
    "start_time": "2023-08-17T08:59:58.733Z"
   },
   {
    "duration": 13,
    "start_time": "2023-08-17T08:59:58.846Z"
   },
   {
    "duration": 6,
    "start_time": "2023-08-17T08:59:58.861Z"
   },
   {
    "duration": 1853,
    "start_time": "2023-08-17T08:59:58.868Z"
   },
   {
    "duration": 10,
    "start_time": "2023-08-17T09:00:00.723Z"
   },
   {
    "duration": 22,
    "start_time": "2023-08-17T09:00:00.734Z"
   },
   {
    "duration": 32,
    "start_time": "2023-08-17T09:00:00.757Z"
   },
   {
    "duration": 37,
    "start_time": "2023-08-17T09:00:00.791Z"
   },
   {
    "duration": 39,
    "start_time": "2023-08-17T09:00:00.830Z"
   },
   {
    "duration": 227,
    "start_time": "2023-08-17T09:00:00.871Z"
   },
   {
    "duration": 129,
    "start_time": "2023-08-17T09:00:01.100Z"
   },
   {
    "duration": 66,
    "start_time": "2023-08-17T09:00:01.231Z"
   },
   {
    "duration": 471,
    "start_time": "2023-08-17T09:00:01.298Z"
   },
   {
    "duration": 7,
    "start_time": "2023-08-17T09:00:01.771Z"
   },
   {
    "duration": 110,
    "start_time": "2023-08-17T09:00:01.780Z"
   },
   {
    "duration": 71,
    "start_time": "2023-08-17T09:00:01.891Z"
   },
   {
    "duration": 172,
    "start_time": "2023-08-17T09:00:01.964Z"
   },
   {
    "duration": 93,
    "start_time": "2023-08-17T09:00:02.138Z"
   },
   {
    "duration": 101,
    "start_time": "2023-08-17T09:00:02.232Z"
   },
   {
    "duration": 214,
    "start_time": "2023-08-17T09:00:02.335Z"
   },
   {
    "duration": 19,
    "start_time": "2023-08-17T09:00:02.550Z"
   },
   {
    "duration": 60,
    "start_time": "2023-08-17T09:00:02.571Z"
   },
   {
    "duration": 59,
    "start_time": "2023-08-17T09:00:02.633Z"
   },
   {
    "duration": 45,
    "start_time": "2023-08-17T09:00:02.693Z"
   },
   {
    "duration": 52,
    "start_time": "2023-08-17T09:00:02.740Z"
   },
   {
    "duration": 118,
    "start_time": "2023-08-17T09:00:02.797Z"
   },
   {
    "duration": 42,
    "start_time": "2023-08-17T09:00:02.919Z"
   },
   {
    "duration": 335,
    "start_time": "2023-08-17T09:00:02.962Z"
   },
   {
    "duration": 5,
    "start_time": "2023-08-17T09:00:03.299Z"
   },
   {
    "duration": 75,
    "start_time": "2023-08-17T09:00:03.305Z"
   },
   {
    "duration": 567,
    "start_time": "2023-08-17T09:00:03.382Z"
   },
   {
    "duration": 10,
    "start_time": "2023-08-17T09:00:03.950Z"
   },
   {
    "duration": 451,
    "start_time": "2023-08-17T09:00:03.962Z"
   },
   {
    "duration": 11,
    "start_time": "2023-08-17T09:00:04.414Z"
   },
   {
    "duration": 506,
    "start_time": "2023-08-17T09:00:04.435Z"
   },
   {
    "duration": 9,
    "start_time": "2023-08-17T09:00:04.943Z"
   },
   {
    "duration": 747,
    "start_time": "2023-08-17T09:00:04.953Z"
   },
   {
    "duration": 793,
    "start_time": "2023-08-17T09:00:05.702Z"
   },
   {
    "duration": 181,
    "start_time": "2023-08-17T09:00:06.497Z"
   },
   {
    "duration": 219,
    "start_time": "2023-08-17T09:00:06.680Z"
   },
   {
    "duration": 171,
    "start_time": "2023-08-17T09:00:06.901Z"
   },
   {
    "duration": 113,
    "start_time": "2023-08-17T09:00:07.074Z"
   },
   {
    "duration": 221,
    "start_time": "2023-08-17T09:00:07.189Z"
   },
   {
    "duration": 232,
    "start_time": "2023-08-17T09:00:07.412Z"
   },
   {
    "duration": 332,
    "start_time": "2023-08-17T09:00:07.646Z"
   },
   {
    "duration": 225,
    "start_time": "2023-08-17T09:00:07.980Z"
   },
   {
    "duration": 219,
    "start_time": "2023-08-17T09:00:08.207Z"
   },
   {
    "duration": 223,
    "start_time": "2023-08-17T09:00:08.428Z"
   },
   {
    "duration": 129,
    "start_time": "2023-08-17T09:00:08.653Z"
   },
   {
    "duration": 4,
    "start_time": "2023-08-17T09:00:08.784Z"
   },
   {
    "duration": 15,
    "start_time": "2023-08-17T09:00:08.790Z"
   },
   {
    "duration": 171,
    "start_time": "2023-08-17T09:00:08.807Z"
   },
   {
    "duration": 155,
    "start_time": "2023-08-17T09:00:08.979Z"
   },
   {
    "duration": 5,
    "start_time": "2023-08-17T09:00:09.135Z"
   },
   {
    "duration": 159,
    "start_time": "2023-08-17T09:00:09.142Z"
   },
   {
    "duration": 233,
    "start_time": "2023-08-17T09:00:09.303Z"
   },
   {
    "duration": 158,
    "start_time": "2023-08-17T09:00:09.538Z"
   },
   {
    "duration": 313,
    "start_time": "2023-08-17T09:00:09.697Z"
   },
   {
    "duration": 175,
    "start_time": "2023-08-17T09:00:10.012Z"
   },
   {
    "duration": 156,
    "start_time": "2023-08-17T09:00:10.189Z"
   },
   {
    "duration": 166,
    "start_time": "2023-08-17T09:00:10.346Z"
   },
   {
    "duration": 45,
    "start_time": "2023-08-17T09:00:10.514Z"
   },
   {
    "duration": 281,
    "start_time": "2023-08-17T09:00:10.561Z"
   },
   {
    "duration": 19,
    "start_time": "2023-08-17T09:00:40.758Z"
   },
   {
    "duration": 795,
    "start_time": "2023-08-17T09:00:46.506Z"
   },
   {
    "duration": 117,
    "start_time": "2023-08-17T09:00:47.304Z"
   },
   {
    "duration": 14,
    "start_time": "2023-08-17T09:00:47.423Z"
   },
   {
    "duration": 20,
    "start_time": "2023-08-17T09:00:47.439Z"
   },
   {
    "duration": 1780,
    "start_time": "2023-08-17T09:00:47.461Z"
   },
   {
    "duration": 10,
    "start_time": "2023-08-17T09:00:49.243Z"
   },
   {
    "duration": 15,
    "start_time": "2023-08-17T09:00:49.255Z"
   },
   {
    "duration": 13,
    "start_time": "2023-08-17T09:00:49.272Z"
   },
   {
    "duration": 15,
    "start_time": "2023-08-17T09:00:49.287Z"
   },
   {
    "duration": 36,
    "start_time": "2023-08-17T09:00:49.304Z"
   },
   {
    "duration": 17,
    "start_time": "2023-08-17T09:00:49.342Z"
   },
   {
    "duration": 24,
    "start_time": "2023-08-17T09:00:49.361Z"
   },
   {
    "duration": 27,
    "start_time": "2023-08-17T09:00:49.387Z"
   },
   {
    "duration": 318,
    "start_time": "2023-08-17T09:00:49.417Z"
   },
   {
    "duration": 7,
    "start_time": "2023-08-17T09:00:49.737Z"
   },
   {
    "duration": 5,
    "start_time": "2023-08-17T09:00:49.745Z"
   },
   {
    "duration": 10,
    "start_time": "2023-08-17T09:00:49.752Z"
   },
   {
    "duration": 14,
    "start_time": "2023-08-17T09:00:49.763Z"
   },
   {
    "duration": 5,
    "start_time": "2023-08-17T09:00:49.779Z"
   },
   {
    "duration": 10,
    "start_time": "2023-08-17T09:00:49.785Z"
   },
   {
    "duration": 166,
    "start_time": "2023-08-17T09:00:49.797Z"
   },
   {
    "duration": 18,
    "start_time": "2023-08-17T09:00:49.965Z"
   },
   {
    "duration": 8,
    "start_time": "2023-08-17T09:00:49.984Z"
   },
   {
    "duration": 27,
    "start_time": "2023-08-17T09:00:49.994Z"
   },
   {
    "duration": 19,
    "start_time": "2023-08-17T09:00:50.022Z"
   },
   {
    "duration": 17,
    "start_time": "2023-08-17T09:00:50.043Z"
   },
   {
    "duration": 25,
    "start_time": "2023-08-17T09:00:50.061Z"
   },
   {
    "duration": 5,
    "start_time": "2023-08-17T09:00:50.088Z"
   },
   {
    "duration": 296,
    "start_time": "2023-08-17T09:00:50.094Z"
   },
   {
    "duration": 5,
    "start_time": "2023-08-17T09:00:50.392Z"
   },
   {
    "duration": 19,
    "start_time": "2023-08-17T09:00:50.399Z"
   },
   {
    "duration": 521,
    "start_time": "2023-08-17T09:00:50.420Z"
   },
   {
    "duration": 10,
    "start_time": "2023-08-17T09:00:50.942Z"
   },
   {
    "duration": 450,
    "start_time": "2023-08-17T09:00:50.953Z"
   },
   {
    "duration": 10,
    "start_time": "2023-08-17T09:00:51.405Z"
   },
   {
    "duration": 451,
    "start_time": "2023-08-17T09:00:51.416Z"
   },
   {
    "duration": 9,
    "start_time": "2023-08-17T09:00:51.869Z"
   },
   {
    "duration": 747,
    "start_time": "2023-08-17T09:00:51.879Z"
   },
   {
    "duration": 754,
    "start_time": "2023-08-17T09:00:52.627Z"
   },
   {
    "duration": 175,
    "start_time": "2023-08-17T09:00:53.384Z"
   },
   {
    "duration": 223,
    "start_time": "2023-08-17T09:00:53.563Z"
   },
   {
    "duration": 167,
    "start_time": "2023-08-17T09:00:53.787Z"
   },
   {
    "duration": 122,
    "start_time": "2023-08-17T09:00:53.956Z"
   },
   {
    "duration": 236,
    "start_time": "2023-08-17T09:00:54.080Z"
   },
   {
    "duration": 246,
    "start_time": "2023-08-17T09:00:54.317Z"
   },
   {
    "duration": 378,
    "start_time": "2023-08-17T09:00:54.565Z"
   },
   {
    "duration": 222,
    "start_time": "2023-08-17T09:00:54.945Z"
   },
   {
    "duration": 212,
    "start_time": "2023-08-17T09:00:55.169Z"
   },
   {
    "duration": 227,
    "start_time": "2023-08-17T09:00:55.383Z"
   },
   {
    "duration": 143,
    "start_time": "2023-08-17T09:00:55.612Z"
   },
   {
    "duration": 5,
    "start_time": "2023-08-17T09:00:55.757Z"
   },
   {
    "duration": 30,
    "start_time": "2023-08-17T09:00:55.763Z"
   },
   {
    "duration": 183,
    "start_time": "2023-08-17T09:00:55.794Z"
   },
   {
    "duration": 156,
    "start_time": "2023-08-17T09:00:55.978Z"
   },
   {
    "duration": 5,
    "start_time": "2023-08-17T09:00:56.136Z"
   },
   {
    "duration": 165,
    "start_time": "2023-08-17T09:00:56.143Z"
   },
   {
    "duration": 229,
    "start_time": "2023-08-17T09:00:56.310Z"
   },
   {
    "duration": 155,
    "start_time": "2023-08-17T09:00:56.540Z"
   },
   {
    "duration": 333,
    "start_time": "2023-08-17T09:00:56.696Z"
   },
   {
    "duration": 169,
    "start_time": "2023-08-17T09:00:57.030Z"
   },
   {
    "duration": 149,
    "start_time": "2023-08-17T09:00:57.201Z"
   },
   {
    "duration": 159,
    "start_time": "2023-08-17T09:00:57.351Z"
   },
   {
    "duration": 49,
    "start_time": "2023-08-17T09:00:57.512Z"
   },
   {
    "duration": 299,
    "start_time": "2023-08-17T09:00:57.562Z"
   },
   {
    "duration": 671,
    "start_time": "2023-08-17T09:04:25.267Z"
   },
   {
    "duration": 127,
    "start_time": "2023-08-17T09:04:25.940Z"
   },
   {
    "duration": 16,
    "start_time": "2023-08-17T09:04:26.069Z"
   },
   {
    "duration": 12,
    "start_time": "2023-08-17T09:04:26.087Z"
   },
   {
    "duration": 1868,
    "start_time": "2023-08-17T09:04:26.101Z"
   },
   {
    "duration": 9,
    "start_time": "2023-08-17T09:04:27.971Z"
   },
   {
    "duration": 19,
    "start_time": "2023-08-17T09:04:27.981Z"
   },
   {
    "duration": 13,
    "start_time": "2023-08-17T09:04:28.002Z"
   },
   {
    "duration": 36,
    "start_time": "2023-08-17T09:04:28.017Z"
   },
   {
    "duration": 23,
    "start_time": "2023-08-17T09:04:28.056Z"
   },
   {
    "duration": 31,
    "start_time": "2023-08-17T09:04:28.080Z"
   },
   {
    "duration": 23,
    "start_time": "2023-08-17T09:04:28.113Z"
   },
   {
    "duration": 25,
    "start_time": "2023-08-17T09:04:28.138Z"
   },
   {
    "duration": 320,
    "start_time": "2023-08-17T09:04:28.164Z"
   },
   {
    "duration": 7,
    "start_time": "2023-08-17T09:04:28.486Z"
   },
   {
    "duration": 27,
    "start_time": "2023-08-17T09:04:28.494Z"
   },
   {
    "duration": 16,
    "start_time": "2023-08-17T09:04:28.523Z"
   },
   {
    "duration": 10,
    "start_time": "2023-08-17T09:04:28.541Z"
   },
   {
    "duration": 28,
    "start_time": "2023-08-17T09:04:28.552Z"
   },
   {
    "duration": 21,
    "start_time": "2023-08-17T09:04:28.581Z"
   },
   {
    "duration": 163,
    "start_time": "2023-08-17T09:04:28.603Z"
   },
   {
    "duration": 14,
    "start_time": "2023-08-17T09:04:28.768Z"
   },
   {
    "duration": 12,
    "start_time": "2023-08-17T09:04:28.784Z"
   },
   {
    "duration": 11,
    "start_time": "2023-08-17T09:04:28.797Z"
   },
   {
    "duration": 22,
    "start_time": "2023-08-17T09:04:28.809Z"
   },
   {
    "duration": 31,
    "start_time": "2023-08-17T09:04:28.832Z"
   },
   {
    "duration": 18,
    "start_time": "2023-08-17T09:04:28.864Z"
   },
   {
    "duration": 18,
    "start_time": "2023-08-17T09:04:28.886Z"
   },
   {
    "duration": 329,
    "start_time": "2023-08-17T09:04:28.905Z"
   },
   {
    "duration": 5,
    "start_time": "2023-08-17T09:04:29.236Z"
   },
   {
    "duration": 29,
    "start_time": "2023-08-17T09:04:29.242Z"
   },
   {
    "duration": 540,
    "start_time": "2023-08-17T09:04:29.273Z"
   },
   {
    "duration": 24,
    "start_time": "2023-08-17T09:04:29.815Z"
   },
   {
    "duration": 445,
    "start_time": "2023-08-17T09:04:29.841Z"
   },
   {
    "duration": 11,
    "start_time": "2023-08-17T09:04:30.288Z"
   },
   {
    "duration": 451,
    "start_time": "2023-08-17T09:04:30.301Z"
   },
   {
    "duration": 9,
    "start_time": "2023-08-17T09:04:30.754Z"
   },
   {
    "duration": 784,
    "start_time": "2023-08-17T09:04:30.764Z"
   },
   {
    "duration": 765,
    "start_time": "2023-08-17T09:04:31.549Z"
   },
   {
    "duration": 188,
    "start_time": "2023-08-17T09:04:32.316Z"
   },
   {
    "duration": 228,
    "start_time": "2023-08-17T09:04:32.506Z"
   },
   {
    "duration": 188,
    "start_time": "2023-08-17T09:04:32.735Z"
   },
   {
    "duration": 117,
    "start_time": "2023-08-17T09:04:32.925Z"
   },
   {
    "duration": 220,
    "start_time": "2023-08-17T09:04:33.044Z"
   },
   {
    "duration": 222,
    "start_time": "2023-08-17T09:04:33.265Z"
   },
   {
    "duration": 330,
    "start_time": "2023-08-17T09:04:33.489Z"
   },
   {
    "duration": 222,
    "start_time": "2023-08-17T09:04:33.821Z"
   },
   {
    "duration": 215,
    "start_time": "2023-08-17T09:04:34.044Z"
   },
   {
    "duration": 251,
    "start_time": "2023-08-17T09:04:34.261Z"
   },
   {
    "duration": 165,
    "start_time": "2023-08-17T09:04:34.513Z"
   },
   {
    "duration": 5,
    "start_time": "2023-08-17T09:04:34.680Z"
   },
   {
    "duration": 9,
    "start_time": "2023-08-17T09:04:34.686Z"
   },
   {
    "duration": 177,
    "start_time": "2023-08-17T09:04:34.697Z"
   },
   {
    "duration": 148,
    "start_time": "2023-08-17T09:04:34.875Z"
   },
   {
    "duration": 12,
    "start_time": "2023-08-17T09:04:35.024Z"
   },
   {
    "duration": 157,
    "start_time": "2023-08-17T09:04:35.038Z"
   },
   {
    "duration": 241,
    "start_time": "2023-08-17T09:04:35.197Z"
   },
   {
    "duration": 154,
    "start_time": "2023-08-17T09:04:35.440Z"
   },
   {
    "duration": 322,
    "start_time": "2023-08-17T09:04:35.596Z"
   },
   {
    "duration": 175,
    "start_time": "2023-08-17T09:04:35.920Z"
   },
   {
    "duration": 162,
    "start_time": "2023-08-17T09:04:36.096Z"
   },
   {
    "duration": 155,
    "start_time": "2023-08-17T09:04:36.260Z"
   },
   {
    "duration": 41,
    "start_time": "2023-08-17T09:04:36.417Z"
   },
   {
    "duration": 268,
    "start_time": "2023-08-17T09:04:36.460Z"
   },
   {
    "duration": 69,
    "start_time": "2023-08-17T09:08:27.496Z"
   },
   {
    "duration": 194,
    "start_time": "2023-08-17T09:08:36.385Z"
   },
   {
    "duration": 127,
    "start_time": "2023-08-17T09:08:53.494Z"
   },
   {
    "duration": 133,
    "start_time": "2023-08-17T09:09:01.277Z"
   },
   {
    "duration": 135,
    "start_time": "2023-08-17T09:09:43.228Z"
   },
   {
    "duration": 3,
    "start_time": "2023-08-17T09:10:05.101Z"
   },
   {
    "duration": 9,
    "start_time": "2023-08-17T09:10:24.383Z"
   },
   {
    "duration": 139,
    "start_time": "2023-08-17T09:10:36.327Z"
   },
   {
    "duration": 10,
    "start_time": "2023-08-17T09:10:42.466Z"
   },
   {
    "duration": 139,
    "start_time": "2023-08-17T09:10:44.130Z"
   },
   {
    "duration": 666,
    "start_time": "2023-08-17T09:10:50.087Z"
   },
   {
    "duration": 116,
    "start_time": "2023-08-17T09:10:50.755Z"
   },
   {
    "duration": 14,
    "start_time": "2023-08-17T09:10:50.873Z"
   },
   {
    "duration": 14,
    "start_time": "2023-08-17T09:10:50.888Z"
   },
   {
    "duration": 1870,
    "start_time": "2023-08-17T09:10:50.903Z"
   },
   {
    "duration": 15,
    "start_time": "2023-08-17T09:10:52.775Z"
   },
   {
    "duration": 7,
    "start_time": "2023-08-17T09:10:52.792Z"
   },
   {
    "duration": 18,
    "start_time": "2023-08-17T09:10:52.801Z"
   },
   {
    "duration": 16,
    "start_time": "2023-08-17T09:10:52.821Z"
   },
   {
    "duration": 25,
    "start_time": "2023-08-17T09:10:52.840Z"
   },
   {
    "duration": 8,
    "start_time": "2023-08-17T09:10:52.867Z"
   },
   {
    "duration": 23,
    "start_time": "2023-08-17T09:10:52.876Z"
   },
   {
    "duration": 11,
    "start_time": "2023-08-17T09:10:52.900Z"
   },
   {
    "duration": 315,
    "start_time": "2023-08-17T09:10:52.913Z"
   },
   {
    "duration": 9,
    "start_time": "2023-08-17T09:10:53.230Z"
   },
   {
    "duration": 9,
    "start_time": "2023-08-17T09:10:53.240Z"
   },
   {
    "duration": 9,
    "start_time": "2023-08-17T09:10:53.251Z"
   },
   {
    "duration": 12,
    "start_time": "2023-08-17T09:10:53.261Z"
   },
   {
    "duration": 17,
    "start_time": "2023-08-17T09:10:53.275Z"
   },
   {
    "duration": 24,
    "start_time": "2023-08-17T09:10:53.294Z"
   },
   {
    "duration": 151,
    "start_time": "2023-08-17T09:10:53.320Z"
   },
   {
    "duration": 15,
    "start_time": "2023-08-17T09:10:53.473Z"
   },
   {
    "duration": 145,
    "start_time": "2023-08-17T09:10:53.489Z"
   },
   {
    "duration": 9,
    "start_time": "2023-08-17T09:10:53.635Z"
   },
   {
    "duration": 141,
    "start_time": "2023-08-17T09:10:53.645Z"
   },
   {
    "duration": 4,
    "start_time": "2023-08-17T09:10:53.788Z"
   },
   {
    "duration": 22,
    "start_time": "2023-08-17T09:10:53.794Z"
   },
   {
    "duration": 9,
    "start_time": "2023-08-17T09:10:53.821Z"
   },
   {
    "duration": 9,
    "start_time": "2023-08-17T09:10:53.834Z"
   },
   {
    "duration": 6,
    "start_time": "2023-08-17T09:10:53.845Z"
   },
   {
    "duration": 25,
    "start_time": "2023-08-17T09:10:53.852Z"
   },
   {
    "duration": 435,
    "start_time": "2023-08-17T09:10:53.878Z"
   },
   {
    "duration": 4,
    "start_time": "2023-08-17T09:10:54.315Z"
   },
   {
    "duration": 18,
    "start_time": "2023-08-17T09:10:54.320Z"
   },
   {
    "duration": 515,
    "start_time": "2023-08-17T09:10:54.340Z"
   },
   {
    "duration": 11,
    "start_time": "2023-08-17T09:10:54.856Z"
   },
   {
    "duration": 468,
    "start_time": "2023-08-17T09:10:54.869Z"
   },
   {
    "duration": 10,
    "start_time": "2023-08-17T09:10:55.339Z"
   },
   {
    "duration": 544,
    "start_time": "2023-08-17T09:10:55.351Z"
   },
   {
    "duration": 11,
    "start_time": "2023-08-17T09:10:55.897Z"
   },
   {
    "duration": 692,
    "start_time": "2023-08-17T09:10:55.910Z"
   },
   {
    "duration": 815,
    "start_time": "2023-08-17T09:10:56.604Z"
   },
   {
    "duration": 183,
    "start_time": "2023-08-17T09:10:57.421Z"
   },
   {
    "duration": 231,
    "start_time": "2023-08-17T09:10:57.606Z"
   },
   {
    "duration": 179,
    "start_time": "2023-08-17T09:10:57.839Z"
   },
   {
    "duration": 124,
    "start_time": "2023-08-17T09:10:58.020Z"
   },
   {
    "duration": 224,
    "start_time": "2023-08-17T09:10:58.146Z"
   },
   {
    "duration": 335,
    "start_time": "2023-08-17T09:10:58.371Z"
   },
   {
    "duration": 219,
    "start_time": "2023-08-17T09:10:58.708Z"
   },
   {
    "duration": 250,
    "start_time": "2023-08-17T09:10:58.928Z"
   },
   {
    "duration": 247,
    "start_time": "2023-08-17T09:10:59.179Z"
   },
   {
    "duration": 250,
    "start_time": "2023-08-17T09:10:59.428Z"
   },
   {
    "duration": 146,
    "start_time": "2023-08-17T09:10:59.680Z"
   },
   {
    "duration": 9,
    "start_time": "2023-08-17T09:10:59.828Z"
   },
   {
    "duration": 13,
    "start_time": "2023-08-17T09:10:59.838Z"
   },
   {
    "duration": 192,
    "start_time": "2023-08-17T09:10:59.853Z"
   },
   {
    "duration": 257,
    "start_time": "2023-08-17T09:11:00.047Z"
   },
   {
    "duration": 5,
    "start_time": "2023-08-17T09:11:00.306Z"
   },
   {
    "duration": 173,
    "start_time": "2023-08-17T09:11:00.313Z"
   },
   {
    "duration": 166,
    "start_time": "2023-08-17T09:11:00.488Z"
   },
   {
    "duration": 161,
    "start_time": "2023-08-17T09:11:00.656Z"
   },
   {
    "duration": 328,
    "start_time": "2023-08-17T09:11:00.819Z"
   },
   {
    "duration": 176,
    "start_time": "2023-08-17T09:11:01.149Z"
   },
   {
    "duration": 162,
    "start_time": "2023-08-17T09:11:01.327Z"
   },
   {
    "duration": 240,
    "start_time": "2023-08-17T09:11:01.490Z"
   },
   {
    "duration": 36,
    "start_time": "2023-08-17T09:11:01.731Z"
   },
   {
    "duration": 333,
    "start_time": "2023-08-17T09:11:01.769Z"
   },
   {
    "duration": 9,
    "start_time": "2023-08-17T09:11:30.917Z"
   },
   {
    "duration": 137,
    "start_time": "2023-08-17T09:11:32.164Z"
   },
   {
    "duration": 7,
    "start_time": "2023-08-17T09:12:22.209Z"
   },
   {
    "duration": 132,
    "start_time": "2023-08-17T09:12:24.277Z"
   },
   {
    "duration": 67,
    "start_time": "2023-08-17T09:13:28.593Z"
   },
   {
    "duration": 7,
    "start_time": "2023-08-17T09:13:35.234Z"
   },
   {
    "duration": 53,
    "start_time": "2023-08-17T09:14:18.975Z"
   },
   {
    "duration": 54,
    "start_time": "2023-08-17T09:18:13.583Z"
   },
   {
    "duration": 1431,
    "start_time": "2023-08-17T13:11:03.929Z"
   },
   {
    "duration": 156,
    "start_time": "2023-08-17T13:11:05.362Z"
   },
   {
    "duration": 24,
    "start_time": "2023-08-17T13:11:05.520Z"
   },
   {
    "duration": 41,
    "start_time": "2023-08-17T13:11:05.546Z"
   },
   {
    "duration": 8221,
    "start_time": "2023-08-17T13:11:05.589Z"
   },
   {
    "duration": 10,
    "start_time": "2023-08-17T13:11:13.813Z"
   },
   {
    "duration": 96,
    "start_time": "2023-08-17T13:11:13.825Z"
   },
   {
    "duration": 100,
    "start_time": "2023-08-17T13:11:13.923Z"
   },
   {
    "duration": 90,
    "start_time": "2023-08-17T13:11:14.025Z"
   },
   {
    "duration": 300,
    "start_time": "2023-08-17T13:11:14.117Z"
   },
   {
    "duration": 97,
    "start_time": "2023-08-17T13:11:14.419Z"
   },
   {
    "duration": 215,
    "start_time": "2023-08-17T13:11:14.518Z"
   },
   {
    "duration": 84,
    "start_time": "2023-08-17T13:11:14.735Z"
   },
   {
    "duration": 1194,
    "start_time": "2023-08-17T13:11:14.822Z"
   },
   {
    "duration": 15,
    "start_time": "2023-08-17T13:11:16.018Z"
   },
   {
    "duration": 188,
    "start_time": "2023-08-17T13:11:16.035Z"
   },
   {
    "duration": 91,
    "start_time": "2023-08-17T13:11:16.225Z"
   },
   {
    "duration": 26,
    "start_time": "2023-08-17T13:11:16.319Z"
   },
   {
    "duration": 101,
    "start_time": "2023-08-17T13:11:16.410Z"
   },
   {
    "duration": 7,
    "start_time": "2023-08-17T13:11:16.513Z"
   },
   {
    "duration": 602,
    "start_time": "2023-08-17T13:11:16.522Z"
   },
   {
    "duration": 99,
    "start_time": "2023-08-17T13:11:17.126Z"
   },
   {
    "duration": 688,
    "start_time": "2023-08-17T13:11:17.228Z"
   },
   {
    "duration": 9,
    "start_time": "2023-08-17T13:11:17.919Z"
   },
   {
    "duration": 204,
    "start_time": "2023-08-17T13:11:17.930Z"
   },
   {
    "duration": 108,
    "start_time": "2023-08-17T13:11:18.137Z"
   },
   {
    "duration": 8,
    "start_time": "2023-08-17T13:11:18.248Z"
   },
   {
    "duration": 7,
    "start_time": "2023-08-17T13:11:18.257Z"
   },
   {
    "duration": 47,
    "start_time": "2023-08-17T13:11:18.266Z"
   },
   {
    "duration": 7,
    "start_time": "2023-08-17T13:11:18.315Z"
   },
   {
    "duration": 1086,
    "start_time": "2023-08-17T13:11:18.324Z"
   },
   {
    "duration": 9,
    "start_time": "2023-08-17T13:11:19.413Z"
   },
   {
    "duration": 97,
    "start_time": "2023-08-17T13:11:19.424Z"
   },
   {
    "duration": 2190,
    "start_time": "2023-08-17T13:11:19.523Z"
   },
   {
    "duration": 13,
    "start_time": "2023-08-17T13:11:21.715Z"
   },
   {
    "duration": 1604,
    "start_time": "2023-08-17T13:11:21.730Z"
   },
   {
    "duration": 15,
    "start_time": "2023-08-17T13:11:23.409Z"
   },
   {
    "duration": 2386,
    "start_time": "2023-08-17T13:11:23.427Z"
   },
   {
    "duration": 15,
    "start_time": "2023-08-17T13:11:25.817Z"
   },
   {
    "duration": 3000,
    "start_time": "2023-08-17T13:11:25.834Z"
   },
   {
    "duration": 3604,
    "start_time": "2023-08-17T13:11:28.911Z"
   },
   {
    "duration": 806,
    "start_time": "2023-08-17T13:11:32.518Z"
   },
   {
    "duration": 982,
    "start_time": "2023-08-17T13:11:33.327Z"
   },
   {
    "duration": 607,
    "start_time": "2023-08-17T13:11:34.311Z"
   },
   {
    "duration": 411,
    "start_time": "2023-08-17T13:11:34.921Z"
   },
   {
    "duration": 901,
    "start_time": "2023-08-17T13:11:35.408Z"
   },
   {
    "duration": 813,
    "start_time": "2023-08-17T13:11:36.311Z"
   },
   {
    "duration": 1502,
    "start_time": "2023-08-17T13:11:37.126Z"
   },
   {
    "duration": 1184,
    "start_time": "2023-08-17T13:11:38.631Z"
   },
   {
    "duration": 1092,
    "start_time": "2023-08-17T13:11:39.819Z"
   },
   {
    "duration": 914,
    "start_time": "2023-08-17T13:11:40.913Z"
   },
   {
    "duration": 507,
    "start_time": "2023-08-17T13:11:41.829Z"
   },
   {
    "duration": 6,
    "start_time": "2023-08-17T13:11:42.409Z"
   },
   {
    "duration": 7,
    "start_time": "2023-08-17T13:11:42.417Z"
   },
   {
    "duration": 484,
    "start_time": "2023-08-17T13:11:42.426Z"
   },
   {
    "duration": 329,
    "start_time": "2023-08-17T13:11:42.912Z"
   },
   {
    "duration": 66,
    "start_time": "2023-08-17T13:11:43.243Z"
   },
   {
    "duration": 601,
    "start_time": "2023-08-17T13:11:43.312Z"
   },
   {
    "duration": 326,
    "start_time": "2023-08-17T13:11:43.916Z"
   },
   {
    "duration": 405,
    "start_time": "2023-08-17T13:11:44.244Z"
   },
   {
    "duration": 875,
    "start_time": "2023-08-17T13:11:44.651Z"
   },
   {
    "duration": 410,
    "start_time": "2023-08-17T13:11:45.529Z"
   },
   {
    "duration": 400,
    "start_time": "2023-08-17T13:11:45.942Z"
   },
   {
    "duration": 344,
    "start_time": "2023-08-17T13:11:46.343Z"
   },
   {
    "duration": 35,
    "start_time": "2023-08-17T13:11:46.709Z"
   },
   {
    "duration": 534,
    "start_time": "2023-08-17T13:11:46.747Z"
   },
   {
    "duration": 90,
    "start_time": "2023-08-17T13:30:13.626Z"
   },
   {
    "duration": 45,
    "start_time": "2023-08-30T15:19:28.170Z"
   },
   {
    "duration": 888,
    "start_time": "2023-08-30T15:19:35.844Z"
   },
   {
    "duration": 321,
    "start_time": "2023-08-30T15:19:36.734Z"
   },
   {
    "duration": 16,
    "start_time": "2023-08-30T15:19:37.457Z"
   },
   {
    "duration": 5,
    "start_time": "2023-08-30T15:19:37.993Z"
   },
   {
    "duration": 1859,
    "start_time": "2023-08-30T15:19:38.139Z"
   },
   {
    "duration": 10,
    "start_time": "2023-08-30T15:19:40.000Z"
   },
   {
    "duration": 16,
    "start_time": "2023-08-30T15:19:40.011Z"
   },
   {
    "duration": 37,
    "start_time": "2023-08-30T15:19:40.029Z"
   },
   {
    "duration": 37,
    "start_time": "2023-08-30T15:19:40.068Z"
   },
   {
    "duration": 46,
    "start_time": "2023-08-30T15:19:40.106Z"
   },
   {
    "duration": 8,
    "start_time": "2023-08-30T15:19:40.185Z"
   },
   {
    "duration": 6,
    "start_time": "2023-08-30T15:19:40.269Z"
   },
   {
    "duration": 14,
    "start_time": "2023-08-30T15:19:40.352Z"
   },
   {
    "duration": 374,
    "start_time": "2023-08-30T15:19:40.614Z"
   },
   {
    "duration": 9,
    "start_time": "2023-08-30T15:19:40.990Z"
   },
   {
    "duration": 52,
    "start_time": "2023-08-30T15:19:41.001Z"
   },
   {
    "duration": 41,
    "start_time": "2023-08-30T15:19:41.055Z"
   },
   {
    "duration": 7,
    "start_time": "2023-08-30T15:19:44.230Z"
   },
   {
    "duration": 5,
    "start_time": "2023-08-30T15:19:44.380Z"
   },
   {
    "duration": 6,
    "start_time": "2023-08-30T15:19:44.653Z"
   },
   {
    "duration": 165,
    "start_time": "2023-08-30T15:19:44.792Z"
   },
   {
    "duration": 17,
    "start_time": "2023-08-30T15:19:45.063Z"
   },
   {
    "duration": 152,
    "start_time": "2023-08-30T15:19:50.203Z"
   },
   {
    "duration": 7,
    "start_time": "2023-08-30T15:19:52.628Z"
   },
   {
    "duration": 321,
    "start_time": "2023-08-30T15:20:25.466Z"
   },
   {
    "duration": 326,
    "start_time": "2023-08-30T15:20:43.368Z"
   },
   {
    "duration": 4,
    "start_time": "2023-08-30T15:20:53.736Z"
   }
  ],
  "kernelspec": {
   "display_name": "Python 3.10.8 64-bit",
   "language": "python",
   "name": "python3"
  },
  "language_info": {
   "codemirror_mode": {
    "name": "ipython",
    "version": 3
   },
   "file_extension": ".py",
   "mimetype": "text/x-python",
   "name": "python",
   "nbconvert_exporter": "python",
   "pygments_lexer": "ipython3",
   "version": "3.10.8"
  },
  "toc": {
   "base_numbering": 1,
   "nav_menu": {},
   "number_sections": true,
   "sideBar": true,
   "skip_h1_title": true,
   "title_cell": "Table of Contents",
   "title_sidebar": "Contents",
   "toc_cell": false,
   "toc_position": {},
   "toc_section_display": true,
   "toc_window_display": false
  },
  "vscode": {
   "interpreter": {
    "hash": "7e1998ff7f8aa20ada591c520b972326324e5ea05489af9e422744c7c09f6dad"
   }
  }
 },
 "nbformat": 4,
 "nbformat_minor": 2
}
