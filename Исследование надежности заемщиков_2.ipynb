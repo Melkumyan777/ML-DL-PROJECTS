{
 "cells": [
  {
   "cell_type": "markdown",
   "id": "77f283ac",
   "metadata": {
    "deletable": false,
    "editable": false,
    "id": "744d7639"
   },
   "source": [
    "## Откройте таблицу и изучите общую информацию о данных"
   ]
  },
  {
   "cell_type": "markdown",
   "id": "679c48d5",
   "metadata": {
    "deletable": false,
    "editable": false,
    "id": "e7a14c31"
   },
   "source": [
    "**Задание 1. Импортируйте библиотеку pandas. Считайте данные из csv-файла в датафрейм и сохраните в переменную `data`. Путь к файлу:**\n",
    "\n",
    "`/datasets/data.csv`"
   ]
  },
  {
   "cell_type": "code",
   "execution_count": 1,
   "id": "cb9ca7be",
   "metadata": {
    "deletable": false,
    "id": "7bcf75c9"
   },
   "outputs": [],
   "source": [
    "import pandas as pd\n",
    "\n",
    "try:\n",
    "    data = pd.read_csv('/datasets/data.csv')\n",
    "except:\n",
    "    data = pd.read_csv('https://code.s3.yandex.net/datasets/data.csv')"
   ]
  },
  {
   "cell_type": "markdown",
   "id": "49f7ccae",
   "metadata": {
    "deletable": false,
    "editable": false,
    "id": "b8038fe3"
   },
   "source": [
    "**Задание 2. Выведите первые 20 строчек датафрейма `data` на экран.**"
   ]
  },
  {
   "cell_type": "code",
   "execution_count": 2,
   "id": "1297e7e3",
   "metadata": {
    "deletable": false,
    "id": "2a7cab99",
    "outputId": "1a8f3ef2-d323-4ec2-ddf7-89670b5944c4"
   },
   "outputs": [
    {
     "data": {
      "text/html": [
       "<div>\n",
       "<style scoped>\n",
       "    .dataframe tbody tr th:only-of-type {\n",
       "        vertical-align: middle;\n",
       "    }\n",
       "\n",
       "    .dataframe tbody tr th {\n",
       "        vertical-align: top;\n",
       "    }\n",
       "\n",
       "    .dataframe thead th {\n",
       "        text-align: right;\n",
       "    }\n",
       "</style>\n",
       "<table border=\"1\" class=\"dataframe\">\n",
       "  <thead>\n",
       "    <tr style=\"text-align: right;\">\n",
       "      <th></th>\n",
       "      <th>children</th>\n",
       "      <th>days_employed</th>\n",
       "      <th>dob_years</th>\n",
       "      <th>education</th>\n",
       "      <th>education_id</th>\n",
       "      <th>family_status</th>\n",
       "      <th>family_status_id</th>\n",
       "      <th>gender</th>\n",
       "      <th>income_type</th>\n",
       "      <th>debt</th>\n",
       "      <th>total_income</th>\n",
       "      <th>purpose</th>\n",
       "    </tr>\n",
       "  </thead>\n",
       "  <tbody>\n",
       "    <tr>\n",
       "      <th>0</th>\n",
       "      <td>1</td>\n",
       "      <td>-8437.673028</td>\n",
       "      <td>42</td>\n",
       "      <td>высшее</td>\n",
       "      <td>0</td>\n",
       "      <td>женат / замужем</td>\n",
       "      <td>0</td>\n",
       "      <td>F</td>\n",
       "      <td>сотрудник</td>\n",
       "      <td>0</td>\n",
       "      <td>253875.639453</td>\n",
       "      <td>покупка жилья</td>\n",
       "    </tr>\n",
       "    <tr>\n",
       "      <th>1</th>\n",
       "      <td>1</td>\n",
       "      <td>-4024.803754</td>\n",
       "      <td>36</td>\n",
       "      <td>среднее</td>\n",
       "      <td>1</td>\n",
       "      <td>женат / замужем</td>\n",
       "      <td>0</td>\n",
       "      <td>F</td>\n",
       "      <td>сотрудник</td>\n",
       "      <td>0</td>\n",
       "      <td>112080.014102</td>\n",
       "      <td>приобретение автомобиля</td>\n",
       "    </tr>\n",
       "    <tr>\n",
       "      <th>2</th>\n",
       "      <td>0</td>\n",
       "      <td>-5623.422610</td>\n",
       "      <td>33</td>\n",
       "      <td>Среднее</td>\n",
       "      <td>1</td>\n",
       "      <td>женат / замужем</td>\n",
       "      <td>0</td>\n",
       "      <td>M</td>\n",
       "      <td>сотрудник</td>\n",
       "      <td>0</td>\n",
       "      <td>145885.952297</td>\n",
       "      <td>покупка жилья</td>\n",
       "    </tr>\n",
       "    <tr>\n",
       "      <th>3</th>\n",
       "      <td>3</td>\n",
       "      <td>-4124.747207</td>\n",
       "      <td>32</td>\n",
       "      <td>среднее</td>\n",
       "      <td>1</td>\n",
       "      <td>женат / замужем</td>\n",
       "      <td>0</td>\n",
       "      <td>M</td>\n",
       "      <td>сотрудник</td>\n",
       "      <td>0</td>\n",
       "      <td>267628.550329</td>\n",
       "      <td>дополнительное образование</td>\n",
       "    </tr>\n",
       "    <tr>\n",
       "      <th>4</th>\n",
       "      <td>0</td>\n",
       "      <td>340266.072047</td>\n",
       "      <td>53</td>\n",
       "      <td>среднее</td>\n",
       "      <td>1</td>\n",
       "      <td>гражданский брак</td>\n",
       "      <td>1</td>\n",
       "      <td>F</td>\n",
       "      <td>пенсионер</td>\n",
       "      <td>0</td>\n",
       "      <td>158616.077870</td>\n",
       "      <td>сыграть свадьбу</td>\n",
       "    </tr>\n",
       "    <tr>\n",
       "      <th>5</th>\n",
       "      <td>0</td>\n",
       "      <td>-926.185831</td>\n",
       "      <td>27</td>\n",
       "      <td>высшее</td>\n",
       "      <td>0</td>\n",
       "      <td>гражданский брак</td>\n",
       "      <td>1</td>\n",
       "      <td>M</td>\n",
       "      <td>компаньон</td>\n",
       "      <td>0</td>\n",
       "      <td>255763.565419</td>\n",
       "      <td>покупка жилья</td>\n",
       "    </tr>\n",
       "    <tr>\n",
       "      <th>6</th>\n",
       "      <td>0</td>\n",
       "      <td>-2879.202052</td>\n",
       "      <td>43</td>\n",
       "      <td>высшее</td>\n",
       "      <td>0</td>\n",
       "      <td>женат / замужем</td>\n",
       "      <td>0</td>\n",
       "      <td>F</td>\n",
       "      <td>компаньон</td>\n",
       "      <td>0</td>\n",
       "      <td>240525.971920</td>\n",
       "      <td>операции с жильем</td>\n",
       "    </tr>\n",
       "    <tr>\n",
       "      <th>7</th>\n",
       "      <td>0</td>\n",
       "      <td>-152.779569</td>\n",
       "      <td>50</td>\n",
       "      <td>СРЕДНЕЕ</td>\n",
       "      <td>1</td>\n",
       "      <td>женат / замужем</td>\n",
       "      <td>0</td>\n",
       "      <td>M</td>\n",
       "      <td>сотрудник</td>\n",
       "      <td>0</td>\n",
       "      <td>135823.934197</td>\n",
       "      <td>образование</td>\n",
       "    </tr>\n",
       "    <tr>\n",
       "      <th>8</th>\n",
       "      <td>2</td>\n",
       "      <td>-6929.865299</td>\n",
       "      <td>35</td>\n",
       "      <td>ВЫСШЕЕ</td>\n",
       "      <td>0</td>\n",
       "      <td>гражданский брак</td>\n",
       "      <td>1</td>\n",
       "      <td>F</td>\n",
       "      <td>сотрудник</td>\n",
       "      <td>0</td>\n",
       "      <td>95856.832424</td>\n",
       "      <td>на проведение свадьбы</td>\n",
       "    </tr>\n",
       "    <tr>\n",
       "      <th>9</th>\n",
       "      <td>0</td>\n",
       "      <td>-2188.756445</td>\n",
       "      <td>41</td>\n",
       "      <td>среднее</td>\n",
       "      <td>1</td>\n",
       "      <td>женат / замужем</td>\n",
       "      <td>0</td>\n",
       "      <td>M</td>\n",
       "      <td>сотрудник</td>\n",
       "      <td>0</td>\n",
       "      <td>144425.938277</td>\n",
       "      <td>покупка жилья для семьи</td>\n",
       "    </tr>\n",
       "    <tr>\n",
       "      <th>10</th>\n",
       "      <td>2</td>\n",
       "      <td>-4171.483647</td>\n",
       "      <td>36</td>\n",
       "      <td>высшее</td>\n",
       "      <td>0</td>\n",
       "      <td>женат / замужем</td>\n",
       "      <td>0</td>\n",
       "      <td>M</td>\n",
       "      <td>компаньон</td>\n",
       "      <td>0</td>\n",
       "      <td>113943.491460</td>\n",
       "      <td>покупка недвижимости</td>\n",
       "    </tr>\n",
       "    <tr>\n",
       "      <th>11</th>\n",
       "      <td>0</td>\n",
       "      <td>-792.701887</td>\n",
       "      <td>40</td>\n",
       "      <td>среднее</td>\n",
       "      <td>1</td>\n",
       "      <td>женат / замужем</td>\n",
       "      <td>0</td>\n",
       "      <td>F</td>\n",
       "      <td>сотрудник</td>\n",
       "      <td>0</td>\n",
       "      <td>77069.234271</td>\n",
       "      <td>покупка коммерческой недвижимости</td>\n",
       "    </tr>\n",
       "    <tr>\n",
       "      <th>12</th>\n",
       "      <td>0</td>\n",
       "      <td>NaN</td>\n",
       "      <td>65</td>\n",
       "      <td>среднее</td>\n",
       "      <td>1</td>\n",
       "      <td>гражданский брак</td>\n",
       "      <td>1</td>\n",
       "      <td>M</td>\n",
       "      <td>пенсионер</td>\n",
       "      <td>0</td>\n",
       "      <td>NaN</td>\n",
       "      <td>сыграть свадьбу</td>\n",
       "    </tr>\n",
       "    <tr>\n",
       "      <th>13</th>\n",
       "      <td>0</td>\n",
       "      <td>-1846.641941</td>\n",
       "      <td>54</td>\n",
       "      <td>неоконченное высшее</td>\n",
       "      <td>2</td>\n",
       "      <td>женат / замужем</td>\n",
       "      <td>0</td>\n",
       "      <td>F</td>\n",
       "      <td>сотрудник</td>\n",
       "      <td>0</td>\n",
       "      <td>130458.228857</td>\n",
       "      <td>приобретение автомобиля</td>\n",
       "    </tr>\n",
       "    <tr>\n",
       "      <th>14</th>\n",
       "      <td>0</td>\n",
       "      <td>-1844.956182</td>\n",
       "      <td>56</td>\n",
       "      <td>высшее</td>\n",
       "      <td>0</td>\n",
       "      <td>гражданский брак</td>\n",
       "      <td>1</td>\n",
       "      <td>F</td>\n",
       "      <td>компаньон</td>\n",
       "      <td>1</td>\n",
       "      <td>165127.911772</td>\n",
       "      <td>покупка жилой недвижимости</td>\n",
       "    </tr>\n",
       "    <tr>\n",
       "      <th>15</th>\n",
       "      <td>1</td>\n",
       "      <td>-972.364419</td>\n",
       "      <td>26</td>\n",
       "      <td>среднее</td>\n",
       "      <td>1</td>\n",
       "      <td>женат / замужем</td>\n",
       "      <td>0</td>\n",
       "      <td>F</td>\n",
       "      <td>сотрудник</td>\n",
       "      <td>0</td>\n",
       "      <td>116820.904450</td>\n",
       "      <td>строительство собственной недвижимости</td>\n",
       "    </tr>\n",
       "    <tr>\n",
       "      <th>16</th>\n",
       "      <td>0</td>\n",
       "      <td>-1719.934226</td>\n",
       "      <td>35</td>\n",
       "      <td>среднее</td>\n",
       "      <td>1</td>\n",
       "      <td>женат / замужем</td>\n",
       "      <td>0</td>\n",
       "      <td>F</td>\n",
       "      <td>сотрудник</td>\n",
       "      <td>0</td>\n",
       "      <td>289202.704229</td>\n",
       "      <td>недвижимость</td>\n",
       "    </tr>\n",
       "    <tr>\n",
       "      <th>17</th>\n",
       "      <td>0</td>\n",
       "      <td>-2369.999720</td>\n",
       "      <td>33</td>\n",
       "      <td>высшее</td>\n",
       "      <td>0</td>\n",
       "      <td>гражданский брак</td>\n",
       "      <td>1</td>\n",
       "      <td>M</td>\n",
       "      <td>сотрудник</td>\n",
       "      <td>0</td>\n",
       "      <td>90410.586745</td>\n",
       "      <td>строительство недвижимости</td>\n",
       "    </tr>\n",
       "    <tr>\n",
       "      <th>18</th>\n",
       "      <td>0</td>\n",
       "      <td>400281.136913</td>\n",
       "      <td>53</td>\n",
       "      <td>среднее</td>\n",
       "      <td>1</td>\n",
       "      <td>вдовец / вдова</td>\n",
       "      <td>2</td>\n",
       "      <td>F</td>\n",
       "      <td>пенсионер</td>\n",
       "      <td>0</td>\n",
       "      <td>56823.777243</td>\n",
       "      <td>на покупку подержанного автомобиля</td>\n",
       "    </tr>\n",
       "    <tr>\n",
       "      <th>19</th>\n",
       "      <td>0</td>\n",
       "      <td>-10038.818549</td>\n",
       "      <td>48</td>\n",
       "      <td>СРЕДНЕЕ</td>\n",
       "      <td>1</td>\n",
       "      <td>в разводе</td>\n",
       "      <td>3</td>\n",
       "      <td>F</td>\n",
       "      <td>сотрудник</td>\n",
       "      <td>0</td>\n",
       "      <td>242831.107982</td>\n",
       "      <td>на покупку своего автомобиля</td>\n",
       "    </tr>\n",
       "  </tbody>\n",
       "</table>\n",
       "</div>"
      ],
      "text/plain": [
       "    children  days_employed  dob_years            education  education_id  \\\n",
       "0          1   -8437.673028         42               высшее             0   \n",
       "1          1   -4024.803754         36              среднее             1   \n",
       "2          0   -5623.422610         33              Среднее             1   \n",
       "3          3   -4124.747207         32              среднее             1   \n",
       "4          0  340266.072047         53              среднее             1   \n",
       "5          0    -926.185831         27               высшее             0   \n",
       "6          0   -2879.202052         43               высшее             0   \n",
       "7          0    -152.779569         50              СРЕДНЕЕ             1   \n",
       "8          2   -6929.865299         35               ВЫСШЕЕ             0   \n",
       "9          0   -2188.756445         41              среднее             1   \n",
       "10         2   -4171.483647         36               высшее             0   \n",
       "11         0    -792.701887         40              среднее             1   \n",
       "12         0            NaN         65              среднее             1   \n",
       "13         0   -1846.641941         54  неоконченное высшее             2   \n",
       "14         0   -1844.956182         56               высшее             0   \n",
       "15         1    -972.364419         26              среднее             1   \n",
       "16         0   -1719.934226         35              среднее             1   \n",
       "17         0   -2369.999720         33               высшее             0   \n",
       "18         0  400281.136913         53              среднее             1   \n",
       "19         0  -10038.818549         48              СРЕДНЕЕ             1   \n",
       "\n",
       "       family_status  family_status_id gender income_type  debt  \\\n",
       "0    женат / замужем                 0      F   сотрудник     0   \n",
       "1    женат / замужем                 0      F   сотрудник     0   \n",
       "2    женат / замужем                 0      M   сотрудник     0   \n",
       "3    женат / замужем                 0      M   сотрудник     0   \n",
       "4   гражданский брак                 1      F   пенсионер     0   \n",
       "5   гражданский брак                 1      M   компаньон     0   \n",
       "6    женат / замужем                 0      F   компаньон     0   \n",
       "7    женат / замужем                 0      M   сотрудник     0   \n",
       "8   гражданский брак                 1      F   сотрудник     0   \n",
       "9    женат / замужем                 0      M   сотрудник     0   \n",
       "10   женат / замужем                 0      M   компаньон     0   \n",
       "11   женат / замужем                 0      F   сотрудник     0   \n",
       "12  гражданский брак                 1      M   пенсионер     0   \n",
       "13   женат / замужем                 0      F   сотрудник     0   \n",
       "14  гражданский брак                 1      F   компаньон     1   \n",
       "15   женат / замужем                 0      F   сотрудник     0   \n",
       "16   женат / замужем                 0      F   сотрудник     0   \n",
       "17  гражданский брак                 1      M   сотрудник     0   \n",
       "18    вдовец / вдова                 2      F   пенсионер     0   \n",
       "19         в разводе                 3      F   сотрудник     0   \n",
       "\n",
       "     total_income                                 purpose  \n",
       "0   253875.639453                           покупка жилья  \n",
       "1   112080.014102                 приобретение автомобиля  \n",
       "2   145885.952297                           покупка жилья  \n",
       "3   267628.550329              дополнительное образование  \n",
       "4   158616.077870                         сыграть свадьбу  \n",
       "5   255763.565419                           покупка жилья  \n",
       "6   240525.971920                       операции с жильем  \n",
       "7   135823.934197                             образование  \n",
       "8    95856.832424                   на проведение свадьбы  \n",
       "9   144425.938277                 покупка жилья для семьи  \n",
       "10  113943.491460                    покупка недвижимости  \n",
       "11   77069.234271       покупка коммерческой недвижимости  \n",
       "12            NaN                         сыграть свадьбу  \n",
       "13  130458.228857                 приобретение автомобиля  \n",
       "14  165127.911772              покупка жилой недвижимости  \n",
       "15  116820.904450  строительство собственной недвижимости  \n",
       "16  289202.704229                            недвижимость  \n",
       "17   90410.586745              строительство недвижимости  \n",
       "18   56823.777243      на покупку подержанного автомобиля  \n",
       "19  242831.107982            на покупку своего автомобиля  "
      ]
     },
     "execution_count": 2,
     "metadata": {},
     "output_type": "execute_result"
    }
   ],
   "source": [
    "data.head(20)"
   ]
  },
  {
   "cell_type": "markdown",
   "id": "eacc8759",
   "metadata": {
    "deletable": false,
    "editable": false,
    "id": "1c12e233"
   },
   "source": [
    "**Задание 3. Выведите основную информацию о датафрейме с помощью метода `info()`.**"
   ]
  },
  {
   "cell_type": "code",
   "execution_count": 3,
   "id": "faefb501",
   "metadata": {
    "deletable": false,
    "id": "2b757bca",
    "outputId": "15376089-8dad-46c9-b520-c05248d43158"
   },
   "outputs": [
    {
     "name": "stdout",
     "output_type": "stream",
     "text": [
      "<class 'pandas.core.frame.DataFrame'>\n",
      "RangeIndex: 21525 entries, 0 to 21524\n",
      "Data columns (total 12 columns):\n",
      " #   Column            Non-Null Count  Dtype  \n",
      "---  ------            --------------  -----  \n",
      " 0   children          21525 non-null  int64  \n",
      " 1   days_employed     19351 non-null  float64\n",
      " 2   dob_years         21525 non-null  int64  \n",
      " 3   education         21525 non-null  object \n",
      " 4   education_id      21525 non-null  int64  \n",
      " 5   family_status     21525 non-null  object \n",
      " 6   family_status_id  21525 non-null  int64  \n",
      " 7   gender            21525 non-null  object \n",
      " 8   income_type       21525 non-null  object \n",
      " 9   debt              21525 non-null  int64  \n",
      " 10  total_income      19351 non-null  float64\n",
      " 11  purpose           21525 non-null  object \n",
      "dtypes: float64(2), int64(5), object(5)\n",
      "memory usage: 2.0+ MB\n"
     ]
    }
   ],
   "source": [
    "data.info()"
   ]
  },
  {
   "cell_type": "markdown",
   "id": "b53a1213",
   "metadata": {
    "deletable": false,
    "editable": false,
    "id": "333ec665"
   },
   "source": [
    "## Предобработка данных"
   ]
  },
  {
   "cell_type": "markdown",
   "id": "c05b9717",
   "metadata": {
    "deletable": false,
    "editable": false,
    "id": "02d92d53"
   },
   "source": [
    "### Удаление пропусков"
   ]
  },
  {
   "cell_type": "markdown",
   "id": "c2f6e7d3",
   "metadata": {
    "deletable": false,
    "editable": false,
    "id": "cd84967c"
   },
   "source": [
    "**Задание 4. Выведите количество пропущенных значений для каждого столбца. Используйте комбинацию двух методов.**"
   ]
  },
  {
   "cell_type": "code",
   "execution_count": 4,
   "id": "ff1cd532",
   "metadata": {
    "deletable": false,
    "id": "7f9b2309",
    "outputId": "81f4d817-781c-465c-ed15-91ce4446810d"
   },
   "outputs": [
    {
     "data": {
      "text/plain": [
       "children               0\n",
       "days_employed       2174\n",
       "dob_years              0\n",
       "education              0\n",
       "education_id           0\n",
       "family_status          0\n",
       "family_status_id       0\n",
       "gender                 0\n",
       "income_type            0\n",
       "debt                   0\n",
       "total_income        2174\n",
       "purpose                0\n",
       "dtype: int64"
      ]
     },
     "execution_count": 4,
     "metadata": {},
     "output_type": "execute_result"
    }
   ],
   "source": [
    "data.isna().sum()"
   ]
  },
  {
   "cell_type": "markdown",
   "id": "d8ddd392",
   "metadata": {
    "deletable": false,
    "editable": false,
    "id": "db86e27b"
   },
   "source": [
    "**Задание 5. В двух столбцах есть пропущенные значения. Один из них — `days_employed`. Пропуски в этом столбце вы обработаете на следующем этапе. Другой столбец с пропущенными значениями — `total_income` — хранит данные о доходах. На сумму дохода сильнее всего влияет тип занятости, поэтому заполнить пропуски в этом столбце нужно медианным значением по каждому типу из столбца `income_type`. Например, у человека с типом занятости `сотрудник` пропуск в столбце `total_income` должен быть заполнен медианным доходом среди всех записей с тем же типом.**"
   ]
  },
  {
   "cell_type": "code",
   "execution_count": 5,
   "id": "aa835708",
   "metadata": {
    "deletable": false,
    "id": "42006a93"
   },
   "outputs": [],
   "source": [
    "for t in data['income_type'].unique():\n",
    "    data.loc[(data['income_type'] == t) & (data['total_income'].isna()), 'total_income'] = \\\n",
    "    data.loc[(data['income_type'] == t), 'total_income'].median()"
   ]
  },
  {
   "cell_type": "markdown",
   "id": "67f46ebf",
   "metadata": {
    "deletable": false,
    "editable": false,
    "id": "89da5ece"
   },
   "source": [
    "### Обработка аномальных значений"
   ]
  },
  {
   "cell_type": "markdown",
   "id": "40c73a92",
   "metadata": {
    "deletable": false,
    "editable": false,
    "id": "57964554"
   },
   "source": [
    "**Задание 6. В данных могут встречаться артефакты (аномалии) — значения, которые не отражают действительность и появились по какой-то ошибке. таким артефактом будет отрицательное количество дней трудового стажа в столбце `days_employed`. Для реальных данных это нормально. Обработайте значения в этом столбце: замените все отрицательные значения положительными с помощью метода `abs()`.**"
   ]
  },
  {
   "cell_type": "code",
   "execution_count": 6,
   "id": "3fa0a510",
   "metadata": {
    "deletable": false,
    "id": "f6f055bf"
   },
   "outputs": [],
   "source": [
    "data['days_employed'] = data['days_employed'].abs()"
   ]
  },
  {
   "cell_type": "markdown",
   "id": "9f5cf38f",
   "metadata": {
    "deletable": false,
    "editable": false,
    "id": "6107dd2f"
   },
   "source": [
    "**Задание 7. Для каждого типа занятости выведите медианное значение трудового стажа `days_employed` в днях.**"
   ]
  },
  {
   "cell_type": "code",
   "execution_count": 7,
   "id": "d5565a6c",
   "metadata": {
    "deletable": false,
    "id": "85a5faf6",
    "outputId": "801ef80e-522b-4668-f34e-565af7432bcf"
   },
   "outputs": [
    {
     "data": {
      "text/plain": [
       "income_type\n",
       "безработный        366413.652744\n",
       "в декрете            3296.759962\n",
       "госслужащий          2689.368353\n",
       "компаньон            1547.382223\n",
       "пенсионер          365213.306266\n",
       "предприниматель       520.848083\n",
       "сотрудник            1574.202821\n",
       "студент               578.751554\n",
       "Name: days_employed, dtype: float64"
      ]
     },
     "execution_count": 7,
     "metadata": {},
     "output_type": "execute_result"
    }
   ],
   "source": [
    "data.groupby('income_type')['days_employed'].agg('median')"
   ]
  },
  {
   "cell_type": "markdown",
   "id": "80c690a6",
   "metadata": {
    "deletable": false,
    "editable": false,
    "id": "38d1a030"
   },
   "source": [
    "У двух типов (безработные и пенсионеры) получатся аномально большие значения. Исправить такие значения сложно, поэтому оставьте их как есть. Тем более этот столбец не понадобится вам для исследования."
   ]
  },
  {
   "cell_type": "markdown",
   "id": "3458bf9e",
   "metadata": {
    "deletable": false,
    "editable": false,
    "id": "d8a9f147"
   },
   "source": [
    "**Задание 8. Выведите перечень уникальных значений столбца `children`.**"
   ]
  },
  {
   "cell_type": "code",
   "execution_count": 8,
   "id": "e4884391",
   "metadata": {
    "deletable": false,
    "id": "ef5056eb",
    "outputId": "6975b15c-7f95-4697-d16d-a0c79b657b03"
   },
   "outputs": [
    {
     "data": {
      "text/plain": [
       "array([ 1,  0,  3,  2, -1,  4, 20,  5])"
      ]
     },
     "execution_count": 8,
     "metadata": {},
     "output_type": "execute_result"
    }
   ],
   "source": [
    "data['children'].unique()"
   ]
  },
  {
   "cell_type": "markdown",
   "id": "2cb1763f",
   "metadata": {
    "deletable": false,
    "editable": false,
    "id": "40b9ebf2"
   },
   "source": [
    "**Задание 9. В столбце `children` есть два аномальных значения. Удалите строки, в которых встречаются такие аномальные значения из датафрейма `data`.**"
   ]
  },
  {
   "cell_type": "code",
   "execution_count": 9,
   "id": "e517b2db",
   "metadata": {
    "deletable": false,
    "id": "3ff9801d"
   },
   "outputs": [],
   "source": [
    "data = data[(data['children'] != -1) & (data['children'] != 20)]"
   ]
  },
  {
   "cell_type": "markdown",
   "id": "94f2d4c2",
   "metadata": {
    "deletable": false,
    "editable": false,
    "id": "bbc4d0ce"
   },
   "source": [
    "**Задание 10. Ещё раз выведите перечень уникальных значений столбца `children`, чтобы убедиться, что артефакты удалены.**"
   ]
  },
  {
   "cell_type": "code",
   "execution_count": 10,
   "id": "14f5972c",
   "metadata": {
    "deletable": false,
    "id": "ad4fa8b7",
    "outputId": "b2097101-d49d-44d9-901b-32a65c9463d1"
   },
   "outputs": [
    {
     "data": {
      "text/plain": [
       "array([1, 0, 3, 2, 4, 5])"
      ]
     },
     "execution_count": 10,
     "metadata": {},
     "output_type": "execute_result"
    }
   ],
   "source": [
    "data['children'].unique()"
   ]
  },
  {
   "cell_type": "markdown",
   "id": "4080a192",
   "metadata": {
    "deletable": false,
    "editable": false,
    "id": "75440b63"
   },
   "source": [
    "### Удаление пропусков (продолжение)"
   ]
  },
  {
   "cell_type": "markdown",
   "id": "844bfd64",
   "metadata": {
    "deletable": false,
    "editable": false,
    "id": "f4ea573f"
   },
   "source": [
    "**Задание 11. Заполните пропуски в столбце `days_employed` медианными значениями по каждого типа занятости `income_type`.**"
   ]
  },
  {
   "cell_type": "code",
   "execution_count": 11,
   "id": "7ca22b44",
   "metadata": {
    "deletable": false,
    "id": "af6b1a7e"
   },
   "outputs": [],
   "source": [
    "for t in data['income_type'].unique():\n",
    "    data.loc[(data['income_type'] == t) & (data['days_employed'].isna()), 'days_employed'] = \\\n",
    "    data.loc[(data['income_type'] == t), 'days_employed'].median()"
   ]
  },
  {
   "cell_type": "markdown",
   "id": "540b89d7",
   "metadata": {
    "deletable": false,
    "editable": false,
    "id": "2753f40d"
   },
   "source": [
    "**Задание 12. Убедитесь, что все пропуски заполнены. Проверьте себя и ещё раз выведите количество пропущенных значений для каждого столбца с помощью двух методов.**"
   ]
  },
  {
   "cell_type": "code",
   "execution_count": 12,
   "id": "757d835f",
   "metadata": {
    "deletable": false,
    "id": "55f78bc2",
    "outputId": "8da1e4e1-358e-4e87-98c9-f261bce0a7b2"
   },
   "outputs": [
    {
     "data": {
      "text/plain": [
       "children            0\n",
       "days_employed       0\n",
       "dob_years           0\n",
       "education           0\n",
       "education_id        0\n",
       "family_status       0\n",
       "family_status_id    0\n",
       "gender              0\n",
       "income_type         0\n",
       "debt                0\n",
       "total_income        0\n",
       "purpose             0\n",
       "dtype: int64"
      ]
     },
     "execution_count": 12,
     "metadata": {},
     "output_type": "execute_result"
    }
   ],
   "source": [
    "data.isna().sum()"
   ]
  },
  {
   "cell_type": "markdown",
   "id": "92a69921",
   "metadata": {
    "deletable": false,
    "editable": false,
    "id": "ddc81e43"
   },
   "source": [
    "### Изменение типов данных"
   ]
  },
  {
   "cell_type": "markdown",
   "id": "170c96a5",
   "metadata": {
    "deletable": false,
    "editable": false,
    "id": "42d19d24"
   },
   "source": [
    "**Задание 13. Замените вещественный тип данных в столбце `total_income` на целочисленный с помощью метода `astype()`.**"
   ]
  },
  {
   "cell_type": "code",
   "execution_count": 13,
   "id": "197be2f6",
   "metadata": {
    "deletable": false,
    "id": "920b65ad"
   },
   "outputs": [],
   "source": [
    "data['total_income'] = data['total_income'].astype(int)"
   ]
  },
  {
   "cell_type": "markdown",
   "id": "c4a14d41",
   "metadata": {
    "deletable": false,
    "editable": false,
    "id": "80c420ba"
   },
   "source": [
    "### Обработка дубликатов"
   ]
  },
  {
   "cell_type": "markdown",
   "id": "444320f0",
   "metadata": {
    "deletable": false,
    "editable": false
   },
   "source": [
    "**Задание 14. Обработайте неявные дубликаты в столбце `education`. В этом столбце есть одни и те же значения, но записанные по-разному: с использованием заглавных и строчных букв. Приведите их к нижнему регистру. Проверьте остальные столбцы.**"
   ]
  },
  {
   "cell_type": "code",
   "execution_count": 14,
   "id": "0eff0fc8",
   "metadata": {
    "deletable": false
   },
   "outputs": [],
   "source": [
    "data['education'] = data['education'].str.lower()"
   ]
  },
  {
   "cell_type": "markdown",
   "id": "a3ad73c1",
   "metadata": {
    "deletable": false,
    "editable": false,
    "id": "dc587695"
   },
   "source": [
    "**Задание 15. Выведите на экран количество строк-дубликатов в данных. Если такие строки присутствуют, удалите их.**"
   ]
  },
  {
   "cell_type": "code",
   "execution_count": 15,
   "id": "3e757bee",
   "metadata": {
    "deletable": false,
    "id": "3ee445e4",
    "outputId": "9684deba-1934-42d1-99e1-cda61740f822"
   },
   "outputs": [
    {
     "data": {
      "text/plain": [
       "71"
      ]
     },
     "execution_count": 15,
     "metadata": {},
     "output_type": "execute_result"
    }
   ],
   "source": [
    "data.duplicated().sum()"
   ]
  },
  {
   "cell_type": "code",
   "execution_count": 16,
   "id": "62fb907b",
   "metadata": {
    "deletable": false,
    "id": "8575fe05"
   },
   "outputs": [],
   "source": [
    "data = data.drop_duplicates()"
   ]
  },
  {
   "cell_type": "markdown",
   "id": "275eb905",
   "metadata": {
    "deletable": false,
    "editable": false,
    "id": "9904cf55"
   },
   "source": [
    "### Категоризация данных"
   ]
  },
  {
   "cell_type": "markdown",
   "id": "c9419313",
   "metadata": {
    "deletable": false,
    "editable": false,
    "id": "72fcc8a2"
   },
   "source": [
    "**Задание 16. На основании диапазонов, указанных ниже, создайте в датафрейме `data` столбец `total_income_category` с категориями:**\n",
    "\n",
    "- 0–30000 — `'E'`;\n",
    "- 30001–50000 — `'D'`;\n",
    "- 50001–200000 — `'C'`;\n",
    "- 200001–1000000 — `'B'`;\n",
    "- 1000001 и выше — `'A'`.\n",
    "\n",
    "\n",
    "**Например, кредитополучателю с доходом 25000 нужно назначить категорию `'E'`, а клиенту, получающему 235000, — `'B'`. Используйте собственную функцию с именем `categorize_income()` и метод `apply()`.**"
   ]
  },
  {
   "cell_type": "code",
   "execution_count": 17,
   "id": "8137c1e3",
   "metadata": {
    "deletable": false,
    "id": "e1771346"
   },
   "outputs": [],
   "source": [
    "def categorize_income(income):\n",
    "    try:\n",
    "        if 0 <= income <= 30000:\n",
    "            return 'E'\n",
    "        elif 30001 <= income <= 50000:\n",
    "            return 'D'\n",
    "        elif 50001 <= income <= 200000:\n",
    "            return 'C'\n",
    "        elif 200001 <= income <= 1000000:\n",
    "            return 'B'\n",
    "        elif income >= 1000001:\n",
    "            return 'A'\n",
    "    except:\n",
    "        pass"
   ]
  },
  {
   "cell_type": "code",
   "execution_count": 18,
   "id": "2a67bea7",
   "metadata": {
    "deletable": false,
    "id": "d5f3586d"
   },
   "outputs": [],
   "source": [
    "data['total_income_category'] = data['total_income'].apply(categorize_income)"
   ]
  },
  {
   "cell_type": "markdown",
   "id": "956eb7ad",
   "metadata": {
    "deletable": false,
    "editable": false,
    "id": "dde49b5c"
   },
   "source": [
    "**Задание 17. Выведите на экран перечень уникальных целей взятия кредита из столбца `purpose`.**"
   ]
  },
  {
   "cell_type": "code",
   "execution_count": 19,
   "id": "c993c6aa",
   "metadata": {
    "deletable": false,
    "id": "f67ce9b3",
    "outputId": "673c12d9-7d7e-4ae0-9812-c622c89dd244"
   },
   "outputs": [
    {
     "data": {
      "text/plain": [
       "array(['покупка жилья', 'приобретение автомобиля',\n",
       "       'дополнительное образование', 'сыграть свадьбу',\n",
       "       'операции с жильем', 'образование', 'на проведение свадьбы',\n",
       "       'покупка жилья для семьи', 'покупка недвижимости',\n",
       "       'покупка коммерческой недвижимости', 'покупка жилой недвижимости',\n",
       "       'строительство собственной недвижимости', 'недвижимость',\n",
       "       'строительство недвижимости', 'на покупку подержанного автомобиля',\n",
       "       'на покупку своего автомобиля',\n",
       "       'операции с коммерческой недвижимостью',\n",
       "       'строительство жилой недвижимости', 'жилье',\n",
       "       'операции со своей недвижимостью', 'автомобили',\n",
       "       'заняться образованием', 'сделка с подержанным автомобилем',\n",
       "       'получение образования', 'автомобиль', 'свадьба',\n",
       "       'получение дополнительного образования', 'покупка своего жилья',\n",
       "       'операции с недвижимостью', 'получение высшего образования',\n",
       "       'свой автомобиль', 'сделка с автомобилем',\n",
       "       'профильное образование', 'высшее образование',\n",
       "       'покупка жилья для сдачи', 'на покупку автомобиля', 'ремонт жилью',\n",
       "       'заняться высшим образованием'], dtype=object)"
      ]
     },
     "execution_count": 19,
     "metadata": {},
     "output_type": "execute_result"
    }
   ],
   "source": [
    "data['purpose'].unique()"
   ]
  },
  {
   "cell_type": "markdown",
   "id": "73bb3b55",
   "metadata": {
    "deletable": false,
    "editable": false,
    "id": "85d0aef0"
   },
   "source": [
    "**Задание 18. Создайте функцию, которая на основании данных из столбца `purpose` сформирует новый столбец `purpose_category`, в который войдут следующие категории:**\n",
    "\n",
    "- `'операции с автомобилем'`,\n",
    "- `'операции с недвижимостью'`,\n",
    "- `'проведение свадьбы'`,\n",
    "- `'получение образования'`.\n",
    "\n",
    "**Например, если в столбце `purpose` находится подстрока `'на покупку автомобиля'`, то в столбце `purpose_category` должна появиться строка `'операции с автомобилем'`.**\n",
    "\n",
    "**Используйте собственную функцию с именем `categorize_purpose()` и метод `apply()`. Изучите данные в столбце `purpose` и определите, какие подстроки помогут вам правильно определить категорию.**"
   ]
  },
  {
   "cell_type": "code",
   "execution_count": 20,
   "id": "4844d304",
   "metadata": {
    "deletable": false,
    "id": "e149fab4"
   },
   "outputs": [],
   "source": [
    "def categorize_purpose(row):\n",
    "    try:\n",
    "        if 'автом' in row:\n",
    "            return 'операции с автомобилем'\n",
    "        elif 'жил' in row or 'недвиж' in row:\n",
    "            return 'операции с недвижимостью'\n",
    "        elif 'свад' in row:\n",
    "            return 'проведение свадьбы'\n",
    "        elif 'образов' in row:\n",
    "            return 'получение образования'\n",
    "    except:\n",
    "        return 'нет категории'"
   ]
  },
  {
   "cell_type": "code",
   "execution_count": 21,
   "id": "6202dedc",
   "metadata": {
    "deletable": false,
    "id": "bf36e69b"
   },
   "outputs": [],
   "source": [
    "data['purpose_category'] = data['purpose'].apply(categorize_purpose)"
   ]
  },
  {
   "cell_type": "markdown",
   "id": "ea7668af",
   "metadata": {
    "deletable": false,
    "editable": false,
    "id": "09b242bf"
   },
   "source": [
    "### Шаг 3. Исследуйте данные и ответьте на вопросы"
   ]
  },
  {
   "cell_type": "markdown",
   "id": "6c0da49d",
   "metadata": {
    "deletable": false,
    "editable": false,
    "id": "c5d66278"
   },
   "source": [
    "#### 3.1 Есть ли зависимость между количеством детей и возвратом кредита в срок?"
   ]
  },
  {
   "cell_type": "code",
   "execution_count": 22,
   "id": "05e23865",
   "metadata": {
    "deletable": false,
    "id": "2cacfc4a"
   },
   "outputs": [
    {
     "data": {
      "text/html": [
       "<div>\n",
       "<style scoped>\n",
       "    .dataframe tbody tr th:only-of-type {\n",
       "        vertical-align: middle;\n",
       "    }\n",
       "\n",
       "    .dataframe tbody tr th {\n",
       "        vertical-align: top;\n",
       "    }\n",
       "\n",
       "    .dataframe thead th {\n",
       "        text-align: right;\n",
       "    }\n",
       "</style>\n",
       "<table border=\"1\" class=\"dataframe\">\n",
       "  <thead>\n",
       "    <tr style=\"text-align: right;\">\n",
       "      <th></th>\n",
       "      <th>Всего кредитополучателей</th>\n",
       "      <th>Всего должников</th>\n",
       "      <th>Доля должников</th>\n",
       "    </tr>\n",
       "    <tr>\n",
       "      <th>children</th>\n",
       "      <th></th>\n",
       "      <th></th>\n",
       "      <th></th>\n",
       "    </tr>\n",
       "  </thead>\n",
       "  <tbody>\n",
       "    <tr>\n",
       "      <th>0</th>\n",
       "      <td>14091</td>\n",
       "      <td>1063</td>\n",
       "      <td>0.070146</td>\n",
       "    </tr>\n",
       "    <tr>\n",
       "      <th>1</th>\n",
       "      <td>4808</td>\n",
       "      <td>444</td>\n",
       "      <td>0.084539</td>\n",
       "    </tr>\n",
       "    <tr>\n",
       "      <th>2</th>\n",
       "      <td>2052</td>\n",
       "      <td>194</td>\n",
       "      <td>0.086376</td>\n",
       "    </tr>\n",
       "    <tr>\n",
       "      <th>3</th>\n",
       "      <td>330</td>\n",
       "      <td>27</td>\n",
       "      <td>0.075630</td>\n",
       "    </tr>\n",
       "    <tr>\n",
       "      <th>4</th>\n",
       "      <td>41</td>\n",
       "      <td>4</td>\n",
       "      <td>0.088889</td>\n",
       "    </tr>\n",
       "    <tr>\n",
       "      <th>5</th>\n",
       "      <td>9</td>\n",
       "      <td>0</td>\n",
       "      <td>0.000000</td>\n",
       "    </tr>\n",
       "  </tbody>\n",
       "</table>\n",
       "</div>"
      ],
      "text/plain": [
       "          Всего кредитополучателей  Всего должников  Доля должников\n",
       "children                                                           \n",
       "0                            14091             1063        0.070146\n",
       "1                             4808              444        0.084539\n",
       "2                             2052              194        0.086376\n",
       "3                              330               27        0.075630\n",
       "4                               41                4        0.088889\n",
       "5                                9                0        0.000000"
      ]
     },
     "execution_count": 22,
     "metadata": {},
     "output_type": "execute_result"
    }
   ],
   "source": [
    "debt_children = data.pivot_table(index='children', columns='debt', values='gender', aggfunc='count')\n",
    "\n",
    "debt_children.columns = ['Всего кредитополучателей', 'Всего должников']\n",
    "debt_children['Всего кредитополучателей'] = data.groupby('children')['debt'].count()\n",
    "debt_children['Всего должников'] = data.groupby('children')['debt'].sum()\n",
    "debt_children['Доля должников'] = debt_children['Всего должников'] / (debt_children['Всего должников'] + debt_children['Всего кредитополучателей'])\n",
    "\n",
    "debt_children.sort_values(by='children', ascending=True)"
   ]
  },
  {
   "cell_type": "markdown",
   "id": "253053b3",
   "metadata": {
    "deletable": false,
    "id": "3a6b99ec"
   },
   "source": [
    "**Вывод:** Наличие детей влияет на платежеспособность заёмщика. Наличие детей увеличивает шанс на просрочивания оплаты по кредиту, так как имеются дополнительные расходы."
   ]
  },
  {
   "cell_type": "code",
   "execution_count": 23,
   "id": "811af80b",
   "metadata": {},
   "outputs": [
    {
     "data": {
      "text/html": [
       "<style  type=\"text/css\" >\n",
       "#T_dc555_row0_col0,#T_dc555_row0_col1,#T_dc555_row4_col2{\n",
       "            background-color:  #08306b;\n",
       "            color:  #f1f1f1;\n",
       "        }#T_dc555_row0_col2{\n",
       "            background-color:  #1c6bb0;\n",
       "            color:  #f1f1f1;\n",
       "        }#T_dc555_row1_col0{\n",
       "            background-color:  #a9cfe5;\n",
       "            color:  #000000;\n",
       "        }#T_dc555_row1_col1{\n",
       "            background-color:  #8dc1dd;\n",
       "            color:  #000000;\n",
       "        }#T_dc555_row1_col2{\n",
       "            background-color:  #083d7f;\n",
       "            color:  #f1f1f1;\n",
       "        }#T_dc555_row2_col0{\n",
       "            background-color:  #dae8f6;\n",
       "            color:  #000000;\n",
       "        }#T_dc555_row2_col1{\n",
       "            background-color:  #d3e4f3;\n",
       "            color:  #000000;\n",
       "        }#T_dc555_row2_col2{\n",
       "            background-color:  #083776;\n",
       "            color:  #f1f1f1;\n",
       "        }#T_dc555_row3_col0{\n",
       "            background-color:  #f3f8fe;\n",
       "            color:  #000000;\n",
       "        }#T_dc555_row3_col1{\n",
       "            background-color:  #f2f8fd;\n",
       "            color:  #000000;\n",
       "        }#T_dc555_row3_col2{\n",
       "            background-color:  #0f5aa3;\n",
       "            color:  #f1f1f1;\n",
       "        }#T_dc555_row4_col0,#T_dc555_row4_col1,#T_dc555_row5_col0,#T_dc555_row5_col1,#T_dc555_row5_col2{\n",
       "            background-color:  #f7fbff;\n",
       "            color:  #000000;\n",
       "        }</style><table id=\"T_dc555_\" ><thead>    <tr>        <th class=\"blank level0\" ></th>        <th class=\"col_heading level0 col0\" >Всего кредитополучателей</th>        <th class=\"col_heading level0 col1\" >Всего должников</th>        <th class=\"col_heading level0 col2\" >Доля должников</th>    </tr>    <tr>        <th class=\"index_name level0\" >children</th>        <th class=\"blank\" ></th>        <th class=\"blank\" ></th>        <th class=\"blank\" ></th>    </tr></thead><tbody>\n",
       "                <tr>\n",
       "                        <th id=\"T_dc555_level0_row0\" class=\"row_heading level0 row0\" >0</th>\n",
       "                        <td id=\"T_dc555_row0_col0\" class=\"data row0 col0\" >14091.000</td>\n",
       "                        <td id=\"T_dc555_row0_col1\" class=\"data row0 col1\" >1063.000</td>\n",
       "                        <td id=\"T_dc555_row0_col2\" class=\"data row0 col2\" >0.075</td>\n",
       "            </tr>\n",
       "            <tr>\n",
       "                        <th id=\"T_dc555_level0_row1\" class=\"row_heading level0 row1\" >1</th>\n",
       "                        <td id=\"T_dc555_row1_col0\" class=\"data row1 col0\" >4808.000</td>\n",
       "                        <td id=\"T_dc555_row1_col1\" class=\"data row1 col1\" >444.000</td>\n",
       "                        <td id=\"T_dc555_row1_col2\" class=\"data row1 col2\" >0.092</td>\n",
       "            </tr>\n",
       "            <tr>\n",
       "                        <th id=\"T_dc555_level0_row2\" class=\"row_heading level0 row2\" >2</th>\n",
       "                        <td id=\"T_dc555_row2_col0\" class=\"data row2 col0\" >2052.000</td>\n",
       "                        <td id=\"T_dc555_row2_col1\" class=\"data row2 col1\" >194.000</td>\n",
       "                        <td id=\"T_dc555_row2_col2\" class=\"data row2 col2\" >0.095</td>\n",
       "            </tr>\n",
       "            <tr>\n",
       "                        <th id=\"T_dc555_level0_row3\" class=\"row_heading level0 row3\" >3</th>\n",
       "                        <td id=\"T_dc555_row3_col0\" class=\"data row3 col0\" >330.000</td>\n",
       "                        <td id=\"T_dc555_row3_col1\" class=\"data row3 col1\" >27.000</td>\n",
       "                        <td id=\"T_dc555_row3_col2\" class=\"data row3 col2\" >0.082</td>\n",
       "            </tr>\n",
       "            <tr>\n",
       "                        <th id=\"T_dc555_level0_row4\" class=\"row_heading level0 row4\" >4</th>\n",
       "                        <td id=\"T_dc555_row4_col0\" class=\"data row4 col0\" >41.000</td>\n",
       "                        <td id=\"T_dc555_row4_col1\" class=\"data row4 col1\" >4.000</td>\n",
       "                        <td id=\"T_dc555_row4_col2\" class=\"data row4 col2\" >0.098</td>\n",
       "            </tr>\n",
       "            <tr>\n",
       "                        <th id=\"T_dc555_level0_row5\" class=\"row_heading level0 row5\" >5</th>\n",
       "                        <td id=\"T_dc555_row5_col0\" class=\"data row5 col0\" >9.000</td>\n",
       "                        <td id=\"T_dc555_row5_col1\" class=\"data row5 col1\" >0.000</td>\n",
       "                        <td id=\"T_dc555_row5_col2\" class=\"data row5 col2\" >0.000</td>\n",
       "            </tr>\n",
       "    </tbody></table>"
      ],
      "text/plain": [
       "<pandas.io.formats.style.Styler at 0x7f5d4d80d580>"
      ]
     },
     "metadata": {},
     "output_type": "display_data"
    }
   ],
   "source": [
    "# Комментарий ревьюера 3\n",
    "# Создаем копию датасета, что бы не работать с исходным\n",
    "temp = data.copy()\n",
    "# Напишем функцию, так как все задачи аналогичны\n",
    "def que(category):\n",
    "    data_temp = temp.pivot_table(index=category, values='debt', aggfunc=['count', 'sum', 'mean'])\n",
    "    data_temp.columns = ['Всего кредитополучателей', 'Всего должников', 'Доля должников']\n",
    "    # Оформим таблицу цветным градиентом, но можно ее вывести и просто display(data_temp)\n",
    "    display(data_temp.style.format(\"{:.3f}\").background_gradient(cmap='Blues', axis=0))\n",
    "    \n",
    "que('children')"
   ]
  },
  {
   "cell_type": "markdown",
   "id": "3a47aa50",
   "metadata": {
    "deletable": false,
    "editable": false,
    "id": "97be82ca"
   },
   "source": [
    "#### 3.2 Есть ли зависимость между семейным положением и возвратом кредита в срок?"
   ]
  },
  {
   "cell_type": "code",
   "execution_count": 24,
   "id": "5e829403",
   "metadata": {
    "deletable": false,
    "id": "dc3f7ee8"
   },
   "outputs": [
    {
     "data": {
      "text/html": [
       "<div>\n",
       "<style scoped>\n",
       "    .dataframe tbody tr th:only-of-type {\n",
       "        vertical-align: middle;\n",
       "    }\n",
       "\n",
       "    .dataframe tbody tr th {\n",
       "        vertical-align: top;\n",
       "    }\n",
       "\n",
       "    .dataframe thead th {\n",
       "        text-align: right;\n",
       "    }\n",
       "</style>\n",
       "<table border=\"1\" class=\"dataframe\">\n",
       "  <thead>\n",
       "    <tr style=\"text-align: right;\">\n",
       "      <th></th>\n",
       "      <th>Всего кредитополучателей</th>\n",
       "      <th>Всего должников</th>\n",
       "      <th>Доля должников</th>\n",
       "    </tr>\n",
       "    <tr>\n",
       "      <th>family_status</th>\n",
       "      <th></th>\n",
       "      <th></th>\n",
       "      <th></th>\n",
       "    </tr>\n",
       "  </thead>\n",
       "  <tbody>\n",
       "    <tr>\n",
       "      <th>Не женат / не замужем</th>\n",
       "      <td>2523</td>\n",
       "      <td>273</td>\n",
       "      <td>0.097639</td>\n",
       "    </tr>\n",
       "    <tr>\n",
       "      <th>гражданский брак</th>\n",
       "      <td>3749</td>\n",
       "      <td>385</td>\n",
       "      <td>0.093130</td>\n",
       "    </tr>\n",
       "    <tr>\n",
       "      <th>женат / замужем</th>\n",
       "      <td>11334</td>\n",
       "      <td>927</td>\n",
       "      <td>0.075606</td>\n",
       "    </tr>\n",
       "    <tr>\n",
       "      <th>в разводе</th>\n",
       "      <td>1105</td>\n",
       "      <td>84</td>\n",
       "      <td>0.070648</td>\n",
       "    </tr>\n",
       "    <tr>\n",
       "      <th>вдовец / вдова</th>\n",
       "      <td>888</td>\n",
       "      <td>63</td>\n",
       "      <td>0.066246</td>\n",
       "    </tr>\n",
       "  </tbody>\n",
       "</table>\n",
       "</div>"
      ],
      "text/plain": [
       "                       Всего кредитополучателей  Всего должников  \\\n",
       "family_status                                                      \n",
       "Не женат / не замужем                      2523              273   \n",
       "гражданский брак                           3749              385   \n",
       "женат / замужем                           11334              927   \n",
       "в разводе                                  1105               84   \n",
       "вдовец / вдова                              888               63   \n",
       "\n",
       "                       Доля должников  \n",
       "family_status                          \n",
       "Не женат / не замужем        0.097639  \n",
       "гражданский брак             0.093130  \n",
       "женат / замужем              0.075606  \n",
       "в разводе                    0.070648  \n",
       "вдовец / вдова               0.066246  "
      ]
     },
     "execution_count": 24,
     "metadata": {},
     "output_type": "execute_result"
    }
   ],
   "source": [
    "debt_due_to_family_status = data.pivot_table(index='family_status', columns='debt', values='gender', aggfunc='count')\n",
    "debt_due_to_family_status.columns = ['Всего кредитополучателей', 'Всего должников']\n",
    "debt_due_to_family_status['Доля должников'] = debt_due_to_family_status['Всего должников'] / (debt_due_to_family_status['Всего должников'] + debt_due_to_family_status['Всего кредитополучателей'])\n",
    "\n",
    "debt_due_to_family_status.sort_values(by='Доля должников', ascending=False)"
   ]
  },
  {
   "cell_type": "markdown",
   "id": "6cdd5d9b",
   "metadata": {
    "deletable": false,
    "id": "1cef7837"
   },
   "source": [
    "**Вывод:** Не женатые / не замужние люди имеют риск стать должниками больше. Возможная причина: Появление сложности с дисциплиной вовремя оплачивать задолжности из-за отсутвия брачной отвественнсти."
   ]
  },
  {
   "cell_type": "markdown",
   "id": "4812f57f",
   "metadata": {
    "deletable": false,
    "editable": false,
    "id": "1e8b2fca"
   },
   "source": [
    "#### 3.3 Есть ли зависимость между уровнем дохода и возвратом кредита в срок?"
   ]
  },
  {
   "cell_type": "code",
   "execution_count": 25,
   "id": "809c8d3c",
   "metadata": {
    "deletable": false,
    "id": "cd7e3720"
   },
   "outputs": [
    {
     "data": {
      "text/html": [
       "<div>\n",
       "<style scoped>\n",
       "    .dataframe tbody tr th:only-of-type {\n",
       "        vertical-align: middle;\n",
       "    }\n",
       "\n",
       "    .dataframe tbody tr th {\n",
       "        vertical-align: top;\n",
       "    }\n",
       "\n",
       "    .dataframe thead th {\n",
       "        text-align: right;\n",
       "    }\n",
       "</style>\n",
       "<table border=\"1\" class=\"dataframe\">\n",
       "  <thead>\n",
       "    <tr style=\"text-align: right;\">\n",
       "      <th></th>\n",
       "      <th>Всего кредитополучателей</th>\n",
       "      <th>Всего должников</th>\n",
       "      <th>Доля должников</th>\n",
       "    </tr>\n",
       "    <tr>\n",
       "      <th>total_income_category</th>\n",
       "      <th></th>\n",
       "      <th></th>\n",
       "      <th></th>\n",
       "    </tr>\n",
       "  </thead>\n",
       "  <tbody>\n",
       "    <tr>\n",
       "      <th>E</th>\n",
       "      <td>20</td>\n",
       "      <td>2</td>\n",
       "      <td>0.090909</td>\n",
       "    </tr>\n",
       "    <tr>\n",
       "      <th>C</th>\n",
       "      <td>14568</td>\n",
       "      <td>1353</td>\n",
       "      <td>0.084982</td>\n",
       "    </tr>\n",
       "    <tr>\n",
       "      <th>A</th>\n",
       "      <td>23</td>\n",
       "      <td>2</td>\n",
       "      <td>0.080000</td>\n",
       "    </tr>\n",
       "    <tr>\n",
       "      <th>B</th>\n",
       "      <td>4660</td>\n",
       "      <td>354</td>\n",
       "      <td>0.070602</td>\n",
       "    </tr>\n",
       "    <tr>\n",
       "      <th>D</th>\n",
       "      <td>328</td>\n",
       "      <td>21</td>\n",
       "      <td>0.060172</td>\n",
       "    </tr>\n",
       "  </tbody>\n",
       "</table>\n",
       "</div>"
      ],
      "text/plain": [
       "                       Всего кредитополучателей  Всего должников  \\\n",
       "total_income_category                                              \n",
       "E                                            20                2   \n",
       "C                                         14568             1353   \n",
       "A                                            23                2   \n",
       "B                                          4660              354   \n",
       "D                                           328               21   \n",
       "\n",
       "                       Доля должников  \n",
       "total_income_category                  \n",
       "E                            0.090909  \n",
       "C                            0.084982  \n",
       "A                            0.080000  \n",
       "B                            0.070602  \n",
       "D                            0.060172  "
      ]
     },
     "execution_count": 25,
     "metadata": {},
     "output_type": "execute_result"
    }
   ],
   "source": [
    "debt_total_income = data.pivot_table(index='total_income_category', columns='debt', values='gender', aggfunc='count')\n",
    "# Должники\n",
    "debt_total_income.columns = ['Всего кредитополучателей', 'Всего должников']\n",
    "debt_total_income['Доля должников'] = debt_total_income['Всего должников'] / (debt_total_income['Всего должников'] + debt_total_income['Всего кредитополучателей'])\n",
    "# Сортируем по столбцу доля лолжников по убыванию\n",
    "debt_total_income.sort_values(by='Доля должников', ascending=False)\n"
   ]
  },
  {
   "cell_type": "markdown",
   "id": "cdbc0701",
   "metadata": {
    "deletable": false,
    "id": "e8593def"
   },
   "source": [
    "**Вывод:** Более подвержены риску стать должниками заёмщики из категории E и C."
   ]
  },
  {
   "cell_type": "markdown",
   "id": "939ba17a",
   "metadata": {
    "deletable": false,
    "editable": false,
    "id": "99ecbd1f"
   },
   "source": [
    "#### 3.4 Как разные цели кредита влияют на его возврат в срок?"
   ]
  },
  {
   "cell_type": "code",
   "execution_count": 26,
   "id": "c1898ad5",
   "metadata": {
    "deletable": false,
    "id": "2b687290"
   },
   "outputs": [
    {
     "data": {
      "text/html": [
       "<div>\n",
       "<style scoped>\n",
       "    .dataframe tbody tr th:only-of-type {\n",
       "        vertical-align: middle;\n",
       "    }\n",
       "\n",
       "    .dataframe tbody tr th {\n",
       "        vertical-align: top;\n",
       "    }\n",
       "\n",
       "    .dataframe thead th {\n",
       "        text-align: right;\n",
       "    }\n",
       "</style>\n",
       "<table border=\"1\" class=\"dataframe\">\n",
       "  <thead>\n",
       "    <tr style=\"text-align: right;\">\n",
       "      <th></th>\n",
       "      <th>Всего кредитополучателей</th>\n",
       "      <th>Всего должников</th>\n",
       "      <th>Доля должников</th>\n",
       "    </tr>\n",
       "    <tr>\n",
       "      <th>purpose_category</th>\n",
       "      <th></th>\n",
       "      <th></th>\n",
       "      <th></th>\n",
       "    </tr>\n",
       "  </thead>\n",
       "  <tbody>\n",
       "    <tr>\n",
       "      <th>операции с автомобилем</th>\n",
       "      <td>3879</td>\n",
       "      <td>400</td>\n",
       "      <td>0.093480</td>\n",
       "    </tr>\n",
       "    <tr>\n",
       "      <th>получение образования</th>\n",
       "      <td>3619</td>\n",
       "      <td>369</td>\n",
       "      <td>0.092528</td>\n",
       "    </tr>\n",
       "    <tr>\n",
       "      <th>проведение свадьбы</th>\n",
       "      <td>2130</td>\n",
       "      <td>183</td>\n",
       "      <td>0.079118</td>\n",
       "    </tr>\n",
       "    <tr>\n",
       "      <th>операции с недвижимостью</th>\n",
       "      <td>9971</td>\n",
       "      <td>780</td>\n",
       "      <td>0.072551</td>\n",
       "    </tr>\n",
       "  </tbody>\n",
       "</table>\n",
       "</div>"
      ],
      "text/plain": [
       "                          Всего кредитополучателей  Всего должников  \\\n",
       "purpose_category                                                      \n",
       "операции с автомобилем                        3879              400   \n",
       "получение образования                         3619              369   \n",
       "проведение свадьбы                            2130              183   \n",
       "операции с недвижимостью                      9971              780   \n",
       "\n",
       "                          Доля должников  \n",
       "purpose_category                          \n",
       "операции с автомобилем          0.093480  \n",
       "получение образования           0.092528  \n",
       "проведение свадьбы              0.079118  \n",
       "операции с недвижимостью        0.072551  "
      ]
     },
     "execution_count": 26,
     "metadata": {},
     "output_type": "execute_result"
    }
   ],
   "source": [
    "debt_purpose = data.pivot_table(index='purpose_category', columns='debt', values='gender', aggfunc='count')\n",
    "debt_purpose.columns = ['Всего кредитополучателей', 'Всего должников']\n",
    "debt_purpose['Доля должников'] = debt_purpose['Всего должников'] / (debt_purpose['Всего должников'] + debt_purpose['Всего кредитополучателей'])\n",
    "debt_purpose.sort_values(by='Доля должников', ascending=False)"
   ]
  },
  {
   "cell_type": "markdown",
   "id": "dc26dc02",
   "metadata": {
    "deletable": false,
    "id": "b4bb2ce6"
   },
   "source": [
    "**Вывод:** Заёмщики, которые проводят операции с недвижимостью и проводят свадьбы более своеврменно платят "
   ]
  },
  {
   "cell_type": "markdown",
   "id": "7cfa685a",
   "metadata": {
    "deletable": false,
    "editable": false,
    "id": "09c3ac4c"
   },
   "source": [
    "#### 3.5 Приведите возможные причины появления пропусков в исходных данных."
   ]
  },
  {
   "cell_type": "markdown",
   "id": "832e60f1",
   "metadata": {
    "deletable": false,
    "id": "9da2ceda"
   },
   "source": [
    "*Ответ:* Основными причинами, приводящими к появлению пропусков, являются: \n",
    "- невозможность их получения или обработки; \n",
    "- искажение или сокрытие информации; \n",
    "- всевозможные поломки технического оборудования; \n",
    "- природные явления; \n",
    "- экономические причины\n",
    "\n",
    "В результате на вход программ анализа собранных данных поступают неполные сведения."
   ]
  },
  {
   "cell_type": "markdown",
   "id": "23f931ab",
   "metadata": {
    "deletable": false,
    "editable": false,
    "id": "7b0487d6"
   },
   "source": [
    "#### 3.6 Объясните, почему заполнить пропуски медианным значением — лучшее решение для количественных переменных."
   ]
  },
  {
   "cell_type": "markdown",
   "id": "73687626",
   "metadata": {
    "deletable": false,
    "id": "7ecf2b8e"
   },
   "source": [
    "*Ответ:* Среднее значение некорректно характеризует данные, когда некоторые значения сильно выделяются среди большинства. Медиана устойчива к аномальным значениям в выборках."
   ]
  },
  {
   "cell_type": "markdown",
   "id": "f29af61d",
   "metadata": {
    "deletable": false,
    "editable": false,
    "id": "6db5255a"
   },
   "source": [
    "### Шаг 4: общий вывод."
   ]
  },
  {
   "cell_type": "markdown",
   "id": "f7c8fd9d",
   "metadata": {
    "deletable": false,
    "id": "bad65432"
   },
   "source": [
    "Вывод:\n",
    "Были обнаружены пропущенные данные в записях столбцов days_employed и total_income. Причиной появления пропусков мог послужить сбой системы при загрузке/выгрузке данных.\n",
    "Также в столбце days_employed обнаружены отрицательные и очень высокие значения. Причинами могли стать ошибки при заполнении данных, а также сбои при работе с базой данных.\n",
    "Данные в столбце total_income были заменены медианнными значениями групп с соответствующим уровнем образования клиентов.\n",
    "В поле children были выявлены и удалены аномальные значения (отрицательные и очень большие числа). Были заполнены пропуски в столбце days_employed медианными значениями каждого типа занятости income_type. Осуществлена проверка.\n",
    "Методом astype() заменили вещественный тип данных в столбце total_income на целочисленный. Далее были обработаны неявные дубликаты в столбце education. Регистр этого поля разнился, для приведения к единому стилю записи столбец приведен к нижнему регистру.\n",
    "Была создана функция categorize_income() для категоризации заёмщиков по доходам. После преобразования строковых данных была обнаружена 71 дублированная строка. Также была создана функция на основе совпадения по ключевым словам, которая на основании данных из столбца purpose сформировала новый столбец purpose_category, в котором были выделены следующие категории:\n",
    "\n",
    "-'операции с автомобилем',\n",
    "-'операции с недвижимостью',\n",
    "-'проведение свадьбы',\n",
    "-'получение образования'.\n",
    "\n",
    "Далее были проанализированы задолженности клиентов по кредитам в зависимости от количества детей, семейного положения, уровня дохода и цели кредита. После чего был сделан общий вывод:\n",
    "\n",
    "Семейный статус  заёмщика влияет на вероятность просрочивания оплаты кредита вовремя - люди, которые были в браке чаще плятят в срок чем те, кто не бывали в браке, разведенные и овдовевшие платят в срок чаще, чем люди в браке. Также чем больше у заёмщика детей, тем чаще он платит не в срок; люди, у которых детей нет реже просрачивают оплату. Наиболее надежными заемщиками являются люди, цели кредита которых - недвижимость или свадьба, которе имеют низкий или очень высокий уровнень дохода и имеют детей.\n",
    "\n",
    "Сильно явных групп людей с риском к задолжностям нет.\n"
   ]
  }
 ],
 "metadata": {
  "ExecuteTimeLog": [
   {
    "duration": 540,
    "start_time": "2023-07-24T13:36:31.081Z"
   },
   {
    "duration": 30,
    "start_time": "2023-07-24T13:36:33.432Z"
   },
   {
    "duration": 17,
    "start_time": "2023-07-24T13:36:37.976Z"
   },
   {
    "duration": 2,
    "start_time": "2023-07-24T14:48:22.276Z"
   },
   {
    "duration": 73,
    "start_time": "2023-07-24T14:51:11.786Z"
   },
   {
    "duration": 7,
    "start_time": "2023-07-24T14:51:31.378Z"
   },
   {
    "duration": 10,
    "start_time": "2023-07-24T14:51:35.657Z"
   },
   {
    "duration": 25,
    "start_time": "2023-07-24T14:51:49.277Z"
   },
   {
    "duration": 12,
    "start_time": "2023-07-24T14:54:33.192Z"
   },
   {
    "duration": 16,
    "start_time": "2023-07-24T14:54:52.343Z"
   },
   {
    "duration": 17,
    "start_time": "2023-07-24T14:54:54.393Z"
   },
   {
    "duration": 8,
    "start_time": "2023-07-24T14:55:01.627Z"
   },
   {
    "duration": 7,
    "start_time": "2023-07-24T14:55:04.811Z"
   },
   {
    "duration": 25,
    "start_time": "2023-07-24T14:55:08.549Z"
   },
   {
    "duration": 16,
    "start_time": "2023-07-24T14:55:18.171Z"
   },
   {
    "duration": 23,
    "start_time": "2023-07-24T14:55:44.208Z"
   },
   {
    "duration": 24,
    "start_time": "2023-07-24T14:56:03.554Z"
   },
   {
    "duration": 24,
    "start_time": "2023-07-24T14:56:36.480Z"
   },
   {
    "duration": 23,
    "start_time": "2023-07-24T14:57:01.192Z"
   },
   {
    "duration": 2,
    "start_time": "2023-07-24T15:05:20.915Z"
   },
   {
    "duration": 69,
    "start_time": "2023-07-24T15:06:02.725Z"
   },
   {
    "duration": 10,
    "start_time": "2023-07-24T15:06:08.242Z"
   },
   {
    "duration": 5,
    "start_time": "2023-07-24T15:06:33.023Z"
   },
   {
    "duration": 35,
    "start_time": "2023-07-24T15:23:04.916Z"
   },
   {
    "duration": 20,
    "start_time": "2023-07-24T23:16:08.354Z"
   },
   {
    "duration": 35,
    "start_time": "2023-07-24T23:16:25.571Z"
   },
   {
    "duration": 30,
    "start_time": "2023-07-24T23:16:36.287Z"
   },
   {
    "duration": 30,
    "start_time": "2023-07-24T23:21:18.779Z"
   },
   {
    "duration": 27,
    "start_time": "2023-07-24T23:21:32.257Z"
   },
   {
    "duration": 20,
    "start_time": "2023-07-24T23:21:35.922Z"
   },
   {
    "duration": 35,
    "start_time": "2023-07-24T23:21:47.592Z"
   },
   {
    "duration": 20,
    "start_time": "2023-07-24T23:21:57.967Z"
   },
   {
    "duration": 21,
    "start_time": "2023-07-24T23:22:00.900Z"
   },
   {
    "duration": 684,
    "start_time": "2023-07-24T23:35:52.429Z"
   },
   {
    "duration": 21,
    "start_time": "2023-07-24T23:35:53.115Z"
   },
   {
    "duration": 16,
    "start_time": "2023-07-24T23:35:53.138Z"
   },
   {
    "duration": 11,
    "start_time": "2023-07-24T23:35:53.155Z"
   },
   {
    "duration": 41,
    "start_time": "2023-07-24T23:35:53.176Z"
   },
   {
    "duration": 4,
    "start_time": "2023-07-24T23:35:53.219Z"
   },
   {
    "duration": 24,
    "start_time": "2023-07-24T23:35:53.225Z"
   },
   {
    "duration": 10,
    "start_time": "2023-07-24T23:35:53.251Z"
   },
   {
    "duration": 22,
    "start_time": "2023-07-24T23:35:53.263Z"
   },
   {
    "duration": 7,
    "start_time": "2023-07-24T23:35:53.288Z"
   },
   {
    "duration": 53,
    "start_time": "2023-07-24T23:35:53.297Z"
   },
   {
    "duration": 12,
    "start_time": "2023-07-24T23:35:53.351Z"
   },
   {
    "duration": 17,
    "start_time": "2023-07-24T23:35:53.365Z"
   },
   {
    "duration": 25,
    "start_time": "2023-07-24T23:35:53.386Z"
   },
   {
    "duration": 25,
    "start_time": "2023-07-24T23:35:53.413Z"
   },
   {
    "duration": 15,
    "start_time": "2023-07-24T23:35:53.440Z"
   },
   {
    "duration": 3,
    "start_time": "2023-07-24T23:35:53.457Z"
   },
   {
    "duration": 14,
    "start_time": "2023-07-24T23:35:53.461Z"
   },
   {
    "duration": 10,
    "start_time": "2023-07-24T23:35:53.477Z"
   },
   {
    "duration": 8,
    "start_time": "2023-07-24T23:35:53.489Z"
   },
   {
    "duration": 14,
    "start_time": "2023-07-24T23:35:53.499Z"
   },
   {
    "duration": 25,
    "start_time": "2023-07-24T23:35:53.514Z"
   },
   {
    "duration": 59,
    "start_time": "2023-07-24T23:35:53.541Z"
   },
   {
    "duration": 27,
    "start_time": "2023-07-24T23:35:53.601Z"
   },
   {
    "duration": 21,
    "start_time": "2023-07-24T23:35:53.629Z"
   },
   {
    "duration": 579,
    "start_time": "2023-07-25T11:08:01.562Z"
   },
   {
    "duration": 25,
    "start_time": "2023-07-25T11:08:02.144Z"
   },
   {
    "duration": 46,
    "start_time": "2023-07-25T11:08:02.171Z"
   },
   {
    "duration": 91,
    "start_time": "2023-07-25T11:08:02.219Z"
   },
   {
    "duration": 84,
    "start_time": "2023-07-25T11:08:02.314Z"
   },
   {
    "duration": 5,
    "start_time": "2023-07-25T11:08:02.400Z"
   },
   {
    "duration": 34,
    "start_time": "2023-07-25T11:08:02.406Z"
   },
   {
    "duration": 19,
    "start_time": "2023-07-25T11:08:02.442Z"
   },
   {
    "duration": 34,
    "start_time": "2023-07-25T11:08:02.463Z"
   },
   {
    "duration": 40,
    "start_time": "2023-07-25T11:08:02.499Z"
   },
   {
    "duration": 68,
    "start_time": "2023-07-25T11:08:02.541Z"
   },
   {
    "duration": 23,
    "start_time": "2023-07-25T11:08:02.612Z"
   },
   {
    "duration": 19,
    "start_time": "2023-07-25T11:08:02.637Z"
   },
   {
    "duration": 26,
    "start_time": "2023-07-25T11:08:02.660Z"
   },
   {
    "duration": 42,
    "start_time": "2023-07-25T11:08:02.689Z"
   },
   {
    "duration": 26,
    "start_time": "2023-07-25T11:08:02.733Z"
   },
   {
    "duration": 9,
    "start_time": "2023-07-25T11:08:02.762Z"
   },
   {
    "duration": 64,
    "start_time": "2023-07-25T11:08:02.773Z"
   },
   {
    "duration": 37,
    "start_time": "2023-07-25T11:08:02.839Z"
   },
   {
    "duration": 35,
    "start_time": "2023-07-25T11:08:02.878Z"
   },
   {
    "duration": 44,
    "start_time": "2023-07-25T11:08:02.915Z"
   },
   {
    "duration": 59,
    "start_time": "2023-07-25T11:08:02.961Z"
   },
   {
    "duration": 35,
    "start_time": "2023-07-25T11:08:03.022Z"
   },
   {
    "duration": 32,
    "start_time": "2023-07-25T11:08:03.059Z"
   },
   {
    "duration": 22,
    "start_time": "2023-07-25T11:08:03.094Z"
   },
   {
    "duration": 12,
    "start_time": "2023-07-26T10:52:11.270Z"
   },
   {
    "duration": 3,
    "start_time": "2023-07-26T10:52:32.746Z"
   },
   {
    "duration": 3,
    "start_time": "2023-07-26T10:52:35.147Z"
   },
   {
    "duration": 763,
    "start_time": "2023-07-26T10:52:40.214Z"
   },
   {
    "duration": 33,
    "start_time": "2023-07-26T10:52:55.724Z"
   },
   {
    "duration": 47,
    "start_time": "2023-07-26T10:52:59.902Z"
   },
   {
    "duration": 12,
    "start_time": "2023-07-26T10:53:11.293Z"
   },
   {
    "duration": 777,
    "start_time": "2023-07-26T10:55:41.218Z"
   },
   {
    "duration": 880,
    "start_time": "2023-07-26T10:55:49.338Z"
   },
   {
    "duration": 1218,
    "start_time": "2023-07-26T10:56:49.319Z"
   },
   {
    "duration": 22,
    "start_time": "2023-07-26T10:57:29.627Z"
   },
   {
    "duration": 148,
    "start_time": "2023-07-26T11:41:10.001Z"
   },
   {
    "duration": 168,
    "start_time": "2023-07-26T11:43:32.902Z"
   },
   {
    "duration": 178,
    "start_time": "2023-07-26T11:43:45.353Z"
   },
   {
    "duration": 171,
    "start_time": "2023-07-26T11:44:59.138Z"
   },
   {
    "duration": 38,
    "start_time": "2023-07-26T11:45:19.155Z"
   },
   {
    "duration": 29,
    "start_time": "2023-07-26T11:45:54.143Z"
   },
   {
    "duration": 25,
    "start_time": "2023-07-26T12:07:26.417Z"
   },
   {
    "duration": 22,
    "start_time": "2023-07-26T12:08:00.063Z"
   },
   {
    "duration": 42,
    "start_time": "2023-07-26T12:08:21.652Z"
   },
   {
    "duration": 29,
    "start_time": "2023-07-26T12:12:31.059Z"
   },
   {
    "duration": 26,
    "start_time": "2023-07-26T12:15:10.340Z"
   },
   {
    "duration": 23,
    "start_time": "2023-07-26T12:16:43.326Z"
   },
   {
    "duration": 27,
    "start_time": "2023-07-26T12:18:23.739Z"
   },
   {
    "duration": 35,
    "start_time": "2023-07-26T12:19:16.123Z"
   },
   {
    "duration": 22,
    "start_time": "2023-07-26T12:20:35.146Z"
   },
   {
    "duration": 550,
    "start_time": "2023-07-26T12:25:17.759Z"
   },
   {
    "duration": 39,
    "start_time": "2023-07-26T12:25:23.270Z"
   },
   {
    "duration": 16,
    "start_time": "2023-07-26T12:27:29.726Z"
   },
   {
    "duration": 17,
    "start_time": "2023-07-26T14:05:34.129Z"
   },
   {
    "duration": 55,
    "start_time": "2023-07-26T14:18:23.752Z"
   },
   {
    "duration": 23,
    "start_time": "2023-07-26T14:18:31.718Z"
   },
   {
    "duration": 21,
    "start_time": "2023-07-26T14:20:13.748Z"
   },
   {
    "duration": 24,
    "start_time": "2023-07-26T14:20:47.800Z"
   },
   {
    "duration": 44,
    "start_time": "2023-07-26T14:22:48.440Z"
   },
   {
    "duration": 35,
    "start_time": "2023-07-26T14:23:24.400Z"
   },
   {
    "duration": 31,
    "start_time": "2023-07-26T14:23:34.012Z"
   },
   {
    "duration": 43,
    "start_time": "2023-07-26T14:23:38.960Z"
   },
   {
    "duration": 35,
    "start_time": "2023-07-26T14:24:50.613Z"
   },
   {
    "duration": 13,
    "start_time": "2023-07-26T14:25:59.652Z"
   },
   {
    "duration": 50,
    "start_time": "2023-07-26T14:26:08.500Z"
   },
   {
    "duration": 35,
    "start_time": "2023-07-26T14:26:32.030Z"
   },
   {
    "duration": 17,
    "start_time": "2023-07-26T14:27:35.230Z"
   },
   {
    "duration": 6,
    "start_time": "2023-07-26T14:27:58.303Z"
   },
   {
    "duration": 177,
    "start_time": "2023-07-26T14:28:32.255Z"
   },
   {
    "duration": 26,
    "start_time": "2023-07-26T14:28:35.966Z"
   },
   {
    "duration": 14,
    "start_time": "2023-07-26T14:28:37.402Z"
   },
   {
    "duration": 24,
    "start_time": "2023-07-26T14:28:38.582Z"
   },
   {
    "duration": 43,
    "start_time": "2023-07-26T14:28:38.857Z"
   },
   {
    "duration": 4,
    "start_time": "2023-07-26T14:28:39.908Z"
   },
   {
    "duration": 10,
    "start_time": "2023-07-26T14:28:40.221Z"
   },
   {
    "duration": 5,
    "start_time": "2023-07-26T14:28:40.660Z"
   },
   {
    "duration": 7,
    "start_time": "2023-07-26T14:28:40.895Z"
   },
   {
    "duration": 6,
    "start_time": "2023-07-26T14:28:41.131Z"
   },
   {
    "duration": 45,
    "start_time": "2023-07-26T14:28:41.841Z"
   },
   {
    "duration": 20,
    "start_time": "2023-07-26T14:28:42.103Z"
   },
   {
    "duration": 10,
    "start_time": "2023-07-26T14:28:42.473Z"
   },
   {
    "duration": 12,
    "start_time": "2023-07-26T14:28:42.852Z"
   },
   {
    "duration": 23,
    "start_time": "2023-07-26T14:28:43.089Z"
   },
   {
    "duration": 18,
    "start_time": "2023-07-26T14:28:43.254Z"
   },
   {
    "duration": 4,
    "start_time": "2023-07-26T14:28:43.628Z"
   },
   {
    "duration": 11,
    "start_time": "2023-07-26T14:28:43.763Z"
   },
   {
    "duration": 6,
    "start_time": "2023-07-26T14:28:44.020Z"
   },
   {
    "duration": 4,
    "start_time": "2023-07-26T14:28:44.296Z"
   },
   {
    "duration": 8,
    "start_time": "2023-07-26T14:28:44.428Z"
   },
   {
    "duration": 44,
    "start_time": "2023-07-26T14:28:44.844Z"
   },
   {
    "duration": 25,
    "start_time": "2023-07-26T14:28:45.385Z"
   },
   {
    "duration": 19,
    "start_time": "2023-07-26T14:28:45.920Z"
   },
   {
    "duration": 33,
    "start_time": "2023-07-26T14:28:50.273Z"
   },
   {
    "duration": 20,
    "start_time": "2023-07-26T14:34:30.629Z"
   },
   {
    "duration": 20,
    "start_time": "2023-07-26T14:34:44.904Z"
   },
   {
    "duration": 26,
    "start_time": "2023-07-26T14:35:15.471Z"
   },
   {
    "duration": 28,
    "start_time": "2023-07-26T14:35:31.547Z"
   },
   {
    "duration": 465,
    "start_time": "2023-07-26T14:56:47.752Z"
   },
   {
    "duration": 444,
    "start_time": "2023-07-26T14:57:54.560Z"
   },
   {
    "duration": 79,
    "start_time": "2023-07-26T18:15:07.414Z"
   },
   {
    "duration": 705,
    "start_time": "2023-07-26T18:15:24.219Z"
   },
   {
    "duration": 20,
    "start_time": "2023-07-26T18:15:25.799Z"
   },
   {
    "duration": 21,
    "start_time": "2023-07-26T18:15:26.084Z"
   },
   {
    "duration": 15,
    "start_time": "2023-07-26T18:15:26.615Z"
   },
   {
    "duration": 30,
    "start_time": "2023-07-26T18:15:26.891Z"
   },
   {
    "duration": 3,
    "start_time": "2023-07-26T18:15:27.285Z"
   },
   {
    "duration": 13,
    "start_time": "2023-07-26T18:15:27.561Z"
   },
   {
    "duration": 6,
    "start_time": "2023-07-26T18:15:27.982Z"
   },
   {
    "duration": 7,
    "start_time": "2023-07-26T18:15:28.284Z"
   },
   {
    "duration": 4,
    "start_time": "2023-07-26T18:15:28.560Z"
   },
   {
    "duration": 29,
    "start_time": "2023-07-26T18:15:29.229Z"
   },
   {
    "duration": 21,
    "start_time": "2023-07-26T18:15:29.387Z"
   },
   {
    "duration": 5,
    "start_time": "2023-07-26T18:15:29.636Z"
   },
   {
    "duration": 11,
    "start_time": "2023-07-26T18:15:29.895Z"
   },
   {
    "duration": 20,
    "start_time": "2023-07-26T18:15:30.054Z"
   },
   {
    "duration": 17,
    "start_time": "2023-07-26T18:15:30.136Z"
   },
   {
    "duration": 4,
    "start_time": "2023-07-26T18:15:30.387Z"
   },
   {
    "duration": 10,
    "start_time": "2023-07-26T18:15:30.483Z"
   },
   {
    "duration": 7,
    "start_time": "2023-07-26T18:15:30.637Z"
   },
   {
    "duration": 3,
    "start_time": "2023-07-26T18:15:30.804Z"
   },
   {
    "duration": 8,
    "start_time": "2023-07-26T18:15:30.887Z"
   },
   {
    "duration": 31,
    "start_time": "2023-07-26T18:15:31.137Z"
   },
   {
    "duration": 20,
    "start_time": "2023-07-26T18:15:31.483Z"
   },
   {
    "duration": 20,
    "start_time": "2023-07-26T18:15:33.017Z"
   },
   {
    "duration": 41,
    "start_time": "2023-07-26T18:15:38.324Z"
   },
   {
    "duration": 19,
    "start_time": "2023-07-26T18:16:12.940Z"
   },
   {
    "duration": 590,
    "start_time": "2023-07-27T11:17:53.564Z"
   },
   {
    "duration": 28,
    "start_time": "2023-07-27T11:17:54.157Z"
   },
   {
    "duration": 21,
    "start_time": "2023-07-27T11:17:54.187Z"
   },
   {
    "duration": 12,
    "start_time": "2023-07-27T11:17:54.210Z"
   },
   {
    "duration": 70,
    "start_time": "2023-07-27T11:17:54.225Z"
   },
   {
    "duration": 5,
    "start_time": "2023-07-27T11:17:54.297Z"
   },
   {
    "duration": 26,
    "start_time": "2023-07-27T11:17:54.303Z"
   },
   {
    "duration": 5,
    "start_time": "2023-07-27T11:17:54.330Z"
   },
   {
    "duration": 16,
    "start_time": "2023-07-27T11:17:54.336Z"
   },
   {
    "duration": 29,
    "start_time": "2023-07-27T11:17:54.445Z"
   },
   {
    "duration": 35,
    "start_time": "2023-07-27T11:17:54.475Z"
   },
   {
    "duration": 19,
    "start_time": "2023-07-27T11:17:54.512Z"
   },
   {
    "duration": 4,
    "start_time": "2023-07-27T11:17:54.533Z"
   },
   {
    "duration": 11,
    "start_time": "2023-07-27T11:17:54.539Z"
   },
   {
    "duration": 19,
    "start_time": "2023-07-27T11:17:54.552Z"
   },
   {
    "duration": 9,
    "start_time": "2023-07-27T11:17:54.573Z"
   },
   {
    "duration": 23,
    "start_time": "2023-07-27T11:17:54.584Z"
   },
   {
    "duration": 50,
    "start_time": "2023-07-27T11:17:54.609Z"
   },
   {
    "duration": 20,
    "start_time": "2023-07-27T11:17:54.661Z"
   },
   {
    "duration": 33,
    "start_time": "2023-07-27T11:17:54.683Z"
   },
   {
    "duration": 21,
    "start_time": "2023-07-27T11:17:54.719Z"
   },
   {
    "duration": 460,
    "start_time": "2023-07-27T11:18:03.363Z"
   },
   {
    "duration": 22,
    "start_time": "2023-07-27T11:18:03.825Z"
   },
   {
    "duration": 18,
    "start_time": "2023-07-27T11:18:03.849Z"
   },
   {
    "duration": 9,
    "start_time": "2023-07-27T11:18:03.868Z"
   },
   {
    "duration": 45,
    "start_time": "2023-07-27T11:18:03.879Z"
   },
   {
    "duration": 4,
    "start_time": "2023-07-27T11:18:03.925Z"
   },
   {
    "duration": 23,
    "start_time": "2023-07-27T11:18:03.930Z"
   },
   {
    "duration": 7,
    "start_time": "2023-07-27T11:18:03.955Z"
   },
   {
    "duration": 17,
    "start_time": "2023-07-27T11:18:03.964Z"
   },
   {
    "duration": 55,
    "start_time": "2023-07-27T11:18:03.983Z"
   },
   {
    "duration": 58,
    "start_time": "2023-07-27T11:18:04.041Z"
   },
   {
    "duration": 13,
    "start_time": "2023-07-27T11:18:04.101Z"
   },
   {
    "duration": 18,
    "start_time": "2023-07-27T11:18:04.116Z"
   },
   {
    "duration": 30,
    "start_time": "2023-07-27T11:18:04.137Z"
   },
   {
    "duration": 32,
    "start_time": "2023-07-27T11:18:04.169Z"
   },
   {
    "duration": 20,
    "start_time": "2023-07-27T11:18:04.203Z"
   },
   {
    "duration": 5,
    "start_time": "2023-07-27T11:18:04.225Z"
   },
   {
    "duration": 29,
    "start_time": "2023-07-27T11:18:04.232Z"
   },
   {
    "duration": 13,
    "start_time": "2023-07-27T11:18:04.263Z"
   },
   {
    "duration": 12,
    "start_time": "2023-07-27T11:18:04.278Z"
   },
   {
    "duration": 19,
    "start_time": "2023-07-27T11:18:04.292Z"
   },
   {
    "duration": 42,
    "start_time": "2023-07-27T11:18:04.313Z"
   },
   {
    "duration": 24,
    "start_time": "2023-07-27T11:18:04.357Z"
   },
   {
    "duration": 28,
    "start_time": "2023-07-27T11:18:04.383Z"
   },
   {
    "duration": 36,
    "start_time": "2023-07-27T11:18:04.413Z"
   },
   {
    "duration": 256,
    "start_time": "2023-07-27T12:23:38.742Z"
   },
   {
    "duration": 434,
    "start_time": "2023-07-27T12:24:27.742Z"
   },
   {
    "duration": 630,
    "start_time": "2023-07-27T12:24:45.395Z"
   },
   {
    "duration": 1692,
    "start_time": "2023-07-27T12:25:11.563Z"
   },
   {
    "duration": 293,
    "start_time": "2023-07-27T12:26:02.703Z"
   },
   {
    "duration": 67,
    "start_time": "2023-07-27T12:27:48.034Z"
   },
   {
    "duration": 817,
    "start_time": "2023-07-27T12:27:56.267Z"
   },
   {
    "duration": 41,
    "start_time": "2023-07-27T12:28:01.237Z"
   },
   {
    "duration": 21,
    "start_time": "2023-07-27T12:28:01.566Z"
   },
   {
    "duration": 14,
    "start_time": "2023-07-27T12:28:03.970Z"
   },
   {
    "duration": 46,
    "start_time": "2023-07-27T12:28:04.599Z"
   },
   {
    "duration": 5,
    "start_time": "2023-07-27T12:28:05.047Z"
   },
   {
    "duration": 9,
    "start_time": "2023-07-27T12:28:05.282Z"
   },
   {
    "duration": 9,
    "start_time": "2023-07-27T12:28:05.687Z"
   },
   {
    "duration": 7,
    "start_time": "2023-07-27T12:28:05.971Z"
   },
   {
    "duration": 5,
    "start_time": "2023-07-27T12:28:06.276Z"
   },
   {
    "duration": 51,
    "start_time": "2023-07-27T12:28:06.699Z"
   },
   {
    "duration": 10,
    "start_time": "2023-07-27T12:28:06.998Z"
   },
   {
    "duration": 6,
    "start_time": "2023-07-27T12:28:07.470Z"
   },
   {
    "duration": 17,
    "start_time": "2023-07-27T12:28:07.948Z"
   },
   {
    "duration": 29,
    "start_time": "2023-07-27T12:28:08.215Z"
   },
   {
    "duration": 20,
    "start_time": "2023-07-27T12:28:08.366Z"
   },
   {
    "duration": 13,
    "start_time": "2023-07-27T12:28:08.816Z"
   },
   {
    "duration": 14,
    "start_time": "2023-07-27T12:28:09.002Z"
   },
   {
    "duration": 8,
    "start_time": "2023-07-27T12:28:09.847Z"
   },
   {
    "duration": 4,
    "start_time": "2023-07-27T12:28:10.155Z"
   },
   {
    "duration": 8,
    "start_time": "2023-07-27T12:28:10.299Z"
   },
   {
    "duration": 31,
    "start_time": "2023-07-27T12:28:10.752Z"
   },
   {
    "duration": 439,
    "start_time": "2023-07-27T12:28:12.366Z"
   },
   {
    "duration": 0,
    "start_time": "2023-07-27T12:28:12.807Z"
   },
   {
    "duration": 28,
    "start_time": "2023-07-27T12:28:13.183Z"
   },
   {
    "duration": 31,
    "start_time": "2023-07-27T12:28:15.564Z"
   },
   {
    "duration": 454,
    "start_time": "2023-07-27T12:28:34.150Z"
   },
   {
    "duration": 57,
    "start_time": "2023-07-27T12:38:27.110Z"
   },
   {
    "duration": 50,
    "start_time": "2023-07-27T12:44:57.350Z"
   },
   {
    "duration": 59,
    "start_time": "2023-07-27T12:52:12.788Z"
   },
   {
    "duration": 0,
    "start_time": "2023-07-27T12:52:52.543Z"
   },
   {
    "duration": 35,
    "start_time": "2023-07-27T12:52:55.592Z"
   },
   {
    "duration": 27,
    "start_time": "2023-07-27T12:53:52.787Z"
   },
   {
    "duration": 34,
    "start_time": "2023-07-27T12:54:06.174Z"
   },
   {
    "duration": 1985,
    "start_time": "2023-07-27T12:54:39.997Z"
   },
   {
    "duration": 2249,
    "start_time": "2023-07-27T12:54:42.141Z"
   },
   {
    "duration": 40,
    "start_time": "2023-07-27T12:54:57.650Z"
   },
   {
    "duration": 49,
    "start_time": "2023-07-27T12:56:48.316Z"
   },
   {
    "duration": 33,
    "start_time": "2023-07-27T13:18:24.469Z"
   },
   {
    "duration": 429,
    "start_time": "2023-07-27T14:50:42.406Z"
   },
   {
    "duration": 25,
    "start_time": "2023-07-27T14:50:42.837Z"
   },
   {
    "duration": 22,
    "start_time": "2023-07-27T14:50:42.864Z"
   },
   {
    "duration": 16,
    "start_time": "2023-07-27T14:50:42.888Z"
   },
   {
    "duration": 50,
    "start_time": "2023-07-27T14:50:42.906Z"
   },
   {
    "duration": 4,
    "start_time": "2023-07-27T14:50:42.958Z"
   },
   {
    "duration": 16,
    "start_time": "2023-07-27T14:50:42.964Z"
   },
   {
    "duration": 6,
    "start_time": "2023-07-27T14:50:42.982Z"
   },
   {
    "duration": 15,
    "start_time": "2023-07-27T14:50:42.990Z"
   },
   {
    "duration": 23,
    "start_time": "2023-07-27T14:50:43.006Z"
   },
   {
    "duration": 43,
    "start_time": "2023-07-27T14:50:43.031Z"
   },
   {
    "duration": 11,
    "start_time": "2023-07-27T14:50:43.076Z"
   },
   {
    "duration": 28,
    "start_time": "2023-07-27T14:50:43.089Z"
   },
   {
    "duration": 21,
    "start_time": "2023-07-27T14:50:43.121Z"
   },
   {
    "duration": 30,
    "start_time": "2023-07-27T14:50:43.144Z"
   },
   {
    "duration": 19,
    "start_time": "2023-07-27T14:50:43.175Z"
   },
   {
    "duration": 3,
    "start_time": "2023-07-27T14:50:43.196Z"
   },
   {
    "duration": 29,
    "start_time": "2023-07-27T14:50:43.201Z"
   },
   {
    "duration": 11,
    "start_time": "2023-07-27T14:50:43.231Z"
   },
   {
    "duration": 3,
    "start_time": "2023-07-27T14:50:43.244Z"
   },
   {
    "duration": 17,
    "start_time": "2023-07-27T14:50:43.249Z"
   },
   {
    "duration": 53,
    "start_time": "2023-07-27T14:50:43.267Z"
   },
   {
    "duration": 27,
    "start_time": "2023-07-27T14:50:43.322Z"
   },
   {
    "duration": 43,
    "start_time": "2023-07-27T14:50:43.351Z"
   },
   {
    "duration": 37,
    "start_time": "2023-07-27T14:50:43.396Z"
   },
   {
    "duration": 313,
    "start_time": "2023-07-27T14:51:55.562Z"
   },
   {
    "duration": 52,
    "start_time": "2023-07-27T17:07:26.480Z"
   },
   {
    "duration": 499,
    "start_time": "2023-07-27T17:07:32.198Z"
   },
   {
    "duration": 23,
    "start_time": "2023-07-27T17:07:33.152Z"
   },
   {
    "duration": 15,
    "start_time": "2023-07-27T17:07:34.498Z"
   },
   {
    "duration": 10,
    "start_time": "2023-07-27T17:07:37.448Z"
   },
   {
    "duration": 4,
    "start_time": "2023-07-27T18:21:31.014Z"
   },
   {
    "duration": 9,
    "start_time": "2023-07-27T18:21:31.514Z"
   },
   {
    "duration": 6,
    "start_time": "2023-07-27T18:21:35.466Z"
   },
   {
    "duration": 70,
    "start_time": "2023-07-27T18:21:38.771Z"
   },
   {
    "duration": 16,
    "start_time": "2023-07-27T18:21:39.295Z"
   },
   {
    "duration": 15,
    "start_time": "2023-07-27T18:21:40.505Z"
   },
   {
    "duration": 10,
    "start_time": "2023-07-27T18:21:43.242Z"
   },
   {
    "duration": 48,
    "start_time": "2023-07-27T18:21:44.297Z"
   },
   {
    "duration": 9,
    "start_time": "2023-07-27T18:21:45.763Z"
   },
   {
    "duration": 5,
    "start_time": "2023-07-27T18:21:49.409Z"
   },
   {
    "duration": 9,
    "start_time": "2023-07-27T18:21:51.410Z"
   },
   {
    "duration": 8,
    "start_time": "2023-07-27T18:21:54.658Z"
   },
   {
    "duration": 26,
    "start_time": "2023-07-27T18:59:16.350Z"
   },
   {
    "duration": 71,
    "start_time": "2023-07-27T18:59:31.561Z"
   },
   {
    "duration": 17,
    "start_time": "2023-07-27T18:59:31.995Z"
   },
   {
    "duration": 15,
    "start_time": "2023-07-27T18:59:32.654Z"
   },
   {
    "duration": 12,
    "start_time": "2023-07-27T18:59:34.821Z"
   },
   {
    "duration": 49,
    "start_time": "2023-07-27T18:59:35.689Z"
   },
   {
    "duration": 4,
    "start_time": "2023-07-27T18:59:37.061Z"
   },
   {
    "duration": 9,
    "start_time": "2023-07-27T18:59:38.306Z"
   },
   {
    "duration": 5,
    "start_time": "2023-07-27T18:59:41.155Z"
   },
   {
    "duration": 7,
    "start_time": "2023-07-27T18:59:41.621Z"
   },
   {
    "duration": 5,
    "start_time": "2023-07-27T18:59:42.157Z"
   },
   {
    "duration": 32,
    "start_time": "2023-07-27T18:59:45.814Z"
   },
   {
    "duration": 13,
    "start_time": "2023-07-27T18:59:47.546Z"
   },
   {
    "duration": 4,
    "start_time": "2023-07-27T18:59:48.252Z"
   },
   {
    "duration": 16,
    "start_time": "2023-07-27T18:59:50.551Z"
   },
   {
    "duration": 21,
    "start_time": "2023-07-27T18:59:51.263Z"
   },
   {
    "duration": 20,
    "start_time": "2023-07-27T18:59:52.454Z"
   },
   {
    "duration": 479,
    "start_time": "2023-07-27T19:36:00.582Z"
   },
   {
    "duration": 23,
    "start_time": "2023-07-27T19:36:01.063Z"
   },
   {
    "duration": 30,
    "start_time": "2023-07-27T19:36:01.088Z"
   },
   {
    "duration": 43,
    "start_time": "2023-07-27T19:36:01.120Z"
   },
   {
    "duration": 70,
    "start_time": "2023-07-27T19:36:01.165Z"
   },
   {
    "duration": 4,
    "start_time": "2023-07-27T19:36:01.237Z"
   },
   {
    "duration": 39,
    "start_time": "2023-07-27T19:36:01.243Z"
   },
   {
    "duration": 27,
    "start_time": "2023-07-27T19:36:01.283Z"
   },
   {
    "duration": 49,
    "start_time": "2023-07-27T19:36:01.312Z"
   },
   {
    "duration": 28,
    "start_time": "2023-07-27T19:36:01.366Z"
   },
   {
    "duration": 72,
    "start_time": "2023-07-27T19:36:01.396Z"
   },
   {
    "duration": 26,
    "start_time": "2023-07-27T19:36:01.470Z"
   },
   {
    "duration": 42,
    "start_time": "2023-07-27T19:36:01.498Z"
   },
   {
    "duration": 52,
    "start_time": "2023-07-27T19:36:01.541Z"
   },
   {
    "duration": 63,
    "start_time": "2023-07-27T19:36:01.595Z"
   },
   {
    "duration": 46,
    "start_time": "2023-07-27T19:36:01.660Z"
   },
   {
    "duration": 3,
    "start_time": "2023-07-27T19:36:01.709Z"
   },
   {
    "duration": 73,
    "start_time": "2023-07-27T19:36:01.714Z"
   },
   {
    "duration": 29,
    "start_time": "2023-07-27T19:36:01.789Z"
   },
   {
    "duration": 76,
    "start_time": "2023-07-27T19:36:01.820Z"
   },
   {
    "duration": 209,
    "start_time": "2023-07-27T19:36:01.898Z"
   },
   {
    "duration": 70,
    "start_time": "2023-07-27T19:36:02.109Z"
   },
   {
    "duration": 412,
    "start_time": "2023-07-27T19:36:02.181Z"
   },
   {
    "duration": 22,
    "start_time": "2023-07-27T19:36:02.595Z"
   },
   {
    "duration": 58,
    "start_time": "2023-07-27T19:36:02.619Z"
   },
   {
    "duration": 35,
    "start_time": "2023-07-27T19:36:02.679Z"
   }
  ],
  "colab": {
   "name": "dpp_template_part2.ipynb",
   "provenance": []
  },
  "kernelspec": {
   "display_name": "Python 3.10.8 64-bit",
   "language": "python",
   "name": "python3"
  },
  "language_info": {
   "codemirror_mode": {
    "name": "ipython",
    "version": 3
   },
   "file_extension": ".py",
   "mimetype": "text/x-python",
   "name": "python",
   "nbconvert_exporter": "python",
   "pygments_lexer": "ipython3",
   "version": "3.10.8"
  },
  "toc": {
   "base_numbering": 1,
   "nav_menu": {},
   "number_sections": true,
   "sideBar": true,
   "skip_h1_title": true,
   "title_cell": "Table of Contents",
   "title_sidebar": "Contents",
   "toc_cell": false,
   "toc_position": {
    "height": "calc(100% - 180px)",
    "left": "10px",
    "top": "150px",
    "width": "198.943px"
   },
   "toc_section_display": true,
   "toc_window_display": true
  },
  "vscode": {
   "interpreter": {
    "hash": "7e1998ff7f8aa20ada591c520b972326324e5ea05489af9e422744c7c09f6dad"
   }
  }
 },
 "nbformat": 4,
 "nbformat_minor": 5
}
