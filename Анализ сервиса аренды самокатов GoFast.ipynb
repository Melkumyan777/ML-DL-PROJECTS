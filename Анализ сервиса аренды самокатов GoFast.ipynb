{
 "cells": [
  {
   "cell_type": "markdown",
   "id": "41eacfac",
   "metadata": {},
   "source": [
    "**Анализ сервиса аренды самокатов GoFast**\n",
    "\n",
    "**Описание проекта**\n",
    "\n",
    "Вы аналитик популярного сервиса аренды самокатов GoFast. Вам передали данные о некоторых пользователях из нескольких городов, а также об их поездках. Проанализируйте данные и проверьте некоторые гипотезы, которые могут помочь бизнесу вырасти.\n",
    "Чтобы совершать поездки по городу, пользователи сервиса GoFast пользуются мобильным приложением. \n",
    "\n",
    "Сервисом можно пользоваться:\n",
    "\n",
    "без подписки\n",
    "абонентская плата отсутствует;\n",
    "стоимость одной минуты поездки — \n",
    "8 рублей;\n",
    "стоимость старта (начала поездки) — \n",
    "50 рублей;\n",
    "\n",
    "с подпиской Ultra\n",
    "абонентская плата — \n",
    "199 рублей в месяц;\n",
    "стоимость одной минуты поездки — \n",
    "6 рублей;\n",
    "стоимость старта — бесплатно.\n",
    "\n",
    "\n",
    "**Описание данных**\n",
    "\n",
    "Пользователи — users_go.csv\n",
    "\n",
    "user_id — уникальный идентификатор пользователя\n",
    "name — имя пользователя\n",
    "age — возраст\n",
    "city — город\n",
    "subscription_type — тип подписки (free, ultra)\n",
    "\n",
    "\n",
    "Поeздки — rides_go.csv\n",
    "\n",
    "user_id — уникальный идентификатор пользователя\n",
    "distance — расстояние, которое пользователь проехал в текущей сессии (в метрах)\n",
    "duration — продолжительность сессии (в минутах) — время с того момента, как пользователь нажал кнопку «Начать поездку» до момента, как он нажал кнопку «Завершить поездку»\n",
    "date — дата совершения поездки\n",
    "\n",
    "\n",
    "Подписки — subscriptions_go.csv\n",
    "\n",
    "subscription_type — тип подписки\n",
    "minute_price — стоимость одной минуты поездки по данной подписке\n",
    "start_ride_price — стоимость начала поездки\n",
    "subscription_fee — стоимость ежемесячного платежа"
   ]
  },
  {
   "cell_type": "code",
   "execution_count": 1,
   "id": "72576667",
   "metadata": {},
   "outputs": [],
   "source": [
    "import pandas as pd\n",
    "import numpy as np\n",
    "import seaborn as sns\n",
    "import matplotlib.pyplot as plt\n",
    "import plotly.express as px\n",
    "\n",
    "from scipy import stats as st"
   ]
  },
  {
   "cell_type": "markdown",
   "id": "c42cbe00",
   "metadata": {},
   "source": [
    "#### Шаг 1. Загрузка данных"
   ]
  },
  {
   "cell_type": "code",
   "execution_count": 2,
   "id": "eff9f206",
   "metadata": {},
   "outputs": [],
   "source": [
    "try:\n",
    "    data_users_go = pd.read_csv('/datasets/users_go.csv')\n",
    "except:\n",
    "    data_users_go = pd.read_csv('https://code.s3.yandex.net/datasets/users_go.csv')"
   ]
  },
  {
   "cell_type": "code",
   "execution_count": 3,
   "id": "d00e2517",
   "metadata": {},
   "outputs": [
    {
     "name": "stdout",
     "output_type": "stream",
     "text": [
      "<class 'pandas.core.frame.DataFrame'>\n",
      "RangeIndex: 1565 entries, 0 to 1564\n",
      "Data columns (total 5 columns):\n",
      " #   Column             Non-Null Count  Dtype \n",
      "---  ------             --------------  ----- \n",
      " 0   user_id            1565 non-null   int64 \n",
      " 1   name               1565 non-null   object\n",
      " 2   age                1565 non-null   int64 \n",
      " 3   city               1565 non-null   object\n",
      " 4   subscription_type  1565 non-null   object\n",
      "dtypes: int64(2), object(3)\n",
      "memory usage: 61.3+ KB\n"
     ]
    }
   ],
   "source": [
    "data_users_go.info()"
   ]
  },
  {
   "cell_type": "code",
   "execution_count": 4,
   "id": "f2942b0f",
   "metadata": {},
   "outputs": [
    {
     "data": {
      "text/html": [
       "<div>\n",
       "<style scoped>\n",
       "    .dataframe tbody tr th:only-of-type {\n",
       "        vertical-align: middle;\n",
       "    }\n",
       "\n",
       "    .dataframe tbody tr th {\n",
       "        vertical-align: top;\n",
       "    }\n",
       "\n",
       "    .dataframe thead th {\n",
       "        text-align: right;\n",
       "    }\n",
       "</style>\n",
       "<table border=\"1\" class=\"dataframe\">\n",
       "  <thead>\n",
       "    <tr style=\"text-align: right;\">\n",
       "      <th></th>\n",
       "      <th>user_id</th>\n",
       "      <th>name</th>\n",
       "      <th>age</th>\n",
       "      <th>city</th>\n",
       "      <th>subscription_type</th>\n",
       "    </tr>\n",
       "  </thead>\n",
       "  <tbody>\n",
       "    <tr>\n",
       "      <th>0</th>\n",
       "      <td>1</td>\n",
       "      <td>Кира</td>\n",
       "      <td>22</td>\n",
       "      <td>Тюмень</td>\n",
       "      <td>ultra</td>\n",
       "    </tr>\n",
       "    <tr>\n",
       "      <th>1</th>\n",
       "      <td>2</td>\n",
       "      <td>Станислав</td>\n",
       "      <td>31</td>\n",
       "      <td>Омск</td>\n",
       "      <td>ultra</td>\n",
       "    </tr>\n",
       "    <tr>\n",
       "      <th>2</th>\n",
       "      <td>3</td>\n",
       "      <td>Алексей</td>\n",
       "      <td>20</td>\n",
       "      <td>Москва</td>\n",
       "      <td>ultra</td>\n",
       "    </tr>\n",
       "    <tr>\n",
       "      <th>3</th>\n",
       "      <td>4</td>\n",
       "      <td>Константин</td>\n",
       "      <td>26</td>\n",
       "      <td>Ростов-на-Дону</td>\n",
       "      <td>ultra</td>\n",
       "    </tr>\n",
       "    <tr>\n",
       "      <th>4</th>\n",
       "      <td>5</td>\n",
       "      <td>Адель</td>\n",
       "      <td>28</td>\n",
       "      <td>Омск</td>\n",
       "      <td>ultra</td>\n",
       "    </tr>\n",
       "  </tbody>\n",
       "</table>\n",
       "</div>"
      ],
      "text/plain": [
       "   user_id        name  age            city subscription_type\n",
       "0        1        Кира   22          Тюмень             ultra\n",
       "1        2   Станислав   31            Омск             ultra\n",
       "2        3     Алексей   20          Москва             ultra\n",
       "3        4  Константин   26  Ростов-на-Дону             ultra\n",
       "4        5       Адель   28            Омск             ultra"
      ]
     },
     "execution_count": 4,
     "metadata": {},
     "output_type": "execute_result"
    }
   ],
   "source": [
    "data_users_go.head(5)"
   ]
  },
  {
   "cell_type": "code",
   "execution_count": 5,
   "id": "ff7174db",
   "metadata": {},
   "outputs": [],
   "source": [
    "try:\n",
    "    data_rides_go = pd.read_csv('/datasets/rides_go.csv')\n",
    "except:\n",
    "    data_rides_go = pd.read_csv('https://code.s3.yandex.net/datasets/rides_go.csv')"
   ]
  },
  {
   "cell_type": "code",
   "execution_count": 6,
   "id": "dd58d823",
   "metadata": {},
   "outputs": [
    {
     "name": "stdout",
     "output_type": "stream",
     "text": [
      "<class 'pandas.core.frame.DataFrame'>\n",
      "RangeIndex: 18068 entries, 0 to 18067\n",
      "Data columns (total 4 columns):\n",
      " #   Column    Non-Null Count  Dtype  \n",
      "---  ------    --------------  -----  \n",
      " 0   user_id   18068 non-null  int64  \n",
      " 1   distance  18068 non-null  float64\n",
      " 2   duration  18068 non-null  float64\n",
      " 3   date      18068 non-null  object \n",
      "dtypes: float64(2), int64(1), object(1)\n",
      "memory usage: 564.8+ KB\n"
     ]
    }
   ],
   "source": [
    "data_rides_go.info()"
   ]
  },
  {
   "cell_type": "code",
   "execution_count": 7,
   "id": "b12dfd72",
   "metadata": {},
   "outputs": [
    {
     "data": {
      "text/html": [
       "<div>\n",
       "<style scoped>\n",
       "    .dataframe tbody tr th:only-of-type {\n",
       "        vertical-align: middle;\n",
       "    }\n",
       "\n",
       "    .dataframe tbody tr th {\n",
       "        vertical-align: top;\n",
       "    }\n",
       "\n",
       "    .dataframe thead th {\n",
       "        text-align: right;\n",
       "    }\n",
       "</style>\n",
       "<table border=\"1\" class=\"dataframe\">\n",
       "  <thead>\n",
       "    <tr style=\"text-align: right;\">\n",
       "      <th></th>\n",
       "      <th>user_id</th>\n",
       "      <th>distance</th>\n",
       "      <th>duration</th>\n",
       "      <th>date</th>\n",
       "    </tr>\n",
       "  </thead>\n",
       "  <tbody>\n",
       "    <tr>\n",
       "      <th>0</th>\n",
       "      <td>1</td>\n",
       "      <td>4409.919140</td>\n",
       "      <td>25.599769</td>\n",
       "      <td>2021-01-01</td>\n",
       "    </tr>\n",
       "    <tr>\n",
       "      <th>1</th>\n",
       "      <td>1</td>\n",
       "      <td>2617.592153</td>\n",
       "      <td>15.816871</td>\n",
       "      <td>2021-01-18</td>\n",
       "    </tr>\n",
       "    <tr>\n",
       "      <th>2</th>\n",
       "      <td>1</td>\n",
       "      <td>754.159807</td>\n",
       "      <td>6.232113</td>\n",
       "      <td>2021-04-20</td>\n",
       "    </tr>\n",
       "    <tr>\n",
       "      <th>3</th>\n",
       "      <td>1</td>\n",
       "      <td>2694.783254</td>\n",
       "      <td>18.511000</td>\n",
       "      <td>2021-08-11</td>\n",
       "    </tr>\n",
       "    <tr>\n",
       "      <th>4</th>\n",
       "      <td>1</td>\n",
       "      <td>4028.687306</td>\n",
       "      <td>26.265803</td>\n",
       "      <td>2021-08-28</td>\n",
       "    </tr>\n",
       "  </tbody>\n",
       "</table>\n",
       "</div>"
      ],
      "text/plain": [
       "   user_id     distance   duration        date\n",
       "0        1  4409.919140  25.599769  2021-01-01\n",
       "1        1  2617.592153  15.816871  2021-01-18\n",
       "2        1   754.159807   6.232113  2021-04-20\n",
       "3        1  2694.783254  18.511000  2021-08-11\n",
       "4        1  4028.687306  26.265803  2021-08-28"
      ]
     },
     "execution_count": 7,
     "metadata": {},
     "output_type": "execute_result"
    }
   ],
   "source": [
    "data_rides_go.head(5)"
   ]
  },
  {
   "cell_type": "code",
   "execution_count": 8,
   "id": "d2e7107b",
   "metadata": {},
   "outputs": [],
   "source": [
    "try:\n",
    "    data_subscriptions_go = pd.read_csv('/datasets/subscriptions_go.csv')\n",
    "except:\n",
    "    data_subscriptions_go = pd.read_csv('https://code.s3.yandex.net/datasets/subscriptions_go.csv')"
   ]
  },
  {
   "cell_type": "code",
   "execution_count": 9,
   "id": "d3f46630",
   "metadata": {},
   "outputs": [
    {
     "name": "stdout",
     "output_type": "stream",
     "text": [
      "<class 'pandas.core.frame.DataFrame'>\n",
      "RangeIndex: 2 entries, 0 to 1\n",
      "Data columns (total 4 columns):\n",
      " #   Column             Non-Null Count  Dtype \n",
      "---  ------             --------------  ----- \n",
      " 0   subscription_type  2 non-null      object\n",
      " 1   minute_price       2 non-null      int64 \n",
      " 2   start_ride_price   2 non-null      int64 \n",
      " 3   subscription_fee   2 non-null      int64 \n",
      "dtypes: int64(3), object(1)\n",
      "memory usage: 192.0+ bytes\n"
     ]
    }
   ],
   "source": [
    "data_subscriptions_go.info()"
   ]
  },
  {
   "cell_type": "code",
   "execution_count": 10,
   "id": "5d87a989",
   "metadata": {},
   "outputs": [
    {
     "data": {
      "text/html": [
       "<div>\n",
       "<style scoped>\n",
       "    .dataframe tbody tr th:only-of-type {\n",
       "        vertical-align: middle;\n",
       "    }\n",
       "\n",
       "    .dataframe tbody tr th {\n",
       "        vertical-align: top;\n",
       "    }\n",
       "\n",
       "    .dataframe thead th {\n",
       "        text-align: right;\n",
       "    }\n",
       "</style>\n",
       "<table border=\"1\" class=\"dataframe\">\n",
       "  <thead>\n",
       "    <tr style=\"text-align: right;\">\n",
       "      <th></th>\n",
       "      <th>subscription_type</th>\n",
       "      <th>minute_price</th>\n",
       "      <th>start_ride_price</th>\n",
       "      <th>subscription_fee</th>\n",
       "    </tr>\n",
       "  </thead>\n",
       "  <tbody>\n",
       "    <tr>\n",
       "      <th>0</th>\n",
       "      <td>free</td>\n",
       "      <td>8</td>\n",
       "      <td>50</td>\n",
       "      <td>0</td>\n",
       "    </tr>\n",
       "    <tr>\n",
       "      <th>1</th>\n",
       "      <td>ultra</td>\n",
       "      <td>6</td>\n",
       "      <td>0</td>\n",
       "      <td>199</td>\n",
       "    </tr>\n",
       "  </tbody>\n",
       "</table>\n",
       "</div>"
      ],
      "text/plain": [
       "  subscription_type  minute_price  start_ride_price  subscription_fee\n",
       "0              free             8                50                 0\n",
       "1             ultra             6                 0               199"
      ]
     },
     "execution_count": 10,
     "metadata": {},
     "output_type": "execute_result"
    }
   ],
   "source": [
    "data_subscriptions_go.head(5)"
   ]
  },
  {
   "cell_type": "markdown",
   "id": "e95ebca7",
   "metadata": {},
   "source": [
    "#### Шаг 2. Предобработка данных"
   ]
  },
  {
   "cell_type": "code",
   "execution_count": 11,
   "id": "af6d202c",
   "metadata": {},
   "outputs": [],
   "source": [
    "data_rides_go['date'] = pd.to_datetime(data_rides_go['date'], format = '%Y-%m-%d')"
   ]
  },
  {
   "cell_type": "code",
   "execution_count": 12,
   "id": "7aab4f8d",
   "metadata": {},
   "outputs": [
    {
     "data": {
      "text/plain": [
       "array([2021])"
      ]
     },
     "execution_count": 12,
     "metadata": {},
     "output_type": "execute_result"
    }
   ],
   "source": [
    "data_rides_go['date'].dt.year.unique()"
   ]
  },
  {
   "cell_type": "code",
   "execution_count": 13,
   "id": "a344e4ff",
   "metadata": {},
   "outputs": [],
   "source": [
    "data_rides_go['month'] = data_rides_go['date'].dt.month"
   ]
  },
  {
   "cell_type": "code",
   "execution_count": 14,
   "id": "d739f577",
   "metadata": {},
   "outputs": [
    {
     "data": {
      "text/plain": [
       "0   2021-01-01\n",
       "1   2021-01-18\n",
       "2   2021-04-20\n",
       "3   2021-08-11\n",
       "4   2021-08-28\n",
       "5   2021-10-09\n",
       "6   2021-10-19\n",
       "7   2021-11-06\n",
       "8   2021-11-14\n",
       "9   2021-11-22\n",
       "Name: date, dtype: datetime64[ns]"
      ]
     },
     "execution_count": 14,
     "metadata": {},
     "output_type": "execute_result"
    }
   ],
   "source": [
    "data_rides_go['date'].head(10)"
   ]
  },
  {
   "cell_type": "markdown",
   "id": "69fe41d9",
   "metadata": {},
   "source": [
    "Поиск пропущенных значений и обработка дубликатов"
   ]
  },
  {
   "cell_type": "code",
   "execution_count": 15,
   "id": "bba85afc",
   "metadata": {},
   "outputs": [
    {
     "data": {
      "text/plain": [
       "31"
      ]
     },
     "execution_count": 15,
     "metadata": {},
     "output_type": "execute_result"
    }
   ],
   "source": [
    "data_users_go.duplicated().sum()"
   ]
  },
  {
   "cell_type": "code",
   "execution_count": 16,
   "id": "4b64cddb",
   "metadata": {},
   "outputs": [],
   "source": [
    "data_users_go.drop_duplicates(inplace=True)"
   ]
  },
  {
   "cell_type": "code",
   "execution_count": 17,
   "id": "9099695b",
   "metadata": {},
   "outputs": [
    {
     "data": {
      "text/plain": [
       "0"
      ]
     },
     "execution_count": 17,
     "metadata": {},
     "output_type": "execute_result"
    }
   ],
   "source": [
    "data_rides_go.duplicated().sum()"
   ]
  },
  {
   "cell_type": "code",
   "execution_count": 18,
   "id": "49a99632",
   "metadata": {},
   "outputs": [
    {
     "data": {
      "text/plain": [
       "0"
      ]
     },
     "execution_count": 18,
     "metadata": {},
     "output_type": "execute_result"
    }
   ],
   "source": [
    "data_subscriptions_go.duplicated().sum()"
   ]
  },
  {
   "cell_type": "markdown",
   "id": "212593c7",
   "metadata": {},
   "source": [
    "#### Шаг 3. Исследовательский анализ данных"
   ]
  },
  {
   "cell_type": "markdown",
   "id": "851932c1",
   "metadata": {},
   "source": [
    "Описание и визуализация общей информации о пользователях и поездках:"
   ]
  },
  {
   "cell_type": "code",
   "execution_count": 19,
   "id": "e3a4274c",
   "metadata": {},
   "outputs": [
    {
     "data": {
      "text/plain": [
       "Пятигорск         219\n",
       "Екатеринбург      204\n",
       "Ростов-на-Дону    198\n",
       "Краснодар         193\n",
       "Сочи              189\n",
       "Омск              183\n",
       "Тюмень            180\n",
       "Москва            168\n",
       "Name: city, dtype: int64"
      ]
     },
     "execution_count": 19,
     "metadata": {},
     "output_type": "execute_result"
    }
   ],
   "source": [
    "number_of_cities = data_users_go['city'].value_counts() # частота встречаемости городов\n",
    "number_of_cities"
   ]
  },
  {
   "cell_type": "code",
   "execution_count": 20,
   "id": "07afcb79",
   "metadata": {},
   "outputs": [
    {
     "data": {
      "image/png": "[encoded data removed]",
      "text/plain": [
       "<Figure size 432x288 with 1 Axes>"
      ]
     },
     "metadata": {
      "needs_background": "light"
     },
     "output_type": "display_data"
    },
    {
     "data": {
      "text/plain": [
       "<Figure size 720x720 with 0 Axes>"
      ]
     },
     "metadata": {},
     "output_type": "display_data"
    }
   ],
   "source": [
    "plt.hist(data_users_go['city'], bins=15)\n",
    "plt.title('Распределение по городам')\n",
    "plt.xlabel('Город')\n",
    "plt.ylabel('Пользователей в городе')\n",
    "plt.figure(figsize=(10, 10))\n",
    "plt.show()"
   ]
  },
  {
   "cell_type": "markdown",
   "id": "886f798a",
   "metadata": {},
   "source": [
    "Что можно сказать по гистограмме:\n",
    "\n",
    "Количество пользователей по городам распределено достаточно равномерно. Максимальное количество пользователей в Пятигорске - 219. Меньше всего пользователей в Москве - 168."
   ]
  },
  {
   "cell_type": "code",
   "execution_count": 21,
   "id": "18fef89b",
   "metadata": {},
   "outputs": [
    {
     "data": {
      "text/plain": [
       "free     835\n",
       "ultra    699\n",
       "Name: subscription_type, dtype: int64"
      ]
     },
     "execution_count": 21,
     "metadata": {},
     "output_type": "execute_result"
    }
   ],
   "source": [
    "subscription_count = data_users_go['subscription_type'].value_counts() # соотношение пользователей с подпиской и без подписки;\n",
    "subscription_count"
   ]
  },
  {
   "cell_type": "code",
   "execution_count": 22,
   "id": "75729ee8",
   "metadata": {},
   "outputs": [
    {
     "data": {
      "image/png": "[encoded data removed]",
      "text/plain": [
       "<Figure size 360x360 with 1 Axes>"
      ]
     },
     "metadata": {},
     "output_type": "display_data"
    }
   ],
   "source": [
    "data_users_go['subscription_type'].value_counts().plot(\n",
    "    subplots=True,\n",
    "    kind = 'pie', \n",
    "    y = subscription_count, \n",
    "    autopct = '%1.0f%%', \n",
    "    figsize=(5, 5),\n",
    "    title = 'Процентное соотношение пользователей в зависимости от используемого тарифа');"
   ]
  },
  {
   "cell_type": "markdown",
   "id": "c824a6ea",
   "metadata": {},
   "source": [
    "Пользователей на бесплатной подписке больше - 835 человек это 54% от общего числа пользователей. На платной подписке - 699 пользователей, это - 46%.\n"
   ]
  },
  {
   "cell_type": "code",
   "execution_count": 23,
   "id": "881fd79d",
   "metadata": {},
   "outputs": [
    {
     "data": {
      "text/plain": [
       "664     12\n",
       "66      12\n",
       "727     12\n",
       "34      12\n",
       "235     13\n",
       "        ..\n",
       "383     38\n",
       "804     38\n",
       "453     38\n",
       "961     39\n",
       "1201    43\n",
       "Name: age, Length: 1534, dtype: int64"
      ]
     },
     "execution_count": 23,
     "metadata": {},
     "output_type": "execute_result"
    }
   ],
   "source": [
    "data_users_go['age'].sort_values() # возраст пользователей"
   ]
  },
  {
   "cell_type": "code",
   "execution_count": 24,
   "id": "c5d408e2",
   "metadata": {},
   "outputs": [
    {
     "data": {
      "image/png": "[encoded data removed]",
      "text/plain": [
       "<Figure size 432x288 with 1 Axes>"
      ]
     },
     "metadata": {
      "needs_background": "light"
     },
     "output_type": "display_data"
    }
   ],
   "source": [
    "plt.hist(data_users_go['age'])\n",
    "plt.title('Возраст пользователей')\n",
    "plt.xlabel('Возраст')\n",
    "plt.ylabel('Количество пользователей')\n",
    "plt.grid()\n",
    "plt.show()"
   ]
  },
  {
   "cell_type": "markdown",
   "id": "4cb1292f",
   "metadata": {},
   "source": [
    "Средний возраст - 25 лет."
   ]
  },
  {
   "cell_type": "code",
   "execution_count": 25,
   "id": "f393cfce",
   "metadata": {},
   "outputs": [
    {
     "data": {
      "text/plain": [
       "11555       0.855683\n",
       "9541        2.570787\n",
       "13690       4.329506\n",
       "8658        6.784447\n",
       "7841        7.097072\n",
       "            ...     \n",
       "17242    6724.932981\n",
       "17171    6760.940067\n",
       "15580    6908.491343\n",
       "16484    7066.003772\n",
       "16309    7211.007745\n",
       "Name: distance, Length: 18068, dtype: float64"
      ]
     },
     "execution_count": 25,
     "metadata": {},
     "output_type": "execute_result"
    }
   ],
   "source": [
    "data_rides_go['distance'].sort_values()"
   ]
  },
  {
   "cell_type": "code",
   "execution_count": 26,
   "id": "4d5e638d",
   "metadata": {},
   "outputs": [
    {
     "data": {
      "text/plain": [
       "count    18068.000000\n",
       "mean      3070.659976\n",
       "std       1116.831209\n",
       "min          0.855683\n",
       "25%       2543.226360\n",
       "50%       3133.609994\n",
       "75%       3776.222735\n",
       "max       7211.007745\n",
       "Name: distance, dtype: float64"
      ]
     },
     "execution_count": 26,
     "metadata": {},
     "output_type": "execute_result"
    }
   ],
   "source": [
    "data_rides_go['distance'].describe()"
   ]
  },
  {
   "cell_type": "code",
   "execution_count": 27,
   "id": "9fdf49d2",
   "metadata": {},
   "outputs": [
    {
     "data": {
      "text/plain": [
       "11555       0.86\n",
       "9541        2.57\n",
       "13690       4.33\n",
       "8658        6.78\n",
       "7841        7.10\n",
       "          ...   \n",
       "17242    6724.93\n",
       "17171    6760.94\n",
       "15580    6908.49\n",
       "16484    7066.00\n",
       "16309    7211.01\n",
       "Name: distance, Length: 18068, dtype: float64"
      ]
     },
     "execution_count": 27,
     "metadata": {},
     "output_type": "execute_result"
    }
   ],
   "source": [
    "round(data_rides_go['distance'].sort_values(), 2) # округление"
   ]
  },
  {
   "cell_type": "code",
   "execution_count": 28,
   "id": "d0584eaf",
   "metadata": {},
   "outputs": [
    {
     "data": {
      "text/plain": [
       "Text(0.5, 0, 'Дистанция')"
      ]
     },
     "execution_count": 28,
     "metadata": {},
     "output_type": "execute_result"
    },
    {
     "data": {
      "image/png": "[encoded data removed]",
      "text/plain": [
       "<Figure size 432x288 with 1 Axes>"
      ]
     },
     "metadata": {
      "needs_background": "light"
     },
     "output_type": "display_data"
    }
   ],
   "source": [
    "data_rides_go['distance'].hist(bins=20, range = (0, 8500)).set_xlabel('Дистанция')"
   ]
  },
  {
   "cell_type": "code",
   "execution_count": 29,
   "id": "5276b1b3",
   "metadata": {},
   "outputs": [
    {
     "data": {
      "text/plain": [
       "count    18068.000000\n",
       "mean        17.805011\n",
       "std          6.091051\n",
       "min          0.500000\n",
       "25%         13.597563\n",
       "50%         17.678395\n",
       "75%         21.724800\n",
       "max         40.823963\n",
       "Name: duration, dtype: float64"
      ]
     },
     "execution_count": 29,
     "metadata": {},
     "output_type": "execute_result"
    }
   ],
   "source": [
    "data_rides_go['duration'].describe()"
   ]
  },
  {
   "cell_type": "code",
   "execution_count": 30,
   "id": "5688ad1a",
   "metadata": {},
   "outputs": [
    {
     "data": {
      "text/plain": [
       "12013     0.50\n",
       "17314     0.50\n",
       "15029     0.50\n",
       "7437      0.50\n",
       "12967     0.50\n",
       "         ...  \n",
       "6453     38.27\n",
       "1998     38.35\n",
       "2623     39.53\n",
       "4709     39.87\n",
       "4215     40.82\n",
       "Name: duration, Length: 18068, dtype: float64"
      ]
     },
     "execution_count": 30,
     "metadata": {},
     "output_type": "execute_result"
    }
   ],
   "source": [
    "round(data_rides_go['duration'].sort_values(), 2) # округление длительности поездок"
   ]
  },
  {
   "cell_type": "code",
   "execution_count": 31,
   "id": "75543757",
   "metadata": {},
   "outputs": [
    {
     "data": {
      "text/html": [
       "<div>\n",
       "<style scoped>\n",
       "    .dataframe tbody tr th:only-of-type {\n",
       "        vertical-align: middle;\n",
       "    }\n",
       "\n",
       "    .dataframe tbody tr th {\n",
       "        vertical-align: top;\n",
       "    }\n",
       "\n",
       "    .dataframe thead th {\n",
       "        text-align: right;\n",
       "    }\n",
       "</style>\n",
       "<table border=\"1\" class=\"dataframe\">\n",
       "  <thead>\n",
       "    <tr style=\"text-align: right;\">\n",
       "      <th></th>\n",
       "      <th>distance</th>\n",
       "      <th>duration</th>\n",
       "      <th>month</th>\n",
       "    </tr>\n",
       "    <tr>\n",
       "      <th>user_id</th>\n",
       "      <th></th>\n",
       "      <th></th>\n",
       "      <th></th>\n",
       "    </tr>\n",
       "  </thead>\n",
       "  <tbody>\n",
       "    <tr>\n",
       "      <th>1</th>\n",
       "      <td>34070.182066</td>\n",
       "      <td>204.604909</td>\n",
       "      <td>99</td>\n",
       "    </tr>\n",
       "    <tr>\n",
       "      <th>2</th>\n",
       "      <td>33964.058614</td>\n",
       "      <td>197.644279</td>\n",
       "      <td>67</td>\n",
       "    </tr>\n",
       "    <tr>\n",
       "      <th>3</th>\n",
       "      <td>36907.597866</td>\n",
       "      <td>233.193513</td>\n",
       "      <td>66</td>\n",
       "    </tr>\n",
       "    <tr>\n",
       "      <th>4</th>\n",
       "      <td>44837.189916</td>\n",
       "      <td>288.563581</td>\n",
       "      <td>107</td>\n",
       "    </tr>\n",
       "    <tr>\n",
       "      <th>5</th>\n",
       "      <td>35556.949649</td>\n",
       "      <td>174.073932</td>\n",
       "      <td>51</td>\n",
       "    </tr>\n",
       "    <tr>\n",
       "      <th>...</th>\n",
       "      <td>...</td>\n",
       "      <td>...</td>\n",
       "      <td>...</td>\n",
       "    </tr>\n",
       "    <tr>\n",
       "      <th>1530</th>\n",
       "      <td>46758.469822</td>\n",
       "      <td>292.366839</td>\n",
       "      <td>104</td>\n",
       "    </tr>\n",
       "    <tr>\n",
       "      <th>1531</th>\n",
       "      <td>67054.794222</td>\n",
       "      <td>408.192206</td>\n",
       "      <td>142</td>\n",
       "    </tr>\n",
       "    <tr>\n",
       "      <th>1532</th>\n",
       "      <td>33902.203192</td>\n",
       "      <td>212.160144</td>\n",
       "      <td>111</td>\n",
       "    </tr>\n",
       "    <tr>\n",
       "      <th>1533</th>\n",
       "      <td>36890.192211</td>\n",
       "      <td>240.580297</td>\n",
       "      <td>65</td>\n",
       "    </tr>\n",
       "    <tr>\n",
       "      <th>1534</th>\n",
       "      <td>41898.442847</td>\n",
       "      <td>229.835127</td>\n",
       "      <td>100</td>\n",
       "    </tr>\n",
       "  </tbody>\n",
       "</table>\n",
       "<p>1534 rows × 3 columns</p>\n",
       "</div>"
      ],
      "text/plain": [
       "             distance    duration  month\n",
       "user_id                                 \n",
       "1        34070.182066  204.604909     99\n",
       "2        33964.058614  197.644279     67\n",
       "3        36907.597866  233.193513     66\n",
       "4        44837.189916  288.563581    107\n",
       "5        35556.949649  174.073932     51\n",
       "...               ...         ...    ...\n",
       "1530     46758.469822  292.366839    104\n",
       "1531     67054.794222  408.192206    142\n",
       "1532     33902.203192  212.160144    111\n",
       "1533     36890.192211  240.580297     65\n",
       "1534     41898.442847  229.835127    100\n",
       "\n",
       "[1534 rows x 3 columns]"
      ]
     },
     "execution_count": 31,
     "metadata": {},
     "output_type": "execute_result"
    }
   ],
   "source": [
    "data_rides_go.groupby(['user_id']).sum(['distance'])"
   ]
  },
  {
   "cell_type": "code",
   "execution_count": 32,
   "id": "ab900f86",
   "metadata": {},
   "outputs": [
    {
     "data": {
      "image/png": "[encoded data removed]",
      "text/plain": [
       "<Figure size 432x288 with 1 Axes>"
      ]
     },
     "metadata": {
      "needs_background": "light"
     },
     "output_type": "display_data"
    }
   ],
   "source": [
    "sns.boxplot(x = data_rides_go['duration'], color='red')\n",
    "plt.title('Продолжительность поездок')\n",
    "plt.xlabel('Время')\n",
    "dur = plt.xlim(0, 60)"
   ]
  },
  {
   "cell_type": "code",
   "execution_count": 33,
   "id": "64fdd508",
   "metadata": {},
   "outputs": [
    {
     "data": {
      "text/plain": [
       "Text(0.5, 0, 'Продолжительность')"
      ]
     },
     "execution_count": 33,
     "metadata": {},
     "output_type": "execute_result"
    },
    {
     "data": {
      "image/png": "[encoded data removed]",
      "text/plain": [
       "<Figure size 432x288 with 1 Axes>"
      ]
     },
     "metadata": {
      "needs_background": "light"
     },
     "output_type": "display_data"
    }
   ],
   "source": [
    "data_rides_go['duration'].hist(bins=20, range = (0, 45)).set_xlabel('Продолжительность')"
   ]
  },
  {
   "cell_type": "markdown",
   "id": "53d1ccaf",
   "metadata": {},
   "source": [
    "##### Вывод\n",
    "\n",
    "Частота встречаемости городов\n",
    "\n",
    "Количество пользователей по городам распределено достаточно равномерно. Максимальное количество пользователей в Пятигорске - 219. Меньше всего пользователей в Москве - 168.\n",
    "\n",
    "\n",
    "Соотношение пользователей с подпиской и без подписки\n",
    "\n",
    "Пользователей на бесплатной подписке больше - 835 человек это 54% от общего числа пользователей. На платной подписке - 699 пользователей, это - 46%.\n",
    "\n",
    "\n",
    "Возраст пользователей\n",
    "\n",
    "Основной возраст самокатчиков 25 лет, а основной диапазон от 20 до 30 лет.\n",
    "\n",
    "\n",
    "Расстояние, которое пользователь преодолел за одну поездку\n",
    "\n",
    "В основном пользователи проезжают от 2 км до 5 км. Чаще всего около 3 км.\n",
    "\n",
    "\n",
    "Продолжительность поездок\n",
    "\n",
    "Основная длительность поездок - 12 - 22 минут."
   ]
  },
  {
   "cell_type": "markdown",
   "id": "4ef51331",
   "metadata": {},
   "source": [
    "#### Шаг 4. Объединение данных"
   ]
  },
  {
   "cell_type": "code",
   "execution_count": 34,
   "id": "6bf288b5",
   "metadata": {},
   "outputs": [
    {
     "data": {
      "text/html": [
       "<div>\n",
       "<style scoped>\n",
       "    .dataframe tbody tr th:only-of-type {\n",
       "        vertical-align: middle;\n",
       "    }\n",
       "\n",
       "    .dataframe tbody tr th {\n",
       "        vertical-align: top;\n",
       "    }\n",
       "\n",
       "    .dataframe thead th {\n",
       "        text-align: right;\n",
       "    }\n",
       "</style>\n",
       "<table border=\"1\" class=\"dataframe\">\n",
       "  <thead>\n",
       "    <tr style=\"text-align: right;\">\n",
       "      <th></th>\n",
       "      <th>user_id</th>\n",
       "      <th>name</th>\n",
       "      <th>age</th>\n",
       "      <th>city</th>\n",
       "      <th>subscription_type</th>\n",
       "      <th>distance</th>\n",
       "      <th>duration</th>\n",
       "      <th>date</th>\n",
       "      <th>month</th>\n",
       "      <th>minute_price</th>\n",
       "      <th>start_ride_price</th>\n",
       "      <th>subscription_fee</th>\n",
       "    </tr>\n",
       "  </thead>\n",
       "  <tbody>\n",
       "    <tr>\n",
       "      <th>0</th>\n",
       "      <td>1</td>\n",
       "      <td>Кира</td>\n",
       "      <td>22</td>\n",
       "      <td>Тюмень</td>\n",
       "      <td>ultra</td>\n",
       "      <td>4409.919140</td>\n",
       "      <td>25.599769</td>\n",
       "      <td>2021-01-01</td>\n",
       "      <td>1</td>\n",
       "      <td>6</td>\n",
       "      <td>0</td>\n",
       "      <td>199</td>\n",
       "    </tr>\n",
       "    <tr>\n",
       "      <th>1</th>\n",
       "      <td>1</td>\n",
       "      <td>Кира</td>\n",
       "      <td>22</td>\n",
       "      <td>Тюмень</td>\n",
       "      <td>ultra</td>\n",
       "      <td>2617.592153</td>\n",
       "      <td>15.816871</td>\n",
       "      <td>2021-01-18</td>\n",
       "      <td>1</td>\n",
       "      <td>6</td>\n",
       "      <td>0</td>\n",
       "      <td>199</td>\n",
       "    </tr>\n",
       "    <tr>\n",
       "      <th>2</th>\n",
       "      <td>1</td>\n",
       "      <td>Кира</td>\n",
       "      <td>22</td>\n",
       "      <td>Тюмень</td>\n",
       "      <td>ultra</td>\n",
       "      <td>754.159807</td>\n",
       "      <td>6.232113</td>\n",
       "      <td>2021-04-20</td>\n",
       "      <td>4</td>\n",
       "      <td>6</td>\n",
       "      <td>0</td>\n",
       "      <td>199</td>\n",
       "    </tr>\n",
       "    <tr>\n",
       "      <th>3</th>\n",
       "      <td>1</td>\n",
       "      <td>Кира</td>\n",
       "      <td>22</td>\n",
       "      <td>Тюмень</td>\n",
       "      <td>ultra</td>\n",
       "      <td>2694.783254</td>\n",
       "      <td>18.511000</td>\n",
       "      <td>2021-08-11</td>\n",
       "      <td>8</td>\n",
       "      <td>6</td>\n",
       "      <td>0</td>\n",
       "      <td>199</td>\n",
       "    </tr>\n",
       "    <tr>\n",
       "      <th>4</th>\n",
       "      <td>1</td>\n",
       "      <td>Кира</td>\n",
       "      <td>22</td>\n",
       "      <td>Тюмень</td>\n",
       "      <td>ultra</td>\n",
       "      <td>4028.687306</td>\n",
       "      <td>26.265803</td>\n",
       "      <td>2021-08-28</td>\n",
       "      <td>8</td>\n",
       "      <td>6</td>\n",
       "      <td>0</td>\n",
       "      <td>199</td>\n",
       "    </tr>\n",
       "    <tr>\n",
       "      <th>...</th>\n",
       "      <td>...</td>\n",
       "      <td>...</td>\n",
       "      <td>...</td>\n",
       "      <td>...</td>\n",
       "      <td>...</td>\n",
       "      <td>...</td>\n",
       "      <td>...</td>\n",
       "      <td>...</td>\n",
       "      <td>...</td>\n",
       "      <td>...</td>\n",
       "      <td>...</td>\n",
       "      <td>...</td>\n",
       "    </tr>\n",
       "    <tr>\n",
       "      <th>18063</th>\n",
       "      <td>1534</td>\n",
       "      <td>Альберт</td>\n",
       "      <td>25</td>\n",
       "      <td>Краснодар</td>\n",
       "      <td>free</td>\n",
       "      <td>3781.098080</td>\n",
       "      <td>19.822962</td>\n",
       "      <td>2021-11-04</td>\n",
       "      <td>11</td>\n",
       "      <td>8</td>\n",
       "      <td>50</td>\n",
       "      <td>0</td>\n",
       "    </tr>\n",
       "    <tr>\n",
       "      <th>18064</th>\n",
       "      <td>1534</td>\n",
       "      <td>Альберт</td>\n",
       "      <td>25</td>\n",
       "      <td>Краснодар</td>\n",
       "      <td>free</td>\n",
       "      <td>2840.423057</td>\n",
       "      <td>21.409799</td>\n",
       "      <td>2021-11-16</td>\n",
       "      <td>11</td>\n",
       "      <td>8</td>\n",
       "      <td>50</td>\n",
       "      <td>0</td>\n",
       "    </tr>\n",
       "    <tr>\n",
       "      <th>18065</th>\n",
       "      <td>1534</td>\n",
       "      <td>Альберт</td>\n",
       "      <td>25</td>\n",
       "      <td>Краснодар</td>\n",
       "      <td>free</td>\n",
       "      <td>3826.185507</td>\n",
       "      <td>18.435051</td>\n",
       "      <td>2021-11-18</td>\n",
       "      <td>11</td>\n",
       "      <td>8</td>\n",
       "      <td>50</td>\n",
       "      <td>0</td>\n",
       "    </tr>\n",
       "    <tr>\n",
       "      <th>18066</th>\n",
       "      <td>1534</td>\n",
       "      <td>Альберт</td>\n",
       "      <td>25</td>\n",
       "      <td>Краснодар</td>\n",
       "      <td>free</td>\n",
       "      <td>2902.308661</td>\n",
       "      <td>16.674362</td>\n",
       "      <td>2021-11-27</td>\n",
       "      <td>11</td>\n",
       "      <td>8</td>\n",
       "      <td>50</td>\n",
       "      <td>0</td>\n",
       "    </tr>\n",
       "    <tr>\n",
       "      <th>18067</th>\n",
       "      <td>1534</td>\n",
       "      <td>Альберт</td>\n",
       "      <td>25</td>\n",
       "      <td>Краснодар</td>\n",
       "      <td>free</td>\n",
       "      <td>2371.711192</td>\n",
       "      <td>15.893917</td>\n",
       "      <td>2021-12-29</td>\n",
       "      <td>12</td>\n",
       "      <td>8</td>\n",
       "      <td>50</td>\n",
       "      <td>0</td>\n",
       "    </tr>\n",
       "  </tbody>\n",
       "</table>\n",
       "<p>18068 rows × 12 columns</p>\n",
       "</div>"
      ],
      "text/plain": [
       "       user_id     name  age       city subscription_type     distance  \\\n",
       "0            1     Кира   22     Тюмень             ultra  4409.919140   \n",
       "1            1     Кира   22     Тюмень             ultra  2617.592153   \n",
       "2            1     Кира   22     Тюмень             ultra   754.159807   \n",
       "3            1     Кира   22     Тюмень             ultra  2694.783254   \n",
       "4            1     Кира   22     Тюмень             ultra  4028.687306   \n",
       "...        ...      ...  ...        ...               ...          ...   \n",
       "18063     1534  Альберт   25  Краснодар              free  3781.098080   \n",
       "18064     1534  Альберт   25  Краснодар              free  2840.423057   \n",
       "18065     1534  Альберт   25  Краснодар              free  3826.185507   \n",
       "18066     1534  Альберт   25  Краснодар              free  2902.308661   \n",
       "18067     1534  Альберт   25  Краснодар              free  2371.711192   \n",
       "\n",
       "        duration       date  month  minute_price  start_ride_price  \\\n",
       "0      25.599769 2021-01-01      1             6                 0   \n",
       "1      15.816871 2021-01-18      1             6                 0   \n",
       "2       6.232113 2021-04-20      4             6                 0   \n",
       "3      18.511000 2021-08-11      8             6                 0   \n",
       "4      26.265803 2021-08-28      8             6                 0   \n",
       "...          ...        ...    ...           ...               ...   \n",
       "18063  19.822962 2021-11-04     11             8                50   \n",
       "18064  21.409799 2021-11-16     11             8                50   \n",
       "18065  18.435051 2021-11-18     11             8                50   \n",
       "18066  16.674362 2021-11-27     11             8                50   \n",
       "18067  15.893917 2021-12-29     12             8                50   \n",
       "\n",
       "       subscription_fee  \n",
       "0                   199  \n",
       "1                   199  \n",
       "2                   199  \n",
       "3                   199  \n",
       "4                   199  \n",
       "...                 ...  \n",
       "18063                 0  \n",
       "18064                 0  \n",
       "18065                 0  \n",
       "18066                 0  \n",
       "18067                 0  \n",
       "\n",
       "[18068 rows x 12 columns]"
      ]
     },
     "execution_count": 34,
     "metadata": {},
     "output_type": "execute_result"
    }
   ],
   "source": [
    "complete_data = data_users_go.merge(data_rides_go)\n",
    "complete_data = complete_data.merge(data_subscriptions_go)\n",
    "complete_data"
   ]
  },
  {
   "cell_type": "code",
   "execution_count": 35,
   "id": "dd120549",
   "metadata": {},
   "outputs": [
    {
     "data": {
      "text/html": [
       "<div>\n",
       "<style scoped>\n",
       "    .dataframe tbody tr th:only-of-type {\n",
       "        vertical-align: middle;\n",
       "    }\n",
       "\n",
       "    .dataframe tbody tr th {\n",
       "        vertical-align: top;\n",
       "    }\n",
       "\n",
       "    .dataframe thead th {\n",
       "        text-align: right;\n",
       "    }\n",
       "</style>\n",
       "<table border=\"1\" class=\"dataframe\">\n",
       "  <thead>\n",
       "    <tr style=\"text-align: right;\">\n",
       "      <th></th>\n",
       "      <th>user_id</th>\n",
       "      <th>name</th>\n",
       "      <th>age</th>\n",
       "      <th>city</th>\n",
       "      <th>subscription_type</th>\n",
       "      <th>distance</th>\n",
       "      <th>duration</th>\n",
       "      <th>date</th>\n",
       "      <th>month</th>\n",
       "      <th>minute_price</th>\n",
       "      <th>start_ride_price</th>\n",
       "      <th>subscription_fee</th>\n",
       "    </tr>\n",
       "  </thead>\n",
       "  <tbody>\n",
       "    <tr>\n",
       "      <th>6500</th>\n",
       "      <td>700</td>\n",
       "      <td>Айдар</td>\n",
       "      <td>22</td>\n",
       "      <td>Омск</td>\n",
       "      <td>free</td>\n",
       "      <td>2515.690719</td>\n",
       "      <td>14.944286</td>\n",
       "      <td>2021-01-02</td>\n",
       "      <td>1</td>\n",
       "      <td>8</td>\n",
       "      <td>50</td>\n",
       "      <td>0</td>\n",
       "    </tr>\n",
       "    <tr>\n",
       "      <th>6501</th>\n",
       "      <td>700</td>\n",
       "      <td>Айдар</td>\n",
       "      <td>22</td>\n",
       "      <td>Омск</td>\n",
       "      <td>free</td>\n",
       "      <td>846.932642</td>\n",
       "      <td>16.234663</td>\n",
       "      <td>2021-02-01</td>\n",
       "      <td>2</td>\n",
       "      <td>8</td>\n",
       "      <td>50</td>\n",
       "      <td>0</td>\n",
       "    </tr>\n",
       "    <tr>\n",
       "      <th>6502</th>\n",
       "      <td>700</td>\n",
       "      <td>Айдар</td>\n",
       "      <td>22</td>\n",
       "      <td>Омск</td>\n",
       "      <td>free</td>\n",
       "      <td>4004.434142</td>\n",
       "      <td>20.016628</td>\n",
       "      <td>2021-02-04</td>\n",
       "      <td>2</td>\n",
       "      <td>8</td>\n",
       "      <td>50</td>\n",
       "      <td>0</td>\n",
       "    </tr>\n",
       "    <tr>\n",
       "      <th>6503</th>\n",
       "      <td>700</td>\n",
       "      <td>Айдар</td>\n",
       "      <td>22</td>\n",
       "      <td>Омск</td>\n",
       "      <td>free</td>\n",
       "      <td>1205.911290</td>\n",
       "      <td>9.782872</td>\n",
       "      <td>2021-02-10</td>\n",
       "      <td>2</td>\n",
       "      <td>8</td>\n",
       "      <td>50</td>\n",
       "      <td>0</td>\n",
       "    </tr>\n",
       "    <tr>\n",
       "      <th>6504</th>\n",
       "      <td>700</td>\n",
       "      <td>Айдар</td>\n",
       "      <td>22</td>\n",
       "      <td>Омск</td>\n",
       "      <td>free</td>\n",
       "      <td>3047.379435</td>\n",
       "      <td>17.427673</td>\n",
       "      <td>2021-02-14</td>\n",
       "      <td>2</td>\n",
       "      <td>8</td>\n",
       "      <td>50</td>\n",
       "      <td>0</td>\n",
       "    </tr>\n",
       "    <tr>\n",
       "      <th>...</th>\n",
       "      <td>...</td>\n",
       "      <td>...</td>\n",
       "      <td>...</td>\n",
       "      <td>...</td>\n",
       "      <td>...</td>\n",
       "      <td>...</td>\n",
       "      <td>...</td>\n",
       "      <td>...</td>\n",
       "      <td>...</td>\n",
       "      <td>...</td>\n",
       "      <td>...</td>\n",
       "      <td>...</td>\n",
       "    </tr>\n",
       "    <tr>\n",
       "      <th>18063</th>\n",
       "      <td>1534</td>\n",
       "      <td>Альберт</td>\n",
       "      <td>25</td>\n",
       "      <td>Краснодар</td>\n",
       "      <td>free</td>\n",
       "      <td>3781.098080</td>\n",
       "      <td>19.822962</td>\n",
       "      <td>2021-11-04</td>\n",
       "      <td>11</td>\n",
       "      <td>8</td>\n",
       "      <td>50</td>\n",
       "      <td>0</td>\n",
       "    </tr>\n",
       "    <tr>\n",
       "      <th>18064</th>\n",
       "      <td>1534</td>\n",
       "      <td>Альберт</td>\n",
       "      <td>25</td>\n",
       "      <td>Краснодар</td>\n",
       "      <td>free</td>\n",
       "      <td>2840.423057</td>\n",
       "      <td>21.409799</td>\n",
       "      <td>2021-11-16</td>\n",
       "      <td>11</td>\n",
       "      <td>8</td>\n",
       "      <td>50</td>\n",
       "      <td>0</td>\n",
       "    </tr>\n",
       "    <tr>\n",
       "      <th>18065</th>\n",
       "      <td>1534</td>\n",
       "      <td>Альберт</td>\n",
       "      <td>25</td>\n",
       "      <td>Краснодар</td>\n",
       "      <td>free</td>\n",
       "      <td>3826.185507</td>\n",
       "      <td>18.435051</td>\n",
       "      <td>2021-11-18</td>\n",
       "      <td>11</td>\n",
       "      <td>8</td>\n",
       "      <td>50</td>\n",
       "      <td>0</td>\n",
       "    </tr>\n",
       "    <tr>\n",
       "      <th>18066</th>\n",
       "      <td>1534</td>\n",
       "      <td>Альберт</td>\n",
       "      <td>25</td>\n",
       "      <td>Краснодар</td>\n",
       "      <td>free</td>\n",
       "      <td>2902.308661</td>\n",
       "      <td>16.674362</td>\n",
       "      <td>2021-11-27</td>\n",
       "      <td>11</td>\n",
       "      <td>8</td>\n",
       "      <td>50</td>\n",
       "      <td>0</td>\n",
       "    </tr>\n",
       "    <tr>\n",
       "      <th>18067</th>\n",
       "      <td>1534</td>\n",
       "      <td>Альберт</td>\n",
       "      <td>25</td>\n",
       "      <td>Краснодар</td>\n",
       "      <td>free</td>\n",
       "      <td>2371.711192</td>\n",
       "      <td>15.893917</td>\n",
       "      <td>2021-12-29</td>\n",
       "      <td>12</td>\n",
       "      <td>8</td>\n",
       "      <td>50</td>\n",
       "      <td>0</td>\n",
       "    </tr>\n",
       "  </tbody>\n",
       "</table>\n",
       "<p>11568 rows × 12 columns</p>\n",
       "</div>"
      ],
      "text/plain": [
       "       user_id     name  age       city subscription_type     distance  \\\n",
       "6500       700    Айдар   22       Омск              free  2515.690719   \n",
       "6501       700    Айдар   22       Омск              free   846.932642   \n",
       "6502       700    Айдар   22       Омск              free  4004.434142   \n",
       "6503       700    Айдар   22       Омск              free  1205.911290   \n",
       "6504       700    Айдар   22       Омск              free  3047.379435   \n",
       "...        ...      ...  ...        ...               ...          ...   \n",
       "18063     1534  Альберт   25  Краснодар              free  3781.098080   \n",
       "18064     1534  Альберт   25  Краснодар              free  2840.423057   \n",
       "18065     1534  Альберт   25  Краснодар              free  3826.185507   \n",
       "18066     1534  Альберт   25  Краснодар              free  2902.308661   \n",
       "18067     1534  Альберт   25  Краснодар              free  2371.711192   \n",
       "\n",
       "        duration       date  month  minute_price  start_ride_price  \\\n",
       "6500   14.944286 2021-01-02      1             8                50   \n",
       "6501   16.234663 2021-02-01      2             8                50   \n",
       "6502   20.016628 2021-02-04      2             8                50   \n",
       "6503    9.782872 2021-02-10      2             8                50   \n",
       "6504   17.427673 2021-02-14      2             8                50   \n",
       "...          ...        ...    ...           ...               ...   \n",
       "18063  19.822962 2021-11-04     11             8                50   \n",
       "18064  21.409799 2021-11-16     11             8                50   \n",
       "18065  18.435051 2021-11-18     11             8                50   \n",
       "18066  16.674362 2021-11-27     11             8                50   \n",
       "18067  15.893917 2021-12-29     12             8                50   \n",
       "\n",
       "       subscription_fee  \n",
       "6500                  0  \n",
       "6501                  0  \n",
       "6502                  0  \n",
       "6503                  0  \n",
       "6504                  0  \n",
       "...                 ...  \n",
       "18063                 0  \n",
       "18064                 0  \n",
       "18065                 0  \n",
       "18066                 0  \n",
       "18067                 0  \n",
       "\n",
       "[11568 rows x 12 columns]"
      ]
     },
     "execution_count": 35,
     "metadata": {},
     "output_type": "execute_result"
    }
   ],
   "source": [
    "free_subscription = complete_data.query(\"subscription_type == 'free'\") # таблица по бесплатным подпискам\n",
    "free_subscription"
   ]
  },
  {
   "cell_type": "code",
   "execution_count": 36,
   "id": "a78563fd",
   "metadata": {},
   "outputs": [
    {
     "data": {
      "text/html": [
       "<div>\n",
       "<style scoped>\n",
       "    .dataframe tbody tr th:only-of-type {\n",
       "        vertical-align: middle;\n",
       "    }\n",
       "\n",
       "    .dataframe tbody tr th {\n",
       "        vertical-align: top;\n",
       "    }\n",
       "\n",
       "    .dataframe thead th {\n",
       "        text-align: right;\n",
       "    }\n",
       "</style>\n",
       "<table border=\"1\" class=\"dataframe\">\n",
       "  <thead>\n",
       "    <tr style=\"text-align: right;\">\n",
       "      <th></th>\n",
       "      <th>user_id</th>\n",
       "      <th>name</th>\n",
       "      <th>age</th>\n",
       "      <th>city</th>\n",
       "      <th>subscription_type</th>\n",
       "      <th>distance</th>\n",
       "      <th>duration</th>\n",
       "      <th>date</th>\n",
       "      <th>month</th>\n",
       "      <th>minute_price</th>\n",
       "      <th>start_ride_price</th>\n",
       "      <th>subscription_fee</th>\n",
       "    </tr>\n",
       "  </thead>\n",
       "  <tbody>\n",
       "    <tr>\n",
       "      <th>0</th>\n",
       "      <td>1</td>\n",
       "      <td>Кира</td>\n",
       "      <td>22</td>\n",
       "      <td>Тюмень</td>\n",
       "      <td>ultra</td>\n",
       "      <td>4409.919140</td>\n",
       "      <td>25.599769</td>\n",
       "      <td>2021-01-01</td>\n",
       "      <td>1</td>\n",
       "      <td>6</td>\n",
       "      <td>0</td>\n",
       "      <td>199</td>\n",
       "    </tr>\n",
       "    <tr>\n",
       "      <th>1</th>\n",
       "      <td>1</td>\n",
       "      <td>Кира</td>\n",
       "      <td>22</td>\n",
       "      <td>Тюмень</td>\n",
       "      <td>ultra</td>\n",
       "      <td>2617.592153</td>\n",
       "      <td>15.816871</td>\n",
       "      <td>2021-01-18</td>\n",
       "      <td>1</td>\n",
       "      <td>6</td>\n",
       "      <td>0</td>\n",
       "      <td>199</td>\n",
       "    </tr>\n",
       "    <tr>\n",
       "      <th>2</th>\n",
       "      <td>1</td>\n",
       "      <td>Кира</td>\n",
       "      <td>22</td>\n",
       "      <td>Тюмень</td>\n",
       "      <td>ultra</td>\n",
       "      <td>754.159807</td>\n",
       "      <td>6.232113</td>\n",
       "      <td>2021-04-20</td>\n",
       "      <td>4</td>\n",
       "      <td>6</td>\n",
       "      <td>0</td>\n",
       "      <td>199</td>\n",
       "    </tr>\n",
       "    <tr>\n",
       "      <th>3</th>\n",
       "      <td>1</td>\n",
       "      <td>Кира</td>\n",
       "      <td>22</td>\n",
       "      <td>Тюмень</td>\n",
       "      <td>ultra</td>\n",
       "      <td>2694.783254</td>\n",
       "      <td>18.511000</td>\n",
       "      <td>2021-08-11</td>\n",
       "      <td>8</td>\n",
       "      <td>6</td>\n",
       "      <td>0</td>\n",
       "      <td>199</td>\n",
       "    </tr>\n",
       "    <tr>\n",
       "      <th>4</th>\n",
       "      <td>1</td>\n",
       "      <td>Кира</td>\n",
       "      <td>22</td>\n",
       "      <td>Тюмень</td>\n",
       "      <td>ultra</td>\n",
       "      <td>4028.687306</td>\n",
       "      <td>26.265803</td>\n",
       "      <td>2021-08-28</td>\n",
       "      <td>8</td>\n",
       "      <td>6</td>\n",
       "      <td>0</td>\n",
       "      <td>199</td>\n",
       "    </tr>\n",
       "    <tr>\n",
       "      <th>...</th>\n",
       "      <td>...</td>\n",
       "      <td>...</td>\n",
       "      <td>...</td>\n",
       "      <td>...</td>\n",
       "      <td>...</td>\n",
       "      <td>...</td>\n",
       "      <td>...</td>\n",
       "      <td>...</td>\n",
       "      <td>...</td>\n",
       "      <td>...</td>\n",
       "      <td>...</td>\n",
       "      <td>...</td>\n",
       "    </tr>\n",
       "    <tr>\n",
       "      <th>6495</th>\n",
       "      <td>699</td>\n",
       "      <td>Оксана</td>\n",
       "      <td>22</td>\n",
       "      <td>Москва</td>\n",
       "      <td>ultra</td>\n",
       "      <td>3973.046497</td>\n",
       "      <td>24.671163</td>\n",
       "      <td>2021-08-29</td>\n",
       "      <td>8</td>\n",
       "      <td>6</td>\n",
       "      <td>0</td>\n",
       "      <td>199</td>\n",
       "    </tr>\n",
       "    <tr>\n",
       "      <th>6496</th>\n",
       "      <td>699</td>\n",
       "      <td>Оксана</td>\n",
       "      <td>22</td>\n",
       "      <td>Москва</td>\n",
       "      <td>ultra</td>\n",
       "      <td>3288.702563</td>\n",
       "      <td>15.892886</td>\n",
       "      <td>2021-09-12</td>\n",
       "      <td>9</td>\n",
       "      <td>6</td>\n",
       "      <td>0</td>\n",
       "      <td>199</td>\n",
       "    </tr>\n",
       "    <tr>\n",
       "      <th>6497</th>\n",
       "      <td>699</td>\n",
       "      <td>Оксана</td>\n",
       "      <td>22</td>\n",
       "      <td>Москва</td>\n",
       "      <td>ultra</td>\n",
       "      <td>3076.159348</td>\n",
       "      <td>14.389525</td>\n",
       "      <td>2021-09-26</td>\n",
       "      <td>9</td>\n",
       "      <td>6</td>\n",
       "      <td>0</td>\n",
       "      <td>199</td>\n",
       "    </tr>\n",
       "    <tr>\n",
       "      <th>6498</th>\n",
       "      <td>699</td>\n",
       "      <td>Оксана</td>\n",
       "      <td>22</td>\n",
       "      <td>Москва</td>\n",
       "      <td>ultra</td>\n",
       "      <td>4707.845501</td>\n",
       "      <td>15.839579</td>\n",
       "      <td>2021-10-17</td>\n",
       "      <td>10</td>\n",
       "      <td>6</td>\n",
       "      <td>0</td>\n",
       "      <td>199</td>\n",
       "    </tr>\n",
       "    <tr>\n",
       "      <th>6499</th>\n",
       "      <td>699</td>\n",
       "      <td>Оксана</td>\n",
       "      <td>22</td>\n",
       "      <td>Москва</td>\n",
       "      <td>ultra</td>\n",
       "      <td>3202.890770</td>\n",
       "      <td>25.217345</td>\n",
       "      <td>2021-12-03</td>\n",
       "      <td>12</td>\n",
       "      <td>6</td>\n",
       "      <td>0</td>\n",
       "      <td>199</td>\n",
       "    </tr>\n",
       "  </tbody>\n",
       "</table>\n",
       "<p>6500 rows × 12 columns</p>\n",
       "</div>"
      ],
      "text/plain": [
       "      user_id    name  age    city subscription_type     distance   duration  \\\n",
       "0           1    Кира   22  Тюмень             ultra  4409.919140  25.599769   \n",
       "1           1    Кира   22  Тюмень             ultra  2617.592153  15.816871   \n",
       "2           1    Кира   22  Тюмень             ultra   754.159807   6.232113   \n",
       "3           1    Кира   22  Тюмень             ultra  2694.783254  18.511000   \n",
       "4           1    Кира   22  Тюмень             ultra  4028.687306  26.265803   \n",
       "...       ...     ...  ...     ...               ...          ...        ...   \n",
       "6495      699  Оксана   22  Москва             ultra  3973.046497  24.671163   \n",
       "6496      699  Оксана   22  Москва             ultra  3288.702563  15.892886   \n",
       "6497      699  Оксана   22  Москва             ultra  3076.159348  14.389525   \n",
       "6498      699  Оксана   22  Москва             ultra  4707.845501  15.839579   \n",
       "6499      699  Оксана   22  Москва             ultra  3202.890770  25.217345   \n",
       "\n",
       "           date  month  minute_price  start_ride_price  subscription_fee  \n",
       "0    2021-01-01      1             6                 0               199  \n",
       "1    2021-01-18      1             6                 0               199  \n",
       "2    2021-04-20      4             6                 0               199  \n",
       "3    2021-08-11      8             6                 0               199  \n",
       "4    2021-08-28      8             6                 0               199  \n",
       "...         ...    ...           ...               ...               ...  \n",
       "6495 2021-08-29      8             6                 0               199  \n",
       "6496 2021-09-12      9             6                 0               199  \n",
       "6497 2021-09-26      9             6                 0               199  \n",
       "6498 2021-10-17     10             6                 0               199  \n",
       "6499 2021-12-03     12             6                 0               199  \n",
       "\n",
       "[6500 rows x 12 columns]"
      ]
     },
     "execution_count": 36,
     "metadata": {},
     "output_type": "execute_result"
    }
   ],
   "source": [
    "ultra_subscription = complete_data.query(\"subscription_type == 'ultra'\") # таблица по платным подпискам\n",
    "ultra_subscription"
   ]
  },
  {
   "cell_type": "code",
   "execution_count": 37,
   "id": "cd0aabf5",
   "metadata": {},
   "outputs": [
    {
     "data": {
      "image/png": "[encoded data removed]",
      "text/plain": [
       "<Figure size 432x288 with 1 Axes>"
      ]
     },
     "metadata": {
      "needs_background": "light"
     },
     "output_type": "display_data"
    },
    {
     "data": {
      "text/plain": [
       "<Figure size 1800x1800 with 0 Axes>"
      ]
     },
     "metadata": {},
     "output_type": "display_data"
    }
   ],
   "source": [
    "plt.hist(free_subscription['distance'], bins=50, range = (0, 8000))\n",
    "plt.title('Расстояние по бесплатному тарифу')\n",
    "plt.xlabel('Расстояние')\n",
    "plt.ylabel('Количество поездок')\n",
    "plt.figure(figsize=(25, 25))\n",
    "plt.show()"
   ]
  },
  {
   "cell_type": "code",
   "execution_count": 38,
   "id": "a81070f0",
   "metadata": {},
   "outputs": [
    {
     "data": {
      "image/png": "[encoded data removed]",
      "text/plain": [
       "<Figure size 432x288 with 1 Axes>"
      ]
     },
     "metadata": {
      "needs_background": "light"
     },
     "output_type": "display_data"
    },
    {
     "data": {
      "text/plain": [
       "<Figure size 1440x1440 with 0 Axes>"
      ]
     },
     "metadata": {},
     "output_type": "display_data"
    }
   ],
   "source": [
    "plt.hist(free_subscription['duration'], bins=50, range = (0, 50))\n",
    "plt.title('Время по бесплатному тарифу')\n",
    "plt.xlabel('Время поездки')\n",
    "plt.ylabel('Количество поездок')\n",
    "plt.figure(figsize=(20, 20))\n",
    "plt.show()"
   ]
  },
  {
   "cell_type": "code",
   "execution_count": 39,
   "id": "9cfd31d7",
   "metadata": {},
   "outputs": [
    {
     "data": {
      "image/png": "[encoded data removed]",
      "text/plain": [
       "<Figure size 432x288 with 1 Axes>"
      ]
     },
     "metadata": {
      "needs_background": "light"
     },
     "output_type": "display_data"
    },
    {
     "data": {
      "text/plain": [
       "<Figure size 1440x1440 with 0 Axes>"
      ]
     },
     "metadata": {},
     "output_type": "display_data"
    }
   ],
   "source": [
    "plt.hist(ultra_subscription['duration'], bins=50, range = (0, 45))\n",
    "plt.title('Время по платному тарифу')\n",
    "plt.xlabel('Время поездки')\n",
    "plt.ylabel('Количество поездок')\n",
    "plt.figure(figsize=(20, 20))\n",
    "plt.show()"
   ]
  },
  {
   "cell_type": "code",
   "execution_count": 40,
   "id": "6dfab240",
   "metadata": {},
   "outputs": [
    {
     "data": {
      "image/png": "[encoded data removed]",
      "text/plain": [
       "<Figure size 432x288 with 1 Axes>"
      ]
     },
     "metadata": {
      "needs_background": "light"
     },
     "output_type": "display_data"
    },
    {
     "data": {
      "text/plain": [
       "<Figure size 1440x1440 with 0 Axes>"
      ]
     },
     "metadata": {},
     "output_type": "display_data"
    }
   ],
   "source": [
    "plt.hist(ultra_subscription['distance'], bins=40, range = (0, 6000))\n",
    "plt.title('Расстояние по платному тарифу')\n",
    "plt.xlabel('Расстояние')\n",
    "plt.ylabel('Количество поездок')\n",
    "plt.figure(figsize=(20, 20))\n",
    "plt.show()"
   ]
  },
  {
   "cell_type": "markdown",
   "id": "38ee5077",
   "metadata": {},
   "source": [
    "##### Вывод\n",
    "\n",
    "Объединили данные о пользователях, поездках и тарифах в один датафрейм - complete_data.\n",
    "\n",
    "Выделили два датафрейма на основе нового единого датафрейма complete_data:\n",
    "\n",
    "free_subscription - таблица о пользователях с бесплатным тарифом\n",
    "ultra_subscription - таблица о пользователях с платным тарифом\n",
    "\n",
    "Визуализировали информацию о расстоянии и времени для каждого из тарифов.\n",
    "\n",
    "Бесплатный тариф:\n",
    "Для бесплатного тарифа время поездки составляет от 10 до 35 минут, и проезжают от 2 до 7 км,\n",
    "\n",
    "Платный тариф:\n",
    "Длительность поездок - от 15 до 40 минут, чаще всего около 20 минут. Расстояние - 3км чаще всего, от 2 до 4.5 км самый распространненый диапазон.\n",
    "\n",
    "Можно сделать вывод, что пользователи с платным тарифом совершают более долгие поездки, но пользователи с бесплатным тарифом проезжают большее расстояние в среднем."
   ]
  },
  {
   "cell_type": "markdown",
   "id": "402d620f",
   "metadata": {},
   "source": [
    "#### Шаг 5. Подсчёт выручки"
   ]
  },
  {
   "cell_type": "code",
   "execution_count": 41,
   "id": "ee4cebbb",
   "metadata": {},
   "outputs": [],
   "source": [
    "complete_data['duration'] = np.ceil(complete_data['duration'])"
   ]
  },
  {
   "cell_type": "code",
   "execution_count": 42,
   "id": "64287ee0",
   "metadata": {},
   "outputs": [],
   "source": [
    "total_data = pd.pivot_table(complete_data,\n",
    "                           index=['month', 'user_id'],\n",
    "                           values = ['distance', 'duration', 'name', 'subscription_type'],\n",
    "                           aggfunc = {'distance': sum, \n",
    "                                      'duration' : sum, \n",
    "                                      'name' : len, \n",
    "                                      'subscription_type' : min})"
   ]
  },
  {
   "cell_type": "code",
   "execution_count": 43,
   "id": "1fba6266",
   "metadata": {},
   "outputs": [],
   "source": [
    "def calculating_revenue(i): \n",
    "    if i['subscription_type'] == 'ultra':\n",
    "        return 6 * i['duration'] + 199\n",
    "    elif i['subscription_type'] == 'free':\n",
    "        return 8 * i['duration'] + 50 * i['name']\n",
    "    else:\n",
    "        return 'None'"
   ]
  },
  {
   "cell_type": "code",
   "execution_count": 44,
   "id": "f464eb84",
   "metadata": {},
   "outputs": [],
   "source": [
    "total_data['monthly_revenue'] = total_data.apply(calculating_revenue, axis=1)"
   ]
  },
  {
   "cell_type": "code",
   "execution_count": 45,
   "id": "6fe528ec",
   "metadata": {},
   "outputs": [
    {
     "data": {
      "text/html": [
       "<div>\n",
       "<style scoped>\n",
       "    .dataframe tbody tr th:only-of-type {\n",
       "        vertical-align: middle;\n",
       "    }\n",
       "\n",
       "    .dataframe tbody tr th {\n",
       "        vertical-align: top;\n",
       "    }\n",
       "\n",
       "    .dataframe thead th {\n",
       "        text-align: right;\n",
       "    }\n",
       "</style>\n",
       "<table border=\"1\" class=\"dataframe\">\n",
       "  <thead>\n",
       "    <tr style=\"text-align: right;\">\n",
       "      <th></th>\n",
       "      <th></th>\n",
       "      <th>distance</th>\n",
       "      <th>duration</th>\n",
       "      <th>name</th>\n",
       "      <th>subscription_type</th>\n",
       "      <th>monthly_revenue</th>\n",
       "    </tr>\n",
       "    <tr>\n",
       "      <th>month</th>\n",
       "      <th>user_id</th>\n",
       "      <th></th>\n",
       "      <th></th>\n",
       "      <th></th>\n",
       "      <th></th>\n",
       "      <th></th>\n",
       "    </tr>\n",
       "  </thead>\n",
       "  <tbody>\n",
       "    <tr>\n",
       "      <th rowspan=\"10\" valign=\"top\">1</th>\n",
       "      <th>1</th>\n",
       "      <td>7027.511294</td>\n",
       "      <td>42.0</td>\n",
       "      <td>2</td>\n",
       "      <td>ultra</td>\n",
       "      <td>451.0</td>\n",
       "    </tr>\n",
       "    <tr>\n",
       "      <th>1061</th>\n",
       "      <td>12637.249630</td>\n",
       "      <td>43.0</td>\n",
       "      <td>3</td>\n",
       "      <td>free</td>\n",
       "      <td>494.0</td>\n",
       "    </tr>\n",
       "    <tr>\n",
       "      <th>1063</th>\n",
       "      <td>3276.362299</td>\n",
       "      <td>10.0</td>\n",
       "      <td>1</td>\n",
       "      <td>free</td>\n",
       "      <td>130.0</td>\n",
       "    </tr>\n",
       "    <tr>\n",
       "      <th>1064</th>\n",
       "      <td>5297.324649</td>\n",
       "      <td>15.0</td>\n",
       "      <td>1</td>\n",
       "      <td>free</td>\n",
       "      <td>170.0</td>\n",
       "    </tr>\n",
       "    <tr>\n",
       "      <th>1065</th>\n",
       "      <td>14547.099333</td>\n",
       "      <td>99.0</td>\n",
       "      <td>4</td>\n",
       "      <td>free</td>\n",
       "      <td>992.0</td>\n",
       "    </tr>\n",
       "    <tr>\n",
       "      <th>1066</th>\n",
       "      <td>2809.064949</td>\n",
       "      <td>19.0</td>\n",
       "      <td>1</td>\n",
       "      <td>free</td>\n",
       "      <td>202.0</td>\n",
       "    </tr>\n",
       "    <tr>\n",
       "      <th>1067</th>\n",
       "      <td>3864.900780</td>\n",
       "      <td>22.0</td>\n",
       "      <td>1</td>\n",
       "      <td>free</td>\n",
       "      <td>226.0</td>\n",
       "    </tr>\n",
       "    <tr>\n",
       "      <th>1069</th>\n",
       "      <td>7007.076943</td>\n",
       "      <td>53.0</td>\n",
       "      <td>3</td>\n",
       "      <td>free</td>\n",
       "      <td>574.0</td>\n",
       "    </tr>\n",
       "    <tr>\n",
       "      <th>1071</th>\n",
       "      <td>3635.094136</td>\n",
       "      <td>15.0</td>\n",
       "      <td>1</td>\n",
       "      <td>free</td>\n",
       "      <td>170.0</td>\n",
       "    </tr>\n",
       "    <tr>\n",
       "      <th>1072</th>\n",
       "      <td>2498.615999</td>\n",
       "      <td>11.0</td>\n",
       "      <td>1</td>\n",
       "      <td>free</td>\n",
       "      <td>138.0</td>\n",
       "    </tr>\n",
       "  </tbody>\n",
       "</table>\n",
       "</div>"
      ],
      "text/plain": [
       "                   distance  duration  name subscription_type  monthly_revenue\n",
       "month user_id                                                                 \n",
       "1     1         7027.511294      42.0     2             ultra            451.0\n",
       "      1061     12637.249630      43.0     3              free            494.0\n",
       "      1063      3276.362299      10.0     1              free            130.0\n",
       "      1064      5297.324649      15.0     1              free            170.0\n",
       "      1065     14547.099333      99.0     4              free            992.0\n",
       "      1066      2809.064949      19.0     1              free            202.0\n",
       "      1067      3864.900780      22.0     1              free            226.0\n",
       "      1069      7007.076943      53.0     3              free            574.0\n",
       "      1071      3635.094136      15.0     1              free            170.0\n",
       "      1072      2498.615999      11.0     1              free            138.0"
      ]
     },
     "execution_count": 45,
     "metadata": {},
     "output_type": "execute_result"
    }
   ],
   "source": [
    "total_data.sort_values(by='month').head(10)"
   ]
  },
  {
   "cell_type": "code",
   "execution_count": 50,
   "id": "327d1f27",
   "metadata": {},
   "outputs": [
    {
     "data": {
      "text/plain": [
       "subscription_type\n",
       "free     328.641365\n",
       "ultra    362.792191\n",
       "Name: monthly_revenue, dtype: float64"
      ]
     },
     "execution_count": 50,
     "metadata": {},
     "output_type": "execute_result"
    }
   ],
   "source": [
    "# Код ревьюера\n",
    "total_data.groupby('subscription_type')['monthly_revenue'].mean()"
   ]
  },
  {
   "cell_type": "markdown",
   "id": "0c28fadc",
   "metadata": {},
   "source": [
    "##### Вывод\n",
    "\n",
    "Создали новый датафрейм с агрегированными данными - revenue_calculation на основе датафрейма с объединенными данными.\n",
    "\n",
    "Нашли суммарное расстояние, количество поездок и суммарное время для каждого пользователя за каждый месяц. Добавили столбец с помощью функции с помесячной выручкой по пользователям."
   ]
  },
  {
   "cell_type": "markdown",
   "id": "41545ac0",
   "metadata": {},
   "source": [
    "#### Шаг 6. Проверка гипотез"
   ]
  },
  {
   "cell_type": "markdown",
   "id": "8f53dae2",
   "metadata": {},
   "source": [
    "##### Важно понять, тратят ли пользователи с подпиской больше времени на поездки? Если да, то пользователи с подпиской могут быть «выгоднее» для компании. Проверьте гипотезу. Используйте исходные данные о продолжительности каждой сессии — отдельно для подписчиков и тех, у кого нет подписки.\n",
    "\n",
    "Проверка гипотезы: пользователи с подпиской тратят больше времени на поездки, чем пользователи на бесплатном тарифе.\n",
    "\n",
    "H0: Продолжительность (duration) пользователей с подпиской ultra = время (duration) пользователей с подпиской free\n",
    "\n",
    "H1: Продолжительность (duration) пользователей с подпиской ultra > время (duration) пользователей с подпиской free"
   ]
  },
  {
   "cell_type": "code",
   "execution_count": 46,
   "id": "49ba30e9",
   "metadata": {},
   "outputs": [
    {
     "name": "stdout",
     "output_type": "stream",
     "text": [
      "1.2804098316645618e-34\n",
      "Отвергаем нулевую гипотезу\n"
     ]
    }
   ],
   "source": [
    "free = free_subscription['duration']\n",
    "ultra = ultra_subscription['duration'] \n",
    "\n",
    "results = st.ttest_ind(ultra, \n",
    "                       free,\n",
    "                       alternative = 'greater')\n",
    "alpha = 0.05\n",
    "\n",
    "print(results.pvalue)\n",
    "\n",
    "if results.pvalue < alpha:\n",
    "    print('Отвергаем нулевую гипотезу')\n",
    "else:\n",
    "    print('Не удалось отвергнуть нулевую гипотезу')"
   ]
  },
  {
   "cell_type": "code",
   "execution_count": 47,
   "id": "32e96217",
   "metadata": {},
   "outputs": [
    {
     "data": {
      "image/png": "[encoded data removed]",
      "text/plain": [
       "<Figure size 432x288 with 1 Axes>"
      ]
     },
     "metadata": {
      "needs_background": "light"
     },
     "output_type": "display_data"
    }
   ],
   "source": [
    "ax = sns.barplot(x = 'month',\n",
    "            y = 'duration',\n",
    "            hue = \"subscription_type\",\n",
    "            data = complete_data,\n",
    "            palette = ['orange', 'grey'])\n",
    "ax.set_title('Распределение продолжительности поездок по подпискам и месяцам')\n",
    "ax.set(xlabel='Номер месяца', ylabel='Продолжительность');"
   ]
  },
  {
   "cell_type": "markdown",
   "id": "d3778257",
   "metadata": {},
   "source": [
    "###### Вывод\n",
    "\n",
    "Проверили гипотезу, отвергли нулевую гипотезу о том, что время поездки пользователей на тарифе ultra равно времени поездки пользователей на тарифе free"
   ]
  },
  {
   "cell_type": "markdown",
   "id": "87218b6d",
   "metadata": {},
   "source": [
    "##### Расстояние одной поездки в 3130 метров — оптимальное с точки зрения износа самоката. Можно ли сказать, что среднее расстояние, которое проезжают пользователи с подпиской за одну поездку, не превышает 3130 метров? Проверьте гипотезу и сделайте выводы.\n",
    "\n",
    "Проверка гипотезы: пользователи с подпиской проезжают расстояние, не превышающее 3130 метров за одну поездку.\n",
    "\n",
    "H0: Расстояние (distance) пользователей на подписке ultra = 3130 метров\n",
    "\n",
    "H1: Расстояние (distance) пользователей на подписке ultra > 3130 метров"
   ]
  },
  {
   "cell_type": "code",
   "execution_count": 48,
   "id": "23ca119b",
   "metadata": {},
   "outputs": [
    {
     "name": "stdout",
     "output_type": "stream",
     "text": [
      "0.9195368847849785\n",
      "Не удалось отвергнуть нулевую гипотезу\n"
     ]
    }
   ],
   "source": [
    "ultra_distance = ultra_subscription['distance']\n",
    "\n",
    "interested_value = 3130.0\n",
    "\n",
    "alpha = 0.05\n",
    "\n",
    "results = st.ttest_1samp(\n",
    "    ultra_distance, \n",
    "    interested_value,\n",
    "    alternative = 'greater')\n",
    "    \n",
    "print(results.pvalue)\n",
    "\n",
    "if (results.pvalue < alpha):\n",
    "    print('Отвергаем нулевую гипотезу')\n",
    "else:\n",
    "    print('Не удалось отвергнуть нулевую гипотезу')"
   ]
  },
  {
   "cell_type": "markdown",
   "id": "ed50e043",
   "metadata": {},
   "source": [
    "###### Вывод\n",
    "\n",
    "После проверки гипотезы мы не можем утверждать, что расстояние, которое проехали пользователи на тарифе ultra не превышает 3130 метров, что не является оптимальным износом самоката за одну поездку."
   ]
  },
  {
   "cell_type": "markdown",
   "id": "e6acc01b",
   "metadata": {},
   "source": [
    "##### Проверьте гипотезу о том, будет ли помесячная выручка от пользователей с подпиской по месяцам выше, чем выручка от пользователей без подписки. Сделайте вывод."
   ]
  },
  {
   "cell_type": "markdown",
   "id": "0e3fc0e0",
   "metadata": {},
   "source": [
    "Проверка гипотезы: помесячная выручка от пользователей с подпиской выше, чем выручка от пользователей без подписки\n",
    "\n",
    "H0: Выручка (monthly_revenue) пользователей на подписке ultra = выручка (monthly_revenue) пользователей на подписке free\n",
    "\n",
    "H1: Выручка (monthly_revenue) пользователей на подписке ultra > выручка (monthly_revenue) пользователей на подписке free"
   ]
  },
  {
   "cell_type": "code",
   "execution_count": 49,
   "id": "1bd3cd6a",
   "metadata": {},
   "outputs": [
    {
     "name": "stdout",
     "output_type": "stream",
     "text": [
      "1.8850394384715216e-31\n",
      "Отвергаем нулевую гипотезу\n"
     ]
    }
   ],
   "source": [
    "ultra_month = total_data.loc[total_data.subscription_type == 'ultra', 'monthly_revenue'] \n",
    "free_month = total_data.loc[total_data.subscription_type == 'free', 'monthly_revenue'] \n",
    "\n",
    "\n",
    "results = st.ttest_ind(ultra_month, \n",
    "                       free_month,\n",
    "                       alternative = 'greater')\n",
    "\n",
    "alpha = 0.05\n",
    "\n",
    "print(results.pvalue)\n",
    "\n",
    "if results.pvalue < alpha:\n",
    "    print('Отвергаем нулевую гипотезу')\n",
    "else:\n",
    "    print('Не удалось отвергнуть нулевую гипотезу')"
   ]
  },
  {
   "cell_type": "markdown",
   "id": "634a2111",
   "metadata": {},
   "source": [
    "###### Вывод\n",
    "\n",
    "После проверки гипотезу мы можем утверждать, что выручка с пользователей на подписке ultra превышает выручку с пользователей на подписке free"
   ]
  },
  {
   "cell_type": "markdown",
   "id": "1899595c",
   "metadata": {},
   "source": [
    "##### Представьте такую ситуацию: техническая команда сервиса обновила сервера, с которыми взаимодействует мобильное приложение. Она надеется, что из-за этого количество обращений в техподдержку значимо снизилось. Некоторый файл содержит для каждого пользователя данные о количестве обращений до обновления и после него. Какой тест вам понадобился бы для проверки этой гипотезы?"
   ]
  },
  {
   "cell_type": "markdown",
   "id": "1ed62ff5",
   "metadata": {},
   "source": [
    "В такой задаче логично использовать гипотезу о равенстве средних для зависимых (парных) выборок.\n",
    "\n",
    "Гипотезы:\n",
    "\n",
    "H0 : μ1 = μ2\n",
    "\n",
    "H1 : μ1 != μ2\n",
    "\n",
    "Где:\n",
    "μ1 и μ2 - средние значения количество обращений в техподдержку до и после изменения.\n",
    "\n",
    "scipy.stats.ttest_rel() - нужный метод для сравнения."
   ]
  },
  {
   "cell_type": "markdown",
   "id": "efb3f718",
   "metadata": {},
   "source": [
    "##### Общий вывод\n",
    "Были загружены 3 датафрейма: с пользователями, информацией о поездках, информацией о подписках.\n",
    "\n",
    "Изменили тип данных у столбца date из датафрейма data_rides_go к типу даты. Добавили столбец month с номером месяца. Были удалены дубликаты строк из датафрейма с пользователями.\n",
    "\n",
    "В исследовательском анализе данных:\n",
    "\n",
    "Выявлено:\n",
    "Количество пользователей по городам распределено достаточно равномерно, без выбросов.\n",
    "Пользователей, использующих бесплатную подписку больше - 835 человек, что является 54% от общего числа пользователей. На платной подписке сидит 699 пользователей, что соответственно является 46%.\n",
    "Возраст пользователей - Основной возраст самокатчиков 25 лет, а основной диапазон от 20 до 30 лет.\n",
    "Расстояние, которое пользователь преодолел за одну поездку - В основном пользователи проезжают от 2 км до 5 км. Чаще всего около 3 км.\n",
    "Продолжительность поездок - Основная длительность поездок - 12 - 22 минут.\n",
    "\n",
    "Объединили данные о пользователях, поездках и подписках в один датафрейм. На основе объединенного датафрейма создано еще 2 датафрейма:\n",
    "Для пользователей с ultra подпиской\n",
    "Для пользователей с free подпиской\n",
    "Визуализировали информацию о расстоянии и времени поездки для пользоватей каждого тарифа.\n",
    "\n",
    "Бесплатный тариф:\n",
    "Для бесплатного тарифа время поездки составляет от 10 до 35 минут, и проезжают от 2 до 7 км,\n",
    "\n",
    "Платный тариф:\n",
    "Длительность поездок - от 15 до 40 минут, чаще всего около 20 минут. Расстояние - 3км чаще всего, от 2 до 4.5 км самый распространненый диапазон.\n",
    "\n",
    "Сделали вывод, что пользователи с платным тарифом совершают более долгие поездки, но пользователи с бесплатным тарифом проезжают большее расстояние в среднем.\n",
    "\n",
    "Нашли суммарное расстояние, количество поездок и суммарное время для каждого пользователя за каждый месяц - вывели все данные в отдельный датафрейм complete_data. Добавили в датафрейм complete_data столбец с помесячной выручкой monthly_revenue.\n",
    "\n",
    "Проверили гипотезы:\n",
    "\n",
    "Пользователи с подпиской тратят больше времени на поездки, чем пользователи на бесплатном тарифе\n",
    "Отвергли нулевую гипотезу\n",
    "Пользователи с подпиской проезжают расстояние, не превышающее 3130 метров за одну поездку\n",
    "Не удалось отвергнуть нулевую гипотезу\n",
    "Помесячная выручка от пользователей с подпиской выше, чем выручка от пользователей без подписки\n",
    "Отвергли нулевую гипотезу"
   ]
  }
 ],
 "metadata": {
  "ExecuteTimeLog": [
   {
    "duration": 49,
    "start_time": "2023-08-29T14:37:01.123Z"
   },
   {
    "duration": 1363,
    "start_time": "2023-08-29T14:37:04.952Z"
   },
   {
    "duration": 80,
    "start_time": "2023-08-29T14:37:06.734Z"
   },
   {
    "duration": 29,
    "start_time": "2023-08-29T14:38:09.059Z"
   },
   {
    "duration": 84,
    "start_time": "2023-08-29T14:38:10.934Z"
   },
   {
    "duration": 72,
    "start_time": "2023-08-29T14:38:56.146Z"
   },
   {
    "duration": 15,
    "start_time": "2023-08-29T14:39:35.358Z"
   },
   {
    "duration": 11,
    "start_time": "2023-08-29T14:40:00.326Z"
   },
   {
    "duration": 7,
    "start_time": "2023-08-29T14:40:16.784Z"
   },
   {
    "duration": 43,
    "start_time": "2023-08-29T19:25:22.364Z"
   },
   {
    "duration": 1298,
    "start_time": "2023-08-29T19:25:28.572Z"
   },
   {
    "duration": 87,
    "start_time": "2023-08-29T19:25:29.872Z"
   },
   {
    "duration": 12,
    "start_time": "2023-08-29T19:25:30.314Z"
   },
   {
    "duration": 59,
    "start_time": "2023-08-29T19:25:49.203Z"
   },
   {
    "duration": 85,
    "start_time": "2023-08-29T19:25:51.918Z"
   },
   {
    "duration": 11,
    "start_time": "2023-08-29T19:25:52.385Z"
   },
   {
    "duration": 11,
    "start_time": "2023-08-29T19:25:54.130Z"
   },
   {
    "duration": 9,
    "start_time": "2023-08-29T19:26:10.541Z"
   },
   {
    "duration": 68,
    "start_time": "2023-08-29T19:26:12.608Z"
   },
   {
    "duration": 13,
    "start_time": "2023-08-29T19:26:12.952Z"
   },
   {
    "duration": 7,
    "start_time": "2023-08-29T20:27:38.695Z"
   },
   {
    "duration": 6,
    "start_time": "2023-08-29T20:28:21.278Z"
   },
   {
    "duration": 5,
    "start_time": "2023-08-29T20:29:04.620Z"
   },
   {
    "duration": 5,
    "start_time": "2023-08-29T20:29:09.091Z"
   },
   {
    "duration": 7,
    "start_time": "2023-08-29T20:32:32.371Z"
   },
   {
    "duration": 9,
    "start_time": "2023-08-29T20:33:15.390Z"
   },
   {
    "duration": 12,
    "start_time": "2023-08-29T20:33:45.944Z"
   },
   {
    "duration": 5,
    "start_time": "2023-08-29T20:35:45.799Z"
   },
   {
    "duration": 9,
    "start_time": "2023-08-29T20:42:04.861Z"
   },
   {
    "duration": 6,
    "start_time": "2023-08-29T20:42:13.003Z"
   },
   {
    "duration": 10,
    "start_time": "2023-08-29T20:42:14.188Z"
   },
   {
    "duration": 5,
    "start_time": "2023-08-29T20:42:14.729Z"
   },
   {
    "duration": 1443,
    "start_time": "2023-08-30T07:57:44.864Z"
   },
   {
    "duration": 102,
    "start_time": "2023-08-30T07:57:46.310Z"
   },
   {
    "duration": 12,
    "start_time": "2023-08-30T07:57:46.414Z"
   },
   {
    "duration": 22,
    "start_time": "2023-08-30T07:57:46.428Z"
   },
   {
    "duration": 181,
    "start_time": "2023-08-30T07:57:47.619Z"
   },
   {
    "duration": 12,
    "start_time": "2023-08-30T07:57:47.802Z"
   },
   {
    "duration": 10,
    "start_time": "2023-08-30T07:57:49.089Z"
   },
   {
    "duration": 81,
    "start_time": "2023-08-30T07:57:49.210Z"
   },
   {
    "duration": 11,
    "start_time": "2023-08-30T07:57:50.570Z"
   },
   {
    "duration": 7,
    "start_time": "2023-08-30T07:57:50.682Z"
   },
   {
    "duration": 8,
    "start_time": "2023-08-30T07:57:52.238Z"
   },
   {
    "duration": 6,
    "start_time": "2023-08-30T07:57:53.793Z"
   },
   {
    "duration": 6,
    "start_time": "2023-08-30T07:57:54.400Z"
   },
   {
    "duration": 6,
    "start_time": "2023-08-30T07:57:54.554Z"
   },
   {
    "duration": 8,
    "start_time": "2023-08-30T07:57:55.280Z"
   },
   {
    "duration": 28,
    "start_time": "2023-08-30T07:57:55.290Z"
   },
   {
    "duration": 229,
    "start_time": "2023-08-30T08:02:32.845Z"
   },
   {
    "duration": 4,
    "start_time": "2023-08-30T08:05:15.229Z"
   },
   {
    "duration": 6,
    "start_time": "2023-08-30T08:05:21.529Z"
   },
   {
    "duration": 160,
    "start_time": "2023-08-30T08:08:10.537Z"
   },
   {
    "duration": 152,
    "start_time": "2023-08-30T08:10:08.219Z"
   },
   {
    "duration": 138,
    "start_time": "2023-08-30T08:10:16.652Z"
   },
   {
    "duration": 140,
    "start_time": "2023-08-30T08:10:23.332Z"
   },
   {
    "duration": 6,
    "start_time": "2023-08-30T08:12:47.714Z"
   },
   {
    "duration": 4,
    "start_time": "2023-08-30T08:14:47.085Z"
   },
   {
    "duration": 7,
    "start_time": "2023-08-30T08:14:53.168Z"
   },
   {
    "duration": 123,
    "start_time": "2023-08-30T08:16:58.964Z"
   },
   {
    "duration": 192,
    "start_time": "2023-08-30T08:21:32.756Z"
   },
   {
    "duration": 18,
    "start_time": "2023-08-30T08:21:41.975Z"
   },
   {
    "duration": 1785,
    "start_time": "2023-08-30T08:22:15.531Z"
   },
   {
    "duration": 6,
    "start_time": "2023-08-30T08:22:27.940Z"
   },
   {
    "duration": 6,
    "start_time": "2023-08-30T08:22:36.394Z"
   },
   {
    "duration": 6,
    "start_time": "2023-08-30T08:22:40.669Z"
   },
   {
    "duration": 5,
    "start_time": "2023-08-30T08:22:56.780Z"
   },
   {
    "duration": 96,
    "start_time": "2023-08-30T08:24:42.431Z"
   },
   {
    "duration": 102,
    "start_time": "2023-08-30T08:24:55.122Z"
   },
   {
    "duration": 10,
    "start_time": "2023-08-30T08:25:27.021Z"
   },
   {
    "duration": 120,
    "start_time": "2023-08-30T08:25:28.887Z"
   },
   {
    "duration": 8,
    "start_time": "2023-08-30T08:27:09.768Z"
   },
   {
    "duration": 6,
    "start_time": "2023-08-30T08:27:35.680Z"
   },
   {
    "duration": 151,
    "start_time": "2023-08-30T08:28:15.334Z"
   },
   {
    "duration": 1952,
    "start_time": "2023-08-30T08:33:33.645Z"
   },
   {
    "duration": 14,
    "start_time": "2023-08-30T08:34:27.896Z"
   },
   {
    "duration": 12,
    "start_time": "2023-08-30T08:34:49.021Z"
   },
   {
    "duration": 9,
    "start_time": "2023-08-30T08:35:12.214Z"
   },
   {
    "duration": 11,
    "start_time": "2023-08-30T08:35:24.250Z"
   },
   {
    "duration": 290,
    "start_time": "2023-08-30T08:38:15.201Z"
   },
   {
    "duration": 221,
    "start_time": "2023-08-30T08:44:09.983Z"
   },
   {
    "duration": 185,
    "start_time": "2023-08-30T08:46:03.020Z"
   },
   {
    "duration": 214,
    "start_time": "2023-08-30T08:46:28.313Z"
   },
   {
    "duration": 206,
    "start_time": "2023-08-30T08:46:59.384Z"
   },
   {
    "duration": 211,
    "start_time": "2023-08-30T08:47:25.449Z"
   },
   {
    "duration": 204,
    "start_time": "2023-08-30T08:47:31.169Z"
   },
   {
    "duration": 11,
    "start_time": "2023-08-30T08:48:19.317Z"
   },
   {
    "duration": 10,
    "start_time": "2023-08-30T08:48:39.034Z"
   },
   {
    "duration": 8,
    "start_time": "2023-08-30T08:49:00.585Z"
   },
   {
    "duration": 16,
    "start_time": "2023-08-30T08:50:01.410Z"
   },
   {
    "duration": 5,
    "start_time": "2023-08-30T08:50:31.946Z"
   },
   {
    "duration": 14,
    "start_time": "2023-08-30T08:50:39.574Z"
   },
   {
    "duration": 16,
    "start_time": "2023-08-30T08:50:46.602Z"
   },
   {
    "duration": 21,
    "start_time": "2023-08-30T08:51:22.649Z"
   },
   {
    "duration": 17,
    "start_time": "2023-08-30T08:51:27.013Z"
   },
   {
    "duration": 138,
    "start_time": "2023-08-30T08:52:49.502Z"
   },
   {
    "duration": 145,
    "start_time": "2023-08-30T08:52:56.997Z"
   },
   {
    "duration": 144,
    "start_time": "2023-08-30T08:53:22.994Z"
   },
   {
    "duration": 114,
    "start_time": "2023-08-30T08:53:30.388Z"
   },
   {
    "duration": 32,
    "start_time": "2023-08-30T09:12:46.196Z"
   },
   {
    "duration": 10,
    "start_time": "2023-08-30T09:22:29.975Z"
   },
   {
    "duration": 36,
    "start_time": "2023-08-30T09:22:41.448Z"
   },
   {
    "duration": 121,
    "start_time": "2023-08-30T09:23:44.454Z"
   },
   {
    "duration": 20,
    "start_time": "2023-08-30T09:23:55.699Z"
   },
   {
    "duration": 187,
    "start_time": "2023-08-30T09:32:16.122Z"
   },
   {
    "duration": 207,
    "start_time": "2023-08-30T09:32:22.951Z"
   },
   {
    "duration": 213,
    "start_time": "2023-08-30T09:32:30.949Z"
   },
   {
    "duration": 208,
    "start_time": "2023-08-30T09:33:04.032Z"
   },
   {
    "duration": 209,
    "start_time": "2023-08-30T11:20:51.257Z"
   },
   {
    "duration": 175,
    "start_time": "2023-08-30T11:32:13.628Z"
   },
   {
    "duration": 693,
    "start_time": "2023-08-30T11:32:16.532Z"
   },
   {
    "duration": 175,
    "start_time": "2023-08-30T11:32:37.156Z"
   },
   {
    "duration": 190,
    "start_time": "2023-08-30T11:33:22.096Z"
   },
   {
    "duration": 167,
    "start_time": "2023-08-30T11:44:51.029Z"
   },
   {
    "duration": 854,
    "start_time": "2023-08-30T11:51:29.684Z"
   },
   {
    "duration": 4,
    "start_time": "2023-08-30T11:53:35.143Z"
   },
   {
    "duration": 13,
    "start_time": "2023-08-30T11:54:35.188Z"
   },
   {
    "duration": 13,
    "start_time": "2023-08-30T11:54:49.867Z"
   },
   {
    "duration": 4,
    "start_time": "2023-08-30T11:59:55.456Z"
   },
   {
    "duration": 22,
    "start_time": "2023-08-30T12:01:25.337Z"
   },
   {
    "duration": 3,
    "start_time": "2023-08-30T12:01:38.016Z"
   },
   {
    "duration": 148,
    "start_time": "2023-08-30T12:01:40.824Z"
   },
   {
    "duration": 10,
    "start_time": "2023-08-30T12:19:27.658Z"
   },
   {
    "duration": 7,
    "start_time": "2023-08-30T12:20:10.235Z"
   },
   {
    "duration": 10,
    "start_time": "2023-08-30T12:23:29.861Z"
   },
   {
    "duration": 779,
    "start_time": "2023-08-30T12:23:41.755Z"
   },
   {
    "duration": 825,
    "start_time": "2023-08-30T12:24:18.164Z"
   },
   {
    "duration": 10,
    "start_time": "2023-08-30T12:34:53.455Z"
   },
   {
    "duration": 10,
    "start_time": "2023-08-30T12:35:08.456Z"
   },
   {
    "duration": 13,
    "start_time": "2023-08-30T12:35:09.953Z"
   },
   {
    "duration": 6,
    "start_time": "2023-08-30T12:35:18.340Z"
   },
   {
    "duration": 5,
    "start_time": "2023-08-30T12:37:07.755Z"
   },
   {
    "duration": 11,
    "start_time": "2023-08-30T12:42:51.333Z"
   },
   {
    "duration": 13,
    "start_time": "2023-08-30T12:43:08.737Z"
   },
   {
    "duration": 1546,
    "start_time": "2023-08-30T12:43:50.205Z"
   },
   {
    "duration": 15,
    "start_time": "2023-08-30T12:45:06.231Z"
   },
   {
    "duration": 10,
    "start_time": "2023-08-30T12:45:17.169Z"
   },
   {
    "duration": 9,
    "start_time": "2023-08-30T12:47:40.036Z"
   },
   {
    "duration": 10,
    "start_time": "2023-08-30T12:47:51.031Z"
   },
   {
    "duration": 1446,
    "start_time": "2023-08-30T18:30:06.096Z"
   },
   {
    "duration": 95,
    "start_time": "2023-08-30T18:30:07.544Z"
   },
   {
    "duration": 12,
    "start_time": "2023-08-30T18:30:07.641Z"
   },
   {
    "duration": 57,
    "start_time": "2023-08-30T18:30:07.655Z"
   },
   {
    "duration": 118,
    "start_time": "2023-08-30T18:30:07.714Z"
   },
   {
    "duration": 12,
    "start_time": "2023-08-30T18:30:07.834Z"
   },
   {
    "duration": 51,
    "start_time": "2023-08-30T18:30:07.848Z"
   },
   {
    "duration": 86,
    "start_time": "2023-08-30T18:30:07.901Z"
   },
   {
    "duration": 9,
    "start_time": "2023-08-30T18:30:07.988Z"
   },
   {
    "duration": 32,
    "start_time": "2023-08-30T18:30:07.999Z"
   },
   {
    "duration": 33,
    "start_time": "2023-08-30T18:30:08.033Z"
   },
   {
    "duration": 26,
    "start_time": "2023-08-30T18:30:08.068Z"
   },
   {
    "duration": 33,
    "start_time": "2023-08-30T18:30:08.096Z"
   },
   {
    "duration": 28,
    "start_time": "2023-08-30T18:30:08.132Z"
   },
   {
    "duration": 38,
    "start_time": "2023-08-30T18:30:08.162Z"
   },
   {
    "duration": 11,
    "start_time": "2023-08-30T18:30:08.202Z"
   },
   {
    "duration": 48,
    "start_time": "2023-08-30T18:30:08.215Z"
   },
   {
    "duration": 140,
    "start_time": "2023-08-30T18:30:08.268Z"
   },
   {
    "duration": 6,
    "start_time": "2023-08-30T18:30:08.409Z"
   },
   {
    "duration": 121,
    "start_time": "2023-08-30T18:30:08.417Z"
   },
   {
    "duration": 12,
    "start_time": "2023-08-30T18:30:08.540Z"
   },
   {
    "duration": 160,
    "start_time": "2023-08-30T18:30:08.559Z"
   },
   {
    "duration": 7,
    "start_time": "2023-08-30T18:30:08.721Z"
   },
   {
    "duration": 19,
    "start_time": "2023-08-30T18:30:08.729Z"
   },
   {
    "duration": 194,
    "start_time": "2023-08-30T18:30:08.750Z"
   },
   {
    "duration": 14,
    "start_time": "2023-08-30T18:30:08.945Z"
   },
   {
    "duration": 24,
    "start_time": "2023-08-30T18:30:08.964Z"
   },
   {
    "duration": 118,
    "start_time": "2023-08-30T18:30:08.990Z"
   },
   {
    "duration": 35,
    "start_time": "2023-08-30T18:30:09.109Z"
   },
   {
    "duration": 30,
    "start_time": "2023-08-30T18:30:09.150Z"
   },
   {
    "duration": 28,
    "start_time": "2023-08-30T18:30:09.182Z"
   },
   {
    "duration": 213,
    "start_time": "2023-08-30T18:30:09.212Z"
   },
   {
    "duration": 197,
    "start_time": "2023-08-30T18:30:09.426Z"
   },
   {
    "duration": 250,
    "start_time": "2023-08-30T18:30:09.625Z"
   },
   {
    "duration": 175,
    "start_time": "2023-08-30T18:30:09.877Z"
   },
   {
    "duration": 811,
    "start_time": "2023-08-30T18:30:10.055Z"
   },
   {
    "duration": 2,
    "start_time": "2023-08-30T18:30:10.868Z"
   },
   {
    "duration": 28,
    "start_time": "2023-08-30T18:30:10.873Z"
   },
   {
    "duration": 172,
    "start_time": "2023-08-30T18:30:10.903Z"
   },
   {
    "duration": 6,
    "start_time": "2023-08-30T18:30:11.076Z"
   },
   {
    "duration": 890,
    "start_time": "2023-08-30T18:30:11.086Z"
   },
   {
    "duration": 5,
    "start_time": "2023-08-30T18:30:11.978Z"
   },
   {
    "duration": 65,
    "start_time": "2023-08-30T18:30:11.984Z"
   },
   {
    "duration": 73,
    "start_time": "2023-08-30T20:35:23.897Z"
   },
   {
    "duration": 51,
    "start_time": "2023-08-30T20:39:12.085Z"
   },
   {
    "duration": 1416,
    "start_time": "2023-08-30T20:39:18.186Z"
   },
   {
    "duration": 75,
    "start_time": "2023-08-30T20:39:19.604Z"
   },
   {
    "duration": 13,
    "start_time": "2023-08-30T20:39:20.685Z"
   },
   {
    "duration": 12,
    "start_time": "2023-08-30T20:39:20.739Z"
   },
   {
    "duration": 80,
    "start_time": "2023-08-30T20:39:20.938Z"
   },
   {
    "duration": 17,
    "start_time": "2023-08-30T20:39:21.322Z"
   },
   {
    "duration": 12,
    "start_time": "2023-08-30T20:39:21.988Z"
   },
   {
    "duration": 62,
    "start_time": "2023-08-30T20:39:22.109Z"
   },
   {
    "duration": 13,
    "start_time": "2023-08-30T20:39:22.288Z"
   },
   {
    "duration": 8,
    "start_time": "2023-08-30T20:39:22.840Z"
   },
   {
    "duration": 9,
    "start_time": "2023-08-30T20:39:23.795Z"
   },
   {
    "duration": 5,
    "start_time": "2023-08-30T20:39:23.980Z"
   },
   {
    "duration": 6,
    "start_time": "2023-08-30T20:39:24.507Z"
   },
   {
    "duration": 6,
    "start_time": "2023-08-30T20:39:24.636Z"
   },
   {
    "duration": 13,
    "start_time": "2023-08-30T20:39:24.788Z"
   },
   {
    "duration": 5,
    "start_time": "2023-08-30T20:39:24.920Z"
   },
   {
    "duration": 6,
    "start_time": "2023-08-30T20:39:26.287Z"
   },
   {
    "duration": 68,
    "start_time": "2023-08-30T20:39:26.588Z"
   },
   {
    "duration": 7,
    "start_time": "2023-08-30T20:39:27.688Z"
   },
   {
    "duration": 109,
    "start_time": "2023-08-30T20:39:27.877Z"
   },
   {
    "duration": 1338,
    "start_time": "2023-08-30T20:40:05.809Z"
   },
   {
    "duration": 217,
    "start_time": "2023-08-30T20:44:52.084Z"
   },
   {
    "duration": 217,
    "start_time": "2023-08-30T20:45:48.884Z"
   },
   {
    "duration": 154,
    "start_time": "2023-08-30T20:45:56.245Z"
   },
   {
    "duration": 191,
    "start_time": "2023-08-30T20:46:01.888Z"
   },
   {
    "duration": 160,
    "start_time": "2023-08-30T20:46:35.923Z"
   },
   {
    "duration": 170,
    "start_time": "2023-08-30T20:46:40.184Z"
   },
   {
    "duration": 175,
    "start_time": "2023-08-30T20:46:44.287Z"
   },
   {
    "duration": 169,
    "start_time": "2023-08-30T20:46:47.184Z"
   },
   {
    "duration": 167,
    "start_time": "2023-08-30T20:46:51.300Z"
   },
   {
    "duration": 188,
    "start_time": "2023-08-30T20:46:54.083Z"
   },
   {
    "duration": 197,
    "start_time": "2023-08-30T20:47:01.885Z"
   },
   {
    "duration": 198,
    "start_time": "2023-08-30T20:47:05.996Z"
   },
   {
    "duration": 164,
    "start_time": "2023-08-30T20:47:31.085Z"
   },
   {
    "duration": 156,
    "start_time": "2023-08-30T20:47:37.172Z"
   },
   {
    "duration": 155,
    "start_time": "2023-08-30T20:47:48.919Z"
   },
   {
    "duration": 154,
    "start_time": "2023-08-30T20:47:52.570Z"
   },
   {
    "duration": 169,
    "start_time": "2023-08-30T20:47:56.436Z"
   },
   {
    "duration": 168,
    "start_time": "2023-08-30T20:48:00.740Z"
   },
   {
    "duration": 183,
    "start_time": "2023-08-30T20:48:09.001Z"
   },
   {
    "duration": 187,
    "start_time": "2023-08-30T20:48:12.972Z"
   },
   {
    "duration": 228,
    "start_time": "2023-08-30T20:48:24.215Z"
   },
   {
    "duration": 48,
    "start_time": "2023-08-30T20:51:45.624Z"
   },
   {
    "duration": 12,
    "start_time": "2023-08-30T20:55:14.835Z"
   },
   {
    "duration": 10,
    "start_time": "2023-08-30T20:55:18.660Z"
   },
   {
    "duration": 9,
    "start_time": "2023-08-30T20:55:49.767Z"
   },
   {
    "duration": 3,
    "start_time": "2023-08-30T20:55:56.513Z"
   },
   {
    "duration": 27,
    "start_time": "2023-08-30T20:55:57.107Z"
   },
   {
    "duration": 11,
    "start_time": "2023-08-30T20:55:57.428Z"
   },
   {
    "duration": 12,
    "start_time": "2023-08-30T20:55:57.586Z"
   },
   {
    "duration": 27,
    "start_time": "2023-08-30T20:55:57.717Z"
   },
   {
    "duration": 12,
    "start_time": "2023-08-30T20:55:57.898Z"
   },
   {
    "duration": 9,
    "start_time": "2023-08-30T20:55:58.183Z"
   },
   {
    "duration": 26,
    "start_time": "2023-08-30T20:55:58.334Z"
   },
   {
    "duration": 11,
    "start_time": "2023-08-30T20:55:58.521Z"
   },
   {
    "duration": 8,
    "start_time": "2023-08-30T20:55:58.641Z"
   },
   {
    "duration": 8,
    "start_time": "2023-08-30T20:55:59.462Z"
   },
   {
    "duration": 5,
    "start_time": "2023-08-30T20:55:59.624Z"
   },
   {
    "duration": 7,
    "start_time": "2023-08-30T20:56:00.164Z"
   },
   {
    "duration": 7,
    "start_time": "2023-08-30T20:56:00.343Z"
   },
   {
    "duration": 9,
    "start_time": "2023-08-30T20:56:00.488Z"
   },
   {
    "duration": 6,
    "start_time": "2023-08-30T20:56:00.962Z"
   },
   {
    "duration": 9,
    "start_time": "2023-08-30T20:56:01.769Z"
   },
   {
    "duration": 149,
    "start_time": "2023-08-30T20:56:01.963Z"
   },
   {
    "duration": 6,
    "start_time": "2023-08-30T20:56:03.566Z"
   },
   {
    "duration": 98,
    "start_time": "2023-08-30T20:56:03.767Z"
   },
   {
    "duration": 13,
    "start_time": "2023-08-30T20:56:04.591Z"
   },
   {
    "duration": 168,
    "start_time": "2023-08-30T20:56:05.017Z"
   },
   {
    "duration": 9,
    "start_time": "2023-08-30T20:56:05.443Z"
   },
   {
    "duration": 8,
    "start_time": "2023-08-30T20:56:05.709Z"
   },
   {
    "duration": 203,
    "start_time": "2023-08-30T20:56:05.914Z"
   },
   {
    "duration": 12,
    "start_time": "2023-08-30T21:02:27.308Z"
   },
   {
    "duration": 9,
    "start_time": "2023-08-30T21:02:39.091Z"
   },
   {
    "duration": 8,
    "start_time": "2023-08-30T21:02:39.831Z"
   },
   {
    "duration": 189,
    "start_time": "2023-08-30T21:02:39.846Z"
   },
   {
    "duration": 8,
    "start_time": "2023-08-30T21:02:40.231Z"
   },
   {
    "duration": 17,
    "start_time": "2023-08-30T21:02:45.474Z"
   },
   {
    "duration": 163,
    "start_time": "2023-08-30T21:02:45.493Z"
   },
   {
    "duration": 35,
    "start_time": "2023-08-30T21:02:52.580Z"
   },
   {
    "duration": 83,
    "start_time": "2023-08-30T21:02:52.618Z"
   },
   {
    "duration": 35,
    "start_time": "2023-08-30T21:02:52.704Z"
   },
   {
    "duration": 254,
    "start_time": "2023-08-30T21:02:53.641Z"
   },
   {
    "duration": 326,
    "start_time": "2023-08-30T21:02:53.902Z"
   },
   {
    "duration": 253,
    "start_time": "2023-08-30T21:02:54.230Z"
   },
   {
    "duration": 240,
    "start_time": "2023-08-30T21:02:54.486Z"
   },
   {
    "duration": 12,
    "start_time": "2023-08-30T21:02:54.728Z"
   },
   {
    "duration": 0,
    "start_time": "2023-08-30T21:02:54.742Z"
   },
   {
    "duration": 0,
    "start_time": "2023-08-30T21:02:54.744Z"
   },
   {
    "duration": 0,
    "start_time": "2023-08-30T21:02:54.745Z"
   },
   {
    "duration": 0,
    "start_time": "2023-08-30T21:02:54.747Z"
   },
   {
    "duration": 0,
    "start_time": "2023-08-30T21:02:54.748Z"
   },
   {
    "duration": 0,
    "start_time": "2023-08-30T21:02:54.750Z"
   },
   {
    "duration": 0,
    "start_time": "2023-08-30T21:02:54.751Z"
   },
   {
    "duration": 8,
    "start_time": "2023-08-30T21:02:59.783Z"
   },
   {
    "duration": 13,
    "start_time": "2023-08-30T21:04:27.463Z"
   },
   {
    "duration": 5,
    "start_time": "2023-08-30T21:05:25.564Z"
   },
   {
    "duration": 6,
    "start_time": "2023-08-30T21:06:34.661Z"
   },
   {
    "duration": 994,
    "start_time": "2023-08-30T21:06:40.233Z"
   },
   {
    "duration": 1184,
    "start_time": "2023-08-30T21:09:07.722Z"
   },
   {
    "duration": 14,
    "start_time": "2023-08-30T21:10:21.906Z"
   },
   {
    "duration": 3,
    "start_time": "2023-08-30T21:10:37.135Z"
   },
   {
    "duration": 248,
    "start_time": "2023-08-30T21:10:37.140Z"
   },
   {
    "duration": 9,
    "start_time": "2023-08-30T21:13:07.619Z"
   },
   {
    "duration": 5,
    "start_time": "2023-08-30T21:13:52.093Z"
   },
   {
    "duration": 989,
    "start_time": "2023-08-30T21:14:05.370Z"
   },
   {
    "duration": 4,
    "start_time": "2023-08-30T21:14:11.785Z"
   },
   {
    "duration": 163,
    "start_time": "2023-08-30T21:14:41.568Z"
   },
   {
    "duration": 8,
    "start_time": "2023-08-30T21:14:51.166Z"
   },
   {
    "duration": 15,
    "start_time": "2023-08-30T21:15:37.025Z"
   },
   {
    "duration": 71,
    "start_time": "2023-08-30T21:22:57.114Z"
   },
   {
    "duration": 6,
    "start_time": "2023-08-30T21:25:39.551Z"
   },
   {
    "duration": 7,
    "start_time": "2023-08-30T21:26:58.397Z"
   },
   {
    "duration": 113,
    "start_time": "2023-08-30T21:27:42.085Z"
   },
   {
    "duration": 59,
    "start_time": "2023-08-30T21:29:12.632Z"
   },
   {
    "duration": 9,
    "start_time": "2023-08-30T21:40:32.867Z"
   },
   {
    "duration": 11,
    "start_time": "2023-08-30T21:41:22.269Z"
   },
   {
    "duration": 206,
    "start_time": "2023-08-30T21:44:09.062Z"
   },
   {
    "duration": 162,
    "start_time": "2023-08-30T21:46:43.653Z"
   },
   {
    "duration": 155,
    "start_time": "2023-08-30T21:46:52.871Z"
   },
   {
    "duration": 161,
    "start_time": "2023-08-30T21:46:58.183Z"
   },
   {
    "duration": 168,
    "start_time": "2023-08-30T21:47:53.209Z"
   },
   {
    "duration": 144,
    "start_time": "2023-08-30T21:48:02.019Z"
   },
   {
    "duration": 169,
    "start_time": "2023-08-30T21:48:26.614Z"
   },
   {
    "duration": 152,
    "start_time": "2023-08-30T21:48:38.328Z"
   },
   {
    "duration": 162,
    "start_time": "2023-08-30T21:49:23.673Z"
   },
   {
    "duration": 150,
    "start_time": "2023-08-30T21:50:31.169Z"
   },
   {
    "duration": 220,
    "start_time": "2023-08-30T21:52:08.768Z"
   },
   {
    "duration": 64,
    "start_time": "2023-08-30T21:52:39.989Z"
   },
   {
    "duration": 60,
    "start_time": "2023-08-30T21:52:50.851Z"
   },
   {
    "duration": 60,
    "start_time": "2023-08-30T22:10:36.212Z"
   },
   {
    "duration": 80,
    "start_time": "2023-08-30T22:16:03.552Z"
   },
   {
    "duration": 148,
    "start_time": "2023-08-30T22:20:20.403Z"
   },
   {
    "duration": 136,
    "start_time": "2023-08-30T22:24:02.136Z"
   },
   {
    "duration": 4,
    "start_time": "2023-08-30T22:24:47.114Z"
   },
   {
    "duration": 27,
    "start_time": "2023-08-30T22:24:49.464Z"
   },
   {
    "duration": 10,
    "start_time": "2023-08-30T22:24:49.801Z"
   },
   {
    "duration": 9,
    "start_time": "2023-08-30T22:24:52.049Z"
   },
   {
    "duration": 42,
    "start_time": "2023-08-30T22:24:52.539Z"
   },
   {
    "duration": 11,
    "start_time": "2023-08-30T22:24:52.607Z"
   },
   {
    "duration": 9,
    "start_time": "2023-08-30T22:24:52.687Z"
   },
   {
    "duration": 16,
    "start_time": "2023-08-30T22:24:52.771Z"
   },
   {
    "duration": 11,
    "start_time": "2023-08-30T22:24:52.862Z"
   },
   {
    "duration": 40,
    "start_time": "2023-08-30T22:24:52.940Z"
   },
   {
    "duration": 8,
    "start_time": "2023-08-30T22:24:53.276Z"
   },
   {
    "duration": 6,
    "start_time": "2023-08-30T22:24:53.362Z"
   },
   {
    "duration": 4,
    "start_time": "2023-08-30T22:24:53.444Z"
   },
   {
    "duration": 6,
    "start_time": "2023-08-30T22:24:53.526Z"
   },
   {
    "duration": 6,
    "start_time": "2023-08-30T22:24:53.862Z"
   },
   {
    "duration": 5,
    "start_time": "2023-08-30T22:24:53.946Z"
   },
   {
    "duration": 8,
    "start_time": "2023-08-30T22:24:54.030Z"
   },
   {
    "duration": 5,
    "start_time": "2023-08-30T22:24:54.114Z"
   },
   {
    "duration": 6,
    "start_time": "2023-08-30T22:24:54.534Z"
   },
   {
    "duration": 179,
    "start_time": "2023-08-30T22:24:54.617Z"
   },
   {
    "duration": 6,
    "start_time": "2023-08-30T22:24:55.045Z"
   },
   {
    "duration": 92,
    "start_time": "2023-08-30T22:24:55.118Z"
   },
   {
    "duration": 5,
    "start_time": "2023-08-30T22:24:55.367Z"
   },
   {
    "duration": 176,
    "start_time": "2023-08-30T22:24:55.450Z"
   },
   {
    "duration": 8,
    "start_time": "2023-08-30T22:24:55.701Z"
   },
   {
    "duration": 12,
    "start_time": "2023-08-30T22:24:55.784Z"
   },
   {
    "duration": 10,
    "start_time": "2023-08-30T22:24:55.866Z"
   },
   {
    "duration": 237,
    "start_time": "2023-08-30T22:24:55.951Z"
   },
   {
    "duration": 9,
    "start_time": "2023-08-30T22:24:56.201Z"
   },
   {
    "duration": 8,
    "start_time": "2023-08-30T22:24:56.284Z"
   },
   {
    "duration": 15,
    "start_time": "2023-08-30T22:24:56.368Z"
   },
   {
    "duration": 96,
    "start_time": "2023-08-30T22:24:56.452Z"
   },
   {
    "duration": 159,
    "start_time": "2023-08-30T22:24:56.550Z"
   },
   {
    "duration": 45,
    "start_time": "2023-08-30T22:24:56.951Z"
   },
   {
    "duration": 24,
    "start_time": "2023-08-30T22:24:57.033Z"
   },
   {
    "duration": 21,
    "start_time": "2023-08-30T22:24:57.118Z"
   },
   {
    "duration": 200,
    "start_time": "2023-08-30T22:24:57.367Z"
   },
   {
    "duration": 212,
    "start_time": "2023-08-30T22:24:57.569Z"
   },
   {
    "duration": 193,
    "start_time": "2023-08-30T22:24:57.783Z"
   },
   {
    "duration": 212,
    "start_time": "2023-08-30T22:24:57.978Z"
   },
   {
    "duration": 4,
    "start_time": "2023-08-30T22:24:58.201Z"
   },
   {
    "duration": 940,
    "start_time": "2023-08-30T22:24:58.208Z"
   },
   {
    "duration": 3,
    "start_time": "2023-08-30T22:24:59.150Z"
   },
   {
    "duration": 283,
    "start_time": "2023-08-30T22:24:59.154Z"
   },
   {
    "duration": 14,
    "start_time": "2023-08-30T22:24:59.438Z"
   },
   {
    "duration": 12,
    "start_time": "2023-08-30T22:24:59.454Z"
   },
   {
    "duration": 873,
    "start_time": "2023-08-30T22:24:59.469Z"
   },
   {
    "duration": 6,
    "start_time": "2023-08-30T22:25:00.344Z"
   },
   {
    "duration": 1459,
    "start_time": "2023-08-30T22:25:00.351Z"
   },
   {
    "duration": 1392,
    "start_time": "2023-08-30T22:26:42.033Z"
   },
   {
    "duration": 9,
    "start_time": "2023-08-30T22:27:44.030Z"
   },
   {
    "duration": 1655,
    "start_time": "2023-08-31T07:24:01.208Z"
   },
   {
    "duration": 34,
    "start_time": "2023-08-31T07:24:02.866Z"
   },
   {
    "duration": 19,
    "start_time": "2023-08-31T07:24:02.902Z"
   },
   {
    "duration": 34,
    "start_time": "2023-08-31T07:24:02.923Z"
   },
   {
    "duration": 72,
    "start_time": "2023-08-31T07:24:02.961Z"
   },
   {
    "duration": 21,
    "start_time": "2023-08-31T07:24:03.036Z"
   },
   {
    "duration": 28,
    "start_time": "2023-08-31T07:24:03.060Z"
   },
   {
    "duration": 38,
    "start_time": "2023-08-31T07:24:03.090Z"
   },
   {
    "duration": 14,
    "start_time": "2023-08-31T07:24:03.130Z"
   },
   {
    "duration": 9,
    "start_time": "2023-08-31T07:24:03.146Z"
   },
   {
    "duration": 18,
    "start_time": "2023-08-31T07:24:03.157Z"
   },
   {
    "duration": 16,
    "start_time": "2023-08-31T07:24:03.177Z"
   },
   {
    "duration": 21,
    "start_time": "2023-08-31T07:24:03.195Z"
   },
   {
    "duration": 10,
    "start_time": "2023-08-31T07:24:03.221Z"
   },
   {
    "duration": 23,
    "start_time": "2023-08-31T07:24:03.233Z"
   },
   {
    "duration": 29,
    "start_time": "2023-08-31T07:24:03.258Z"
   },
   {
    "duration": 28,
    "start_time": "2023-08-31T07:24:03.289Z"
   },
   {
    "duration": 11,
    "start_time": "2023-08-31T07:24:03.319Z"
   },
   {
    "duration": 15,
    "start_time": "2023-08-31T07:24:03.332Z"
   },
   {
    "duration": 267,
    "start_time": "2023-08-31T07:24:03.352Z"
   },
   {
    "duration": 7,
    "start_time": "2023-08-31T07:24:03.621Z"
   },
   {
    "duration": 129,
    "start_time": "2023-08-31T07:24:03.648Z"
   },
   {
    "duration": 8,
    "start_time": "2023-08-31T07:24:03.779Z"
   },
   {
    "duration": 228,
    "start_time": "2023-08-31T07:24:03.790Z"
   },
   {
    "duration": 11,
    "start_time": "2023-08-31T07:24:04.021Z"
   },
   {
    "duration": 49,
    "start_time": "2023-08-31T07:24:04.034Z"
   },
   {
    "duration": 33,
    "start_time": "2023-08-31T07:24:04.085Z"
   },
   {
    "duration": 240,
    "start_time": "2023-08-31T07:24:04.126Z"
   },
   {
    "duration": 13,
    "start_time": "2023-08-31T07:24:04.368Z"
   },
   {
    "duration": 26,
    "start_time": "2023-08-31T07:24:04.383Z"
   },
   {
    "duration": 38,
    "start_time": "2023-08-31T07:24:04.412Z"
   },
   {
    "duration": 119,
    "start_time": "2023-08-31T07:24:04.453Z"
   },
   {
    "duration": 175,
    "start_time": "2023-08-31T07:24:04.574Z"
   },
   {
    "duration": 38,
    "start_time": "2023-08-31T07:24:04.751Z"
   },
   {
    "duration": 35,
    "start_time": "2023-08-31T07:24:04.790Z"
   },
   {
    "duration": 27,
    "start_time": "2023-08-31T07:24:04.847Z"
   },
   {
    "duration": 367,
    "start_time": "2023-08-31T07:24:04.876Z"
   },
   {
    "duration": 419,
    "start_time": "2023-08-31T07:24:05.247Z"
   },
   {
    "duration": 265,
    "start_time": "2023-08-31T07:24:05.668Z"
   },
   {
    "duration": 330,
    "start_time": "2023-08-31T07:24:05.935Z"
   },
   {
    "duration": 5,
    "start_time": "2023-08-31T07:24:06.270Z"
   },
   {
    "duration": 1121,
    "start_time": "2023-08-31T07:24:06.277Z"
   },
   {
    "duration": 4,
    "start_time": "2023-08-31T07:24:07.400Z"
   },
   {
    "duration": 176,
    "start_time": "2023-08-31T07:24:07.406Z"
   },
   {
    "duration": 15,
    "start_time": "2023-08-31T07:24:07.584Z"
   },
   {
    "duration": 16,
    "start_time": "2023-08-31T07:24:07.601Z"
   },
   {
    "duration": 1170,
    "start_time": "2023-08-31T07:24:07.619Z"
   },
   {
    "duration": 7,
    "start_time": "2023-08-31T07:24:08.792Z"
   },
   {
    "duration": 21,
    "start_time": "2023-08-31T07:24:08.802Z"
   },
   {
    "duration": 8,
    "start_time": "2023-08-31T07:28:20.831Z"
   }
  ],
  "kernelspec": {
   "display_name": "Python 3.10.8 64-bit",
   "language": "python",
   "name": "python3"
  },
  "language_info": {
   "codemirror_mode": {
    "name": "ipython",
    "version": 3
   },
   "file_extension": ".py",
   "mimetype": "text/x-python",
   "name": "python",
   "nbconvert_exporter": "python",
   "pygments_lexer": "ipython3",
   "version": "3.10.8"
  },
  "toc": {
   "base_numbering": 1,
   "nav_menu": {},
   "number_sections": true,
   "sideBar": true,
   "skip_h1_title": true,
   "title_cell": "Table of Contents",
   "title_sidebar": "Contents",
   "toc_cell": false,
   "toc_position": {
    "height": "calc(100% - 180px)",
    "left": "10px",
    "top": "150px",
    "width": "275px"
   },
   "toc_section_display": true,
   "toc_window_display": true
  },
  "vscode": {
   "interpreter": {
    "hash": "7e1998ff7f8aa20ada591c520b972326324e5ea05489af9e422744c7c09f6dad"
   }
  }
 },
 "nbformat": 4,
 "nbformat_minor": 5
}
