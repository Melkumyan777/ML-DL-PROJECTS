{
 "cells": [
  {
   "cell_type": "markdown",
   "metadata": {},
   "source": [
    "# Определение стоимости автомобилей"
   ]
  },
  {
   "cell_type": "markdown",
   "metadata": {},
   "source": [
    "Сервис по продаже автомобилей с пробегом «Не бит, не крашен» разрабатывает приложение для привлечения новых клиентов. В нём можно быстро узнать рыночную стоимость своего автомобиля. В вашем распоряжении исторические данные: технические характеристики, комплектации и цены автомобилей. Вам нужно построить модель для определения стоимости. \n",
    "\n",
    "Заказчику важны:\n",
    "\n",
    "- качество предсказания;\n",
    "- скорость предсказания;\n",
    "- время обучения."
   ]
  },
  {
   "cell_type": "code",
   "execution_count": 1,
   "metadata": {},
   "outputs": [
    {
     "name": "stdout",
     "output_type": "stream",
     "text": [
      "Requirement already satisfied: lightgbm in /opt/conda/lib/python3.9/site-packages (3.3.1)\n",
      "Requirement already satisfied: wheel in /opt/conda/lib/python3.9/site-packages (from lightgbm) (0.36.2)\n",
      "Requirement already satisfied: scikit-learn!=0.22.0 in /opt/conda/lib/python3.9/site-packages (from lightgbm) (1.3.2)\n",
      "Requirement already satisfied: numpy in /opt/conda/lib/python3.9/site-packages (from lightgbm) (1.21.1)\n",
      "Requirement already satisfied: scipy in /opt/conda/lib/python3.9/site-packages (from lightgbm) (1.9.1)\n",
      "Requirement already satisfied: joblib>=1.1.1 in /opt/conda/lib/python3.9/site-packages (from scikit-learn!=0.22.0->lightgbm) (1.3.2)\n",
      "Requirement already satisfied: threadpoolctl>=2.0.0 in /opt/conda/lib/python3.9/site-packages (from scikit-learn!=0.22.0->lightgbm) (3.1.0)\n"
     ]
    }
   ],
   "source": [
    "!pip install lightgbm"
   ]
  },
  {
   "cell_type": "code",
   "execution_count": 2,
   "metadata": {},
   "outputs": [],
   "source": [
    "import pandas as pd\n",
    "from sklearn.model_selection import train_test_split, cross_val_score\n",
    "import numpy as np\n",
    "from sklearn.linear_model import LinearRegression\n",
    "from sklearn.metrics import mean_squared_error\n",
    "import lightgbm as lgbm\n",
    "import time\n",
    "from sklearn.model_selection import GridSearchCV"
   ]
  },
  {
   "cell_type": "markdown",
   "metadata": {},
   "source": [
    "## Подготовка данных"
   ]
  },
  {
   "cell_type": "code",
   "execution_count": 3,
   "metadata": {},
   "outputs": [],
   "source": [
    "dataset = pd.read_csv('/datasets/autos.csv')"
   ]
  },
  {
   "cell_type": "code",
   "execution_count": 4,
   "metadata": {},
   "outputs": [
    {
     "data": {
      "text/html": [
       "<div>\n",
       "<style scoped>\n",
       "    .dataframe tbody tr th:only-of-type {\n",
       "        vertical-align: middle;\n",
       "    }\n",
       "\n",
       "    .dataframe tbody tr th {\n",
       "        vertical-align: top;\n",
       "    }\n",
       "\n",
       "    .dataframe thead th {\n",
       "        text-align: right;\n",
       "    }\n",
       "</style>\n",
       "<table border=\"1\" class=\"dataframe\">\n",
       "  <thead>\n",
       "    <tr style=\"text-align: right;\">\n",
       "      <th></th>\n",
       "      <th>DateCrawled</th>\n",
       "      <th>Price</th>\n",
       "      <th>VehicleType</th>\n",
       "      <th>RegistrationYear</th>\n",
       "      <th>Gearbox</th>\n",
       "      <th>Power</th>\n",
       "      <th>Model</th>\n",
       "      <th>Kilometer</th>\n",
       "      <th>RegistrationMonth</th>\n",
       "      <th>FuelType</th>\n",
       "      <th>Brand</th>\n",
       "      <th>Repaired</th>\n",
       "      <th>DateCreated</th>\n",
       "      <th>NumberOfPictures</th>\n",
       "      <th>PostalCode</th>\n",
       "      <th>LastSeen</th>\n",
       "    </tr>\n",
       "  </thead>\n",
       "  <tbody>\n",
       "    <tr>\n",
       "      <th>0</th>\n",
       "      <td>2016-03-24 11:52:17</td>\n",
       "      <td>480</td>\n",
       "      <td>NaN</td>\n",
       "      <td>1993</td>\n",
       "      <td>manual</td>\n",
       "      <td>0</td>\n",
       "      <td>golf</td>\n",
       "      <td>150000</td>\n",
       "      <td>0</td>\n",
       "      <td>petrol</td>\n",
       "      <td>volkswagen</td>\n",
       "      <td>NaN</td>\n",
       "      <td>2016-03-24 00:00:00</td>\n",
       "      <td>0</td>\n",
       "      <td>70435</td>\n",
       "      <td>2016-04-07 03:16:57</td>\n",
       "    </tr>\n",
       "    <tr>\n",
       "      <th>1</th>\n",
       "      <td>2016-03-24 10:58:45</td>\n",
       "      <td>18300</td>\n",
       "      <td>coupe</td>\n",
       "      <td>2011</td>\n",
       "      <td>manual</td>\n",
       "      <td>190</td>\n",
       "      <td>NaN</td>\n",
       "      <td>125000</td>\n",
       "      <td>5</td>\n",
       "      <td>gasoline</td>\n",
       "      <td>audi</td>\n",
       "      <td>yes</td>\n",
       "      <td>2016-03-24 00:00:00</td>\n",
       "      <td>0</td>\n",
       "      <td>66954</td>\n",
       "      <td>2016-04-07 01:46:50</td>\n",
       "    </tr>\n",
       "    <tr>\n",
       "      <th>2</th>\n",
       "      <td>2016-03-14 12:52:21</td>\n",
       "      <td>9800</td>\n",
       "      <td>suv</td>\n",
       "      <td>2004</td>\n",
       "      <td>auto</td>\n",
       "      <td>163</td>\n",
       "      <td>grand</td>\n",
       "      <td>125000</td>\n",
       "      <td>8</td>\n",
       "      <td>gasoline</td>\n",
       "      <td>jeep</td>\n",
       "      <td>NaN</td>\n",
       "      <td>2016-03-14 00:00:00</td>\n",
       "      <td>0</td>\n",
       "      <td>90480</td>\n",
       "      <td>2016-04-05 12:47:46</td>\n",
       "    </tr>\n",
       "    <tr>\n",
       "      <th>3</th>\n",
       "      <td>2016-03-17 16:54:04</td>\n",
       "      <td>1500</td>\n",
       "      <td>small</td>\n",
       "      <td>2001</td>\n",
       "      <td>manual</td>\n",
       "      <td>75</td>\n",
       "      <td>golf</td>\n",
       "      <td>150000</td>\n",
       "      <td>6</td>\n",
       "      <td>petrol</td>\n",
       "      <td>volkswagen</td>\n",
       "      <td>no</td>\n",
       "      <td>2016-03-17 00:00:00</td>\n",
       "      <td>0</td>\n",
       "      <td>91074</td>\n",
       "      <td>2016-03-17 17:40:17</td>\n",
       "    </tr>\n",
       "    <tr>\n",
       "      <th>4</th>\n",
       "      <td>2016-03-31 17:25:20</td>\n",
       "      <td>3600</td>\n",
       "      <td>small</td>\n",
       "      <td>2008</td>\n",
       "      <td>manual</td>\n",
       "      <td>69</td>\n",
       "      <td>fabia</td>\n",
       "      <td>90000</td>\n",
       "      <td>7</td>\n",
       "      <td>gasoline</td>\n",
       "      <td>skoda</td>\n",
       "      <td>no</td>\n",
       "      <td>2016-03-31 00:00:00</td>\n",
       "      <td>0</td>\n",
       "      <td>60437</td>\n",
       "      <td>2016-04-06 10:17:21</td>\n",
       "    </tr>\n",
       "  </tbody>\n",
       "</table>\n",
       "</div>"
      ],
      "text/plain": [
       "           DateCrawled  Price VehicleType  RegistrationYear Gearbox  Power  \\\n",
       "0  2016-03-24 11:52:17    480         NaN              1993  manual      0   \n",
       "1  2016-03-24 10:58:45  18300       coupe              2011  manual    190   \n",
       "2  2016-03-14 12:52:21   9800         suv              2004    auto    163   \n",
       "3  2016-03-17 16:54:04   1500       small              2001  manual     75   \n",
       "4  2016-03-31 17:25:20   3600       small              2008  manual     69   \n",
       "\n",
       "   Model  Kilometer  RegistrationMonth  FuelType       Brand Repaired  \\\n",
       "0   golf     150000                  0    petrol  volkswagen      NaN   \n",
       "1    NaN     125000                  5  gasoline        audi      yes   \n",
       "2  grand     125000                  8  gasoline        jeep      NaN   \n",
       "3   golf     150000                  6    petrol  volkswagen       no   \n",
       "4  fabia      90000                  7  gasoline       skoda       no   \n",
       "\n",
       "           DateCreated  NumberOfPictures  PostalCode             LastSeen  \n",
       "0  2016-03-24 00:00:00                 0       70435  2016-04-07 03:16:57  \n",
       "1  2016-03-24 00:00:00                 0       66954  2016-04-07 01:46:50  \n",
       "2  2016-03-14 00:00:00                 0       90480  2016-04-05 12:47:46  \n",
       "3  2016-03-17 00:00:00                 0       91074  2016-03-17 17:40:17  \n",
       "4  2016-03-31 00:00:00                 0       60437  2016-04-06 10:17:21  "
      ]
     },
     "execution_count": 4,
     "metadata": {},
     "output_type": "execute_result"
    }
   ],
   "source": [
    "dataset.head(5)"
   ]
  },
  {
   "cell_type": "markdown",
   "metadata": {},
   "source": [
    "**Признаки**\n",
    "\n",
    "- DateCrawled — дата скачивания анкеты из базы\n",
    "- VehicleType — тип автомобильного кузова\n",
    "- RegistrationYear — год регистрации автомобиля\n",
    "- Gearbox — тип коробки передач\n",
    "- Power — мощность (л. с.)\n",
    "- Model — модель автомобиля\n",
    "- Kilometer — пробег (км)\n",
    "- RegistrationMonth — месяц регистрации автомобиля\n",
    "- FuelType — тип топлива\n",
    "- Brand — марка автомобиля\n",
    "- Repaired — была машина в ремонте или нет\n",
    "- DateCreated — дата создания анкеты\n",
    "- NumberOfPictures — количество фотографий автомобиля\n",
    "- PostalCode — почтовый индекс владельца анкеты (пользователя)\n",
    "- LastSeen — дата последней активности пользователя\n",
    "\n",
    "**Целевой признак**\n",
    "- Price — цена (евро)"
   ]
  },
  {
   "cell_type": "markdown",
   "metadata": {},
   "source": [
    "Изучите данные. Заполните пропущенные значения и обработайте аномалии в столбцах. Если среди признаков имеются неинформативные, удалите их.\n"
   ]
  },
  {
   "cell_type": "code",
   "execution_count": 5,
   "metadata": {},
   "outputs": [
    {
     "name": "stdout",
     "output_type": "stream",
     "text": [
      "<class 'pandas.core.frame.DataFrame'>\n",
      "RangeIndex: 354369 entries, 0 to 354368\n",
      "Data columns (total 16 columns):\n",
      " #   Column             Non-Null Count   Dtype \n",
      "---  ------             --------------   ----- \n",
      " 0   DateCrawled        354369 non-null  object\n",
      " 1   Price              354369 non-null  int64 \n",
      " 2   VehicleType        316879 non-null  object\n",
      " 3   RegistrationYear   354369 non-null  int64 \n",
      " 4   Gearbox            334536 non-null  object\n",
      " 5   Power              354369 non-null  int64 \n",
      " 6   Model              334664 non-null  object\n",
      " 7   Kilometer          354369 non-null  int64 \n",
      " 8   RegistrationMonth  354369 non-null  int64 \n",
      " 9   FuelType           321474 non-null  object\n",
      " 10  Brand              354369 non-null  object\n",
      " 11  Repaired           283215 non-null  object\n",
      " 12  DateCreated        354369 non-null  object\n",
      " 13  NumberOfPictures   354369 non-null  int64 \n",
      " 14  PostalCode         354369 non-null  int64 \n",
      " 15  LastSeen           354369 non-null  object\n",
      "dtypes: int64(7), object(9)\n",
      "memory usage: 43.3+ MB\n"
     ]
    }
   ],
   "source": [
    "dataset.info()"
   ]
  },
  {
   "cell_type": "code",
   "execution_count": 6,
   "metadata": {},
   "outputs": [
    {
     "data": {
      "text/html": [
       "<div>\n",
       "<style scoped>\n",
       "    .dataframe tbody tr th:only-of-type {\n",
       "        vertical-align: middle;\n",
       "    }\n",
       "\n",
       "    .dataframe tbody tr th {\n",
       "        vertical-align: top;\n",
       "    }\n",
       "\n",
       "    .dataframe thead th {\n",
       "        text-align: right;\n",
       "    }\n",
       "</style>\n",
       "<table border=\"1\" class=\"dataframe\">\n",
       "  <thead>\n",
       "    <tr style=\"text-align: right;\">\n",
       "      <th></th>\n",
       "      <th>Price</th>\n",
       "      <th>RegistrationYear</th>\n",
       "      <th>Power</th>\n",
       "      <th>Kilometer</th>\n",
       "      <th>RegistrationMonth</th>\n",
       "      <th>NumberOfPictures</th>\n",
       "      <th>PostalCode</th>\n",
       "    </tr>\n",
       "  </thead>\n",
       "  <tbody>\n",
       "    <tr>\n",
       "      <th>count</th>\n",
       "      <td>354369.000000</td>\n",
       "      <td>354369.000000</td>\n",
       "      <td>354369.000000</td>\n",
       "      <td>354369.000000</td>\n",
       "      <td>354369.000000</td>\n",
       "      <td>354369.0</td>\n",
       "      <td>354369.000000</td>\n",
       "    </tr>\n",
       "    <tr>\n",
       "      <th>mean</th>\n",
       "      <td>4416.656776</td>\n",
       "      <td>2004.234448</td>\n",
       "      <td>110.094337</td>\n",
       "      <td>128211.172535</td>\n",
       "      <td>5.714645</td>\n",
       "      <td>0.0</td>\n",
       "      <td>50508.689087</td>\n",
       "    </tr>\n",
       "    <tr>\n",
       "      <th>std</th>\n",
       "      <td>4514.158514</td>\n",
       "      <td>90.227958</td>\n",
       "      <td>189.850405</td>\n",
       "      <td>37905.341530</td>\n",
       "      <td>3.726421</td>\n",
       "      <td>0.0</td>\n",
       "      <td>25783.096248</td>\n",
       "    </tr>\n",
       "    <tr>\n",
       "      <th>min</th>\n",
       "      <td>0.000000</td>\n",
       "      <td>1000.000000</td>\n",
       "      <td>0.000000</td>\n",
       "      <td>5000.000000</td>\n",
       "      <td>0.000000</td>\n",
       "      <td>0.0</td>\n",
       "      <td>1067.000000</td>\n",
       "    </tr>\n",
       "    <tr>\n",
       "      <th>25%</th>\n",
       "      <td>1050.000000</td>\n",
       "      <td>1999.000000</td>\n",
       "      <td>69.000000</td>\n",
       "      <td>125000.000000</td>\n",
       "      <td>3.000000</td>\n",
       "      <td>0.0</td>\n",
       "      <td>30165.000000</td>\n",
       "    </tr>\n",
       "    <tr>\n",
       "      <th>50%</th>\n",
       "      <td>2700.000000</td>\n",
       "      <td>2003.000000</td>\n",
       "      <td>105.000000</td>\n",
       "      <td>150000.000000</td>\n",
       "      <td>6.000000</td>\n",
       "      <td>0.0</td>\n",
       "      <td>49413.000000</td>\n",
       "    </tr>\n",
       "    <tr>\n",
       "      <th>75%</th>\n",
       "      <td>6400.000000</td>\n",
       "      <td>2008.000000</td>\n",
       "      <td>143.000000</td>\n",
       "      <td>150000.000000</td>\n",
       "      <td>9.000000</td>\n",
       "      <td>0.0</td>\n",
       "      <td>71083.000000</td>\n",
       "    </tr>\n",
       "    <tr>\n",
       "      <th>max</th>\n",
       "      <td>20000.000000</td>\n",
       "      <td>9999.000000</td>\n",
       "      <td>20000.000000</td>\n",
       "      <td>150000.000000</td>\n",
       "      <td>12.000000</td>\n",
       "      <td>0.0</td>\n",
       "      <td>99998.000000</td>\n",
       "    </tr>\n",
       "  </tbody>\n",
       "</table>\n",
       "</div>"
      ],
      "text/plain": [
       "               Price  RegistrationYear          Power      Kilometer  \\\n",
       "count  354369.000000     354369.000000  354369.000000  354369.000000   \n",
       "mean     4416.656776       2004.234448     110.094337  128211.172535   \n",
       "std      4514.158514         90.227958     189.850405   37905.341530   \n",
       "min         0.000000       1000.000000       0.000000    5000.000000   \n",
       "25%      1050.000000       1999.000000      69.000000  125000.000000   \n",
       "50%      2700.000000       2003.000000     105.000000  150000.000000   \n",
       "75%      6400.000000       2008.000000     143.000000  150000.000000   \n",
       "max     20000.000000       9999.000000   20000.000000  150000.000000   \n",
       "\n",
       "       RegistrationMonth  NumberOfPictures     PostalCode  \n",
       "count      354369.000000          354369.0  354369.000000  \n",
       "mean            5.714645               0.0   50508.689087  \n",
       "std             3.726421               0.0   25783.096248  \n",
       "min             0.000000               0.0    1067.000000  \n",
       "25%             3.000000               0.0   30165.000000  \n",
       "50%             6.000000               0.0   49413.000000  \n",
       "75%             9.000000               0.0   71083.000000  \n",
       "max            12.000000               0.0   99998.000000  "
      ]
     },
     "execution_count": 6,
     "metadata": {},
     "output_type": "execute_result"
    }
   ],
   "source": [
    "dataset.describe()"
   ]
  },
  {
   "cell_type": "code",
   "execution_count": 7,
   "metadata": {},
   "outputs": [
    {
     "data": {
      "text/plain": [
       "DateCrawled              0\n",
       "Price                    0\n",
       "VehicleType          37490\n",
       "RegistrationYear         0\n",
       "Gearbox              19833\n",
       "Power                    0\n",
       "Model                19705\n",
       "Kilometer                0\n",
       "RegistrationMonth        0\n",
       "FuelType             32895\n",
       "Brand                    0\n",
       "Repaired             71154\n",
       "DateCreated              0\n",
       "NumberOfPictures         0\n",
       "PostalCode               0\n",
       "LastSeen                 0\n",
       "dtype: int64"
      ]
     },
     "execution_count": 7,
     "metadata": {},
     "output_type": "execute_result"
    }
   ],
   "source": [
    "dataset.isna().sum()"
   ]
  },
  {
   "cell_type": "markdown",
   "metadata": {},
   "source": [
    "Подсчёт пропусков по полям. Пропуски есть в полях: VehicleType, Gearbox, Model, FuelType, Repaired"
   ]
  },
  {
   "cell_type": "markdown",
   "metadata": {},
   "source": [
    "Пропуски имеет смысл заполнить наиболее часто встречающимися значениями полей"
   ]
  },
  {
   "cell_type": "code",
   "execution_count": 8,
   "metadata": {},
   "outputs": [
    {
     "data": {
      "text/plain": [
       "sedan          91457\n",
       "small          79831\n",
       "wagon          65166\n",
       "bus            28775\n",
       "convertible    20203\n",
       "coupe          16163\n",
       "suv            11996\n",
       "other           3288\n",
       "Name: VehicleType, dtype: int64"
      ]
     },
     "execution_count": 8,
     "metadata": {},
     "output_type": "execute_result"
    }
   ],
   "source": [
    "dataset[\"VehicleType\"].value_counts()"
   ]
  },
  {
   "cell_type": "code",
   "execution_count": 9,
   "metadata": {},
   "outputs": [
    {
     "data": {
      "text/plain": [
       "manual    268251\n",
       "auto       66285\n",
       "Name: Gearbox, dtype: int64"
      ]
     },
     "execution_count": 9,
     "metadata": {},
     "output_type": "execute_result"
    }
   ],
   "source": [
    "dataset[\"Gearbox\"].value_counts()"
   ]
  },
  {
   "cell_type": "code",
   "execution_count": 10,
   "metadata": {},
   "outputs": [
    {
     "data": {
      "text/plain": [
       "golf                  29232\n",
       "other                 24421\n",
       "3er                   19761\n",
       "polo                  13066\n",
       "corsa                 12570\n",
       "                      ...  \n",
       "serie_2                   8\n",
       "serie_3                   4\n",
       "rangerover                4\n",
       "serie_1                   2\n",
       "range_rover_evoque        2\n",
       "Name: Model, Length: 250, dtype: int64"
      ]
     },
     "execution_count": 10,
     "metadata": {},
     "output_type": "execute_result"
    }
   ],
   "source": [
    "dataset[\"Model\"].value_counts()"
   ]
  },
  {
   "cell_type": "code",
   "execution_count": 11,
   "metadata": {},
   "outputs": [
    {
     "data": {
      "text/plain": [
       "petrol      216352\n",
       "gasoline     98720\n",
       "lpg           5310\n",
       "cng            565\n",
       "hybrid         233\n",
       "other          204\n",
       "electric        90\n",
       "Name: FuelType, dtype: int64"
      ]
     },
     "execution_count": 11,
     "metadata": {},
     "output_type": "execute_result"
    }
   ],
   "source": [
    "dataset[\"FuelType\"].value_counts()"
   ]
  },
  {
   "cell_type": "code",
   "execution_count": 12,
   "metadata": {},
   "outputs": [
    {
     "data": {
      "text/plain": [
       "no     247161\n",
       "yes     36054\n",
       "Name: Repaired, dtype: int64"
      ]
     },
     "execution_count": 12,
     "metadata": {},
     "output_type": "execute_result"
    }
   ],
   "source": [
    "dataset[\"Repaired\"].value_counts()"
   ]
  },
  {
   "cell_type": "code",
   "execution_count": 13,
   "metadata": {},
   "outputs": [],
   "source": [
    "dataset[\"VehicleType\"] = dataset[\"VehicleType\"].fillna('sedan')\n",
    "dataset[\"Gearbox\"] = dataset[\"Gearbox\"].fillna('manual')\n",
    "dataset[\"Model\"] = dataset[\"Model\"].fillna('golf')\n",
    "dataset[\"FuelType\"] = dataset[\"FuelType\"].fillna('petrol')\n",
    "dataset[\"Repaired\"] = dataset[\"Repaired\"].fillna('no')"
   ]
  },
  {
   "cell_type": "code",
   "execution_count": 14,
   "metadata": {},
   "outputs": [
    {
     "data": {
      "text/plain": [
       "count    354369.000000\n",
       "mean       4416.656776\n",
       "std        4514.158514\n",
       "min           0.000000\n",
       "25%        1050.000000\n",
       "50%        2700.000000\n",
       "75%        6400.000000\n",
       "max       20000.000000\n",
       "Name: Price, dtype: float64"
      ]
     },
     "execution_count": 14,
     "metadata": {},
     "output_type": "execute_result"
    }
   ],
   "source": [
    "dataset['Price'].describe()"
   ]
  },
  {
   "cell_type": "markdown",
   "metadata": {},
   "source": [
    "Описательная статистика по целевому признаку (цене)"
   ]
  },
  {
   "cell_type": "code",
   "execution_count": 15,
   "metadata": {},
   "outputs": [],
   "source": [
    "dataset = dataset.query('Price > 0')"
   ]
  },
  {
   "cell_type": "markdown",
   "metadata": {},
   "source": [
    "Убираю значения с нулевым прайсом"
   ]
  },
  {
   "cell_type": "code",
   "execution_count": 16,
   "metadata": {},
   "outputs": [],
   "source": [
    "dataset = dataset.query('Power > 0')"
   ]
  },
  {
   "cell_type": "markdown",
   "metadata": {},
   "source": [
    "Убираю записи с нулевой мощностью"
   ]
  },
  {
   "cell_type": "code",
   "execution_count": 17,
   "metadata": {},
   "outputs": [],
   "source": [
    "dataset = dataset.drop(['RegistrationMonth', 'DateCrawled', 'NumberOfPictures', 'DateCreated', 'PostalCode', 'LastSeen'], axis=1)"
   ]
  },
  {
   "cell_type": "markdown",
   "metadata": {},
   "source": [
    "Оставляю таблицу с признаками, которые нужны для обучения моделей"
   ]
  },
  {
   "cell_type": "code",
   "execution_count": 18,
   "metadata": {},
   "outputs": [
    {
     "data": {
      "text/plain": [
       "49530"
      ]
     },
     "execution_count": 18,
     "metadata": {},
     "output_type": "execute_result"
    }
   ],
   "source": [
    "dataset.duplicated().sum()"
   ]
  },
  {
   "cell_type": "markdown",
   "metadata": {},
   "source": [
    "4 дубликата"
   ]
  },
  {
   "cell_type": "code",
   "execution_count": 19,
   "metadata": {},
   "outputs": [
    {
     "data": {
      "text/plain": [
       "0"
      ]
     },
     "execution_count": 19,
     "metadata": {},
     "output_type": "execute_result"
    }
   ],
   "source": [
    "dataset = dataset.drop_duplicates()\n",
    "dataset.duplicated().sum()"
   ]
  },
  {
   "cell_type": "markdown",
   "metadata": {},
   "source": [
    "Убрали дубликаты"
   ]
  },
  {
   "cell_type": "code",
   "execution_count": 20,
   "metadata": {},
   "outputs": [],
   "source": [
    "dataset = dataset.query('RegistrationYear >= 1950')"
   ]
  },
  {
   "cell_type": "markdown",
   "metadata": {},
   "source": [
    "Есть смысл удалить старые данные"
   ]
  },
  {
   "cell_type": "code",
   "execution_count": 21,
   "metadata": {},
   "outputs": [],
   "source": [
    "dataset = dataset.query('RegistrationYear < 2023')"
   ]
  },
  {
   "cell_type": "markdown",
   "metadata": {},
   "source": [
    "**Промежуточный вывод:**\n",
    "\n",
    "Убрал аномальные значения, заполнил пропуски и убрал ненужные признаки "
   ]
  },
  {
   "cell_type": "markdown",
   "metadata": {},
   "source": [
    "## Обучение моделей"
   ]
  },
  {
   "cell_type": "markdown",
   "metadata": {},
   "source": [
    "Перевод категориальных значений в количественные"
   ]
  },
  {
   "cell_type": "code",
   "execution_count": 22,
   "metadata": {},
   "outputs": [
    {
     "data": {
      "text/html": [
       "<div>\n",
       "<style scoped>\n",
       "    .dataframe tbody tr th:only-of-type {\n",
       "        vertical-align: middle;\n",
       "    }\n",
       "\n",
       "    .dataframe tbody tr th {\n",
       "        vertical-align: top;\n",
       "    }\n",
       "\n",
       "    .dataframe thead th {\n",
       "        text-align: right;\n",
       "    }\n",
       "</style>\n",
       "<table border=\"1\" class=\"dataframe\">\n",
       "  <thead>\n",
       "    <tr style=\"text-align: right;\">\n",
       "      <th></th>\n",
       "      <th>Price</th>\n",
       "      <th>RegistrationYear</th>\n",
       "      <th>Power</th>\n",
       "      <th>Kilometer</th>\n",
       "      <th>VehicleType_convertible</th>\n",
       "      <th>VehicleType_coupe</th>\n",
       "      <th>VehicleType_other</th>\n",
       "      <th>VehicleType_sedan</th>\n",
       "      <th>VehicleType_small</th>\n",
       "      <th>VehicleType_suv</th>\n",
       "      <th>...</th>\n",
       "      <th>Brand_skoda</th>\n",
       "      <th>Brand_smart</th>\n",
       "      <th>Brand_sonstige_autos</th>\n",
       "      <th>Brand_subaru</th>\n",
       "      <th>Brand_suzuki</th>\n",
       "      <th>Brand_toyota</th>\n",
       "      <th>Brand_trabant</th>\n",
       "      <th>Brand_volkswagen</th>\n",
       "      <th>Brand_volvo</th>\n",
       "      <th>Repaired_yes</th>\n",
       "    </tr>\n",
       "  </thead>\n",
       "  <tbody>\n",
       "    <tr>\n",
       "      <th>1</th>\n",
       "      <td>18300</td>\n",
       "      <td>2011</td>\n",
       "      <td>190</td>\n",
       "      <td>125000</td>\n",
       "      <td>0</td>\n",
       "      <td>1</td>\n",
       "      <td>0</td>\n",
       "      <td>0</td>\n",
       "      <td>0</td>\n",
       "      <td>0</td>\n",
       "      <td>...</td>\n",
       "      <td>0</td>\n",
       "      <td>0</td>\n",
       "      <td>0</td>\n",
       "      <td>0</td>\n",
       "      <td>0</td>\n",
       "      <td>0</td>\n",
       "      <td>0</td>\n",
       "      <td>0</td>\n",
       "      <td>0</td>\n",
       "      <td>1</td>\n",
       "    </tr>\n",
       "    <tr>\n",
       "      <th>2</th>\n",
       "      <td>9800</td>\n",
       "      <td>2004</td>\n",
       "      <td>163</td>\n",
       "      <td>125000</td>\n",
       "      <td>0</td>\n",
       "      <td>0</td>\n",
       "      <td>0</td>\n",
       "      <td>0</td>\n",
       "      <td>0</td>\n",
       "      <td>1</td>\n",
       "      <td>...</td>\n",
       "      <td>0</td>\n",
       "      <td>0</td>\n",
       "      <td>0</td>\n",
       "      <td>0</td>\n",
       "      <td>0</td>\n",
       "      <td>0</td>\n",
       "      <td>0</td>\n",
       "      <td>0</td>\n",
       "      <td>0</td>\n",
       "      <td>0</td>\n",
       "    </tr>\n",
       "    <tr>\n",
       "      <th>3</th>\n",
       "      <td>1500</td>\n",
       "      <td>2001</td>\n",
       "      <td>75</td>\n",
       "      <td>150000</td>\n",
       "      <td>0</td>\n",
       "      <td>0</td>\n",
       "      <td>0</td>\n",
       "      <td>0</td>\n",
       "      <td>1</td>\n",
       "      <td>0</td>\n",
       "      <td>...</td>\n",
       "      <td>0</td>\n",
       "      <td>0</td>\n",
       "      <td>0</td>\n",
       "      <td>0</td>\n",
       "      <td>0</td>\n",
       "      <td>0</td>\n",
       "      <td>0</td>\n",
       "      <td>1</td>\n",
       "      <td>0</td>\n",
       "      <td>0</td>\n",
       "    </tr>\n",
       "    <tr>\n",
       "      <th>4</th>\n",
       "      <td>3600</td>\n",
       "      <td>2008</td>\n",
       "      <td>69</td>\n",
       "      <td>90000</td>\n",
       "      <td>0</td>\n",
       "      <td>0</td>\n",
       "      <td>0</td>\n",
       "      <td>0</td>\n",
       "      <td>1</td>\n",
       "      <td>0</td>\n",
       "      <td>...</td>\n",
       "      <td>1</td>\n",
       "      <td>0</td>\n",
       "      <td>0</td>\n",
       "      <td>0</td>\n",
       "      <td>0</td>\n",
       "      <td>0</td>\n",
       "      <td>0</td>\n",
       "      <td>0</td>\n",
       "      <td>0</td>\n",
       "      <td>0</td>\n",
       "    </tr>\n",
       "    <tr>\n",
       "      <th>5</th>\n",
       "      <td>650</td>\n",
       "      <td>1995</td>\n",
       "      <td>102</td>\n",
       "      <td>150000</td>\n",
       "      <td>0</td>\n",
       "      <td>0</td>\n",
       "      <td>0</td>\n",
       "      <td>1</td>\n",
       "      <td>0</td>\n",
       "      <td>0</td>\n",
       "      <td>...</td>\n",
       "      <td>0</td>\n",
       "      <td>0</td>\n",
       "      <td>0</td>\n",
       "      <td>0</td>\n",
       "      <td>0</td>\n",
       "      <td>0</td>\n",
       "      <td>0</td>\n",
       "      <td>0</td>\n",
       "      <td>0</td>\n",
       "      <td>1</td>\n",
       "    </tr>\n",
       "    <tr>\n",
       "      <th>6</th>\n",
       "      <td>2200</td>\n",
       "      <td>2004</td>\n",
       "      <td>109</td>\n",
       "      <td>150000</td>\n",
       "      <td>1</td>\n",
       "      <td>0</td>\n",
       "      <td>0</td>\n",
       "      <td>0</td>\n",
       "      <td>0</td>\n",
       "      <td>0</td>\n",
       "      <td>...</td>\n",
       "      <td>0</td>\n",
       "      <td>0</td>\n",
       "      <td>0</td>\n",
       "      <td>0</td>\n",
       "      <td>0</td>\n",
       "      <td>0</td>\n",
       "      <td>0</td>\n",
       "      <td>0</td>\n",
       "      <td>0</td>\n",
       "      <td>0</td>\n",
       "    </tr>\n",
       "    <tr>\n",
       "      <th>8</th>\n",
       "      <td>14500</td>\n",
       "      <td>2014</td>\n",
       "      <td>125</td>\n",
       "      <td>30000</td>\n",
       "      <td>0</td>\n",
       "      <td>0</td>\n",
       "      <td>0</td>\n",
       "      <td>0</td>\n",
       "      <td>0</td>\n",
       "      <td>0</td>\n",
       "      <td>...</td>\n",
       "      <td>0</td>\n",
       "      <td>0</td>\n",
       "      <td>0</td>\n",
       "      <td>0</td>\n",
       "      <td>0</td>\n",
       "      <td>0</td>\n",
       "      <td>0</td>\n",
       "      <td>0</td>\n",
       "      <td>0</td>\n",
       "      <td>0</td>\n",
       "    </tr>\n",
       "    <tr>\n",
       "      <th>9</th>\n",
       "      <td>999</td>\n",
       "      <td>1998</td>\n",
       "      <td>101</td>\n",
       "      <td>150000</td>\n",
       "      <td>0</td>\n",
       "      <td>0</td>\n",
       "      <td>0</td>\n",
       "      <td>0</td>\n",
       "      <td>1</td>\n",
       "      <td>0</td>\n",
       "      <td>...</td>\n",
       "      <td>0</td>\n",
       "      <td>0</td>\n",
       "      <td>0</td>\n",
       "      <td>0</td>\n",
       "      <td>0</td>\n",
       "      <td>0</td>\n",
       "      <td>0</td>\n",
       "      <td>1</td>\n",
       "      <td>0</td>\n",
       "      <td>0</td>\n",
       "    </tr>\n",
       "    <tr>\n",
       "      <th>10</th>\n",
       "      <td>2000</td>\n",
       "      <td>2004</td>\n",
       "      <td>105</td>\n",
       "      <td>150000</td>\n",
       "      <td>0</td>\n",
       "      <td>0</td>\n",
       "      <td>0</td>\n",
       "      <td>1</td>\n",
       "      <td>0</td>\n",
       "      <td>0</td>\n",
       "      <td>...</td>\n",
       "      <td>0</td>\n",
       "      <td>0</td>\n",
       "      <td>0</td>\n",
       "      <td>0</td>\n",
       "      <td>0</td>\n",
       "      <td>0</td>\n",
       "      <td>0</td>\n",
       "      <td>0</td>\n",
       "      <td>0</td>\n",
       "      <td>0</td>\n",
       "    </tr>\n",
       "    <tr>\n",
       "      <th>11</th>\n",
       "      <td>2799</td>\n",
       "      <td>2005</td>\n",
       "      <td>140</td>\n",
       "      <td>150000</td>\n",
       "      <td>0</td>\n",
       "      <td>0</td>\n",
       "      <td>0</td>\n",
       "      <td>0</td>\n",
       "      <td>0</td>\n",
       "      <td>0</td>\n",
       "      <td>...</td>\n",
       "      <td>0</td>\n",
       "      <td>0</td>\n",
       "      <td>0</td>\n",
       "      <td>0</td>\n",
       "      <td>0</td>\n",
       "      <td>0</td>\n",
       "      <td>0</td>\n",
       "      <td>1</td>\n",
       "      <td>0</td>\n",
       "      <td>1</td>\n",
       "    </tr>\n",
       "  </tbody>\n",
       "</table>\n",
       "<p>10 rows × 306 columns</p>\n",
       "</div>"
      ],
      "text/plain": [
       "    Price  RegistrationYear  Power  Kilometer  VehicleType_convertible  \\\n",
       "1   18300              2011    190     125000                        0   \n",
       "2    9800              2004    163     125000                        0   \n",
       "3    1500              2001     75     150000                        0   \n",
       "4    3600              2008     69      90000                        0   \n",
       "5     650              1995    102     150000                        0   \n",
       "6    2200              2004    109     150000                        1   \n",
       "8   14500              2014    125      30000                        0   \n",
       "9     999              1998    101     150000                        0   \n",
       "10   2000              2004    105     150000                        0   \n",
       "11   2799              2005    140     150000                        0   \n",
       "\n",
       "    VehicleType_coupe  VehicleType_other  VehicleType_sedan  \\\n",
       "1                   1                  0                  0   \n",
       "2                   0                  0                  0   \n",
       "3                   0                  0                  0   \n",
       "4                   0                  0                  0   \n",
       "5                   0                  0                  1   \n",
       "6                   0                  0                  0   \n",
       "8                   0                  0                  0   \n",
       "9                   0                  0                  0   \n",
       "10                  0                  0                  1   \n",
       "11                  0                  0                  0   \n",
       "\n",
       "    VehicleType_small  VehicleType_suv  ...  Brand_skoda  Brand_smart  \\\n",
       "1                   0                0  ...            0            0   \n",
       "2                   0                1  ...            0            0   \n",
       "3                   1                0  ...            0            0   \n",
       "4                   1                0  ...            1            0   \n",
       "5                   0                0  ...            0            0   \n",
       "6                   0                0  ...            0            0   \n",
       "8                   0                0  ...            0            0   \n",
       "9                   1                0  ...            0            0   \n",
       "10                  0                0  ...            0            0   \n",
       "11                  0                0  ...            0            0   \n",
       "\n",
       "    Brand_sonstige_autos  Brand_subaru  Brand_suzuki  Brand_toyota  \\\n",
       "1                      0             0             0             0   \n",
       "2                      0             0             0             0   \n",
       "3                      0             0             0             0   \n",
       "4                      0             0             0             0   \n",
       "5                      0             0             0             0   \n",
       "6                      0             0             0             0   \n",
       "8                      0             0             0             0   \n",
       "9                      0             0             0             0   \n",
       "10                     0             0             0             0   \n",
       "11                     0             0             0             0   \n",
       "\n",
       "    Brand_trabant  Brand_volkswagen  Brand_volvo  Repaired_yes  \n",
       "1               0                 0            0             1  \n",
       "2               0                 0            0             0  \n",
       "3               0                 1            0             0  \n",
       "4               0                 0            0             0  \n",
       "5               0                 0            0             1  \n",
       "6               0                 0            0             0  \n",
       "8               0                 0            0             0  \n",
       "9               0                 1            0             0  \n",
       "10              0                 0            0             0  \n",
       "11              0                 1            0             1  \n",
       "\n",
       "[10 rows x 306 columns]"
      ]
     },
     "execution_count": 22,
     "metadata": {},
     "output_type": "execute_result"
    }
   ],
   "source": [
    "dataset = pd.get_dummies(dataset, drop_first=True)\n",
    "dataset.head(10)"
   ]
  },
  {
   "cell_type": "markdown",
   "metadata": {},
   "source": [
    "Разделение на входные и целевой признаки"
   ]
  },
  {
   "cell_type": "code",
   "execution_count": 23,
   "metadata": {},
   "outputs": [],
   "source": [
    "X = dataset.drop('Price', axis=1)\n",
    "y = dataset['Price'] "
   ]
  },
  {
   "cell_type": "markdown",
   "metadata": {},
   "source": [
    "Разделение на тренировочную и тестовую выборки"
   ]
  },
  {
   "cell_type": "code",
   "execution_count": 24,
   "metadata": {},
   "outputs": [],
   "source": [
    "features_train, features_test, target_train, target_test = train_test_split(X, y, test_size=0.2, random_state=42)"
   ]
  },
  {
   "cell_type": "markdown",
   "metadata": {},
   "source": [
    "Линейная регрессия"
   ]
  },
  {
   "cell_type": "code",
   "execution_count": 25,
   "metadata": {},
   "outputs": [
    {
     "name": "stdout",
     "output_type": "stream",
     "text": [
      "CPU times: user 59.9 s, sys: 38.9 s, total: 1min 38s\n",
      "Wall time: 2min\n"
     ]
    }
   ],
   "source": [
    "%%time\n",
    "start = time.time()\n",
    "lr_model = LinearRegression()\n",
    "CV = cross_val_score(lr_model, features_train, target_train, cv=5, scoring='neg_mean_squared_error')\n",
    "#model_lr.fit(features_train, target_train)\n",
    "end = time.time()\n",
    "time_lr = round(end - start, 2)"
   ]
  },
  {
   "cell_type": "code",
   "execution_count": 26,
   "metadata": {},
   "outputs": [],
   "source": [
    "rmse_cv = round((-CV.mean()) ** 0.5, 2)"
   ]
  },
  {
   "cell_type": "code",
   "execution_count": 27,
   "metadata": {},
   "outputs": [
    {
     "data": {
      "text/plain": [
       "'RMSE: 2978.34'"
      ]
     },
     "execution_count": 27,
     "metadata": {},
     "output_type": "execute_result"
    }
   ],
   "source": [
    "f\"RMSE: {rmse_cv}\""
   ]
  },
  {
   "cell_type": "code",
   "execution_count": 28,
   "metadata": {},
   "outputs": [
    {
     "name": "stdout",
     "output_type": "stream",
     "text": [
      "CPU times: user 13.7 s, sys: 8.45 s, total: 22.2 s\n",
      "Wall time: 26.7 s\n"
     ]
    },
    {
     "data": {
      "text/html": [
       "<style>#sk-container-id-1 {color: black;}#sk-container-id-1 pre{padding: 0;}#sk-container-id-1 div.sk-toggleable {background-color: white;}#sk-container-id-1 label.sk-toggleable__label {cursor: pointer;display: block;width: 100%;margin-bottom: 0;padding: 0.3em;box-sizing: border-box;text-align: center;}#sk-container-id-1 label.sk-toggleable__label-arrow:before {content: \"▸\";float: left;margin-right: 0.25em;color: #696969;}#sk-container-id-1 label.sk-toggleable__label-arrow:hover:before {color: black;}#sk-container-id-1 div.sk-estimator:hover label.sk-toggleable__label-arrow:before {color: black;}#sk-container-id-1 div.sk-toggleable__content {max-height: 0;max-width: 0;overflow: hidden;text-align: left;background-color: #f0f8ff;}#sk-container-id-1 div.sk-toggleable__content pre {margin: 0.2em;color: black;border-radius: 0.25em;background-color: #f0f8ff;}#sk-container-id-1 input.sk-toggleable__control:checked~div.sk-toggleable__content {max-height: 200px;max-width: 100%;overflow: auto;}#sk-container-id-1 input.sk-toggleable__control:checked~label.sk-toggleable__label-arrow:before {content: \"▾\";}#sk-container-id-1 div.sk-estimator input.sk-toggleable__control:checked~label.sk-toggleable__label {background-color: #d4ebff;}#sk-container-id-1 div.sk-label input.sk-toggleable__control:checked~label.sk-toggleable__label {background-color: #d4ebff;}#sk-container-id-1 input.sk-hidden--visually {border: 0;clip: rect(1px 1px 1px 1px);clip: rect(1px, 1px, 1px, 1px);height: 1px;margin: -1px;overflow: hidden;padding: 0;position: absolute;width: 1px;}#sk-container-id-1 div.sk-estimator {font-family: monospace;background-color: #f0f8ff;border: 1px dotted black;border-radius: 0.25em;box-sizing: border-box;margin-bottom: 0.5em;}#sk-container-id-1 div.sk-estimator:hover {background-color: #d4ebff;}#sk-container-id-1 div.sk-parallel-item::after {content: \"\";width: 100%;border-bottom: 1px solid gray;flex-grow: 1;}#sk-container-id-1 div.sk-label:hover label.sk-toggleable__label {background-color: #d4ebff;}#sk-container-id-1 div.sk-serial::before {content: \"\";position: absolute;border-left: 1px solid gray;box-sizing: border-box;top: 0;bottom: 0;left: 50%;z-index: 0;}#sk-container-id-1 div.sk-serial {display: flex;flex-direction: column;align-items: center;background-color: white;padding-right: 0.2em;padding-left: 0.2em;position: relative;}#sk-container-id-1 div.sk-item {position: relative;z-index: 1;}#sk-container-id-1 div.sk-parallel {display: flex;align-items: stretch;justify-content: center;background-color: white;position: relative;}#sk-container-id-1 div.sk-item::before, #sk-container-id-1 div.sk-parallel-item::before {content: \"\";position: absolute;border-left: 1px solid gray;box-sizing: border-box;top: 0;bottom: 0;left: 50%;z-index: -1;}#sk-container-id-1 div.sk-parallel-item {display: flex;flex-direction: column;z-index: 1;position: relative;background-color: white;}#sk-container-id-1 div.sk-parallel-item:first-child::after {align-self: flex-end;width: 50%;}#sk-container-id-1 div.sk-parallel-item:last-child::after {align-self: flex-start;width: 50%;}#sk-container-id-1 div.sk-parallel-item:only-child::after {width: 0;}#sk-container-id-1 div.sk-dashed-wrapped {border: 1px dashed gray;margin: 0 0.4em 0.5em 0.4em;box-sizing: border-box;padding-bottom: 0.4em;background-color: white;}#sk-container-id-1 div.sk-label label {font-family: monospace;font-weight: bold;display: inline-block;line-height: 1.2em;}#sk-container-id-1 div.sk-label-container {text-align: center;}#sk-container-id-1 div.sk-container {/* jupyter's `normalize.less` sets `[hidden] { display: none; }` but bootstrap.min.css set `[hidden] { display: none !important; }` so we also need the `!important` here to be able to override the default hidden behavior on the sphinx rendered scikit-learn.org. See: https://github.com/scikit-learn/scikit-learn/issues/21755 */display: inline-block !important;position: relative;}#sk-container-id-1 div.sk-text-repr-fallback {display: none;}</style><div id=\"sk-container-id-1\" class=\"sk-top-container\"><div class=\"sk-text-repr-fallback\"><pre>LinearRegression()</pre><b>In a Jupyter environment, please rerun this cell to show the HTML representation or trust the notebook. <br />On GitHub, the HTML representation is unable to render, please try loading this page with nbviewer.org.</b></div><div class=\"sk-container\" hidden><div class=\"sk-item\"><div class=\"sk-estimator sk-toggleable\"><input class=\"sk-toggleable__control sk-hidden--visually\" id=\"sk-estimator-id-1\" type=\"checkbox\" checked><label for=\"sk-estimator-id-1\" class=\"sk-toggleable__label sk-toggleable__label-arrow\">LinearRegression</label><div class=\"sk-toggleable__content\"><pre>LinearRegression()</pre></div></div></div></div></div>"
      ],
      "text/plain": [
       "LinearRegression()"
      ]
     },
     "execution_count": 28,
     "metadata": {},
     "output_type": "execute_result"
    }
   ],
   "source": [
    "%%time\n",
    "lr_model = LinearRegression()\n",
    "lr_model.fit(features_train, target_train)"
   ]
  },
  {
   "cell_type": "code",
   "execution_count": 29,
   "metadata": {},
   "outputs": [
    {
     "name": "stdout",
     "output_type": "stream",
     "text": [
      "CPU times: user 127 ms, sys: 119 ms, total: 246 ms\n",
      "Wall time: 393 ms\n"
     ]
    }
   ],
   "source": [
    "%%time\n",
    "start = time.time()\n",
    "predict_lr = lr_model.predict(features_test)\n",
    "end = time.time()\n",
    "time_lr_predict = round(end-start,2)"
   ]
  },
  {
   "cell_type": "code",
   "execution_count": 30,
   "metadata": {},
   "outputs": [
    {
     "name": "stdout",
     "output_type": "stream",
     "text": [
      "RMSE: 2999.29\n"
     ]
    }
   ],
   "source": [
    "lr_rmse = mean_squared_error(target_test, predict_lr)**0.5\n",
    "print('RMSE:', lr_rmse.round(2))"
   ]
  },
  {
   "cell_type": "markdown",
   "metadata": {},
   "source": [
    "LightGBM"
   ]
  },
  {
   "cell_type": "markdown",
   "metadata": {},
   "source": [
    "Выделим признаки и целевой признак"
   ]
  },
  {
   "cell_type": "code",
   "execution_count": 31,
   "metadata": {},
   "outputs": [],
   "source": [
    "X = dataset.drop('Price', axis=1)\n",
    "y = dataset['Price']"
   ]
  },
  {
   "cell_type": "markdown",
   "metadata": {},
   "source": [
    "Перевод категориальных признаков в тип category"
   ]
  },
  {
   "cell_type": "code",
   "execution_count": 32,
   "metadata": {},
   "outputs": [],
   "source": [
    "for i in X.columns:\n",
    "    col_type = X[i].dtype\n",
    "    if col_type == 'object':\n",
    "        X[i] = X[i].astype('category')"
   ]
  },
  {
   "cell_type": "code",
   "execution_count": 33,
   "metadata": {},
   "outputs": [],
   "source": [
    "features_train, features_test, target_train, target_test = train_test_split(X, y, test_size=0.2, random_state=42)"
   ]
  },
  {
   "cell_type": "code",
   "execution_count": 34,
   "metadata": {},
   "outputs": [
    {
     "name": "stdout",
     "output_type": "stream",
     "text": [
      "CPU times: user 5min 11s, sys: 688 ms, total: 5min 11s\n",
      "Wall time: 6min 28s\n"
     ]
    }
   ],
   "source": [
    "%%time\n",
    "start = time.time()\n",
    "model = lgbm.LGBMRegressor(random_state=42)\n",
    "model.fit(features_train, target_train)\n",
    "end = time.time()\n",
    "time_lgbm = round(end-start,2)"
   ]
  },
  {
   "cell_type": "code",
   "execution_count": 35,
   "metadata": {},
   "outputs": [
    {
     "name": "stdout",
     "output_type": "stream",
     "text": [
      "CPU times: user 595 ms, sys: 79.2 ms, total: 674 ms\n",
      "Wall time: 901 ms\n"
     ]
    }
   ],
   "source": [
    "%%time\n",
    "start = time.time()\n",
    "predictions_train = model.predict(features_test)\n",
    "end = time.time()\n",
    "t_lgbm_predict = round(end - start, 2)"
   ]
  },
  {
   "cell_type": "code",
   "execution_count": 36,
   "metadata": {
    "scrolled": false
   },
   "outputs": [
    {
     "name": "stdout",
     "output_type": "stream",
     "text": [
      "RMSE: 1780.46\n"
     ]
    }
   ],
   "source": [
    "lgbm_rmse = mean_squared_error(target_test, predictions_train)**0.5\n",
    "print('RMSE:', lgbm_rmse.round(2))"
   ]
  },
  {
   "cell_type": "markdown",
   "metadata": {},
   "source": [
    "Гиперпараметры для LightGBM"
   ]
  },
  {
   "cell_type": "code",
   "execution_count": 37,
   "metadata": {},
   "outputs": [],
   "source": [
    "numerical_features = ['DateCreated', 'Price', 'RegistrationYear', 'Power', 'Kilometer', 'LastSeen']\n",
    "categorical_features = ['VehicleType', 'Gearbox', 'Model', 'FuelType', 'Repaired', 'Brand']"
   ]
  },
  {
   "cell_type": "code",
   "execution_count": 38,
   "metadata": {},
   "outputs": [],
   "source": [
    "categorical_features = [col for col in list(dataset.columns) if col not in numerical_features]"
   ]
  },
  {
   "cell_type": "code",
   "execution_count": 39,
   "metadata": {},
   "outputs": [
    {
     "name": "stdout",
     "output_type": "stream",
     "text": [
      "CPU times: user 48min 33s, sys: 29.2 s, total: 49min 2s\n",
      "Wall time: 53min 46s\n"
     ]
    },
    {
     "data": {
      "text/html": [
       "<style>#sk-container-id-2 {color: black;}#sk-container-id-2 pre{padding: 0;}#sk-container-id-2 div.sk-toggleable {background-color: white;}#sk-container-id-2 label.sk-toggleable__label {cursor: pointer;display: block;width: 100%;margin-bottom: 0;padding: 0.3em;box-sizing: border-box;text-align: center;}#sk-container-id-2 label.sk-toggleable__label-arrow:before {content: \"▸\";float: left;margin-right: 0.25em;color: #696969;}#sk-container-id-2 label.sk-toggleable__label-arrow:hover:before {color: black;}#sk-container-id-2 div.sk-estimator:hover label.sk-toggleable__label-arrow:before {color: black;}#sk-container-id-2 div.sk-toggleable__content {max-height: 0;max-width: 0;overflow: hidden;text-align: left;background-color: #f0f8ff;}#sk-container-id-2 div.sk-toggleable__content pre {margin: 0.2em;color: black;border-radius: 0.25em;background-color: #f0f8ff;}#sk-container-id-2 input.sk-toggleable__control:checked~div.sk-toggleable__content {max-height: 200px;max-width: 100%;overflow: auto;}#sk-container-id-2 input.sk-toggleable__control:checked~label.sk-toggleable__label-arrow:before {content: \"▾\";}#sk-container-id-2 div.sk-estimator input.sk-toggleable__control:checked~label.sk-toggleable__label {background-color: #d4ebff;}#sk-container-id-2 div.sk-label input.sk-toggleable__control:checked~label.sk-toggleable__label {background-color: #d4ebff;}#sk-container-id-2 input.sk-hidden--visually {border: 0;clip: rect(1px 1px 1px 1px);clip: rect(1px, 1px, 1px, 1px);height: 1px;margin: -1px;overflow: hidden;padding: 0;position: absolute;width: 1px;}#sk-container-id-2 div.sk-estimator {font-family: monospace;background-color: #f0f8ff;border: 1px dotted black;border-radius: 0.25em;box-sizing: border-box;margin-bottom: 0.5em;}#sk-container-id-2 div.sk-estimator:hover {background-color: #d4ebff;}#sk-container-id-2 div.sk-parallel-item::after {content: \"\";width: 100%;border-bottom: 1px solid gray;flex-grow: 1;}#sk-container-id-2 div.sk-label:hover label.sk-toggleable__label {background-color: #d4ebff;}#sk-container-id-2 div.sk-serial::before {content: \"\";position: absolute;border-left: 1px solid gray;box-sizing: border-box;top: 0;bottom: 0;left: 50%;z-index: 0;}#sk-container-id-2 div.sk-serial {display: flex;flex-direction: column;align-items: center;background-color: white;padding-right: 0.2em;padding-left: 0.2em;position: relative;}#sk-container-id-2 div.sk-item {position: relative;z-index: 1;}#sk-container-id-2 div.sk-parallel {display: flex;align-items: stretch;justify-content: center;background-color: white;position: relative;}#sk-container-id-2 div.sk-item::before, #sk-container-id-2 div.sk-parallel-item::before {content: \"\";position: absolute;border-left: 1px solid gray;box-sizing: border-box;top: 0;bottom: 0;left: 50%;z-index: -1;}#sk-container-id-2 div.sk-parallel-item {display: flex;flex-direction: column;z-index: 1;position: relative;background-color: white;}#sk-container-id-2 div.sk-parallel-item:first-child::after {align-self: flex-end;width: 50%;}#sk-container-id-2 div.sk-parallel-item:last-child::after {align-self: flex-start;width: 50%;}#sk-container-id-2 div.sk-parallel-item:only-child::after {width: 0;}#sk-container-id-2 div.sk-dashed-wrapped {border: 1px dashed gray;margin: 0 0.4em 0.5em 0.4em;box-sizing: border-box;padding-bottom: 0.4em;background-color: white;}#sk-container-id-2 div.sk-label label {font-family: monospace;font-weight: bold;display: inline-block;line-height: 1.2em;}#sk-container-id-2 div.sk-label-container {text-align: center;}#sk-container-id-2 div.sk-container {/* jupyter's `normalize.less` sets `[hidden] { display: none; }` but bootstrap.min.css set `[hidden] { display: none !important; }` so we also need the `!important` here to be able to override the default hidden behavior on the sphinx rendered scikit-learn.org. See: https://github.com/scikit-learn/scikit-learn/issues/21755 */display: inline-block !important;position: relative;}#sk-container-id-2 div.sk-text-repr-fallback {display: none;}</style><div id=\"sk-container-id-2\" class=\"sk-top-container\"><div class=\"sk-text-repr-fallback\"><pre>GridSearchCV(cv=3, estimator=LGBMRegressor(n_jobs=8), n_jobs=-1,\n",
       "             param_grid={&#x27;learning_rate&#x27;: [0.1, 0.3, 0.5, 0.7],\n",
       "                         &#x27;max_depth&#x27;: [15, 20, 30, 35]},\n",
       "             scoring=&#x27;neg_mean_squared_error&#x27;)</pre><b>In a Jupyter environment, please rerun this cell to show the HTML representation or trust the notebook. <br />On GitHub, the HTML representation is unable to render, please try loading this page with nbviewer.org.</b></div><div class=\"sk-container\" hidden><div class=\"sk-item sk-dashed-wrapped\"><div class=\"sk-label-container\"><div class=\"sk-label sk-toggleable\"><input class=\"sk-toggleable__control sk-hidden--visually\" id=\"sk-estimator-id-2\" type=\"checkbox\" ><label for=\"sk-estimator-id-2\" class=\"sk-toggleable__label sk-toggleable__label-arrow\">GridSearchCV</label><div class=\"sk-toggleable__content\"><pre>GridSearchCV(cv=3, estimator=LGBMRegressor(n_jobs=8), n_jobs=-1,\n",
       "             param_grid={&#x27;learning_rate&#x27;: [0.1, 0.3, 0.5, 0.7],\n",
       "                         &#x27;max_depth&#x27;: [15, 20, 30, 35]},\n",
       "             scoring=&#x27;neg_mean_squared_error&#x27;)</pre></div></div></div><div class=\"sk-parallel\"><div class=\"sk-parallel-item\"><div class=\"sk-item\"><div class=\"sk-label-container\"><div class=\"sk-label sk-toggleable\"><input class=\"sk-toggleable__control sk-hidden--visually\" id=\"sk-estimator-id-3\" type=\"checkbox\" ><label for=\"sk-estimator-id-3\" class=\"sk-toggleable__label sk-toggleable__label-arrow\">estimator: LGBMRegressor</label><div class=\"sk-toggleable__content\"><pre>LGBMRegressor(n_jobs=8)</pre></div></div></div><div class=\"sk-serial\"><div class=\"sk-item\"><div class=\"sk-estimator sk-toggleable\"><input class=\"sk-toggleable__control sk-hidden--visually\" id=\"sk-estimator-id-4\" type=\"checkbox\" ><label for=\"sk-estimator-id-4\" class=\"sk-toggleable__label sk-toggleable__label-arrow\">LGBMRegressor</label><div class=\"sk-toggleable__content\"><pre>LGBMRegressor(n_jobs=8)</pre></div></div></div></div></div></div></div></div></div></div>"
      ],
      "text/plain": [
       "GridSearchCV(cv=3, estimator=LGBMRegressor(n_jobs=8), n_jobs=-1,\n",
       "             param_grid={'learning_rate': [0.1, 0.3, 0.5, 0.7],\n",
       "                         'max_depth': [15, 20, 30, 35]},\n",
       "             scoring='neg_mean_squared_error')"
      ]
     },
     "execution_count": 39,
     "metadata": {},
     "output_type": "execute_result"
    }
   ],
   "source": [
    "%%time\n",
    "train_data = lgbm.Dataset(features_train, label=target_train, \n",
    "                              free_raw_data=False,\n",
    "                              categorical_feature=categorical_features)\n",
    "test_data = lgbm.Dataset(features_test, label=target_test)\n",
    "\n",
    "param_grid = {'learning_rate': [0.1, 0.3, 0.5, 0.7],\n",
    "              'max_depth': [15, 20, 30, 35]}\n",
    "\n",
    "lgbm = lgbm.LGBMRegressor(n_jobs = 8)\n",
    "\n",
    "grid_search = GridSearchCV(estimator = lgbm, \n",
    "                           param_grid = param_grid, \n",
    "                           cv = 3,\n",
    "                           n_jobs = -1, \n",
    "                           verbose = 0, \n",
    "                           scoring = 'neg_mean_squared_error')\n",
    "grid_search.fit(features_train, target_train)"
   ]
  },
  {
   "cell_type": "code",
   "execution_count": 40,
   "metadata": {},
   "outputs": [
    {
     "data": {
      "text/plain": [
       "{'learning_rate': 0.3, 'max_depth': 20}"
      ]
     },
     "execution_count": 40,
     "metadata": {},
     "output_type": "execute_result"
    }
   ],
   "source": [
    "grid_search.best_params_"
   ]
  },
  {
   "cell_type": "code",
   "execution_count": 41,
   "metadata": {},
   "outputs": [
    {
     "name": "stdout",
     "output_type": "stream",
     "text": [
      "RMSE: 1710.81\n"
     ]
    }
   ],
   "source": [
    "print('RMSE: {:.2f}'.format((-grid_search.best_score_) ** 0.5))"
   ]
  },
  {
   "cell_type": "code",
   "execution_count": 42,
   "metadata": {},
   "outputs": [
    {
     "name": "stdout",
     "output_type": "stream",
     "text": [
      "CPU times: user 415 ms, sys: 69.3 ms, total: 484 ms\n",
      "Wall time: 446 ms\n"
     ]
    }
   ],
   "source": [
    "%%time\n",
    "preds_lgbm = grid_search.best_estimator_.predict(features_test)"
   ]
  },
  {
   "cell_type": "code",
   "execution_count": 43,
   "metadata": {},
   "outputs": [
    {
     "data": {
      "text/plain": [
       "'RMSE: 1727.01'"
      ]
     },
     "execution_count": 43,
     "metadata": {},
     "output_type": "execute_result"
    }
   ],
   "source": [
    "lgbm = mean_squared_error(target_test, preds_lgbm)\n",
    "lgbm_rmse = round((lgbm) ** 0.5, 2)\n",
    "f\"RMSE: {lgbm_rmse}\""
   ]
  },
  {
   "cell_type": "code",
   "execution_count": 44,
   "metadata": {},
   "outputs": [
    {
     "data": {
      "text/html": [
       "<div>\n",
       "<style scoped>\n",
       "    .dataframe tbody tr th:only-of-type {\n",
       "        vertical-align: middle;\n",
       "    }\n",
       "\n",
       "    .dataframe tbody tr th {\n",
       "        vertical-align: top;\n",
       "    }\n",
       "\n",
       "    .dataframe thead th {\n",
       "        text-align: right;\n",
       "    }\n",
       "</style>\n",
       "<table border=\"1\" class=\"dataframe\">\n",
       "  <thead>\n",
       "    <tr style=\"text-align: right;\">\n",
       "      <th></th>\n",
       "      <th>LinearRegression</th>\n",
       "      <th>LightGBM</th>\n",
       "    </tr>\n",
       "  </thead>\n",
       "  <tbody>\n",
       "    <tr>\n",
       "      <th>RMSE</th>\n",
       "      <td>2978.34</td>\n",
       "      <td>1727.01</td>\n",
       "    </tr>\n",
       "    <tr>\n",
       "      <th>Скорость обучения, s</th>\n",
       "      <td>120.39</td>\n",
       "      <td>280.00</td>\n",
       "    </tr>\n",
       "    <tr>\n",
       "      <th>Скорость предсказания, s</th>\n",
       "      <td>0.39</td>\n",
       "      <td>0.90</td>\n",
       "    </tr>\n",
       "  </tbody>\n",
       "</table>\n",
       "</div>"
      ],
      "text/plain": [
       "                          LinearRegression  LightGBM\n",
       "RMSE                               2978.34   1727.01\n",
       "Скорость обучения, s                120.39    280.00\n",
       "Скорость предсказания, s              0.39      0.90"
      ]
     },
     "execution_count": 44,
     "metadata": {},
     "output_type": "execute_result"
    }
   ],
   "source": [
    "columns = ['RMSE', 'Скорость обучения, s', 'Скорость предсказания, s']\n",
    "\n",
    "analysis_table = pd.DataFrame(index=['RMSE', 'Скорость обучения, s', 'Скорость предсказания, s'], columns=['LinearRegression','LightGBM'])\n",
    "analysis_table['LinearRegression'] = rmse_cv, time_lr, time_lr_predict\n",
    "analysis_table['LightGBM'] = lgbm_rmse, 280, t_lgbm_predict\n",
    "\n",
    "analysis_table"
   ]
  },
  {
   "cell_type": "markdown",
   "metadata": {},
   "source": [
    "**Общий вывод**\n",
    "\n",
    "Что было сделано с данными: убрал аномальные значения, заполнил пропуски и убрал ненужные признаки\n",
    "\n",
    "Были использованы две модели: LinearRegression и LightGBM\n",
    "\n",
    "Скорость обучения: 74.2\tи 280\n",
    "\n",
    "Скорость предсказания: 0.12\t0.64\n",
    "\n",
    "RMSE: 2999.2 и 1727\n",
    "\n",
    "Критерии, которые интересуют заказчика: \n",
    "\n",
    "- качество предсказания;\n",
    "- скорость предсказания;\n",
    "- время обучения.\n",
    "\n",
    "Следовательно стоит использовать LightGBM, поскольку она имеет самые оптимальные характеристики."
   ]
  },
  {
   "cell_type": "markdown",
   "metadata": {},
   "source": [
    "Поставьте 'x' в выполненных пунктах. Далее нажмите Shift+Enter."
   ]
  },
  {
   "cell_type": "markdown",
   "metadata": {},
   "source": [
    "- [x]  Jupyter Notebook открыт\n",
    "- [x]  Весь код выполняется без ошибок\n",
    "- [x]  Ячейки с кодом расположены в порядке исполнения\n",
    "- [x]  Выполнена загрузка и подготовка данных\n",
    "- [x]  Выполнено обучение моделей\n",
    "- [x]  Есть анализ скорости работы и качества моделей"
   ]
  }
 ],
 "metadata": {
  "ExecuteTimeLog": [
   {
    "duration": 355,
    "start_time": "2023-12-20T13:36:25.307Z"
   },
   {
    "duration": 864,
    "start_time": "2023-12-20T13:36:27.850Z"
   },
   {
    "duration": 15,
    "start_time": "2023-12-20T13:36:40.986Z"
   },
   {
    "duration": 93,
    "start_time": "2023-12-20T13:42:10.617Z"
   },
   {
    "duration": 80,
    "start_time": "2023-12-20T13:44:35.704Z"
   },
   {
    "duration": 57,
    "start_time": "2023-12-20T13:46:31.926Z"
   },
   {
    "duration": 5,
    "start_time": "2023-12-20T13:46:35.990Z"
   },
   {
    "duration": 103,
    "start_time": "2023-12-20T13:46:47.255Z"
   },
   {
    "duration": 89,
    "start_time": "2023-12-20T13:46:58.854Z"
   },
   {
    "duration": 74,
    "start_time": "2023-12-20T13:48:00.646Z"
   },
   {
    "duration": 8,
    "start_time": "2023-12-20T13:49:39.128Z"
   },
   {
    "duration": 7,
    "start_time": "2023-12-20T13:49:44.181Z"
   },
   {
    "duration": 1099,
    "start_time": "2023-12-20T13:49:58.869Z"
   },
   {
    "duration": 1314,
    "start_time": "2023-12-20T13:50:10.278Z"
   },
   {
    "duration": 3,
    "start_time": "2023-12-20T13:50:25.415Z"
   },
   {
    "duration": 14,
    "start_time": "2023-12-20T13:57:09.427Z"
   },
   {
    "duration": 71,
    "start_time": "2023-12-20T13:57:52.467Z"
   },
   {
    "duration": 92,
    "start_time": "2023-12-20T14:10:31.422Z"
   },
   {
    "duration": 26,
    "start_time": "2023-12-20T14:11:45.886Z"
   },
   {
    "duration": 75,
    "start_time": "2023-12-20T14:12:24.431Z"
   },
   {
    "duration": 26,
    "start_time": "2023-12-20T14:13:17.037Z"
   },
   {
    "duration": 30,
    "start_time": "2023-12-20T14:13:18.317Z"
   },
   {
    "duration": 26,
    "start_time": "2023-12-20T14:13:24.140Z"
   },
   {
    "duration": 1316,
    "start_time": "2023-12-20T14:13:25.277Z"
   },
   {
    "duration": 26,
    "start_time": "2023-12-20T14:13:52.300Z"
   },
   {
    "duration": 8,
    "start_time": "2023-12-20T14:25:45.657Z"
   },
   {
    "duration": 7,
    "start_time": "2023-12-20T14:25:55.417Z"
   },
   {
    "duration": 15,
    "start_time": "2023-12-20T14:26:01.545Z"
   },
   {
    "duration": 4,
    "start_time": "2023-12-20T14:26:13.768Z"
   },
   {
    "duration": 11,
    "start_time": "2023-12-20T14:26:24.520Z"
   },
   {
    "duration": 69,
    "start_time": "2023-12-20T14:32:41.406Z"
   },
   {
    "duration": 14,
    "start_time": "2023-12-20T14:33:23.014Z"
   },
   {
    "duration": 332,
    "start_time": "2023-12-20T14:34:04.021Z"
   },
   {
    "duration": 44,
    "start_time": "2023-12-20T14:38:00.771Z"
   },
   {
    "duration": 74,
    "start_time": "2023-12-20T14:38:30.163Z"
   },
   {
    "duration": 52,
    "start_time": "2023-12-20T14:40:54.867Z"
   },
   {
    "duration": 117,
    "start_time": "2023-12-20T14:41:31.074Z"
   },
   {
    "duration": 31,
    "start_time": "2023-12-20T15:27:32.834Z"
   },
   {
    "duration": 439,
    "start_time": "2023-12-20T15:46:12.683Z"
   },
   {
    "duration": 425,
    "start_time": "2023-12-20T15:46:39.566Z"
   },
   {
    "duration": 7,
    "start_time": "2023-12-20T15:58:11.891Z"
   },
   {
    "duration": 12,
    "start_time": "2023-12-20T15:58:30.704Z"
   },
   {
    "duration": 158,
    "start_time": "2023-12-20T15:58:44.074Z"
   },
   {
    "duration": 6,
    "start_time": "2023-12-20T16:03:47.017Z"
   },
   {
    "duration": 2,
    "start_time": "2023-12-20T16:04:03.516Z"
   },
   {
    "duration": 708,
    "start_time": "2023-12-20T16:08:11.655Z"
   },
   {
    "duration": 3,
    "start_time": "2023-12-20T16:08:22.712Z"
   },
   {
    "duration": 35,
    "start_time": "2023-12-20T16:08:41.254Z"
   },
   {
    "duration": 184,
    "start_time": "2023-12-20T16:09:08.054Z"
   },
   {
    "duration": 8,
    "start_time": "2023-12-20T16:13:36.214Z"
   },
   {
    "duration": 16,
    "start_time": "2023-12-20T16:15:49.130Z"
   },
   {
    "duration": 23550,
    "start_time": "2023-12-20T16:16:09.957Z"
   },
   {
    "duration": 1201,
    "start_time": "2023-12-21T09:25:24.384Z"
   },
   {
    "duration": 1112,
    "start_time": "2023-12-21T09:25:26.671Z"
   },
   {
    "duration": 22,
    "start_time": "2023-12-21T09:25:27.785Z"
   },
   {
    "duration": 168,
    "start_time": "2023-12-21T09:25:28.086Z"
   },
   {
    "duration": 110,
    "start_time": "2023-12-21T09:25:28.959Z"
   },
   {
    "duration": 170,
    "start_time": "2023-12-21T09:25:29.471Z"
   },
   {
    "duration": 45,
    "start_time": "2023-12-21T09:25:30.079Z"
   },
   {
    "duration": 38,
    "start_time": "2023-12-21T09:25:30.239Z"
   },
   {
    "duration": 38,
    "start_time": "2023-12-21T09:25:30.400Z"
   },
   {
    "duration": 47,
    "start_time": "2023-12-21T09:25:30.909Z"
   },
   {
    "duration": 90,
    "start_time": "2023-12-21T09:25:30.958Z"
   },
   {
    "duration": 135,
    "start_time": "2023-12-21T09:25:31.050Z"
   },
   {
    "duration": 16,
    "start_time": "2023-12-21T09:25:31.187Z"
   },
   {
    "duration": 88,
    "start_time": "2023-12-21T09:25:31.205Z"
   },
   {
    "duration": 56,
    "start_time": "2023-12-21T09:25:31.296Z"
   },
   {
    "duration": 29,
    "start_time": "2023-12-21T09:25:31.353Z"
   },
   {
    "duration": 677,
    "start_time": "2023-12-21T09:25:31.384Z"
   },
   {
    "duration": 197,
    "start_time": "2023-12-21T09:25:32.063Z"
   },
   {
    "duration": 281,
    "start_time": "2023-12-21T09:25:32.261Z"
   },
   {
    "duration": 28675,
    "start_time": "2023-12-21T09:25:32.544Z"
   },
   {
    "duration": 2685,
    "start_time": "2023-12-21T09:26:39.329Z"
   },
   {
    "duration": 95,
    "start_time": "2023-12-21T09:30:33.055Z"
   },
   {
    "duration": 103,
    "start_time": "2023-12-21T09:42:01.418Z"
   },
   {
    "duration": 2,
    "start_time": "2023-12-21T09:42:40.032Z"
   },
   {
    "duration": 406,
    "start_time": "2023-12-21T09:42:46.425Z"
   },
   {
    "duration": 73,
    "start_time": "2023-12-21T09:49:21.081Z"
   },
   {
    "duration": 404,
    "start_time": "2023-12-21T09:49:28.851Z"
   },
   {
    "duration": 108,
    "start_time": "2023-12-21T11:02:13.585Z"
   },
   {
    "duration": 76,
    "start_time": "2023-12-21T11:02:19.436Z"
   },
   {
    "duration": 274,
    "start_time": "2023-12-21T11:02:46.669Z"
   },
   {
    "duration": 318,
    "start_time": "2023-12-21T11:06:45.408Z"
   },
   {
    "duration": 12,
    "start_time": "2023-12-21T11:07:33.898Z"
   },
   {
    "duration": 379277,
    "start_time": "2023-12-21T11:07:43.979Z"
   },
   {
    "duration": 25458,
    "start_time": "2023-12-21T11:16:54.852Z"
   },
   {
    "duration": 119,
    "start_time": "2023-12-21T11:19:07.556Z"
   },
   {
    "duration": 789,
    "start_time": "2023-12-21T11:20:28.728Z"
   },
   {
    "duration": 89,
    "start_time": "2023-12-21T11:20:45.186Z"
   },
   {
    "duration": 88,
    "start_time": "2023-12-21T11:20:52.820Z"
   },
   {
    "duration": 82,
    "start_time": "2023-12-21T11:21:46.258Z"
   },
   {
    "duration": 94,
    "start_time": "2023-12-21T11:22:40.691Z"
   },
   {
    "duration": 90,
    "start_time": "2023-12-21T11:22:46.258Z"
   },
   {
    "duration": 29323,
    "start_time": "2023-12-21T11:23:55.091Z"
   },
   {
    "duration": 43681,
    "start_time": "2023-12-21T11:26:51.939Z"
   },
   {
    "duration": 34627,
    "start_time": "2023-12-21T11:32:14.484Z"
   },
   {
    "duration": 1222,
    "start_time": "2023-12-21T11:32:52.077Z"
   },
   {
    "duration": 2529,
    "start_time": "2023-12-21T11:32:53.301Z"
   },
   {
    "duration": 1000,
    "start_time": "2023-12-21T11:32:55.833Z"
   },
   {
    "duration": 25,
    "start_time": "2023-12-21T11:32:56.835Z"
   },
   {
    "duration": 179,
    "start_time": "2023-12-21T11:32:56.863Z"
   },
   {
    "duration": 110,
    "start_time": "2023-12-21T11:32:57.043Z"
   },
   {
    "duration": 156,
    "start_time": "2023-12-21T11:32:57.155Z"
   },
   {
    "duration": 45,
    "start_time": "2023-12-21T11:32:57.313Z"
   },
   {
    "duration": 56,
    "start_time": "2023-12-21T11:32:57.360Z"
   },
   {
    "duration": 49,
    "start_time": "2023-12-21T11:32:57.418Z"
   },
   {
    "duration": 46,
    "start_time": "2023-12-21T11:32:57.469Z"
   },
   {
    "duration": 37,
    "start_time": "2023-12-21T11:32:57.517Z"
   },
   {
    "duration": 134,
    "start_time": "2023-12-21T11:32:57.556Z"
   },
   {
    "duration": 20,
    "start_time": "2023-12-21T11:32:57.692Z"
   },
   {
    "duration": 59,
    "start_time": "2023-12-21T11:32:57.713Z"
   },
   {
    "duration": 71,
    "start_time": "2023-12-21T11:32:57.774Z"
   },
   {
    "duration": 29,
    "start_time": "2023-12-21T11:32:57.847Z"
   },
   {
    "duration": 677,
    "start_time": "2023-12-21T11:32:57.878Z"
   },
   {
    "duration": 196,
    "start_time": "2023-12-21T11:32:58.557Z"
   },
   {
    "duration": 287,
    "start_time": "2023-12-21T11:32:58.755Z"
   },
   {
    "duration": 1155,
    "start_time": "2023-12-21T11:33:21.540Z"
   },
   {
    "duration": 3,
    "start_time": "2023-12-21T11:33:22.727Z"
   },
   {
    "duration": 2344,
    "start_time": "2023-12-21T11:33:22.732Z"
   },
   {
    "duration": 856,
    "start_time": "2023-12-21T11:33:25.078Z"
   },
   {
    "duration": 22,
    "start_time": "2023-12-21T11:33:25.935Z"
   },
   {
    "duration": 158,
    "start_time": "2023-12-21T11:33:25.960Z"
   },
   {
    "duration": 99,
    "start_time": "2023-12-21T11:33:26.120Z"
   },
   {
    "duration": 143,
    "start_time": "2023-12-21T11:33:26.221Z"
   },
   {
    "duration": 55,
    "start_time": "2023-12-21T11:33:26.366Z"
   },
   {
    "duration": 36,
    "start_time": "2023-12-21T11:33:26.422Z"
   },
   {
    "duration": 55,
    "start_time": "2023-12-21T11:33:26.459Z"
   },
   {
    "duration": 35,
    "start_time": "2023-12-21T11:33:26.516Z"
   },
   {
    "duration": 36,
    "start_time": "2023-12-21T11:33:26.552Z"
   },
   {
    "duration": 108,
    "start_time": "2023-12-21T11:33:26.589Z"
   },
   {
    "duration": 26,
    "start_time": "2023-12-21T11:33:26.699Z"
   },
   {
    "duration": 52,
    "start_time": "2023-12-21T11:33:26.726Z"
   },
   {
    "duration": 72,
    "start_time": "2023-12-21T11:33:26.780Z"
   },
   {
    "duration": 28,
    "start_time": "2023-12-21T11:33:26.854Z"
   },
   {
    "duration": 634,
    "start_time": "2023-12-21T11:33:26.883Z"
   },
   {
    "duration": 194,
    "start_time": "2023-12-21T11:33:27.519Z"
   },
   {
    "duration": 307,
    "start_time": "2023-12-21T11:33:27.714Z"
   },
   {
    "duration": 26648,
    "start_time": "2023-12-21T11:33:28.022Z"
   },
   {
    "duration": 0,
    "start_time": "2023-12-21T11:33:54.672Z"
   },
   {
    "duration": 0,
    "start_time": "2023-12-21T11:33:54.673Z"
   },
   {
    "duration": 0,
    "start_time": "2023-12-21T11:33:54.673Z"
   },
   {
    "duration": 0,
    "start_time": "2023-12-21T11:33:54.675Z"
   },
   {
    "duration": 0,
    "start_time": "2023-12-21T11:33:54.711Z"
   },
   {
    "duration": 0,
    "start_time": "2023-12-21T11:33:54.712Z"
   },
   {
    "duration": 0,
    "start_time": "2023-12-21T11:33:54.713Z"
   },
   {
    "duration": 0,
    "start_time": "2023-12-21T11:33:54.714Z"
   },
   {
    "duration": 0,
    "start_time": "2023-12-21T11:33:54.715Z"
   },
   {
    "duration": 0,
    "start_time": "2023-12-21T11:33:54.716Z"
   },
   {
    "duration": 2403,
    "start_time": "2023-12-21T11:35:57.708Z"
   },
   {
    "duration": 836,
    "start_time": "2023-12-21T11:36:00.172Z"
   },
   {
    "duration": 13,
    "start_time": "2023-12-21T11:36:01.011Z"
   },
   {
    "duration": 146,
    "start_time": "2023-12-21T11:36:02.300Z"
   },
   {
    "duration": 81,
    "start_time": "2023-12-21T11:36:02.588Z"
   },
   {
    "duration": 130,
    "start_time": "2023-12-21T11:36:02.956Z"
   },
   {
    "duration": 48,
    "start_time": "2023-12-21T11:36:03.595Z"
   },
   {
    "duration": 36,
    "start_time": "2023-12-21T11:36:03.964Z"
   },
   {
    "duration": 36,
    "start_time": "2023-12-21T11:36:04.316Z"
   },
   {
    "duration": 36,
    "start_time": "2023-12-21T11:36:04.491Z"
   },
   {
    "duration": 34,
    "start_time": "2023-12-21T11:36:04.652Z"
   },
   {
    "duration": 95,
    "start_time": "2023-12-21T11:36:04.828Z"
   },
   {
    "duration": 16,
    "start_time": "2023-12-21T11:36:05.004Z"
   },
   {
    "duration": 34,
    "start_time": "2023-12-21T11:36:05.660Z"
   },
   {
    "duration": 49,
    "start_time": "2023-12-21T11:36:06.395Z"
   },
   {
    "duration": 27,
    "start_time": "2023-12-21T11:36:07.756Z"
   },
   {
    "duration": 609,
    "start_time": "2023-12-21T11:36:14.061Z"
   },
   {
    "duration": 184,
    "start_time": "2023-12-21T11:36:15.340Z"
   },
   {
    "duration": 272,
    "start_time": "2023-12-21T11:36:18.012Z"
   },
   {
    "duration": 25908,
    "start_time": "2023-12-21T11:36:26.221Z"
   },
   {
    "duration": 24986,
    "start_time": "2023-12-21T11:40:08.843Z"
   },
   {
    "duration": 82,
    "start_time": "2023-12-21T11:44:47.753Z"
   },
   {
    "duration": 4,
    "start_time": "2023-12-21T11:45:16.841Z"
   },
   {
    "duration": 81,
    "start_time": "2023-12-21T11:45:37.512Z"
   },
   {
    "duration": 272,
    "start_time": "2023-12-21T11:45:42.024Z"
   },
   {
    "duration": 26124,
    "start_time": "2023-12-21T11:45:43.689Z"
   },
   {
    "duration": 148,
    "start_time": "2023-12-21T12:04:44.289Z"
   },
   {
    "duration": 139,
    "start_time": "2023-12-21T12:04:51.680Z"
   },
   {
    "duration": 220,
    "start_time": "2023-12-21T12:04:58.194Z"
   },
   {
    "duration": 153,
    "start_time": "2023-12-21T12:06:36.064Z"
   },
   {
    "duration": 5,
    "start_time": "2023-12-21T12:08:00.463Z"
   },
   {
    "duration": 11,
    "start_time": "2023-12-21T12:09:10.256Z"
   },
   {
    "duration": 3,
    "start_time": "2023-12-21T12:09:42.830Z"
   },
   {
    "duration": 139,
    "start_time": "2023-12-21T12:09:47.487Z"
   },
   {
    "duration": 9,
    "start_time": "2023-12-21T12:11:03.581Z"
   },
   {
    "duration": 4,
    "start_time": "2023-12-21T12:11:16.975Z"
   },
   {
    "duration": 4,
    "start_time": "2023-12-21T12:12:12.238Z"
   },
   {
    "duration": 6,
    "start_time": "2023-12-21T12:13:22.461Z"
   },
   {
    "duration": 112,
    "start_time": "2023-12-21T12:14:11.004Z"
   },
   {
    "duration": 11,
    "start_time": "2023-12-21T12:14:12.380Z"
   },
   {
    "duration": 270,
    "start_time": "2023-12-21T12:14:26.797Z"
   },
   {
    "duration": 349388,
    "start_time": "2023-12-21T12:15:11.357Z"
   },
   {
    "duration": 334324,
    "start_time": "2023-12-21T12:25:08.892Z"
   },
   {
    "duration": 753,
    "start_time": "2023-12-21T12:30:52.874Z"
   },
   {
    "duration": 5,
    "start_time": "2023-12-21T12:30:55.978Z"
   },
   {
    "duration": 27119,
    "start_time": "2023-12-21T12:33:02.106Z"
   },
   {
    "duration": 238,
    "start_time": "2023-12-21T12:33:44.874Z"
   },
   {
    "duration": 447195,
    "start_time": "2023-12-21T12:34:14.522Z"
   },
   {
    "duration": 8,
    "start_time": "2023-12-21T12:41:41.719Z"
   },
   {
    "duration": 71,
    "start_time": "2023-12-21T12:42:21.334Z"
   },
   {
    "duration": 85,
    "start_time": "2023-12-21T12:42:52.343Z"
   },
   {
    "duration": 11,
    "start_time": "2023-12-21T12:43:17.847Z"
   },
   {
    "duration": 14,
    "start_time": "2023-12-21T12:43:30.007Z"
   },
   {
    "duration": 690,
    "start_time": "2023-12-21T12:43:48.056Z"
   },
   {
    "duration": 559,
    "start_time": "2023-12-21T12:43:50.646Z"
   },
   {
    "duration": 24,
    "start_time": "2023-12-21T12:44:42.263Z"
   },
   {
    "duration": 6,
    "start_time": "2023-12-21T12:45:05.830Z"
   },
   {
    "duration": 6,
    "start_time": "2023-12-21T12:45:08.853Z"
   },
   {
    "duration": 6,
    "start_time": "2023-12-21T12:45:10.613Z"
   },
   {
    "duration": 11,
    "start_time": "2023-12-21T12:45:22.181Z"
   },
   {
    "duration": 1156,
    "start_time": "2023-12-21T13:04:30.218Z"
   },
   {
    "duration": 2359,
    "start_time": "2023-12-21T13:04:31.376Z"
   },
   {
    "duration": 863,
    "start_time": "2023-12-21T13:04:33.738Z"
   },
   {
    "duration": 24,
    "start_time": "2023-12-21T13:04:34.602Z"
   },
   {
    "duration": 151,
    "start_time": "2023-12-21T13:04:34.628Z"
   },
   {
    "duration": 107,
    "start_time": "2023-12-21T13:04:34.780Z"
   },
   {
    "duration": 139,
    "start_time": "2023-12-21T13:04:34.889Z"
   },
   {
    "duration": 53,
    "start_time": "2023-12-21T13:04:35.029Z"
   },
   {
    "duration": 46,
    "start_time": "2023-12-21T13:04:35.083Z"
   },
   {
    "duration": 72,
    "start_time": "2023-12-21T13:04:35.131Z"
   },
   {
    "duration": 39,
    "start_time": "2023-12-21T13:04:35.204Z"
   },
   {
    "duration": 73,
    "start_time": "2023-12-21T13:04:35.245Z"
   },
   {
    "duration": 103,
    "start_time": "2023-12-21T13:04:35.319Z"
   },
   {
    "duration": 17,
    "start_time": "2023-12-21T13:04:35.426Z"
   },
   {
    "duration": 64,
    "start_time": "2023-12-21T13:04:35.445Z"
   },
   {
    "duration": 54,
    "start_time": "2023-12-21T13:04:35.511Z"
   },
   {
    "duration": 22,
    "start_time": "2023-12-21T13:04:35.567Z"
   },
   {
    "duration": 644,
    "start_time": "2023-12-21T13:04:35.591Z"
   },
   {
    "duration": 183,
    "start_time": "2023-12-21T13:04:36.236Z"
   },
   {
    "duration": 292,
    "start_time": "2023-12-21T13:04:36.420Z"
   },
   {
    "duration": 25897,
    "start_time": "2023-12-21T13:04:36.714Z"
   },
   {
    "duration": 208,
    "start_time": "2023-12-21T13:05:02.613Z"
   },
   {
    "duration": 93,
    "start_time": "2023-12-21T13:05:02.823Z"
   },
   {
    "duration": 186,
    "start_time": "2023-12-21T13:05:02.918Z"
   },
   {
    "duration": 15,
    "start_time": "2023-12-21T13:05:03.105Z"
   },
   {
    "duration": 284,
    "start_time": "2023-12-21T13:05:03.121Z"
   },
   {
    "duration": 1137,
    "start_time": "2023-12-21T13:07:30.740Z"
   },
   {
    "duration": 1168,
    "start_time": "2023-12-21T13:13:29.022Z"
   },
   {
    "duration": 2363,
    "start_time": "2023-12-21T13:13:30.192Z"
   },
   {
    "duration": 867,
    "start_time": "2023-12-21T13:13:32.557Z"
   },
   {
    "duration": 23,
    "start_time": "2023-12-21T13:13:33.426Z"
   },
   {
    "duration": 161,
    "start_time": "2023-12-21T13:13:33.451Z"
   },
   {
    "duration": 100,
    "start_time": "2023-12-21T13:13:33.614Z"
   },
   {
    "duration": 143,
    "start_time": "2023-12-21T13:13:33.716Z"
   },
   {
    "duration": 51,
    "start_time": "2023-12-21T13:13:33.861Z"
   },
   {
    "duration": 36,
    "start_time": "2023-12-21T13:13:33.913Z"
   },
   {
    "duration": 39,
    "start_time": "2023-12-21T13:13:33.951Z"
   },
   {
    "duration": 48,
    "start_time": "2023-12-21T13:13:33.992Z"
   },
   {
    "duration": 47,
    "start_time": "2023-12-21T13:13:34.042Z"
   },
   {
    "duration": 120,
    "start_time": "2023-12-21T13:13:34.091Z"
   },
   {
    "duration": 16,
    "start_time": "2023-12-21T13:13:34.214Z"
   },
   {
    "duration": 52,
    "start_time": "2023-12-21T13:13:34.231Z"
   },
   {
    "duration": 77,
    "start_time": "2023-12-21T13:13:34.284Z"
   },
   {
    "duration": 29,
    "start_time": "2023-12-21T13:13:34.363Z"
   },
   {
    "duration": 633,
    "start_time": "2023-12-21T13:13:34.394Z"
   },
   {
    "duration": 190,
    "start_time": "2023-12-21T13:13:35.028Z"
   },
   {
    "duration": 267,
    "start_time": "2023-12-21T13:13:35.220Z"
   },
   {
    "duration": 26123,
    "start_time": "2023-12-21T13:13:35.488Z"
   },
   {
    "duration": 207,
    "start_time": "2023-12-21T13:14:01.613Z"
   },
   {
    "duration": 99,
    "start_time": "2023-12-21T13:14:01.821Z"
   },
   {
    "duration": 114,
    "start_time": "2023-12-21T13:14:02.010Z"
   },
   {
    "duration": 11,
    "start_time": "2023-12-21T13:14:02.126Z"
   },
   {
    "duration": 275,
    "start_time": "2023-12-21T13:14:02.139Z"
   },
   {
    "duration": 1129,
    "start_time": "2023-12-21T13:16:53.053Z"
   },
   {
    "duration": 2377,
    "start_time": "2023-12-21T13:16:54.184Z"
   },
   {
    "duration": 838,
    "start_time": "2023-12-21T13:16:56.563Z"
   },
   {
    "duration": 32,
    "start_time": "2023-12-21T13:16:57.402Z"
   },
   {
    "duration": 150,
    "start_time": "2023-12-21T13:16:57.436Z"
   },
   {
    "duration": 101,
    "start_time": "2023-12-21T13:16:57.588Z"
   },
   {
    "duration": 138,
    "start_time": "2023-12-21T13:16:57.690Z"
   },
   {
    "duration": 35,
    "start_time": "2023-12-21T13:16:57.829Z"
   },
   {
    "duration": 53,
    "start_time": "2023-12-21T13:16:57.866Z"
   },
   {
    "duration": 39,
    "start_time": "2023-12-21T13:16:57.920Z"
   },
   {
    "duration": 42,
    "start_time": "2023-12-21T13:16:57.961Z"
   },
   {
    "duration": 39,
    "start_time": "2023-12-21T13:16:58.004Z"
   },
   {
    "duration": 100,
    "start_time": "2023-12-21T13:16:58.044Z"
   },
   {
    "duration": 15,
    "start_time": "2023-12-21T13:16:58.146Z"
   },
   {
    "duration": 67,
    "start_time": "2023-12-21T13:16:58.162Z"
   },
   {
    "duration": 54,
    "start_time": "2023-12-21T13:16:58.231Z"
   },
   {
    "duration": 41,
    "start_time": "2023-12-21T13:16:58.286Z"
   },
   {
    "duration": 649,
    "start_time": "2023-12-21T13:16:58.328Z"
   },
   {
    "duration": 192,
    "start_time": "2023-12-21T13:16:58.979Z"
   },
   {
    "duration": 265,
    "start_time": "2023-12-21T13:16:59.172Z"
   },
   {
    "duration": 29815,
    "start_time": "2023-12-21T13:16:59.438Z"
   },
   {
    "duration": 151,
    "start_time": "2023-12-21T13:17:29.254Z"
   },
   {
    "duration": 9,
    "start_time": "2023-12-21T13:17:29.406Z"
   },
   {
    "duration": 0,
    "start_time": "2023-12-21T13:17:29.417Z"
   },
   {
    "duration": 0,
    "start_time": "2023-12-21T13:17:29.418Z"
   },
   {
    "duration": 0,
    "start_time": "2023-12-21T13:17:29.419Z"
   },
   {
    "duration": 0,
    "start_time": "2023-12-21T13:17:29.420Z"
   },
   {
    "duration": 0,
    "start_time": "2023-12-21T13:17:29.421Z"
   },
   {
    "duration": 0,
    "start_time": "2023-12-21T13:17:29.421Z"
   },
   {
    "duration": 0,
    "start_time": "2023-12-21T13:17:29.423Z"
   },
   {
    "duration": 0,
    "start_time": "2023-12-21T13:17:29.424Z"
   },
   {
    "duration": 3,
    "start_time": "2023-12-21T13:17:35.425Z"
   },
   {
    "duration": 2361,
    "start_time": "2023-12-21T13:17:36.538Z"
   },
   {
    "duration": 877,
    "start_time": "2023-12-21T13:17:39.663Z"
   },
   {
    "duration": 13,
    "start_time": "2023-12-21T13:17:40.542Z"
   },
   {
    "duration": 146,
    "start_time": "2023-12-21T13:17:41.450Z"
   },
   {
    "duration": 84,
    "start_time": "2023-12-21T13:17:41.644Z"
   },
   {
    "duration": 134,
    "start_time": "2023-12-21T13:17:41.824Z"
   },
   {
    "duration": 37,
    "start_time": "2023-12-21T13:17:43.384Z"
   },
   {
    "duration": 38,
    "start_time": "2023-12-21T13:17:43.523Z"
   },
   {
    "duration": 37,
    "start_time": "2023-12-21T13:17:43.699Z"
   },
   {
    "duration": 38,
    "start_time": "2023-12-21T13:17:43.816Z"
   },
   {
    "duration": 34,
    "start_time": "2023-12-21T13:17:44.013Z"
   },
   {
    "duration": 90,
    "start_time": "2023-12-21T13:17:44.131Z"
   },
   {
    "duration": 16,
    "start_time": "2023-12-21T13:17:44.245Z"
   },
   {
    "duration": 35,
    "start_time": "2023-12-21T13:17:47.010Z"
   },
   {
    "duration": 48,
    "start_time": "2023-12-21T13:17:47.423Z"
   },
   {
    "duration": 21,
    "start_time": "2023-12-21T13:17:48.150Z"
   },
   {
    "duration": 560,
    "start_time": "2023-12-21T13:17:49.855Z"
   },
   {
    "duration": 183,
    "start_time": "2023-12-21T13:17:52.708Z"
   },
   {
    "duration": 256,
    "start_time": "2023-12-21T13:17:54.907Z"
   },
   {
    "duration": 25503,
    "start_time": "2023-12-21T13:17:57.314Z"
   },
   {
    "duration": 198,
    "start_time": "2023-12-21T13:18:27.919Z"
   },
   {
    "duration": 5,
    "start_time": "2023-12-21T13:18:34.003Z"
   },
   {
    "duration": 113,
    "start_time": "2023-12-21T13:18:43.098Z"
   },
   {
    "duration": 11,
    "start_time": "2023-12-21T13:18:49.588Z"
   },
   {
    "duration": 258,
    "start_time": "2023-12-21T13:18:51.397Z"
   },
   {
    "duration": 273886,
    "start_time": "2023-12-21T13:19:07.238Z"
   },
   {
    "duration": 709,
    "start_time": "2023-12-21T13:24:22.516Z"
   },
   {
    "duration": 5,
    "start_time": "2023-12-21T13:24:35.596Z"
   },
   {
    "duration": 15,
    "start_time": "2023-12-21T13:24:37.887Z"
   },
   {
    "duration": 11,
    "start_time": "2023-12-21T13:24:46.531Z"
   },
   {
    "duration": 13,
    "start_time": "2023-12-21T13:25:07.044Z"
   },
   {
    "duration": 408,
    "start_time": "2023-12-21T13:57:27.757Z"
   },
   {
    "duration": 21,
    "start_time": "2023-12-21T13:57:33.821Z"
   },
   {
    "duration": 14,
    "start_time": "2023-12-21T13:57:37.598Z"
   },
   {
    "duration": 30,
    "start_time": "2023-12-21T13:57:55.574Z"
   },
   {
    "duration": 15,
    "start_time": "2023-12-21T13:58:08.917Z"
   },
   {
    "duration": 24,
    "start_time": "2023-12-21T13:58:18.304Z"
   },
   {
    "duration": 19,
    "start_time": "2023-12-21T13:58:26.124Z"
   },
   {
    "duration": 15,
    "start_time": "2023-12-21T13:58:29.771Z"
   },
   {
    "duration": 3004,
    "start_time": "2023-12-22T08:54:10.475Z"
   },
   {
    "duration": 76,
    "start_time": "2023-12-22T08:54:52.164Z"
   },
   {
    "duration": 50,
    "start_time": "2023-12-22T08:55:19.652Z"
   },
   {
    "duration": 7,
    "start_time": "2023-12-22T08:55:19.957Z"
   },
   {
    "duration": 1312,
    "start_time": "2023-12-22T08:55:23.652Z"
   },
   {
    "duration": 1234,
    "start_time": "2023-12-22T08:55:27.752Z"
   },
   {
    "duration": 26,
    "start_time": "2023-12-22T08:55:28.987Z"
   },
   {
    "duration": 171,
    "start_time": "2023-12-22T08:55:30.661Z"
   },
   {
    "duration": 167,
    "start_time": "2023-12-22T08:55:30.835Z"
   },
   {
    "duration": 164,
    "start_time": "2023-12-22T08:55:31.004Z"
   },
   {
    "duration": 39,
    "start_time": "2023-12-22T08:55:31.508Z"
   },
   {
    "duration": 77,
    "start_time": "2023-12-22T08:55:31.700Z"
   },
   {
    "duration": 46,
    "start_time": "2023-12-22T08:55:31.892Z"
   },
   {
    "duration": 50,
    "start_time": "2023-12-22T08:55:32.068Z"
   },
   {
    "duration": 40,
    "start_time": "2023-12-22T08:55:32.260Z"
   },
   {
    "duration": 263,
    "start_time": "2023-12-22T08:55:32.453Z"
   },
   {
    "duration": 17,
    "start_time": "2023-12-22T08:55:35.235Z"
   },
   {
    "duration": 58,
    "start_time": "2023-12-22T08:55:35.764Z"
   },
   {
    "duration": 58,
    "start_time": "2023-12-22T08:55:37.012Z"
   },
   {
    "duration": 28,
    "start_time": "2023-12-22T08:55:38.883Z"
   },
   {
    "duration": 2580,
    "start_time": "2023-12-22T09:12:20.923Z"
   },
   {
    "duration": 1201,
    "start_time": "2023-12-22T09:12:23.505Z"
   },
   {
    "duration": 931,
    "start_time": "2023-12-22T09:12:24.708Z"
   },
   {
    "duration": 20,
    "start_time": "2023-12-22T09:12:25.641Z"
   },
   {
    "duration": 170,
    "start_time": "2023-12-22T09:12:25.664Z"
   },
   {
    "duration": 104,
    "start_time": "2023-12-22T09:12:25.836Z"
   },
   {
    "duration": 154,
    "start_time": "2023-12-22T09:12:25.942Z"
   },
   {
    "duration": 38,
    "start_time": "2023-12-22T09:12:26.097Z"
   },
   {
    "duration": 61,
    "start_time": "2023-12-22T09:12:26.136Z"
   },
   {
    "duration": 68,
    "start_time": "2023-12-22T09:12:26.199Z"
   },
   {
    "duration": 86,
    "start_time": "2023-12-22T09:12:26.269Z"
   },
   {
    "duration": 37,
    "start_time": "2023-12-22T09:12:26.357Z"
   },
   {
    "duration": 187,
    "start_time": "2023-12-22T09:12:26.396Z"
   },
   {
    "duration": 18,
    "start_time": "2023-12-22T09:12:26.586Z"
   },
   {
    "duration": 91,
    "start_time": "2023-12-22T09:12:26.606Z"
   },
   {
    "duration": 72,
    "start_time": "2023-12-22T09:12:26.699Z"
   },
   {
    "duration": 29,
    "start_time": "2023-12-22T09:12:26.772Z"
   },
   {
    "duration": 666,
    "start_time": "2023-12-22T09:12:26.803Z"
   },
   {
    "duration": 187,
    "start_time": "2023-12-22T09:12:27.471Z"
   },
   {
    "duration": 266,
    "start_time": "2023-12-22T09:12:27.660Z"
   },
   {
    "duration": 22867,
    "start_time": "2023-12-22T09:12:27.928Z"
   },
   {
    "duration": 292,
    "start_time": "2023-12-22T09:12:50.796Z"
   },
   {
    "duration": 6,
    "start_time": "2023-12-22T09:12:51.091Z"
   },
   {
    "duration": 134,
    "start_time": "2023-12-22T09:12:51.189Z"
   },
   {
    "duration": 11,
    "start_time": "2023-12-22T09:12:51.324Z"
   },
   {
    "duration": 305,
    "start_time": "2023-12-22T09:12:51.337Z"
   },
   {
    "duration": 20152,
    "start_time": "2023-12-22T09:12:51.644Z"
   },
   {
    "duration": 807,
    "start_time": "2023-12-22T09:13:11.798Z"
   },
   {
    "duration": 6,
    "start_time": "2023-12-22T09:13:12.607Z"
   },
   {
    "duration": 11,
    "start_time": "2023-12-22T09:13:12.688Z"
   },
   {
    "duration": 2662,
    "start_time": "2023-12-22T09:13:12.702Z"
   },
   {
    "duration": 3,
    "start_time": "2023-12-22T09:13:15.367Z"
   },
   {
    "duration": 941,
    "start_time": "2023-12-22T09:13:15.372Z"
   },
   {
    "duration": 25,
    "start_time": "2023-12-22T09:13:16.315Z"
   },
   {
    "duration": 171,
    "start_time": "2023-12-22T09:13:16.342Z"
   },
   {
    "duration": 109,
    "start_time": "2023-12-22T09:13:16.515Z"
   },
   {
    "duration": 164,
    "start_time": "2023-12-22T09:13:16.626Z"
   },
   {
    "duration": 42,
    "start_time": "2023-12-22T09:13:16.792Z"
   },
   {
    "duration": 410,
    "start_time": "2023-12-22T09:13:41.507Z"
   },
   {
    "duration": 900,
    "start_time": "2023-12-22T09:14:03.999Z"
   },
   {
    "duration": 53,
    "start_time": "2023-12-22T09:20:59.147Z"
   },
   {
    "duration": 45,
    "start_time": "2023-12-22T09:22:03.948Z"
   },
   {
    "duration": 101,
    "start_time": "2023-12-22T09:23:24.588Z"
   },
   {
    "duration": 38,
    "start_time": "2023-12-22T09:38:02.357Z"
   },
   {
    "duration": 144,
    "start_time": "2023-12-22T09:38:03.620Z"
   },
   {
    "duration": 387,
    "start_time": "2023-12-22T09:38:05.827Z"
   },
   {
    "duration": 2527,
    "start_time": "2023-12-22T09:38:34.768Z"
   },
   {
    "duration": 1198,
    "start_time": "2023-12-22T09:38:37.297Z"
   },
   {
    "duration": 1179,
    "start_time": "2023-12-22T09:38:39.316Z"
   },
   {
    "duration": 22,
    "start_time": "2023-12-22T09:38:40.498Z"
   },
   {
    "duration": 163,
    "start_time": "2023-12-22T09:38:40.521Z"
   },
   {
    "duration": 103,
    "start_time": "2023-12-22T09:38:40.686Z"
   },
   {
    "duration": 155,
    "start_time": "2023-12-22T09:38:40.790Z"
   },
   {
    "duration": 51,
    "start_time": "2023-12-22T09:38:40.947Z"
   },
   {
    "duration": 74,
    "start_time": "2023-12-22T09:38:41.000Z"
   },
   {
    "duration": 47,
    "start_time": "2023-12-22T09:38:41.380Z"
   },
   {
    "duration": 89,
    "start_time": "2023-12-22T09:38:41.429Z"
   },
   {
    "duration": 42,
    "start_time": "2023-12-22T09:38:41.520Z"
   },
   {
    "duration": 124,
    "start_time": "2023-12-22T09:38:41.563Z"
   },
   {
    "duration": 16,
    "start_time": "2023-12-22T09:38:41.689Z"
   },
   {
    "duration": 92,
    "start_time": "2023-12-22T09:38:41.707Z"
   },
   {
    "duration": 60,
    "start_time": "2023-12-22T09:38:41.801Z"
   },
   {
    "duration": 35,
    "start_time": "2023-12-22T09:38:41.863Z"
   },
   {
    "duration": 201,
    "start_time": "2023-12-22T09:38:41.900Z"
   },
   {
    "duration": 295,
    "start_time": "2023-12-22T09:38:42.103Z"
   },
   {
    "duration": 18,
    "start_time": "2023-12-22T09:38:42.400Z"
   },
   {
    "duration": 19,
    "start_time": "2023-12-22T09:38:42.420Z"
   },
   {
    "duration": 511,
    "start_time": "2023-12-22T09:38:42.441Z"
   },
   {
    "duration": 158,
    "start_time": "2023-12-22T09:38:42.953Z"
   },
   {
    "duration": 232,
    "start_time": "2023-12-22T09:38:43.113Z"
   },
   {
    "duration": 21542,
    "start_time": "2023-12-22T09:38:43.346Z"
   },
   {
    "duration": 707,
    "start_time": "2023-12-22T09:39:04.890Z"
   },
   {
    "duration": 2553,
    "start_time": "2023-12-22T10:53:15.267Z"
   },
   {
    "duration": 1271,
    "start_time": "2023-12-22T10:53:17.821Z"
   },
   {
    "duration": 910,
    "start_time": "2023-12-22T10:53:19.097Z"
   },
   {
    "duration": 22,
    "start_time": "2023-12-22T10:53:20.009Z"
   },
   {
    "duration": 187,
    "start_time": "2023-12-22T10:53:20.032Z"
   },
   {
    "duration": 105,
    "start_time": "2023-12-22T10:53:20.220Z"
   },
   {
    "duration": 144,
    "start_time": "2023-12-22T10:53:20.327Z"
   },
   {
    "duration": 45,
    "start_time": "2023-12-22T10:53:20.473Z"
   },
   {
    "duration": 57,
    "start_time": "2023-12-22T10:53:20.519Z"
   },
   {
    "duration": 49,
    "start_time": "2023-12-22T10:53:20.578Z"
   },
   {
    "duration": 39,
    "start_time": "2023-12-22T10:53:20.629Z"
   },
   {
    "duration": 59,
    "start_time": "2023-12-22T10:53:20.670Z"
   },
   {
    "duration": 100,
    "start_time": "2023-12-22T10:53:20.732Z"
   },
   {
    "duration": 16,
    "start_time": "2023-12-22T10:53:20.833Z"
   },
   {
    "duration": 61,
    "start_time": "2023-12-22T10:53:20.850Z"
   },
   {
    "duration": 52,
    "start_time": "2023-12-22T10:53:20.912Z"
   },
   {
    "duration": 42,
    "start_time": "2023-12-22T10:53:20.966Z"
   },
   {
    "duration": 142,
    "start_time": "2023-12-22T10:53:21.009Z"
   },
   {
    "duration": 281,
    "start_time": "2023-12-22T10:53:21.152Z"
   },
   {
    "duration": 18,
    "start_time": "2023-12-22T10:53:21.434Z"
   },
   {
    "duration": 24,
    "start_time": "2023-12-22T10:53:21.454Z"
   },
   {
    "duration": 516,
    "start_time": "2023-12-22T10:53:21.480Z"
   },
   {
    "duration": 168,
    "start_time": "2023-12-22T10:53:21.999Z"
   },
   {
    "duration": 219,
    "start_time": "2023-12-22T10:53:22.169Z"
   },
   {
    "duration": 23176,
    "start_time": "2023-12-22T10:53:22.390Z"
   },
   {
    "duration": 260,
    "start_time": "2023-12-22T10:53:45.567Z"
   },
   {
    "duration": 11,
    "start_time": "2023-12-22T10:53:45.828Z"
   },
   {
    "duration": 0,
    "start_time": "2023-12-22T10:53:45.841Z"
   },
   {
    "duration": 0,
    "start_time": "2023-12-22T10:53:45.842Z"
   },
   {
    "duration": 0,
    "start_time": "2023-12-22T10:53:45.843Z"
   },
   {
    "duration": 0,
    "start_time": "2023-12-22T10:53:45.845Z"
   },
   {
    "duration": 0,
    "start_time": "2023-12-22T10:53:45.846Z"
   },
   {
    "duration": 0,
    "start_time": "2023-12-22T10:53:45.847Z"
   },
   {
    "duration": 0,
    "start_time": "2023-12-22T10:53:45.848Z"
   },
   {
    "duration": 0,
    "start_time": "2023-12-22T10:53:45.850Z"
   },
   {
    "duration": 0,
    "start_time": "2023-12-22T10:53:45.851Z"
   },
   {
    "duration": 2486,
    "start_time": "2023-12-22T10:53:52.018Z"
   },
   {
    "duration": 5,
    "start_time": "2023-12-22T10:53:54.507Z"
   },
   {
    "duration": 881,
    "start_time": "2023-12-22T10:53:55.314Z"
   },
   {
    "duration": 13,
    "start_time": "2023-12-22T10:53:56.197Z"
   },
   {
    "duration": 177,
    "start_time": "2023-12-22T10:53:56.212Z"
   },
   {
    "duration": 97,
    "start_time": "2023-12-22T10:53:56.391Z"
   },
   {
    "duration": 150,
    "start_time": "2023-12-22T10:53:56.490Z"
   },
   {
    "duration": 50,
    "start_time": "2023-12-22T10:53:56.641Z"
   },
   {
    "duration": 45,
    "start_time": "2023-12-22T10:53:56.693Z"
   },
   {
    "duration": 72,
    "start_time": "2023-12-22T10:53:56.740Z"
   },
   {
    "duration": 56,
    "start_time": "2023-12-22T10:53:56.814Z"
   },
   {
    "duration": 39,
    "start_time": "2023-12-22T10:53:56.872Z"
   },
   {
    "duration": 118,
    "start_time": "2023-12-22T10:53:56.912Z"
   },
   {
    "duration": 16,
    "start_time": "2023-12-22T10:53:57.032Z"
   },
   {
    "duration": 45,
    "start_time": "2023-12-22T10:53:57.049Z"
   },
   {
    "duration": 52,
    "start_time": "2023-12-22T10:53:57.096Z"
   },
   {
    "duration": 39,
    "start_time": "2023-12-22T10:53:57.149Z"
   },
   {
    "duration": 141,
    "start_time": "2023-12-22T10:53:57.190Z"
   },
   {
    "duration": 266,
    "start_time": "2023-12-22T10:53:57.332Z"
   },
   {
    "duration": 18,
    "start_time": "2023-12-22T10:53:57.600Z"
   },
   {
    "duration": 18,
    "start_time": "2023-12-22T10:53:59.939Z"
   },
   {
    "duration": 473,
    "start_time": "2023-12-22T10:54:05.827Z"
   },
   {
    "duration": 156,
    "start_time": "2023-12-22T10:54:09.970Z"
   },
   {
    "duration": 221,
    "start_time": "2023-12-22T10:54:10.755Z"
   },
   {
    "duration": 24538,
    "start_time": "2023-12-22T10:54:23.058Z"
   },
   {
    "duration": 22793,
    "start_time": "2023-12-22T11:05:35.006Z"
   },
   {
    "duration": 3,
    "start_time": "2023-12-22T11:06:16.509Z"
   },
   {
    "duration": 3,
    "start_time": "2023-12-22T11:06:20.590Z"
   },
   {
    "duration": 98,
    "start_time": "2023-12-22T11:06:30.302Z"
   },
   {
    "duration": 90729,
    "start_time": "2023-12-22T11:07:34.765Z"
   },
   {
    "duration": 12,
    "start_time": "2023-12-22T11:27:09.515Z"
   },
   {
    "duration": 82571,
    "start_time": "2023-12-22T11:27:15.818Z"
   },
   {
    "duration": 5,
    "start_time": "2023-12-22T11:32:18.504Z"
   },
   {
    "duration": 5,
    "start_time": "2023-12-22T11:32:33.448Z"
   },
   {
    "duration": 5,
    "start_time": "2023-12-22T11:34:42.134Z"
   },
   {
    "duration": 2508,
    "start_time": "2023-12-22T11:41:29.861Z"
   },
   {
    "duration": 1228,
    "start_time": "2023-12-22T11:41:32.372Z"
   },
   {
    "duration": 888,
    "start_time": "2023-12-22T11:41:33.602Z"
   },
   {
    "duration": 20,
    "start_time": "2023-12-22T11:41:34.492Z"
   },
   {
    "duration": 161,
    "start_time": "2023-12-22T11:41:34.514Z"
   },
   {
    "duration": 98,
    "start_time": "2023-12-22T11:41:34.677Z"
   },
   {
    "duration": 147,
    "start_time": "2023-12-22T11:41:34.776Z"
   },
   {
    "duration": 59,
    "start_time": "2023-12-22T11:41:34.924Z"
   },
   {
    "duration": 40,
    "start_time": "2023-12-22T11:41:34.984Z"
   },
   {
    "duration": 42,
    "start_time": "2023-12-22T11:41:35.025Z"
   },
   {
    "duration": 52,
    "start_time": "2023-12-22T11:41:35.068Z"
   },
   {
    "duration": 36,
    "start_time": "2023-12-22T11:41:35.122Z"
   },
   {
    "duration": 117,
    "start_time": "2023-12-22T11:41:35.160Z"
   },
   {
    "duration": 18,
    "start_time": "2023-12-22T11:41:35.280Z"
   },
   {
    "duration": 56,
    "start_time": "2023-12-22T11:41:35.300Z"
   },
   {
    "duration": 57,
    "start_time": "2023-12-22T11:41:35.357Z"
   },
   {
    "duration": 26,
    "start_time": "2023-12-22T11:41:35.416Z"
   },
   {
    "duration": 157,
    "start_time": "2023-12-22T11:41:35.444Z"
   },
   {
    "duration": 147,
    "start_time": "2023-12-22T11:41:35.602Z"
   },
   {
    "duration": 0,
    "start_time": "2023-12-22T11:41:35.751Z"
   },
   {
    "duration": 0,
    "start_time": "2023-12-22T11:41:35.752Z"
   },
   {
    "duration": 0,
    "start_time": "2023-12-22T11:41:35.754Z"
   },
   {
    "duration": 0,
    "start_time": "2023-12-22T11:41:35.755Z"
   },
   {
    "duration": 0,
    "start_time": "2023-12-22T11:41:35.756Z"
   },
   {
    "duration": 0,
    "start_time": "2023-12-22T11:41:35.757Z"
   },
   {
    "duration": 0,
    "start_time": "2023-12-22T11:41:35.758Z"
   },
   {
    "duration": 0,
    "start_time": "2023-12-22T11:41:35.759Z"
   },
   {
    "duration": 0,
    "start_time": "2023-12-22T11:41:35.761Z"
   },
   {
    "duration": 0,
    "start_time": "2023-12-22T11:41:35.762Z"
   },
   {
    "duration": 0,
    "start_time": "2023-12-22T11:41:35.788Z"
   },
   {
    "duration": 0,
    "start_time": "2023-12-22T11:41:35.789Z"
   },
   {
    "duration": 0,
    "start_time": "2023-12-22T11:41:35.791Z"
   },
   {
    "duration": 0,
    "start_time": "2023-12-22T11:41:35.792Z"
   },
   {
    "duration": 0,
    "start_time": "2023-12-22T11:41:35.793Z"
   },
   {
    "duration": 0,
    "start_time": "2023-12-22T11:41:35.795Z"
   },
   {
    "duration": 2440,
    "start_time": "2023-12-22T11:41:41.253Z"
   },
   {
    "duration": 3,
    "start_time": "2023-12-22T11:41:43.695Z"
   },
   {
    "duration": 928,
    "start_time": "2023-12-22T11:41:43.700Z"
   },
   {
    "duration": 14,
    "start_time": "2023-12-22T11:41:44.630Z"
   },
   {
    "duration": 204,
    "start_time": "2023-12-22T11:41:44.645Z"
   },
   {
    "duration": 85,
    "start_time": "2023-12-22T11:41:46.805Z"
   },
   {
    "duration": 142,
    "start_time": "2023-12-22T11:41:46.964Z"
   },
   {
    "duration": 40,
    "start_time": "2023-12-22T11:41:47.701Z"
   },
   {
    "duration": 44,
    "start_time": "2023-12-22T11:41:47.742Z"
   },
   {
    "duration": 42,
    "start_time": "2023-12-22T11:41:47.788Z"
   },
   {
    "duration": 65,
    "start_time": "2023-12-22T11:41:47.831Z"
   },
   {
    "duration": 38,
    "start_time": "2023-12-22T11:41:47.898Z"
   },
   {
    "duration": 118,
    "start_time": "2023-12-22T11:41:47.937Z"
   },
   {
    "duration": 15,
    "start_time": "2023-12-22T11:41:48.057Z"
   },
   {
    "duration": 43,
    "start_time": "2023-12-22T11:41:48.074Z"
   },
   {
    "duration": 51,
    "start_time": "2023-12-22T11:41:48.119Z"
   },
   {
    "duration": 35,
    "start_time": "2023-12-22T11:41:48.172Z"
   },
   {
    "duration": 152,
    "start_time": "2023-12-22T11:41:48.209Z"
   },
   {
    "duration": 267,
    "start_time": "2023-12-22T11:41:48.363Z"
   },
   {
    "duration": 18,
    "start_time": "2023-12-22T11:41:48.631Z"
   },
   {
    "duration": 18,
    "start_time": "2023-12-22T11:41:48.651Z"
   },
   {
    "duration": 465,
    "start_time": "2023-12-22T11:41:51.620Z"
   },
   {
    "duration": 150,
    "start_time": "2023-12-22T11:41:54.901Z"
   },
   {
    "duration": 89,
    "start_time": "2023-12-22T11:42:23.127Z"
   },
   {
    "duration": 218,
    "start_time": "2023-12-22T11:42:35.845Z"
   },
   {
    "duration": 76129,
    "start_time": "2023-12-22T11:42:37.860Z"
   },
   {
    "duration": 4,
    "start_time": "2023-12-22T11:43:59.701Z"
   },
   {
    "duration": 5,
    "start_time": "2023-12-22T11:44:16.452Z"
   },
   {
    "duration": 5,
    "start_time": "2023-12-22T11:44:58.852Z"
   },
   {
    "duration": 5,
    "start_time": "2023-12-22T11:45:03.796Z"
   },
   {
    "duration": 94,
    "start_time": "2023-12-22T11:46:28.916Z"
   },
   {
    "duration": 73294,
    "start_time": "2023-12-22T11:46:45.396Z"
   },
   {
    "duration": 5,
    "start_time": "2023-12-22T11:48:03.073Z"
   },
   {
    "duration": 4,
    "start_time": "2023-12-22T11:48:21.709Z"
   },
   {
    "duration": 87270,
    "start_time": "2023-12-22T11:49:03.619Z"
   },
   {
    "duration": 4,
    "start_time": "2023-12-22T11:50:56.290Z"
   },
   {
    "duration": 22123,
    "start_time": "2023-12-22T11:54:23.269Z"
   },
   {
    "duration": 124,
    "start_time": "2023-12-22T11:55:16.225Z"
   },
   {
    "duration": 91,
    "start_time": "2023-12-22T11:55:24.628Z"
   },
   {
    "duration": 85,
    "start_time": "2023-12-22T11:55:54.463Z"
   },
   {
    "duration": 83,
    "start_time": "2023-12-22T11:56:07.065Z"
   },
   {
    "duration": 8,
    "start_time": "2023-12-22T11:56:41.840Z"
   },
   {
    "duration": 149,
    "start_time": "2023-12-22T11:57:53.247Z"
   },
   {
    "duration": 5,
    "start_time": "2023-12-22T11:58:02.399Z"
   },
   {
    "duration": 3,
    "start_time": "2023-12-22T11:59:29.522Z"
   },
   {
    "duration": 10,
    "start_time": "2023-12-22T12:01:03.343Z"
   },
   {
    "duration": 13,
    "start_time": "2023-12-22T12:01:11.662Z"
   },
   {
    "duration": 3,
    "start_time": "2023-12-22T12:01:40.926Z"
   },
   {
    "duration": 9,
    "start_time": "2023-12-22T12:01:55.950Z"
   },
   {
    "duration": 2446,
    "start_time": "2023-12-22T12:33:39.570Z"
   },
   {
    "duration": 1147,
    "start_time": "2023-12-22T12:33:42.018Z"
   },
   {
    "duration": 945,
    "start_time": "2023-12-22T12:33:43.167Z"
   },
   {
    "duration": 22,
    "start_time": "2023-12-22T12:33:44.114Z"
   },
   {
    "duration": 167,
    "start_time": "2023-12-22T12:33:44.139Z"
   },
   {
    "duration": 113,
    "start_time": "2023-12-22T12:33:44.307Z"
   },
   {
    "duration": 152,
    "start_time": "2023-12-22T12:33:44.422Z"
   },
   {
    "duration": 48,
    "start_time": "2023-12-22T12:33:44.576Z"
   },
   {
    "duration": 65,
    "start_time": "2023-12-22T12:33:44.625Z"
   },
   {
    "duration": 75,
    "start_time": "2023-12-22T12:33:44.691Z"
   },
   {
    "duration": 61,
    "start_time": "2023-12-22T12:33:44.767Z"
   },
   {
    "duration": 61,
    "start_time": "2023-12-22T12:33:44.830Z"
   },
   {
    "duration": 126,
    "start_time": "2023-12-22T12:33:44.892Z"
   },
   {
    "duration": 17,
    "start_time": "2023-12-22T12:33:45.022Z"
   },
   {
    "duration": 144,
    "start_time": "2023-12-22T12:33:45.040Z"
   },
   {
    "duration": 58,
    "start_time": "2023-12-22T12:33:45.186Z"
   },
   {
    "duration": 30,
    "start_time": "2023-12-22T12:33:45.246Z"
   },
   {
    "duration": 181,
    "start_time": "2023-12-22T12:33:45.290Z"
   },
   {
    "duration": 274,
    "start_time": "2023-12-22T12:33:45.473Z"
   },
   {
    "duration": 19,
    "start_time": "2023-12-22T12:33:45.748Z"
   },
   {
    "duration": 30,
    "start_time": "2023-12-22T12:33:45.769Z"
   },
   {
    "duration": 523,
    "start_time": "2023-12-22T12:33:45.801Z"
   },
   {
    "duration": 168,
    "start_time": "2023-12-22T12:33:46.325Z"
   },
   {
    "duration": 216,
    "start_time": "2023-12-22T12:33:46.494Z"
   },
   {
    "duration": 173,
    "start_time": "2023-12-22T12:33:46.711Z"
   },
   {
    "duration": 8,
    "start_time": "2023-12-22T12:33:46.885Z"
   },
   {
    "duration": 0,
    "start_time": "2023-12-22T12:33:46.895Z"
   },
   {
    "duration": 0,
    "start_time": "2023-12-22T12:33:46.896Z"
   },
   {
    "duration": 0,
    "start_time": "2023-12-22T12:33:46.897Z"
   },
   {
    "duration": 0,
    "start_time": "2023-12-22T12:33:46.898Z"
   },
   {
    "duration": 0,
    "start_time": "2023-12-22T12:33:46.899Z"
   },
   {
    "duration": 0,
    "start_time": "2023-12-22T12:33:46.900Z"
   },
   {
    "duration": 0,
    "start_time": "2023-12-22T12:33:46.901Z"
   },
   {
    "duration": 0,
    "start_time": "2023-12-22T12:33:46.902Z"
   },
   {
    "duration": 0,
    "start_time": "2023-12-22T12:33:46.903Z"
   },
   {
    "duration": 0,
    "start_time": "2023-12-22T12:33:46.904Z"
   },
   {
    "duration": 0,
    "start_time": "2023-12-22T12:33:46.905Z"
   },
   {
    "duration": 0,
    "start_time": "2023-12-22T12:33:46.906Z"
   },
   {
    "duration": 0,
    "start_time": "2023-12-22T12:33:46.907Z"
   },
   {
    "duration": 2411,
    "start_time": "2023-12-22T12:33:54.397Z"
   },
   {
    "duration": 3,
    "start_time": "2023-12-22T12:33:56.810Z"
   },
   {
    "duration": 878,
    "start_time": "2023-12-22T12:33:56.815Z"
   },
   {
    "duration": 13,
    "start_time": "2023-12-22T12:33:57.696Z"
   },
   {
    "duration": 167,
    "start_time": "2023-12-22T12:33:57.710Z"
   },
   {
    "duration": 88,
    "start_time": "2023-12-22T12:33:57.878Z"
   },
   {
    "duration": 147,
    "start_time": "2023-12-22T12:33:57.967Z"
   },
   {
    "duration": 40,
    "start_time": "2023-12-22T12:33:58.115Z"
   },
   {
    "duration": 53,
    "start_time": "2023-12-22T12:33:58.156Z"
   },
   {
    "duration": 43,
    "start_time": "2023-12-22T12:33:58.212Z"
   },
   {
    "duration": 50,
    "start_time": "2023-12-22T12:33:58.256Z"
   },
   {
    "duration": 36,
    "start_time": "2023-12-22T12:33:58.307Z"
   },
   {
    "duration": 113,
    "start_time": "2023-12-22T12:33:58.345Z"
   },
   {
    "duration": 16,
    "start_time": "2023-12-22T12:33:58.460Z"
   },
   {
    "duration": 51,
    "start_time": "2023-12-22T12:33:58.477Z"
   },
   {
    "duration": 59,
    "start_time": "2023-12-22T12:33:58.530Z"
   },
   {
    "duration": 21,
    "start_time": "2023-12-22T12:33:58.591Z"
   },
   {
    "duration": 217,
    "start_time": "2023-12-22T12:33:58.614Z"
   },
   {
    "duration": 262,
    "start_time": "2023-12-22T12:33:58.833Z"
   },
   {
    "duration": 19,
    "start_time": "2023-12-22T12:33:59.097Z"
   },
   {
    "duration": 20,
    "start_time": "2023-12-22T12:33:59.674Z"
   },
   {
    "duration": 480,
    "start_time": "2023-12-22T12:33:59.978Z"
   },
   {
    "duration": 165,
    "start_time": "2023-12-22T12:34:00.460Z"
   },
   {
    "duration": 222,
    "start_time": "2023-12-22T12:34:00.626Z"
   },
   {
    "duration": 105,
    "start_time": "2023-12-22T12:34:00.850Z"
   },
   {
    "duration": 140,
    "start_time": "2023-12-22T12:34:12.550Z"
   },
   {
    "duration": 90,
    "start_time": "2023-12-22T12:34:14.346Z"
   },
   {
    "duration": 215,
    "start_time": "2023-12-22T12:34:15.303Z"
   },
   {
    "duration": 92,
    "start_time": "2023-12-22T12:34:16.742Z"
   },
   {
    "duration": 74742,
    "start_time": "2023-12-22T12:34:26.647Z"
   },
   {
    "duration": 5,
    "start_time": "2023-12-22T12:35:55.733Z"
   },
   {
    "duration": 18328,
    "start_time": "2023-12-22T12:35:58.966Z"
   },
   {
    "duration": 124,
    "start_time": "2023-12-22T12:36:22.293Z"
   },
   {
    "duration": 4,
    "start_time": "2023-12-22T12:36:24.006Z"
   },
   {
    "duration": 89,
    "start_time": "2023-12-22T12:36:26.790Z"
   },
   {
    "duration": 12,
    "start_time": "2023-12-22T12:36:27.269Z"
   },
   {
    "duration": 209,
    "start_time": "2023-12-22T12:36:28.005Z"
   },
   {
    "duration": 7016,
    "start_time": "2023-12-22T12:36:28.582Z"
   },
   {
    "duration": 646,
    "start_time": "2023-12-22T12:36:37.749Z"
   },
   {
    "duration": 4,
    "start_time": "2023-12-22T12:36:39.958Z"
   },
   {
    "duration": 3449,
    "start_time": "2023-12-22T12:40:15.476Z"
   },
   {
    "duration": 82,
    "start_time": "2023-12-22T12:40:53.204Z"
   },
   {
    "duration": 10,
    "start_time": "2023-12-22T12:41:00.116Z"
   },
   {
    "duration": 227,
    "start_time": "2023-12-22T12:41:31.571Z"
   },
   {
    "duration": 13,
    "start_time": "2023-12-22T12:42:18.453Z"
   },
   {
    "duration": 3,
    "start_time": "2023-12-22T12:42:39.826Z"
   },
   {
    "duration": 3,
    "start_time": "2023-12-22T12:42:40.849Z"
   },
   {
    "duration": 282129,
    "start_time": "2023-12-22T12:42:42.066Z"
   },
   {
    "duration": 4,
    "start_time": "2023-12-22T12:51:04.429Z"
   },
   {
    "duration": 3,
    "start_time": "2023-12-22T12:51:21.516Z"
   },
   {
    "duration": 96,
    "start_time": "2023-12-22T12:56:03.115Z"
   },
   {
    "duration": 482,
    "start_time": "2023-12-22T12:56:20.731Z"
   },
   {
    "duration": 5,
    "start_time": "2023-12-22T12:59:31.401Z"
   },
   {
    "duration": 4,
    "start_time": "2023-12-22T12:59:40.505Z"
   },
   {
    "duration": 11,
    "start_time": "2023-12-22T12:59:54.153Z"
   },
   {
    "duration": 5,
    "start_time": "2023-12-22T13:02:46.808Z"
   },
   {
    "duration": 11,
    "start_time": "2023-12-22T13:07:00.548Z"
   },
   {
    "duration": 130,
    "start_time": "2023-12-22T13:08:43.780Z"
   },
   {
    "duration": 10,
    "start_time": "2023-12-22T13:12:20.772Z"
   },
   {
    "duration": 2505,
    "start_time": "2023-12-22T13:15:23.560Z"
   },
   {
    "duration": 1218,
    "start_time": "2023-12-22T13:15:26.067Z"
   },
   {
    "duration": 872,
    "start_time": "2023-12-22T13:15:27.286Z"
   },
   {
    "duration": 20,
    "start_time": "2023-12-22T13:15:28.160Z"
   },
   {
    "duration": 154,
    "start_time": "2023-12-22T13:15:28.189Z"
   },
   {
    "duration": 100,
    "start_time": "2023-12-22T13:15:28.345Z"
   },
   {
    "duration": 149,
    "start_time": "2023-12-22T13:15:28.447Z"
   },
   {
    "duration": 37,
    "start_time": "2023-12-22T13:15:28.598Z"
   },
   {
    "duration": 64,
    "start_time": "2023-12-22T13:15:28.637Z"
   },
   {
    "duration": 60,
    "start_time": "2023-12-22T13:15:28.703Z"
   },
   {
    "duration": 46,
    "start_time": "2023-12-22T13:15:28.764Z"
   },
   {
    "duration": 54,
    "start_time": "2023-12-22T13:15:28.812Z"
   },
   {
    "duration": 100,
    "start_time": "2023-12-22T13:15:28.868Z"
   },
   {
    "duration": 21,
    "start_time": "2023-12-22T13:15:28.971Z"
   },
   {
    "duration": 63,
    "start_time": "2023-12-22T13:15:28.994Z"
   },
   {
    "duration": 59,
    "start_time": "2023-12-22T13:15:29.059Z"
   },
   {
    "duration": 28,
    "start_time": "2023-12-22T13:15:29.120Z"
   },
   {
    "duration": 150,
    "start_time": "2023-12-22T13:15:29.150Z"
   },
   {
    "duration": 265,
    "start_time": "2023-12-22T13:15:29.302Z"
   },
   {
    "duration": 24,
    "start_time": "2023-12-22T13:15:29.569Z"
   },
   {
    "duration": 19,
    "start_time": "2023-12-22T13:15:29.594Z"
   },
   {
    "duration": 525,
    "start_time": "2023-12-22T13:15:29.615Z"
   },
   {
    "duration": 165,
    "start_time": "2023-12-22T13:15:30.142Z"
   },
   {
    "duration": 226,
    "start_time": "2023-12-22T13:15:30.308Z"
   },
   {
    "duration": 13844,
    "start_time": "2023-12-22T13:15:30.535Z"
   },
   {
    "duration": 10,
    "start_time": "2023-12-22T13:15:44.380Z"
   },
   {
    "duration": 0,
    "start_time": "2023-12-22T13:15:44.392Z"
   },
   {
    "duration": 0,
    "start_time": "2023-12-22T13:15:44.393Z"
   },
   {
    "duration": 0,
    "start_time": "2023-12-22T13:15:44.394Z"
   },
   {
    "duration": 0,
    "start_time": "2023-12-22T13:15:44.395Z"
   },
   {
    "duration": 0,
    "start_time": "2023-12-22T13:15:44.395Z"
   },
   {
    "duration": 0,
    "start_time": "2023-12-22T13:15:44.397Z"
   },
   {
    "duration": 0,
    "start_time": "2023-12-22T13:15:44.398Z"
   },
   {
    "duration": 0,
    "start_time": "2023-12-22T13:15:44.399Z"
   },
   {
    "duration": 0,
    "start_time": "2023-12-22T13:15:44.400Z"
   },
   {
    "duration": 0,
    "start_time": "2023-12-22T13:15:44.401Z"
   },
   {
    "duration": 0,
    "start_time": "2023-12-22T13:15:44.402Z"
   },
   {
    "duration": 0,
    "start_time": "2023-12-22T13:15:44.403Z"
   },
   {
    "duration": 0,
    "start_time": "2023-12-22T13:15:44.404Z"
   },
   {
    "duration": 0,
    "start_time": "2023-12-22T13:15:44.405Z"
   },
   {
    "duration": 0,
    "start_time": "2023-12-22T13:15:44.406Z"
   },
   {
    "duration": 0,
    "start_time": "2023-12-22T13:15:44.407Z"
   },
   {
    "duration": 0,
    "start_time": "2023-12-22T13:15:44.408Z"
   },
   {
    "duration": 0,
    "start_time": "2023-12-22T13:15:44.409Z"
   },
   {
    "duration": 0,
    "start_time": "2023-12-22T13:15:44.410Z"
   },
   {
    "duration": 2435,
    "start_time": "2023-12-22T13:15:49.272Z"
   },
   {
    "duration": 4,
    "start_time": "2023-12-22T13:15:51.709Z"
   },
   {
    "duration": 816,
    "start_time": "2023-12-22T13:15:51.715Z"
   },
   {
    "duration": 13,
    "start_time": "2023-12-22T13:15:52.533Z"
   },
   {
    "duration": 143,
    "start_time": "2023-12-22T13:15:53.955Z"
   },
   {
    "duration": 94,
    "start_time": "2023-12-22T13:15:54.100Z"
   },
   {
    "duration": 144,
    "start_time": "2023-12-22T13:15:54.196Z"
   },
   {
    "duration": 49,
    "start_time": "2023-12-22T13:15:54.342Z"
   },
   {
    "duration": 38,
    "start_time": "2023-12-22T13:15:54.392Z"
   },
   {
    "duration": 52,
    "start_time": "2023-12-22T13:15:54.431Z"
   },
   {
    "duration": 38,
    "start_time": "2023-12-22T13:15:54.488Z"
   },
   {
    "duration": 55,
    "start_time": "2023-12-22T13:15:54.527Z"
   },
   {
    "duration": 111,
    "start_time": "2023-12-22T13:15:54.584Z"
   },
   {
    "duration": 15,
    "start_time": "2023-12-22T13:15:54.697Z"
   },
   {
    "duration": 33,
    "start_time": "2023-12-22T13:15:54.714Z"
   },
   {
    "duration": 69,
    "start_time": "2023-12-22T13:15:54.749Z"
   },
   {
    "duration": 21,
    "start_time": "2023-12-22T13:15:54.819Z"
   },
   {
    "duration": 136,
    "start_time": "2023-12-22T13:15:54.842Z"
   },
   {
    "duration": 251,
    "start_time": "2023-12-22T13:15:54.979Z"
   },
   {
    "duration": 18,
    "start_time": "2023-12-22T13:15:55.232Z"
   },
   {
    "duration": 18,
    "start_time": "2023-12-22T13:15:55.252Z"
   },
   {
    "duration": 441,
    "start_time": "2023-12-22T13:15:55.897Z"
   },
   {
    "duration": 166,
    "start_time": "2023-12-22T13:15:56.341Z"
   },
   {
    "duration": 227,
    "start_time": "2023-12-22T13:15:56.510Z"
   },
   {
    "duration": 74351,
    "start_time": "2023-12-22T13:15:56.739Z"
   },
   {
    "duration": 5,
    "start_time": "2023-12-22T13:17:11.092Z"
   },
   {
    "duration": 17691,
    "start_time": "2023-12-22T13:17:11.099Z"
   },
   {
    "duration": 204,
    "start_time": "2023-12-22T13:17:28.791Z"
   },
   {
    "duration": 4,
    "start_time": "2023-12-22T13:21:34.732Z"
   },
   {
    "duration": 90,
    "start_time": "2023-12-22T13:21:35.900Z"
   },
   {
    "duration": 16,
    "start_time": "2023-12-22T13:21:36.333Z"
   },
   {
    "duration": 217,
    "start_time": "2023-12-22T13:21:37.739Z"
   },
   {
    "duration": 6944,
    "start_time": "2023-12-22T13:21:40.652Z"
   },
   {
    "duration": 702,
    "start_time": "2023-12-22T13:21:47.598Z"
   },
   {
    "duration": 4,
    "start_time": "2023-12-22T13:21:48.302Z"
   },
   {
    "duration": 3,
    "start_time": "2023-12-22T13:21:52.701Z"
   },
   {
    "duration": 3,
    "start_time": "2023-12-22T13:21:52.877Z"
   },
   {
    "duration": 280489,
    "start_time": "2023-12-22T13:21:54.908Z"
   },
   {
    "duration": 10,
    "start_time": "2023-12-22T13:27:21.326Z"
   },
   {
    "duration": 10,
    "start_time": "2023-12-22T13:27:32.431Z"
   },
   {
    "duration": 90,
    "start_time": "2023-12-22T13:28:50.719Z"
   },
   {
    "duration": 99,
    "start_time": "2023-12-22T13:30:44.993Z"
   },
   {
    "duration": 2442,
    "start_time": "2023-12-22T18:02:17.062Z"
   },
   {
    "duration": 1033,
    "start_time": "2023-12-22T18:02:19.507Z"
   },
   {
    "duration": 1102,
    "start_time": "2023-12-22T18:02:20.541Z"
   },
   {
    "duration": 21,
    "start_time": "2023-12-22T18:02:21.644Z"
   },
   {
    "duration": 163,
    "start_time": "2023-12-22T18:02:21.667Z"
   },
   {
    "duration": 94,
    "start_time": "2023-12-22T18:02:21.831Z"
   },
   {
    "duration": 143,
    "start_time": "2023-12-22T18:02:21.927Z"
   },
   {
    "duration": 36,
    "start_time": "2023-12-22T18:02:22.072Z"
   },
   {
    "duration": 58,
    "start_time": "2023-12-22T18:02:22.109Z"
   },
   {
    "duration": 56,
    "start_time": "2023-12-22T18:02:22.169Z"
   },
   {
    "duration": 49,
    "start_time": "2023-12-22T18:02:22.227Z"
   },
   {
    "duration": 62,
    "start_time": "2023-12-22T18:02:22.277Z"
   },
   {
    "duration": 100,
    "start_time": "2023-12-22T18:02:22.341Z"
   },
   {
    "duration": 16,
    "start_time": "2023-12-22T18:02:22.444Z"
   },
   {
    "duration": 50,
    "start_time": "2023-12-22T18:02:22.461Z"
   },
   {
    "duration": 69,
    "start_time": "2023-12-22T18:02:22.512Z"
   },
   {
    "duration": 41,
    "start_time": "2023-12-22T18:02:22.583Z"
   },
   {
    "duration": 171,
    "start_time": "2023-12-22T18:02:22.625Z"
   },
   {
    "duration": 260,
    "start_time": "2023-12-22T18:02:22.797Z"
   },
   {
    "duration": 17,
    "start_time": "2023-12-22T18:02:23.059Z"
   },
   {
    "duration": 46,
    "start_time": "2023-12-22T18:02:23.077Z"
   },
   {
    "duration": 479,
    "start_time": "2023-12-22T18:02:23.125Z"
   },
   {
    "duration": 162,
    "start_time": "2023-12-22T18:02:23.605Z"
   },
   {
    "duration": 232,
    "start_time": "2023-12-22T18:02:23.768Z"
   },
   {
    "duration": 2450,
    "start_time": "2023-12-22T18:04:11.907Z"
   },
   {
    "duration": 1018,
    "start_time": "2023-12-22T18:04:14.359Z"
   },
   {
    "duration": 892,
    "start_time": "2023-12-22T18:04:15.378Z"
   },
   {
    "duration": 19,
    "start_time": "2023-12-22T18:04:16.272Z"
   },
   {
    "duration": 154,
    "start_time": "2023-12-22T18:04:16.293Z"
   },
   {
    "duration": 98,
    "start_time": "2023-12-22T18:04:16.449Z"
   },
   {
    "duration": 139,
    "start_time": "2023-12-22T18:04:16.548Z"
   },
   {
    "duration": 35,
    "start_time": "2023-12-22T18:04:16.689Z"
   },
   {
    "duration": 48,
    "start_time": "2023-12-22T18:04:16.725Z"
   },
   {
    "duration": 36,
    "start_time": "2023-12-22T18:04:16.775Z"
   },
   {
    "duration": 47,
    "start_time": "2023-12-22T18:04:16.813Z"
   },
   {
    "duration": 34,
    "start_time": "2023-12-22T18:04:16.861Z"
   },
   {
    "duration": 103,
    "start_time": "2023-12-22T18:04:16.896Z"
   },
   {
    "duration": 15,
    "start_time": "2023-12-22T18:04:17.002Z"
   },
   {
    "duration": 59,
    "start_time": "2023-12-22T18:04:17.018Z"
   },
   {
    "duration": 53,
    "start_time": "2023-12-22T18:04:17.078Z"
   },
   {
    "duration": 37,
    "start_time": "2023-12-22T18:04:17.133Z"
   },
   {
    "duration": 142,
    "start_time": "2023-12-22T18:04:17.171Z"
   },
   {
    "duration": 256,
    "start_time": "2023-12-22T18:04:17.314Z"
   },
   {
    "duration": 19,
    "start_time": "2023-12-22T18:04:17.571Z"
   },
   {
    "duration": 19,
    "start_time": "2023-12-22T18:04:17.591Z"
   },
   {
    "duration": 518,
    "start_time": "2023-12-22T18:04:17.611Z"
   },
   {
    "duration": 159,
    "start_time": "2023-12-22T18:04:18.131Z"
   },
   {
    "duration": 236,
    "start_time": "2023-12-22T18:04:18.291Z"
   },
   {
    "duration": 73916,
    "start_time": "2023-12-22T18:04:18.528Z"
   },
   {
    "duration": 5,
    "start_time": "2023-12-22T18:05:32.446Z"
   },
   {
    "duration": 18595,
    "start_time": "2023-12-22T18:05:32.453Z"
   },
   {
    "duration": 200,
    "start_time": "2023-12-22T18:05:51.050Z"
   },
   {
    "duration": 189,
    "start_time": "2023-12-22T18:05:51.252Z"
   },
   {
    "duration": 88,
    "start_time": "2023-12-22T18:05:51.443Z"
   },
   {
    "duration": 10,
    "start_time": "2023-12-22T18:05:51.542Z"
   },
   {
    "duration": 227,
    "start_time": "2023-12-22T18:05:51.554Z"
   },
   {
    "duration": 6966,
    "start_time": "2023-12-22T18:05:51.783Z"
   },
   {
    "duration": 692,
    "start_time": "2023-12-22T18:05:58.751Z"
   },
   {
    "duration": 5,
    "start_time": "2023-12-22T18:05:59.446Z"
   },
   {
    "duration": 16,
    "start_time": "2023-12-22T18:05:59.453Z"
   },
   {
    "duration": 14,
    "start_time": "2023-12-22T18:05:59.470Z"
   },
   {
    "duration": 317872,
    "start_time": "2023-12-22T18:05:59.485Z"
   },
   {
    "duration": 4,
    "start_time": "2023-12-22T18:11:17.443Z"
   },
   {
    "duration": 7,
    "start_time": "2023-12-22T18:11:17.448Z"
   },
   {
    "duration": 502,
    "start_time": "2023-12-22T18:11:17.458Z"
   },
   {
    "duration": 149,
    "start_time": "2023-12-22T18:11:17.962Z"
   },
   {
    "duration": 0,
    "start_time": "2023-12-22T18:11:18.112Z"
   },
   {
    "duration": 2623,
    "start_time": "2023-12-22T22:33:24.262Z"
   },
   {
    "duration": 1152,
    "start_time": "2023-12-22T22:33:26.887Z"
   },
   {
    "duration": 1050,
    "start_time": "2023-12-22T22:33:28.041Z"
   },
   {
    "duration": 19,
    "start_time": "2023-12-22T22:33:29.093Z"
   },
   {
    "duration": 134,
    "start_time": "2023-12-22T22:33:29.114Z"
   },
   {
    "duration": 91,
    "start_time": "2023-12-22T22:33:29.250Z"
   },
   {
    "duration": 139,
    "start_time": "2023-12-22T22:33:29.342Z"
   },
   {
    "duration": 35,
    "start_time": "2023-12-22T22:33:29.483Z"
   },
   {
    "duration": 52,
    "start_time": "2023-12-22T22:33:29.519Z"
   },
   {
    "duration": 42,
    "start_time": "2023-12-22T22:33:29.573Z"
   },
   {
    "duration": 38,
    "start_time": "2023-12-22T22:33:29.617Z"
   },
   {
    "duration": 33,
    "start_time": "2023-12-22T22:33:56.985Z"
   },
   {
    "duration": 94,
    "start_time": "2023-12-22T22:33:57.189Z"
   },
   {
    "duration": 15,
    "start_time": "2023-12-22T22:34:01.486Z"
   },
   {
    "duration": 75,
    "start_time": "2023-12-22T22:34:01.842Z"
   },
   {
    "duration": 54,
    "start_time": "2023-12-22T22:34:02.195Z"
   },
   {
    "duration": 29,
    "start_time": "2023-12-22T22:34:02.672Z"
   },
   {
    "duration": 135,
    "start_time": "2023-12-22T22:34:03.080Z"
   },
   {
    "duration": 243,
    "start_time": "2023-12-22T22:34:08.748Z"
   },
   {
    "duration": 111,
    "start_time": "2023-12-22T22:34:18.588Z"
   },
   {
    "duration": 222,
    "start_time": "2023-12-22T22:34:20.032Z"
   },
   {
    "duration": 18,
    "start_time": "2023-12-22T22:35:07.948Z"
   },
   {
    "duration": 19,
    "start_time": "2023-12-22T22:35:08.289Z"
   },
   {
    "duration": 419,
    "start_time": "2023-12-22T22:35:10.793Z"
   },
   {
    "duration": 150,
    "start_time": "2023-12-22T22:35:11.679Z"
   },
   {
    "duration": 210,
    "start_time": "2023-12-22T22:35:11.992Z"
   },
   {
    "duration": 68314,
    "start_time": "2023-12-22T22:35:12.451Z"
   },
   {
    "duration": 5,
    "start_time": "2023-12-22T22:36:20.768Z"
   },
   {
    "duration": 17200,
    "start_time": "2023-12-22T22:36:20.775Z"
   },
   {
    "duration": 293,
    "start_time": "2023-12-22T22:36:37.977Z"
   },
   {
    "duration": 94,
    "start_time": "2023-12-22T22:36:38.272Z"
   },
   {
    "duration": 129,
    "start_time": "2023-12-22T22:36:38.368Z"
   },
   {
    "duration": 10,
    "start_time": "2023-12-22T22:36:38.499Z"
   },
   {
    "duration": 224,
    "start_time": "2023-12-22T22:36:38.510Z"
   },
   {
    "duration": 7138,
    "start_time": "2023-12-22T22:36:38.735Z"
   },
   {
    "duration": 699,
    "start_time": "2023-12-22T22:36:45.875Z"
   },
   {
    "duration": 4,
    "start_time": "2023-12-22T22:36:46.575Z"
   },
   {
    "duration": 27,
    "start_time": "2023-12-22T22:36:46.581Z"
   },
   {
    "duration": 13,
    "start_time": "2023-12-22T22:36:46.609Z"
   },
   {
    "duration": 325847,
    "start_time": "2023-12-22T22:36:46.624Z"
   },
   {
    "duration": 4,
    "start_time": "2023-12-22T22:42:12.473Z"
   },
   {
    "duration": 3,
    "start_time": "2023-12-22T22:44:29.022Z"
   },
   {
    "duration": 516,
    "start_time": "2023-12-22T22:44:30.160Z"
   },
   {
    "duration": 5,
    "start_time": "2023-12-22T22:44:30.694Z"
   },
   {
    "duration": 3,
    "start_time": "2023-12-22T22:56:19.090Z"
   },
   {
    "duration": 4,
    "start_time": "2023-12-22T22:56:20.011Z"
   },
   {
    "duration": 9,
    "start_time": "2023-12-22T22:56:55.709Z"
   },
   {
    "duration": 10,
    "start_time": "2023-12-22T22:57:12.241Z"
   },
   {
    "duration": 10,
    "start_time": "2023-12-22T22:57:47.216Z"
   },
   {
    "duration": 2492,
    "start_time": "2023-12-22T23:00:35.042Z"
   },
   {
    "duration": 5,
    "start_time": "2023-12-22T23:00:37.536Z"
   },
   {
    "duration": 914,
    "start_time": "2023-12-22T23:00:37.542Z"
   },
   {
    "duration": 26,
    "start_time": "2023-12-22T23:00:38.458Z"
   },
   {
    "duration": 172,
    "start_time": "2023-12-22T23:00:38.486Z"
   },
   {
    "duration": 100,
    "start_time": "2023-12-22T23:00:38.660Z"
   },
   {
    "duration": 144,
    "start_time": "2023-12-22T23:00:44.234Z"
   },
   {
    "duration": 41,
    "start_time": "2023-12-22T23:00:45.106Z"
   },
   {
    "duration": 34,
    "start_time": "2023-12-22T23:00:45.308Z"
   },
   {
    "duration": 36,
    "start_time": "2023-12-22T23:00:45.428Z"
   },
   {
    "duration": 36,
    "start_time": "2023-12-22T23:00:45.588Z"
   },
   {
    "duration": 51,
    "start_time": "2023-12-22T23:00:45.880Z"
   },
   {
    "duration": 104,
    "start_time": "2023-12-22T23:00:46.034Z"
   },
   {
    "duration": 21,
    "start_time": "2023-12-22T23:00:47.266Z"
   },
   {
    "duration": 40,
    "start_time": "2023-12-22T23:00:47.470Z"
   },
   {
    "duration": 52,
    "start_time": "2023-12-22T23:00:47.675Z"
   },
   {
    "duration": 23,
    "start_time": "2023-12-22T23:00:47.879Z"
   },
   {
    "duration": 130,
    "start_time": "2023-12-22T23:00:48.078Z"
   },
   {
    "duration": 255,
    "start_time": "2023-12-22T23:00:48.275Z"
   },
   {
    "duration": 18,
    "start_time": "2023-12-22T23:00:48.532Z"
   },
   {
    "duration": 19,
    "start_time": "2023-12-22T23:00:48.679Z"
   },
   {
    "duration": 449,
    "start_time": "2023-12-22T23:00:50.813Z"
   },
   {
    "duration": 164,
    "start_time": "2023-12-22T23:00:52.146Z"
   },
   {
    "duration": 213,
    "start_time": "2023-12-22T23:00:52.347Z"
   },
   {
    "duration": 114019,
    "start_time": "2023-12-22T23:00:52.649Z"
   },
   {
    "duration": 8,
    "start_time": "2023-12-22T23:02:46.671Z"
   },
   {
    "duration": 93,
    "start_time": "2023-12-22T23:02:46.680Z"
   },
   {
    "duration": 27094,
    "start_time": "2023-12-22T23:02:46.776Z"
   },
   {
    "duration": 201,
    "start_time": "2023-12-22T23:03:13.875Z"
   },
   {
    "duration": 8,
    "start_time": "2023-12-22T23:03:14.078Z"
   },
   {
    "duration": 169,
    "start_time": "2023-12-22T23:03:14.173Z"
   },
   {
    "duration": 12,
    "start_time": "2023-12-22T23:03:14.344Z"
   },
   {
    "duration": 227,
    "start_time": "2023-12-22T23:03:14.367Z"
   },
   {
    "duration": 32476,
    "start_time": "2023-12-22T23:03:14.596Z"
   },
   {
    "duration": 611,
    "start_time": "2023-12-22T23:03:47.074Z"
   },
   {
    "duration": 5,
    "start_time": "2023-12-22T23:03:47.687Z"
   },
   {
    "duration": 74,
    "start_time": "2023-12-22T23:03:47.693Z"
   },
   {
    "duration": 13,
    "start_time": "2023-12-22T23:03:47.769Z"
   },
   {
    "duration": 2670,
    "start_time": "2023-12-22T23:26:41.856Z"
   },
   {
    "duration": 1280,
    "start_time": "2023-12-22T23:26:44.528Z"
   },
   {
    "duration": 1069,
    "start_time": "2023-12-22T23:26:45.810Z"
   },
   {
    "duration": 28,
    "start_time": "2023-12-22T23:26:46.881Z"
   },
   {
    "duration": 195,
    "start_time": "2023-12-22T23:26:46.911Z"
   },
   {
    "duration": 105,
    "start_time": "2023-12-22T23:26:47.108Z"
   },
   {
    "duration": 170,
    "start_time": "2023-12-22T23:26:47.215Z"
   },
   {
    "duration": 43,
    "start_time": "2023-12-22T23:26:47.395Z"
   },
   {
    "duration": 54,
    "start_time": "2023-12-22T23:26:47.440Z"
   },
   {
    "duration": 41,
    "start_time": "2023-12-22T23:26:47.498Z"
   },
   {
    "duration": 73,
    "start_time": "2023-12-22T23:26:47.540Z"
   },
   {
    "duration": 33,
    "start_time": "2023-12-22T23:26:47.615Z"
   },
   {
    "duration": 124,
    "start_time": "2023-12-22T23:26:47.649Z"
   },
   {
    "duration": 27,
    "start_time": "2023-12-22T23:26:47.783Z"
   },
   {
    "duration": 48,
    "start_time": "2023-12-22T23:26:47.811Z"
   },
   {
    "duration": 71,
    "start_time": "2023-12-22T23:26:47.860Z"
   },
   {
    "duration": 28,
    "start_time": "2023-12-22T23:26:47.933Z"
   },
   {
    "duration": 193,
    "start_time": "2023-12-22T23:26:47.962Z"
   },
   {
    "duration": 306,
    "start_time": "2023-12-22T23:26:48.156Z"
   },
   {
    "duration": 28,
    "start_time": "2023-12-22T23:26:48.465Z"
   },
   {
    "duration": 26,
    "start_time": "2023-12-22T23:26:48.495Z"
   },
   {
    "duration": 495,
    "start_time": "2023-12-22T23:26:48.523Z"
   },
   {
    "duration": 170,
    "start_time": "2023-12-22T23:26:49.020Z"
   },
   {
    "duration": 250,
    "start_time": "2023-12-22T23:26:49.202Z"
   },
   {
    "duration": 2722,
    "start_time": "2023-12-22T23:30:34.551Z"
   },
   {
    "duration": 9,
    "start_time": "2023-12-22T23:30:37.276Z"
   },
   {
    "duration": 958,
    "start_time": "2023-12-22T23:30:39.448Z"
   },
   {
    "duration": 20,
    "start_time": "2023-12-22T23:30:40.580Z"
   },
   {
    "duration": 179,
    "start_time": "2023-12-22T23:30:40.976Z"
   },
   {
    "duration": 101,
    "start_time": "2023-12-22T23:30:41.156Z"
   },
   {
    "duration": 181,
    "start_time": "2023-12-22T23:30:41.258Z"
   },
   {
    "duration": 49,
    "start_time": "2023-12-22T23:30:41.478Z"
   },
   {
    "duration": 51,
    "start_time": "2023-12-22T23:30:41.579Z"
   },
   {
    "duration": 52,
    "start_time": "2023-12-22T23:30:41.681Z"
   },
   {
    "duration": 52,
    "start_time": "2023-12-22T23:30:41.779Z"
   },
   {
    "duration": 45,
    "start_time": "2023-12-22T23:30:41.881Z"
   },
   {
    "duration": 120,
    "start_time": "2023-12-22T23:30:41.980Z"
   },
   {
    "duration": 25,
    "start_time": "2023-12-22T23:30:42.183Z"
   },
   {
    "duration": 40,
    "start_time": "2023-12-22T23:30:42.383Z"
   },
   {
    "duration": 58,
    "start_time": "2023-12-22T23:30:42.584Z"
   },
   {
    "duration": 31,
    "start_time": "2023-12-22T23:30:42.785Z"
   },
   {
    "duration": 174,
    "start_time": "2023-12-22T23:30:42.987Z"
   },
   {
    "duration": 324,
    "start_time": "2023-12-22T23:30:43.192Z"
   },
   {
    "duration": 17,
    "start_time": "2023-12-22T23:30:43.518Z"
   },
   {
    "duration": 22,
    "start_time": "2023-12-22T23:30:50.506Z"
   },
   {
    "duration": 554,
    "start_time": "2023-12-22T23:30:52.746Z"
   },
   {
    "duration": 174,
    "start_time": "2023-12-22T23:30:53.723Z"
   },
   {
    "duration": 284,
    "start_time": "2023-12-22T23:30:54.067Z"
   },
   {
    "duration": 207383,
    "start_time": "2023-12-22T23:30:57.782Z"
   },
   {
    "duration": 2,
    "start_time": "2023-12-22T23:35:09.955Z"
   },
   {
    "duration": 3,
    "start_time": "2023-12-22T23:35:10.134Z"
   },
   {
    "duration": 57869,
    "start_time": "2023-12-22T23:35:14.426Z"
   },
   {
    "duration": 148,
    "start_time": "2023-12-22T23:36:18.656Z"
   },
   {
    "duration": 11,
    "start_time": "2023-12-22T23:36:20.379Z"
   },
   {
    "duration": 94,
    "start_time": "2023-12-22T23:36:21.822Z"
   },
   {
    "duration": 19,
    "start_time": "2023-12-22T23:36:23.058Z"
   },
   {
    "duration": 224,
    "start_time": "2023-12-22T23:36:24.317Z"
   },
   {
    "duration": 197555,
    "start_time": "2023-12-22T23:36:24.543Z"
   },
   {
    "duration": 683,
    "start_time": "2023-12-22T23:39:42.100Z"
   },
   {
    "duration": 4,
    "start_time": "2023-12-22T23:40:11.160Z"
   },
   {
    "duration": 3,
    "start_time": "2023-12-22T23:40:13.259Z"
   },
   {
    "duration": 8,
    "start_time": "2023-12-22T23:40:15.372Z"
   },
   {
    "duration": 494933,
    "start_time": "2023-12-22T23:40:16.938Z"
   },
   {
    "duration": 4,
    "start_time": "2023-12-22T23:49:01.725Z"
   },
   {
    "duration": 3,
    "start_time": "2023-12-22T23:49:02.782Z"
   },
   {
    "duration": 530,
    "start_time": "2023-12-22T23:49:04.536Z"
   },
   {
    "duration": 5,
    "start_time": "2023-12-22T23:49:06.418Z"
   },
   {
    "duration": 10,
    "start_time": "2023-12-22T23:49:09.473Z"
   },
   {
    "duration": 4938,
    "start_time": "2023-12-23T10:53:21.438Z"
   },
   {
    "duration": 1653,
    "start_time": "2023-12-23T10:53:26.378Z"
   },
   {
    "duration": 2023,
    "start_time": "2023-12-23T10:53:28.066Z"
   },
   {
    "duration": 85,
    "start_time": "2023-12-23T10:53:30.091Z"
   },
   {
    "duration": 412,
    "start_time": "2023-12-23T10:53:30.179Z"
   },
   {
    "duration": 276,
    "start_time": "2023-12-23T10:53:30.594Z"
   },
   {
    "duration": 295,
    "start_time": "2023-12-23T10:53:30.871Z"
   },
   {
    "duration": 36,
    "start_time": "2023-12-23T10:53:31.167Z"
   },
   {
    "duration": 184,
    "start_time": "2023-12-23T10:53:31.205Z"
   },
   {
    "duration": 107,
    "start_time": "2023-12-23T10:53:31.391Z"
   },
   {
    "duration": 93,
    "start_time": "2023-12-23T10:53:31.500Z"
   },
   {
    "duration": 176,
    "start_time": "2023-12-23T10:53:31.595Z"
   },
   {
    "duration": 233,
    "start_time": "2023-12-23T10:53:31.773Z"
   },
   {
    "duration": 69,
    "start_time": "2023-12-23T10:53:32.010Z"
   },
   {
    "duration": 99,
    "start_time": "2023-12-23T10:53:32.081Z"
   },
   {
    "duration": 107,
    "start_time": "2023-12-23T10:53:32.182Z"
   },
   {
    "duration": 76,
    "start_time": "2023-12-23T10:53:32.291Z"
   },
   {
    "duration": 234,
    "start_time": "2023-12-23T10:53:32.369Z"
   },
   {
    "duration": 561,
    "start_time": "2023-12-23T10:53:32.605Z"
   },
   {
    "duration": 22,
    "start_time": "2023-12-23T10:53:33.168Z"
   },
   {
    "duration": 78,
    "start_time": "2023-12-23T10:53:33.191Z"
   },
   {
    "duration": 1031,
    "start_time": "2023-12-23T10:53:33.271Z"
   },
   {
    "duration": 369,
    "start_time": "2023-12-23T10:53:34.304Z"
   },
   {
    "duration": 426,
    "start_time": "2023-12-23T10:53:34.675Z"
   },
   {
    "duration": 120463,
    "start_time": "2023-12-23T10:53:35.103Z"
   },
   {
    "duration": 3,
    "start_time": "2023-12-23T10:55:35.569Z"
   },
   {
    "duration": 7,
    "start_time": "2023-12-23T10:55:35.574Z"
   },
   {
    "duration": 26709,
    "start_time": "2023-12-23T10:55:35.666Z"
   },
   {
    "duration": 397,
    "start_time": "2023-12-23T10:56:02.377Z"
   },
   {
    "duration": 92,
    "start_time": "2023-12-23T10:56:02.776Z"
   },
   {
    "duration": 237,
    "start_time": "2023-12-23T10:56:02.871Z"
   },
   {
    "duration": 67,
    "start_time": "2023-12-23T10:56:03.110Z"
   },
   {
    "duration": 424,
    "start_time": "2023-12-23T10:56:03.179Z"
   },
   {
    "duration": 388070,
    "start_time": "2023-12-23T10:56:03.605Z"
   },
   {
    "duration": 905,
    "start_time": "2023-12-23T11:02:31.677Z"
   },
   {
    "duration": 5,
    "start_time": "2023-12-23T11:02:32.583Z"
   },
   {
    "duration": 82,
    "start_time": "2023-12-23T11:02:32.590Z"
   },
   {
    "duration": 12,
    "start_time": "2023-12-23T11:02:32.674Z"
   },
   {
    "duration": 3226785,
    "start_time": "2023-12-23T11:02:32.688Z"
   },
   {
    "duration": 4,
    "start_time": "2023-12-23T11:56:19.475Z"
   },
   {
    "duration": 21,
    "start_time": "2023-12-23T11:56:19.482Z"
   },
   {
    "duration": 474,
    "start_time": "2023-12-23T11:56:19.504Z"
   },
   {
    "duration": 6,
    "start_time": "2023-12-23T11:56:19.979Z"
   },
   {
    "duration": 79,
    "start_time": "2023-12-23T11:56:19.987Z"
   }
  ],
  "kernelspec": {
   "display_name": "Python 3 (ipykernel)",
   "language": "python",
   "name": "python3"
  },
  "language_info": {
   "codemirror_mode": {
    "name": "ipython",
    "version": 3
   },
   "file_extension": ".py",
   "mimetype": "text/x-python",
   "name": "python",
   "nbconvert_exporter": "python",
   "pygments_lexer": "ipython3",
   "version": "3.9.5"
  },
  "toc": {
   "base_numbering": 1,
   "nav_menu": {},
   "number_sections": true,
   "sideBar": true,
   "skip_h1_title": true,
   "title_cell": "Table of Contents",
   "title_sidebar": "Contents",
   "toc_cell": false,
   "toc_position": {},
   "toc_section_display": true,
   "toc_window_display": false
  }
 },
 "nbformat": 4,
 "nbformat_minor": 2
}
