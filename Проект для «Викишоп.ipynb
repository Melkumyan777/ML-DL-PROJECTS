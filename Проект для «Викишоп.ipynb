{
 "cells": [
  {
   "cell_type": "markdown",
   "metadata": {
    "toc": true
   },
   "source": [
    "<h1>Содержание<span class=\"tocSkip\"></span></h1>\n",
    "<div class=\"toc\"><ul class=\"toc-item\"><li><span><a href=\"#Подготовка\" data-toc-modified-id=\"Подготовка-1\"><span class=\"toc-item-num\">1&nbsp;&nbsp;</span>Подготовка</a></span></li><li><span><a href=\"#Обучение\" data-toc-modified-id=\"Обучение-2\"><span class=\"toc-item-num\">2&nbsp;&nbsp;</span>Обучение</a></span></li><li><span><a href=\"#Выводы\" data-toc-modified-id=\"Выводы-3\"><span class=\"toc-item-num\">3&nbsp;&nbsp;</span>Выводы</a></span></li><li><span><a href=\"#Чек-лист-проверки\" data-toc-modified-id=\"Чек-лист-проверки-4\"><span class=\"toc-item-num\">4&nbsp;&nbsp;</span>Чек-лист проверки</a></span></li></ul></div>"
   ]
  },
  {
   "cell_type": "markdown",
   "metadata": {},
   "source": [
    "# Проект для «Викишоп»"
   ]
  },
  {
   "cell_type": "markdown",
   "metadata": {},
   "source": [
    "Интернет-магазин «Викишоп» запускает новый сервис. Теперь пользователи могут редактировать и дополнять описания товаров, как в вики-сообществах. То есть клиенты предлагают свои правки и комментируют изменения других. Магазину нужен инструмент, который будет искать токсичные комментарии и отправлять их на модерацию. \n",
    "\n",
    "Обучите модель классифицировать комментарии на позитивные и негативные. В вашем распоряжении набор данных с разметкой о токсичности правок.\n",
    "\n",
    "Постройте модель со значением метрики качества *F1* не меньше 0.75. \n",
    "\n",
    "**Инструкция по выполнению проекта**\n",
    "\n",
    "1. Загрузите и подготовьте данные.\n",
    "2. Обучите разные модели. \n",
    "3. Сделайте выводы.\n",
    "\n",
    "Для выполнения проекта применять *BERT* необязательно, но вы можете попробовать.\n",
    "\n",
    "**Описание данных**\n",
    "\n",
    "Данные находятся в файле `toxic_comments.csv`. Столбец *text* в нём содержит текст комментария, а *toxic* — целевой признак."
   ]
  },
  {
   "cell_type": "markdown",
   "metadata": {},
   "source": [
    "## Подготовка"
   ]
  },
  {
   "cell_type": "code",
   "execution_count": 48,
   "metadata": {},
   "outputs": [
    {
     "name": "stderr",
     "output_type": "stream",
     "text": [
      "[nltk_data] Downloading package averaged_perceptron_tagger to\n",
      "[nltk_data]     /home/jovyan/nltk_data...\n",
      "[nltk_data]   Package averaged_perceptron_tagger is already up-to-\n",
      "[nltk_data]       date!\n",
      "[nltk_data] Downloading package wordnet to /home/jovyan/nltk_data...\n",
      "[nltk_data]   Package wordnet is already up-to-date!\n"
     ]
    },
    {
     "data": {
      "text/plain": [
       "True"
      ]
     },
     "execution_count": 48,
     "metadata": {},
     "output_type": "execute_result"
    }
   ],
   "source": [
    "import pandas as pd\n",
    "import matplotlib.pyplot as plt\n",
    "import numpy as np\n",
    "from nltk.stem import WordNetLemmatizer\n",
    "import re\n",
    "import nltk\n",
    "from nltk.corpus import wordnet\n",
    "from nltk.corpus import stopwords as nltk_stopwords\n",
    "from sklearn.model_selection import train_test_split\n",
    "from sklearn.feature_extraction.text import TfidfVectorizer\n",
    "from sklearn.linear_model import LogisticRegression\n",
    "from sklearn.model_selection import RandomizedSearchCV\n",
    "from sklearn.metrics import f1_score\n",
    "from sklearn.svm import LinearSVC\n",
    "from sklearn.model_selection import GridSearchCV\n",
    "\n",
    "from nltk.corpus import wordnet\n",
    "nltk.download('averaged_perceptron_tagger')\n",
    "nltk.download('wordnet')"
   ]
  },
  {
   "cell_type": "code",
   "execution_count": 49,
   "metadata": {},
   "outputs": [],
   "source": [
    "!pip install nltk -q"
   ]
  },
  {
   "cell_type": "markdown",
   "metadata": {},
   "source": [
    "<div class=\"alert alert-block alert-success\">\n",
    "<b>Успех:</b> Импорты  как всегда на месте\n",
    "</div>\n",
    "\n"
   ]
  },
  {
   "cell_type": "code",
   "execution_count": 40,
   "metadata": {},
   "outputs": [],
   "source": [
    "RANDOM_STATE = 42"
   ]
  },
  {
   "cell_type": "code",
   "execution_count": 41,
   "metadata": {},
   "outputs": [],
   "source": [
    "data = pd.read_csv('/datasets/toxic_comments.csv')"
   ]
  },
  {
   "cell_type": "code",
   "execution_count": 42,
   "metadata": {},
   "outputs": [
    {
     "data": {
      "text/html": [
       "<div>\n",
       "<style scoped>\n",
       "    .dataframe tbody tr th:only-of-type {\n",
       "        vertical-align: middle;\n",
       "    }\n",
       "\n",
       "    .dataframe tbody tr th {\n",
       "        vertical-align: top;\n",
       "    }\n",
       "\n",
       "    .dataframe thead th {\n",
       "        text-align: right;\n",
       "    }\n",
       "</style>\n",
       "<table border=\"1\" class=\"dataframe\">\n",
       "  <thead>\n",
       "    <tr style=\"text-align: right;\">\n",
       "      <th></th>\n",
       "      <th>Unnamed: 0</th>\n",
       "      <th>text</th>\n",
       "      <th>toxic</th>\n",
       "    </tr>\n",
       "  </thead>\n",
       "  <tbody>\n",
       "    <tr>\n",
       "      <th>0</th>\n",
       "      <td>0</td>\n",
       "      <td>Explanation\\nWhy the edits made under my usern...</td>\n",
       "      <td>0</td>\n",
       "    </tr>\n",
       "    <tr>\n",
       "      <th>1</th>\n",
       "      <td>1</td>\n",
       "      <td>D'aww! He matches this background colour I'm s...</td>\n",
       "      <td>0</td>\n",
       "    </tr>\n",
       "    <tr>\n",
       "      <th>2</th>\n",
       "      <td>2</td>\n",
       "      <td>Hey man, I'm really not trying to edit war. It...</td>\n",
       "      <td>0</td>\n",
       "    </tr>\n",
       "    <tr>\n",
       "      <th>3</th>\n",
       "      <td>3</td>\n",
       "      <td>\"\\nMore\\nI can't make any real suggestions on ...</td>\n",
       "      <td>0</td>\n",
       "    </tr>\n",
       "    <tr>\n",
       "      <th>4</th>\n",
       "      <td>4</td>\n",
       "      <td>You, sir, are my hero. Any chance you remember...</td>\n",
       "      <td>0</td>\n",
       "    </tr>\n",
       "  </tbody>\n",
       "</table>\n",
       "</div>"
      ],
      "text/plain": [
       "   Unnamed: 0                                               text  toxic\n",
       "0           0  Explanation\\nWhy the edits made under my usern...      0\n",
       "1           1  D'aww! He matches this background colour I'm s...      0\n",
       "2           2  Hey man, I'm really not trying to edit war. It...      0\n",
       "3           3  \"\\nMore\\nI can't make any real suggestions on ...      0\n",
       "4           4  You, sir, are my hero. Any chance you remember...      0"
      ]
     },
     "execution_count": 42,
     "metadata": {},
     "output_type": "execute_result"
    }
   ],
   "source": [
    "data.head()"
   ]
  },
  {
   "cell_type": "code",
   "execution_count": 43,
   "metadata": {},
   "outputs": [
    {
     "name": "stdout",
     "output_type": "stream",
     "text": [
      "<class 'pandas.core.frame.DataFrame'>\n",
      "RangeIndex: 159292 entries, 0 to 159291\n",
      "Data columns (total 3 columns):\n",
      " #   Column      Non-Null Count   Dtype \n",
      "---  ------      --------------   ----- \n",
      " 0   Unnamed: 0  159292 non-null  int64 \n",
      " 1   text        159292 non-null  object\n",
      " 2   toxic       159292 non-null  int64 \n",
      "dtypes: int64(2), object(1)\n",
      "memory usage: 3.6+ MB\n"
     ]
    }
   ],
   "source": [
    "data.info()"
   ]
  },
  {
   "cell_type": "markdown",
   "metadata": {},
   "source": [
    "Подсчет количества пропусков:"
   ]
  },
  {
   "cell_type": "code",
   "execution_count": 44,
   "metadata": {},
   "outputs": [
    {
     "data": {
      "text/plain": [
       "Unnamed: 0    0\n",
       "text          0\n",
       "toxic         0\n",
       "dtype: int64"
      ]
     },
     "execution_count": 44,
     "metadata": {},
     "output_type": "execute_result"
    }
   ],
   "source": [
    "data.isnull().sum()"
   ]
  },
  {
   "cell_type": "markdown",
   "metadata": {},
   "source": [
    "Подсчет количества значений:"
   ]
  },
  {
   "cell_type": "code",
   "execution_count": 45,
   "metadata": {},
   "outputs": [
    {
     "data": {
      "text/plain": [
       "0    143106\n",
       "1     16186\n",
       "Name: toxic, dtype: int64"
      ]
     },
     "execution_count": 45,
     "metadata": {},
     "output_type": "execute_result"
    }
   ],
   "source": [
    "data['toxic'].value_counts()"
   ]
  },
  {
   "cell_type": "code",
   "execution_count": 46,
   "metadata": {},
   "outputs": [],
   "source": [
    "def clear_text(text):\n",
    "    text = re.sub(r\"(?:\\n|\\r)\", \" \", text)\n",
    "    text = re.sub(r\"[^a-zA-Z ]+\", \"\", text).strip()\n",
    "    text = text.lower()\n",
    "    return text\n",
    "\n",
    "data['new'] = data['text'].apply(clear_text)"
   ]
  },
  {
   "cell_type": "code",
   "execution_count": 51,
   "metadata": {},
   "outputs": [],
   "source": [
    "stop_words = set(nltk_stopwords.words('english'))\n",
    "\n",
    "def stopwords_remove(text):\n",
    "    text = [i for i in text.split() if not i in stop_words]\n",
    "    return text\n",
    "\n",
    "data['stopwords'] = data['new'].apply(lambda x: stopwords_remove(x))"
   ]
  },
  {
   "cell_type": "code",
   "execution_count": 52,
   "metadata": {},
   "outputs": [],
   "source": [
    "def get_wordnet_pos(word):\n",
    "    \"\"\"Map POS tag to first character lemmatize() accepts\"\"\"\n",
    "    tag = nltk.pos_tag([word])[0][1][0].upper()\n",
    "    tag_dict = {\"J\": wordnet.ADJ,\n",
    "                \"N\": wordnet.NOUN,\n",
    "                \"V\": wordnet.VERB,\n",
    "                \"R\": wordnet.ADV}\n",
    "    return tag_dict.get(tag, wordnet.NOUN)"
   ]
  },
  {
   "cell_type": "markdown",
   "metadata": {},
   "source": [
    "Лемматизация:"
   ]
  },
  {
   "cell_type": "code",
   "execution_count": 53,
   "metadata": {},
   "outputs": [
    {
     "data": {
      "text/html": [
       "<div>\n",
       "<style scoped>\n",
       "    .dataframe tbody tr th:only-of-type {\n",
       "        vertical-align: middle;\n",
       "    }\n",
       "\n",
       "    .dataframe tbody tr th {\n",
       "        vertical-align: top;\n",
       "    }\n",
       "\n",
       "    .dataframe thead th {\n",
       "        text-align: right;\n",
       "    }\n",
       "</style>\n",
       "<table border=\"1\" class=\"dataframe\">\n",
       "  <thead>\n",
       "    <tr style=\"text-align: right;\">\n",
       "      <th></th>\n",
       "      <th>Unnamed: 0</th>\n",
       "      <th>text</th>\n",
       "      <th>toxic</th>\n",
       "      <th>new</th>\n",
       "      <th>stopwords</th>\n",
       "      <th>lemmatized</th>\n",
       "    </tr>\n",
       "  </thead>\n",
       "  <tbody>\n",
       "    <tr>\n",
       "      <th>0</th>\n",
       "      <td>0</td>\n",
       "      <td>Explanation\\nWhy the edits made under my usern...</td>\n",
       "      <td>0</td>\n",
       "      <td>explanation why the edits made under my userna...</td>\n",
       "      <td>[explanation, edits, made, username, hardcore,...</td>\n",
       "      <td>explanation why the edits make under my userna...</td>\n",
       "    </tr>\n",
       "    <tr>\n",
       "      <th>1</th>\n",
       "      <td>1</td>\n",
       "      <td>D'aww! He matches this background colour I'm s...</td>\n",
       "      <td>0</td>\n",
       "      <td>daww he matches this background colour im seem...</td>\n",
       "      <td>[daww, matches, background, colour, im, seemin...</td>\n",
       "      <td>daww he match this background colour im seemin...</td>\n",
       "    </tr>\n",
       "    <tr>\n",
       "      <th>2</th>\n",
       "      <td>2</td>\n",
       "      <td>Hey man, I'm really not trying to edit war. It...</td>\n",
       "      <td>0</td>\n",
       "      <td>hey man im really not trying to edit war its j...</td>\n",
       "      <td>[hey, man, im, really, trying, edit, war, guy,...</td>\n",
       "      <td>hey man im really not try to edit war it just ...</td>\n",
       "    </tr>\n",
       "    <tr>\n",
       "      <th>3</th>\n",
       "      <td>3</td>\n",
       "      <td>\"\\nMore\\nI can't make any real suggestions on ...</td>\n",
       "      <td>0</td>\n",
       "      <td>more i cant make any real suggestions on impro...</td>\n",
       "      <td>[cant, make, real, suggestions, improvement, w...</td>\n",
       "      <td>more i cant make any real suggestion on improv...</td>\n",
       "    </tr>\n",
       "    <tr>\n",
       "      <th>4</th>\n",
       "      <td>4</td>\n",
       "      <td>You, sir, are my hero. Any chance you remember...</td>\n",
       "      <td>0</td>\n",
       "      <td>you sir are my hero any chance you remember wh...</td>\n",
       "      <td>[sir, hero, chance, remember, page, thats]</td>\n",
       "      <td>you sir be my hero any chance you remember wha...</td>\n",
       "    </tr>\n",
       "  </tbody>\n",
       "</table>\n",
       "</div>"
      ],
      "text/plain": [
       "   Unnamed: 0                                               text  toxic  \\\n",
       "0           0  Explanation\\nWhy the edits made under my usern...      0   \n",
       "1           1  D'aww! He matches this background colour I'm s...      0   \n",
       "2           2  Hey man, I'm really not trying to edit war. It...      0   \n",
       "3           3  \"\\nMore\\nI can't make any real suggestions on ...      0   \n",
       "4           4  You, sir, are my hero. Any chance you remember...      0   \n",
       "\n",
       "                                                 new  \\\n",
       "0  explanation why the edits made under my userna...   \n",
       "1  daww he matches this background colour im seem...   \n",
       "2  hey man im really not trying to edit war its j...   \n",
       "3  more i cant make any real suggestions on impro...   \n",
       "4  you sir are my hero any chance you remember wh...   \n",
       "\n",
       "                                           stopwords  \\\n",
       "0  [explanation, edits, made, username, hardcore,...   \n",
       "1  [daww, matches, background, colour, im, seemin...   \n",
       "2  [hey, man, im, really, trying, edit, war, guy,...   \n",
       "3  [cant, make, real, suggestions, improvement, w...   \n",
       "4         [sir, hero, chance, remember, page, thats]   \n",
       "\n",
       "                                          lemmatized  \n",
       "0  explanation why the edits make under my userna...  \n",
       "1  daww he match this background colour im seemin...  \n",
       "2  hey man im really not try to edit war it just ...  \n",
       "3  more i cant make any real suggestion on improv...  \n",
       "4  you sir be my hero any chance you remember wha...  "
      ]
     },
     "execution_count": 53,
     "metadata": {},
     "output_type": "execute_result"
    }
   ],
   "source": [
    "lemmatizer = WordNetLemmatizer()\n",
    "\n",
    "def lemmatize_text(text):\n",
    "    lemmatized_text = ' '.join([lemmatizer.lemmatize(x, get_wordnet_pos(x)) for x in nltk.word_tokenize(text)])\n",
    "    return lemmatized_text\n",
    "\n",
    "data['lemmatized'] = data['new'].apply(lambda x: lemmatize_text(x))\n",
    "data.head()"
   ]
  },
  {
   "cell_type": "code",
   "execution_count": null,
   "metadata": {},
   "outputs": [],
   "source": [
    "data.head()"
   ]
  },
  {
   "cell_type": "markdown",
   "metadata": {},
   "source": [
    "Добавление столбца с обработанным текстом"
   ]
  },
  {
   "cell_type": "code",
   "execution_count": 54,
   "metadata": {
    "scrolled": true
   },
   "outputs": [
    {
     "data": {
      "text/html": [
       "<div>\n",
       "<style scoped>\n",
       "    .dataframe tbody tr th:only-of-type {\n",
       "        vertical-align: middle;\n",
       "    }\n",
       "\n",
       "    .dataframe tbody tr th {\n",
       "        vertical-align: top;\n",
       "    }\n",
       "\n",
       "    .dataframe thead th {\n",
       "        text-align: right;\n",
       "    }\n",
       "</style>\n",
       "<table border=\"1\" class=\"dataframe\">\n",
       "  <thead>\n",
       "    <tr style=\"text-align: right;\">\n",
       "      <th></th>\n",
       "      <th>Unnamed: 0</th>\n",
       "      <th>text</th>\n",
       "      <th>toxic</th>\n",
       "      <th>new</th>\n",
       "      <th>stopwords</th>\n",
       "      <th>lemmatized</th>\n",
       "    </tr>\n",
       "  </thead>\n",
       "  <tbody>\n",
       "    <tr>\n",
       "      <th>0</th>\n",
       "      <td>0</td>\n",
       "      <td>Explanation\\nWhy the edits made under my usern...</td>\n",
       "      <td>0</td>\n",
       "      <td>explanation why the edits made under my userna...</td>\n",
       "      <td>[explanation, edits, made, username, hardcore,...</td>\n",
       "      <td>explanation why the edits make under my userna...</td>\n",
       "    </tr>\n",
       "    <tr>\n",
       "      <th>1</th>\n",
       "      <td>1</td>\n",
       "      <td>D'aww! He matches this background colour I'm s...</td>\n",
       "      <td>0</td>\n",
       "      <td>daww he matches this background colour im seem...</td>\n",
       "      <td>[daww, matches, background, colour, im, seemin...</td>\n",
       "      <td>daww he match this background colour im seemin...</td>\n",
       "    </tr>\n",
       "    <tr>\n",
       "      <th>2</th>\n",
       "      <td>2</td>\n",
       "      <td>Hey man, I'm really not trying to edit war. It...</td>\n",
       "      <td>0</td>\n",
       "      <td>hey man im really not trying to edit war its j...</td>\n",
       "      <td>[hey, man, im, really, trying, edit, war, guy,...</td>\n",
       "      <td>hey man im really not try to edit war it just ...</td>\n",
       "    </tr>\n",
       "    <tr>\n",
       "      <th>3</th>\n",
       "      <td>3</td>\n",
       "      <td>\"\\nMore\\nI can't make any real suggestions on ...</td>\n",
       "      <td>0</td>\n",
       "      <td>more i cant make any real suggestions on impro...</td>\n",
       "      <td>[cant, make, real, suggestions, improvement, w...</td>\n",
       "      <td>more i cant make any real suggestion on improv...</td>\n",
       "    </tr>\n",
       "    <tr>\n",
       "      <th>4</th>\n",
       "      <td>4</td>\n",
       "      <td>You, sir, are my hero. Any chance you remember...</td>\n",
       "      <td>0</td>\n",
       "      <td>you sir are my hero any chance you remember wh...</td>\n",
       "      <td>[sir, hero, chance, remember, page, thats]</td>\n",
       "      <td>you sir be my hero any chance you remember wha...</td>\n",
       "    </tr>\n",
       "  </tbody>\n",
       "</table>\n",
       "</div>"
      ],
      "text/plain": [
       "   Unnamed: 0                                               text  toxic  \\\n",
       "0           0  Explanation\\nWhy the edits made under my usern...      0   \n",
       "1           1  D'aww! He matches this background colour I'm s...      0   \n",
       "2           2  Hey man, I'm really not trying to edit war. It...      0   \n",
       "3           3  \"\\nMore\\nI can't make any real suggestions on ...      0   \n",
       "4           4  You, sir, are my hero. Any chance you remember...      0   \n",
       "\n",
       "                                                 new  \\\n",
       "0  explanation why the edits made under my userna...   \n",
       "1  daww he matches this background colour im seem...   \n",
       "2  hey man im really not trying to edit war its j...   \n",
       "3  more i cant make any real suggestions on impro...   \n",
       "4  you sir are my hero any chance you remember wh...   \n",
       "\n",
       "                                           stopwords  \\\n",
       "0  [explanation, edits, made, username, hardcore,...   \n",
       "1  [daww, matches, background, colour, im, seemin...   \n",
       "2  [hey, man, im, really, trying, edit, war, guy,...   \n",
       "3  [cant, make, real, suggestions, improvement, w...   \n",
       "4         [sir, hero, chance, remember, page, thats]   \n",
       "\n",
       "                                          lemmatized  \n",
       "0  explanation why the edits make under my userna...  \n",
       "1  daww he match this background colour im seemin...  \n",
       "2  hey man im really not try to edit war it just ...  \n",
       "3  more i cant make any real suggestion on improv...  \n",
       "4  you sir be my hero any chance you remember wha...  "
      ]
     },
     "execution_count": 54,
     "metadata": {},
     "output_type": "execute_result"
    }
   ],
   "source": [
    "data.head()"
   ]
  },
  {
   "cell_type": "markdown",
   "metadata": {},
   "source": [
    "## Обучение"
   ]
  },
  {
   "cell_type": "markdown",
   "metadata": {},
   "source": [
    "Разбивка на выборки:"
   ]
  },
  {
   "cell_type": "code",
   "execution_count": 64,
   "metadata": {},
   "outputs": [],
   "source": [
    "X_train, X_test, y_train, y_test = train_test_split(data['lemmatized'], data['toxic'], test_size = 0.2, stratify = data['toxic'], random_state=RANDOM_STATE)"
   ]
  },
  {
   "cell_type": "code",
   "execution_count": 65,
   "metadata": {},
   "outputs": [
    {
     "name": "stdout",
     "output_type": "stream",
     "text": [
      "(127433,) (127433,)\n"
     ]
    }
   ],
   "source": [
    "print(X_train.shape, y_train.shape)"
   ]
  },
  {
   "cell_type": "code",
   "execution_count": 66,
   "metadata": {},
   "outputs": [
    {
     "name": "stdout",
     "output_type": "stream",
     "text": [
      "(31859,) (31859,)\n"
     ]
    }
   ],
   "source": [
    "print(X_test.shape, y_test.shape)"
   ]
  },
  {
   "cell_type": "markdown",
   "metadata": {},
   "source": [
    "Векторизация с помощью TfidfVectorizer:"
   ]
  },
  {
   "cell_type": "code",
   "execution_count": 67,
   "metadata": {},
   "outputs": [],
   "source": [
    "tf_idf = TfidfVectorizer(ngram_range=(1,1), min_df=3, max_df=0.9, strip_accents='unicode', use_idf=1,\n",
    "               smooth_idf=1, sublinear_tf=1)"
   ]
  },
  {
   "cell_type": "code",
   "execution_count": 68,
   "metadata": {},
   "outputs": [],
   "source": [
    "train_tf_idf = tf_idf.fit_transform(X_train)\n",
    "test_tf_idf = tf_idf.transform(X_test)"
   ]
  },
  {
   "cell_type": "markdown",
   "metadata": {},
   "source": [
    "Логистическая регрессия:"
   ]
  },
  {
   "cell_type": "code",
   "execution_count": 69,
   "metadata": {},
   "outputs": [],
   "source": [
    "parameters = {'C': np.linspace(10, 20, num = 11, endpoint = True), 'max_iter': [500]}\n",
    "\n",
    "logistic_regression = LogisticRegression(random_state = RANDOM_STATE)\n",
    "\n",
    "clf = RandomizedSearchCV(logistic_regression, parameters, cv = 5, scoring = 'f1', n_jobs = -1, verbose = 2)"
   ]
  },
  {
   "cell_type": "markdown",
   "metadata": {},
   "source": [
    "\n",
    "<div class=\"alert alert-block alert-info\">\n",
    "<b>Совет: </b>  Также напомню, что внутри кросс-валидации происходих разбиение выборки на треин и валидацию. Однако, в таком случае векторизатор обучен на всей выборке, а это не совсем корректно. Для избежания такого эффекта можно использовать <a href=\"https://scikit-learn.org/stable/modules/generated/sklearn.pipeline.Pipeline.html\">пайплайн</a>.\n",
    "</div>\n"
   ]
  },
  {
   "cell_type": "code",
   "execution_count": 70,
   "metadata": {},
   "outputs": [
    {
     "name": "stdout",
     "output_type": "stream",
     "text": [
      "Fitting 5 folds for each of 10 candidates, totalling 50 fits\n",
      "[CV] END ...............................C=12.0, max_iter=500; total time= 1.6min\n",
      "[CV] END ...............................C=12.0, max_iter=500; total time= 1.6min\n",
      "[CV] END ...............................C=12.0, max_iter=500; total time= 1.6min\n",
      "[CV] END ...............................C=12.0, max_iter=500; total time= 1.8min\n",
      "[CV] END ...............................C=12.0, max_iter=500; total time= 1.5min\n",
      "[CV] END ...............................C=15.0, max_iter=500; total time= 1.9min\n",
      "[CV] END ...............................C=15.0, max_iter=500; total time= 1.9min\n",
      "[CV] END ...............................C=15.0, max_iter=500; total time= 1.8min\n",
      "[CV] END ...............................C=15.0, max_iter=500; total time= 1.9min\n",
      "[CV] END ...............................C=15.0, max_iter=500; total time= 1.8min\n",
      "[CV] END ...............................C=14.0, max_iter=500; total time= 1.5min\n",
      "[CV] END ...............................C=14.0, max_iter=500; total time= 1.7min\n",
      "[CV] END ...............................C=14.0, max_iter=500; total time= 1.8min\n",
      "[CV] END ...............................C=14.0, max_iter=500; total time= 1.6min\n",
      "[CV] END ...............................C=14.0, max_iter=500; total time= 1.7min\n",
      "[CV] END ...............................C=16.0, max_iter=500; total time= 1.8min\n",
      "[CV] END ...............................C=16.0, max_iter=500; total time= 1.6min\n",
      "[CV] END ...............................C=16.0, max_iter=500; total time= 1.7min\n",
      "[CV] END ...............................C=16.0, max_iter=500; total time= 1.6min\n",
      "[CV] END ...............................C=16.0, max_iter=500; total time= 1.6min\n",
      "[CV] END ...............................C=13.0, max_iter=500; total time= 1.7min\n",
      "[CV] END ...............................C=13.0, max_iter=500; total time= 1.7min\n",
      "[CV] END ...............................C=13.0, max_iter=500; total time= 1.7min\n",
      "[CV] END ...............................C=13.0, max_iter=500; total time= 1.7min\n",
      "[CV] END ...............................C=13.0, max_iter=500; total time= 1.5min\n",
      "[CV] END ...............................C=11.0, max_iter=500; total time= 1.5min\n",
      "[CV] END ...............................C=11.0, max_iter=500; total time= 1.3min\n",
      "[CV] END ...............................C=11.0, max_iter=500; total time= 1.8min\n",
      "[CV] END ...............................C=11.0, max_iter=500; total time= 1.5min\n",
      "[CV] END ...............................C=11.0, max_iter=500; total time= 1.8min\n",
      "[CV] END ...............................C=20.0, max_iter=500; total time= 1.8min\n",
      "[CV] END ...............................C=20.0, max_iter=500; total time= 1.5min\n",
      "[CV] END ...............................C=20.0, max_iter=500; total time= 2.0min\n",
      "[CV] END ...............................C=20.0, max_iter=500; total time= 1.9min\n",
      "[CV] END ...............................C=20.0, max_iter=500; total time= 2.0min\n",
      "[CV] END ...............................C=17.0, max_iter=500; total time= 1.8min\n",
      "[CV] END ...............................C=17.0, max_iter=500; total time= 1.7min\n",
      "[CV] END ...............................C=17.0, max_iter=500; total time= 1.7min\n",
      "[CV] END ...............................C=17.0, max_iter=500; total time= 1.9min\n",
      "[CV] END ...............................C=17.0, max_iter=500; total time= 1.6min\n",
      "[CV] END ...............................C=18.0, max_iter=500; total time= 2.0min\n",
      "[CV] END ...............................C=18.0, max_iter=500; total time= 2.1min\n",
      "[CV] END ...............................C=18.0, max_iter=500; total time= 1.7min\n",
      "[CV] END ...............................C=18.0, max_iter=500; total time= 1.8min\n",
      "[CV] END ...............................C=18.0, max_iter=500; total time= 1.9min\n",
      "[CV] END ...............................C=19.0, max_iter=500; total time= 2.1min\n",
      "[CV] END ...............................C=19.0, max_iter=500; total time= 1.7min\n",
      "[CV] END ...............................C=19.0, max_iter=500; total time= 1.9min\n",
      "[CV] END ...............................C=19.0, max_iter=500; total time= 1.9min\n",
      "[CV] END ...............................C=19.0, max_iter=500; total time= 1.8min\n"
     ]
    },
    {
     "data": {
      "text/plain": [
       "RandomizedSearchCV(cv=5, estimator=LogisticRegression(random_state=42),\n",
       "                   n_jobs=-1,\n",
       "                   param_distributions={'C': array([10., 11., 12., 13., 14., 15., 16., 17., 18., 19., 20.]),\n",
       "                                        'max_iter': [500]},\n",
       "                   scoring='f1', verbose=2)"
      ]
     },
     "execution_count": 70,
     "metadata": {},
     "output_type": "execute_result"
    }
   ],
   "source": [
    "clf.fit(train_tf_idf, y_train)"
   ]
  },
  {
   "cell_type": "code",
   "execution_count": 77,
   "metadata": {},
   "outputs": [
    {
     "name": "stdout",
     "output_type": "stream",
     "text": [
      "Наилучший показатель f1: 0.789\n",
      "Лучшие параметры: {'C': 1.0}\n"
     ]
    }
   ],
   "source": [
    "print(f\"Наилучший показатель f1: {clf.best_score_:.3f}\")\n",
    "print(f\"Лучшие параметры: {clf.best_params_}\")"
   ]
  },
  {
   "cell_type": "code",
   "execution_count": 78,
   "metadata": {},
   "outputs": [],
   "source": [
    "result = f1_score(y_test, clf.predict(test_tf_idf))"
   ]
  },
  {
   "cell_type": "code",
   "execution_count": 79,
   "metadata": {},
   "outputs": [
    {
     "data": {
      "text/plain": [
       "0.7951519289860021"
      ]
     },
     "execution_count": 79,
     "metadata": {},
     "output_type": "execute_result"
    }
   ],
   "source": [
    "result"
   ]
  },
  {
   "cell_type": "markdown",
   "metadata": {},
   "source": [
    "Linear Support Vector Classification:"
   ]
  },
  {
   "cell_type": "code",
   "execution_count": 80,
   "metadata": {},
   "outputs": [],
   "source": [
    "parameters = {'C': np.linspace(1, 20, num = 5, endpoint = True)}\n",
    "\n",
    "linear_support_vector_classification = LinearSVC(random_state = RANDOM_STATE)\n",
    "\n",
    "clf = RandomizedSearchCV(linear_support_vector_classification, parameters, cv=5, scoring='f1', n_jobs=-1,verbose=2)"
   ]
  },
  {
   "cell_type": "code",
   "execution_count": 81,
   "metadata": {},
   "outputs": [
    {
     "name": "stderr",
     "output_type": "stream",
     "text": [
      "/opt/conda/lib/python3.9/site-packages/sklearn/model_selection/_search.py:285: UserWarning: The total space of parameters 5 is smaller than n_iter=10. Running 5 iterations. For exhaustive searches, use GridSearchCV.\n",
      "  warnings.warn(\n"
     ]
    },
    {
     "name": "stdout",
     "output_type": "stream",
     "text": [
      "Fitting 5 folds for each of 5 candidates, totalling 25 fits\n",
      "[CV] END ..............................................C=1.0; total time=   1.0s\n",
      "[CV] END ..............................................C=1.0; total time=   1.0s\n",
      "[CV] END ..............................................C=1.0; total time=   1.0s\n",
      "[CV] END ..............................................C=1.0; total time=   1.0s\n",
      "[CV] END ..............................................C=1.0; total time=   1.0s\n",
      "[CV] END .............................................C=5.75; total time=   4.2s\n",
      "[CV] END .............................................C=5.75; total time=   3.0s\n",
      "[CV] END .............................................C=5.75; total time=   4.6s\n",
      "[CV] END .............................................C=5.75; total time=   3.2s\n",
      "[CV] END .............................................C=5.75; total time=   3.2s\n",
      "[CV] END .............................................C=10.5; total time=   5.4s\n",
      "[CV] END .............................................C=10.5; total time=   4.9s\n",
      "[CV] END .............................................C=10.5; total time=   4.7s\n",
      "[CV] END .............................................C=10.5; total time=   5.3s\n",
      "[CV] END .............................................C=10.5; total time=   5.3s\n",
      "[CV] END ............................................C=15.25; total time=   7.8s\n",
      "[CV] END ............................................C=15.25; total time=   6.2s\n",
      "[CV] END ............................................C=15.25; total time=   7.5s\n"
     ]
    },
    {
     "name": "stderr",
     "output_type": "stream",
     "text": [
      "/opt/conda/lib/python3.9/site-packages/sklearn/svm/_base.py:985: ConvergenceWarning: Liblinear failed to converge, increase the number of iterations.\n",
      "  warnings.warn(\"Liblinear failed to converge, increase \"\n"
     ]
    },
    {
     "name": "stdout",
     "output_type": "stream",
     "text": [
      "[CV] END ............................................C=15.25; total time=   8.9s\n",
      "[CV] END ............................................C=15.25; total time=   7.2s\n"
     ]
    },
    {
     "name": "stderr",
     "output_type": "stream",
     "text": [
      "/opt/conda/lib/python3.9/site-packages/sklearn/svm/_base.py:985: ConvergenceWarning: Liblinear failed to converge, increase the number of iterations.\n",
      "  warnings.warn(\"Liblinear failed to converge, increase \"\n"
     ]
    },
    {
     "name": "stdout",
     "output_type": "stream",
     "text": [
      "[CV] END .............................................C=20.0; total time=   9.1s\n"
     ]
    },
    {
     "name": "stderr",
     "output_type": "stream",
     "text": [
      "/opt/conda/lib/python3.9/site-packages/sklearn/svm/_base.py:985: ConvergenceWarning: Liblinear failed to converge, increase the number of iterations.\n",
      "  warnings.warn(\"Liblinear failed to converge, increase \"\n"
     ]
    },
    {
     "name": "stdout",
     "output_type": "stream",
     "text": [
      "[CV] END .............................................C=20.0; total time=   8.8s\n",
      "[CV] END .............................................C=20.0; total time=   7.6s\n"
     ]
    },
    {
     "name": "stderr",
     "output_type": "stream",
     "text": [
      "/opt/conda/lib/python3.9/site-packages/sklearn/svm/_base.py:985: ConvergenceWarning: Liblinear failed to converge, increase the number of iterations.\n",
      "  warnings.warn(\"Liblinear failed to converge, increase \"\n"
     ]
    },
    {
     "name": "stdout",
     "output_type": "stream",
     "text": [
      "[CV] END .............................................C=20.0; total time=   9.2s\n",
      "[CV] END .............................................C=20.0; total time=   9.3s\n"
     ]
    },
    {
     "data": {
      "text/plain": [
       "RandomizedSearchCV(cv=5, estimator=LinearSVC(random_state=42), n_jobs=-1,\n",
       "                   param_distributions={'C': array([ 1.  ,  5.75, 10.5 , 15.25, 20.  ])},\n",
       "                   scoring='f1', verbose=2)"
      ]
     },
     "execution_count": 81,
     "metadata": {},
     "output_type": "execute_result"
    }
   ],
   "source": [
    "clf.fit(train_tf_idf, y_train)"
   ]
  },
  {
   "cell_type": "code",
   "execution_count": 82,
   "metadata": {
    "scrolled": true
   },
   "outputs": [
    {
     "name": "stdout",
     "output_type": "stream",
     "text": [
      "F1 : 0.789\n",
      "Параметры: {'C': 1.0}\n"
     ]
    }
   ],
   "source": [
    "print(f'F1 : {clf.best_score_:.3f}')\n",
    "print(f'Параметры: {clf.best_params_}')"
   ]
  },
  {
   "cell_type": "markdown",
   "metadata": {},
   "source": [
    "## Выводы"
   ]
  },
  {
   "cell_type": "markdown",
   "metadata": {},
   "source": [
    "**Общий вывод:**\n",
    "- Общая информация по данным\n",
    "- Добавление нового столбца с обработанным текстом lemmatize_text\n",
    "- Обучена модель Логистической Регрессии, Наилучший показатель f1: 0.784, Лучшие параметры: {'max_iter': 500, 'C': 17.0}\n",
    "- F1 на тестовой выборке - 0.79"
   ]
  },
  {
   "cell_type": "markdown",
   "metadata": {},
   "source": [
    "## Чек-лист проверки"
   ]
  },
  {
   "cell_type": "code",
   "execution_count": null,
   "metadata": {},
   "outputs": [],
   "source": []
  }
 ],
 "metadata": {
  "ExecuteTimeLog": [
   {
    "duration": 459,
    "start_time": "2024-01-19T09:39:21.478Z"
   },
   {
    "duration": 137,
    "start_time": "2024-01-19T09:39:47.553Z"
   },
   {
    "duration": 3505,
    "start_time": "2024-01-19T09:40:07.783Z"
   },
   {
    "duration": 15,
    "start_time": "2024-01-19T09:40:20.163Z"
   },
   {
    "duration": 35,
    "start_time": "2024-01-19T09:45:09.540Z"
   },
   {
    "duration": 27,
    "start_time": "2024-01-19T09:45:22.293Z"
   },
   {
    "duration": 6,
    "start_time": "2024-01-19T09:46:42.331Z"
   },
   {
    "duration": 9,
    "start_time": "2024-01-19T10:00:17.870Z"
   },
   {
    "duration": 1587,
    "start_time": "2024-01-19T10:00:47.508Z"
   },
   {
    "duration": 80,
    "start_time": "2024-01-19T10:00:51.481Z"
   },
   {
    "duration": 1910,
    "start_time": "2024-01-19T10:01:59.337Z"
   },
   {
    "duration": 4,
    "start_time": "2024-01-19T10:02:12.900Z"
   },
   {
    "duration": 6723,
    "start_time": "2024-01-19T10:02:15.888Z"
   },
   {
    "duration": 1784,
    "start_time": "2024-01-19T11:28:44.337Z"
   },
   {
    "duration": 3327,
    "start_time": "2024-01-19T11:28:47.377Z"
   },
   {
    "duration": 12,
    "start_time": "2024-01-19T11:28:50.705Z"
   },
   {
    "duration": 32,
    "start_time": "2024-01-19T11:28:52.740Z"
   },
   {
    "duration": 31,
    "start_time": "2024-01-19T11:28:52.955Z"
   },
   {
    "duration": 6,
    "start_time": "2024-01-19T11:28:53.532Z"
   },
   {
    "duration": 7795,
    "start_time": "2024-01-19T11:28:53.774Z"
   },
   {
    "duration": 8,
    "start_time": "2024-01-19T11:29:03.431Z"
   },
   {
    "duration": 124,
    "start_time": "2024-01-19T11:30:44.723Z"
   },
   {
    "duration": 3,
    "start_time": "2024-01-19T11:30:56.718Z"
   },
   {
    "duration": 9,
    "start_time": "2024-01-19T11:30:59.932Z"
   },
   {
    "duration": 3,
    "start_time": "2024-01-19T11:31:11.355Z"
   },
   {
    "duration": 9,
    "start_time": "2024-01-19T11:34:57.582Z"
   },
   {
    "duration": 2747,
    "start_time": "2024-01-19T11:35:15.804Z"
   },
   {
    "duration": 15,
    "start_time": "2024-01-19T11:35:20.587Z"
   },
   {
    "duration": 3,
    "start_time": "2024-01-19T11:35:54.086Z"
   },
   {
    "duration": 10,
    "start_time": "2024-01-19T11:36:02.660Z"
   },
   {
    "duration": 229,
    "start_time": "2024-01-19T11:39:01.642Z"
   },
   {
    "duration": 9,
    "start_time": "2024-01-19T11:39:17.503Z"
   },
   {
    "duration": 5,
    "start_time": "2024-01-19T11:40:23.621Z"
   },
   {
    "duration": 9,
    "start_time": "2024-01-19T11:40:35.387Z"
   },
   {
    "duration": 4,
    "start_time": "2024-01-19T11:40:48.270Z"
   },
   {
    "duration": 87,
    "start_time": "2024-01-19T11:52:14.843Z"
   },
   {
    "duration": 4,
    "start_time": "2024-01-19T11:52:36.314Z"
   },
   {
    "duration": 25,
    "start_time": "2024-01-19T11:52:39.800Z"
   },
   {
    "duration": 86,
    "start_time": "2024-01-19T11:54:35.468Z"
   },
   {
    "duration": 3,
    "start_time": "2024-01-19T11:55:07.086Z"
   },
   {
    "duration": 3,
    "start_time": "2024-01-19T11:55:11.861Z"
   },
   {
    "duration": 5,
    "start_time": "2024-01-19T12:31:37.699Z"
   },
   {
    "duration": 10,
    "start_time": "2024-01-19T12:31:47.488Z"
   },
   {
    "duration": 11,
    "start_time": "2024-01-19T12:32:23.975Z"
   },
   {
    "duration": 9,
    "start_time": "2024-01-19T12:32:31.731Z"
   },
   {
    "duration": 107,
    "start_time": "2024-01-19T12:35:03.014Z"
   },
   {
    "duration": 9,
    "start_time": "2024-01-19T12:35:11.496Z"
   },
   {
    "duration": 1549,
    "start_time": "2024-01-19T12:35:32.004Z"
   },
   {
    "duration": 1016,
    "start_time": "2024-01-19T12:35:33.555Z"
   },
   {
    "duration": 18,
    "start_time": "2024-01-19T12:35:34.573Z"
   },
   {
    "duration": 46,
    "start_time": "2024-01-19T12:35:34.593Z"
   },
   {
    "duration": 27,
    "start_time": "2024-01-19T12:35:34.641Z"
   },
   {
    "duration": 7,
    "start_time": "2024-01-19T12:35:34.680Z"
   },
   {
    "duration": 7835,
    "start_time": "2024-01-19T12:35:34.689Z"
   },
   {
    "duration": 9,
    "start_time": "2024-01-19T12:35:42.526Z"
   },
   {
    "duration": 150,
    "start_time": "2024-01-19T12:35:42.536Z"
   },
   {
    "duration": 6,
    "start_time": "2024-01-19T12:35:42.688Z"
   },
   {
    "duration": 119,
    "start_time": "2024-01-19T12:35:42.696Z"
   },
   {
    "duration": 3,
    "start_time": "2024-01-19T12:35:42.816Z"
   },
   {
    "duration": 10,
    "start_time": "2024-01-19T12:35:42.821Z"
   },
   {
    "duration": 155,
    "start_time": "2024-01-19T12:35:42.834Z"
   },
   {
    "duration": 0,
    "start_time": "2024-01-19T12:35:42.991Z"
   },
   {
    "duration": 920,
    "start_time": "2024-01-19T12:35:46.622Z"
   },
   {
    "duration": 7,
    "start_time": "2024-01-19T12:36:25.026Z"
   },
   {
    "duration": 31,
    "start_time": "2024-01-19T12:36:25.350Z"
   },
   {
    "duration": 26,
    "start_time": "2024-01-19T12:36:26.176Z"
   },
   {
    "duration": 6,
    "start_time": "2024-01-19T12:36:26.360Z"
   },
   {
    "duration": 6554,
    "start_time": "2024-01-19T12:36:26.842Z"
   },
   {
    "duration": 8,
    "start_time": "2024-01-19T12:36:33.398Z"
   },
   {
    "duration": 12,
    "start_time": "2024-01-19T12:36:33.408Z"
   },
   {
    "duration": 4,
    "start_time": "2024-01-19T12:36:36.042Z"
   },
   {
    "duration": 8,
    "start_time": "2024-01-19T12:37:27.083Z"
   },
   {
    "duration": 3,
    "start_time": "2024-01-19T12:39:21.507Z"
   },
   {
    "duration": 930,
    "start_time": "2024-01-19T12:39:21.851Z"
   },
   {
    "duration": 7,
    "start_time": "2024-01-19T12:39:23.354Z"
   },
   {
    "duration": 31,
    "start_time": "2024-01-19T12:39:23.980Z"
   },
   {
    "duration": 33,
    "start_time": "2024-01-19T12:39:24.394Z"
   },
   {
    "duration": 5,
    "start_time": "2024-01-19T12:39:24.745Z"
   },
   {
    "duration": 6420,
    "start_time": "2024-01-19T12:39:24.970Z"
   },
   {
    "duration": 8,
    "start_time": "2024-01-19T12:39:31.392Z"
   },
   {
    "duration": 52,
    "start_time": "2024-01-19T12:39:31.401Z"
   },
   {
    "duration": 57,
    "start_time": "2024-01-19T12:39:31.455Z"
   },
   {
    "duration": 8,
    "start_time": "2024-01-19T12:39:46.734Z"
   },
   {
    "duration": 3,
    "start_time": "2024-01-19T12:41:01.024Z"
   },
   {
    "duration": 5,
    "start_time": "2024-01-19T12:41:22.022Z"
   },
   {
    "duration": 5,
    "start_time": "2024-01-19T12:42:39.318Z"
   },
   {
    "duration": 3,
    "start_time": "2024-01-19T12:46:08.382Z"
   },
   {
    "duration": 5,
    "start_time": "2024-01-19T12:46:10.149Z"
   },
   {
    "duration": 10,
    "start_time": "2024-01-19T12:58:04.227Z"
   },
   {
    "duration": 3,
    "start_time": "2024-01-19T12:58:21.953Z"
   },
   {
    "duration": 15,
    "start_time": "2024-01-19T12:58:24.690Z"
   },
   {
    "duration": 5,
    "start_time": "2024-01-19T13:02:49.454Z"
   },
   {
    "duration": 118,
    "start_time": "2024-01-19T13:03:24.905Z"
   },
   {
    "duration": 3,
    "start_time": "2024-01-19T13:03:25.696Z"
   },
   {
    "duration": 3,
    "start_time": "2024-01-19T13:03:26.426Z"
   },
   {
    "duration": 14,
    "start_time": "2024-01-19T13:03:28.047Z"
   },
   {
    "duration": 3,
    "start_time": "2024-01-19T13:04:29.492Z"
   },
   {
    "duration": 11,
    "start_time": "2024-01-19T13:06:12.490Z"
   },
   {
    "duration": 1222,
    "start_time": "2024-01-19T13:06:18.260Z"
   },
   {
    "duration": 1218,
    "start_time": "2024-01-19T13:06:33.990Z"
   },
   {
    "duration": 323,
    "start_time": "2024-01-19T13:06:51.138Z"
   },
   {
    "duration": 68,
    "start_time": "2024-01-19T13:07:57.842Z"
   },
   {
    "duration": 74,
    "start_time": "2024-01-19T13:08:03.476Z"
   },
   {
    "duration": 3,
    "start_time": "2024-01-19T13:08:07.649Z"
   },
   {
    "duration": 3,
    "start_time": "2024-01-19T13:08:09.534Z"
   },
   {
    "duration": 13,
    "start_time": "2024-01-19T13:08:13.305Z"
   },
   {
    "duration": 1534,
    "start_time": "2024-01-19T13:19:20.733Z"
   },
   {
    "duration": 2,
    "start_time": "2024-01-19T13:19:22.269Z"
   },
   {
    "duration": 1004,
    "start_time": "2024-01-19T13:19:22.273Z"
   },
   {
    "duration": 10,
    "start_time": "2024-01-19T13:19:23.280Z"
   },
   {
    "duration": 37,
    "start_time": "2024-01-19T13:19:23.292Z"
   },
   {
    "duration": 27,
    "start_time": "2024-01-19T13:19:23.330Z"
   },
   {
    "duration": 21,
    "start_time": "2024-01-19T13:19:23.359Z"
   },
   {
    "duration": 7698,
    "start_time": "2024-01-19T13:19:23.382Z"
   },
   {
    "duration": 8,
    "start_time": "2024-01-19T13:19:31.082Z"
   },
   {
    "duration": 2680,
    "start_time": "2024-01-19T13:19:31.091Z"
   },
   {
    "duration": 0,
    "start_time": "2024-01-19T13:19:33.773Z"
   },
   {
    "duration": 0,
    "start_time": "2024-01-19T13:19:33.780Z"
   },
   {
    "duration": 0,
    "start_time": "2024-01-19T13:19:33.781Z"
   },
   {
    "duration": 0,
    "start_time": "2024-01-19T13:19:33.782Z"
   },
   {
    "duration": 0,
    "start_time": "2024-01-19T13:19:33.783Z"
   },
   {
    "duration": 0,
    "start_time": "2024-01-19T13:19:33.784Z"
   },
   {
    "duration": 0,
    "start_time": "2024-01-19T13:19:33.785Z"
   },
   {
    "duration": 0,
    "start_time": "2024-01-19T13:19:33.786Z"
   },
   {
    "duration": 3,
    "start_time": "2024-01-19T13:20:27.481Z"
   },
   {
    "duration": 2,
    "start_time": "2024-01-19T13:20:27.640Z"
   },
   {
    "duration": 928,
    "start_time": "2024-01-19T13:20:27.779Z"
   },
   {
    "duration": 8,
    "start_time": "2024-01-19T13:20:28.709Z"
   },
   {
    "duration": 32,
    "start_time": "2024-01-19T13:20:30.334Z"
   },
   {
    "duration": 47,
    "start_time": "2024-01-19T13:20:30.368Z"
   },
   {
    "duration": 7,
    "start_time": "2024-01-19T13:20:30.654Z"
   },
   {
    "duration": 6419,
    "start_time": "2024-01-19T13:20:34.714Z"
   },
   {
    "duration": 8,
    "start_time": "2024-01-19T13:20:41.135Z"
   },
   {
    "duration": 1550,
    "start_time": "2024-01-19T13:21:10.039Z"
   },
   {
    "duration": 2,
    "start_time": "2024-01-19T13:21:11.591Z"
   },
   {
    "duration": 3306,
    "start_time": "2024-01-19T13:21:11.595Z"
   },
   {
    "duration": 10,
    "start_time": "2024-01-19T13:21:14.903Z"
   },
   {
    "duration": 40,
    "start_time": "2024-01-19T13:21:14.914Z"
   },
   {
    "duration": 28,
    "start_time": "2024-01-19T13:21:14.956Z"
   },
   {
    "duration": 10,
    "start_time": "2024-01-19T13:21:14.985Z"
   },
   {
    "duration": 7794,
    "start_time": "2024-01-19T13:21:14.996Z"
   },
   {
    "duration": 8,
    "start_time": "2024-01-19T13:21:22.793Z"
   },
   {
    "duration": 2343,
    "start_time": "2024-01-19T13:21:22.804Z"
   },
   {
    "duration": 207,
    "start_time": "2024-01-19T13:22:09.136Z"
   },
   {
    "duration": 4,
    "start_time": "2024-01-19T13:22:10.447Z"
   },
   {
    "duration": 68,
    "start_time": "2024-01-19T13:23:17.186Z"
   },
   {
    "duration": 10,
    "start_time": "2024-01-19T13:23:19.992Z"
   },
   {
    "duration": 9,
    "start_time": "2024-01-19T13:23:25.895Z"
   },
   {
    "duration": 3,
    "start_time": "2024-01-19T13:23:33.739Z"
   },
   {
    "duration": 3,
    "start_time": "2024-01-19T13:23:36.584Z"
   },
   {
    "duration": 13,
    "start_time": "2024-01-19T13:23:43.365Z"
   },
   {
    "duration": 14,
    "start_time": "2024-01-19T13:23:50.913Z"
   },
   {
    "duration": 3,
    "start_time": "2024-01-19T13:24:36.823Z"
   },
   {
    "duration": 7744,
    "start_time": "2024-01-19T13:24:47.164Z"
   },
   {
    "duration": 4,
    "start_time": "2024-01-19T13:25:51.099Z"
   },
   {
    "duration": 6437,
    "start_time": "2024-01-19T13:26:38.639Z"
   },
   {
    "duration": 7842,
    "start_time": "2024-01-19T13:27:04.040Z"
   },
   {
    "duration": 1726,
    "start_time": "2024-01-20T11:57:25.534Z"
   },
   {
    "duration": 3,
    "start_time": "2024-01-20T11:57:27.262Z"
   },
   {
    "duration": 2536,
    "start_time": "2024-01-20T11:57:27.266Z"
   },
   {
    "duration": 11,
    "start_time": "2024-01-20T11:57:29.804Z"
   },
   {
    "duration": 35,
    "start_time": "2024-01-20T11:57:29.817Z"
   },
   {
    "duration": 59,
    "start_time": "2024-01-20T11:57:29.853Z"
   },
   {
    "duration": 9,
    "start_time": "2024-01-20T11:57:29.914Z"
   },
   {
    "duration": 7639,
    "start_time": "2024-01-20T11:57:29.925Z"
   },
   {
    "duration": 7,
    "start_time": "2024-01-20T11:57:37.566Z"
   },
   {
    "duration": 194,
    "start_time": "2024-01-20T11:57:57.557Z"
   },
   {
    "duration": 5,
    "start_time": "2024-01-20T11:57:58.345Z"
   },
   {
    "duration": 64,
    "start_time": "2024-01-20T11:58:00.412Z"
   },
   {
    "duration": 3,
    "start_time": "2024-01-20T11:58:01.972Z"
   },
   {
    "duration": 3,
    "start_time": "2024-01-20T11:58:02.220Z"
   },
   {
    "duration": 2,
    "start_time": "2024-01-20T11:58:03.493Z"
   },
   {
    "duration": 7519,
    "start_time": "2024-01-20T11:58:04.017Z"
   },
   {
    "duration": 125,
    "start_time": "2024-01-20T12:59:12.801Z"
   },
   {
    "duration": 3,
    "start_time": "2024-01-20T12:59:37.031Z"
   },
   {
    "duration": 10,
    "start_time": "2024-01-20T12:59:40.823Z"
   },
   {
    "duration": 4,
    "start_time": "2024-01-20T12:59:56.194Z"
   },
   {
    "duration": 3,
    "start_time": "2024-01-20T12:59:58.208Z"
   },
   {
    "duration": 1429,
    "start_time": "2024-01-20T13:04:34.759Z"
   },
   {
    "duration": 3,
    "start_time": "2024-01-20T13:04:36.189Z"
   },
   {
    "duration": 980,
    "start_time": "2024-01-20T13:04:36.193Z"
   },
   {
    "duration": 11,
    "start_time": "2024-01-20T13:04:37.175Z"
   },
   {
    "duration": 42,
    "start_time": "2024-01-20T13:04:37.188Z"
   },
   {
    "duration": 27,
    "start_time": "2024-01-20T13:04:37.232Z"
   },
   {
    "duration": 7,
    "start_time": "2024-01-20T13:04:37.260Z"
   },
   {
    "duration": 7463,
    "start_time": "2024-01-20T13:04:37.269Z"
   },
   {
    "duration": 7,
    "start_time": "2024-01-20T13:04:44.733Z"
   },
   {
    "duration": 214,
    "start_time": "2024-01-20T13:04:44.742Z"
   },
   {
    "duration": 5,
    "start_time": "2024-01-20T13:04:44.958Z"
   },
   {
    "duration": 71,
    "start_time": "2024-01-20T13:04:44.965Z"
   },
   {
    "duration": 4,
    "start_time": "2024-01-20T13:04:45.038Z"
   },
   {
    "duration": 30,
    "start_time": "2024-01-20T13:04:45.045Z"
   },
   {
    "duration": 13,
    "start_time": "2024-01-20T13:04:45.077Z"
   },
   {
    "duration": 7345,
    "start_time": "2024-01-20T13:04:45.092Z"
   },
   {
    "duration": 1529,
    "start_time": "2024-01-20T13:05:28.652Z"
   },
   {
    "duration": 3,
    "start_time": "2024-01-20T13:05:30.183Z"
   },
   {
    "duration": 1041,
    "start_time": "2024-01-20T13:05:30.187Z"
   },
   {
    "duration": 11,
    "start_time": "2024-01-20T13:05:31.229Z"
   },
   {
    "duration": 55,
    "start_time": "2024-01-20T13:05:31.242Z"
   },
   {
    "duration": 73,
    "start_time": "2024-01-20T13:05:31.298Z"
   },
   {
    "duration": 39,
    "start_time": "2024-01-20T13:05:31.372Z"
   },
   {
    "duration": 7414,
    "start_time": "2024-01-20T13:05:31.412Z"
   },
   {
    "duration": 7,
    "start_time": "2024-01-20T13:05:38.827Z"
   },
   {
    "duration": 214,
    "start_time": "2024-01-20T13:05:38.835Z"
   },
   {
    "duration": 5,
    "start_time": "2024-01-20T13:05:39.050Z"
   },
   {
    "duration": 74,
    "start_time": "2024-01-20T13:05:39.056Z"
   },
   {
    "duration": 3,
    "start_time": "2024-01-20T13:05:39.131Z"
   },
   {
    "duration": 16,
    "start_time": "2024-01-20T13:05:39.136Z"
   },
   {
    "duration": 5,
    "start_time": "2024-01-20T13:05:39.154Z"
   },
   {
    "duration": 7441,
    "start_time": "2024-01-20T13:05:39.161Z"
   },
   {
    "duration": 1498,
    "start_time": "2024-01-20T13:06:56.751Z"
   },
   {
    "duration": 3,
    "start_time": "2024-01-20T13:06:58.251Z"
   },
   {
    "duration": 970,
    "start_time": "2024-01-20T13:06:58.255Z"
   },
   {
    "duration": 10,
    "start_time": "2024-01-20T13:06:59.226Z"
   },
   {
    "duration": 27,
    "start_time": "2024-01-20T13:06:59.238Z"
   },
   {
    "duration": 31,
    "start_time": "2024-01-20T13:06:59.267Z"
   },
   {
    "duration": 23,
    "start_time": "2024-01-20T13:06:59.300Z"
   },
   {
    "duration": 7348,
    "start_time": "2024-01-20T13:06:59.324Z"
   },
   {
    "duration": 8,
    "start_time": "2024-01-20T13:07:06.673Z"
   },
   {
    "duration": 136,
    "start_time": "2024-01-20T13:07:06.683Z"
   },
   {
    "duration": 6,
    "start_time": "2024-01-20T13:07:06.821Z"
   },
   {
    "duration": 64,
    "start_time": "2024-01-20T13:07:06.828Z"
   },
   {
    "duration": 4,
    "start_time": "2024-01-20T13:07:06.893Z"
   },
   {
    "duration": 3,
    "start_time": "2024-01-20T13:07:06.923Z"
   },
   {
    "duration": 4,
    "start_time": "2024-01-20T13:07:06.928Z"
   },
   {
    "duration": 7521,
    "start_time": "2024-01-20T13:07:06.933Z"
   },
   {
    "duration": 1533,
    "start_time": "2024-01-20T13:08:55.610Z"
   },
   {
    "duration": 3,
    "start_time": "2024-01-20T13:08:57.145Z"
   },
   {
    "duration": 962,
    "start_time": "2024-01-20T13:08:57.150Z"
   },
   {
    "duration": 13,
    "start_time": "2024-01-20T13:08:58.114Z"
   },
   {
    "duration": 43,
    "start_time": "2024-01-20T13:08:58.129Z"
   },
   {
    "duration": 26,
    "start_time": "2024-01-20T13:08:58.173Z"
   },
   {
    "duration": 16,
    "start_time": "2024-01-20T13:08:58.201Z"
   },
   {
    "duration": 7467,
    "start_time": "2024-01-20T13:08:58.221Z"
   },
   {
    "duration": 7,
    "start_time": "2024-01-20T13:09:05.690Z"
   },
   {
    "duration": 142,
    "start_time": "2024-01-20T13:09:05.699Z"
   },
   {
    "duration": 4,
    "start_time": "2024-01-20T13:09:05.842Z"
   },
   {
    "duration": 68,
    "start_time": "2024-01-20T13:09:05.848Z"
   },
   {
    "duration": 3,
    "start_time": "2024-01-20T13:09:05.917Z"
   },
   {
    "duration": 4,
    "start_time": "2024-01-20T13:09:05.924Z"
   },
   {
    "duration": 21,
    "start_time": "2024-01-20T13:09:05.929Z"
   },
   {
    "duration": 7562,
    "start_time": "2024-01-20T13:09:05.952Z"
   },
   {
    "duration": 1455,
    "start_time": "2024-01-20T13:15:50.068Z"
   },
   {
    "duration": 3,
    "start_time": "2024-01-20T13:15:51.525Z"
   },
   {
    "duration": 970,
    "start_time": "2024-01-20T13:15:51.529Z"
   },
   {
    "duration": 11,
    "start_time": "2024-01-20T13:15:52.500Z"
   },
   {
    "duration": 44,
    "start_time": "2024-01-20T13:15:52.513Z"
   },
   {
    "duration": 27,
    "start_time": "2024-01-20T13:15:52.559Z"
   },
   {
    "duration": 5,
    "start_time": "2024-01-20T13:15:52.588Z"
   },
   {
    "duration": 7568,
    "start_time": "2024-01-20T13:15:52.595Z"
   },
   {
    "duration": 8,
    "start_time": "2024-01-20T13:16:00.165Z"
   },
   {
    "duration": 189,
    "start_time": "2024-01-20T13:16:00.174Z"
   },
   {
    "duration": 5,
    "start_time": "2024-01-20T13:16:00.365Z"
   },
   {
    "duration": 79,
    "start_time": "2024-01-20T13:16:00.371Z"
   },
   {
    "duration": 3,
    "start_time": "2024-01-20T13:16:00.452Z"
   },
   {
    "duration": 26,
    "start_time": "2024-01-20T13:16:00.457Z"
   },
   {
    "duration": 41,
    "start_time": "2024-01-20T13:16:00.485Z"
   },
   {
    "duration": 7700,
    "start_time": "2024-01-20T13:16:00.528Z"
   },
   {
    "duration": 1447,
    "start_time": "2024-01-20T14:04:21.865Z"
   },
   {
    "duration": 2,
    "start_time": "2024-01-20T14:04:23.314Z"
   },
   {
    "duration": 1005,
    "start_time": "2024-01-20T14:04:23.317Z"
   },
   {
    "duration": 10,
    "start_time": "2024-01-20T14:04:24.323Z"
   },
   {
    "duration": 33,
    "start_time": "2024-01-20T14:04:24.335Z"
   },
   {
    "duration": 79,
    "start_time": "2024-01-20T14:04:24.370Z"
   },
   {
    "duration": 0,
    "start_time": "2024-01-20T14:04:24.450Z"
   },
   {
    "duration": 0,
    "start_time": "2024-01-20T14:04:24.451Z"
   },
   {
    "duration": 0,
    "start_time": "2024-01-20T14:04:24.452Z"
   },
   {
    "duration": 0,
    "start_time": "2024-01-20T14:04:24.453Z"
   },
   {
    "duration": 0,
    "start_time": "2024-01-20T14:04:24.455Z"
   },
   {
    "duration": 0,
    "start_time": "2024-01-20T14:04:24.456Z"
   },
   {
    "duration": 0,
    "start_time": "2024-01-20T14:04:24.457Z"
   },
   {
    "duration": 0,
    "start_time": "2024-01-20T14:04:24.458Z"
   },
   {
    "duration": 0,
    "start_time": "2024-01-20T14:04:24.459Z"
   },
   {
    "duration": 0,
    "start_time": "2024-01-20T14:04:24.460Z"
   },
   {
    "duration": 0,
    "start_time": "2024-01-20T14:04:24.461Z"
   },
   {
    "duration": 0,
    "start_time": "2024-01-20T14:04:24.462Z"
   },
   {
    "duration": 0,
    "start_time": "2024-01-20T14:04:24.463Z"
   },
   {
    "duration": 0,
    "start_time": "2024-01-20T14:04:24.464Z"
   },
   {
    "duration": 0,
    "start_time": "2024-01-20T14:04:24.465Z"
   },
   {
    "duration": 0,
    "start_time": "2024-01-20T14:04:24.466Z"
   },
   {
    "duration": 0,
    "start_time": "2024-01-20T14:04:24.467Z"
   },
   {
    "duration": 0,
    "start_time": "2024-01-20T14:04:24.468Z"
   },
   {
    "duration": 0,
    "start_time": "2024-01-20T14:04:24.469Z"
   },
   {
    "duration": 4,
    "start_time": "2024-01-20T14:04:39.985Z"
   },
   {
    "duration": 3,
    "start_time": "2024-01-20T14:04:40.648Z"
   },
   {
    "duration": 900,
    "start_time": "2024-01-20T14:04:41.417Z"
   },
   {
    "duration": 7,
    "start_time": "2024-01-20T14:04:43.253Z"
   },
   {
    "duration": 30,
    "start_time": "2024-01-20T14:04:43.688Z"
   },
   {
    "duration": 69,
    "start_time": "2024-01-20T14:04:43.905Z"
   },
   {
    "duration": 29,
    "start_time": "2024-01-20T14:04:49.744Z"
   },
   {
    "duration": 73,
    "start_time": "2024-01-20T14:04:50.905Z"
   },
   {
    "duration": 5,
    "start_time": "2024-01-20T14:04:56.816Z"
   },
   {
    "duration": 7545,
    "start_time": "2024-01-20T14:05:03.099Z"
   },
   {
    "duration": 8,
    "start_time": "2024-01-20T14:05:20.035Z"
   },
   {
    "duration": 125,
    "start_time": "2024-01-20T14:05:23.402Z"
   },
   {
    "duration": 120,
    "start_time": "2024-01-20T14:05:49.321Z"
   },
   {
    "duration": 4,
    "start_time": "2024-01-20T14:05:58.411Z"
   },
   {
    "duration": 72,
    "start_time": "2024-01-20T14:06:00.563Z"
   },
   {
    "duration": 64,
    "start_time": "2024-01-20T14:06:00.925Z"
   },
   {
    "duration": 68,
    "start_time": "2024-01-20T14:06:09.344Z"
   },
   {
    "duration": 4,
    "start_time": "2024-01-20T14:06:10.125Z"
   },
   {
    "duration": 3,
    "start_time": "2024-01-20T14:06:10.624Z"
   },
   {
    "duration": 90,
    "start_time": "2024-01-20T14:06:11.876Z"
   },
   {
    "duration": 3,
    "start_time": "2024-01-20T14:06:18.326Z"
   },
   {
    "duration": 7579,
    "start_time": "2024-01-20T14:06:22.276Z"
   },
   {
    "duration": 1519,
    "start_time": "2024-01-20T14:13:09.682Z"
   },
   {
    "duration": 4,
    "start_time": "2024-01-20T14:13:11.203Z"
   },
   {
    "duration": 973,
    "start_time": "2024-01-20T14:13:11.209Z"
   },
   {
    "duration": 11,
    "start_time": "2024-01-20T14:13:12.184Z"
   },
   {
    "duration": 40,
    "start_time": "2024-01-20T14:13:12.197Z"
   },
   {
    "duration": 30,
    "start_time": "2024-01-20T14:13:12.238Z"
   },
   {
    "duration": 19,
    "start_time": "2024-01-20T14:13:12.269Z"
   },
   {
    "duration": 7569,
    "start_time": "2024-01-20T14:13:12.290Z"
   },
   {
    "duration": 8,
    "start_time": "2024-01-20T14:13:19.861Z"
   },
   {
    "duration": 136,
    "start_time": "2024-01-20T14:13:19.871Z"
   },
   {
    "duration": 4,
    "start_time": "2024-01-20T14:13:20.008Z"
   },
   {
    "duration": 72,
    "start_time": "2024-01-20T14:13:20.013Z"
   },
   {
    "duration": 3,
    "start_time": "2024-01-20T14:13:20.087Z"
   },
   {
    "duration": 13,
    "start_time": "2024-01-20T14:13:20.093Z"
   },
   {
    "duration": 5,
    "start_time": "2024-01-20T14:13:20.107Z"
   },
   {
    "duration": 1514,
    "start_time": "2024-01-20T14:14:41.027Z"
   },
   {
    "duration": 3,
    "start_time": "2024-01-20T14:14:42.543Z"
   },
   {
    "duration": 971,
    "start_time": "2024-01-20T14:14:42.547Z"
   },
   {
    "duration": 10,
    "start_time": "2024-01-20T14:14:43.520Z"
   },
   {
    "duration": 53,
    "start_time": "2024-01-20T14:14:43.533Z"
   },
   {
    "duration": 28,
    "start_time": "2024-01-20T14:14:43.589Z"
   },
   {
    "duration": 8,
    "start_time": "2024-01-20T14:14:43.619Z"
   },
   {
    "duration": 7554,
    "start_time": "2024-01-20T14:14:43.628Z"
   },
   {
    "duration": 7,
    "start_time": "2024-01-20T14:14:51.184Z"
   },
   {
    "duration": 161,
    "start_time": "2024-01-20T14:14:51.193Z"
   },
   {
    "duration": 3,
    "start_time": "2024-01-20T14:14:51.356Z"
   },
   {
    "duration": 70,
    "start_time": "2024-01-20T14:14:51.360Z"
   },
   {
    "duration": 3,
    "start_time": "2024-01-20T14:14:51.431Z"
   },
   {
    "duration": 19,
    "start_time": "2024-01-20T14:14:51.436Z"
   },
   {
    "duration": 21,
    "start_time": "2024-01-20T14:14:51.457Z"
   },
   {
    "duration": 7642,
    "start_time": "2024-01-20T14:14:51.480Z"
   },
   {
    "duration": 1573,
    "start_time": "2024-01-20T14:16:18.103Z"
   },
   {
    "duration": 3,
    "start_time": "2024-01-20T14:16:19.677Z"
   },
   {
    "duration": 963,
    "start_time": "2024-01-20T14:16:20.924Z"
   },
   {
    "duration": 10,
    "start_time": "2024-01-20T14:16:21.889Z"
   },
   {
    "duration": 31,
    "start_time": "2024-01-20T14:16:22.914Z"
   },
   {
    "duration": 26,
    "start_time": "2024-01-20T14:16:23.264Z"
   },
   {
    "duration": 6,
    "start_time": "2024-01-20T14:16:23.982Z"
   },
   {
    "duration": 7514,
    "start_time": "2024-01-20T14:16:24.305Z"
   },
   {
    "duration": 8,
    "start_time": "2024-01-20T14:16:31.821Z"
   },
   {
    "duration": 300,
    "start_time": "2024-01-20T14:16:31.830Z"
   },
   {
    "duration": 4,
    "start_time": "2024-01-20T14:16:32.133Z"
   },
   {
    "duration": 98,
    "start_time": "2024-01-20T14:16:32.139Z"
   },
   {
    "duration": 56,
    "start_time": "2024-01-20T14:16:32.238Z"
   },
   {
    "duration": 32,
    "start_time": "2024-01-20T14:16:32.296Z"
   },
   {
    "duration": 3,
    "start_time": "2024-01-20T14:16:34.808Z"
   },
   {
    "duration": 7656,
    "start_time": "2024-01-20T14:16:34.950Z"
   },
   {
    "duration": 1494,
    "start_time": "2024-01-20T15:14:45.500Z"
   },
   {
    "duration": 3,
    "start_time": "2024-01-20T15:14:46.996Z"
   },
   {
    "duration": 950,
    "start_time": "2024-01-20T15:14:47.000Z"
   },
   {
    "duration": 10,
    "start_time": "2024-01-20T15:14:47.952Z"
   },
   {
    "duration": 31,
    "start_time": "2024-01-20T15:14:47.964Z"
   },
   {
    "duration": 44,
    "start_time": "2024-01-20T15:14:47.997Z"
   },
   {
    "duration": 6,
    "start_time": "2024-01-20T15:14:48.043Z"
   },
   {
    "duration": 7358,
    "start_time": "2024-01-20T15:14:48.050Z"
   },
   {
    "duration": 11,
    "start_time": "2024-01-20T15:14:55.409Z"
   },
   {
    "duration": 211,
    "start_time": "2024-01-20T15:14:55.421Z"
   },
   {
    "duration": 3,
    "start_time": "2024-01-20T15:14:55.634Z"
   },
   {
    "duration": 101,
    "start_time": "2024-01-20T15:14:55.639Z"
   },
   {
    "duration": 3,
    "start_time": "2024-01-20T15:14:55.741Z"
   },
   {
    "duration": 28,
    "start_time": "2024-01-20T15:14:55.748Z"
   },
   {
    "duration": 5,
    "start_time": "2024-01-20T15:14:55.777Z"
   },
   {
    "duration": 7625,
    "start_time": "2024-01-20T15:14:55.783Z"
   },
   {
    "duration": 4,
    "start_time": "2024-01-20T15:15:03.409Z"
   },
   {
    "duration": 6275,
    "start_time": "2024-01-20T15:15:03.414Z"
   },
   {
    "duration": 0,
    "start_time": "2024-01-20T15:15:09.692Z"
   },
   {
    "duration": 0,
    "start_time": "2024-01-20T15:15:09.693Z"
   },
   {
    "duration": 0,
    "start_time": "2024-01-20T15:15:09.694Z"
   },
   {
    "duration": 0,
    "start_time": "2024-01-20T15:15:09.695Z"
   },
   {
    "duration": 0,
    "start_time": "2024-01-20T15:15:09.696Z"
   },
   {
    "duration": 0,
    "start_time": "2024-01-20T15:15:09.697Z"
   },
   {
    "duration": 0,
    "start_time": "2024-01-20T15:15:09.698Z"
   },
   {
    "duration": 0,
    "start_time": "2024-01-20T15:15:09.699Z"
   },
   {
    "duration": 0,
    "start_time": "2024-01-20T15:15:09.701Z"
   },
   {
    "duration": 3,
    "start_time": "2024-01-20T15:15:14.853Z"
   },
   {
    "duration": 2,
    "start_time": "2024-01-20T15:15:15.439Z"
   },
   {
    "duration": 946,
    "start_time": "2024-01-20T15:15:15.697Z"
   },
   {
    "duration": 7,
    "start_time": "2024-01-20T15:15:16.645Z"
   },
   {
    "duration": 35,
    "start_time": "2024-01-20T15:15:17.702Z"
   },
   {
    "duration": 34,
    "start_time": "2024-01-20T15:15:18.021Z"
   },
   {
    "duration": 6,
    "start_time": "2024-01-20T15:15:18.305Z"
   },
   {
    "duration": 6523,
    "start_time": "2024-01-20T15:15:18.563Z"
   },
   {
    "duration": 7,
    "start_time": "2024-01-20T15:15:25.088Z"
   },
   {
    "duration": 8,
    "start_time": "2024-01-20T15:15:25.096Z"
   },
   {
    "duration": 4,
    "start_time": "2024-01-20T15:15:25.106Z"
   },
   {
    "duration": 64,
    "start_time": "2024-01-20T15:15:25.120Z"
   },
   {
    "duration": 4,
    "start_time": "2024-01-20T15:15:25.185Z"
   },
   {
    "duration": 15,
    "start_time": "2024-01-20T15:15:25.191Z"
   },
   {
    "duration": 19,
    "start_time": "2024-01-20T15:15:25.207Z"
   },
   {
    "duration": 7895,
    "start_time": "2024-01-20T15:15:25.227Z"
   },
   {
    "duration": 5,
    "start_time": "2024-01-20T15:15:33.126Z"
   },
   {
    "duration": 4,
    "start_time": "2024-01-20T16:51:45.515Z"
   },
   {
    "duration": 3,
    "start_time": "2024-01-20T16:51:46.258Z"
   },
   {
    "duration": 854,
    "start_time": "2024-01-20T16:51:47.092Z"
   },
   {
    "duration": 7,
    "start_time": "2024-01-20T16:51:48.351Z"
   },
   {
    "duration": 31,
    "start_time": "2024-01-20T16:51:49.249Z"
   },
   {
    "duration": 27,
    "start_time": "2024-01-20T16:51:49.580Z"
   },
   {
    "duration": 6,
    "start_time": "2024-01-20T16:51:50.180Z"
   },
   {
    "duration": 6171,
    "start_time": "2024-01-20T16:51:50.513Z"
   },
   {
    "duration": 9,
    "start_time": "2024-01-20T16:51:56.686Z"
   },
   {
    "duration": 214,
    "start_time": "2024-01-20T16:51:56.877Z"
   },
   {
    "duration": 3,
    "start_time": "2024-01-20T16:51:57.211Z"
   },
   {
    "duration": 85,
    "start_time": "2024-01-20T16:51:58.296Z"
   },
   {
    "duration": 4,
    "start_time": "2024-01-20T16:51:58.526Z"
   },
   {
    "duration": 4,
    "start_time": "2024-01-20T16:51:58.706Z"
   },
   {
    "duration": 13,
    "start_time": "2024-01-20T16:51:59.076Z"
   },
   {
    "duration": 7725,
    "start_time": "2024-01-20T16:51:59.280Z"
   },
   {
    "duration": 4,
    "start_time": "2024-01-20T16:52:07.007Z"
   },
   {
    "duration": 1440,
    "start_time": "2024-01-20T18:15:39.947Z"
   },
   {
    "duration": 3,
    "start_time": "2024-01-20T18:15:41.389Z"
   },
   {
    "duration": 973,
    "start_time": "2024-01-20T18:15:41.393Z"
   },
   {
    "duration": 11,
    "start_time": "2024-01-20T18:15:42.368Z"
   },
   {
    "duration": 41,
    "start_time": "2024-01-20T18:15:42.381Z"
   },
   {
    "duration": 26,
    "start_time": "2024-01-20T18:15:42.424Z"
   },
   {
    "duration": 27,
    "start_time": "2024-01-20T18:15:42.452Z"
   },
   {
    "duration": 7284,
    "start_time": "2024-01-20T18:15:42.480Z"
   },
   {
    "duration": 8,
    "start_time": "2024-01-20T18:15:49.765Z"
   },
   {
    "duration": 203,
    "start_time": "2024-01-20T18:15:49.775Z"
   },
   {
    "duration": 4,
    "start_time": "2024-01-20T18:15:49.979Z"
   },
   {
    "duration": 77,
    "start_time": "2024-01-20T18:15:49.984Z"
   },
   {
    "duration": 3,
    "start_time": "2024-01-20T18:15:50.062Z"
   },
   {
    "duration": 24,
    "start_time": "2024-01-20T18:15:50.068Z"
   },
   {
    "duration": 13,
    "start_time": "2024-01-20T18:15:50.094Z"
   },
   {
    "duration": 7321,
    "start_time": "2024-01-20T18:15:50.108Z"
   },
   {
    "duration": 4,
    "start_time": "2024-01-20T18:15:57.430Z"
   },
   {
    "duration": 50617,
    "start_time": "2024-01-20T18:15:57.435Z"
   },
   {
    "duration": 0,
    "start_time": "2024-01-20T18:16:48.054Z"
   },
   {
    "duration": 0,
    "start_time": "2024-01-20T18:16:48.056Z"
   },
   {
    "duration": 0,
    "start_time": "2024-01-20T18:16:48.056Z"
   },
   {
    "duration": 3,
    "start_time": "2024-01-20T18:16:54.212Z"
   },
   {
    "duration": 3,
    "start_time": "2024-01-20T18:16:54.573Z"
   },
   {
    "duration": 871,
    "start_time": "2024-01-20T18:16:54.737Z"
   },
   {
    "duration": 6,
    "start_time": "2024-01-20T18:16:55.610Z"
   },
   {
    "duration": 64,
    "start_time": "2024-01-20T18:16:55.620Z"
   },
   {
    "duration": 34,
    "start_time": "2024-01-20T18:16:55.686Z"
   },
   {
    "duration": 6,
    "start_time": "2024-01-20T18:16:56.703Z"
   },
   {
    "duration": 6292,
    "start_time": "2024-01-20T18:16:56.903Z"
   },
   {
    "duration": 7,
    "start_time": "2024-01-20T18:17:03.197Z"
   },
   {
    "duration": 178,
    "start_time": "2024-01-20T18:17:03.205Z"
   },
   {
    "duration": 41,
    "start_time": "2024-01-20T18:17:03.384Z"
   },
   {
    "duration": 139,
    "start_time": "2024-01-20T18:17:03.426Z"
   },
   {
    "duration": 4,
    "start_time": "2024-01-20T18:17:03.567Z"
   },
   {
    "duration": 28,
    "start_time": "2024-01-20T18:17:03.573Z"
   },
   {
    "duration": 18,
    "start_time": "2024-01-20T18:17:03.603Z"
   },
   {
    "duration": 7658,
    "start_time": "2024-01-20T18:17:03.623Z"
   },
   {
    "duration": 3,
    "start_time": "2024-01-20T18:17:11.283Z"
   },
   {
    "duration": 4724533,
    "start_time": "2024-01-20T18:17:11.287Z"
   },
   {
    "duration": 4,
    "start_time": "2024-01-20T19:35:55.823Z"
   },
   {
    "duration": 111,
    "start_time": "2024-01-20T19:35:55.829Z"
   },
   {
    "duration": 0,
    "start_time": "2024-01-20T19:35:55.941Z"
   },
   {
    "duration": 3,
    "start_time": "2024-01-20T19:38:38.934Z"
   },
   {
    "duration": 11,
    "start_time": "2024-01-20T19:38:44.809Z"
   },
   {
    "duration": 3,
    "start_time": "2024-01-20T19:38:53.089Z"
   },
   {
    "duration": 15,
    "start_time": "2024-01-20T19:45:27.751Z"
   },
   {
    "duration": 12,
    "start_time": "2024-01-20T19:48:15.349Z"
   },
   {
    "duration": 11,
    "start_time": "2024-01-20T19:49:40.519Z"
   },
   {
    "duration": 12,
    "start_time": "2024-01-20T19:50:44.009Z"
   },
   {
    "duration": 14,
    "start_time": "2024-01-20T19:55:39.651Z"
   },
   {
    "duration": 5,
    "start_time": "2024-01-20T19:55:48.393Z"
   },
   {
    "duration": 15,
    "start_time": "2024-01-20T19:55:57.756Z"
   },
   {
    "duration": 4,
    "start_time": "2024-01-20T19:55:59.617Z"
   },
   {
    "duration": 4,
    "start_time": "2024-01-20T20:00:49.161Z"
   },
   {
    "duration": 1592,
    "start_time": "2024-01-21T13:02:59.372Z"
   },
   {
    "duration": 3,
    "start_time": "2024-01-21T13:03:00.966Z"
   },
   {
    "duration": 2277,
    "start_time": "2024-01-21T13:03:02.869Z"
   },
   {
    "duration": 10,
    "start_time": "2024-01-21T13:03:05.148Z"
   },
   {
    "duration": 33,
    "start_time": "2024-01-21T13:03:05.159Z"
   },
   {
    "duration": 26,
    "start_time": "2024-01-21T13:03:05.193Z"
   },
   {
    "duration": 5,
    "start_time": "2024-01-21T13:07:30.046Z"
   },
   {
    "duration": 6955,
    "start_time": "2024-01-21T13:07:30.374Z"
   },
   {
    "duration": 7,
    "start_time": "2024-01-21T13:07:37.331Z"
   },
   {
    "duration": 142,
    "start_time": "2024-01-21T13:07:37.339Z"
   },
   {
    "duration": 3,
    "start_time": "2024-01-21T13:07:37.483Z"
   },
   {
    "duration": 67,
    "start_time": "2024-01-21T13:07:37.488Z"
   },
   {
    "duration": 3,
    "start_time": "2024-01-21T13:07:37.557Z"
   },
   {
    "duration": 5,
    "start_time": "2024-01-21T13:07:37.561Z"
   },
   {
    "duration": 4,
    "start_time": "2024-01-21T13:07:37.567Z"
   },
   {
    "duration": 7064,
    "start_time": "2024-01-21T13:07:37.572Z"
   },
   {
    "duration": 4,
    "start_time": "2024-01-21T13:07:44.638Z"
   },
   {
    "duration": 2556,
    "start_time": "2024-01-21T13:15:06.344Z"
   },
   {
    "duration": 1410,
    "start_time": "2024-01-21T13:15:12.759Z"
   },
   {
    "duration": 2,
    "start_time": "2024-01-21T13:15:14.171Z"
   },
   {
    "duration": 914,
    "start_time": "2024-01-21T13:15:14.175Z"
   },
   {
    "duration": 11,
    "start_time": "2024-01-21T13:15:15.091Z"
   },
   {
    "duration": 244,
    "start_time": "2024-01-21T13:15:15.104Z"
   },
   {
    "duration": 68,
    "start_time": "2024-01-21T13:15:15.350Z"
   },
   {
    "duration": 9,
    "start_time": "2024-01-21T13:15:15.419Z"
   },
   {
    "duration": 2512,
    "start_time": "2024-01-21T13:15:15.433Z"
   },
   {
    "duration": 6122,
    "start_time": "2024-01-21T13:15:17.947Z"
   },
   {
    "duration": 7,
    "start_time": "2024-01-21T13:15:24.071Z"
   },
   {
    "duration": 204,
    "start_time": "2024-01-21T13:15:24.079Z"
   },
   {
    "duration": 5,
    "start_time": "2024-01-21T13:15:24.284Z"
   },
   {
    "duration": 67,
    "start_time": "2024-01-21T13:15:24.290Z"
   },
   {
    "duration": 4,
    "start_time": "2024-01-21T13:15:24.360Z"
   },
   {
    "duration": 4,
    "start_time": "2024-01-21T13:15:24.367Z"
   },
   {
    "duration": 4,
    "start_time": "2024-01-21T13:15:24.372Z"
   },
   {
    "duration": 783,
    "start_time": "2024-01-21T13:15:24.377Z"
   },
   {
    "duration": 0,
    "start_time": "2024-01-21T13:15:25.162Z"
   },
   {
    "duration": 0,
    "start_time": "2024-01-21T13:15:25.163Z"
   },
   {
    "duration": 0,
    "start_time": "2024-01-21T13:15:25.164Z"
   },
   {
    "duration": 0,
    "start_time": "2024-01-21T13:15:25.165Z"
   },
   {
    "duration": 0,
    "start_time": "2024-01-21T13:15:25.166Z"
   },
   {
    "duration": 0,
    "start_time": "2024-01-21T13:15:25.167Z"
   },
   {
    "duration": 0,
    "start_time": "2024-01-21T13:15:25.168Z"
   },
   {
    "duration": 0,
    "start_time": "2024-01-21T13:15:25.169Z"
   },
   {
    "duration": 4950,
    "start_time": "2024-01-21T13:15:34.349Z"
   },
   {
    "duration": 7,
    "start_time": "2024-01-21T13:15:44.072Z"
   },
   {
    "duration": 9,
    "start_time": "2024-01-21T13:26:06.033Z"
   },
   {
    "duration": 3,
    "start_time": "2024-01-21T13:26:28.883Z"
   },
   {
    "duration": 12,
    "start_time": "2024-01-21T13:26:32.145Z"
   },
   {
    "duration": 3,
    "start_time": "2024-01-21T13:26:46.854Z"
   },
   {
    "duration": 4,
    "start_time": "2024-01-21T13:26:50.543Z"
   },
   {
    "duration": 3,
    "start_time": "2024-01-21T13:27:06.683Z"
   },
   {
    "duration": 9,
    "start_time": "2024-01-21T13:27:42.468Z"
   },
   {
    "duration": 5,
    "start_time": "2024-01-21T13:27:53.072Z"
   },
   {
    "duration": 3,
    "start_time": "2024-01-21T13:27:53.641Z"
   },
   {
    "duration": 68,
    "start_time": "2024-01-21T13:27:54.358Z"
   },
   {
    "duration": 5,
    "start_time": "2024-01-21T13:27:54.667Z"
   },
   {
    "duration": 3,
    "start_time": "2024-01-21T13:27:55.148Z"
   },
   {
    "duration": 3,
    "start_time": "2024-01-21T13:27:55.704Z"
   },
   {
    "duration": 7000,
    "start_time": "2024-01-21T13:27:56.773Z"
   },
   {
    "duration": 3,
    "start_time": "2024-01-21T13:28:07.462Z"
   },
   {
    "duration": 663,
    "start_time": "2024-01-21T13:28:08.111Z"
   },
   {
    "duration": 3,
    "start_time": "2024-01-21T13:28:38.612Z"
   },
   {
    "duration": 1561,
    "start_time": "2024-01-21T13:28:39.372Z"
   },
   {
    "duration": 4,
    "start_time": "2024-01-21T13:28:53.963Z"
   },
   {
    "duration": 163077,
    "start_time": "2024-01-21T13:28:54.623Z"
   },
   {
    "duration": 0,
    "start_time": "2024-01-21T13:31:37.701Z"
   },
   {
    "duration": 11,
    "start_time": "2024-01-21T13:31:47.051Z"
   },
   {
    "duration": 10,
    "start_time": "2024-01-21T13:36:11.414Z"
   },
   {
    "duration": 10,
    "start_time": "2024-01-21T13:37:36.859Z"
   },
   {
    "duration": 5,
    "start_time": "2024-01-21T13:37:46.622Z"
   },
   {
    "duration": 4,
    "start_time": "2024-01-21T13:37:52.317Z"
   },
   {
    "duration": 3,
    "start_time": "2024-01-21T13:37:56.019Z"
   },
   {
    "duration": 53390,
    "start_time": "2024-01-21T13:38:05.030Z"
   },
   {
    "duration": 0,
    "start_time": "2024-01-21T13:38:58.422Z"
   },
   {
    "duration": 4,
    "start_time": "2024-01-21T13:39:42.926Z"
   },
   {
    "duration": 85874,
    "start_time": "2024-01-21T13:39:44.129Z"
   },
   {
    "duration": 9,
    "start_time": "2024-01-21T13:44:13.674Z"
   },
   {
    "duration": 3,
    "start_time": "2024-01-21T13:44:30.790Z"
   },
   {
    "duration": 5,
    "start_time": "2024-01-21T13:47:22.975Z"
   },
   {
    "duration": 1719,
    "start_time": "2024-01-21T17:17:47.739Z"
   },
   {
    "duration": 3,
    "start_time": "2024-01-21T17:17:53.362Z"
   },
   {
    "duration": 3247,
    "start_time": "2024-01-21T17:17:59.782Z"
   },
   {
    "duration": 11,
    "start_time": "2024-01-21T17:18:03.893Z"
   },
   {
    "duration": 31,
    "start_time": "2024-01-21T17:18:04.704Z"
   },
   {
    "duration": 25,
    "start_time": "2024-01-21T17:18:06.088Z"
   },
   {
    "duration": 6,
    "start_time": "2024-01-21T17:18:07.369Z"
   },
   {
    "duration": 2657,
    "start_time": "2024-01-21T17:18:07.496Z"
   },
   {
    "duration": 6609,
    "start_time": "2024-01-21T17:18:10.155Z"
   },
   {
    "duration": 476,
    "start_time": "2024-01-21T17:48:56.954Z"
   },
   {
    "duration": 5579,
    "start_time": "2024-01-21T17:53:17.121Z"
   },
   {
    "duration": 350,
    "start_time": "2024-01-21T19:26:58.804Z"
   },
   {
    "duration": 5579,
    "start_time": "2024-01-21T19:27:07.672Z"
   },
   {
    "duration": 1563,
    "start_time": "2024-01-21T19:32:08.364Z"
   },
   {
    "duration": 3,
    "start_time": "2024-01-21T19:32:09.929Z"
   },
   {
    "duration": 999,
    "start_time": "2024-01-21T19:32:09.933Z"
   },
   {
    "duration": 12,
    "start_time": "2024-01-21T19:32:10.934Z"
   },
   {
    "duration": 47,
    "start_time": "2024-01-21T19:32:10.948Z"
   },
   {
    "duration": 26,
    "start_time": "2024-01-21T19:32:10.997Z"
   },
   {
    "duration": 24,
    "start_time": "2024-01-21T19:32:11.025Z"
   },
   {
    "duration": 2819,
    "start_time": "2024-01-21T19:32:11.051Z"
   },
   {
    "duration": 5,
    "start_time": "2024-01-21T19:32:13.872Z"
   },
   {
    "duration": 6923,
    "start_time": "2024-01-21T19:32:13.878Z"
   },
   {
    "duration": 9,
    "start_time": "2024-01-21T19:32:20.803Z"
   },
   {
    "duration": 163,
    "start_time": "2024-01-21T19:32:20.814Z"
   },
   {
    "duration": 5,
    "start_time": "2024-01-21T19:32:20.979Z"
   },
   {
    "duration": 77,
    "start_time": "2024-01-21T19:32:20.987Z"
   },
   {
    "duration": 3,
    "start_time": "2024-01-21T19:32:21.066Z"
   },
   {
    "duration": 8,
    "start_time": "2024-01-21T19:32:21.073Z"
   },
   {
    "duration": 9,
    "start_time": "2024-01-21T19:32:21.083Z"
   },
   {
    "duration": 7874,
    "start_time": "2024-01-21T19:32:21.094Z"
   },
   {
    "duration": 3,
    "start_time": "2024-01-21T19:32:28.972Z"
   },
   {
    "duration": 109839,
    "start_time": "2024-01-21T19:32:28.977Z"
   },
   {
    "duration": 0,
    "start_time": "2024-01-21T19:34:18.819Z"
   },
   {
    "duration": 0,
    "start_time": "2024-01-21T19:34:18.820Z"
   },
   {
    "duration": 0,
    "start_time": "2024-01-21T19:34:18.822Z"
   },
   {
    "duration": 0,
    "start_time": "2024-01-21T19:34:18.824Z"
   },
   {
    "duration": 0,
    "start_time": "2024-01-21T19:34:18.825Z"
   },
   {
    "duration": 0,
    "start_time": "2024-01-21T19:34:18.827Z"
   },
   {
    "duration": 0,
    "start_time": "2024-01-21T19:34:18.828Z"
   },
   {
    "duration": 0,
    "start_time": "2024-01-21T19:34:18.830Z"
   },
   {
    "duration": 0,
    "start_time": "2024-01-21T19:34:18.831Z"
   },
   {
    "duration": 0,
    "start_time": "2024-01-21T19:34:18.832Z"
   },
   {
    "duration": 0,
    "start_time": "2024-01-21T19:34:18.833Z"
   },
   {
    "duration": 4,
    "start_time": "2024-01-21T19:34:35.853Z"
   },
   {
    "duration": 3,
    "start_time": "2024-01-21T19:34:37.266Z"
   },
   {
    "duration": 914,
    "start_time": "2024-01-21T19:34:37.916Z"
   },
   {
    "duration": 7,
    "start_time": "2024-01-21T19:34:44.650Z"
   },
   {
    "duration": 31,
    "start_time": "2024-01-21T19:34:45.525Z"
   },
   {
    "duration": 27,
    "start_time": "2024-01-21T19:34:47.643Z"
   },
   {
    "duration": 8,
    "start_time": "2024-01-21T19:34:48.358Z"
   },
   {
    "duration": 2776,
    "start_time": "2024-01-21T19:34:48.819Z"
   },
   {
    "duration": 3,
    "start_time": "2024-01-21T19:34:52.695Z"
   },
   {
    "duration": 5487,
    "start_time": "2024-01-21T19:34:54.893Z"
   },
   {
    "duration": 105,
    "start_time": "2024-01-21T19:35:32.136Z"
   },
   {
    "duration": 1801,
    "start_time": "2024-01-22T09:39:13.371Z"
   },
   {
    "duration": 3,
    "start_time": "2024-01-22T09:39:15.174Z"
   },
   {
    "duration": 2530,
    "start_time": "2024-01-22T09:39:15.178Z"
   },
   {
    "duration": 12,
    "start_time": "2024-01-22T09:39:17.710Z"
   },
   {
    "duration": 43,
    "start_time": "2024-01-22T09:39:17.725Z"
   },
   {
    "duration": 37,
    "start_time": "2024-01-22T09:39:17.770Z"
   },
   {
    "duration": 24,
    "start_time": "2024-01-22T09:39:17.809Z"
   },
   {
    "duration": 2793,
    "start_time": "2024-01-22T09:39:17.835Z"
   },
   {
    "duration": 4,
    "start_time": "2024-01-22T09:39:20.630Z"
   },
   {
    "duration": 1346,
    "start_time": "2024-01-22T09:39:20.636Z"
   },
   {
    "duration": 0,
    "start_time": "2024-01-22T09:39:21.984Z"
   },
   {
    "duration": 0,
    "start_time": "2024-01-22T09:39:21.985Z"
   },
   {
    "duration": 0,
    "start_time": "2024-01-22T09:39:21.987Z"
   },
   {
    "duration": 0,
    "start_time": "2024-01-22T09:39:21.988Z"
   },
   {
    "duration": 0,
    "start_time": "2024-01-22T09:39:21.989Z"
   },
   {
    "duration": 0,
    "start_time": "2024-01-22T09:39:21.990Z"
   },
   {
    "duration": 0,
    "start_time": "2024-01-22T09:39:21.991Z"
   },
   {
    "duration": 0,
    "start_time": "2024-01-22T09:39:21.993Z"
   },
   {
    "duration": 0,
    "start_time": "2024-01-22T09:39:21.994Z"
   },
   {
    "duration": 0,
    "start_time": "2024-01-22T09:39:21.995Z"
   },
   {
    "duration": 0,
    "start_time": "2024-01-22T09:39:21.996Z"
   },
   {
    "duration": 0,
    "start_time": "2024-01-22T09:39:21.999Z"
   },
   {
    "duration": 0,
    "start_time": "2024-01-22T09:39:22.000Z"
   },
   {
    "duration": 0,
    "start_time": "2024-01-22T09:39:22.001Z"
   },
   {
    "duration": 0,
    "start_time": "2024-01-22T09:39:22.003Z"
   },
   {
    "duration": 0,
    "start_time": "2024-01-22T09:39:22.005Z"
   },
   {
    "duration": 4,
    "start_time": "2024-01-22T09:41:40.702Z"
   },
   {
    "duration": 2,
    "start_time": "2024-01-22T09:41:41.361Z"
   },
   {
    "duration": 923,
    "start_time": "2024-01-22T09:41:41.528Z"
   },
   {
    "duration": 7,
    "start_time": "2024-01-22T09:41:42.453Z"
   },
   {
    "duration": 32,
    "start_time": "2024-01-22T09:41:43.160Z"
   },
   {
    "duration": 29,
    "start_time": "2024-01-22T09:41:43.490Z"
   },
   {
    "duration": 6,
    "start_time": "2024-01-22T09:41:45.100Z"
   },
   {
    "duration": 2802,
    "start_time": "2024-01-22T09:41:45.454Z"
   },
   {
    "duration": 4,
    "start_time": "2024-01-22T09:41:49.691Z"
   },
   {
    "duration": 3292,
    "start_time": "2024-01-22T09:41:52.169Z"
   },
   {
    "duration": 346,
    "start_time": "2024-01-22T09:44:00.182Z"
   },
   {
    "duration": 652,
    "start_time": "2024-01-22T09:44:53.827Z"
   },
   {
    "duration": 595,
    "start_time": "2024-01-22T09:44:57.484Z"
   },
   {
    "duration": 27,
    "start_time": "2024-01-22T09:45:22.588Z"
   },
   {
    "duration": 391,
    "start_time": "2024-01-22T09:45:24.602Z"
   },
   {
    "duration": 6,
    "start_time": "2024-01-22T09:46:10.720Z"
   },
   {
    "duration": 400,
    "start_time": "2024-01-22T09:46:16.950Z"
   },
   {
    "duration": 9,
    "start_time": "2024-01-22T09:48:49.570Z"
   },
   {
    "duration": 3,
    "start_time": "2024-01-22T09:48:49.825Z"
   },
   {
    "duration": 932,
    "start_time": "2024-01-22T09:48:49.983Z"
   },
   {
    "duration": 10,
    "start_time": "2024-01-22T09:48:50.918Z"
   },
   {
    "duration": 48,
    "start_time": "2024-01-22T09:48:50.930Z"
   },
   {
    "duration": 47,
    "start_time": "2024-01-22T09:48:50.980Z"
   },
   {
    "duration": 22,
    "start_time": "2024-01-22T09:48:51.030Z"
   },
   {
    "duration": 2774,
    "start_time": "2024-01-22T09:48:51.145Z"
   },
   {
    "duration": 4,
    "start_time": "2024-01-22T09:48:53.921Z"
   },
   {
    "duration": 4,
    "start_time": "2024-01-22T09:49:00.132Z"
   },
   {
    "duration": 10,
    "start_time": "2024-01-22T09:49:04.245Z"
   },
   {
    "duration": 445,
    "start_time": "2024-01-22T09:49:05.837Z"
   },
   {
    "duration": 5,
    "start_time": "2024-01-22T09:49:17.477Z"
   },
   {
    "duration": 5,
    "start_time": "2024-01-22T09:49:23.691Z"
   },
   {
    "duration": 387,
    "start_time": "2024-01-22T09:49:28.394Z"
   },
   {
    "duration": 4,
    "start_time": "2024-01-22T09:49:57.382Z"
   },
   {
    "duration": 4,
    "start_time": "2024-01-22T09:50:03.828Z"
   },
   {
    "duration": 1770,
    "start_time": "2024-01-22T09:59:09.111Z"
   },
   {
    "duration": 3,
    "start_time": "2024-01-22T09:59:10.882Z"
   },
   {
    "duration": 1107,
    "start_time": "2024-01-22T09:59:10.886Z"
   },
   {
    "duration": 12,
    "start_time": "2024-01-22T09:59:11.994Z"
   },
   {
    "duration": 49,
    "start_time": "2024-01-22T09:59:12.008Z"
   },
   {
    "duration": 31,
    "start_time": "2024-01-22T09:59:12.059Z"
   },
   {
    "duration": 9,
    "start_time": "2024-01-22T09:59:12.092Z"
   },
   {
    "duration": 3143,
    "start_time": "2024-01-22T09:59:12.102Z"
   },
   {
    "duration": 218,
    "start_time": "2024-01-22T09:59:15.247Z"
   },
   {
    "duration": 12,
    "start_time": "2024-01-22T09:59:15.467Z"
   },
   {
    "duration": 22,
    "start_time": "2024-01-22T09:59:15.481Z"
   },
   {
    "duration": 1651,
    "start_time": "2024-01-22T09:59:48.527Z"
   },
   {
    "duration": 3,
    "start_time": "2024-01-22T09:59:50.180Z"
   },
   {
    "duration": 1109,
    "start_time": "2024-01-22T09:59:50.184Z"
   },
   {
    "duration": 15,
    "start_time": "2024-01-22T09:59:51.295Z"
   },
   {
    "duration": 74,
    "start_time": "2024-01-22T09:59:51.331Z"
   },
   {
    "duration": 47,
    "start_time": "2024-01-22T09:59:51.406Z"
   },
   {
    "duration": 26,
    "start_time": "2024-01-22T09:59:51.456Z"
   },
   {
    "duration": 3063,
    "start_time": "2024-01-22T09:59:51.484Z"
   },
   {
    "duration": 152,
    "start_time": "2024-01-22T09:59:54.549Z"
   },
   {
    "duration": 10,
    "start_time": "2024-01-22T09:59:54.703Z"
   },
   {
    "duration": 93,
    "start_time": "2024-01-22T09:59:54.715Z"
   },
   {
    "duration": 7490,
    "start_time": "2024-01-22T09:59:54.810Z"
   },
   {
    "duration": 0,
    "start_time": "2024-01-22T10:00:02.302Z"
   },
   {
    "duration": 0,
    "start_time": "2024-01-22T10:00:02.303Z"
   },
   {
    "duration": 0,
    "start_time": "2024-01-22T10:00:02.304Z"
   },
   {
    "duration": 0,
    "start_time": "2024-01-22T10:00:02.306Z"
   },
   {
    "duration": 0,
    "start_time": "2024-01-22T10:00:02.307Z"
   },
   {
    "duration": 0,
    "start_time": "2024-01-22T10:00:02.308Z"
   },
   {
    "duration": 0,
    "start_time": "2024-01-22T10:00:02.309Z"
   },
   {
    "duration": 0,
    "start_time": "2024-01-22T10:00:02.311Z"
   },
   {
    "duration": 0,
    "start_time": "2024-01-22T10:00:02.312Z"
   },
   {
    "duration": 0,
    "start_time": "2024-01-22T10:00:02.313Z"
   },
   {
    "duration": 0,
    "start_time": "2024-01-22T10:00:02.314Z"
   },
   {
    "duration": 0,
    "start_time": "2024-01-22T10:00:02.315Z"
   },
   {
    "duration": 0,
    "start_time": "2024-01-22T10:00:02.316Z"
   },
   {
    "duration": 0,
    "start_time": "2024-01-22T10:00:02.317Z"
   },
   {
    "duration": 0,
    "start_time": "2024-01-22T10:00:02.318Z"
   },
   {
    "duration": 0,
    "start_time": "2024-01-22T10:00:02.319Z"
   },
   {
    "duration": 0,
    "start_time": "2024-01-22T10:00:02.320Z"
   },
   {
    "duration": 4,
    "start_time": "2024-01-22T10:00:10.404Z"
   },
   {
    "duration": 5,
    "start_time": "2024-01-22T10:00:11.430Z"
   },
   {
    "duration": 986,
    "start_time": "2024-01-22T10:00:11.564Z"
   },
   {
    "duration": 8,
    "start_time": "2024-01-22T10:00:12.552Z"
   },
   {
    "duration": 44,
    "start_time": "2024-01-22T10:00:12.562Z"
   },
   {
    "duration": 49,
    "start_time": "2024-01-22T10:00:12.608Z"
   },
   {
    "duration": 6,
    "start_time": "2024-01-22T10:00:12.667Z"
   },
   {
    "duration": 3084,
    "start_time": "2024-01-22T10:00:13.756Z"
   },
   {
    "duration": 5,
    "start_time": "2024-01-22T10:00:16.842Z"
   },
   {
    "duration": 8,
    "start_time": "2024-01-22T10:00:16.849Z"
   },
   {
    "duration": 4,
    "start_time": "2024-01-22T10:00:16.859Z"
   },
   {
    "duration": 126117,
    "start_time": "2024-01-22T10:00:19.172Z"
   },
   {
    "duration": 1250334,
    "start_time": "2024-01-22T10:02:27.068Z"
   },
   {
    "duration": 4,
    "start_time": "2024-01-22T10:43:08.934Z"
   },
   {
    "duration": 3,
    "start_time": "2024-01-22T10:43:09.436Z"
   },
   {
    "duration": 937,
    "start_time": "2024-01-22T10:43:09.988Z"
   },
   {
    "duration": 7,
    "start_time": "2024-01-22T10:43:10.927Z"
   },
   {
    "duration": 36,
    "start_time": "2024-01-22T10:43:10.936Z"
   },
   {
    "duration": 28,
    "start_time": "2024-01-22T10:43:12.625Z"
   },
   {
    "duration": 6,
    "start_time": "2024-01-22T10:43:12.899Z"
   },
   {
    "duration": 2811,
    "start_time": "2024-01-22T10:43:13.913Z"
   },
   {
    "duration": 5,
    "start_time": "2024-01-22T10:43:16.726Z"
   },
   {
    "duration": 5,
    "start_time": "2024-01-22T10:43:17.541Z"
   },
   {
    "duration": 4,
    "start_time": "2024-01-22T10:43:19.587Z"
   },
   {
    "duration": 1078140,
    "start_time": "2024-01-22T10:43:21.482Z"
   },
   {
    "duration": 0,
    "start_time": "2024-01-22T11:01:19.624Z"
   },
   {
    "duration": 245,
    "start_time": "2024-01-22T11:07:09.814Z"
   },
   {
    "duration": 9,
    "start_time": "2024-01-22T11:29:37.770Z"
   },
   {
    "duration": 2,
    "start_time": "2024-01-22T11:38:01.393Z"
   },
   {
    "duration": 965,
    "start_time": "2024-01-22T11:38:01.568Z"
   },
   {
    "duration": 8,
    "start_time": "2024-01-22T11:38:02.535Z"
   },
   {
    "duration": 33,
    "start_time": "2024-01-22T11:38:03.703Z"
   },
   {
    "duration": 28,
    "start_time": "2024-01-22T11:38:04.081Z"
   },
   {
    "duration": 7,
    "start_time": "2024-01-22T11:38:04.489Z"
   },
   {
    "duration": 2838,
    "start_time": "2024-01-22T11:38:07.480Z"
   },
   {
    "duration": 16,
    "start_time": "2024-01-22T11:38:19.046Z"
   },
   {
    "duration": 8,
    "start_time": "2024-01-22T11:38:54.955Z"
   },
   {
    "duration": 2972,
    "start_time": "2024-01-22T11:39:05.971Z"
   },
   {
    "duration": 394,
    "start_time": "2024-01-22T11:39:23.979Z"
   },
   {
    "duration": 2917,
    "start_time": "2024-01-22T11:39:58.800Z"
   },
   {
    "duration": 4,
    "start_time": "2024-01-22T11:40:07.403Z"
   },
   {
    "duration": 1203883,
    "start_time": "2024-01-22T11:40:11.189Z"
   },
   {
    "duration": 11,
    "start_time": "2024-01-22T12:02:30.328Z"
   },
   {
    "duration": 6,
    "start_time": "2024-01-22T12:02:31.094Z"
   },
   {
    "duration": 4,
    "start_time": "2024-01-22T12:02:31.242Z"
   },
   {
    "duration": 1332,
    "start_time": "2024-01-22T12:02:32.523Z"
   },
   {
    "duration": 0,
    "start_time": "2024-01-22T12:02:33.857Z"
   },
   {
    "duration": 0,
    "start_time": "2024-01-22T12:02:33.858Z"
   },
   {
    "duration": 0,
    "start_time": "2024-01-22T12:02:33.860Z"
   },
   {
    "duration": 0,
    "start_time": "2024-01-22T12:02:33.861Z"
   },
   {
    "duration": 0,
    "start_time": "2024-01-22T12:02:33.862Z"
   },
   {
    "duration": 0,
    "start_time": "2024-01-22T12:02:33.863Z"
   },
   {
    "duration": 0,
    "start_time": "2024-01-22T12:02:33.864Z"
   },
   {
    "duration": 9,
    "start_time": "2024-01-22T12:02:35.045Z"
   },
   {
    "duration": 14,
    "start_time": "2024-01-22T12:02:35.173Z"
   },
   {
    "duration": 5,
    "start_time": "2024-01-22T12:02:35.449Z"
   },
   {
    "duration": 10,
    "start_time": "2024-01-22T12:02:35.596Z"
   },
   {
    "duration": 9,
    "start_time": "2024-01-22T12:02:35.936Z"
   },
   {
    "duration": 1558,
    "start_time": "2024-01-22T12:04:31.514Z"
   },
   {
    "duration": 83,
    "start_time": "2024-01-22T12:04:53.239Z"
   },
   {
    "duration": 4,
    "start_time": "2024-01-22T12:04:55.769Z"
   },
   {
    "duration": 5,
    "start_time": "2024-01-22T12:04:56.122Z"
   },
   {
    "duration": 4,
    "start_time": "2024-01-22T12:04:57.388Z"
   },
   {
    "duration": 8311,
    "start_time": "2024-01-22T12:04:57.536Z"
   },
   {
    "duration": 3,
    "start_time": "2024-01-22T12:05:05.849Z"
   },
   {
    "duration": 5285081,
    "start_time": "2024-01-22T12:05:05.854Z"
   },
   {
    "duration": 4,
    "start_time": "2024-01-22T13:33:11.023Z"
   },
   {
    "duration": 21,
    "start_time": "2024-01-22T13:33:11.028Z"
   },
   {
    "duration": 4,
    "start_time": "2024-01-22T13:33:11.051Z"
   },
   {
    "duration": 11,
    "start_time": "2024-01-22T13:33:11.056Z"
   },
   {
    "duration": 128967,
    "start_time": "2024-01-22T13:33:11.068Z"
   },
   {
    "duration": 4,
    "start_time": "2024-01-22T13:35:20.036Z"
   },
   {
    "duration": 3,
    "start_time": "2024-01-22T13:37:25.278Z"
   },
   {
    "duration": 16,
    "start_time": "2024-01-22T13:37:28.671Z"
   },
   {
    "duration": 5,
    "start_time": "2024-01-22T13:37:29.038Z"
   },
   {
    "duration": 4,
    "start_time": "2024-01-22T13:37:31.101Z"
   },
   {
    "duration": 131853,
    "start_time": "2024-01-22T13:37:31.698Z"
   },
   {
    "duration": 4,
    "start_time": "2024-01-22T13:40:29.764Z"
   }
  ],
  "kernelspec": {
   "display_name": "Python 3 (ipykernel)",
   "language": "python",
   "name": "python3"
  },
  "language_info": {
   "codemirror_mode": {
    "name": "ipython",
    "version": 3
   },
   "file_extension": ".py",
   "mimetype": "text/x-python",
   "name": "python",
   "nbconvert_exporter": "python",
   "pygments_lexer": "ipython3",
   "version": "3.9.5"
  },
  "toc": {
   "base_numbering": 1,
   "nav_menu": {},
   "number_sections": true,
   "sideBar": true,
   "skip_h1_title": true,
   "title_cell": "Содержание",
   "title_sidebar": "Contents",
   "toc_cell": true,
   "toc_position": {
    "height": "calc(100% - 180px)",
    "left": "10px",
    "top": "150px",
    "width": "302.391px"
   },
   "toc_section_display": true,
   "toc_window_display": false
  }
 },
 "nbformat": 4,
 "nbformat_minor": 2
}
