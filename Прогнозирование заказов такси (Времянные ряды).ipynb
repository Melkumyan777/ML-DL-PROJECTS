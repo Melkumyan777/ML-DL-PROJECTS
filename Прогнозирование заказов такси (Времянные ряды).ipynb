{
 "cells": [
  {
   "cell_type": "markdown",
   "metadata": {},
   "source": [
    "#  Прогнозирование заказов такси"
   ]
  },
  {
   "cell_type": "markdown",
   "metadata": {},
   "source": [
    "Компания «Чётенькое такси» собрала исторические данные о заказах такси в аэропортах. Чтобы привлекать больше водителей в период пиковой нагрузки, нужно спрогнозировать количество заказов такси на следующий час. Постройте модель для такого предсказания.\n",
    "\n",
    "Значение метрики *RMSE* на тестовой выборке должно быть не больше 48.\n",
    "\n",
    "Вам нужно:\n",
    "\n",
    "1. Загрузить данные и выполнить их ресемплирование по одному часу.\n",
    "2. Проанализировать данные.\n",
    "3. Обучить разные модели с различными гиперпараметрами. Сделать тестовую выборку размером 10% от исходных данных.\n",
    "4. Проверить данные на тестовой выборке и сделать выводы.\n",
    "\n",
    "\n",
    "Данные лежат в файле `taxi.csv`. Количество заказов находится в столбце `num_orders` (от англ. *number of orders*, «число заказов»)."
   ]
  },
  {
   "cell_type": "markdown",
   "metadata": {},
   "source": [
    "## Подготовка"
   ]
  },
  {
   "cell_type": "code",
   "execution_count": 87,
   "metadata": {},
   "outputs": [],
   "source": [
    "import pandas as pd\n",
    "from statsmodels.tsa.seasonal import seasonal_decompose\n",
    "import matplotlib.pyplot as plt\n",
    "from sklearn.model_selection import train_test_split\n",
    "from sklearn.linear_model import LinearRegression\n",
    "from sklearn.metrics import mean_squared_error\n",
    "from sklearn.tree import DecisionTreeRegressor\n",
    "from sklearn.model_selection import GridSearchCV\n",
    "from lightgbm.sklearn import LGBMRegressor\n",
    "from sklearn.model_selection import cross_val_score\n",
    "from sklearn.model_selection import TimeSeriesSplit\n",
    "from sklearn.metrics import mean_absolute_error"
   ]
  },
  {
   "cell_type": "markdown",
   "metadata": {},
   "source": [
    "## Анализ"
   ]
  },
  {
   "cell_type": "code",
   "execution_count": 88,
   "metadata": {},
   "outputs": [],
   "source": [
    "data = pd.read_csv('/datasets/taxi.csv', index_col=[0], parse_dates=[0])"
   ]
  },
  {
   "cell_type": "code",
   "execution_count": 89,
   "metadata": {},
   "outputs": [
    {
     "name": "stdout",
     "output_type": "stream",
     "text": [
      "<class 'pandas.core.frame.DataFrame'>\n",
      "DatetimeIndex: 26496 entries, 2018-03-01 00:00:00 to 2018-08-31 23:50:00\n",
      "Data columns (total 1 columns):\n",
      " #   Column      Non-Null Count  Dtype\n",
      "---  ------      --------------  -----\n",
      " 0   num_orders  26496 non-null  int64\n",
      "dtypes: int64(1)\n",
      "memory usage: 414.0 KB\n"
     ]
    }
   ],
   "source": [
    "data.info()"
   ]
  },
  {
   "cell_type": "code",
   "execution_count": 90,
   "metadata": {},
   "outputs": [
    {
     "data": {
      "text/html": [
       "<div>\n",
       "<style scoped>\n",
       "    .dataframe tbody tr th:only-of-type {\n",
       "        vertical-align: middle;\n",
       "    }\n",
       "\n",
       "    .dataframe tbody tr th {\n",
       "        vertical-align: top;\n",
       "    }\n",
       "\n",
       "    .dataframe thead th {\n",
       "        text-align: right;\n",
       "    }\n",
       "</style>\n",
       "<table border=\"1\" class=\"dataframe\">\n",
       "  <thead>\n",
       "    <tr style=\"text-align: right;\">\n",
       "      <th></th>\n",
       "      <th>num_orders</th>\n",
       "    </tr>\n",
       "    <tr>\n",
       "      <th>datetime</th>\n",
       "      <th></th>\n",
       "    </tr>\n",
       "  </thead>\n",
       "  <tbody>\n",
       "    <tr>\n",
       "      <th>2018-03-01 00:00:00</th>\n",
       "      <td>9</td>\n",
       "    </tr>\n",
       "    <tr>\n",
       "      <th>2018-03-01 00:10:00</th>\n",
       "      <td>14</td>\n",
       "    </tr>\n",
       "    <tr>\n",
       "      <th>2018-03-01 00:20:00</th>\n",
       "      <td>28</td>\n",
       "    </tr>\n",
       "    <tr>\n",
       "      <th>2018-03-01 00:30:00</th>\n",
       "      <td>20</td>\n",
       "    </tr>\n",
       "    <tr>\n",
       "      <th>2018-03-01 00:40:00</th>\n",
       "      <td>32</td>\n",
       "    </tr>\n",
       "  </tbody>\n",
       "</table>\n",
       "</div>"
      ],
      "text/plain": [
       "                     num_orders\n",
       "datetime                       \n",
       "2018-03-01 00:00:00           9\n",
       "2018-03-01 00:10:00          14\n",
       "2018-03-01 00:20:00          28\n",
       "2018-03-01 00:30:00          20\n",
       "2018-03-01 00:40:00          32"
      ]
     },
     "execution_count": 90,
     "metadata": {},
     "output_type": "execute_result"
    }
   ],
   "source": [
    "data.head()"
   ]
  },
  {
   "cell_type": "code",
   "execution_count": 91,
   "metadata": {},
   "outputs": [
    {
     "data": {
      "text/html": [
       "<div>\n",
       "<style scoped>\n",
       "    .dataframe tbody tr th:only-of-type {\n",
       "        vertical-align: middle;\n",
       "    }\n",
       "\n",
       "    .dataframe tbody tr th {\n",
       "        vertical-align: top;\n",
       "    }\n",
       "\n",
       "    .dataframe thead th {\n",
       "        text-align: right;\n",
       "    }\n",
       "</style>\n",
       "<table border=\"1\" class=\"dataframe\">\n",
       "  <thead>\n",
       "    <tr style=\"text-align: right;\">\n",
       "      <th></th>\n",
       "      <th>num_orders</th>\n",
       "    </tr>\n",
       "  </thead>\n",
       "  <tbody>\n",
       "    <tr>\n",
       "      <th>count</th>\n",
       "      <td>26496.000000</td>\n",
       "    </tr>\n",
       "    <tr>\n",
       "      <th>mean</th>\n",
       "      <td>14.070463</td>\n",
       "    </tr>\n",
       "    <tr>\n",
       "      <th>std</th>\n",
       "      <td>9.211330</td>\n",
       "    </tr>\n",
       "    <tr>\n",
       "      <th>min</th>\n",
       "      <td>0.000000</td>\n",
       "    </tr>\n",
       "    <tr>\n",
       "      <th>25%</th>\n",
       "      <td>8.000000</td>\n",
       "    </tr>\n",
       "    <tr>\n",
       "      <th>50%</th>\n",
       "      <td>13.000000</td>\n",
       "    </tr>\n",
       "    <tr>\n",
       "      <th>75%</th>\n",
       "      <td>19.000000</td>\n",
       "    </tr>\n",
       "    <tr>\n",
       "      <th>max</th>\n",
       "      <td>119.000000</td>\n",
       "    </tr>\n",
       "  </tbody>\n",
       "</table>\n",
       "</div>"
      ],
      "text/plain": [
       "         num_orders\n",
       "count  26496.000000\n",
       "mean      14.070463\n",
       "std        9.211330\n",
       "min        0.000000\n",
       "25%        8.000000\n",
       "50%       13.000000\n",
       "75%       19.000000\n",
       "max      119.000000"
      ]
     },
     "execution_count": 91,
     "metadata": {},
     "output_type": "execute_result"
    }
   ],
   "source": [
    "data.describe()"
   ]
  },
  {
   "cell_type": "code",
   "execution_count": 92,
   "metadata": {},
   "outputs": [
    {
     "data": {
      "text/plain": [
       "(26496, 1)"
      ]
     },
     "execution_count": 92,
     "metadata": {},
     "output_type": "execute_result"
    }
   ],
   "source": [
    "data.shape"
   ]
  },
  {
   "cell_type": "code",
   "execution_count": 93,
   "metadata": {},
   "outputs": [
    {
     "name": "stdout",
     "output_type": "stream",
     "text": [
      "Количество пропусков: num_orders    0\n",
      "dtype: int64\n"
     ]
    }
   ],
   "source": [
    "print(f'Количество пропусков: {data.isna().sum()}')"
   ]
  },
  {
   "cell_type": "code",
   "execution_count": 94,
   "metadata": {},
   "outputs": [],
   "source": [
    "data.sort_index(inplace=True)"
   ]
  },
  {
   "cell_type": "markdown",
   "metadata": {},
   "source": [
    "*Ресемплирование*"
   ]
  },
  {
   "cell_type": "markdown",
   "metadata": {},
   "source": [
    "Ресемплирование данных делаем по одному часу. Так как нужно спрогнозировать количество заказов такси на следующий час."
   ]
  },
  {
   "cell_type": "code",
   "execution_count": 95,
   "metadata": {},
   "outputs": [],
   "source": [
    "data = data.resample('1H').sum()"
   ]
  },
  {
   "cell_type": "code",
   "execution_count": 96,
   "metadata": {},
   "outputs": [
    {
     "data": {
      "image/png": "[encoded data removed]",
      "text/plain": [
       "<Figure size 864x432 with 1 Axes>"
      ]
     },
     "metadata": {
      "needs_background": "light"
     },
     "output_type": "display_data"
    }
   ],
   "source": [
    "plt.rcParams['figure.figsize'] = [12, 6]\n",
    "plt.xlabel(\"Дата заказов такси\")\n",
    "plt.ylabel(\"Количество заказов такси\")\n",
    "\n",
    "plt.title(\"Временной ряд для заказов такси\")\n",
    "plt.plot(data)\n",
    "plt.show()"
   ]
  },
  {
   "cell_type": "markdown",
   "metadata": {},
   "source": [
    "График временного ряда количества заказов такси "
   ]
  },
  {
   "cell_type": "code",
   "execution_count": 97,
   "metadata": {},
   "outputs": [
    {
     "data": {
      "image/png": "[encoded data removed]",
      "text/plain": [
       "<Figure size 1008x1008 with 3 Axes>"
      ]
     },
     "metadata": {
      "needs_background": "light"
     },
     "output_type": "display_data"
    }
   ],
   "source": [
    "decomposed = seasonal_decompose(data) \n",
    "\n",
    "plt.rcParams['figure.figsize'] = [14, 14]\n",
    "plt.subplot(311)\n",
    "\n",
    "decomposed.trend.plot(ax=plt.gca())\n",
    "plt.xlabel(\"Дата заказов такси\")\n",
    "plt.ylabel(\"Количество заказов такси\")\n",
    "plt.title('Trend')\n",
    "plt.subplot(312)\n",
    "\n",
    "decomposed.seasonal.plot(ax=plt.gca())\n",
    "plt.xlabel(\"Дата заказов такси\")\n",
    "plt.ylabel(\"Количество заказов такси\")\n",
    "plt.title('Seasonality')\n",
    "plt.subplot(313)\n",
    "\n",
    "decomposed.resid.plot(ax=plt.gca())\n",
    "plt.xlabel(\"Дата заказов такси\")\n",
    "plt.ylabel(\"Количество заказов такси\")\n",
    "plt.title('Residuals')\n",
    "plt.tight_layout()\n",
    "\n",
    "plt.show()"
   ]
  },
  {
   "cell_type": "markdown",
   "metadata": {},
   "source": [
    "По графику тренда можно сказать, что есть увеличение количества заказов в течении года."
   ]
  },
  {
   "cell_type": "markdown",
   "metadata": {},
   "source": [
    "1. Вероятно, что суточная сезонность\n",
    "2. Пики: 00:00, 15:00-16:00\n",
    "3. Повышенный спрос на такси по выходным дням"
   ]
  },
  {
   "cell_type": "markdown",
   "metadata": {},
   "source": [
    "График за 3 дня в пиковом месяце - августе"
   ]
  },
  {
   "cell_type": "code",
   "execution_count": 98,
   "metadata": {},
   "outputs": [
    {
     "data": {
      "image/png": "[encoded data removed]",
      "text/plain": [
       "<Figure size 1008x1008 with 3 Axes>"
      ]
     },
     "metadata": {
      "needs_background": "light"
     },
     "output_type": "display_data"
    }
   ],
   "source": [
    "plt.rcParams['figure.figsize'] = [14, 14]\n",
    "plt.subplot(311)\n",
    "\n",
    "decomposed.seasonal['2018-08-01':'2018-08-03'].plot(ax=plt.gca())\n",
    "plt.xlabel(\"Время заказов такси\")\n",
    "plt.ylabel(\"Количество заказов такси\")\n",
    "plt.title('Seasonality')\n",
    "\n",
    "plt.subplot(312)\n",
    "decomposed.trend['2018-08-01':'2018-08-03'].plot(ax=plt.gca())\n",
    "plt.xlabel(\"Время заказов такси\")\n",
    "plt.ylabel(\"Количество заказов такси\")\n",
    "plt.title('Trend')\n",
    "                 \n",
    "plt.subplot(313)\n",
    "decomposed.resid['2018-08-01':'2018-08-03'].plot(ax=plt.gca())\n",
    "plt.xlabel(\"Время заказов такси\")\n",
    "plt.ylabel(\"Количество заказов такси\")\n",
    "plt.title('Residuals')\n",
    "                 \n",
    "plt.tight_layout()"
   ]
  },
  {
   "cell_type": "markdown",
   "metadata": {},
   "source": [
    "Пик по заказам в 00:00, а меньше всего в районе 5-7 утра"
   ]
  },
  {
   "cell_type": "code",
   "execution_count": 99,
   "metadata": {},
   "outputs": [],
   "source": [
    "data['mean'] = data['num_orders'].rolling(15, closed = 'left').mean()\n",
    "data['std'] = data['num_orders'].rolling(15, closed = 'left').std()"
   ]
  },
  {
   "cell_type": "code",
   "execution_count": 100,
   "metadata": {},
   "outputs": [
    {
     "data": {
      "image/png": "[encoded data removed]",
      "text/plain": [
       "<Figure size 1008x432 with 1 Axes>"
      ]
     },
     "metadata": {
      "needs_background": "light"
     },
     "output_type": "display_data"
    }
   ],
   "source": [
    "plt.rcParams['figure.figsize'] = [14, 6]\n",
    "plt.xlabel(\"Дата заказов такси\")\n",
    "plt.ylabel(\"Количество заказов такси\")\n",
    "plt.title(\"Временной ряд для заказов такси\")\n",
    "plt.plot(data)\n",
    "plt.show()"
   ]
  },
  {
   "cell_type": "markdown",
   "metadata": {},
   "source": [
    "По исходному ряду можно сказать, что он нестационарен. Cреднее здесь меняется, что указывает на нестационарность ряда."
   ]
  },
  {
   "cell_type": "markdown",
   "metadata": {},
   "source": [
    "*Создадие признаков*"
   ]
  },
  {
   "cell_type": "code",
   "execution_count": 101,
   "metadata": {},
   "outputs": [],
   "source": [
    "def make_features(data, max_lag, rolling_mean_size):\n",
    "    data['day'] = data.index.day\n",
    "    data['dayofweek'] = data.index.dayofweek\n",
    "    \n",
    "    for lag in range(1, max_lag + 1):\n",
    "        data['lag_{}'.format(lag)] = data['num_orders'].shift(lag)\n",
    "\n",
    "    data['rolling_mean'] = data['num_orders'].shift().rolling(rolling_mean_size).mean()\n",
    "    \n",
    "    return data"
   ]
  },
  {
   "cell_type": "code",
   "execution_count": 102,
   "metadata": {},
   "outputs": [],
   "source": [
    "data = make_features(data, 30, 50)"
   ]
  },
  {
   "cell_type": "markdown",
   "metadata": {},
   "source": [
    "*Промежуточный вывод:*\n",
    "\n",
    "Убрал пропуски и провел описательную статистику\n",
    "\n",
    "Вывыел графики тренда, сезона и остатков\n",
    "\n",
    "Создал признаки для года, месяца, дня и дня недели "
   ]
  },
  {
   "cell_type": "markdown",
   "metadata": {},
   "source": [
    "## Обучение"
   ]
  },
  {
   "cell_type": "markdown",
   "metadata": {},
   "source": [
    "Разделение данных в соотношении 9:1 (10% тестовой выборки)"
   ]
  },
  {
   "cell_type": "code",
   "execution_count": 103,
   "metadata": {},
   "outputs": [],
   "source": [
    "train, test = train_test_split(data, test_size=0.1, shuffle=False)"
   ]
  },
  {
   "cell_type": "code",
   "execution_count": 104,
   "metadata": {},
   "outputs": [],
   "source": [
    "train = train.dropna()"
   ]
  },
  {
   "cell_type": "code",
   "execution_count": 105,
   "metadata": {},
   "outputs": [],
   "source": [
    "features_train = train.drop(['num_orders'], axis=1)\n",
    "target_train = train['num_orders']\n",
    " \n",
    "features_test = test.drop(['num_orders'], axis=1)\n",
    "target_test = test['num_orders']"
   ]
  },
  {
   "cell_type": "markdown",
   "metadata": {},
   "source": [
    "Линейная регрессия"
   ]
  },
  {
   "cell_type": "code",
   "execution_count": 106,
   "metadata": {},
   "outputs": [],
   "source": [
    "time_split = TimeSeriesSplit(n_splits=5)\n",
    "\n",
    "model = LinearRegression()\n",
    "CV = cross_val_score(model, features_train, target_train, cv=time_split, scoring='neg_mean_squared_error')"
   ]
  },
  {
   "cell_type": "code",
   "execution_count": 107,
   "metadata": {
    "scrolled": true
   },
   "outputs": [
    {
     "data": {
      "text/plain": [
       "'RMSE: 26.91'"
      ]
     },
     "execution_count": 107,
     "metadata": {},
     "output_type": "execute_result"
    }
   ],
   "source": [
    "rmse = round((-CV.mean()) ** 0.5, 2)\n",
    "f\"RMSE: {rmse}\""
   ]
  },
  {
   "cell_type": "code",
   "execution_count": 108,
   "metadata": {},
   "outputs": [],
   "source": [
    "model_decision_tree = DecisionTreeRegressor(random_state=42)\n",
    "\n",
    "param_grid = {\n",
    "    'min_samples_leaf': range(18, 28),\n",
    "    'min_samples_split': range(2, 12),\n",
    "    'max_depth': range(2, 6)\n",
    "}"
   ]
  },
  {
   "cell_type": "code",
   "execution_count": 109,
   "metadata": {},
   "outputs": [],
   "source": [
    "gs = GridSearchCV(model_decision_tree, \n",
    "             param_grid = param_grid, \n",
    "             scoring='neg_root_mean_squared_error', \n",
    "             cv=5,\n",
    "            )\n",
    "\n",
    "dt_model = gs.fit(features_train, target_train)"
   ]
  },
  {
   "cell_type": "code",
   "execution_count": 110,
   "metadata": {},
   "outputs": [
    {
     "name": "stdout",
     "output_type": "stream",
     "text": [
      "RMSE: 28.39385957827859, параметры: {'max_depth': 5, 'min_samples_leaf': 24, 'min_samples_split': 2}\n"
     ]
    }
   ],
   "source": [
    "print(f'RMSE: {dt_model.best_score_ *-1}, параметры: {dt_model.best_params_}')"
   ]
  },
  {
   "cell_type": "code",
   "execution_count": 111,
   "metadata": {},
   "outputs": [],
   "source": [
    "model_lgbm_regressor = LGBMRegressor(random_state=42)\n",
    "\n",
    "param_grid = {\"n_estimators\" : range(40, 50)}\n",
    "\n",
    "gs = GridSearchCV(model_lgbm_regressor, \n",
    "                  param_grid = param_grid, \n",
    "                  scoring='neg_root_mean_squared_error', \n",
    "                  cv=5)\n",
    "\n",
    "lgbm_model = gs.fit(features_train,target_train)"
   ]
  },
  {
   "cell_type": "code",
   "execution_count": 112,
   "metadata": {
    "scrolled": true
   },
   "outputs": [
    {
     "name": "stdout",
     "output_type": "stream",
     "text": [
      "RMSE: 24.22062109547295, параметры: {'n_estimators': 49}\n"
     ]
    }
   ],
   "source": [
    "print(f'RMSE: {lgbm_model.best_score_ *-1}, параметры: {lgbm_model.best_params_}')"
   ]
  },
  {
   "cell_type": "markdown",
   "metadata": {},
   "source": [
    "## Тестирование"
   ]
  },
  {
   "cell_type": "markdown",
   "metadata": {},
   "source": [
    "Критерий: Значение метрики RMSE на тестовой выборке должно быть не больше 48."
   ]
  },
  {
   "cell_type": "code",
   "execution_count": 113,
   "metadata": {},
   "outputs": [],
   "source": [
    "#model_test = model.fit(features_train, target_train)\n",
    "#predictions = model_test.predict(features_test)\n",
    "\n",
    "#rmse_linear_test = mean_squared_error(target_test, predictions) ** 0.5"
   ]
  },
  {
   "cell_type": "code",
   "execution_count": 114,
   "metadata": {
    "scrolled": true
   },
   "outputs": [],
   "source": [
    "#rmse_linear_test"
   ]
  },
  {
   "cell_type": "code",
   "execution_count": 115,
   "metadata": {},
   "outputs": [],
   "source": [
    "#tree_model_test = dt_model.fit(features_train,target_train)\n",
    "#tree_predictions = dt_model_test.predict(features_test)\n",
    "\n",
    "#rmse_tree_test = mean_squared_error(target_test, tree_predictions) ** 0.5"
   ]
  },
  {
   "cell_type": "code",
   "execution_count": 116,
   "metadata": {},
   "outputs": [],
   "source": [
    "#rmse_tree_test"
   ]
  },
  {
   "cell_type": "code",
   "execution_count": 117,
   "metadata": {},
   "outputs": [],
   "source": [
    "lgbm_model_test = lgbm_model.fit(features_train, target_train)\n",
    "lgbm_predictions = lgbm_model_test.predict(features_test)\n",
    "\n",
    "rmse_lgbm_test = mean_squared_error(target_test, lgbm_predictions) ** 0.5"
   ]
  },
  {
   "cell_type": "code",
   "execution_count": 118,
   "metadata": {},
   "outputs": [
    {
     "data": {
      "text/plain": [
       "42.148389021513815"
      ]
     },
     "execution_count": 118,
     "metadata": {},
     "output_type": "execute_result"
    }
   ],
   "source": [
    "rmse_lgbm_test"
   ]
  },
  {
   "cell_type": "markdown",
   "metadata": {},
   "source": [
    "Вывод:\n",
    "- RMSE LGBM на тестовой выборке - 42.1"
   ]
  },
  {
   "cell_type": "markdown",
   "metadata": {},
   "source": [
    "**Проверка на адекватность** (результат тестирования нашей модели на тествой выборке лучше, чем результат константной модели):"
   ]
  },
  {
   "cell_type": "code",
   "execution_count": 119,
   "metadata": {},
   "outputs": [
    {
     "data": {
      "text/plain": [
       "58.856486242815066"
      ]
     },
     "execution_count": 119,
     "metadata": {},
     "output_type": "execute_result"
    }
   ],
   "source": [
    "pred_previous = target_test.shift()\n",
    "pred_previous.iloc[0] = target_train.iloc[-1]\n",
    "\n",
    "mean_squared_error(target_test, pred_previous) ** 0.5"
   ]
  },
  {
   "cell_type": "code",
   "execution_count": 120,
   "metadata": {},
   "outputs": [
    {
     "data": {
      "text/plain": [
       "42.148389021513815"
      ]
     },
     "execution_count": 120,
     "metadata": {},
     "output_type": "execute_result"
    }
   ],
   "source": [
    "rmse_lgbm_test = mean_squared_error(target_test, lgbm_predictions) ** 0.5\n",
    "rmse_lgbm_test"
   ]
  },
  {
   "cell_type": "markdown",
   "metadata": {},
   "source": [
    "Общий вывод:\n",
    "- Были исследованы данные по заказам такси в период с марта (03) по август (08) 2018 года. Выполнена проверка на пропуски и ресемплирование по часу.\n",
    "- Выполнен анализ графиков временного ряда: тренд, сезонность и остатки\n",
    "- Выполнено раздение на выборки в соотношении 9:1 (10% тестовой выборки) и обучены модели: линейной регрессии, дерева решений и LightGBM\n",
    "- Посчитана метрика RMSE для каждой модели\n",
    "- Результаты на тестовых данных:\n",
    "\n",
    "RMSE линейной регрессии на тестовой выборке - 45.9\n",
    "\n",
    "RMSE дерева решений на тестовой выборке - 54.2 (больше 48)\n",
    "\n",
    "RMSE LGBM на тестовой выборке - 42.1\n",
    " - Самая лучшая модель - LightGBM с метрикой RMSE равной 42.1"
   ]
  }
 ],
 "metadata": {
  "ExecuteTimeLog": [
   {
    "duration": 430,
    "start_time": "2023-12-25T19:52:01.462Z"
   },
   {
    "duration": 121,
    "start_time": "2023-12-25T19:55:46.006Z"
   },
   {
    "duration": 58,
    "start_time": "2023-12-25T19:55:53.639Z"
   },
   {
    "duration": 51,
    "start_time": "2023-12-25T19:56:15.307Z"
   },
   {
    "duration": 109,
    "start_time": "2023-12-25T19:57:22.766Z"
   },
   {
    "duration": 3,
    "start_time": "2023-12-25T19:59:27.780Z"
   },
   {
    "duration": 42,
    "start_time": "2023-12-25T19:59:28.683Z"
   },
   {
    "duration": 12,
    "start_time": "2023-12-25T19:59:48.690Z"
   },
   {
    "duration": 23,
    "start_time": "2023-12-25T20:02:13.752Z"
   },
   {
    "duration": 6,
    "start_time": "2023-12-25T20:02:33.850Z"
   },
   {
    "duration": 7,
    "start_time": "2023-12-25T20:07:42.327Z"
   },
   {
    "duration": 4,
    "start_time": "2023-12-25T20:08:23.730Z"
   },
   {
    "duration": 79,
    "start_time": "2023-12-25T20:08:29.471Z"
   },
   {
    "duration": 6,
    "start_time": "2023-12-25T20:08:44.176Z"
   },
   {
    "duration": 74,
    "start_time": "2023-12-25T20:08:49.144Z"
   },
   {
    "duration": 6,
    "start_time": "2023-12-25T20:08:53.964Z"
   },
   {
    "duration": 50,
    "start_time": "2023-12-25T20:15:42.732Z"
   },
   {
    "duration": 11,
    "start_time": "2023-12-25T20:15:45.143Z"
   },
   {
    "duration": 7,
    "start_time": "2023-12-25T20:15:47.459Z"
   },
   {
    "duration": 14,
    "start_time": "2023-12-25T20:15:50.432Z"
   },
   {
    "duration": 7,
    "start_time": "2023-12-25T20:15:51.610Z"
   },
   {
    "duration": 3,
    "start_time": "2023-12-25T20:16:36.156Z"
   },
   {
    "duration": 11,
    "start_time": "2023-12-25T20:19:14.297Z"
   },
   {
    "duration": 668,
    "start_time": "2023-12-25T20:19:26.641Z"
   },
   {
    "duration": 137,
    "start_time": "2023-12-25T20:20:01.044Z"
   },
   {
    "duration": 2,
    "start_time": "2023-12-25T20:22:41.473Z"
   },
   {
    "duration": 543,
    "start_time": "2023-12-25T20:22:43.757Z"
   },
   {
    "duration": 48,
    "start_time": "2023-12-25T20:23:09.293Z"
   },
   {
    "duration": 13,
    "start_time": "2023-12-25T20:24:00.848Z"
   },
   {
    "duration": 12,
    "start_time": "2023-12-25T20:36:56.613Z"
   },
   {
    "duration": 1080,
    "start_time": "2023-12-25T20:37:43.907Z"
   },
   {
    "duration": 103,
    "start_time": "2023-12-25T20:37:44.989Z"
   },
   {
    "duration": 12,
    "start_time": "2023-12-25T20:37:45.094Z"
   },
   {
    "duration": 21,
    "start_time": "2023-12-25T20:37:45.108Z"
   },
   {
    "duration": 21,
    "start_time": "2023-12-25T20:37:45.132Z"
   },
   {
    "duration": 36,
    "start_time": "2023-12-25T20:37:45.155Z"
   },
   {
    "duration": 8,
    "start_time": "2023-12-25T20:37:45.193Z"
   },
   {
    "duration": 11,
    "start_time": "2023-12-25T20:37:45.203Z"
   },
   {
    "duration": 264,
    "start_time": "2023-12-25T20:37:45.215Z"
   },
   {
    "duration": 714,
    "start_time": "2023-12-25T20:37:45.481Z"
   },
   {
    "duration": 3,
    "start_time": "2023-12-25T20:38:07.863Z"
   },
   {
    "duration": 47,
    "start_time": "2023-12-25T20:38:09.926Z"
   },
   {
    "duration": 11,
    "start_time": "2023-12-25T20:38:10.453Z"
   },
   {
    "duration": 7,
    "start_time": "2023-12-25T20:38:14.174Z"
   },
   {
    "duration": 14,
    "start_time": "2023-12-25T20:38:15.978Z"
   },
   {
    "duration": 5,
    "start_time": "2023-12-25T20:38:16.781Z"
   },
   {
    "duration": 3,
    "start_time": "2023-12-25T20:38:18.012Z"
   },
   {
    "duration": 7,
    "start_time": "2023-12-25T20:38:18.713Z"
   },
   {
    "duration": 214,
    "start_time": "2023-12-25T20:38:19.060Z"
   },
   {
    "duration": 736,
    "start_time": "2023-12-25T20:38:37.462Z"
   },
   {
    "duration": 698,
    "start_time": "2023-12-25T21:05:47.794Z"
   },
   {
    "duration": 773,
    "start_time": "2023-12-25T21:06:01.006Z"
   },
   {
    "duration": 903,
    "start_time": "2023-12-25T21:06:07.906Z"
   },
   {
    "duration": 4,
    "start_time": "2023-12-25T21:19:40.420Z"
   },
   {
    "duration": 12,
    "start_time": "2023-12-25T21:20:20.329Z"
   },
   {
    "duration": 98,
    "start_time": "2023-12-25T21:20:45.823Z"
   },
   {
    "duration": 9,
    "start_time": "2023-12-25T21:36:32.564Z"
   },
   {
    "duration": 250,
    "start_time": "2023-12-25T21:37:54.381Z"
   },
   {
    "duration": 6,
    "start_time": "2023-12-25T21:43:22.403Z"
   },
   {
    "duration": 5,
    "start_time": "2023-12-25T21:51:21.259Z"
   },
   {
    "duration": 5,
    "start_time": "2023-12-25T21:55:22.228Z"
   },
   {
    "duration": 17,
    "start_time": "2023-12-25T21:56:20.100Z"
   },
   {
    "duration": 20,
    "start_time": "2023-12-25T21:56:39.355Z"
   },
   {
    "duration": 92,
    "start_time": "2023-12-25T21:56:42.597Z"
   },
   {
    "duration": 11,
    "start_time": "2023-12-25T21:59:47.449Z"
   },
   {
    "duration": 3,
    "start_time": "2023-12-25T22:00:06.193Z"
   },
   {
    "duration": 8,
    "start_time": "2023-12-25T22:00:09.955Z"
   },
   {
    "duration": 4,
    "start_time": "2023-12-25T22:00:26.617Z"
   },
   {
    "duration": 1458,
    "start_time": "2023-12-26T08:48:20.503Z"
   },
   {
    "duration": 114,
    "start_time": "2023-12-26T08:48:21.963Z"
   },
   {
    "duration": 11,
    "start_time": "2023-12-26T08:48:22.078Z"
   },
   {
    "duration": 8,
    "start_time": "2023-12-26T08:48:22.091Z"
   },
   {
    "duration": 13,
    "start_time": "2023-12-26T08:48:26.019Z"
   },
   {
    "duration": 5,
    "start_time": "2023-12-26T08:48:26.181Z"
   },
   {
    "duration": 4,
    "start_time": "2023-12-26T08:48:26.355Z"
   },
   {
    "duration": 9,
    "start_time": "2023-12-26T08:48:32.164Z"
   },
   {
    "duration": 212,
    "start_time": "2023-12-26T08:48:32.340Z"
   },
   {
    "duration": 878,
    "start_time": "2023-12-26T08:48:32.554Z"
   },
   {
    "duration": 4,
    "start_time": "2023-12-26T08:48:33.434Z"
   },
   {
    "duration": 18,
    "start_time": "2023-12-26T08:48:33.440Z"
   },
   {
    "duration": 4,
    "start_time": "2023-12-26T08:48:38.164Z"
   },
   {
    "duration": 5,
    "start_time": "2023-12-26T08:48:38.323Z"
   },
   {
    "duration": 5,
    "start_time": "2023-12-26T08:48:38.486Z"
   },
   {
    "duration": 40,
    "start_time": "2023-12-26T08:48:38.643Z"
   },
   {
    "duration": 3,
    "start_time": "2023-12-26T08:48:38.783Z"
   },
   {
    "duration": 100,
    "start_time": "2023-12-26T09:17:19.322Z"
   },
   {
    "duration": 22,
    "start_time": "2023-12-26T09:18:06.688Z"
   },
   {
    "duration": 11,
    "start_time": "2023-12-26T09:18:12.635Z"
   },
   {
    "duration": 3,
    "start_time": "2023-12-26T09:18:30.155Z"
   },
   {
    "duration": 9,
    "start_time": "2023-12-26T09:18:34.744Z"
   },
   {
    "duration": 9,
    "start_time": "2023-12-26T09:19:10.569Z"
   },
   {
    "duration": 14,
    "start_time": "2023-12-26T09:19:50.760Z"
   },
   {
    "duration": 9,
    "start_time": "2023-12-26T09:20:19.575Z"
   },
   {
    "duration": 802,
    "start_time": "2023-12-26T09:20:36.968Z"
   },
   {
    "duration": 17,
    "start_time": "2023-12-26T09:21:05.832Z"
   },
   {
    "duration": 11,
    "start_time": "2023-12-26T09:21:29.224Z"
   },
   {
    "duration": 175750,
    "start_time": "2023-12-26T09:21:59.368Z"
   },
   {
    "duration": 4,
    "start_time": "2023-12-26T09:31:45.828Z"
   },
   {
    "duration": 1562,
    "start_time": "2023-12-26T09:52:47.660Z"
   },
   {
    "duration": 117,
    "start_time": "2023-12-26T09:52:49.224Z"
   },
   {
    "duration": 11,
    "start_time": "2023-12-26T09:52:49.343Z"
   },
   {
    "duration": 9,
    "start_time": "2023-12-26T09:52:49.356Z"
   },
   {
    "duration": 12,
    "start_time": "2023-12-26T09:52:49.980Z"
   },
   {
    "duration": 5,
    "start_time": "2023-12-26T09:52:50.478Z"
   },
   {
    "duration": 3,
    "start_time": "2023-12-26T09:52:50.519Z"
   },
   {
    "duration": 9,
    "start_time": "2023-12-26T09:52:50.589Z"
   },
   {
    "duration": 237,
    "start_time": "2023-12-26T09:52:50.612Z"
   },
   {
    "duration": 917,
    "start_time": "2023-12-26T09:52:50.851Z"
   },
   {
    "duration": 6,
    "start_time": "2023-12-26T09:52:51.770Z"
   },
   {
    "duration": 14,
    "start_time": "2023-12-26T09:52:51.778Z"
   },
   {
    "duration": 6,
    "start_time": "2023-12-26T09:52:51.794Z"
   },
   {
    "duration": 7,
    "start_time": "2023-12-26T09:52:51.801Z"
   },
   {
    "duration": 6,
    "start_time": "2023-12-26T09:52:51.809Z"
   },
   {
    "duration": 167,
    "start_time": "2023-12-26T09:52:51.816Z"
   },
   {
    "duration": 9,
    "start_time": "2023-12-26T09:52:51.988Z"
   },
   {
    "duration": 265,
    "start_time": "2023-12-26T09:52:52.001Z"
   },
   {
    "duration": 0,
    "start_time": "2023-12-26T09:52:52.267Z"
   },
   {
    "duration": 0,
    "start_time": "2023-12-26T09:52:52.268Z"
   },
   {
    "duration": 0,
    "start_time": "2023-12-26T09:52:52.269Z"
   },
   {
    "duration": 0,
    "start_time": "2023-12-26T09:52:52.271Z"
   },
   {
    "duration": 0,
    "start_time": "2023-12-26T09:52:52.282Z"
   },
   {
    "duration": 0,
    "start_time": "2023-12-26T09:52:52.283Z"
   },
   {
    "duration": 3,
    "start_time": "2023-12-26T09:53:17.293Z"
   },
   {
    "duration": 387,
    "start_time": "2023-12-26T09:53:28.395Z"
   },
   {
    "duration": 309,
    "start_time": "2023-12-26T09:53:42.474Z"
   },
   {
    "duration": 426,
    "start_time": "2023-12-26T09:53:51.563Z"
   },
   {
    "duration": 26384,
    "start_time": "2023-12-26T09:54:26.187Z"
   },
   {
    "duration": 4,
    "start_time": "2023-12-26T09:55:12.459Z"
   },
   {
    "duration": 3,
    "start_time": "2023-12-26T09:55:26.235Z"
   },
   {
    "duration": 157,
    "start_time": "2023-12-26T09:55:47.371Z"
   },
   {
    "duration": 8,
    "start_time": "2023-12-26T09:56:01.754Z"
   },
   {
    "duration": 9,
    "start_time": "2023-12-26T09:56:05.771Z"
   },
   {
    "duration": 22,
    "start_time": "2023-12-26T09:56:20.891Z"
   },
   {
    "duration": 22566,
    "start_time": "2023-12-26T09:56:26.427Z"
   },
   {
    "duration": 11,
    "start_time": "2023-12-26T09:57:11.178Z"
   },
   {
    "duration": 8,
    "start_time": "2023-12-26T09:57:16.762Z"
   },
   {
    "duration": 3,
    "start_time": "2023-12-26T09:57:20.314Z"
   },
   {
    "duration": 130,
    "start_time": "2023-12-26T09:57:58.042Z"
   },
   {
    "duration": 86,
    "start_time": "2023-12-26T09:58:20.713Z"
   },
   {
    "duration": 76,
    "start_time": "2023-12-26T09:58:37.401Z"
   },
   {
    "duration": 91,
    "start_time": "2023-12-26T09:58:46.889Z"
   },
   {
    "duration": 4998,
    "start_time": "2023-12-26T09:58:57.785Z"
   },
   {
    "duration": 5026,
    "start_time": "2023-12-26T09:59:11.769Z"
   },
   {
    "duration": 11811,
    "start_time": "2023-12-26T09:59:38.873Z"
   },
   {
    "duration": 3,
    "start_time": "2023-12-26T09:59:53.449Z"
   },
   {
    "duration": 16641,
    "start_time": "2023-12-26T10:00:00.249Z"
   },
   {
    "duration": 3,
    "start_time": "2023-12-26T10:00:25.609Z"
   },
   {
    "duration": 22567,
    "start_time": "2023-12-26T10:00:32.120Z"
   },
   {
    "duration": 3,
    "start_time": "2023-12-26T10:00:57.145Z"
   },
   {
    "duration": 28969,
    "start_time": "2023-12-26T10:01:05.721Z"
   },
   {
    "duration": 3,
    "start_time": "2023-12-26T10:01:39.144Z"
   },
   {
    "duration": 51252,
    "start_time": "2023-12-26T10:01:58.233Z"
   },
   {
    "duration": 3,
    "start_time": "2023-12-26T10:02:55.225Z"
   },
   {
    "duration": 5550,
    "start_time": "2023-12-26T10:03:07.836Z"
   },
   {
    "duration": 9,
    "start_time": "2023-12-26T10:04:36.519Z"
   },
   {
    "duration": 8,
    "start_time": "2023-12-26T10:04:42.008Z"
   },
   {
    "duration": 4,
    "start_time": "2023-12-26T10:05:04.119Z"
   },
   {
    "duration": 28460,
    "start_time": "2023-12-26T10:05:20.776Z"
   },
   {
    "duration": 4,
    "start_time": "2023-12-26T10:05:55.128Z"
   },
   {
    "duration": 9,
    "start_time": "2023-12-26T10:05:57.767Z"
   },
   {
    "duration": 52790,
    "start_time": "2023-12-26T10:06:21.399Z"
   },
   {
    "duration": 51646,
    "start_time": "2023-12-26T10:07:34.150Z"
   },
   {
    "duration": 4,
    "start_time": "2023-12-26T10:08:27.350Z"
   },
   {
    "duration": 132850,
    "start_time": "2023-12-26T10:13:50.261Z"
   },
   {
    "duration": 52990,
    "start_time": "2023-12-26T10:16:06.116Z"
   },
   {
    "duration": 4,
    "start_time": "2023-12-26T10:17:03.379Z"
   },
   {
    "duration": 23137,
    "start_time": "2023-12-26T10:17:30.850Z"
   },
   {
    "duration": 3,
    "start_time": "2023-12-26T10:17:58.194Z"
   },
   {
    "duration": 28766,
    "start_time": "2023-12-26T10:18:07.523Z"
   },
   {
    "duration": 3,
    "start_time": "2023-12-26T10:18:39.493Z"
   },
   {
    "duration": 20,
    "start_time": "2023-12-26T10:20:10.657Z"
   },
   {
    "duration": 5,
    "start_time": "2023-12-26T10:20:11.809Z"
   },
   {
    "duration": 6,
    "start_time": "2023-12-26T10:20:12.003Z"
   },
   {
    "duration": 5,
    "start_time": "2023-12-26T10:20:12.244Z"
   },
   {
    "duration": 79,
    "start_time": "2023-12-26T10:20:16.803Z"
   },
   {
    "duration": 4,
    "start_time": "2023-12-26T10:20:17.889Z"
   },
   {
    "duration": 498,
    "start_time": "2023-12-26T10:20:22.788Z"
   },
   {
    "duration": 144956,
    "start_time": "2023-12-26T10:20:25.745Z"
   },
   {
    "duration": 4,
    "start_time": "2023-12-26T10:23:00.528Z"
   },
   {
    "duration": 40895,
    "start_time": "2023-12-26T10:23:13.296Z"
   },
   {
    "duration": 3,
    "start_time": "2023-12-26T10:24:03.632Z"
   },
   {
    "duration": 7943,
    "start_time": "2023-12-26T10:24:05.553Z"
   },
   {
    "duration": 450,
    "start_time": "2023-12-26T10:24:14.848Z"
   },
   {
    "duration": 42,
    "start_time": "2023-12-26T10:24:21.743Z"
   },
   {
    "duration": 4,
    "start_time": "2023-12-26T10:24:22.880Z"
   },
   {
    "duration": 145454,
    "start_time": "2023-12-26T10:24:23.951Z"
   },
   {
    "duration": 3,
    "start_time": "2023-12-26T10:26:49.407Z"
   },
   {
    "duration": 42547,
    "start_time": "2023-12-26T10:27:16.943Z"
   },
   {
    "duration": 3,
    "start_time": "2023-12-26T10:28:07.071Z"
   },
   {
    "duration": 79,
    "start_time": "2023-12-26T10:28:55.406Z"
   },
   {
    "duration": 3,
    "start_time": "2023-12-26T10:29:03.022Z"
   },
   {
    "duration": 9,
    "start_time": "2023-12-26T10:29:52.670Z"
   },
   {
    "duration": 146655,
    "start_time": "2023-12-26T10:31:30.237Z"
   },
   {
    "duration": 4,
    "start_time": "2023-12-26T10:33:56.894Z"
   },
   {
    "duration": 42586,
    "start_time": "2023-12-26T10:33:56.899Z"
   },
   {
    "duration": 4,
    "start_time": "2023-12-26T10:34:39.487Z"
   },
   {
    "duration": 9,
    "start_time": "2023-12-26T11:42:20.401Z"
   },
   {
    "duration": 3,
    "start_time": "2023-12-26T11:42:24.384Z"
   },
   {
    "duration": 4,
    "start_time": "2023-12-26T11:42:56.018Z"
   },
   {
    "duration": 77,
    "start_time": "2023-12-26T11:45:45.775Z"
   },
   {
    "duration": 4,
    "start_time": "2023-12-26T11:46:39.040Z"
   },
   {
    "duration": 4,
    "start_time": "2023-12-26T12:30:26.137Z"
   },
   {
    "duration": 49,
    "start_time": "2023-12-26T12:30:26.198Z"
   },
   {
    "duration": 10,
    "start_time": "2023-12-26T12:30:26.249Z"
   },
   {
    "duration": 7,
    "start_time": "2023-12-26T12:30:26.277Z"
   },
   {
    "duration": 13,
    "start_time": "2023-12-26T12:30:26.306Z"
   },
   {
    "duration": 4,
    "start_time": "2023-12-26T12:30:26.337Z"
   },
   {
    "duration": 4,
    "start_time": "2023-12-26T12:30:26.926Z"
   },
   {
    "duration": 2,
    "start_time": "2023-12-26T12:30:27.437Z"
   },
   {
    "duration": 8,
    "start_time": "2023-12-26T12:30:27.531Z"
   },
   {
    "duration": 240,
    "start_time": "2023-12-26T12:30:27.563Z"
   },
   {
    "duration": 936,
    "start_time": "2023-12-26T12:30:27.805Z"
   },
   {
    "duration": 5,
    "start_time": "2023-12-26T12:30:28.742Z"
   },
   {
    "duration": 38,
    "start_time": "2023-12-26T12:30:28.749Z"
   },
   {
    "duration": 6,
    "start_time": "2023-12-26T12:30:30.989Z"
   },
   {
    "duration": 5,
    "start_time": "2023-12-26T12:30:31.165Z"
   },
   {
    "duration": 5,
    "start_time": "2023-12-26T12:30:31.341Z"
   },
   {
    "duration": 71,
    "start_time": "2023-12-26T12:30:31.821Z"
   },
   {
    "duration": 4,
    "start_time": "2023-12-26T12:30:37.053Z"
   },
   {
    "duration": 465,
    "start_time": "2023-12-26T12:30:43.325Z"
   },
   {
    "duration": 150845,
    "start_time": "2023-12-26T12:30:45.086Z"
   },
   {
    "duration": 2,
    "start_time": "2023-12-26T12:33:15.933Z"
   },
   {
    "duration": 449,
    "start_time": "2023-12-26T12:33:15.937Z"
   },
   {
    "duration": 42011,
    "start_time": "2023-12-26T12:33:16.388Z"
   },
   {
    "duration": 3,
    "start_time": "2023-12-26T12:33:58.481Z"
   },
   {
    "duration": 8997,
    "start_time": "2023-12-26T12:33:58.486Z"
   },
   {
    "duration": 106,
    "start_time": "2023-12-26T12:34:07.485Z"
   },
   {
    "duration": 5,
    "start_time": "2023-12-26T12:34:07.682Z"
   },
   {
    "duration": 151933,
    "start_time": "2023-12-26T12:34:07.688Z"
   },
   {
    "duration": 3,
    "start_time": "2023-12-26T12:36:39.623Z"
   },
   {
    "duration": 76365,
    "start_time": "2023-12-26T12:36:39.628Z"
   },
   {
    "duration": 4,
    "start_time": "2023-12-26T12:37:56.083Z"
   },
   {
    "duration": 3,
    "start_time": "2023-12-26T13:19:36.155Z"
   },
   {
    "duration": 4,
    "start_time": "2023-12-26T13:19:44.300Z"
   },
   {
    "duration": 46,
    "start_time": "2023-12-26T13:19:45.756Z"
   },
   {
    "duration": 10,
    "start_time": "2023-12-26T13:19:46.475Z"
   },
   {
    "duration": 7,
    "start_time": "2023-12-26T13:19:47.200Z"
   },
   {
    "duration": 12,
    "start_time": "2023-12-26T13:19:47.420Z"
   },
   {
    "duration": 3,
    "start_time": "2023-12-26T13:19:47.611Z"
   },
   {
    "duration": 4,
    "start_time": "2023-12-26T13:19:47.772Z"
   },
   {
    "duration": 3,
    "start_time": "2023-12-26T13:19:48.266Z"
   },
   {
    "duration": 7,
    "start_time": "2023-12-26T13:19:48.906Z"
   },
   {
    "duration": 3,
    "start_time": "2023-12-26T13:19:49.230Z"
   },
   {
    "duration": 4,
    "start_time": "2023-12-26T13:20:02.283Z"
   },
   {
    "duration": 3,
    "start_time": "2023-12-26T13:20:07.067Z"
   },
   {
    "duration": 10,
    "start_time": "2023-12-26T13:21:01.069Z"
   },
   {
    "duration": 222,
    "start_time": "2023-12-26T13:21:09.898Z"
   },
   {
    "duration": 185,
    "start_time": "2023-12-26T13:21:18.026Z"
   },
   {
    "duration": 249,
    "start_time": "2023-12-26T13:21:22.491Z"
   },
   {
    "duration": 301,
    "start_time": "2023-12-26T13:21:32.938Z"
   },
   {
    "duration": 189,
    "start_time": "2023-12-26T13:21:42.970Z"
   },
   {
    "duration": 190,
    "start_time": "2023-12-26T13:23:49.801Z"
   },
   {
    "duration": 182,
    "start_time": "2023-12-26T13:24:43.352Z"
   },
   {
    "duration": 143,
    "start_time": "2023-12-26T13:24:50.889Z"
   },
   {
    "duration": 186,
    "start_time": "2023-12-26T13:24:56.713Z"
   },
   {
    "duration": 213,
    "start_time": "2023-12-26T13:25:22.953Z"
   },
   {
    "duration": 177,
    "start_time": "2023-12-26T13:25:28.153Z"
   },
   {
    "duration": 94,
    "start_time": "2023-12-26T13:33:46.614Z"
   },
   {
    "duration": 574,
    "start_time": "2023-12-26T13:34:31.159Z"
   },
   {
    "duration": 80,
    "start_time": "2023-12-26T13:35:57.477Z"
   },
   {
    "duration": 194,
    "start_time": "2023-12-26T13:48:21.504Z"
   },
   {
    "duration": 437,
    "start_time": "2023-12-26T13:49:18.338Z"
   },
   {
    "duration": 343,
    "start_time": "2023-12-26T13:49:36.223Z"
   },
   {
    "duration": 346,
    "start_time": "2023-12-26T13:50:20.384Z"
   },
   {
    "duration": 7,
    "start_time": "2023-12-26T13:50:49.214Z"
   },
   {
    "duration": 7,
    "start_time": "2023-12-26T13:50:53.855Z"
   },
   {
    "duration": 197,
    "start_time": "2023-12-26T13:51:17.087Z"
   },
   {
    "duration": 4,
    "start_time": "2023-12-26T13:55:27.934Z"
   },
   {
    "duration": 23,
    "start_time": "2023-12-26T13:55:32.036Z"
   },
   {
    "duration": 612,
    "start_time": "2023-12-26T14:01:46.971Z"
   },
   {
    "duration": 10,
    "start_time": "2023-12-26T14:02:20.858Z"
   },
   {
    "duration": 3,
    "start_time": "2023-12-26T14:02:24.891Z"
   },
   {
    "duration": 396,
    "start_time": "2023-12-26T14:02:38.595Z"
   },
   {
    "duration": 10,
    "start_time": "2023-12-26T14:06:02.458Z"
   },
   {
    "duration": 4,
    "start_time": "2023-12-26T14:06:20.778Z"
   },
   {
    "duration": 4,
    "start_time": "2023-12-26T14:06:26.009Z"
   },
   {
    "duration": 962,
    "start_time": "2023-12-26T14:06:31.721Z"
   },
   {
    "duration": 773,
    "start_time": "2023-12-26T14:08:22.313Z"
   },
   {
    "duration": 693,
    "start_time": "2023-12-26T14:10:57.897Z"
   },
   {
    "duration": 501,
    "start_time": "2023-12-26T14:20:21.189Z"
   },
   {
    "duration": 5,
    "start_time": "2023-12-26T14:20:22.452Z"
   },
   {
    "duration": 901,
    "start_time": "2023-12-26T14:20:29.492Z"
   },
   {
    "duration": 5,
    "start_time": "2023-12-26T14:20:31.140Z"
   },
   {
    "duration": 5,
    "start_time": "2023-12-26T14:20:45.499Z"
   },
   {
    "duration": 55,
    "start_time": "2023-12-26T14:20:45.634Z"
   },
   {
    "duration": 11,
    "start_time": "2023-12-26T14:20:45.706Z"
   },
   {
    "duration": 7,
    "start_time": "2023-12-26T14:20:45.739Z"
   },
   {
    "duration": 15,
    "start_time": "2023-12-26T14:20:45.758Z"
   },
   {
    "duration": 4,
    "start_time": "2023-12-26T14:20:45.802Z"
   },
   {
    "duration": 5,
    "start_time": "2023-12-26T14:20:45.836Z"
   },
   {
    "duration": 3,
    "start_time": "2023-12-26T14:20:45.868Z"
   },
   {
    "duration": 9,
    "start_time": "2023-12-26T14:20:45.993Z"
   },
   {
    "duration": 194,
    "start_time": "2023-12-26T14:20:46.058Z"
   },
   {
    "duration": 952,
    "start_time": "2023-12-26T14:20:46.254Z"
   },
   {
    "duration": 548,
    "start_time": "2023-12-26T14:20:47.208Z"
   },
   {
    "duration": 213,
    "start_time": "2023-12-26T14:20:47.758Z"
   },
   {
    "duration": 4,
    "start_time": "2023-12-26T14:20:48.565Z"
   },
   {
    "duration": 23,
    "start_time": "2023-12-26T14:20:49.412Z"
   },
   {
    "duration": 6,
    "start_time": "2023-12-26T14:20:50.467Z"
   },
   {
    "duration": 7,
    "start_time": "2023-12-26T14:20:50.660Z"
   },
   {
    "duration": 6,
    "start_time": "2023-12-26T14:20:51.028Z"
   },
   {
    "duration": 911,
    "start_time": "2023-12-26T14:20:55.972Z"
   },
   {
    "duration": 5,
    "start_time": "2023-12-26T14:20:57.700Z"
   },
   {
    "duration": 3,
    "start_time": "2023-12-26T14:22:59.542Z"
   },
   {
    "duration": 12,
    "start_time": "2023-12-26T14:23:02.868Z"
   },
   {
    "duration": 3,
    "start_time": "2023-12-26T14:23:22.309Z"
   },
   {
    "duration": 50367,
    "start_time": "2023-12-26T14:23:23.573Z"
   },
   {
    "duration": 3,
    "start_time": "2023-12-26T14:24:19.012Z"
   },
   {
    "duration": 43767,
    "start_time": "2023-12-26T14:24:46.723Z"
   },
   {
    "duration": 3,
    "start_time": "2023-12-26T14:25:30.492Z"
   },
   {
    "duration": 43945,
    "start_time": "2023-12-26T14:25:39.842Z"
   },
   {
    "duration": 4,
    "start_time": "2023-12-26T14:26:28.418Z"
   },
   {
    "duration": 10,
    "start_time": "2023-12-26T14:40:57.981Z"
   },
   {
    "duration": 4,
    "start_time": "2023-12-26T14:41:33.597Z"
   },
   {
    "duration": 7,
    "start_time": "2023-12-26T14:42:06.061Z"
   },
   {
    "duration": 4,
    "start_time": "2023-12-26T14:42:55.245Z"
   },
   {
    "duration": 4,
    "start_time": "2023-12-26T14:43:02.621Z"
   },
   {
    "duration": 67,
    "start_time": "2023-12-26T14:44:21.468Z"
   },
   {
    "duration": 92,
    "start_time": "2023-12-26T14:45:01.500Z"
   },
   {
    "duration": 74,
    "start_time": "2023-12-26T14:45:52.236Z"
   },
   {
    "duration": 92,
    "start_time": "2023-12-26T14:47:07.259Z"
   },
   {
    "duration": 77,
    "start_time": "2023-12-26T14:48:33.066Z"
   },
   {
    "duration": 1399,
    "start_time": "2023-12-26T14:49:38.071Z"
   },
   {
    "duration": 62,
    "start_time": "2023-12-26T14:49:39.472Z"
   },
   {
    "duration": 12,
    "start_time": "2023-12-26T14:49:39.536Z"
   },
   {
    "duration": 18,
    "start_time": "2023-12-26T14:49:39.550Z"
   },
   {
    "duration": 11,
    "start_time": "2023-12-26T14:49:39.570Z"
   },
   {
    "duration": 5,
    "start_time": "2023-12-26T14:49:39.583Z"
   },
   {
    "duration": 5,
    "start_time": "2023-12-26T14:49:39.589Z"
   },
   {
    "duration": 21,
    "start_time": "2023-12-26T14:49:39.596Z"
   },
   {
    "duration": 10,
    "start_time": "2023-12-26T14:49:39.619Z"
   },
   {
    "duration": 278,
    "start_time": "2023-12-26T14:49:39.632Z"
   },
   {
    "duration": 941,
    "start_time": "2023-12-26T14:49:39.911Z"
   },
   {
    "duration": 582,
    "start_time": "2023-12-26T14:49:40.854Z"
   },
   {
    "duration": 196,
    "start_time": "2023-12-26T14:49:41.438Z"
   },
   {
    "duration": 4,
    "start_time": "2023-12-26T14:49:41.635Z"
   },
   {
    "duration": 80,
    "start_time": "2023-12-26T14:49:41.640Z"
   },
   {
    "duration": 5,
    "start_time": "2023-12-26T14:49:41.722Z"
   },
   {
    "duration": 39,
    "start_time": "2023-12-26T14:49:41.729Z"
   },
   {
    "duration": 39,
    "start_time": "2023-12-26T14:49:41.769Z"
   },
   {
    "duration": 473,
    "start_time": "2023-12-26T14:49:41.809Z"
   },
   {
    "duration": 6,
    "start_time": "2023-12-26T14:49:42.284Z"
   },
   {
    "duration": 14,
    "start_time": "2023-12-26T14:49:42.382Z"
   },
   {
    "duration": 19031,
    "start_time": "2023-12-26T14:49:42.398Z"
   },
   {
    "duration": 0,
    "start_time": "2023-12-26T14:50:01.432Z"
   },
   {
    "duration": 0,
    "start_time": "2023-12-26T14:50:01.433Z"
   },
   {
    "duration": 0,
    "start_time": "2023-12-26T14:50:01.434Z"
   },
   {
    "duration": 0,
    "start_time": "2023-12-26T14:50:01.434Z"
   },
   {
    "duration": 0,
    "start_time": "2023-12-26T14:50:01.435Z"
   },
   {
    "duration": 0,
    "start_time": "2023-12-26T14:50:01.436Z"
   },
   {
    "duration": 0,
    "start_time": "2023-12-26T14:50:01.437Z"
   },
   {
    "duration": 0,
    "start_time": "2023-12-26T14:50:01.438Z"
   },
   {
    "duration": 0,
    "start_time": "2023-12-26T14:50:01.439Z"
   },
   {
    "duration": 0,
    "start_time": "2023-12-26T14:50:01.440Z"
   },
   {
    "duration": 0,
    "start_time": "2023-12-26T14:50:01.441Z"
   },
   {
    "duration": 1397,
    "start_time": "2023-12-26T14:50:09.086Z"
   },
   {
    "duration": 48,
    "start_time": "2023-12-26T14:50:10.485Z"
   },
   {
    "duration": 10,
    "start_time": "2023-12-26T14:50:10.534Z"
   },
   {
    "duration": 17,
    "start_time": "2023-12-26T14:50:10.546Z"
   },
   {
    "duration": 14,
    "start_time": "2023-12-26T14:50:10.565Z"
   },
   {
    "duration": 8,
    "start_time": "2023-12-26T14:50:10.581Z"
   },
   {
    "duration": 14,
    "start_time": "2023-12-26T14:50:10.590Z"
   },
   {
    "duration": 20,
    "start_time": "2023-12-26T14:50:10.605Z"
   },
   {
    "duration": 30,
    "start_time": "2023-12-26T14:50:10.627Z"
   },
   {
    "duration": 299,
    "start_time": "2023-12-26T14:50:10.659Z"
   },
   {
    "duration": 940,
    "start_time": "2023-12-26T14:50:10.960Z"
   },
   {
    "duration": 552,
    "start_time": "2023-12-26T14:50:11.902Z"
   },
   {
    "duration": 213,
    "start_time": "2023-12-26T14:50:12.456Z"
   },
   {
    "duration": 10,
    "start_time": "2023-12-26T14:50:12.672Z"
   },
   {
    "duration": 28,
    "start_time": "2023-12-26T14:50:12.684Z"
   },
   {
    "duration": 5,
    "start_time": "2023-12-26T14:50:12.713Z"
   },
   {
    "duration": 10,
    "start_time": "2023-12-26T14:50:12.720Z"
   },
   {
    "duration": 6,
    "start_time": "2023-12-26T14:50:12.731Z"
   },
   {
    "duration": 844,
    "start_time": "2023-12-26T14:50:12.738Z"
   },
   {
    "duration": 99,
    "start_time": "2023-12-26T14:50:13.584Z"
   },
   {
    "duration": 4,
    "start_time": "2023-12-26T14:50:13.685Z"
   },
   {
    "duration": 1393,
    "start_time": "2023-12-26T14:50:59.426Z"
   },
   {
    "duration": 49,
    "start_time": "2023-12-26T14:51:00.821Z"
   },
   {
    "duration": 10,
    "start_time": "2023-12-26T14:51:00.871Z"
   },
   {
    "duration": 46,
    "start_time": "2023-12-26T14:51:00.883Z"
   },
   {
    "duration": 48,
    "start_time": "2023-12-26T14:51:00.931Z"
   },
   {
    "duration": 39,
    "start_time": "2023-12-26T14:51:00.980Z"
   },
   {
    "duration": 30,
    "start_time": "2023-12-26T14:51:01.021Z"
   },
   {
    "duration": 29,
    "start_time": "2023-12-26T14:51:01.053Z"
   },
   {
    "duration": 67,
    "start_time": "2023-12-26T14:51:01.083Z"
   },
   {
    "duration": 325,
    "start_time": "2023-12-26T14:51:01.153Z"
   },
   {
    "duration": 944,
    "start_time": "2023-12-26T14:51:01.480Z"
   },
   {
    "duration": 556,
    "start_time": "2023-12-26T14:51:02.426Z"
   },
   {
    "duration": 222,
    "start_time": "2023-12-26T14:51:02.984Z"
   },
   {
    "duration": 4,
    "start_time": "2023-12-26T14:51:03.207Z"
   },
   {
    "duration": 33,
    "start_time": "2023-12-26T14:51:03.213Z"
   },
   {
    "duration": 43,
    "start_time": "2023-12-26T14:51:03.247Z"
   },
   {
    "duration": 25,
    "start_time": "2023-12-26T14:51:03.292Z"
   },
   {
    "duration": 18,
    "start_time": "2023-12-26T14:51:03.318Z"
   },
   {
    "duration": 750,
    "start_time": "2023-12-26T14:51:03.338Z"
   },
   {
    "duration": 4,
    "start_time": "2023-12-26T14:51:04.181Z"
   },
   {
    "duration": 6,
    "start_time": "2023-12-26T14:51:04.186Z"
   },
   {
    "duration": 0,
    "start_time": "2023-12-26T14:52:13.383Z"
   },
   {
    "duration": 0,
    "start_time": "2023-12-26T14:52:13.385Z"
   },
   {
    "duration": 0,
    "start_time": "2023-12-26T14:52:13.388Z"
   },
   {
    "duration": 0,
    "start_time": "2023-12-26T14:52:13.391Z"
   },
   {
    "duration": 0,
    "start_time": "2023-12-26T14:52:13.393Z"
   },
   {
    "duration": 0,
    "start_time": "2023-12-26T14:52:13.394Z"
   },
   {
    "duration": 0,
    "start_time": "2023-12-26T14:52:13.395Z"
   },
   {
    "duration": 0,
    "start_time": "2023-12-26T14:52:13.396Z"
   },
   {
    "duration": 4,
    "start_time": "2023-12-26T14:52:21.770Z"
   },
   {
    "duration": 45,
    "start_time": "2023-12-26T14:52:23.625Z"
   },
   {
    "duration": 9,
    "start_time": "2023-12-26T14:52:24.361Z"
   },
   {
    "duration": 7,
    "start_time": "2023-12-26T14:52:24.521Z"
   },
   {
    "duration": 13,
    "start_time": "2023-12-26T14:52:25.033Z"
   },
   {
    "duration": 5,
    "start_time": "2023-12-26T14:52:25.208Z"
   },
   {
    "duration": 4,
    "start_time": "2023-12-26T14:52:25.369Z"
   },
   {
    "duration": 3,
    "start_time": "2023-12-26T14:52:25.512Z"
   },
   {
    "duration": 7,
    "start_time": "2023-12-26T14:52:26.342Z"
   },
   {
    "duration": 188,
    "start_time": "2023-12-26T14:52:26.398Z"
   },
   {
    "duration": 838,
    "start_time": "2023-12-26T14:52:26.587Z"
   },
   {
    "duration": 657,
    "start_time": "2023-12-26T14:52:27.426Z"
   },
   {
    "duration": 211,
    "start_time": "2023-12-26T14:52:28.085Z"
   },
   {
    "duration": 3,
    "start_time": "2023-12-26T14:52:28.298Z"
   },
   {
    "duration": 36,
    "start_time": "2023-12-26T14:52:28.302Z"
   },
   {
    "duration": 5,
    "start_time": "2023-12-26T14:52:28.340Z"
   },
   {
    "duration": 8,
    "start_time": "2023-12-26T14:52:28.347Z"
   },
   {
    "duration": 10,
    "start_time": "2023-12-26T14:52:28.356Z"
   },
   {
    "duration": 1023,
    "start_time": "2023-12-26T14:52:28.367Z"
   },
   {
    "duration": 4,
    "start_time": "2023-12-26T14:52:29.483Z"
   },
   {
    "duration": 5,
    "start_time": "2023-12-26T14:52:29.488Z"
   },
   {
    "duration": 49399,
    "start_time": "2023-12-26T14:52:29.494Z"
   },
   {
    "duration": 3,
    "start_time": "2023-12-26T14:53:18.894Z"
   },
   {
    "duration": 44392,
    "start_time": "2023-12-26T14:53:18.898Z"
   },
   {
    "duration": 3,
    "start_time": "2023-12-26T14:54:03.292Z"
   },
   {
    "duration": 3,
    "start_time": "2023-12-26T14:54:03.381Z"
   },
   {
    "duration": 23,
    "start_time": "2023-12-26T14:54:03.386Z"
   },
   {
    "duration": 29,
    "start_time": "2023-12-26T14:54:03.410Z"
   },
   {
    "duration": 45,
    "start_time": "2023-12-26T14:54:03.441Z"
   },
   {
    "duration": 43203,
    "start_time": "2023-12-26T14:54:03.488Z"
   },
   {
    "duration": 4,
    "start_time": "2023-12-26T14:54:46.692Z"
   },
   {
    "duration": 9,
    "start_time": "2023-12-26T14:54:46.697Z"
   },
   {
    "duration": 4,
    "start_time": "2023-12-26T14:54:46.782Z"
   },
   {
    "duration": 72,
    "start_time": "2023-12-26T15:00:41.302Z"
   },
   {
    "duration": 1519,
    "start_time": "2023-12-27T14:22:54.281Z"
   },
   {
    "duration": 111,
    "start_time": "2023-12-27T14:23:14.389Z"
   },
   {
    "duration": 11,
    "start_time": "2023-12-27T14:23:14.838Z"
   },
   {
    "duration": 11,
    "start_time": "2023-12-27T14:23:15.483Z"
   },
   {
    "duration": 13,
    "start_time": "2023-12-27T14:23:15.653Z"
   },
   {
    "duration": 4,
    "start_time": "2023-12-27T14:23:15.878Z"
   },
   {
    "duration": 4,
    "start_time": "2023-12-27T14:23:16.310Z"
   },
   {
    "duration": 2,
    "start_time": "2023-12-27T14:23:16.774Z"
   },
   {
    "duration": 9,
    "start_time": "2023-12-27T14:23:17.541Z"
   },
   {
    "duration": 253,
    "start_time": "2023-12-27T14:23:21.285Z"
   },
   {
    "duration": 907,
    "start_time": "2023-12-27T14:23:40.645Z"
   },
   {
    "duration": 536,
    "start_time": "2023-12-27T14:24:04.822Z"
   },
   {
    "duration": 7,
    "start_time": "2023-12-27T14:41:07.955Z"
   },
   {
    "duration": 4,
    "start_time": "2023-12-27T14:45:23.937Z"
   },
   {
    "duration": 45,
    "start_time": "2023-12-27T14:45:24.068Z"
   },
   {
    "duration": 10,
    "start_time": "2023-12-27T14:45:24.136Z"
   },
   {
    "duration": 7,
    "start_time": "2023-12-27T14:45:24.173Z"
   },
   {
    "duration": 14,
    "start_time": "2023-12-27T14:45:24.207Z"
   },
   {
    "duration": 4,
    "start_time": "2023-12-27T14:45:24.243Z"
   },
   {
    "duration": 4,
    "start_time": "2023-12-27T14:45:24.273Z"
   },
   {
    "duration": 3,
    "start_time": "2023-12-27T14:45:24.303Z"
   },
   {
    "duration": 7,
    "start_time": "2023-12-27T14:45:24.437Z"
   },
   {
    "duration": 188,
    "start_time": "2023-12-27T14:45:24.504Z"
   },
   {
    "duration": 784,
    "start_time": "2023-12-27T14:45:24.693Z"
   },
   {
    "duration": 640,
    "start_time": "2023-12-27T14:45:25.479Z"
   },
   {
    "duration": 6,
    "start_time": "2023-12-27T14:45:26.121Z"
   },
   {
    "duration": 200,
    "start_time": "2023-12-27T14:45:26.129Z"
   },
   {
    "duration": 4,
    "start_time": "2023-12-27T14:45:26.331Z"
   },
   {
    "duration": 31,
    "start_time": "2023-12-27T14:45:26.336Z"
   },
   {
    "duration": 6,
    "start_time": "2023-12-27T14:45:26.368Z"
   },
   {
    "duration": 7,
    "start_time": "2023-12-27T14:45:26.375Z"
   },
   {
    "duration": 9,
    "start_time": "2023-12-27T14:45:26.383Z"
   },
   {
    "duration": 777,
    "start_time": "2023-12-27T14:45:26.394Z"
   },
   {
    "duration": 7,
    "start_time": "2023-12-27T14:48:20.238Z"
   },
   {
    "duration": 601,
    "start_time": "2023-12-27T14:48:28.800Z"
   },
   {
    "duration": 7,
    "start_time": "2023-12-27T14:48:53.551Z"
   },
   {
    "duration": 791,
    "start_time": "2023-12-27T14:48:55.215Z"
   },
   {
    "duration": 4,
    "start_time": "2023-12-27T14:49:35.374Z"
   },
   {
    "duration": 44,
    "start_time": "2023-12-27T14:49:35.982Z"
   },
   {
    "duration": 9,
    "start_time": "2023-12-27T14:49:36.286Z"
   },
   {
    "duration": 6,
    "start_time": "2023-12-27T14:49:36.436Z"
   },
   {
    "duration": 12,
    "start_time": "2023-12-27T14:49:36.591Z"
   },
   {
    "duration": 4,
    "start_time": "2023-12-27T14:49:36.749Z"
   },
   {
    "duration": 4,
    "start_time": "2023-12-27T14:49:36.895Z"
   },
   {
    "duration": 3,
    "start_time": "2023-12-27T14:49:37.039Z"
   },
   {
    "duration": 6,
    "start_time": "2023-12-27T14:49:37.646Z"
   },
   {
    "duration": 186,
    "start_time": "2023-12-27T14:49:37.966Z"
   },
   {
    "duration": 822,
    "start_time": "2023-12-27T14:49:39.872Z"
   },
   {
    "duration": 558,
    "start_time": "2023-12-27T14:49:44.239Z"
   },
   {
    "duration": 6,
    "start_time": "2023-12-27T14:49:47.630Z"
   },
   {
    "duration": 268,
    "start_time": "2023-12-27T14:49:49.407Z"
   },
   {
    "duration": 185,
    "start_time": "2023-12-27T14:57:20.973Z"
   },
   {
    "duration": 4,
    "start_time": "2023-12-27T14:57:36.670Z"
   },
   {
    "duration": 42,
    "start_time": "2023-12-27T14:57:37.436Z"
   },
   {
    "duration": 10,
    "start_time": "2023-12-27T14:57:38.109Z"
   },
   {
    "duration": 7,
    "start_time": "2023-12-27T14:57:38.289Z"
   },
   {
    "duration": 11,
    "start_time": "2023-12-27T14:57:38.443Z"
   },
   {
    "duration": 3,
    "start_time": "2023-12-27T14:57:38.636Z"
   },
   {
    "duration": 5,
    "start_time": "2023-12-27T14:57:38.843Z"
   },
   {
    "duration": 2,
    "start_time": "2023-12-27T14:57:39.164Z"
   },
   {
    "duration": 7,
    "start_time": "2023-12-27T14:57:41.339Z"
   },
   {
    "duration": 168,
    "start_time": "2023-12-27T14:57:42.396Z"
   },
   {
    "duration": 175,
    "start_time": "2023-12-27T14:57:51.164Z"
   },
   {
    "duration": 695,
    "start_time": "2023-12-27T14:59:20.733Z"
   },
   {
    "duration": 866,
    "start_time": "2023-12-27T14:59:35.036Z"
   },
   {
    "duration": 853,
    "start_time": "2023-12-27T15:00:18.028Z"
   },
   {
    "duration": 523,
    "start_time": "2023-12-27T15:01:02.315Z"
   },
   {
    "duration": 536,
    "start_time": "2023-12-27T15:01:50.139Z"
   },
   {
    "duration": 229,
    "start_time": "2023-12-27T15:04:46.236Z"
   },
   {
    "duration": 6,
    "start_time": "2023-12-27T15:04:57.577Z"
   },
   {
    "duration": 307,
    "start_time": "2023-12-27T15:04:58.716Z"
   },
   {
    "duration": 308,
    "start_time": "2023-12-27T15:05:06.425Z"
   },
   {
    "duration": 201,
    "start_time": "2023-12-27T15:05:13.657Z"
   },
   {
    "duration": 3,
    "start_time": "2023-12-27T15:06:51.851Z"
   },
   {
    "duration": 44,
    "start_time": "2023-12-27T15:06:52.586Z"
   },
   {
    "duration": 9,
    "start_time": "2023-12-27T15:06:52.970Z"
   },
   {
    "duration": 6,
    "start_time": "2023-12-27T15:06:53.178Z"
   },
   {
    "duration": 12,
    "start_time": "2023-12-27T15:06:53.385Z"
   },
   {
    "duration": 4,
    "start_time": "2023-12-27T15:06:53.592Z"
   },
   {
    "duration": 4,
    "start_time": "2023-12-27T15:06:53.785Z"
   },
   {
    "duration": 3,
    "start_time": "2023-12-27T15:06:53.992Z"
   },
   {
    "duration": 7,
    "start_time": "2023-12-27T15:06:54.729Z"
   },
   {
    "duration": 172,
    "start_time": "2023-12-27T15:06:55.097Z"
   },
   {
    "duration": 870,
    "start_time": "2023-12-27T15:07:00.745Z"
   },
   {
    "duration": 88,
    "start_time": "2023-12-27T15:09:00.088Z"
   },
   {
    "duration": 840,
    "start_time": "2023-12-27T15:12:39.729Z"
   },
   {
    "duration": 3,
    "start_time": "2023-12-27T15:33:34.225Z"
   },
   {
    "duration": 45,
    "start_time": "2023-12-27T15:33:35.182Z"
   },
   {
    "duration": 11,
    "start_time": "2023-12-27T15:33:35.535Z"
   },
   {
    "duration": 6,
    "start_time": "2023-12-27T15:33:35.727Z"
   },
   {
    "duration": 13,
    "start_time": "2023-12-27T15:33:35.919Z"
   },
   {
    "duration": 4,
    "start_time": "2023-12-27T15:33:36.094Z"
   },
   {
    "duration": 4,
    "start_time": "2023-12-27T15:33:36.272Z"
   },
   {
    "duration": 3,
    "start_time": "2023-12-27T15:33:36.446Z"
   },
   {
    "duration": 7,
    "start_time": "2023-12-27T15:33:37.199Z"
   },
   {
    "duration": 275,
    "start_time": "2023-12-27T15:33:37.583Z"
   },
   {
    "duration": 878,
    "start_time": "2023-12-27T15:33:40.846Z"
   },
   {
    "duration": 555,
    "start_time": "2023-12-27T15:35:15.742Z"
   },
   {
    "duration": 8,
    "start_time": "2023-12-27T15:35:20.606Z"
   },
   {
    "duration": 204,
    "start_time": "2023-12-27T15:35:29.374Z"
   },
   {
    "duration": 4,
    "start_time": "2023-12-27T15:35:34.622Z"
   },
   {
    "duration": 24,
    "start_time": "2023-12-27T15:35:37.198Z"
   },
   {
    "duration": 6,
    "start_time": "2023-12-27T15:35:38.013Z"
   },
   {
    "duration": 6,
    "start_time": "2023-12-27T15:35:38.174Z"
   },
   {
    "duration": 5,
    "start_time": "2023-12-27T15:35:38.349Z"
   },
   {
    "duration": 742,
    "start_time": "2023-12-27T15:35:38.830Z"
   },
   {
    "duration": 93,
    "start_time": "2023-12-27T15:35:39.574Z"
   },
   {
    "duration": 4,
    "start_time": "2023-12-27T15:35:43.405Z"
   },
   {
    "duration": 50299,
    "start_time": "2023-12-27T15:35:43.902Z"
   },
   {
    "duration": 3,
    "start_time": "2023-12-27T15:36:34.203Z"
   },
   {
    "duration": 128159,
    "start_time": "2023-12-27T15:36:34.208Z"
   },
   {
    "duration": 3,
    "start_time": "2023-12-27T15:38:42.369Z"
   },
   {
    "duration": 6,
    "start_time": "2023-12-27T15:38:42.373Z"
   },
   {
    "duration": 15,
    "start_time": "2023-12-27T15:38:42.380Z"
   },
   {
    "duration": 9,
    "start_time": "2023-12-27T15:38:42.397Z"
   },
   {
    "duration": 21,
    "start_time": "2023-12-27T15:38:42.408Z"
   },
   {
    "duration": 42643,
    "start_time": "2023-12-27T15:38:42.430Z"
   },
   {
    "duration": 3,
    "start_time": "2023-12-27T15:39:25.075Z"
   },
   {
    "duration": 8,
    "start_time": "2023-12-27T15:39:25.080Z"
   },
   {
    "duration": 6,
    "start_time": "2023-12-27T15:39:25.089Z"
   },
   {
    "duration": 74,
    "start_time": "2023-12-27T15:39:25.096Z"
   }
  ],
  "kernelspec": {
   "display_name": "Python 3.10.8 64-bit",
   "language": "python",
   "name": "python3"
  },
  "language_info": {
   "codemirror_mode": {
    "name": "ipython",
    "version": 3
   },
   "file_extension": ".py",
   "mimetype": "text/x-python",
   "name": "python",
   "nbconvert_exporter": "python",
   "pygments_lexer": "ipython3",
   "version": "3.10.8"
  },
  "toc": {
   "base_numbering": 1,
   "nav_menu": {},
   "number_sections": true,
   "sideBar": true,
   "skip_h1_title": true,
   "title_cell": "Содержание",
   "title_sidebar": "Contents",
   "toc_cell": true,
   "toc_position": {},
   "toc_section_display": true,
   "toc_window_display": true
  },
  "vscode": {
   "interpreter": {
    "hash": "7e1998ff7f8aa20ada591c520b972326324e5ea05489af9e422744c7c09f6dad"
   }
  }
 },
 "nbformat": 4,
 "nbformat_minor": 2
}
