{
 "cells": [
  {
   "cell_type": "markdown",
   "metadata": {},
   "source": [
    "**Анализ данных по магазину «Стримчик»**"
   ]
  },
  {
   "cell_type": "markdown",
   "metadata": {},
   "source": [
    "**Шаг 1. Описание проекта**\n",
    "\n",
    "Вы работаете в интернет-магазине «Стримчик», который продаёт по всему миру компьютерные игры. Из открытых источников доступны исторические данные о продажах игр, оценки пользователей и экспертов, жанры и платформы (например, Xbox или PlayStation). Вам нужно выявить определяющие успешность игры закономерности. Это позволит сделать ставку на потенциально популярный продукт и спланировать рекламные кампании.\n",
    "\n",
    "Перед вами данные до 2016 года. Представим, что сейчас декабрь 2016 г., и вы планируете кампанию на 2017-й. Нужно отработать принцип работы с данными. Неважно, прогнозируете ли вы продажи на 2017 год по данным 2016-го или же 2027-й — по данным 2026 года.\n",
    "В наборе данных попадается аббревиатура ESRB (Entertainment Software Rating Board) — это ассоциация, определяющая возрастной рейтинг компьютерных игр. ESRB оценивает игровой контент и присваивает ему подходящую возрастную категорию, например, «Для взрослых», «Для детей младшего возраста» или «Для подростков»."
   ]
  },
  {
   "cell_type": "markdown",
   "metadata": {},
   "source": [
    "**План работы:**\n",
    "\n",
    "**Шаг 1.** \n",
    "Откроем файл с данными и изучим общую информацию\n",
    "\n",
    "Путь к файлу: /datasets/games.csv.\n",
    "\n",
    "**Шаг 2.** \n",
    "- Подготовим данные\n",
    "\n",
    "- Заменим названия столбцов (приведем к нижнему регистру);\n",
    "\n",
    "- Преобразуем данные в нужные типы. Опишем, в каких столбцах заменили тип данных и почему;\n",
    "\n",
    "- Обработаем пропуски при необходимости:\n",
    "\n",
    "- Объясним, почему заполнили пропуски определённым образом или почему не стали это делать;\n",
    "\n",
    "- Опишем причины, которые могли привести к пропускам;\n",
    "\n",
    "- Обратим внимание на аббревиатуру 'tbd' в столбцах с рейтингом. Отдельно разберем это значение и опишем, как его обработать;\n",
    "\n",
    "- Посчитаем суммарные продажи во всех регионах и запишем их в отдельный столбец.\n",
    "\n",
    "**Шаг 3.** \n",
    "\n",
    "Проведем исследовательский анализ данных\n",
    "\n",
    "Посмотрим, сколько игр выпускалось в разные годы. Важны ли данные за все периоды?\n",
    "\n",
    "Посмотрим, как менялись продажи по платформам. Выберем платформы с наибольшими суммарными продажами и постройте распределение по годам. За какой характерный срок появляются новые и исчезают старые платформы?\n",
    "\n",
    "Возьмем данные за соответствующий актуальный период. Актуальный период определите самостоятельно в результате исследования предыдущих вопросов. Основной фактор — эти данные помогут построить прогноз на 2017 год.\n",
    "\n",
    "Не учитываем работе данные за предыдущие годы.\n",
    "\n",
    "Какие платформы лидируют по продажам, растут или падают? Выберем несколько потенциально прибыльных платформ.\n",
    "\n",
    "Построим график «ящик с усами» по глобальным продажам игр в разбивке по платформам. Опишем результат.\n",
    "\n",
    "Посмотрим, как влияют на продажи внутри одной популярной платформы отзывы пользователей и критиков. Построим диаграмму рассеяния и посчитайте корреляцию между отзывами и продажами. Сформулируйте выводы.\n",
    "\n",
    "Соотнесем выводы с продажами игр на других платформах.\n",
    "\n",
    "Посмотрим на общее распределение игр по жанрам. Что можно сказать о самых прибыльных жанрах? Выделяются ли жанры с высокими и низкими продажами?\n",
    "\n",
    "**Шаг 4.** С\n",
    "оставим портрет пользователя каждого региона\n",
    "\n",
    "Определим для пользователя каждого региона (NA, EU, JP):\n",
    "\n",
    "Самые популярные платформы (топ-5). Опишите различия в долях продаж.\n",
    "\n",
    "Самые популярные жанры (топ-5). Поясните разницу.\n",
    "\n",
    "Влияет ли рейтинг ESRB на продажи в отдельном регионе?\n",
    "\n",
    "**Шаг 5.** \n",
    "Проверим гипотезы\n",
    "\n",
    "Средние пользовательские рейтинги платформ Xbox One и PC одинаковые;\n",
    "\n",
    "Средние пользовательские рейтинги жанров Action (англ. «действие», экшен-игры) и Sports (англ. «спортивные соревнования») разные.\n",
    "\n",
    "Задайте самостоятельно пороговое значение alpha.\n",
    "\n",
    "Поясним:\n",
    "Как сформулировали нулевую и альтернативную гипотезы;\n",
    "\n",
    "Какой критерий применил для проверки гипотез и почему.\n",
    "\n",
    "**Шаг 6.** Общий вывод\n",
    "\n"
   ]
  },
  {
   "cell_type": "markdown",
   "metadata": {},
   "source": [
    "**Описание данных**\n",
    "\n",
    "Name — название игры\n",
    "\n",
    "Platform — платформа\n",
    "\n",
    "Year_of_Release — год выпуска\n",
    "\n",
    "Genre — жанр игры\n",
    "\n",
    "NA_sales — продажи в Северной Америке (миллионы проданных копий)\n",
    "\n",
    "EU_sales — продажи в Европе (миллионы проданных копий)\n",
    "\n",
    "JP_sales — продажи в Японии (миллионы проданных копий)\n",
    "\n",
    "Other_sales — продажи в других странах (миллионы проданных копий)\n",
    "\n",
    "Critic_Score — оценка критиков (максимум 100)\n",
    "\n",
    "User_Score — оценка пользователей (максимум 10)\n",
    "\n",
    "Rating — рейтинг от организации ESRB (англ. Entertainment Software Rating Board). Эта ассоциация определяет рейтинг компьютерных игр и присваивает им подходящую возрастную категорию.\n",
    "\n",
    "Данные за 2016 год могут быть неполными."
   ]
  },
  {
   "cell_type": "code",
   "execution_count": 1,
   "metadata": {},
   "outputs": [],
   "source": [
    "# установка необходимых библиотек\n",
    "\n",
    "import pandas as pd\n",
    "import numpy as np\n",
    "import matplotlib.pyplot as plt\n",
    "import seaborn as sns\n",
    "\n",
    "from datetime import datetime\n",
    "from scipy import stats as st"
   ]
  },
  {
   "cell_type": "code",
   "execution_count": 2,
   "metadata": {},
   "outputs": [],
   "source": [
    "# откройтие файла с данными\n",
    "\n",
    "try:\n",
    "    data = pd.read_csv('/datasets/games.csv')\n",
    "except:\n",
    "    data = pd.read_csv('https://code.s3.yandex.net/datasets/games.csv')"
   ]
  },
  {
   "cell_type": "markdown",
   "metadata": {},
   "source": [
    " ##### **Изучение общей информации**"
   ]
  },
  {
   "cell_type": "code",
   "execution_count": 3,
   "metadata": {},
   "outputs": [
    {
     "name": "stdout",
     "output_type": "stream",
     "text": [
      "<class 'pandas.core.frame.DataFrame'>\n",
      "RangeIndex: 16715 entries, 0 to 16714\n",
      "Data columns (total 11 columns):\n",
      " #   Column           Non-Null Count  Dtype  \n",
      "---  ------           --------------  -----  \n",
      " 0   Name             16713 non-null  object \n",
      " 1   Platform         16715 non-null  object \n",
      " 2   Year_of_Release  16446 non-null  float64\n",
      " 3   Genre            16713 non-null  object \n",
      " 4   NA_sales         16715 non-null  float64\n",
      " 5   EU_sales         16715 non-null  float64\n",
      " 6   JP_sales         16715 non-null  float64\n",
      " 7   Other_sales      16715 non-null  float64\n",
      " 8   Critic_Score     8137 non-null   float64\n",
      " 9   User_Score       10014 non-null  object \n",
      " 10  Rating           9949 non-null   object \n",
      "dtypes: float64(6), object(5)\n",
      "memory usage: 1.4+ MB\n"
     ]
    }
   ],
   "source": [
    "data.info()"
   ]
  },
  {
   "cell_type": "code",
   "execution_count": 4,
   "metadata": {},
   "outputs": [
    {
     "data": {
      "text/plain": [
       "Index(['Name', 'Platform', 'Year_of_Release', 'Genre', 'NA_sales', 'EU_sales',\n",
       "       'JP_sales', 'Other_sales', 'Critic_Score', 'User_Score', 'Rating'],\n",
       "      dtype='object')"
      ]
     },
     "execution_count": 4,
     "metadata": {},
     "output_type": "execute_result"
    }
   ],
   "source": [
    "data.columns # столбцы"
   ]
  },
  {
   "cell_type": "code",
   "execution_count": 5,
   "metadata": {},
   "outputs": [
    {
     "data": {
      "text/html": [
       "<div>\n",
       "<style scoped>\n",
       "    .dataframe tbody tr th:only-of-type {\n",
       "        vertical-align: middle;\n",
       "    }\n",
       "\n",
       "    .dataframe tbody tr th {\n",
       "        vertical-align: top;\n",
       "    }\n",
       "\n",
       "    .dataframe thead th {\n",
       "        text-align: right;\n",
       "    }\n",
       "</style>\n",
       "<table border=\"1\" class=\"dataframe\">\n",
       "  <thead>\n",
       "    <tr style=\"text-align: right;\">\n",
       "      <th></th>\n",
       "      <th>Name</th>\n",
       "      <th>Platform</th>\n",
       "      <th>Year_of_Release</th>\n",
       "      <th>Genre</th>\n",
       "      <th>NA_sales</th>\n",
       "      <th>EU_sales</th>\n",
       "      <th>JP_sales</th>\n",
       "      <th>Other_sales</th>\n",
       "      <th>Critic_Score</th>\n",
       "      <th>User_Score</th>\n",
       "      <th>Rating</th>\n",
       "    </tr>\n",
       "  </thead>\n",
       "  <tbody>\n",
       "    <tr>\n",
       "      <th>0</th>\n",
       "      <td>Wii Sports</td>\n",
       "      <td>Wii</td>\n",
       "      <td>2006.0</td>\n",
       "      <td>Sports</td>\n",
       "      <td>41.36</td>\n",
       "      <td>28.96</td>\n",
       "      <td>3.77</td>\n",
       "      <td>8.45</td>\n",
       "      <td>76.0</td>\n",
       "      <td>8</td>\n",
       "      <td>E</td>\n",
       "    </tr>\n",
       "    <tr>\n",
       "      <th>1</th>\n",
       "      <td>Super Mario Bros.</td>\n",
       "      <td>NES</td>\n",
       "      <td>1985.0</td>\n",
       "      <td>Platform</td>\n",
       "      <td>29.08</td>\n",
       "      <td>3.58</td>\n",
       "      <td>6.81</td>\n",
       "      <td>0.77</td>\n",
       "      <td>NaN</td>\n",
       "      <td>NaN</td>\n",
       "      <td>NaN</td>\n",
       "    </tr>\n",
       "    <tr>\n",
       "      <th>2</th>\n",
       "      <td>Mario Kart Wii</td>\n",
       "      <td>Wii</td>\n",
       "      <td>2008.0</td>\n",
       "      <td>Racing</td>\n",
       "      <td>15.68</td>\n",
       "      <td>12.76</td>\n",
       "      <td>3.79</td>\n",
       "      <td>3.29</td>\n",
       "      <td>82.0</td>\n",
       "      <td>8.3</td>\n",
       "      <td>E</td>\n",
       "    </tr>\n",
       "    <tr>\n",
       "      <th>3</th>\n",
       "      <td>Wii Sports Resort</td>\n",
       "      <td>Wii</td>\n",
       "      <td>2009.0</td>\n",
       "      <td>Sports</td>\n",
       "      <td>15.61</td>\n",
       "      <td>10.93</td>\n",
       "      <td>3.28</td>\n",
       "      <td>2.95</td>\n",
       "      <td>80.0</td>\n",
       "      <td>8</td>\n",
       "      <td>E</td>\n",
       "    </tr>\n",
       "    <tr>\n",
       "      <th>4</th>\n",
       "      <td>Pokemon Red/Pokemon Blue</td>\n",
       "      <td>GB</td>\n",
       "      <td>1996.0</td>\n",
       "      <td>Role-Playing</td>\n",
       "      <td>11.27</td>\n",
       "      <td>8.89</td>\n",
       "      <td>10.22</td>\n",
       "      <td>1.00</td>\n",
       "      <td>NaN</td>\n",
       "      <td>NaN</td>\n",
       "      <td>NaN</td>\n",
       "    </tr>\n",
       "    <tr>\n",
       "      <th>5</th>\n",
       "      <td>Tetris</td>\n",
       "      <td>GB</td>\n",
       "      <td>1989.0</td>\n",
       "      <td>Puzzle</td>\n",
       "      <td>23.20</td>\n",
       "      <td>2.26</td>\n",
       "      <td>4.22</td>\n",
       "      <td>0.58</td>\n",
       "      <td>NaN</td>\n",
       "      <td>NaN</td>\n",
       "      <td>NaN</td>\n",
       "    </tr>\n",
       "    <tr>\n",
       "      <th>6</th>\n",
       "      <td>New Super Mario Bros.</td>\n",
       "      <td>DS</td>\n",
       "      <td>2006.0</td>\n",
       "      <td>Platform</td>\n",
       "      <td>11.28</td>\n",
       "      <td>9.14</td>\n",
       "      <td>6.50</td>\n",
       "      <td>2.88</td>\n",
       "      <td>89.0</td>\n",
       "      <td>8.5</td>\n",
       "      <td>E</td>\n",
       "    </tr>\n",
       "    <tr>\n",
       "      <th>7</th>\n",
       "      <td>Wii Play</td>\n",
       "      <td>Wii</td>\n",
       "      <td>2006.0</td>\n",
       "      <td>Misc</td>\n",
       "      <td>13.96</td>\n",
       "      <td>9.18</td>\n",
       "      <td>2.93</td>\n",
       "      <td>2.84</td>\n",
       "      <td>58.0</td>\n",
       "      <td>6.6</td>\n",
       "      <td>E</td>\n",
       "    </tr>\n",
       "    <tr>\n",
       "      <th>8</th>\n",
       "      <td>New Super Mario Bros. Wii</td>\n",
       "      <td>Wii</td>\n",
       "      <td>2009.0</td>\n",
       "      <td>Platform</td>\n",
       "      <td>14.44</td>\n",
       "      <td>6.94</td>\n",
       "      <td>4.70</td>\n",
       "      <td>2.24</td>\n",
       "      <td>87.0</td>\n",
       "      <td>8.4</td>\n",
       "      <td>E</td>\n",
       "    </tr>\n",
       "    <tr>\n",
       "      <th>9</th>\n",
       "      <td>Duck Hunt</td>\n",
       "      <td>NES</td>\n",
       "      <td>1984.0</td>\n",
       "      <td>Shooter</td>\n",
       "      <td>26.93</td>\n",
       "      <td>0.63</td>\n",
       "      <td>0.28</td>\n",
       "      <td>0.47</td>\n",
       "      <td>NaN</td>\n",
       "      <td>NaN</td>\n",
       "      <td>NaN</td>\n",
       "    </tr>\n",
       "  </tbody>\n",
       "</table>\n",
       "</div>"
      ],
      "text/plain": [
       "                        Name Platform  Year_of_Release         Genre  \\\n",
       "0                 Wii Sports      Wii           2006.0        Sports   \n",
       "1          Super Mario Bros.      NES           1985.0      Platform   \n",
       "2             Mario Kart Wii      Wii           2008.0        Racing   \n",
       "3          Wii Sports Resort      Wii           2009.0        Sports   \n",
       "4   Pokemon Red/Pokemon Blue       GB           1996.0  Role-Playing   \n",
       "5                     Tetris       GB           1989.0        Puzzle   \n",
       "6      New Super Mario Bros.       DS           2006.0      Platform   \n",
       "7                   Wii Play      Wii           2006.0          Misc   \n",
       "8  New Super Mario Bros. Wii      Wii           2009.0      Platform   \n",
       "9                  Duck Hunt      NES           1984.0       Shooter   \n",
       "\n",
       "   NA_sales  EU_sales  JP_sales  Other_sales  Critic_Score User_Score Rating  \n",
       "0     41.36     28.96      3.77         8.45          76.0          8      E  \n",
       "1     29.08      3.58      6.81         0.77           NaN        NaN    NaN  \n",
       "2     15.68     12.76      3.79         3.29          82.0        8.3      E  \n",
       "3     15.61     10.93      3.28         2.95          80.0          8      E  \n",
       "4     11.27      8.89     10.22         1.00           NaN        NaN    NaN  \n",
       "5     23.20      2.26      4.22         0.58           NaN        NaN    NaN  \n",
       "6     11.28      9.14      6.50         2.88          89.0        8.5      E  \n",
       "7     13.96      9.18      2.93         2.84          58.0        6.6      E  \n",
       "8     14.44      6.94      4.70         2.24          87.0        8.4      E  \n",
       "9     26.93      0.63      0.28         0.47           NaN        NaN    NaN  "
      ]
     },
     "execution_count": 5,
     "metadata": {},
     "output_type": "execute_result"
    }
   ],
   "source": [
    "data.head(10)"
   ]
  },
  {
   "cell_type": "code",
   "execution_count": 6,
   "metadata": {},
   "outputs": [
    {
     "data": {
      "text/html": [
       "<div>\n",
       "<style scoped>\n",
       "    .dataframe tbody tr th:only-of-type {\n",
       "        vertical-align: middle;\n",
       "    }\n",
       "\n",
       "    .dataframe tbody tr th {\n",
       "        vertical-align: top;\n",
       "    }\n",
       "\n",
       "    .dataframe thead th {\n",
       "        text-align: right;\n",
       "    }\n",
       "</style>\n",
       "<table border=\"1\" class=\"dataframe\">\n",
       "  <thead>\n",
       "    <tr style=\"text-align: right;\">\n",
       "      <th></th>\n",
       "      <th>Name</th>\n",
       "      <th>Platform</th>\n",
       "      <th>Year_of_Release</th>\n",
       "      <th>Genre</th>\n",
       "      <th>NA_sales</th>\n",
       "      <th>EU_sales</th>\n",
       "      <th>JP_sales</th>\n",
       "      <th>Other_sales</th>\n",
       "      <th>Critic_Score</th>\n",
       "      <th>User_Score</th>\n",
       "      <th>Rating</th>\n",
       "    </tr>\n",
       "  </thead>\n",
       "  <tbody>\n",
       "    <tr>\n",
       "      <th>16705</th>\n",
       "      <td>15 Days</td>\n",
       "      <td>PC</td>\n",
       "      <td>2009.0</td>\n",
       "      <td>Adventure</td>\n",
       "      <td>0.00</td>\n",
       "      <td>0.01</td>\n",
       "      <td>0.00</td>\n",
       "      <td>0.0</td>\n",
       "      <td>63.0</td>\n",
       "      <td>5.8</td>\n",
       "      <td>NaN</td>\n",
       "    </tr>\n",
       "    <tr>\n",
       "      <th>16706</th>\n",
       "      <td>Men in Black II: Alien Escape</td>\n",
       "      <td>GC</td>\n",
       "      <td>2003.0</td>\n",
       "      <td>Shooter</td>\n",
       "      <td>0.01</td>\n",
       "      <td>0.00</td>\n",
       "      <td>0.00</td>\n",
       "      <td>0.0</td>\n",
       "      <td>NaN</td>\n",
       "      <td>tbd</td>\n",
       "      <td>T</td>\n",
       "    </tr>\n",
       "    <tr>\n",
       "      <th>16707</th>\n",
       "      <td>Aiyoku no Eustia</td>\n",
       "      <td>PSV</td>\n",
       "      <td>2014.0</td>\n",
       "      <td>Misc</td>\n",
       "      <td>0.00</td>\n",
       "      <td>0.00</td>\n",
       "      <td>0.01</td>\n",
       "      <td>0.0</td>\n",
       "      <td>NaN</td>\n",
       "      <td>NaN</td>\n",
       "      <td>NaN</td>\n",
       "    </tr>\n",
       "    <tr>\n",
       "      <th>16708</th>\n",
       "      <td>Woody Woodpecker in Crazy Castle 5</td>\n",
       "      <td>GBA</td>\n",
       "      <td>2002.0</td>\n",
       "      <td>Platform</td>\n",
       "      <td>0.01</td>\n",
       "      <td>0.00</td>\n",
       "      <td>0.00</td>\n",
       "      <td>0.0</td>\n",
       "      <td>NaN</td>\n",
       "      <td>NaN</td>\n",
       "      <td>NaN</td>\n",
       "    </tr>\n",
       "    <tr>\n",
       "      <th>16709</th>\n",
       "      <td>SCORE International Baja 1000: The Official Game</td>\n",
       "      <td>PS2</td>\n",
       "      <td>2008.0</td>\n",
       "      <td>Racing</td>\n",
       "      <td>0.00</td>\n",
       "      <td>0.00</td>\n",
       "      <td>0.00</td>\n",
       "      <td>0.0</td>\n",
       "      <td>NaN</td>\n",
       "      <td>NaN</td>\n",
       "      <td>NaN</td>\n",
       "    </tr>\n",
       "    <tr>\n",
       "      <th>16710</th>\n",
       "      <td>Samurai Warriors: Sanada Maru</td>\n",
       "      <td>PS3</td>\n",
       "      <td>2016.0</td>\n",
       "      <td>Action</td>\n",
       "      <td>0.00</td>\n",
       "      <td>0.00</td>\n",
       "      <td>0.01</td>\n",
       "      <td>0.0</td>\n",
       "      <td>NaN</td>\n",
       "      <td>NaN</td>\n",
       "      <td>NaN</td>\n",
       "    </tr>\n",
       "    <tr>\n",
       "      <th>16711</th>\n",
       "      <td>LMA Manager 2007</td>\n",
       "      <td>X360</td>\n",
       "      <td>2006.0</td>\n",
       "      <td>Sports</td>\n",
       "      <td>0.00</td>\n",
       "      <td>0.01</td>\n",
       "      <td>0.00</td>\n",
       "      <td>0.0</td>\n",
       "      <td>NaN</td>\n",
       "      <td>NaN</td>\n",
       "      <td>NaN</td>\n",
       "    </tr>\n",
       "    <tr>\n",
       "      <th>16712</th>\n",
       "      <td>Haitaka no Psychedelica</td>\n",
       "      <td>PSV</td>\n",
       "      <td>2016.0</td>\n",
       "      <td>Adventure</td>\n",
       "      <td>0.00</td>\n",
       "      <td>0.00</td>\n",
       "      <td>0.01</td>\n",
       "      <td>0.0</td>\n",
       "      <td>NaN</td>\n",
       "      <td>NaN</td>\n",
       "      <td>NaN</td>\n",
       "    </tr>\n",
       "    <tr>\n",
       "      <th>16713</th>\n",
       "      <td>Spirits &amp; Spells</td>\n",
       "      <td>GBA</td>\n",
       "      <td>2003.0</td>\n",
       "      <td>Platform</td>\n",
       "      <td>0.01</td>\n",
       "      <td>0.00</td>\n",
       "      <td>0.00</td>\n",
       "      <td>0.0</td>\n",
       "      <td>NaN</td>\n",
       "      <td>NaN</td>\n",
       "      <td>NaN</td>\n",
       "    </tr>\n",
       "    <tr>\n",
       "      <th>16714</th>\n",
       "      <td>Winning Post 8 2016</td>\n",
       "      <td>PSV</td>\n",
       "      <td>2016.0</td>\n",
       "      <td>Simulation</td>\n",
       "      <td>0.00</td>\n",
       "      <td>0.00</td>\n",
       "      <td>0.01</td>\n",
       "      <td>0.0</td>\n",
       "      <td>NaN</td>\n",
       "      <td>NaN</td>\n",
       "      <td>NaN</td>\n",
       "    </tr>\n",
       "  </tbody>\n",
       "</table>\n",
       "</div>"
      ],
      "text/plain": [
       "                                                   Name Platform  \\\n",
       "16705                                           15 Days       PC   \n",
       "16706                     Men in Black II: Alien Escape       GC   \n",
       "16707                                  Aiyoku no Eustia      PSV   \n",
       "16708                Woody Woodpecker in Crazy Castle 5      GBA   \n",
       "16709  SCORE International Baja 1000: The Official Game      PS2   \n",
       "16710                     Samurai Warriors: Sanada Maru      PS3   \n",
       "16711                                  LMA Manager 2007     X360   \n",
       "16712                           Haitaka no Psychedelica      PSV   \n",
       "16713                                  Spirits & Spells      GBA   \n",
       "16714                               Winning Post 8 2016      PSV   \n",
       "\n",
       "       Year_of_Release       Genre  NA_sales  EU_sales  JP_sales  Other_sales  \\\n",
       "16705           2009.0   Adventure      0.00      0.01      0.00          0.0   \n",
       "16706           2003.0     Shooter      0.01      0.00      0.00          0.0   \n",
       "16707           2014.0        Misc      0.00      0.00      0.01          0.0   \n",
       "16708           2002.0    Platform      0.01      0.00      0.00          0.0   \n",
       "16709           2008.0      Racing      0.00      0.00      0.00          0.0   \n",
       "16710           2016.0      Action      0.00      0.00      0.01          0.0   \n",
       "16711           2006.0      Sports      0.00      0.01      0.00          0.0   \n",
       "16712           2016.0   Adventure      0.00      0.00      0.01          0.0   \n",
       "16713           2003.0    Platform      0.01      0.00      0.00          0.0   \n",
       "16714           2016.0  Simulation      0.00      0.00      0.01          0.0   \n",
       "\n",
       "       Critic_Score User_Score Rating  \n",
       "16705          63.0        5.8    NaN  \n",
       "16706           NaN        tbd      T  \n",
       "16707           NaN        NaN    NaN  \n",
       "16708           NaN        NaN    NaN  \n",
       "16709           NaN        NaN    NaN  \n",
       "16710           NaN        NaN    NaN  \n",
       "16711           NaN        NaN    NaN  \n",
       "16712           NaN        NaN    NaN  \n",
       "16713           NaN        NaN    NaN  \n",
       "16714           NaN        NaN    NaN  "
      ]
     },
     "execution_count": 6,
     "metadata": {},
     "output_type": "execute_result"
    }
   ],
   "source": [
    "data.tail(10)"
   ]
  },
  {
   "cell_type": "markdown",
   "metadata": {},
   "source": [
    "##### Вывод по исследуемым данным\n",
    "Столбцы записаны в неверном регистре, есть значения NaN у некоторых столбцов, также следует привести к правильному типу данных."
   ]
  },
  {
   "cell_type": "markdown",
   "metadata": {},
   "source": [
    "**Шаг 2. Предобработка данных**"
   ]
  },
  {
   "cell_type": "code",
   "execution_count": 7,
   "metadata": {},
   "outputs": [
    {
     "data": {
      "text/plain": [
       "Name                  2\n",
       "Platform              0\n",
       "Year_of_Release     269\n",
       "Genre                 2\n",
       "NA_sales              0\n",
       "EU_sales              0\n",
       "JP_sales              0\n",
       "Other_sales           0\n",
       "Critic_Score       8578\n",
       "User_Score         6701\n",
       "Rating             6766\n",
       "dtype: int64"
      ]
     },
     "execution_count": 7,
     "metadata": {},
     "output_type": "execute_result"
    }
   ],
   "source": [
    "data.isna().sum()"
   ]
  },
  {
   "cell_type": "markdown",
   "metadata": {},
   "source": [
    "*Пропуски есть в стлобцах:*\n",
    "\n",
    "Name, Year_of_Release, Critic_Score, User_Score, Rating\n",
    "\n",
    "*Пропуски могли появиться по многим причинам, например:* пользователи и критики могли попросту не дать оценку игре по причинам недоступности данной игры в их регионе или потому что она не популярная, рейтинг от организации ESRB мог быть не дан по множествам причин (например не подходит по критериям для оценки) или же просто технические ошибки, наличие двух пропусков в поле name и genre больше всего похоже на техническую ошибку."
   ]
  },
  {
   "cell_type": "code",
   "execution_count": 8,
   "metadata": {},
   "outputs": [
    {
     "data": {
      "text/plain": [
       "Index(['name', 'platform', 'year_of_release', 'genre', 'na_sales', 'eu_sales',\n",
       "       'jp_sales', 'other_sales', 'critic_score', 'user_score', 'rating'],\n",
       "      dtype='object')"
      ]
     },
     "execution_count": 8,
     "metadata": {},
     "output_type": "execute_result"
    }
   ],
   "source": [
    "# Замена названия столбцов (приведение к нижнему регистру) \n",
    "data.columns = data.columns.str.lower()\n",
    "data.columns"
   ]
  },
  {
   "cell_type": "code",
   "execution_count": 9,
   "metadata": {},
   "outputs": [],
   "source": [
    "#Замена пропущенных значений на пустые строки для удобства работы. Пока логично заменить поля name и genre.\n",
    "data.fillna({\"name\" : \" \", \"genre\" : \" \"}, inplace=True)"
   ]
  },
  {
   "cell_type": "code",
   "execution_count": 10,
   "metadata": {},
   "outputs": [],
   "source": [
    "#TBD - аббревиатура от английского To Be Determined (будет определено) или To Be Decided (будет решено)\n",
    "#То есть, данные были не заполнены специально, так как решения о рейтинге не было. Следует заменить tbd на Nan\n",
    "data.loc[data['user_score'] == 'tbd', 'user_score'] = np.nan\n",
    "data['user_score'] = data['user_score'].astype('float')"
   ]
  },
  {
   "cell_type": "code",
   "execution_count": 11,
   "metadata": {},
   "outputs": [],
   "source": [
    "# Приведение годов и оценок критиков к целочисленному типу\n",
    "data['year_of_release'] = data['year_of_release'].astype('Int64')\n",
    "data['critic_score'] = data['critic_score'].astype(float)"
   ]
  },
  {
   "cell_type": "code",
   "execution_count": 12,
   "metadata": {},
   "outputs": [],
   "source": [
    "data['rating'] = data['rating'].fillna('Unknown')"
   ]
  },
  {
   "cell_type": "code",
   "execution_count": 13,
   "metadata": {},
   "outputs": [],
   "source": [
    "#Отдельный столбец с суммой продаж по всем регионам 'full_sales'\n",
    "data['full_sales'] = data['na_sales'] + data['eu_sales'] + data['jp_sales'] + data['other_sales']"
   ]
  },
  {
   "cell_type": "markdown",
   "metadata": {},
   "source": [
    "**Вывод:**\n",
    "\n",
    "Предварительно можно утверждать, что полноты предоставленных данных достаточно для проведения анализа.\n",
    "\n",
    "Обнаружены проблемы:\n",
    "\n",
    "В нескольких столбцах пропущены значения;\n",
    "\n",
    "Названия столбцов не приведены к правильному (нижнему) регистру;\n",
    "\n",
    "Неправильный тип данных в нескольких столбцах."
   ]
  },
  {
   "cell_type": "markdown",
   "metadata": {},
   "source": [
    "**Шаг 3. Исследовательский анализ данных**"
   ]
  },
  {
   "cell_type": "markdown",
   "metadata": {},
   "source": [
    "*Посмотрите, сколько игр выпускалось в разные годы. Важны ли данные за все периоды?*"
   ]
  },
  {
   "cell_type": "code",
   "execution_count": 14,
   "metadata": {},
   "outputs": [
    {
     "data": {
      "text/plain": [
       "Text(0, 0.5, 'Количество игр')"
      ]
     },
     "execution_count": 14,
     "metadata": {},
     "output_type": "execute_result"
    },
    {
     "data": {
      "image/png": "[encoded data removed]",
      "text/plain": [
       "<Figure size 1080x360 with 1 Axes>"
      ]
     },
     "metadata": {
      "needs_background": "light"
     },
     "output_type": "display_data"
    }
   ],
   "source": [
    "# Методом пивот отсортируем таблицы и отрисуем график, чтобы просмотреть как менялось количество выпускаемых игр\n",
    "games = data.pivot_table(index='year_of_release', values='name', aggfunc='count')\n",
    "plt.figure(figsize=(15, 5))\n",
    "sns.lineplot(data=games)\n",
    "plt.title(\"Количество выпускаемых игр по годам\")\n",
    "plt.xlabel(\"Год выпуска\")\n",
    "plt.ylabel(\"Количество игр\")"
   ]
  },
  {
   "cell_type": "markdown",
   "metadata": {},
   "source": [
    "По графику можно сказать, что количество игр на консоли и компьютеры начало активно расти в конце 90 с активным ростом до 2007-2008 года. Обосновать тенденцию к снижению количества компьютерных игр можно обосновать развитием мобильных игр и других альтернатив приставкам."
   ]
  },
  {
   "cell_type": "markdown",
   "metadata": {},
   "source": [
    "*Посмотрите, как менялись продажи по платформам. Выберите платформы с наибольшими суммарными продажами и постройте распределение по годам. За какой характерный срок появляются новые и исчезают старые платформы?*"
   ]
  },
  {
   "cell_type": "code",
   "execution_count": 15,
   "metadata": {},
   "outputs": [
    {
     "data": {
      "text/plain": [
       "Text(0, 0.5, 'Количество продаж')"
      ]
     },
     "execution_count": 15,
     "metadata": {},
     "output_type": "execute_result"
    },
    {
     "data": {
      "image/png": "[encoded data removed]",
      "text/plain": [
       "<Figure size 1080x360 with 1 Axes>"
      ]
     },
     "metadata": {
      "needs_background": "light"
     },
     "output_type": "display_data"
    }
   ],
   "source": [
    "platform_sales = data.pivot_table(\n",
    "    index='platform', values='full_sales', aggfunc='sum').sort_values(by='full_sales', ascending=False)\n",
    "\n",
    "plt.figure(figsize=(15, 5))\n",
    "sns.barplot(x=platform_sales.index,y=platform_sales['full_sales'])\n",
    "plt.title(\"Продажи по платформам за всё время\")\n",
    "plt.xlabel(\"Платформы\")\n",
    "plt.ylabel(\"Количество продаж\")"
   ]
  },
  {
   "cell_type": "code",
   "execution_count": 16,
   "metadata": {},
   "outputs": [
    {
     "data": {
      "text/plain": [
       "<Figure size 1440x720 with 0 Axes>"
      ]
     },
     "execution_count": 16,
     "metadata": {},
     "output_type": "execute_result"
    },
    {
     "data": {
      "image/png": "[encoded data removed]",
      "text/plain": [
       "<Figure size 432x288 with 1 Axes>"
      ]
     },
     "metadata": {
      "needs_background": "light"
     },
     "output_type": "display_data"
    },
    {
     "data": {
      "text/plain": [
       "<Figure size 1440x720 with 0 Axes>"
      ]
     },
     "metadata": {},
     "output_type": "display_data"
    }
   ],
   "source": [
    "data['year_of_release'].hist(bins=10)\n",
    "plt.figure(figsize=(20, 10))"
   ]
  },
  {
   "cell_type": "markdown",
   "metadata": {},
   "source": [
    "Cамые популярные игровые платформы за всё время это PS2, X360, PS3, WII, DS, PS\n",
    "\n",
    "**Факт:**\n",
    "оригинальная, первая Playstation (PS) была выпущена компанией Sony 29 лет назад, в декабре 1994 года.\n",
    "Новая версия игровой приставки была выпущена спустя шесть лет после выхода первой (такая периодичность, 6—7 лет, сохраняется до сих пор). Продажи начались в марте 2000 года, производство завершилось только в январе 2013 года. \n",
    "\n",
    "Считается, что Playstation смогла выиграть гонку с конкурентами в том числе благодаря относительно низкой стоимости приставки и, что даже более важно, благодаря сотрудничеству со сторонними разработчиками игр — Nintendo и Sega акцентировали внимание на собственном производстве видеоигр."
   ]
  },
  {
   "cell_type": "markdown",
   "metadata": {},
   "source": [
    "*Возьмите данные за соответствующий актуальный период. Актуальный период определите самостоятельно в результате исследования предыдущих вопросов.* **Основной фактор — эти данные помогут построить прогноз на 2017 год.**"
   ]
  },
  {
   "cell_type": "code",
   "execution_count": 17,
   "metadata": {},
   "outputs": [
    {
     "data": {
      "text/html": [
       "<div>\n",
       "<style scoped>\n",
       "    .dataframe tbody tr th:only-of-type {\n",
       "        vertical-align: middle;\n",
       "    }\n",
       "\n",
       "    .dataframe tbody tr th {\n",
       "        vertical-align: top;\n",
       "    }\n",
       "\n",
       "    .dataframe thead th {\n",
       "        text-align: right;\n",
       "    }\n",
       "</style>\n",
       "<table border=\"1\" class=\"dataframe\">\n",
       "  <thead>\n",
       "    <tr style=\"text-align: right;\">\n",
       "      <th></th>\n",
       "      <th>name</th>\n",
       "      <th>platform</th>\n",
       "      <th>year_of_release</th>\n",
       "      <th>genre</th>\n",
       "      <th>na_sales</th>\n",
       "      <th>eu_sales</th>\n",
       "      <th>jp_sales</th>\n",
       "      <th>other_sales</th>\n",
       "      <th>critic_score</th>\n",
       "      <th>user_score</th>\n",
       "      <th>rating</th>\n",
       "      <th>full_sales</th>\n",
       "    </tr>\n",
       "  </thead>\n",
       "  <tbody>\n",
       "    <tr>\n",
       "      <th>31</th>\n",
       "      <td>Call of Duty: Black Ops 3</td>\n",
       "      <td>PS4</td>\n",
       "      <td>2015</td>\n",
       "      <td>Shooter</td>\n",
       "      <td>6.03</td>\n",
       "      <td>5.86</td>\n",
       "      <td>0.36</td>\n",
       "      <td>2.38</td>\n",
       "      <td>NaN</td>\n",
       "      <td>NaN</td>\n",
       "      <td>Unknown</td>\n",
       "      <td>14.63</td>\n",
       "    </tr>\n",
       "    <tr>\n",
       "      <th>42</th>\n",
       "      <td>Grand Theft Auto V</td>\n",
       "      <td>PS4</td>\n",
       "      <td>2014</td>\n",
       "      <td>Action</td>\n",
       "      <td>3.96</td>\n",
       "      <td>6.31</td>\n",
       "      <td>0.38</td>\n",
       "      <td>1.97</td>\n",
       "      <td>97.0</td>\n",
       "      <td>8.3</td>\n",
       "      <td>M</td>\n",
       "      <td>12.62</td>\n",
       "    </tr>\n",
       "    <tr>\n",
       "      <th>47</th>\n",
       "      <td>Pokemon Omega Ruby/Pokemon Alpha Sapphire</td>\n",
       "      <td>3DS</td>\n",
       "      <td>2014</td>\n",
       "      <td>Role-Playing</td>\n",
       "      <td>4.35</td>\n",
       "      <td>3.49</td>\n",
       "      <td>3.10</td>\n",
       "      <td>0.74</td>\n",
       "      <td>NaN</td>\n",
       "      <td>NaN</td>\n",
       "      <td>Unknown</td>\n",
       "      <td>11.68</td>\n",
       "    </tr>\n",
       "    <tr>\n",
       "      <th>77</th>\n",
       "      <td>FIFA 16</td>\n",
       "      <td>PS4</td>\n",
       "      <td>2015</td>\n",
       "      <td>Sports</td>\n",
       "      <td>1.12</td>\n",
       "      <td>6.12</td>\n",
       "      <td>0.06</td>\n",
       "      <td>1.28</td>\n",
       "      <td>82.0</td>\n",
       "      <td>4.3</td>\n",
       "      <td>E</td>\n",
       "      <td>8.58</td>\n",
       "    </tr>\n",
       "    <tr>\n",
       "      <th>87</th>\n",
       "      <td>Star Wars Battlefront (2015)</td>\n",
       "      <td>PS4</td>\n",
       "      <td>2015</td>\n",
       "      <td>Shooter</td>\n",
       "      <td>2.99</td>\n",
       "      <td>3.49</td>\n",
       "      <td>0.22</td>\n",
       "      <td>1.28</td>\n",
       "      <td>NaN</td>\n",
       "      <td>NaN</td>\n",
       "      <td>Unknown</td>\n",
       "      <td>7.98</td>\n",
       "    </tr>\n",
       "    <tr>\n",
       "      <th>92</th>\n",
       "      <td>Call of Duty: Advanced Warfare</td>\n",
       "      <td>PS4</td>\n",
       "      <td>2014</td>\n",
       "      <td>Shooter</td>\n",
       "      <td>2.81</td>\n",
       "      <td>3.48</td>\n",
       "      <td>0.14</td>\n",
       "      <td>1.23</td>\n",
       "      <td>83.0</td>\n",
       "      <td>5.7</td>\n",
       "      <td>M</td>\n",
       "      <td>7.66</td>\n",
       "    </tr>\n",
       "    <tr>\n",
       "      <th>94</th>\n",
       "      <td>FIFA 17</td>\n",
       "      <td>PS4</td>\n",
       "      <td>2016</td>\n",
       "      <td>Sports</td>\n",
       "      <td>0.66</td>\n",
       "      <td>5.75</td>\n",
       "      <td>0.08</td>\n",
       "      <td>1.11</td>\n",
       "      <td>85.0</td>\n",
       "      <td>5.0</td>\n",
       "      <td>E</td>\n",
       "      <td>7.60</td>\n",
       "    </tr>\n",
       "    <tr>\n",
       "      <th>96</th>\n",
       "      <td>Super Smash Bros. for Wii U and 3DS</td>\n",
       "      <td>3DS</td>\n",
       "      <td>2014</td>\n",
       "      <td>Fighting</td>\n",
       "      <td>3.27</td>\n",
       "      <td>1.37</td>\n",
       "      <td>2.43</td>\n",
       "      <td>0.48</td>\n",
       "      <td>NaN</td>\n",
       "      <td>NaN</td>\n",
       "      <td>Unknown</td>\n",
       "      <td>7.55</td>\n",
       "    </tr>\n",
       "    <tr>\n",
       "      <th>99</th>\n",
       "      <td>Call of Duty: Black Ops 3</td>\n",
       "      <td>XOne</td>\n",
       "      <td>2015</td>\n",
       "      <td>Shooter</td>\n",
       "      <td>4.59</td>\n",
       "      <td>2.11</td>\n",
       "      <td>0.01</td>\n",
       "      <td>0.68</td>\n",
       "      <td>NaN</td>\n",
       "      <td>NaN</td>\n",
       "      <td>Unknown</td>\n",
       "      <td>7.39</td>\n",
       "    </tr>\n",
       "    <tr>\n",
       "      <th>105</th>\n",
       "      <td>Fallout 4</td>\n",
       "      <td>PS4</td>\n",
       "      <td>2015</td>\n",
       "      <td>Role-Playing</td>\n",
       "      <td>2.53</td>\n",
       "      <td>3.27</td>\n",
       "      <td>0.24</td>\n",
       "      <td>1.13</td>\n",
       "      <td>87.0</td>\n",
       "      <td>6.5</td>\n",
       "      <td>M</td>\n",
       "      <td>7.17</td>\n",
       "    </tr>\n",
       "  </tbody>\n",
       "</table>\n",
       "</div>"
      ],
      "text/plain": [
       "                                          name platform  year_of_release  \\\n",
       "31                   Call of Duty: Black Ops 3      PS4             2015   \n",
       "42                          Grand Theft Auto V      PS4             2014   \n",
       "47   Pokemon Omega Ruby/Pokemon Alpha Sapphire      3DS             2014   \n",
       "77                                     FIFA 16      PS4             2015   \n",
       "87                Star Wars Battlefront (2015)      PS4             2015   \n",
       "92              Call of Duty: Advanced Warfare      PS4             2014   \n",
       "94                                     FIFA 17      PS4             2016   \n",
       "96         Super Smash Bros. for Wii U and 3DS      3DS             2014   \n",
       "99                   Call of Duty: Black Ops 3     XOne             2015   \n",
       "105                                  Fallout 4      PS4             2015   \n",
       "\n",
       "            genre  na_sales  eu_sales  jp_sales  other_sales  critic_score  \\\n",
       "31        Shooter      6.03      5.86      0.36         2.38           NaN   \n",
       "42         Action      3.96      6.31      0.38         1.97          97.0   \n",
       "47   Role-Playing      4.35      3.49      3.10         0.74           NaN   \n",
       "77         Sports      1.12      6.12      0.06         1.28          82.0   \n",
       "87        Shooter      2.99      3.49      0.22         1.28           NaN   \n",
       "92        Shooter      2.81      3.48      0.14         1.23          83.0   \n",
       "94         Sports      0.66      5.75      0.08         1.11          85.0   \n",
       "96       Fighting      3.27      1.37      2.43         0.48           NaN   \n",
       "99        Shooter      4.59      2.11      0.01         0.68           NaN   \n",
       "105  Role-Playing      2.53      3.27      0.24         1.13          87.0   \n",
       "\n",
       "     user_score   rating  full_sales  \n",
       "31          NaN  Unknown       14.63  \n",
       "42          8.3        M       12.62  \n",
       "47          NaN  Unknown       11.68  \n",
       "77          4.3        E        8.58  \n",
       "87          NaN  Unknown        7.98  \n",
       "92          5.7        M        7.66  \n",
       "94          5.0        E        7.60  \n",
       "96          NaN  Unknown        7.55  \n",
       "99          NaN  Unknown        7.39  \n",
       "105         6.5        M        7.17  "
      ]
     },
     "execution_count": 17,
     "metadata": {},
     "output_type": "execute_result"
    }
   ],
   "source": [
    "# Создание таблицы с актуальными данными\n",
    "actual_data = data.query('year_of_release >= 2014')\n",
    "actual_data.head(10)"
   ]
  },
  {
   "cell_type": "markdown",
   "metadata": {},
   "source": [
    "Время жизнь консоли (поколения консоли) около 7-10 лет, поэтому, для более точного прогноза данных на 2017 год отсеем всё до 2014 года."
   ]
  },
  {
   "cell_type": "markdown",
   "metadata": {},
   "source": [
    "*Какие платформы лидируют по продажам, растут или падают? Выберите несколько потенциально прибыльных платформ.*"
   ]
  },
  {
   "cell_type": "code",
   "execution_count": 18,
   "metadata": {},
   "outputs": [
    {
     "data": {
      "text/plain": [
       "array(['PS4', '3DS', 'XOne', 'WiiU', 'PS3', 'X360', 'PC', 'Wii', 'PSV',\n",
       "       'PSP'], dtype=object)"
      ]
     },
     "execution_count": 18,
     "metadata": {},
     "output_type": "execute_result"
    }
   ],
   "source": [
    "actual_data['platform'].unique() # список уникальных платформ"
   ]
  },
  {
   "cell_type": "code",
   "execution_count": 19,
   "metadata": {},
   "outputs": [
    {
     "data": {
      "text/html": [
       "<div>\n",
       "<style scoped>\n",
       "    .dataframe tbody tr th:only-of-type {\n",
       "        vertical-align: middle;\n",
       "    }\n",
       "\n",
       "    .dataframe tbody tr th {\n",
       "        vertical-align: top;\n",
       "    }\n",
       "\n",
       "    .dataframe thead tr th {\n",
       "        text-align: left;\n",
       "    }\n",
       "\n",
       "    .dataframe thead tr:last-of-type th {\n",
       "        text-align: right;\n",
       "    }\n",
       "</style>\n",
       "<table border=\"1\" class=\"dataframe\">\n",
       "  <thead>\n",
       "    <tr>\n",
       "      <th></th>\n",
       "      <th>sum</th>\n",
       "    </tr>\n",
       "    <tr>\n",
       "      <th></th>\n",
       "      <th>full_sales</th>\n",
       "    </tr>\n",
       "    <tr>\n",
       "      <th>platform</th>\n",
       "      <th></th>\n",
       "    </tr>\n",
       "  </thead>\n",
       "  <tbody>\n",
       "    <tr>\n",
       "      <th>PS4</th>\n",
       "      <td>288.15</td>\n",
       "    </tr>\n",
       "    <tr>\n",
       "      <th>XOne</th>\n",
       "      <td>140.36</td>\n",
       "    </tr>\n",
       "    <tr>\n",
       "      <th>3DS</th>\n",
       "      <td>86.68</td>\n",
       "    </tr>\n",
       "    <tr>\n",
       "      <th>PS3</th>\n",
       "      <td>68.18</td>\n",
       "    </tr>\n",
       "    <tr>\n",
       "      <th>X360</th>\n",
       "      <td>48.22</td>\n",
       "    </tr>\n",
       "    <tr>\n",
       "      <th>WiiU</th>\n",
       "      <td>42.98</td>\n",
       "    </tr>\n",
       "    <tr>\n",
       "      <th>PC</th>\n",
       "      <td>27.05</td>\n",
       "    </tr>\n",
       "    <tr>\n",
       "      <th>PSV</th>\n",
       "      <td>22.40</td>\n",
       "    </tr>\n",
       "    <tr>\n",
       "      <th>Wii</th>\n",
       "      <td>5.07</td>\n",
       "    </tr>\n",
       "    <tr>\n",
       "      <th>PSP</th>\n",
       "      <td>0.36</td>\n",
       "    </tr>\n",
       "  </tbody>\n",
       "</table>\n",
       "</div>"
      ],
      "text/plain": [
       "                sum\n",
       "         full_sales\n",
       "platform           \n",
       "PS4          288.15\n",
       "XOne         140.36\n",
       "3DS           86.68\n",
       "PS3           68.18\n",
       "X360          48.22\n",
       "WiiU          42.98\n",
       "PC            27.05\n",
       "PSV           22.40\n",
       "Wii            5.07\n",
       "PSP            0.36"
      ]
     },
     "execution_count": 19,
     "metadata": {},
     "output_type": "execute_result"
    }
   ],
   "source": [
    "# Продажи по этим платформам за актуальный период\n",
    "actual_platforms = actual_data.pivot_table(\n",
    "                                 index = ['platform'], \n",
    "                                 values = ['full_sales'],\n",
    "                                 aggfunc =  ['sum'])\n",
    "\n",
    "actual_platforms.sort_values(('sum', 'full_sales'), ascending = False)"
   ]
  },
  {
   "cell_type": "code",
   "execution_count": 20,
   "metadata": {},
   "outputs": [
    {
     "data": {
      "image/png": "[encoded data removed]",
      "text/plain": [
       "<Figure size 1440x720 with 1 Axes>"
      ]
     },
     "metadata": {
      "needs_background": "light"
     },
     "output_type": "display_data"
    }
   ],
   "source": [
    "platforms_actual_data = actual_data.pivot_table(\n",
    "                                 index = ['year_of_release'], \\\n",
    "                                 columns = ['platform'],\n",
    "                                 values = ['full_sales'],\n",
    "                                 aggfunc =  ['sum'])\n",
    "platforms_actual_data.plot(figsize = (20,10))\n",
    "plt.show()"
   ]
  },
  {
   "cell_type": "markdown",
   "metadata": {},
   "source": [
    "Очевидный лидер - PS4. Потенциально прибыльной консолью считаю только PS4 (на 2017 год когда PS5 еще не анонсирована).\n",
    "XOne на втором месте."
   ]
  },
  {
   "cell_type": "markdown",
   "metadata": {},
   "source": [
    "Постройте график «ящик с усами» по глобальным продажам игр в разбивке по платформам. Опишите результат."
   ]
  },
  {
   "cell_type": "code",
   "execution_count": 21,
   "metadata": {},
   "outputs": [
    {
     "data": {
      "image/png": "[encoded data removed]",
      "text/plain": [
       "<Figure size 1440x720 with 1 Axes>"
      ]
     },
     "metadata": {
      "needs_background": "light"
     },
     "output_type": "display_data"
    }
   ],
   "source": [
    "plt.figure(figsize=(20, 10))\n",
    "\n",
    "sns.boxplot(data = actual_data, x='platform', y='full_sales')\n",
    "\n",
    "plt.ylim(0, 1)\n",
    "\n",
    "plt.title('\"Ящики с усами\" по продажам игр')\n",
    "plt.xlabel('Продажи')\n",
    "plt.ylabel('Платформы')\n",
    "\n",
    "plt.show()"
   ]
  },
  {
   "cell_type": "markdown",
   "metadata": {},
   "source": [
    "Посмотрите, как влияют на продажи внутри одной популярной платформы отзывы пользователей и критиков. Постройте диаграмму рассеяния и посчитайте корреляцию между отзывами и продажами. Сформулируйте выводы."
   ]
  },
  {
   "cell_type": "code",
   "execution_count": 22,
   "metadata": {},
   "outputs": [],
   "source": [
    "ps4_data = actual_data.query('platform == \"PS4\"')\n",
    "ps4_data = ps4_data.sort_values('user_score', ascending = False)"
   ]
  },
  {
   "cell_type": "code",
   "execution_count": 23,
   "metadata": {},
   "outputs": [
    {
     "data": {
      "text/plain": [
       "Text(0.5, 1.0, 'Влияние отзывов пользователей на продажи')"
      ]
     },
     "execution_count": 23,
     "metadata": {},
     "output_type": "execute_result"
    },
    {
     "data": {
      "image/png": "[encoded data removed]",
      "text/plain": [
       "<Figure size 432x288 with 1 Axes>"
      ]
     },
     "metadata": {
      "needs_background": "light"
     },
     "output_type": "display_data"
    }
   ],
   "source": [
    "ps4_score_users = sns.scatterplot(data = ps4_data, x = 'user_score', y = 'full_sales', alpha=0.25)\n",
    "plt.title('Влияние отзывов пользователей на продажи')"
   ]
  },
  {
   "cell_type": "code",
   "execution_count": 24,
   "metadata": {},
   "outputs": [
    {
     "data": {
      "text/plain": [
       "Text(0.5, 1.0, 'Влияние отзывов критиков на продажи')"
      ]
     },
     "execution_count": 24,
     "metadata": {},
     "output_type": "execute_result"
    },
    {
     "data": {
      "image/png": "[encoded data removed]",
      "text/plain": [
       "<Figure size 432x288 with 1 Axes>"
      ]
     },
     "metadata": {
      "needs_background": "light"
     },
     "output_type": "display_data"
    }
   ],
   "source": [
    "ps4_score_critic = sns.scatterplot(data = ps4_data, x = 'critic_score', y = 'full_sales', alpha=0.25)\n",
    "plt.title('Влияние отзывов критиков на продажи')"
   ]
  },
  {
   "cell_type": "code",
   "execution_count": 25,
   "metadata": {},
   "outputs": [
    {
     "data": {
      "text/plain": [
       "-0.040131589472697356"
      ]
     },
     "execution_count": 25,
     "metadata": {},
     "output_type": "execute_result"
    }
   ],
   "source": [
    "ps4_data['user_score'].corr(ps4_data['full_sales'])"
   ]
  },
  {
   "cell_type": "markdown",
   "metadata": {},
   "source": [
    "Оценки пользователей не влияют на продажи. Коэффициент корреляции почти равен 0."
   ]
  },
  {
   "cell_type": "code",
   "execution_count": 26,
   "metadata": {},
   "outputs": [
    {
     "data": {
      "text/plain": [
       "0.4026614106810408"
      ]
     },
     "execution_count": 26,
     "metadata": {},
     "output_type": "execute_result"
    }
   ],
   "source": [
    "ps4_data['critic_score'].corr(ps4_data['full_sales'])"
   ]
  },
  {
   "cell_type": "markdown",
   "metadata": {},
   "source": [
    "Между объёмом продаж и оценками критиков наблюдается слабая прямая корреляция."
   ]
  },
  {
   "cell_type": "markdown",
   "metadata": {},
   "source": [
    "*Соотнесите выводы с продажами игр на других платформах.*"
   ]
  },
  {
   "cell_type": "code",
   "execution_count": 27,
   "metadata": {},
   "outputs": [
    {
     "name": "stdout",
     "output_type": "stream",
     "text": [
      "-0.13844457094566504\n",
      "0.5257228356581523\n"
     ]
    }
   ],
   "source": [
    "x360_df = actual_data.query('platform == \"X360\"')\n",
    "x360_df = x360_df.sort_values('user_score', ascending = False)\n",
    "\n",
    "print(x360_df['user_score'].corr(x360_df['full_sales']))\n",
    "print(x360_df['critic_score'].corr(x360_df['full_sales']))"
   ]
  },
  {
   "cell_type": "markdown",
   "metadata": {},
   "source": [
    "Ситуация схожая. Оценки пользователей едва влияют. Критики своими хорошими отзывами немного повышают продажи, но говорить о прямой зависимости нельзя."
   ]
  },
  {
   "cell_type": "markdown",
   "metadata": {},
   "source": [
    "*Посмотрите на общее распределение игр по жанрам. Что можно сказать о самых прибыльных жанрах? Выделяются ли жанры с высокими и низкими продажами?*"
   ]
  },
  {
   "cell_type": "code",
   "execution_count": 28,
   "metadata": {},
   "outputs": [
    {
     "data": {
      "text/plain": [
       "Action          619\n",
       "Role-Playing    221\n",
       "Adventure       185\n",
       "Sports          161\n",
       "Shooter         128\n",
       "Misc            113\n",
       "Racing           69\n",
       "Fighting         60\n",
       "Simulation       44\n",
       "Platform         38\n",
       "Strategy         37\n",
       "Puzzle           14\n",
       "Name: genre, dtype: int64"
      ]
     },
     "execution_count": 28,
     "metadata": {},
     "output_type": "execute_result"
    }
   ],
   "source": [
    "actual_data['genre'].value_counts()"
   ]
  },
  {
   "cell_type": "code",
   "execution_count": 29,
   "metadata": {},
   "outputs": [
    {
     "data": {
      "text/html": [
       "<div>\n",
       "<style scoped>\n",
       "    .dataframe tbody tr th:only-of-type {\n",
       "        vertical-align: middle;\n",
       "    }\n",
       "\n",
       "    .dataframe tbody tr th {\n",
       "        vertical-align: top;\n",
       "    }\n",
       "\n",
       "    .dataframe thead th {\n",
       "        text-align: right;\n",
       "    }\n",
       "</style>\n",
       "<table border=\"1\" class=\"dataframe\">\n",
       "  <thead>\n",
       "    <tr style=\"text-align: right;\">\n",
       "      <th></th>\n",
       "      <th>full_sales</th>\n",
       "    </tr>\n",
       "    <tr>\n",
       "      <th>genre</th>\n",
       "      <th></th>\n",
       "    </tr>\n",
       "  </thead>\n",
       "  <tbody>\n",
       "    <tr>\n",
       "      <th>Action</th>\n",
       "      <td>199.36</td>\n",
       "    </tr>\n",
       "    <tr>\n",
       "      <th>Shooter</th>\n",
       "      <td>170.94</td>\n",
       "    </tr>\n",
       "    <tr>\n",
       "      <th>Sports</th>\n",
       "      <td>109.48</td>\n",
       "    </tr>\n",
       "    <tr>\n",
       "      <th>Role-Playing</th>\n",
       "      <td>101.44</td>\n",
       "    </tr>\n",
       "    <tr>\n",
       "      <th>Misc</th>\n",
       "      <td>37.55</td>\n",
       "    </tr>\n",
       "    <tr>\n",
       "      <th>Fighting</th>\n",
       "      <td>28.22</td>\n",
       "    </tr>\n",
       "    <tr>\n",
       "      <th>Racing</th>\n",
       "      <td>27.52</td>\n",
       "    </tr>\n",
       "    <tr>\n",
       "      <th>Platform</th>\n",
       "      <td>18.09</td>\n",
       "    </tr>\n",
       "    <tr>\n",
       "      <th>Adventure</th>\n",
       "      <td>17.55</td>\n",
       "    </tr>\n",
       "    <tr>\n",
       "      <th>Simulation</th>\n",
       "      <td>13.13</td>\n",
       "    </tr>\n",
       "    <tr>\n",
       "      <th>Strategy</th>\n",
       "      <td>3.96</td>\n",
       "    </tr>\n",
       "    <tr>\n",
       "      <th>Puzzle</th>\n",
       "      <td>2.21</td>\n",
       "    </tr>\n",
       "  </tbody>\n",
       "</table>\n",
       "</div>"
      ],
      "text/plain": [
       "              full_sales\n",
       "genre                   \n",
       "Action            199.36\n",
       "Shooter           170.94\n",
       "Sports            109.48\n",
       "Role-Playing      101.44\n",
       "Misc               37.55\n",
       "Fighting           28.22\n",
       "Racing             27.52\n",
       "Platform           18.09\n",
       "Adventure          17.55\n",
       "Simulation         13.13\n",
       "Strategy            3.96\n",
       "Puzzle              2.21"
      ]
     },
     "execution_count": 29,
     "metadata": {},
     "output_type": "execute_result"
    }
   ],
   "source": [
    "(actual_data.pivot_table(index='genre', values='full_sales', aggfunc='sum').sort_values('full_sales', ascending=False))"
   ]
  },
  {
   "cell_type": "code",
   "execution_count": 30,
   "metadata": {},
   "outputs": [
    {
     "data": {
      "text/html": [
       "<div>\n",
       "<style scoped>\n",
       "    .dataframe tbody tr th:only-of-type {\n",
       "        vertical-align: middle;\n",
       "    }\n",
       "\n",
       "    .dataframe tbody tr th {\n",
       "        vertical-align: top;\n",
       "    }\n",
       "\n",
       "    .dataframe thead th {\n",
       "        text-align: right;\n",
       "    }\n",
       "</style>\n",
       "<table border=\"1\" class=\"dataframe\">\n",
       "  <thead>\n",
       "    <tr style=\"text-align: right;\">\n",
       "      <th></th>\n",
       "      <th>count</th>\n",
       "      <th>mean</th>\n",
       "      <th>std</th>\n",
       "      <th>min</th>\n",
       "      <th>25%</th>\n",
       "      <th>50%</th>\n",
       "      <th>75%</th>\n",
       "      <th>max</th>\n",
       "    </tr>\n",
       "    <tr>\n",
       "      <th>genre</th>\n",
       "      <th></th>\n",
       "      <th></th>\n",
       "      <th></th>\n",
       "      <th></th>\n",
       "      <th></th>\n",
       "      <th></th>\n",
       "      <th></th>\n",
       "      <th></th>\n",
       "    </tr>\n",
       "  </thead>\n",
       "  <tbody>\n",
       "    <tr>\n",
       "      <th>Action</th>\n",
       "      <td>619.0</td>\n",
       "      <td>0.322068</td>\n",
       "      <td>0.798181</td>\n",
       "      <td>0.01</td>\n",
       "      <td>0.0300</td>\n",
       "      <td>0.090</td>\n",
       "      <td>0.2800</td>\n",
       "      <td>12.62</td>\n",
       "    </tr>\n",
       "    <tr>\n",
       "      <th>Adventure</th>\n",
       "      <td>185.0</td>\n",
       "      <td>0.094865</td>\n",
       "      <td>0.203147</td>\n",
       "      <td>0.01</td>\n",
       "      <td>0.0200</td>\n",
       "      <td>0.030</td>\n",
       "      <td>0.0800</td>\n",
       "      <td>1.66</td>\n",
       "    </tr>\n",
       "    <tr>\n",
       "      <th>Fighting</th>\n",
       "      <td>60.0</td>\n",
       "      <td>0.470333</td>\n",
       "      <td>1.188053</td>\n",
       "      <td>0.01</td>\n",
       "      <td>0.0600</td>\n",
       "      <td>0.125</td>\n",
       "      <td>0.3200</td>\n",
       "      <td>7.55</td>\n",
       "    </tr>\n",
       "    <tr>\n",
       "      <th>Misc</th>\n",
       "      <td>113.0</td>\n",
       "      <td>0.332301</td>\n",
       "      <td>0.736999</td>\n",
       "      <td>0.01</td>\n",
       "      <td>0.0300</td>\n",
       "      <td>0.090</td>\n",
       "      <td>0.3200</td>\n",
       "      <td>5.27</td>\n",
       "    </tr>\n",
       "    <tr>\n",
       "      <th>Platform</th>\n",
       "      <td>38.0</td>\n",
       "      <td>0.476053</td>\n",
       "      <td>0.722561</td>\n",
       "      <td>0.01</td>\n",
       "      <td>0.0625</td>\n",
       "      <td>0.140</td>\n",
       "      <td>0.4675</td>\n",
       "      <td>3.21</td>\n",
       "    </tr>\n",
       "    <tr>\n",
       "      <th>Puzzle</th>\n",
       "      <td>14.0</td>\n",
       "      <td>0.157857</td>\n",
       "      <td>0.320629</td>\n",
       "      <td>0.01</td>\n",
       "      <td>0.0200</td>\n",
       "      <td>0.045</td>\n",
       "      <td>0.1000</td>\n",
       "      <td>1.19</td>\n",
       "    </tr>\n",
       "    <tr>\n",
       "      <th>Racing</th>\n",
       "      <td>69.0</td>\n",
       "      <td>0.398841</td>\n",
       "      <td>0.963716</td>\n",
       "      <td>0.01</td>\n",
       "      <td>0.0300</td>\n",
       "      <td>0.090</td>\n",
       "      <td>0.2500</td>\n",
       "      <td>7.09</td>\n",
       "    </tr>\n",
       "    <tr>\n",
       "      <th>Role-Playing</th>\n",
       "      <td>221.0</td>\n",
       "      <td>0.459005</td>\n",
       "      <td>1.177284</td>\n",
       "      <td>0.01</td>\n",
       "      <td>0.0500</td>\n",
       "      <td>0.110</td>\n",
       "      <td>0.3600</td>\n",
       "      <td>11.68</td>\n",
       "    </tr>\n",
       "    <tr>\n",
       "      <th>Shooter</th>\n",
       "      <td>128.0</td>\n",
       "      <td>1.335469</td>\n",
       "      <td>2.050567</td>\n",
       "      <td>0.01</td>\n",
       "      <td>0.1725</td>\n",
       "      <td>0.515</td>\n",
       "      <td>1.6175</td>\n",
       "      <td>14.63</td>\n",
       "    </tr>\n",
       "    <tr>\n",
       "      <th>Simulation</th>\n",
       "      <td>44.0</td>\n",
       "      <td>0.298409</td>\n",
       "      <td>0.646925</td>\n",
       "      <td>0.01</td>\n",
       "      <td>0.0200</td>\n",
       "      <td>0.100</td>\n",
       "      <td>0.3275</td>\n",
       "      <td>3.05</td>\n",
       "    </tr>\n",
       "    <tr>\n",
       "      <th>Sports</th>\n",
       "      <td>161.0</td>\n",
       "      <td>0.680000</td>\n",
       "      <td>1.239736</td>\n",
       "      <td>0.01</td>\n",
       "      <td>0.0600</td>\n",
       "      <td>0.180</td>\n",
       "      <td>0.6400</td>\n",
       "      <td>8.58</td>\n",
       "    </tr>\n",
       "    <tr>\n",
       "      <th>Strategy</th>\n",
       "      <td>37.0</td>\n",
       "      <td>0.107027</td>\n",
       "      <td>0.118412</td>\n",
       "      <td>0.01</td>\n",
       "      <td>0.0300</td>\n",
       "      <td>0.060</td>\n",
       "      <td>0.1400</td>\n",
       "      <td>0.52</td>\n",
       "    </tr>\n",
       "  </tbody>\n",
       "</table>\n",
       "</div>"
      ],
      "text/plain": [
       "              count      mean       std   min     25%    50%     75%    max\n",
       "genre                                                                      \n",
       "Action        619.0  0.322068  0.798181  0.01  0.0300  0.090  0.2800  12.62\n",
       "Adventure     185.0  0.094865  0.203147  0.01  0.0200  0.030  0.0800   1.66\n",
       "Fighting       60.0  0.470333  1.188053  0.01  0.0600  0.125  0.3200   7.55\n",
       "Misc          113.0  0.332301  0.736999  0.01  0.0300  0.090  0.3200   5.27\n",
       "Platform       38.0  0.476053  0.722561  0.01  0.0625  0.140  0.4675   3.21\n",
       "Puzzle         14.0  0.157857  0.320629  0.01  0.0200  0.045  0.1000   1.19\n",
       "Racing         69.0  0.398841  0.963716  0.01  0.0300  0.090  0.2500   7.09\n",
       "Role-Playing  221.0  0.459005  1.177284  0.01  0.0500  0.110  0.3600  11.68\n",
       "Shooter       128.0  1.335469  2.050567  0.01  0.1725  0.515  1.6175  14.63\n",
       "Simulation     44.0  0.298409  0.646925  0.01  0.0200  0.100  0.3275   3.05\n",
       "Sports        161.0  0.680000  1.239736  0.01  0.0600  0.180  0.6400   8.58\n",
       "Strategy       37.0  0.107027  0.118412  0.01  0.0300  0.060  0.1400   0.52"
      ]
     },
     "execution_count": 30,
     "metadata": {},
     "output_type": "execute_result"
    }
   ],
   "source": [
    "actual_data.groupby('genre')['full_sales'].describe()"
   ]
  },
  {
   "cell_type": "markdown",
   "metadata": {},
   "source": [
    "После анализа средних значений можно увидеть, что: лидирующий жанр с большим отрывом от конкурентов является Shooter."
   ]
  },
  {
   "cell_type": "code",
   "execution_count": 31,
   "metadata": {},
   "outputs": [
    {
     "data": {
      "image/png": "[encoded data removed]",
      "text/plain": [
       "<Figure size 1152x720 with 1 Axes>"
      ]
     },
     "metadata": {
      "needs_background": "light"
     },
     "output_type": "display_data"
    }
   ],
   "source": [
    "actual_data.boxplot(column = ['full_sales'],by = ['genre'], figsize=(16, 10))\n",
    "plt.ylim((0, 2))\n",
    "plt.show()"
   ]
  },
  {
   "cell_type": "markdown",
   "metadata": {},
   "source": [
    "**Вывод:**\n",
    "В жанре Action много выбросов, из-за этого общая прибыль по жанру Action выше остальных. Но медианное значение продаж выше в жанре Shooter. Второе место по медианным продажам у Sports, третье - Platform.\n",
    "Лидер - action, минимальные продажи у стратегий и пазлов (не удивительно).\n",
    "\n",
    "Очевидный лидер по потенциальному росту - PS4. Потенциально прибыльной консолью считаю только PS4 (на 2017 год когда PS5 еще не анонсирована).\n",
    "XOne на втором месте."
   ]
  },
  {
   "cell_type": "markdown",
   "metadata": {},
   "source": [
    "**Шаг 4. Составление портрета пользователя каждого региона**"
   ]
  },
  {
   "cell_type": "markdown",
   "metadata": {},
   "source": [
    "Определите для пользователя каждого региона (NA, EU, JP):\n",
    "\n",
    "1. Самые популярные платформы (топ-5). Опишите различия в долях продаж.\n",
    "\n",
    "2. Самые популярные жанры (топ-5). Поясните разницу.\n",
    "\n",
    "3. Влияет ли рейтинг ESRB на продажи в отдельном регионе?"
   ]
  },
  {
   "cell_type": "code",
   "execution_count": 32,
   "metadata": {},
   "outputs": [
    {
     "data": {
      "image/png": "[encoded data removed]",
      "text/plain": [
       "<Figure size 1080x360 with 3 Axes>"
      ]
     },
     "metadata": {},
     "output_type": "display_data"
    }
   ],
   "source": [
    "# Круговая диаграмма для каждого региона\n",
    "\n",
    "regions = actual_data.columns[4:7] # Берем регионы\n",
    "\n",
    "figure, axs = plt.subplots(1, 3, figsize=(15, 5))\n",
    "figure.suptitle('Топовые платформы по странам')\n",
    "for i in range(3):\n",
    "  # 5 самых продающих платформ\n",
    "    data_best_platforms = (actual_data.groupby('platform')[regions[i]].sum().reset_index().\n",
    "             sort_values(regions[i], ascending = False, ignore_index = True).head(5))\n",
    "  # Отнесем остальные продажи к \"другие\"\n",
    "    data_best_platforms = data_best_platforms.append({'platform': 'Другие', regions[i]: actual_data[regions[i]].sum() - data_best_platforms[regions[i]].sum()}, ignore_index= True)\n",
    "    axs[i].pie(data_best_platforms[regions[i]], labels = data_best_platforms['platform'])\n",
    "    axs[i].pie(data_best_platforms[regions[i]], labels = data_best_platforms['platform'], autopct='%1.1f%%')\n",
    "\n",
    "    axs[i].set_title(data_best_platforms.columns[1].split('_')[0].upper())\n",
    "plt.show()"
   ]
  },
  {
   "cell_type": "markdown",
   "metadata": {},
   "source": [
    "В Северной Америке и Европе выбор платформ похож, в Японии - выбор приставок абсолютно другой.\n",
    "В Северной Америке у юзеров два явных лидера: PS4 и XOne.\n",
    "В Европе явное предпочтение отдаётся PS4.\n",
    "В Японии самыми популярными оказались платформы Nintendo."
   ]
  },
  {
   "cell_type": "code",
   "execution_count": 33,
   "metadata": {},
   "outputs": [
    {
     "data": {
      "image/png": "[encoded data removed]",
      "text/plain": [
       "<Figure size 1080x360 with 3 Axes>"
      ]
     },
     "metadata": {},
     "output_type": "display_data"
    }
   ],
   "source": [
    "figure, axs = plt.subplots(1, 3, figsize=(15, 5))\n",
    "figure.suptitle('Топовые жанры по странам')\n",
    "for i in range(3):\n",
    "  # 5 самых продающих платформ\n",
    "    data_best_platforms = (actual_data.groupby('genre')[regions[i]].sum().reset_index().\n",
    "             sort_values(regions[i], ascending = False, ignore_index = True).head(5))\n",
    "  # Отнесем остальные продажи к \"другие\"\n",
    "    data_best_platforms = data_best_platforms.append({'genre': 'Другие', regions[i]: actual_data[regions[i]].sum() - data_best_platforms[regions[i]].sum()}, ignore_index= True)\n",
    "    axs[i].pie(data_best_platforms[regions[i]], labels = data_best_platforms['genre'])\n",
    "    axs[i].pie(data_best_platforms[regions[i]], labels = data_best_platforms['genre'], autopct='%1.1f%%')\n",
    "\n",
    "    axs[i].set_title(data_best_platforms.columns[1].split('_')[0].upper())\n",
    "plt.show()"
   ]
  },
  {
   "cell_type": "markdown",
   "metadata": {},
   "source": [
    "Предпочтения в Северной Америке и Европе схожи: экшены, спортивные игры и шутеры в топе. В Северной Америке больше играют в ролевые игры, в Европе любят гонки.\n",
    "\n",
    "В Японии вкус совершенно иной - на первом месте с большим отрывом ролевые игры. Далее экшны и файтинги."
   ]
  },
  {
   "cell_type": "code",
   "execution_count": 34,
   "metadata": {},
   "outputs": [
    {
     "data": {
      "image/png": "[encoded data removed]",
      "text/plain": [
       "<Figure size 1080x360 with 3 Axes>"
      ]
     },
     "metadata": {},
     "output_type": "display_data"
    }
   ],
   "source": [
    "fig, axs = plt.subplots(1, 3, figsize=(15, 5))\n",
    "for i in range(3):\n",
    "    data_best_platforms = (actual_data.groupby('rating')[regions[i]].sum().reset_index().\n",
    "             sort_values(regions[i], ascending = False, ignore_index = True).head(5))\n",
    "    axs[i].pie(data_best_platforms[regions[i]], labels = data_best_platforms['rating'])\n",
    "    axs[i].pie(data_best_platforms[regions[i]], labels = data_best_platforms['rating'], autopct='%1.1f%%')\n",
    "    axs[i].set_title(data_best_platforms.columns[1].split('_')[0].upper())\n",
    "plt.show()"
   ]
  },
  {
   "cell_type": "markdown",
   "metadata": {},
   "source": [
    "В Северной Америке и Европе у наиболее популярных платформ стоит рейтинг M, но явной связи не прослеживается.\n",
    "В Японии у самых популярных платформ отсутствует рейтинг. "
   ]
  },
  {
   "cell_type": "markdown",
   "metadata": {},
   "source": [
    "**Вывод:**\n",
    "\n",
    "В Северной Америке и Европе выбор платформ похож, в Японии - выбор приставок абсолютно другой.\n",
    "В Северной Америке у юзеров два явных лидера: PS4 и XOne.\n",
    "В Европе явное предпочтение отдаётся PS4.\n",
    "В Японии самыми популярными оказались платформы Nintendo.\n",
    "\n",
    "Предпочтения в Северной Америке и Европе схожи: экшены, спортивные игры и шутеры в топе. В Северной Америке больше играют в ролевые игры, в Европе любят гонки.\n",
    "\n",
    "В Японии вкус совершенно иной - на первом месте с большим отрывом ролевые игры. Далее экшны и файтинги.\n",
    "\n",
    "В Северной Америке и Европе у наиболее популярных платформ стоит рейтинг M, но явной связи не прослеживается.\n",
    "В Японии у самых популярных платформ отсутствует рейтинг. "
   ]
  },
  {
   "cell_type": "markdown",
   "metadata": {},
   "source": [
    "**Шаг 5. Проверьте гипотезы**"
   ]
  },
  {
   "cell_type": "markdown",
   "metadata": {},
   "source": [
    "1. Средние пользовательские рейтинги платформ Xbox One и PC одинаковые;\n",
    "\n",
    "2. Средние пользовательские рейтинги жанров Action (англ. «действие», экшен-игры) и Sports (англ. «спортивные соревнования») разные."
   ]
  },
  {
   "cell_type": "code",
   "execution_count": 35,
   "metadata": {},
   "outputs": [
    {
     "name": "stdout",
     "output_type": "stream",
     "text": [
      "p-value: 0.10450507919348415\n",
      "Не получилось отвергнуть нулевую гипотезу\n"
     ]
    }
   ],
   "source": [
    "alpha = .01\n",
    "\n",
    "results = st.ttest_ind(\n",
    "    actual_data[actual_data['platform'] == 'PC']['user_score'].dropna(), \n",
    "    actual_data[actual_data['platform'] == 'XOne']['user_score'].dropna()\n",
    ")\n",
    "\n",
    "print('p-value:', results.pvalue)\n",
    "\n",
    "if results.pvalue < alpha:\n",
    "    print(\"Отвергаем нулевую гипотезу\")\n",
    "else:\n",
    "    print(\"Не получилось отвергнуть нулевую гипотезу\")"
   ]
  },
  {
   "cell_type": "code",
   "execution_count": 36,
   "metadata": {},
   "outputs": [
    {
     "data": {
      "text/plain": [
       "6.298360655737704"
      ]
     },
     "execution_count": 36,
     "metadata": {},
     "output_type": "execute_result"
    }
   ],
   "source": [
    "actual_data[actual_data['platform'] == 'PC']['user_score'].mean()"
   ]
  },
  {
   "cell_type": "markdown",
   "metadata": {},
   "source": [
    "Средний рейтинг пользователя для PC"
   ]
  },
  {
   "cell_type": "code",
   "execution_count": 37,
   "metadata": {},
   "outputs": [
    {
     "data": {
      "text/plain": [
       "6.594545454545454"
      ]
     },
     "execution_count": 37,
     "metadata": {},
     "output_type": "execute_result"
    }
   ],
   "source": [
    "actual_data[actual_data['platform'] == 'XOne']['user_score'].mean()"
   ]
  },
  {
   "cell_type": "markdown",
   "metadata": {},
   "source": [
    "Средний рейтинг пользователя для XOne"
   ]
  },
  {
   "cell_type": "markdown",
   "metadata": {},
   "source": [
    "Тест не позволяет нам отвергнуть нулевую гипотезу."
   ]
  },
  {
   "cell_type": "code",
   "execution_count": 38,
   "metadata": {},
   "outputs": [
    {
     "name": "stdout",
     "output_type": "stream",
     "text": [
      "p-value: 2.8711147985105864e-19\n",
      "Отвергаем нулевую гипотезу\n"
     ]
    }
   ],
   "source": [
    "alpha = .01\n",
    "\n",
    "results = st.ttest_ind(\n",
    "    actual_data[actual_data['genre'] == 'Action']['user_score'].dropna(), \n",
    "    actual_data[actual_data['genre'] == 'Sports']['user_score'].dropna()\n",
    ")\n",
    "\n",
    "print('p-value:', results.pvalue)\n",
    "\n",
    "if results.pvalue < alpha:\n",
    "    print(\"Отвергаем нулевую гипотезу\")\n",
    "else:\n",
    "    print(\"Не получилось отвергнуть нулевую гипотезу\")"
   ]
  },
  {
   "cell_type": "markdown",
   "metadata": {},
   "source": [
    "Тест позволяет отвергнуть нулевую гипотезу. Средние пользовательские рейтинги жанров Action и Sports различаются"
   ]
  },
  {
   "cell_type": "markdown",
   "metadata": {},
   "source": [
    "**Общий вывод**\n",
    "\n",
    "Количество игр на консоли и компьютеры начало активно расти в конце 90 с активным ростом до 2007-2008 года. Обосновать тенденцию к снижению количества компьютерных игр можно обосновать развитием мобильных игр и других альтернатив приставкам.\n",
    "\n",
    "Cамые популярные игровые платформы за всё время это PS2, X360, PS3, WII, DS, PS\n",
    "\n",
    "Факт: оригинальная, первая Playstation (PS) была выпущена компанией Sony 29 лет назад, в декабре 1994 года. Новая версия игровой приставки была выпущена спустя шесть лет после выхода первой (такая периодичность, 6—7 лет, сохраняется до сих пор). Продажи начались в марте 2000 года, производство завершилось только в январе 2013 года.\n",
    "\n",
    "Считается, что Playstation смогла выиграть гонку с конкурентами в том числе благодаря относительно низкой стоимости приставки и, что даже более важно, благодаря сотрудничеству со сторонними разработчиками игр — Nintendo и Sega акцентировали внимание на собственном производстве видеоигр.\n",
    "\n",
    "Время жизнь консоли (поколения консоли) около 7-10 лет, поэтому, для более точного прогноза данных на 2017 год отсеем всё до 2014 года.\n",
    "\n",
    "Лидер в продажах по жанрам - action, минимальные продажи у стратегий и пазлов (не удивительно).\n",
    "\n",
    "В Северной Америке и Европе выбор платформ похож, в Японии - выбор приставок абсолютно другой. В Северной Америке у юзеров два явных лидера: PS4 и XOne. В Европе явное предпочтение отдаётся PS4. В Японии самыми популярными оказались платформы Nintendo.\n",
    "\n",
    "Предпочтения в Северной Америке и Европе схожи: экшены, спортивные игры и шутеры в топе. В Северной Америке больше играют в ролевые игры, в Европе любят гонки.\n",
    "\n",
    "В Японии вкус совершенно иной - на первом месте с большим отрывом ролевые игры. Далее экшны и файтинги.\n",
    "\n",
    "В Северной Америке и Европе у наиболее популярных платформ стоит рейтинг M, но явной связи не прослеживается.\n",
    "В Японии у самых популярных платформ рейтинг T.\n",
    "\n",
    "\n",
    "Проверка гипотез:\n",
    "\n",
    "Средние пользовательские рейтинги платформ Xbox One и PC одинаковые: проведённый статистический тест не позволяет нам отвергнуть нулевую гипотезу. \n",
    "Средние пользовательские рейтинги жанров Action и Sports разные: проведённый статистический тест позволяет отвергнуть нулевую гипотезу.\n",
    "\n",
    "**Как были предобработаны данные:**\n",
    "\n",
    "1. Заменил названия столбцов (привел к нижнему регистру); \n",
    "\n",
    "2. Преобразовал данные в правильные типы.\n",
    "\n",
    "3. Обработал пропуски там где это требовалось; \n",
    "\n",
    "4. Расскрыты причины заполнения пропусков и причины почему этого делать не стоит;\n",
    "\n",
    "5. Описал причины, которые могли привести к пропускам;\n",
    "\n",
    "6. Разобрано понятие 'tbd' в столбце с оценкой пользователей. Отдельно разобрал это значение и описал, как его обработал; \n",
    "\n",
    "7. Посчитал суммарные продажи во всех регионах и записал их в отдельный столбец.\n",
    "\n",
    "**Основные выводы:**\n",
    "\n",
    "Потенциально прибыльные платформы:\n",
    "PS4 и XOne\n",
    "\n",
    "Самыми прибыльными жанрами являются шутеры и экшены. \n",
    "\n",
    "Самые популярные жанры:\n",
    "Шутеры, Экшены, Спортивные игры, Ролевые игры, Гонки\n",
    "\n"
   ]
  }
 ],
 "metadata": {
  "ExecuteTimeLog": [
   {
    "duration": 1415,
    "start_time": "2023-08-31T13:58:01.445Z"
   },
   {
    "duration": 98,
    "start_time": "2023-08-31T13:59:09.523Z"
   },
   {
    "duration": 20,
    "start_time": "2023-08-31T13:59:19.976Z"
   },
   {
    "duration": 14,
    "start_time": "2023-08-31T14:00:52.306Z"
   },
   {
    "duration": 420,
    "start_time": "2023-08-31T14:03:22.716Z"
   },
   {
    "duration": 16,
    "start_time": "2023-08-31T14:07:49.673Z"
   },
   {
    "duration": 10,
    "start_time": "2023-08-31T14:16:06.463Z"
   },
   {
    "duration": 4,
    "start_time": "2023-08-31T14:18:24.529Z"
   },
   {
    "duration": 4,
    "start_time": "2023-08-31T14:18:35.150Z"
   },
   {
    "duration": 149,
    "start_time": "2023-09-01T09:42:46.532Z"
   },
   {
    "duration": 2366,
    "start_time": "2023-09-01T09:42:50.189Z"
   },
   {
    "duration": 309,
    "start_time": "2023-09-01T09:42:52.571Z"
   },
   {
    "duration": 53,
    "start_time": "2023-09-01T09:42:52.882Z"
   },
   {
    "duration": 21,
    "start_time": "2023-09-01T09:42:52.937Z"
   },
   {
    "duration": 75,
    "start_time": "2023-09-01T09:42:52.964Z"
   },
   {
    "duration": 49,
    "start_time": "2023-09-01T09:42:53.042Z"
   },
   {
    "duration": 34,
    "start_time": "2023-09-01T09:42:53.093Z"
   },
   {
    "duration": 12,
    "start_time": "2023-09-01T09:58:58.383Z"
   },
   {
    "duration": 128,
    "start_time": "2023-09-01T10:00:15.037Z"
   },
   {
    "duration": 34,
    "start_time": "2023-09-01T10:00:30.908Z"
   },
   {
    "duration": 10,
    "start_time": "2023-09-01T10:02:50.334Z"
   },
   {
    "duration": 40,
    "start_time": "2023-09-01T10:02:53.215Z"
   },
   {
    "duration": 17,
    "start_time": "2023-09-01T10:03:15.333Z"
   },
   {
    "duration": 34,
    "start_time": "2023-09-01T10:03:17.150Z"
   },
   {
    "duration": 15,
    "start_time": "2023-09-01T10:04:14.214Z"
   },
   {
    "duration": 11,
    "start_time": "2023-09-01T10:04:15.811Z"
   },
   {
    "duration": 16,
    "start_time": "2023-09-01T10:04:18.252Z"
   },
   {
    "duration": 11,
    "start_time": "2023-09-01T10:06:05.635Z"
   },
   {
    "duration": 9,
    "start_time": "2023-09-01T10:06:28.265Z"
   },
   {
    "duration": 12,
    "start_time": "2023-09-01T10:09:05.027Z"
   },
   {
    "duration": 5,
    "start_time": "2023-09-01T10:09:11.474Z"
   },
   {
    "duration": 19,
    "start_time": "2023-09-01T10:11:00.598Z"
   },
   {
    "duration": 7,
    "start_time": "2023-09-01T10:12:48.210Z"
   },
   {
    "duration": 6,
    "start_time": "2023-09-01T10:12:48.865Z"
   },
   {
    "duration": 5,
    "start_time": "2023-09-01T10:12:49.144Z"
   },
   {
    "duration": 83,
    "start_time": "2023-09-01T10:14:18.076Z"
   },
   {
    "duration": 10,
    "start_time": "2023-09-01T12:01:51.573Z"
   },
   {
    "duration": 218,
    "start_time": "2023-09-01T12:02:27.533Z"
   },
   {
    "duration": 354,
    "start_time": "2023-09-01T12:04:06.841Z"
   },
   {
    "duration": 214,
    "start_time": "2023-09-01T12:04:12.453Z"
   },
   {
    "duration": 234,
    "start_time": "2023-09-01T12:04:36.417Z"
   },
   {
    "duration": 278,
    "start_time": "2023-09-01T12:04:50.028Z"
   },
   {
    "duration": 226,
    "start_time": "2023-09-01T12:05:18.331Z"
   },
   {
    "duration": 211,
    "start_time": "2023-09-01T12:05:25.749Z"
   },
   {
    "duration": 12,
    "start_time": "2023-09-01T12:17:45.645Z"
   },
   {
    "duration": 12,
    "start_time": "2023-09-01T12:17:53.310Z"
   },
   {
    "duration": 14,
    "start_time": "2023-09-01T12:18:01.098Z"
   },
   {
    "duration": 30,
    "start_time": "2023-09-01T12:18:17.758Z"
   },
   {
    "duration": 414,
    "start_time": "2023-09-01T12:18:27.764Z"
   },
   {
    "duration": 8,
    "start_time": "2023-09-01T13:28:41.144Z"
   },
   {
    "duration": 26,
    "start_time": "2023-09-01T13:28:52.680Z"
   },
   {
    "duration": 21,
    "start_time": "2023-09-01T13:29:11.581Z"
   },
   {
    "duration": 21,
    "start_time": "2023-09-01T13:29:34.105Z"
   },
   {
    "duration": 19,
    "start_time": "2023-09-01T13:29:52.101Z"
   },
   {
    "duration": 6,
    "start_time": "2023-09-01T13:33:19.173Z"
   },
   {
    "duration": 9,
    "start_time": "2023-09-01T13:33:34.431Z"
   },
   {
    "duration": 12,
    "start_time": "2023-09-01T13:34:30.544Z"
   },
   {
    "duration": 17,
    "start_time": "2023-09-01T13:35:13.051Z"
   },
   {
    "duration": 16,
    "start_time": "2023-09-01T14:02:07.065Z"
   },
   {
    "duration": 19,
    "start_time": "2023-09-01T14:36:57.290Z"
   },
   {
    "duration": 319,
    "start_time": "2023-09-01T14:37:40.791Z"
   },
   {
    "duration": 306,
    "start_time": "2023-09-01T14:38:32.470Z"
   },
   {
    "duration": 20,
    "start_time": "2023-09-01T14:39:15.967Z"
   },
   {
    "duration": 5,
    "start_time": "2023-09-01T14:39:18.784Z"
   },
   {
    "duration": 17,
    "start_time": "2023-09-01T14:39:19.005Z"
   },
   {
    "duration": 306,
    "start_time": "2023-09-01T14:39:20.216Z"
   },
   {
    "duration": 312,
    "start_time": "2023-09-01T14:40:07.093Z"
   },
   {
    "duration": 10,
    "start_time": "2023-09-01T14:47:35.720Z"
   },
   {
    "duration": 256,
    "start_time": "2023-09-01T14:47:48.482Z"
   },
   {
    "duration": 182,
    "start_time": "2023-09-01T14:48:37.191Z"
   },
   {
    "duration": 174,
    "start_time": "2023-09-01T14:49:11.568Z"
   },
   {
    "duration": 176,
    "start_time": "2023-09-01T14:49:20.501Z"
   },
   {
    "duration": 177,
    "start_time": "2023-09-01T14:49:49.947Z"
   },
   {
    "duration": 173,
    "start_time": "2023-09-01T14:50:39.872Z"
   },
   {
    "duration": 181,
    "start_time": "2023-09-01T14:51:19.643Z"
   },
   {
    "duration": 148,
    "start_time": "2023-09-01T14:56:17.936Z"
   },
   {
    "duration": 10,
    "start_time": "2023-09-01T14:56:31.166Z"
   },
   {
    "duration": 169,
    "start_time": "2023-09-01T14:56:32.676Z"
   },
   {
    "duration": 160,
    "start_time": "2023-09-01T14:56:38.186Z"
   },
   {
    "duration": 9,
    "start_time": "2023-09-01T15:01:41.812Z"
   },
   {
    "duration": 261,
    "start_time": "2023-09-01T15:01:48.347Z"
   },
   {
    "duration": 248,
    "start_time": "2023-09-01T15:03:03.183Z"
   },
   {
    "duration": 160,
    "start_time": "2023-09-01T15:03:43.348Z"
   },
   {
    "duration": 158,
    "start_time": "2023-09-01T15:03:44.220Z"
   },
   {
    "duration": 256,
    "start_time": "2023-09-01T15:03:45.430Z"
   },
   {
    "duration": 3,
    "start_time": "2023-09-01T15:08:22.099Z"
   },
   {
    "duration": 52,
    "start_time": "2023-09-01T15:08:22.519Z"
   },
   {
    "duration": 16,
    "start_time": "2023-09-01T15:08:23.099Z"
   },
   {
    "duration": 5,
    "start_time": "2023-09-01T15:08:23.196Z"
   },
   {
    "duration": 17,
    "start_time": "2023-09-01T15:08:23.274Z"
   },
   {
    "duration": 17,
    "start_time": "2023-09-01T15:08:23.349Z"
   },
   {
    "duration": 10,
    "start_time": "2023-09-01T15:08:23.604Z"
   },
   {
    "duration": 4,
    "start_time": "2023-09-01T15:08:23.769Z"
   },
   {
    "duration": 7,
    "start_time": "2023-09-01T15:08:23.851Z"
   },
   {
    "duration": 7,
    "start_time": "2023-09-01T15:08:23.936Z"
   },
   {
    "duration": 7,
    "start_time": "2023-09-01T15:08:24.022Z"
   },
   {
    "duration": 5,
    "start_time": "2023-09-01T15:08:24.105Z"
   },
   {
    "duration": 218,
    "start_time": "2023-09-01T15:08:24.356Z"
   },
   {
    "duration": 433,
    "start_time": "2023-09-01T15:08:24.606Z"
   },
   {
    "duration": 23,
    "start_time": "2023-09-01T15:08:25.041Z"
   },
   {
    "duration": 5,
    "start_time": "2023-09-01T15:08:25.117Z"
   },
   {
    "duration": 20,
    "start_time": "2023-09-01T15:08:25.189Z"
   },
   {
    "duration": 303,
    "start_time": "2023-09-01T15:08:25.443Z"
   },
   {
    "duration": 7,
    "start_time": "2023-09-01T15:08:25.749Z"
   },
   {
    "duration": 171,
    "start_time": "2023-09-01T15:08:25.758Z"
   },
   {
    "duration": 169,
    "start_time": "2023-09-01T15:08:25.931Z"
   },
   {
    "duration": 280,
    "start_time": "2023-09-01T15:08:26.102Z"
   },
   {
    "duration": 10,
    "start_time": "2023-09-01T15:09:57.234Z"
   },
   {
    "duration": 11,
    "start_time": "2023-09-01T15:10:04.912Z"
   },
   {
    "duration": 19,
    "start_time": "2023-09-01T15:12:48.004Z"
   },
   {
    "duration": 17,
    "start_time": "2023-09-01T15:12:53.614Z"
   },
   {
    "duration": 157,
    "start_time": "2023-09-01T15:12:54.310Z"
   },
   {
    "duration": 157,
    "start_time": "2023-09-01T15:12:55.259Z"
   },
   {
    "duration": 195,
    "start_time": "2023-09-01T15:12:57.292Z"
   },
   {
    "duration": 13,
    "start_time": "2023-09-01T15:13:54.938Z"
   },
   {
    "duration": 30,
    "start_time": "2023-09-01T15:14:25.582Z"
   },
   {
    "duration": 30,
    "start_time": "2023-09-01T15:14:46.656Z"
   },
   {
    "duration": 12,
    "start_time": "2023-09-01T15:15:11.505Z"
   },
   {
    "duration": 9,
    "start_time": "2023-09-01T15:15:16.513Z"
   },
   {
    "duration": 9,
    "start_time": "2023-09-01T15:16:27.490Z"
   },
   {
    "duration": 9,
    "start_time": "2023-09-01T15:16:36.554Z"
   },
   {
    "duration": 9,
    "start_time": "2023-09-01T15:17:16.888Z"
   },
   {
    "duration": 14,
    "start_time": "2023-09-01T15:17:31.407Z"
   },
   {
    "duration": 148,
    "start_time": "2023-09-01T15:17:58.388Z"
   },
   {
    "duration": 1152,
    "start_time": "2023-09-01T15:18:12.038Z"
   },
   {
    "duration": 364,
    "start_time": "2023-09-01T15:18:19.799Z"
   },
   {
    "duration": 7,
    "start_time": "2023-09-01T15:19:13.074Z"
   },
   {
    "duration": 161,
    "start_time": "2023-09-01T15:19:13.438Z"
   },
   {
    "duration": 156,
    "start_time": "2023-09-01T15:19:13.823Z"
   },
   {
    "duration": 432,
    "start_time": "2023-09-01T15:19:14.774Z"
   },
   {
    "duration": 9,
    "start_time": "2023-09-01T15:22:02.750Z"
   },
   {
    "duration": 5,
    "start_time": "2023-09-01T15:22:10.210Z"
   },
   {
    "duration": 6,
    "start_time": "2023-09-01T15:22:17.116Z"
   },
   {
    "duration": 14,
    "start_time": "2023-09-01T15:23:06.149Z"
   },
   {
    "duration": 15,
    "start_time": "2023-09-01T15:23:40.635Z"
   },
   {
    "duration": 11,
    "start_time": "2023-09-01T15:24:53.617Z"
   },
   {
    "duration": 7,
    "start_time": "2023-09-01T15:25:02.303Z"
   },
   {
    "duration": 6,
    "start_time": "2023-09-01T15:25:06.256Z"
   },
   {
    "duration": 18,
    "start_time": "2023-09-01T15:25:06.846Z"
   },
   {
    "duration": 5,
    "start_time": "2023-09-01T15:25:31.142Z"
   },
   {
    "duration": 5,
    "start_time": "2023-09-01T15:25:33.288Z"
   },
   {
    "duration": 213,
    "start_time": "2023-09-01T15:25:34.386Z"
   },
   {
    "duration": 339,
    "start_time": "2023-09-01T15:25:34.639Z"
   },
   {
    "duration": 23,
    "start_time": "2023-09-01T15:25:35.517Z"
   },
   {
    "duration": 5,
    "start_time": "2023-09-01T15:25:35.749Z"
   },
   {
    "duration": 17,
    "start_time": "2023-09-01T15:25:36.340Z"
   },
   {
    "duration": 433,
    "start_time": "2023-09-01T15:25:37.012Z"
   },
   {
    "duration": 7,
    "start_time": "2023-09-01T15:25:37.476Z"
   },
   {
    "duration": 157,
    "start_time": "2023-09-01T15:25:38.227Z"
   },
   {
    "duration": 170,
    "start_time": "2023-09-01T15:25:38.969Z"
   },
   {
    "duration": 7,
    "start_time": "2023-09-01T15:25:39.157Z"
   },
   {
    "duration": 5,
    "start_time": "2023-09-01T15:27:40.762Z"
   },
   {
    "duration": 10,
    "start_time": "2023-09-01T15:37:41.326Z"
   },
   {
    "duration": 1386,
    "start_time": "2023-09-01T15:37:47.805Z"
   },
   {
    "duration": 10,
    "start_time": "2023-09-01T15:38:01.665Z"
   },
   {
    "duration": 10,
    "start_time": "2023-09-01T15:47:10.155Z"
   },
   {
    "duration": 6,
    "start_time": "2023-09-01T15:47:16.410Z"
   },
   {
    "duration": 18,
    "start_time": "2023-09-01T15:48:46.997Z"
   },
   {
    "duration": 96,
    "start_time": "2023-09-01T15:48:52.064Z"
   },
   {
    "duration": 18,
    "start_time": "2023-09-01T15:49:06.742Z"
   },
   {
    "duration": 65,
    "start_time": "2023-09-03T20:59:44.658Z"
   },
   {
    "duration": 49,
    "start_time": "2023-09-03T21:08:01.150Z"
   },
   {
    "duration": 1422,
    "start_time": "2023-09-03T21:08:08.532Z"
   },
   {
    "duration": 105,
    "start_time": "2023-09-03T21:08:09.957Z"
   },
   {
    "duration": 16,
    "start_time": "2023-09-03T21:08:10.064Z"
   },
   {
    "duration": 7,
    "start_time": "2023-09-03T21:08:10.083Z"
   },
   {
    "duration": 38,
    "start_time": "2023-09-03T21:08:10.092Z"
   },
   {
    "duration": 18,
    "start_time": "2023-09-03T21:08:10.132Z"
   },
   {
    "duration": 16,
    "start_time": "2023-09-03T21:08:10.151Z"
   },
   {
    "duration": 15,
    "start_time": "2023-09-03T21:08:10.169Z"
   },
   {
    "duration": 17,
    "start_time": "2023-09-03T21:08:10.186Z"
   },
   {
    "duration": 8,
    "start_time": "2023-09-03T21:08:10.209Z"
   },
   {
    "duration": 11,
    "start_time": "2023-09-03T21:08:10.219Z"
   },
   {
    "duration": 7,
    "start_time": "2023-09-03T21:08:10.232Z"
   },
   {
    "duration": 232,
    "start_time": "2023-09-03T21:08:10.451Z"
   },
   {
    "duration": 342,
    "start_time": "2023-09-03T21:08:10.704Z"
   },
   {
    "duration": 23,
    "start_time": "2023-09-03T21:08:11.859Z"
   },
   {
    "duration": 7,
    "start_time": "2023-09-03T21:08:12.517Z"
   },
   {
    "duration": 25,
    "start_time": "2023-09-03T21:08:12.598Z"
   },
   {
    "duration": 309,
    "start_time": "2023-09-03T21:08:12.848Z"
   },
   {
    "duration": 7,
    "start_time": "2023-09-03T21:08:13.159Z"
   },
   {
    "duration": 164,
    "start_time": "2023-09-03T21:08:13.971Z"
   },
   {
    "duration": 180,
    "start_time": "2023-09-03T21:08:14.473Z"
   },
   {
    "duration": 6,
    "start_time": "2023-09-03T21:08:14.655Z"
   },
   {
    "duration": 6,
    "start_time": "2023-09-03T21:08:14.718Z"
   },
   {
    "duration": 10,
    "start_time": "2023-09-03T21:08:14.969Z"
   },
   {
    "duration": 6,
    "start_time": "2023-09-03T21:08:15.220Z"
   },
   {
    "duration": 20,
    "start_time": "2023-09-03T21:08:15.303Z"
   },
   {
    "duration": 519,
    "start_time": "2023-09-03T21:08:15.645Z"
   },
   {
    "duration": 434,
    "start_time": "2023-09-03T21:09:17.003Z"
   },
   {
    "duration": 384,
    "start_time": "2023-09-03T21:10:06.520Z"
   },
   {
    "duration": 84,
    "start_time": "2023-09-03T21:31:45.450Z"
   },
   {
    "duration": 66,
    "start_time": "2023-09-03T21:34:07.074Z"
   },
   {
    "duration": 9,
    "start_time": "2023-09-03T21:34:19.488Z"
   },
   {
    "duration": 9,
    "start_time": "2023-09-03T21:35:35.628Z"
   },
   {
    "duration": 222,
    "start_time": "2023-09-03T21:45:09.296Z"
   },
   {
    "duration": 352,
    "start_time": "2023-09-03T21:45:14.505Z"
   },
   {
    "duration": 20,
    "start_time": "2023-09-03T21:45:19.327Z"
   },
   {
    "duration": 5,
    "start_time": "2023-09-03T21:45:21.176Z"
   },
   {
    "duration": 16,
    "start_time": "2023-09-03T21:45:21.685Z"
   },
   {
    "duration": 303,
    "start_time": "2023-09-03T21:45:30.035Z"
   },
   {
    "duration": 7,
    "start_time": "2023-09-03T21:45:31.234Z"
   },
   {
    "duration": 156,
    "start_time": "2023-09-03T21:45:31.744Z"
   },
   {
    "duration": 288,
    "start_time": "2023-09-03T21:45:32.243Z"
   },
   {
    "duration": 6,
    "start_time": "2023-09-03T21:45:32.534Z"
   },
   {
    "duration": 8,
    "start_time": "2023-09-03T21:45:32.542Z"
   },
   {
    "duration": 10,
    "start_time": "2023-09-03T21:45:32.735Z"
   },
   {
    "duration": 6,
    "start_time": "2023-09-03T21:45:32.986Z"
   },
   {
    "duration": 21,
    "start_time": "2023-09-03T21:45:33.388Z"
   },
   {
    "duration": 386,
    "start_time": "2023-09-03T21:45:34.136Z"
   },
   {
    "duration": 446,
    "start_time": "2023-09-03T21:45:35.283Z"
   },
   {
    "duration": 389,
    "start_time": "2023-09-03T21:45:35.731Z"
   },
   {
    "duration": 9,
    "start_time": "2023-09-03T21:45:36.739Z"
   },
   {
    "duration": 8,
    "start_time": "2023-09-03T21:45:37.542Z"
   },
   {
    "duration": 5,
    "start_time": "2023-09-03T21:46:16.782Z"
   },
   {
    "duration": 1255,
    "start_time": "2023-09-03T23:22:11.252Z"
   },
   {
    "duration": 139,
    "start_time": "2023-09-03T23:22:12.519Z"
   },
   {
    "duration": 21,
    "start_time": "2023-09-03T23:22:12.660Z"
   },
   {
    "duration": 7,
    "start_time": "2023-09-03T23:22:12.684Z"
   },
   {
    "duration": 29,
    "start_time": "2023-09-03T23:22:12.693Z"
   },
   {
    "duration": 17,
    "start_time": "2023-09-03T23:22:12.726Z"
   },
   {
    "duration": 13,
    "start_time": "2023-09-03T23:22:12.744Z"
   },
   {
    "duration": 6,
    "start_time": "2023-09-03T23:22:12.758Z"
   },
   {
    "duration": 6,
    "start_time": "2023-09-03T23:22:12.765Z"
   },
   {
    "duration": 9,
    "start_time": "2023-09-03T23:22:12.773Z"
   },
   {
    "duration": 30,
    "start_time": "2023-09-03T23:22:12.783Z"
   },
   {
    "duration": 12,
    "start_time": "2023-09-03T23:22:12.815Z"
   },
   {
    "duration": 129,
    "start_time": "2023-09-03T23:22:12.829Z"
   },
   {
    "duration": 0,
    "start_time": "2023-09-03T23:22:12.960Z"
   },
   {
    "duration": 0,
    "start_time": "2023-09-03T23:22:12.962Z"
   },
   {
    "duration": 0,
    "start_time": "2023-09-03T23:22:12.963Z"
   },
   {
    "duration": 0,
    "start_time": "2023-09-03T23:22:12.964Z"
   },
   {
    "duration": 0,
    "start_time": "2023-09-03T23:22:12.965Z"
   },
   {
    "duration": 0,
    "start_time": "2023-09-03T23:22:12.966Z"
   },
   {
    "duration": 0,
    "start_time": "2023-09-03T23:22:12.967Z"
   },
   {
    "duration": 0,
    "start_time": "2023-09-03T23:22:12.968Z"
   },
   {
    "duration": 0,
    "start_time": "2023-09-03T23:22:12.969Z"
   },
   {
    "duration": 0,
    "start_time": "2023-09-03T23:22:12.970Z"
   },
   {
    "duration": 0,
    "start_time": "2023-09-03T23:22:12.971Z"
   },
   {
    "duration": 0,
    "start_time": "2023-09-03T23:22:12.972Z"
   },
   {
    "duration": 0,
    "start_time": "2023-09-03T23:22:12.973Z"
   },
   {
    "duration": 0,
    "start_time": "2023-09-03T23:22:12.973Z"
   },
   {
    "duration": 0,
    "start_time": "2023-09-03T23:22:12.974Z"
   },
   {
    "duration": 0,
    "start_time": "2023-09-03T23:22:12.975Z"
   },
   {
    "duration": 0,
    "start_time": "2023-09-03T23:22:12.976Z"
   },
   {
    "duration": 0,
    "start_time": "2023-09-03T23:22:12.977Z"
   },
   {
    "duration": 103,
    "start_time": "2023-09-04T08:01:58.916Z"
   },
   {
    "duration": 1480,
    "start_time": "2023-09-04T08:03:27.581Z"
   },
   {
    "duration": 107,
    "start_time": "2023-09-04T08:03:29.063Z"
   },
   {
    "duration": 17,
    "start_time": "2023-09-04T08:03:29.171Z"
   },
   {
    "duration": 19,
    "start_time": "2023-09-04T08:03:29.190Z"
   },
   {
    "duration": 33,
    "start_time": "2023-09-04T08:03:29.212Z"
   },
   {
    "duration": 15,
    "start_time": "2023-09-04T08:03:29.247Z"
   },
   {
    "duration": 187,
    "start_time": "2023-09-04T08:03:29.264Z"
   },
   {
    "duration": 100,
    "start_time": "2023-09-04T08:03:29.454Z"
   },
   {
    "duration": 13,
    "start_time": "2023-09-04T08:03:29.555Z"
   },
   {
    "duration": 16,
    "start_time": "2023-09-04T08:03:29.571Z"
   },
   {
    "duration": 7,
    "start_time": "2023-09-04T08:03:29.589Z"
   },
   {
    "duration": 21,
    "start_time": "2023-09-04T08:03:29.597Z"
   },
   {
    "duration": 123,
    "start_time": "2023-09-04T08:03:29.621Z"
   },
   {
    "duration": 0,
    "start_time": "2023-09-04T08:03:29.745Z"
   },
   {
    "duration": 0,
    "start_time": "2023-09-04T08:03:29.747Z"
   },
   {
    "duration": 0,
    "start_time": "2023-09-04T08:03:29.748Z"
   },
   {
    "duration": 0,
    "start_time": "2023-09-04T08:03:29.750Z"
   },
   {
    "duration": 1,
    "start_time": "2023-09-04T08:03:29.750Z"
   },
   {
    "duration": 0,
    "start_time": "2023-09-04T08:03:29.752Z"
   },
   {
    "duration": 0,
    "start_time": "2023-09-04T08:03:29.753Z"
   },
   {
    "duration": 0,
    "start_time": "2023-09-04T08:03:29.754Z"
   },
   {
    "duration": 0,
    "start_time": "2023-09-04T08:03:29.755Z"
   },
   {
    "duration": 0,
    "start_time": "2023-09-04T08:03:29.756Z"
   },
   {
    "duration": 0,
    "start_time": "2023-09-04T08:03:29.757Z"
   },
   {
    "duration": 0,
    "start_time": "2023-09-04T08:03:29.759Z"
   },
   {
    "duration": 0,
    "start_time": "2023-09-04T08:03:29.760Z"
   },
   {
    "duration": 0,
    "start_time": "2023-09-04T08:03:29.761Z"
   },
   {
    "duration": 0,
    "start_time": "2023-09-04T08:03:29.763Z"
   },
   {
    "duration": 0,
    "start_time": "2023-09-04T08:03:29.764Z"
   },
   {
    "duration": 0,
    "start_time": "2023-09-04T08:03:29.765Z"
   },
   {
    "duration": 0,
    "start_time": "2023-09-04T08:03:29.766Z"
   },
   {
    "duration": 158,
    "start_time": "2023-09-04T08:15:52.879Z"
   },
   {
    "duration": 566,
    "start_time": "2023-09-04T08:16:15.361Z"
   },
   {
    "duration": 4,
    "start_time": "2023-09-04T08:18:36.174Z"
   },
   {
    "duration": 7,
    "start_time": "2023-09-04T08:24:12.958Z"
   },
   {
    "duration": 7,
    "start_time": "2023-09-04T08:24:24.074Z"
   },
   {
    "duration": 75,
    "start_time": "2023-09-04T08:25:52.276Z"
   },
   {
    "duration": 261,
    "start_time": "2023-09-04T08:26:58.615Z"
   },
   {
    "duration": 1306,
    "start_time": "2023-09-04T08:27:06.364Z"
   },
   {
    "duration": 78,
    "start_time": "2023-09-04T08:27:07.671Z"
   },
   {
    "duration": 16,
    "start_time": "2023-09-04T08:27:07.751Z"
   },
   {
    "duration": 14,
    "start_time": "2023-09-04T08:27:07.769Z"
   },
   {
    "duration": 47,
    "start_time": "2023-09-04T08:27:07.785Z"
   },
   {
    "duration": 16,
    "start_time": "2023-09-04T08:27:07.834Z"
   },
   {
    "duration": 29,
    "start_time": "2023-09-04T08:27:07.852Z"
   },
   {
    "duration": 46,
    "start_time": "2023-09-04T08:27:07.883Z"
   },
   {
    "duration": 6,
    "start_time": "2023-09-04T08:27:07.932Z"
   },
   {
    "duration": 16,
    "start_time": "2023-09-04T08:27:07.940Z"
   },
   {
    "duration": 35,
    "start_time": "2023-09-04T08:27:07.958Z"
   },
   {
    "duration": 29,
    "start_time": "2023-09-04T08:27:07.994Z"
   },
   {
    "duration": 20,
    "start_time": "2023-09-04T08:27:08.025Z"
   },
   {
    "duration": 292,
    "start_time": "2023-09-04T08:27:08.047Z"
   },
   {
    "duration": 567,
    "start_time": "2023-09-04T08:27:08.341Z"
   },
   {
    "duration": 32,
    "start_time": "2023-09-04T08:27:08.910Z"
   },
   {
    "duration": 5,
    "start_time": "2023-09-04T08:27:08.944Z"
   },
   {
    "duration": 78,
    "start_time": "2023-09-04T08:27:08.950Z"
   },
   {
    "duration": 877,
    "start_time": "2023-09-04T08:27:09.031Z"
   },
   {
    "duration": 18,
    "start_time": "2023-09-04T08:27:09.911Z"
   },
   {
    "duration": 415,
    "start_time": "2023-09-04T08:27:09.932Z"
   },
   {
    "duration": 489,
    "start_time": "2023-09-04T08:27:10.348Z"
   },
   {
    "duration": 5,
    "start_time": "2023-09-04T08:27:10.839Z"
   },
   {
    "duration": 73,
    "start_time": "2023-09-04T08:27:10.846Z"
   },
   {
    "duration": 17,
    "start_time": "2023-09-04T08:27:10.923Z"
   },
   {
    "duration": 66,
    "start_time": "2023-09-04T08:27:10.942Z"
   },
   {
    "duration": 25,
    "start_time": "2023-09-04T08:27:11.009Z"
   },
   {
    "duration": 618,
    "start_time": "2023-09-04T08:27:11.037Z"
   },
   {
    "duration": 501,
    "start_time": "2023-09-04T08:27:11.657Z"
   },
   {
    "duration": 467,
    "start_time": "2023-09-04T08:27:12.160Z"
   },
   {
    "duration": 12,
    "start_time": "2023-09-04T08:27:12.629Z"
   },
   {
    "duration": 34,
    "start_time": "2023-09-04T08:27:12.643Z"
   },
   {
    "duration": 146,
    "start_time": "2023-09-04T08:27:26.630Z"
   },
   {
    "duration": 172,
    "start_time": "2023-09-04T08:28:38.154Z"
   },
   {
    "duration": 175,
    "start_time": "2023-09-04T08:30:51.404Z"
   },
   {
    "duration": 159,
    "start_time": "2023-09-04T08:33:37.238Z"
   },
   {
    "duration": 147,
    "start_time": "2023-09-04T08:33:42.995Z"
   },
   {
    "duration": 409,
    "start_time": "2023-09-04T08:33:56.482Z"
   },
   {
    "duration": 10,
    "start_time": "2023-09-04T08:43:34.876Z"
   },
   {
    "duration": 7,
    "start_time": "2023-09-04T08:44:18.915Z"
   },
   {
    "duration": 7,
    "start_time": "2023-09-04T08:44:36.768Z"
   },
   {
    "duration": 1207,
    "start_time": "2023-09-04T08:48:28.841Z"
   },
   {
    "duration": 57,
    "start_time": "2023-09-04T08:48:30.052Z"
   },
   {
    "duration": 53,
    "start_time": "2023-09-04T08:48:30.117Z"
   },
   {
    "duration": 118,
    "start_time": "2023-09-04T08:48:30.172Z"
   },
   {
    "duration": 49,
    "start_time": "2023-09-04T08:48:30.292Z"
   },
   {
    "duration": 21,
    "start_time": "2023-09-04T08:48:30.343Z"
   },
   {
    "duration": 50,
    "start_time": "2023-09-04T08:48:30.366Z"
   },
   {
    "duration": 117,
    "start_time": "2023-09-04T08:48:30.418Z"
   },
   {
    "duration": 109,
    "start_time": "2023-09-04T08:48:30.536Z"
   },
   {
    "duration": 69,
    "start_time": "2023-09-04T08:48:30.646Z"
   },
   {
    "duration": 57,
    "start_time": "2023-09-04T08:48:30.717Z"
   },
   {
    "duration": 23,
    "start_time": "2023-09-04T08:48:30.776Z"
   },
   {
    "duration": 29,
    "start_time": "2023-09-04T08:48:30.803Z"
   },
   {
    "duration": 284,
    "start_time": "2023-09-04T08:48:30.834Z"
   },
   {
    "duration": 358,
    "start_time": "2023-09-04T08:48:31.120Z"
   },
   {
    "duration": 162,
    "start_time": "2023-09-04T08:48:31.480Z"
   },
   {
    "duration": 21,
    "start_time": "2023-09-04T08:48:31.644Z"
   },
   {
    "duration": 74,
    "start_time": "2023-09-04T08:48:31.667Z"
   },
   {
    "duration": 69,
    "start_time": "2023-09-04T08:48:31.743Z"
   },
   {
    "duration": 429,
    "start_time": "2023-09-04T08:48:31.814Z"
   },
   {
    "duration": 377,
    "start_time": "2023-09-04T08:48:32.245Z"
   },
   {
    "duration": 7,
    "start_time": "2023-09-04T08:48:32.623Z"
   },
   {
    "duration": 185,
    "start_time": "2023-09-04T08:48:32.632Z"
   },
   {
    "duration": 269,
    "start_time": "2023-09-04T08:48:32.818Z"
   },
   {
    "duration": 13,
    "start_time": "2023-09-04T08:48:33.089Z"
   },
   {
    "duration": 15,
    "start_time": "2023-09-04T08:48:33.105Z"
   },
   {
    "duration": 16,
    "start_time": "2023-09-04T08:48:33.122Z"
   },
   {
    "duration": 12,
    "start_time": "2023-09-04T08:48:33.140Z"
   },
   {
    "duration": 26,
    "start_time": "2023-09-04T08:48:33.154Z"
   },
   {
    "duration": 411,
    "start_time": "2023-09-04T08:48:33.181Z"
   },
   {
    "duration": 448,
    "start_time": "2023-09-04T08:48:33.601Z"
   },
   {
    "duration": 440,
    "start_time": "2023-09-04T08:48:34.051Z"
   },
   {
    "duration": 15,
    "start_time": "2023-09-04T08:48:34.493Z"
   },
   {
    "duration": 20,
    "start_time": "2023-09-04T08:48:34.511Z"
   },
   {
    "duration": 26,
    "start_time": "2023-09-04T08:48:34.533Z"
   },
   {
    "duration": 12,
    "start_time": "2023-09-04T08:48:34.560Z"
   },
   {
    "duration": 298,
    "start_time": "2023-09-04T09:22:14.586Z"
   },
   {
    "duration": 166,
    "start_time": "2023-09-04T09:22:24.051Z"
   },
   {
    "duration": 180,
    "start_time": "2023-09-04T09:24:05.535Z"
   },
   {
    "duration": 174,
    "start_time": "2023-09-04T09:24:10.749Z"
   },
   {
    "duration": 278,
    "start_time": "2023-09-04T09:24:16.912Z"
   },
   {
    "duration": 190,
    "start_time": "2023-09-04T09:24:20.774Z"
   },
   {
    "duration": 177,
    "start_time": "2023-09-04T09:24:26.731Z"
   },
   {
    "duration": 177,
    "start_time": "2023-09-04T09:24:29.401Z"
   },
   {
    "duration": 177,
    "start_time": "2023-09-04T09:24:35.084Z"
   },
   {
    "duration": 189,
    "start_time": "2023-09-04T09:24:38.391Z"
   },
   {
    "duration": 177,
    "start_time": "2023-09-04T09:24:45.634Z"
   },
   {
    "duration": 60,
    "start_time": "2023-09-04T09:27:29.432Z"
   },
   {
    "duration": 178,
    "start_time": "2023-09-04T09:27:38.072Z"
   },
   {
    "duration": 177,
    "start_time": "2023-09-04T09:27:44.956Z"
   },
   {
    "duration": 177,
    "start_time": "2023-09-04T09:27:51.640Z"
   },
   {
    "duration": 1275,
    "start_time": "2023-09-04T09:29:18.169Z"
   },
   {
    "duration": 59,
    "start_time": "2023-09-04T09:29:19.446Z"
   },
   {
    "duration": 19,
    "start_time": "2023-09-04T09:29:19.507Z"
   },
   {
    "duration": 5,
    "start_time": "2023-09-04T09:29:19.528Z"
   },
   {
    "duration": 24,
    "start_time": "2023-09-04T09:29:19.535Z"
   },
   {
    "duration": 18,
    "start_time": "2023-09-04T09:29:19.560Z"
   },
   {
    "duration": 38,
    "start_time": "2023-09-04T09:29:19.580Z"
   },
   {
    "duration": 15,
    "start_time": "2023-09-04T09:29:19.620Z"
   },
   {
    "duration": 147,
    "start_time": "2023-09-04T09:29:19.638Z"
   },
   {
    "duration": 29,
    "start_time": "2023-09-04T09:29:19.787Z"
   },
   {
    "duration": 39,
    "start_time": "2023-09-04T09:29:19.818Z"
   },
   {
    "duration": 13,
    "start_time": "2023-09-04T09:29:19.859Z"
   },
   {
    "duration": 14,
    "start_time": "2023-09-04T09:29:19.873Z"
   },
   {
    "duration": 272,
    "start_time": "2023-09-04T09:29:19.890Z"
   },
   {
    "duration": 379,
    "start_time": "2023-09-04T09:29:20.164Z"
   },
   {
    "duration": 193,
    "start_time": "2023-09-04T09:29:20.559Z"
   },
   {
    "duration": 23,
    "start_time": "2023-09-04T09:29:20.754Z"
   },
   {
    "duration": 26,
    "start_time": "2023-09-04T09:29:20.778Z"
   },
   {
    "duration": 30,
    "start_time": "2023-09-04T09:29:20.806Z"
   },
   {
    "duration": 400,
    "start_time": "2023-09-04T09:29:20.838Z"
   },
   {
    "duration": 315,
    "start_time": "2023-09-04T09:29:21.240Z"
   },
   {
    "duration": 7,
    "start_time": "2023-09-04T09:29:21.557Z"
   },
   {
    "duration": 196,
    "start_time": "2023-09-04T09:29:21.565Z"
   },
   {
    "duration": 273,
    "start_time": "2023-09-04T09:29:21.763Z"
   },
   {
    "duration": 5,
    "start_time": "2023-09-04T09:29:22.037Z"
   },
   {
    "duration": 6,
    "start_time": "2023-09-04T09:29:22.043Z"
   },
   {
    "duration": 9,
    "start_time": "2023-09-04T09:29:22.051Z"
   },
   {
    "duration": 19,
    "start_time": "2023-09-04T09:29:22.061Z"
   },
   {
    "duration": 38,
    "start_time": "2023-09-04T09:29:22.081Z"
   },
   {
    "duration": 443,
    "start_time": "2023-09-04T09:29:22.121Z"
   },
   {
    "duration": 480,
    "start_time": "2023-09-04T09:29:22.566Z"
   },
   {
    "duration": 424,
    "start_time": "2023-09-04T09:29:23.048Z"
   },
   {
    "duration": 8,
    "start_time": "2023-09-04T09:29:23.474Z"
   },
   {
    "duration": 39,
    "start_time": "2023-09-04T09:29:23.484Z"
   },
   {
    "duration": 24,
    "start_time": "2023-09-04T09:29:23.526Z"
   },
   {
    "duration": 37,
    "start_time": "2023-09-04T09:29:23.552Z"
   },
   {
    "duration": 4,
    "start_time": "2023-09-04T09:29:34.536Z"
   },
   {
    "duration": 54,
    "start_time": "2023-09-04T09:29:35.219Z"
   },
   {
    "duration": 15,
    "start_time": "2023-09-04T09:29:36.226Z"
   },
   {
    "duration": 5,
    "start_time": "2023-09-04T09:29:36.316Z"
   },
   {
    "duration": 28,
    "start_time": "2023-09-04T09:29:36.392Z"
   },
   {
    "duration": 18,
    "start_time": "2023-09-04T09:29:36.477Z"
   },
   {
    "duration": 11,
    "start_time": "2023-09-04T09:29:36.813Z"
   },
   {
    "duration": 5,
    "start_time": "2023-09-04T09:29:37.383Z"
   },
   {
    "duration": 7,
    "start_time": "2023-09-04T09:29:37.961Z"
   },
   {
    "duration": 8,
    "start_time": "2023-09-04T09:29:38.045Z"
   },
   {
    "duration": 11,
    "start_time": "2023-09-04T09:29:38.214Z"
   },
   {
    "duration": 5,
    "start_time": "2023-09-04T09:29:39.661Z"
   },
   {
    "duration": 5,
    "start_time": "2023-09-04T09:29:39.745Z"
   },
   {
    "duration": 234,
    "start_time": "2023-09-04T09:29:40.331Z"
   },
   {
    "duration": 355,
    "start_time": "2023-09-04T09:29:40.830Z"
   },
   {
    "duration": 176,
    "start_time": "2023-09-04T09:29:41.187Z"
   },
   {
    "duration": 22,
    "start_time": "2023-09-04T09:29:41.365Z"
   },
   {
    "duration": 5,
    "start_time": "2023-09-04T09:29:41.669Z"
   },
   {
    "duration": 17,
    "start_time": "2023-09-04T09:29:41.752Z"
   },
   {
    "duration": 471,
    "start_time": "2023-09-04T09:29:42.009Z"
   },
   {
    "duration": 341,
    "start_time": "2023-09-04T09:29:42.483Z"
   },
   {
    "duration": 7,
    "start_time": "2023-09-04T09:29:42.826Z"
   },
   {
    "duration": 190,
    "start_time": "2023-09-04T09:29:42.834Z"
   },
   {
    "duration": 180,
    "start_time": "2023-09-04T09:29:43.027Z"
   },
   {
    "duration": 13,
    "start_time": "2023-09-04T09:29:43.210Z"
   },
   {
    "duration": 19,
    "start_time": "2023-09-04T09:29:43.225Z"
   },
   {
    "duration": 10,
    "start_time": "2023-09-04T09:29:43.421Z"
   },
   {
    "duration": 6,
    "start_time": "2023-09-04T09:29:43.755Z"
   },
   {
    "duration": 15,
    "start_time": "2023-09-04T09:29:43.839Z"
   },
   {
    "duration": 487,
    "start_time": "2023-09-04T09:29:44.266Z"
   },
   {
    "duration": 533,
    "start_time": "2023-09-04T09:29:44.755Z"
   },
   {
    "duration": 432,
    "start_time": "2023-09-04T09:29:45.290Z"
   },
   {
    "duration": 11,
    "start_time": "2023-09-04T09:29:45.725Z"
   },
   {
    "duration": 12,
    "start_time": "2023-09-04T09:29:45.737Z"
   },
   {
    "duration": 17,
    "start_time": "2023-09-04T09:29:45.751Z"
   },
   {
    "duration": 9,
    "start_time": "2023-09-04T09:29:45.842Z"
   },
   {
    "duration": 83,
    "start_time": "2023-09-04T09:36:11.229Z"
   },
   {
    "duration": 490,
    "start_time": "2023-09-04T09:36:21.932Z"
   },
   {
    "duration": 371,
    "start_time": "2023-09-04T09:36:28.680Z"
   },
   {
    "duration": 51,
    "start_time": "2023-09-04T09:39:28.402Z"
   },
   {
    "duration": 53,
    "start_time": "2023-09-04T09:46:53.795Z"
   },
   {
    "duration": 97,
    "start_time": "2023-09-04T09:56:32.827Z"
   },
   {
    "duration": 107,
    "start_time": "2023-09-04T10:13:13.366Z"
   },
   {
    "duration": 161,
    "start_time": "2023-09-04T10:14:41.584Z"
   },
   {
    "duration": 189,
    "start_time": "2023-09-04T10:15:29.879Z"
   },
   {
    "duration": 221,
    "start_time": "2023-09-04T10:16:06.847Z"
   },
   {
    "duration": 615,
    "start_time": "2023-09-04T10:17:24.366Z"
   },
   {
    "duration": 187,
    "start_time": "2023-09-04T10:17:50.081Z"
   },
   {
    "duration": 260,
    "start_time": "2023-09-04T10:18:05.702Z"
   },
   {
    "duration": 370,
    "start_time": "2023-09-04T10:18:09.702Z"
   },
   {
    "duration": 263,
    "start_time": "2023-09-04T10:18:19.033Z"
   },
   {
    "duration": 265,
    "start_time": "2023-09-04T10:18:33.620Z"
   },
   {
    "duration": 181,
    "start_time": "2023-09-04T10:19:01.171Z"
   },
   {
    "duration": 5,
    "start_time": "2023-09-04T10:19:28.158Z"
   },
   {
    "duration": 206,
    "start_time": "2023-09-04T10:19:40.416Z"
   },
   {
    "duration": 188,
    "start_time": "2023-09-04T10:19:57.478Z"
   },
   {
    "duration": 183,
    "start_time": "2023-09-04T10:20:05.445Z"
   },
   {
    "duration": 14,
    "start_time": "2023-09-04T10:21:02.406Z"
   },
   {
    "duration": 197,
    "start_time": "2023-09-04T10:21:05.252Z"
   },
   {
    "duration": 3330,
    "start_time": "2023-09-04T10:21:37.677Z"
   },
   {
    "duration": 211,
    "start_time": "2023-09-04T10:21:49.621Z"
   },
   {
    "duration": 405,
    "start_time": "2023-09-04T10:24:23.076Z"
   },
   {
    "duration": 2477,
    "start_time": "2023-09-04T10:28:10.367Z"
   },
   {
    "duration": 420,
    "start_time": "2023-09-04T10:28:27.188Z"
   },
   {
    "duration": 416,
    "start_time": "2023-09-04T10:28:35.479Z"
   },
   {
    "duration": 395,
    "start_time": "2023-09-04T10:29:01.846Z"
   },
   {
    "duration": 397,
    "start_time": "2023-09-04T10:29:53.107Z"
   },
   {
    "duration": 102,
    "start_time": "2023-09-04T12:44:35.726Z"
   },
   {
    "duration": 53,
    "start_time": "2023-09-04T12:45:18.570Z"
   },
   {
    "duration": 1349,
    "start_time": "2023-09-04T12:45:35.823Z"
   },
   {
    "duration": 182,
    "start_time": "2023-09-04T12:45:37.174Z"
   },
   {
    "duration": 14,
    "start_time": "2023-09-04T12:45:37.358Z"
   },
   {
    "duration": 20,
    "start_time": "2023-09-04T12:45:37.374Z"
   },
   {
    "duration": 26,
    "start_time": "2023-09-04T12:45:37.396Z"
   },
   {
    "duration": 16,
    "start_time": "2023-09-04T12:45:37.423Z"
   },
   {
    "duration": 15,
    "start_time": "2023-09-04T12:45:37.440Z"
   },
   {
    "duration": 11,
    "start_time": "2023-09-04T12:45:37.457Z"
   },
   {
    "duration": 9,
    "start_time": "2023-09-04T12:45:37.470Z"
   },
   {
    "duration": 13,
    "start_time": "2023-09-04T12:45:37.482Z"
   },
   {
    "duration": 10,
    "start_time": "2023-09-04T12:45:37.497Z"
   },
   {
    "duration": 6,
    "start_time": "2023-09-04T12:45:37.508Z"
   },
   {
    "duration": 9,
    "start_time": "2023-09-04T12:45:37.515Z"
   },
   {
    "duration": 253,
    "start_time": "2023-09-04T12:45:37.525Z"
   },
   {
    "duration": 336,
    "start_time": "2023-09-04T12:45:37.780Z"
   },
   {
    "duration": 150,
    "start_time": "2023-09-04T12:45:38.117Z"
   },
   {
    "duration": 19,
    "start_time": "2023-09-04T12:45:38.269Z"
   },
   {
    "duration": 26,
    "start_time": "2023-09-04T12:45:38.290Z"
   },
   {
    "duration": 21,
    "start_time": "2023-09-04T12:45:38.318Z"
   },
   {
    "duration": 336,
    "start_time": "2023-09-04T12:45:38.341Z"
   },
   {
    "duration": 270,
    "start_time": "2023-09-04T12:45:38.679Z"
   },
   {
    "duration": 15,
    "start_time": "2023-09-04T12:45:38.951Z"
   },
   {
    "duration": 156,
    "start_time": "2023-09-04T12:45:38.968Z"
   },
   {
    "duration": 235,
    "start_time": "2023-09-04T12:45:39.125Z"
   },
   {
    "duration": 6,
    "start_time": "2023-09-04T12:45:39.361Z"
   },
   {
    "duration": 16,
    "start_time": "2023-09-04T12:45:39.369Z"
   },
   {
    "duration": 23,
    "start_time": "2023-09-04T12:45:39.387Z"
   },
   {
    "duration": 22,
    "start_time": "2023-09-04T12:45:39.413Z"
   },
   {
    "duration": 24,
    "start_time": "2023-09-04T12:45:39.436Z"
   },
   {
    "duration": 62,
    "start_time": "2023-09-04T12:45:39.463Z"
   },
   {
    "duration": 347,
    "start_time": "2023-09-04T12:45:39.527Z"
   },
   {
    "duration": 353,
    "start_time": "2023-09-04T12:45:39.876Z"
   },
   {
    "duration": 0,
    "start_time": "2023-09-04T12:45:40.230Z"
   },
   {
    "duration": 0,
    "start_time": "2023-09-04T12:45:40.232Z"
   },
   {
    "duration": 0,
    "start_time": "2023-09-04T12:45:40.233Z"
   },
   {
    "duration": 0,
    "start_time": "2023-09-04T12:45:40.235Z"
   },
   {
    "duration": 0,
    "start_time": "2023-09-04T12:45:40.237Z"
   },
   {
    "duration": 0,
    "start_time": "2023-09-04T12:45:40.239Z"
   },
   {
    "duration": 0,
    "start_time": "2023-09-04T12:45:40.240Z"
   },
   {
    "duration": 0,
    "start_time": "2023-09-04T12:45:40.242Z"
   },
   {
    "duration": 0,
    "start_time": "2023-09-04T12:45:40.243Z"
   },
   {
    "duration": 0,
    "start_time": "2023-09-04T12:45:40.244Z"
   },
   {
    "duration": 0,
    "start_time": "2023-09-04T12:45:40.267Z"
   },
   {
    "duration": 257,
    "start_time": "2023-09-04T12:45:58.739Z"
   },
   {
    "duration": 393,
    "start_time": "2023-09-04T12:46:13.094Z"
   },
   {
    "duration": 397,
    "start_time": "2023-09-04T12:49:04.319Z"
   },
   {
    "duration": 506,
    "start_time": "2023-09-04T12:49:14.089Z"
   },
   {
    "duration": 478,
    "start_time": "2023-09-04T12:53:04.112Z"
   },
   {
    "duration": 390,
    "start_time": "2023-09-04T12:53:23.235Z"
   },
   {
    "duration": 270,
    "start_time": "2023-09-04T12:54:54.544Z"
   },
   {
    "duration": 328,
    "start_time": "2023-09-04T12:55:50.807Z"
   },
   {
    "duration": 275,
    "start_time": "2023-09-04T12:56:22.365Z"
   },
   {
    "duration": 271,
    "start_time": "2023-09-04T12:57:20.889Z"
   },
   {
    "duration": 408,
    "start_time": "2023-09-04T12:57:40.814Z"
   },
   {
    "duration": 259,
    "start_time": "2023-09-04T12:57:54.211Z"
   },
   {
    "duration": 385,
    "start_time": "2023-09-04T12:58:02.996Z"
   },
   {
    "duration": 348,
    "start_time": "2023-09-04T12:58:11.869Z"
   },
   {
    "duration": 373,
    "start_time": "2023-09-04T12:58:20.890Z"
   },
   {
    "duration": 447,
    "start_time": "2023-09-04T12:58:37.580Z"
   },
   {
    "duration": 396,
    "start_time": "2023-09-04T12:58:43.935Z"
   },
   {
    "duration": 355,
    "start_time": "2023-09-04T12:59:18.162Z"
   },
   {
    "duration": 425,
    "start_time": "2023-09-04T13:00:23.658Z"
   },
   {
    "duration": 433,
    "start_time": "2023-09-04T13:02:07.537Z"
   },
   {
    "duration": 416,
    "start_time": "2023-09-04T13:02:12.746Z"
   },
   {
    "duration": 546,
    "start_time": "2023-09-04T13:02:18.583Z"
   },
   {
    "duration": 409,
    "start_time": "2023-09-04T13:02:24.306Z"
   },
   {
    "duration": 4,
    "start_time": "2023-09-04T13:02:56.773Z"
   },
   {
    "duration": 54,
    "start_time": "2023-09-04T13:02:57.333Z"
   },
   {
    "duration": 15,
    "start_time": "2023-09-04T13:02:57.585Z"
   },
   {
    "duration": 5,
    "start_time": "2023-09-04T13:02:57.683Z"
   },
   {
    "duration": 18,
    "start_time": "2023-09-04T13:02:57.773Z"
   },
   {
    "duration": 18,
    "start_time": "2023-09-04T13:02:57.850Z"
   },
   {
    "duration": 11,
    "start_time": "2023-09-04T13:02:58.173Z"
   },
   {
    "duration": 5,
    "start_time": "2023-09-04T13:02:58.342Z"
   },
   {
    "duration": 7,
    "start_time": "2023-09-04T13:02:58.566Z"
   },
   {
    "duration": 11,
    "start_time": "2023-09-04T13:02:58.613Z"
   },
   {
    "duration": 7,
    "start_time": "2023-09-04T13:02:58.768Z"
   },
   {
    "duration": 6,
    "start_time": "2023-09-04T13:02:59.091Z"
   },
   {
    "duration": 6,
    "start_time": "2023-09-04T13:02:59.179Z"
   },
   {
    "duration": 214,
    "start_time": "2023-09-04T13:02:59.764Z"
   },
   {
    "duration": 341,
    "start_time": "2023-09-04T13:03:00.260Z"
   },
   {
    "duration": 188,
    "start_time": "2023-09-04T13:03:00.604Z"
   },
   {
    "duration": 25,
    "start_time": "2023-09-04T13:03:00.795Z"
   },
   {
    "duration": 6,
    "start_time": "2023-09-04T13:03:01.095Z"
   },
   {
    "duration": 19,
    "start_time": "2023-09-04T13:03:01.182Z"
   },
   {
    "duration": 342,
    "start_time": "2023-09-04T13:03:01.445Z"
   },
   {
    "duration": 305,
    "start_time": "2023-09-04T13:03:01.789Z"
   },
   {
    "duration": 7,
    "start_time": "2023-09-04T13:03:02.096Z"
   },
   {
    "duration": 462,
    "start_time": "2023-09-04T13:03:02.105Z"
   },
   {
    "duration": 176,
    "start_time": "2023-09-04T13:03:02.569Z"
   },
   {
    "duration": 5,
    "start_time": "2023-09-04T13:03:02.747Z"
   },
   {
    "duration": 7,
    "start_time": "2023-09-04T13:03:02.766Z"
   },
   {
    "duration": 12,
    "start_time": "2023-09-04T13:03:02.843Z"
   },
   {
    "duration": 8,
    "start_time": "2023-09-04T13:03:03.203Z"
   },
   {
    "duration": 17,
    "start_time": "2023-09-04T13:03:03.266Z"
   },
   {
    "duration": 55,
    "start_time": "2023-09-04T13:03:03.512Z"
   },
   {
    "duration": 350,
    "start_time": "2023-09-04T13:03:04.428Z"
   },
   {
    "duration": 429,
    "start_time": "2023-09-04T13:03:05.256Z"
   },
   {
    "duration": 422,
    "start_time": "2023-09-04T13:03:05.688Z"
   },
   {
    "duration": 331,
    "start_time": "2023-09-04T13:03:07.029Z"
   },
   {
    "duration": 8,
    "start_time": "2023-09-04T13:03:09.114Z"
   },
   {
    "duration": 8,
    "start_time": "2023-09-04T13:03:10.039Z"
   },
   {
    "duration": 7,
    "start_time": "2023-09-04T13:03:10.823Z"
   },
   {
    "duration": 11,
    "start_time": "2023-09-04T13:03:12.043Z"
   },
   {
    "duration": 107,
    "start_time": "2023-09-04T13:13:07.173Z"
   },
   {
    "duration": 121,
    "start_time": "2023-09-04T13:18:01.112Z"
   },
   {
    "duration": 1140,
    "start_time": "2023-09-04T13:21:42.422Z"
   },
   {
    "duration": 55,
    "start_time": "2023-09-04T13:21:43.564Z"
   },
   {
    "duration": 14,
    "start_time": "2023-09-04T13:21:43.621Z"
   },
   {
    "duration": 5,
    "start_time": "2023-09-04T13:21:43.637Z"
   },
   {
    "duration": 19,
    "start_time": "2023-09-04T13:21:43.644Z"
   },
   {
    "duration": 22,
    "start_time": "2023-09-04T13:21:43.664Z"
   },
   {
    "duration": 12,
    "start_time": "2023-09-04T13:21:43.688Z"
   },
   {
    "duration": 13,
    "start_time": "2023-09-04T13:21:43.702Z"
   },
   {
    "duration": 9,
    "start_time": "2023-09-04T13:21:43.717Z"
   },
   {
    "duration": 9,
    "start_time": "2023-09-04T13:21:43.728Z"
   },
   {
    "duration": 5,
    "start_time": "2023-09-04T13:21:43.738Z"
   },
   {
    "duration": 6,
    "start_time": "2023-09-04T13:21:43.745Z"
   },
   {
    "duration": 29,
    "start_time": "2023-09-04T13:21:43.752Z"
   },
   {
    "duration": 250,
    "start_time": "2023-09-04T13:21:43.784Z"
   },
   {
    "duration": 355,
    "start_time": "2023-09-04T13:21:44.036Z"
   },
   {
    "duration": 151,
    "start_time": "2023-09-04T13:21:44.393Z"
   },
   {
    "duration": 36,
    "start_time": "2023-09-04T13:21:44.546Z"
   },
   {
    "duration": 5,
    "start_time": "2023-09-04T13:21:44.584Z"
   },
   {
    "duration": 32,
    "start_time": "2023-09-04T13:21:44.590Z"
   },
   {
    "duration": 358,
    "start_time": "2023-09-04T13:21:44.623Z"
   },
   {
    "duration": 334,
    "start_time": "2023-09-04T13:21:44.983Z"
   },
   {
    "duration": 7,
    "start_time": "2023-09-04T13:21:45.318Z"
   },
   {
    "duration": 182,
    "start_time": "2023-09-04T13:21:45.327Z"
   },
   {
    "duration": 276,
    "start_time": "2023-09-04T13:21:45.511Z"
   },
   {
    "duration": 6,
    "start_time": "2023-09-04T13:21:45.790Z"
   },
   {
    "duration": 12,
    "start_time": "2023-09-04T13:21:45.798Z"
   },
   {
    "duration": 16,
    "start_time": "2023-09-04T13:21:45.811Z"
   },
   {
    "duration": 28,
    "start_time": "2023-09-04T13:21:45.829Z"
   },
   {
    "duration": 29,
    "start_time": "2023-09-04T13:21:45.858Z"
   },
   {
    "duration": 62,
    "start_time": "2023-09-04T13:21:45.889Z"
   },
   {
    "duration": 328,
    "start_time": "2023-09-04T13:21:45.953Z"
   },
   {
    "duration": 442,
    "start_time": "2023-09-04T13:21:46.283Z"
   },
   {
    "duration": 466,
    "start_time": "2023-09-04T13:21:46.727Z"
   },
   {
    "duration": 362,
    "start_time": "2023-09-04T13:21:47.195Z"
   },
   {
    "duration": 14,
    "start_time": "2023-09-04T13:21:47.559Z"
   },
   {
    "duration": 10,
    "start_time": "2023-09-04T13:21:47.576Z"
   },
   {
    "duration": 18,
    "start_time": "2023-09-04T13:21:47.587Z"
   },
   {
    "duration": 16,
    "start_time": "2023-09-04T13:21:47.607Z"
   },
   {
    "duration": 4,
    "start_time": "2023-09-04T13:22:05.146Z"
   },
   {
    "duration": 52,
    "start_time": "2023-09-04T13:22:05.893Z"
   },
   {
    "duration": 16,
    "start_time": "2023-09-04T13:22:07.992Z"
   },
   {
    "duration": 4,
    "start_time": "2023-09-04T13:22:08.512Z"
   },
   {
    "duration": 15,
    "start_time": "2023-09-04T13:22:08.591Z"
   },
   {
    "duration": 16,
    "start_time": "2023-09-04T13:22:08.683Z"
   },
   {
    "duration": 9,
    "start_time": "2023-09-04T13:22:08.982Z"
   },
   {
    "duration": 5,
    "start_time": "2023-09-04T13:22:09.153Z"
   },
   {
    "duration": 6,
    "start_time": "2023-09-04T13:22:09.311Z"
   },
   {
    "duration": 8,
    "start_time": "2023-09-04T13:22:09.454Z"
   },
   {
    "duration": 6,
    "start_time": "2023-09-04T13:22:09.593Z"
   },
   {
    "duration": 6,
    "start_time": "2023-09-04T13:22:09.897Z"
   },
   {
    "duration": 5,
    "start_time": "2023-09-04T13:22:09.983Z"
   },
   {
    "duration": 234,
    "start_time": "2023-09-04T13:22:10.569Z"
   },
   {
    "duration": 451,
    "start_time": "2023-09-04T13:22:11.058Z"
   },
   {
    "duration": 160,
    "start_time": "2023-09-04T13:22:11.511Z"
   },
   {
    "duration": 23,
    "start_time": "2023-09-04T13:22:11.674Z"
   },
   {
    "duration": 5,
    "start_time": "2023-09-04T13:22:11.904Z"
   },
   {
    "duration": 17,
    "start_time": "2023-09-04T13:22:11.979Z"
   },
   {
    "duration": 344,
    "start_time": "2023-09-04T13:22:12.248Z"
   },
   {
    "duration": 312,
    "start_time": "2023-09-04T13:22:12.593Z"
   },
   {
    "duration": 8,
    "start_time": "2023-09-04T13:22:12.907Z"
   },
   {
    "duration": 167,
    "start_time": "2023-09-04T13:22:12.916Z"
   },
   {
    "duration": 167,
    "start_time": "2023-09-04T13:22:13.087Z"
   },
   {
    "duration": 14,
    "start_time": "2023-09-04T13:22:13.257Z"
   },
   {
    "duration": 5,
    "start_time": "2023-09-04T13:22:13.432Z"
   },
   {
    "duration": 9,
    "start_time": "2023-09-04T13:22:13.652Z"
   },
   {
    "duration": 6,
    "start_time": "2023-09-04T13:22:13.984Z"
   },
   {
    "duration": 17,
    "start_time": "2023-09-04T13:22:14.082Z"
   },
   {
    "duration": 35,
    "start_time": "2023-09-04T13:22:14.319Z"
   },
   {
    "duration": 315,
    "start_time": "2023-09-04T13:22:14.557Z"
   },
   {
    "duration": 418,
    "start_time": "2023-09-04T13:22:14.877Z"
   },
   {
    "duration": 548,
    "start_time": "2023-09-04T13:22:15.297Z"
   },
   {
    "duration": 364,
    "start_time": "2023-09-04T13:22:15.847Z"
   },
   {
    "duration": 8,
    "start_time": "2023-09-04T13:22:16.213Z"
   },
   {
    "duration": 6,
    "start_time": "2023-09-04T13:22:16.261Z"
   },
   {
    "duration": 7,
    "start_time": "2023-09-04T13:22:16.443Z"
   },
   {
    "duration": 9,
    "start_time": "2023-09-04T13:22:16.643Z"
   },
   {
    "duration": 1214,
    "start_time": "2023-09-04T18:07:53.809Z"
   },
   {
    "duration": 105,
    "start_time": "2023-09-04T18:07:55.025Z"
   },
   {
    "duration": 16,
    "start_time": "2023-09-04T18:07:55.131Z"
   },
   {
    "duration": 10,
    "start_time": "2023-09-04T18:07:55.149Z"
   },
   {
    "duration": 27,
    "start_time": "2023-09-04T18:07:55.161Z"
   },
   {
    "duration": 17,
    "start_time": "2023-09-04T18:07:55.189Z"
   },
   {
    "duration": 29,
    "start_time": "2023-09-04T18:07:55.209Z"
   },
   {
    "duration": 9,
    "start_time": "2023-09-04T18:07:55.240Z"
   },
   {
    "duration": 14,
    "start_time": "2023-09-04T18:07:55.250Z"
   },
   {
    "duration": 26,
    "start_time": "2023-09-04T18:07:55.266Z"
   },
   {
    "duration": 6,
    "start_time": "2023-09-04T18:07:55.294Z"
   },
   {
    "duration": 5,
    "start_time": "2023-09-04T18:07:55.301Z"
   },
   {
    "duration": 10,
    "start_time": "2023-09-04T18:07:55.308Z"
   },
   {
    "duration": 245,
    "start_time": "2023-09-04T18:07:55.321Z"
   },
   {
    "duration": 344,
    "start_time": "2023-09-04T18:07:55.568Z"
   },
   {
    "duration": 167,
    "start_time": "2023-09-04T18:07:55.914Z"
   },
   {
    "duration": 22,
    "start_time": "2023-09-04T18:07:56.083Z"
   },
   {
    "duration": 6,
    "start_time": "2023-09-04T18:07:56.107Z"
   },
   {
    "duration": 23,
    "start_time": "2023-09-04T18:07:56.115Z"
   },
   {
    "duration": 401,
    "start_time": "2023-09-04T18:07:56.140Z"
   },
   {
    "duration": 329,
    "start_time": "2023-09-04T18:07:56.543Z"
   },
   {
    "duration": 12,
    "start_time": "2023-09-04T18:07:56.873Z"
   },
   {
    "duration": 172,
    "start_time": "2023-09-04T18:07:56.887Z"
   },
   {
    "duration": 270,
    "start_time": "2023-09-04T18:07:57.061Z"
   },
   {
    "duration": 7,
    "start_time": "2023-09-04T18:07:57.333Z"
   },
   {
    "duration": 15,
    "start_time": "2023-09-04T18:07:57.342Z"
   },
   {
    "duration": 24,
    "start_time": "2023-09-04T18:07:57.360Z"
   },
   {
    "duration": 8,
    "start_time": "2023-09-04T18:07:57.389Z"
   },
   {
    "duration": 17,
    "start_time": "2023-09-04T18:07:57.399Z"
   },
   {
    "duration": 83,
    "start_time": "2023-09-04T18:07:57.418Z"
   },
   {
    "duration": 353,
    "start_time": "2023-09-04T18:07:57.504Z"
   },
   {
    "duration": 413,
    "start_time": "2023-09-04T18:07:57.859Z"
   },
   {
    "duration": 427,
    "start_time": "2023-09-04T18:07:58.274Z"
   },
   {
    "duration": 359,
    "start_time": "2023-09-04T18:07:58.702Z"
   },
   {
    "duration": 8,
    "start_time": "2023-09-04T18:07:59.062Z"
   },
   {
    "duration": 7,
    "start_time": "2023-09-04T18:07:59.081Z"
   },
   {
    "duration": 7,
    "start_time": "2023-09-04T18:07:59.090Z"
   },
   {
    "duration": 14,
    "start_time": "2023-09-04T18:07:59.099Z"
   }
  ],
  "kernelspec": {
   "display_name": "Python 3.10.8 64-bit",
   "language": "python",
   "name": "python3"
  },
  "language_info": {
   "codemirror_mode": {
    "name": "ipython",
    "version": 3
   },
   "file_extension": ".py",
   "mimetype": "text/x-python",
   "name": "python",
   "nbconvert_exporter": "python",
   "pygments_lexer": "ipython3",
   "version": "3.10.8"
  },
  "toc": {
   "base_numbering": 1,
   "nav_menu": {},
   "number_sections": true,
   "sideBar": true,
   "skip_h1_title": true,
   "title_cell": "Table of Contents",
   "title_sidebar": "Contents",
   "toc_cell": false,
   "toc_position": {
    "height": "calc(100% - 180px)",
    "left": "10px",
    "top": "150px",
    "width": "339.878px"
   },
   "toc_section_display": true,
   "toc_window_display": true
  },
  "vscode": {
   "interpreter": {
    "hash": "7e1998ff7f8aa20ada591c520b972326324e5ea05489af9e422744c7c09f6dad"
   }
  }
 },
 "nbformat": 4,
 "nbformat_minor": 2
}
